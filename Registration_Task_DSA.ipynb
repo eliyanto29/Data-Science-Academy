{
  "nbformat": 4,
  "nbformat_minor": 0,
  "metadata": {
    "colab": {
      "name": "Registration Task DSA",
      "provenance": [],
      "collapsed_sections": [
        "kLZ_2hUIk6sn",
        "BmPQ0airW-o7"
      ],
      "include_colab_link": true
    },
    "kernelspec": {
      "name": "python3",
      "display_name": "Python 3"
    },
    "accelerator": "GPU"
  },
  "cells": [
    {
      "cell_type": "markdown",
      "metadata": {
        "id": "view-in-github",
        "colab_type": "text"
      },
      "source": [
        "<a href=\"https://colab.research.google.com/github/eliyanto29/Data-Science-Academy/blob/master/Registration_Task_DSA.ipynb\" target=\"_parent\"><img src=\"https://colab.research.google.com/assets/colab-badge.svg\" alt=\"Open In Colab\"/></a>"
      ]
    },
    {
      "cell_type": "markdown",
      "metadata": {
        "id": "kLZ_2hUIk6sn",
        "colab_type": "text"
      },
      "source": [
        "# **DATASET**\n"
      ]
    },
    {
      "cell_type": "markdown",
      "metadata": {
        "id": "FYaAntbsnEQ0",
        "colab_type": "text"
      },
      "source": [
        "\n",
        "Didapatkan dari https://www.kaggle.com/avikasliwal/used-cars-price-prediction?select=train-data.csv dengan sedikit modifikasi.\n",
        "Dataset merupakan data mobil bekas yang terdapat di india yang terdiri 6019 baris dan 12 kolom. Kolom yang terdapat pada dataset meliputi:\n",
        "\n",
        "* **Name**              : Nama merek dan model mobil\n",
        "\n",
        "* **Location**          : Lokasi mobil dijual\n",
        "\n",
        "* **Year**              : Tahun edisi mobil\n",
        "\n",
        "* **Kilometers_Driven** : Total jarak pemakaian mobil oleh pengguna sebelumnya dalam satuan kilometer\n",
        "\n",
        "* **Fuel_Type**         : Tipe bahan bakar yang digunakan mobil (Petrol/Diesel/Electric/CNG/LPG)\n",
        "\n",
        "* **Transmission**      : Tipe transmisi yang digunakan mobil (Automatic/Manual)\n",
        "\n",
        "* **Owner_Type**        : Jenis kepemilikan mobil (First/Second/Third/Fourth & Above)\n",
        "\n",
        "* **Mileage**           : Tingkat konsumsi bahan bakar dalam satuan kmpl atau km/kg\n",
        "\n",
        "* **Engine**            : Kapasitas mesin mobil dalam satuan CC\n",
        "\n",
        "* **Power**             : Tenaga maksimum dari mesin mobil dalam satuan bph\n",
        "\n",
        "* **Seats**             : Jumlahlah kursi pada mobil\n",
        "\n",
        "* **Price**             : Harga mobil bekas dalam satuan INR Lakhs (Indian Rupee)\n",
        "\n"
      ]
    },
    {
      "cell_type": "markdown",
      "metadata": {
        "id": "BmPQ0airW-o7",
        "colab_type": "text"
      },
      "source": [
        "# Soal:"
      ]
    },
    {
      "cell_type": "markdown",
      "metadata": {
        "id": "nPcmpA8nnIrh",
        "colab_type": "text"
      },
      "source": [
        "\n",
        "1. Merek mobil apa saja yang tersedia dan ada berapa banyak mobil untuk tiap merek\n",
        "tersebut?\n",
        "2. Kota apa yang memiliki mobil bekas paling banyak?\n",
        "3. Bagaimana distribusi tahun edisi mobil-mobil bekas tersebut?\n",
        "4. Berapa banyak mobil yang memiliki total jarak pemakaian di bawah 100.000 kilometer?\n",
        "5. Pada batas berapa kilometer total jarak pemakaian bisa dikategorikan sebagai rendah\n",
        "atau tinggi? Sertakan argumen yang mendukung jawaban.\n",
        "6. Apakah terdapat outlier pada kolom Kilometers_Driven? Sertakan argumen yang\n",
        "mendukung jawaban.\n",
        "7. Apakah tahun pembuatan mobil berpengaruh terhadap total jarak pemakaian? Sertakan\n",
        "argumen yang mendukung jawaban.\n",
        "8. Berapa banyak mobil yang merupakan kepemilikan ketiga atau lebih?\n",
        "9. Tipe bahan bakar apa yang memiliki mileage (konsumsi bahan bakar) paling hemat?\n",
        "10. Apa saja faktor-faktor yang mempengaruhi harga mobil bekas di India? Sertakan\n",
        "argumen yang mendukung jawaban.\n",
        "\n",
        "Selain dari 10 soal di atas, kalian dianjurkan untuk membuat analisis-analisis tambahan\n",
        "mengenai dataset tersebut untuk mendapatkan insight yang lebih banyak."
      ]
    },
    {
      "cell_type": "markdown",
      "metadata": {
        "id": "lbES8y5E6RuJ",
        "colab_type": "text"
      },
      "source": [
        "# **Preparation**"
      ]
    },
    {
      "cell_type": "markdown",
      "metadata": {
        "id": "A7URqVIig7PO",
        "colab_type": "text"
      },
      "source": [
        "Mengimpor modul yang digunakan"
      ]
    },
    {
      "cell_type": "code",
      "metadata": {
        "id": "05mIQACSm1l_",
        "colab_type": "code",
        "colab": {
          "base_uri": "https://localhost:8080/",
          "height": 71
        },
        "outputId": "8332d316-93c4-4b16-fd5b-f1beaa8e7fb3"
      },
      "source": [
        "import pandas as pd\n",
        "import numpy as np\n",
        "import seaborn as sns\n",
        "import matplotlib.pyplot as plt"
      ],
      "execution_count": null,
      "outputs": [
        {
          "output_type": "stream",
          "text": [
            "/usr/local/lib/python3.6/dist-packages/statsmodels/tools/_testing.py:19: FutureWarning: pandas.util.testing is deprecated. Use the functions in the public API at pandas.testing instead.\n",
            "  import pandas.util.testing as tm\n"
          ],
          "name": "stderr"
        }
      ]
    },
    {
      "cell_type": "markdown",
      "metadata": {
        "id": "CRttSvdm6W6I",
        "colab_type": "text"
      },
      "source": [
        "Membuka dataset"
      ]
    },
    {
      "cell_type": "code",
      "metadata": {
        "id": "ax3B0QianmoB",
        "colab_type": "code",
        "colab": {}
      },
      "source": [
        "cars = pd.read_csv('https://raw.githubusercontent.com/eliyanto29/Data-Science-Academy/master/used_car_data.csv')"
      ],
      "execution_count": null,
      "outputs": []
    },
    {
      "cell_type": "code",
      "metadata": {
        "id": "mOAx7urQnwC8",
        "colab_type": "code",
        "colab": {
          "base_uri": "https://localhost:8080/",
          "height": 762
        },
        "outputId": "d4b099bd-9f87-4689-e64d-d68668ead17d"
      },
      "source": [
        "cars"
      ],
      "execution_count": null,
      "outputs": [
        {
          "output_type": "execute_result",
          "data": {
            "text/html": [
              "<div>\n",
              "<style scoped>\n",
              "    .dataframe tbody tr th:only-of-type {\n",
              "        vertical-align: middle;\n",
              "    }\n",
              "\n",
              "    .dataframe tbody tr th {\n",
              "        vertical-align: top;\n",
              "    }\n",
              "\n",
              "    .dataframe thead th {\n",
              "        text-align: right;\n",
              "    }\n",
              "</style>\n",
              "<table border=\"1\" class=\"dataframe\">\n",
              "  <thead>\n",
              "    <tr style=\"text-align: right;\">\n",
              "      <th></th>\n",
              "      <th>Name</th>\n",
              "      <th>Location</th>\n",
              "      <th>Year</th>\n",
              "      <th>Kilometers_Driven</th>\n",
              "      <th>Fuel_Type</th>\n",
              "      <th>Transmission</th>\n",
              "      <th>Owner_Type</th>\n",
              "      <th>Mileage</th>\n",
              "      <th>Engine</th>\n",
              "      <th>Power</th>\n",
              "      <th>Seats</th>\n",
              "      <th>Price</th>\n",
              "    </tr>\n",
              "  </thead>\n",
              "  <tbody>\n",
              "    <tr>\n",
              "      <th>0</th>\n",
              "      <td>Maruti Wagon R LXI CNG</td>\n",
              "      <td>Mumbai</td>\n",
              "      <td>2010</td>\n",
              "      <td>72000</td>\n",
              "      <td>CNG</td>\n",
              "      <td>Manual</td>\n",
              "      <td>First</td>\n",
              "      <td>26.6 km/kg</td>\n",
              "      <td>998 CC</td>\n",
              "      <td>58.16 bhp</td>\n",
              "      <td>5.0</td>\n",
              "      <td>1.75</td>\n",
              "    </tr>\n",
              "    <tr>\n",
              "      <th>1</th>\n",
              "      <td>Hyundai Creta 1.6 CRDi SX Option</td>\n",
              "      <td>Pune</td>\n",
              "      <td>2015</td>\n",
              "      <td>41000</td>\n",
              "      <td>Diesel</td>\n",
              "      <td>Manual</td>\n",
              "      <td>First</td>\n",
              "      <td>19.67 kmpl</td>\n",
              "      <td>1582 CC</td>\n",
              "      <td>126.2 bhp</td>\n",
              "      <td>5.0</td>\n",
              "      <td>12.50</td>\n",
              "    </tr>\n",
              "    <tr>\n",
              "      <th>2</th>\n",
              "      <td>Honda Jazz V</td>\n",
              "      <td>Chennai</td>\n",
              "      <td>2011</td>\n",
              "      <td>46000</td>\n",
              "      <td>Petrol</td>\n",
              "      <td>Manual</td>\n",
              "      <td>First</td>\n",
              "      <td>18.2 kmpl</td>\n",
              "      <td>1199 CC</td>\n",
              "      <td>88.7 bhp</td>\n",
              "      <td>5.0</td>\n",
              "      <td>4.50</td>\n",
              "    </tr>\n",
              "    <tr>\n",
              "      <th>3</th>\n",
              "      <td>Maruti Ertiga VDI</td>\n",
              "      <td>Chennai</td>\n",
              "      <td>2012</td>\n",
              "      <td>87000</td>\n",
              "      <td>Diesel</td>\n",
              "      <td>Manual</td>\n",
              "      <td>First</td>\n",
              "      <td>20.77 kmpl</td>\n",
              "      <td>1248 CC</td>\n",
              "      <td>88.76 bhp</td>\n",
              "      <td>7.0</td>\n",
              "      <td>6.00</td>\n",
              "    </tr>\n",
              "    <tr>\n",
              "      <th>4</th>\n",
              "      <td>Audi A4 New 2.0 TDI Multitronic</td>\n",
              "      <td>Coimbatore</td>\n",
              "      <td>2013</td>\n",
              "      <td>40670</td>\n",
              "      <td>Diesel</td>\n",
              "      <td>Automatic</td>\n",
              "      <td>Second</td>\n",
              "      <td>15.2 kmpl</td>\n",
              "      <td>1968 CC</td>\n",
              "      <td>140.8 bhp</td>\n",
              "      <td>5.0</td>\n",
              "      <td>17.74</td>\n",
              "    </tr>\n",
              "    <tr>\n",
              "      <th>...</th>\n",
              "      <td>...</td>\n",
              "      <td>...</td>\n",
              "      <td>...</td>\n",
              "      <td>...</td>\n",
              "      <td>...</td>\n",
              "      <td>...</td>\n",
              "      <td>...</td>\n",
              "      <td>...</td>\n",
              "      <td>...</td>\n",
              "      <td>...</td>\n",
              "      <td>...</td>\n",
              "      <td>...</td>\n",
              "    </tr>\n",
              "    <tr>\n",
              "      <th>6014</th>\n",
              "      <td>Maruti Swift VDI</td>\n",
              "      <td>Delhi</td>\n",
              "      <td>2014</td>\n",
              "      <td>27365</td>\n",
              "      <td>Diesel</td>\n",
              "      <td>Manual</td>\n",
              "      <td>First</td>\n",
              "      <td>28.4 kmpl</td>\n",
              "      <td>1248 CC</td>\n",
              "      <td>74 bhp</td>\n",
              "      <td>5.0</td>\n",
              "      <td>4.75</td>\n",
              "    </tr>\n",
              "    <tr>\n",
              "      <th>6015</th>\n",
              "      <td>Hyundai Xcent 1.1 CRDi S</td>\n",
              "      <td>Jaipur</td>\n",
              "      <td>2015</td>\n",
              "      <td>100000</td>\n",
              "      <td>Diesel</td>\n",
              "      <td>Manual</td>\n",
              "      <td>First</td>\n",
              "      <td>24.4 kmpl</td>\n",
              "      <td>1120 CC</td>\n",
              "      <td>71 bhp</td>\n",
              "      <td>5.0</td>\n",
              "      <td>4.00</td>\n",
              "    </tr>\n",
              "    <tr>\n",
              "      <th>6016</th>\n",
              "      <td>Mahindra Xylo D4 BSIV</td>\n",
              "      <td>Jaipur</td>\n",
              "      <td>2012</td>\n",
              "      <td>55000</td>\n",
              "      <td>Diesel</td>\n",
              "      <td>Manual</td>\n",
              "      <td>Second</td>\n",
              "      <td>14.0 kmpl</td>\n",
              "      <td>2498 CC</td>\n",
              "      <td>112 bhp</td>\n",
              "      <td>8.0</td>\n",
              "      <td>2.90</td>\n",
              "    </tr>\n",
              "    <tr>\n",
              "      <th>6017</th>\n",
              "      <td>Maruti Wagon R VXI</td>\n",
              "      <td>Kolkata</td>\n",
              "      <td>2013</td>\n",
              "      <td>46000</td>\n",
              "      <td>Petrol</td>\n",
              "      <td>Manual</td>\n",
              "      <td>First</td>\n",
              "      <td>18.9 kmpl</td>\n",
              "      <td>998 CC</td>\n",
              "      <td>67.1 bhp</td>\n",
              "      <td>5.0</td>\n",
              "      <td>2.65</td>\n",
              "    </tr>\n",
              "    <tr>\n",
              "      <th>6018</th>\n",
              "      <td>Chevrolet Beat Diesel</td>\n",
              "      <td>Hyderabad</td>\n",
              "      <td>2011</td>\n",
              "      <td>47000</td>\n",
              "      <td>Diesel</td>\n",
              "      <td>Manual</td>\n",
              "      <td>First</td>\n",
              "      <td>25.44 kmpl</td>\n",
              "      <td>936 CC</td>\n",
              "      <td>57.6 bhp</td>\n",
              "      <td>5.0</td>\n",
              "      <td>2.50</td>\n",
              "    </tr>\n",
              "  </tbody>\n",
              "</table>\n",
              "<p>6019 rows × 12 columns</p>\n",
              "</div>"
            ],
            "text/plain": [
              "                                  Name    Location  ...  Seats  Price\n",
              "0               Maruti Wagon R LXI CNG      Mumbai  ...    5.0   1.75\n",
              "1     Hyundai Creta 1.6 CRDi SX Option        Pune  ...    5.0  12.50\n",
              "2                         Honda Jazz V     Chennai  ...    5.0   4.50\n",
              "3                    Maruti Ertiga VDI     Chennai  ...    7.0   6.00\n",
              "4      Audi A4 New 2.0 TDI Multitronic  Coimbatore  ...    5.0  17.74\n",
              "...                                ...         ...  ...    ...    ...\n",
              "6014                  Maruti Swift VDI       Delhi  ...    5.0   4.75\n",
              "6015          Hyundai Xcent 1.1 CRDi S      Jaipur  ...    5.0   4.00\n",
              "6016             Mahindra Xylo D4 BSIV      Jaipur  ...    8.0   2.90\n",
              "6017                Maruti Wagon R VXI     Kolkata  ...    5.0   2.65\n",
              "6018             Chevrolet Beat Diesel   Hyderabad  ...    5.0   2.50\n",
              "\n",
              "[6019 rows x 12 columns]"
            ]
          },
          "metadata": {
            "tags": []
          },
          "execution_count": 3
        }
      ]
    },
    {
      "cell_type": "markdown",
      "metadata": {
        "id": "CqgOa0qHHqA8",
        "colab_type": "text"
      },
      "source": [
        "Eksplorasi data"
      ]
    },
    {
      "cell_type": "code",
      "metadata": {
        "id": "rBzvFJL5nxBt",
        "colab_type": "code",
        "colab": {
          "base_uri": "https://localhost:8080/",
          "height": 340
        },
        "outputId": "25c06404-75dc-4188-d76d-f5d043a95dfd"
      },
      "source": [
        "cars.info()"
      ],
      "execution_count": null,
      "outputs": [
        {
          "output_type": "stream",
          "text": [
            "<class 'pandas.core.frame.DataFrame'>\n",
            "RangeIndex: 6019 entries, 0 to 6018\n",
            "Data columns (total 12 columns):\n",
            " #   Column             Non-Null Count  Dtype  \n",
            "---  ------             --------------  -----  \n",
            " 0   Name               6019 non-null   object \n",
            " 1   Location           6019 non-null   object \n",
            " 2   Year               6019 non-null   int64  \n",
            " 3   Kilometers_Driven  6019 non-null   int64  \n",
            " 4   Fuel_Type          6019 non-null   object \n",
            " 5   Transmission       6019 non-null   object \n",
            " 6   Owner_Type         6019 non-null   object \n",
            " 7   Mileage            6017 non-null   object \n",
            " 8   Engine             5983 non-null   object \n",
            " 9   Power              5983 non-null   object \n",
            " 10  Seats              5977 non-null   float64\n",
            " 11  Price              6019 non-null   float64\n",
            "dtypes: float64(2), int64(2), object(8)\n",
            "memory usage: 564.4+ KB\n"
          ],
          "name": "stdout"
        }
      ]
    },
    {
      "cell_type": "markdown",
      "metadata": {
        "id": "jq8bvKIXhYFg",
        "colab_type": "text"
      },
      "source": [
        "Jumlah mobil bekas berdasarkan *Fuel_Type*"
      ]
    },
    {
      "cell_type": "code",
      "metadata": {
        "id": "2VvCQYD_rRrE",
        "colab_type": "code",
        "colab": {
          "base_uri": "https://localhost:8080/",
          "height": 136
        },
        "outputId": "5ea473df-2e6a-466f-f4f1-6e56524b6521"
      },
      "source": [
        "print('Fuel_Type')\n",
        "cars['Fuel_Type'].value_counts()"
      ],
      "execution_count": null,
      "outputs": [
        {
          "output_type": "stream",
          "text": [
            "Fuel_Type\n"
          ],
          "name": "stdout"
        },
        {
          "output_type": "execute_result",
          "data": {
            "text/plain": [
              "Diesel      3205\n",
              "Petrol      2746\n",
              "CNG           56\n",
              "LPG           10\n",
              "Electric       2\n",
              "Name: Fuel_Type, dtype: int64"
            ]
          },
          "metadata": {
            "tags": []
          },
          "execution_count": 5
        }
      ]
    },
    {
      "cell_type": "markdown",
      "metadata": {
        "id": "2qbMgUIqhglQ",
        "colab_type": "text"
      },
      "source": [
        "Jumlah mobil bekas berdasarkan *Transmission*"
      ]
    },
    {
      "cell_type": "code",
      "metadata": {
        "id": "5we82BPysqmx",
        "colab_type": "code",
        "colab": {
          "base_uri": "https://localhost:8080/",
          "height": 85
        },
        "outputId": "c563dd61-cc45-4b45-fbcb-8c66268116aa"
      },
      "source": [
        "print('Transmission')\n",
        "cars['Transmission'].value_counts()"
      ],
      "execution_count": null,
      "outputs": [
        {
          "output_type": "stream",
          "text": [
            "Transmission\n"
          ],
          "name": "stdout"
        },
        {
          "output_type": "execute_result",
          "data": {
            "text/plain": [
              "Manual       4299\n",
              "Automatic    1720\n",
              "Name: Transmission, dtype: int64"
            ]
          },
          "metadata": {
            "tags": []
          },
          "execution_count": 6
        }
      ]
    },
    {
      "cell_type": "markdown",
      "metadata": {
        "id": "rGGJqmPZhjgq",
        "colab_type": "text"
      },
      "source": [
        "Jumlah mobil bekas berdasarkan *Owner_Type*"
      ]
    },
    {
      "cell_type": "code",
      "metadata": {
        "id": "bzC2QIA5s44w",
        "colab_type": "code",
        "colab": {
          "base_uri": "https://localhost:8080/",
          "height": 119
        },
        "outputId": "5a4de14b-65e0-4bef-d70a-e9a493fc305f"
      },
      "source": [
        "print('Owner_Type')\n",
        "cars['Owner_Type'].value_counts()"
      ],
      "execution_count": null,
      "outputs": [
        {
          "output_type": "stream",
          "text": [
            "Owner_Type\n"
          ],
          "name": "stdout"
        },
        {
          "output_type": "execute_result",
          "data": {
            "text/plain": [
              "First             4929\n",
              "Second             968\n",
              "Third              113\n",
              "Fourth & Above       9\n",
              "Name: Owner_Type, dtype: int64"
            ]
          },
          "metadata": {
            "tags": []
          },
          "execution_count": 7
        }
      ]
    },
    {
      "cell_type": "markdown",
      "metadata": {
        "id": "nkylyG2PhqxI",
        "colab_type": "text"
      },
      "source": [
        "Statistik Deskriptif Dataset"
      ]
    },
    {
      "cell_type": "code",
      "metadata": {
        "id": "jFDmj5y-t3J5",
        "colab_type": "code",
        "colab": {
          "base_uri": "https://localhost:8080/",
          "height": 297
        },
        "outputId": "bae7c51e-7dbf-44ce-e6fc-70153d5c4336"
      },
      "source": [
        "cars.describe()"
      ],
      "execution_count": null,
      "outputs": [
        {
          "output_type": "execute_result",
          "data": {
            "text/html": [
              "<div>\n",
              "<style scoped>\n",
              "    .dataframe tbody tr th:only-of-type {\n",
              "        vertical-align: middle;\n",
              "    }\n",
              "\n",
              "    .dataframe tbody tr th {\n",
              "        vertical-align: top;\n",
              "    }\n",
              "\n",
              "    .dataframe thead th {\n",
              "        text-align: right;\n",
              "    }\n",
              "</style>\n",
              "<table border=\"1\" class=\"dataframe\">\n",
              "  <thead>\n",
              "    <tr style=\"text-align: right;\">\n",
              "      <th></th>\n",
              "      <th>Year</th>\n",
              "      <th>Kilometers_Driven</th>\n",
              "      <th>Seats</th>\n",
              "      <th>Price</th>\n",
              "    </tr>\n",
              "  </thead>\n",
              "  <tbody>\n",
              "    <tr>\n",
              "      <th>count</th>\n",
              "      <td>6019.000000</td>\n",
              "      <td>6.019000e+03</td>\n",
              "      <td>5977.000000</td>\n",
              "      <td>6019.000000</td>\n",
              "    </tr>\n",
              "    <tr>\n",
              "      <th>mean</th>\n",
              "      <td>2013.358199</td>\n",
              "      <td>5.873838e+04</td>\n",
              "      <td>5.278735</td>\n",
              "      <td>9.479468</td>\n",
              "    </tr>\n",
              "    <tr>\n",
              "      <th>std</th>\n",
              "      <td>3.269742</td>\n",
              "      <td>9.126884e+04</td>\n",
              "      <td>0.808840</td>\n",
              "      <td>11.187917</td>\n",
              "    </tr>\n",
              "    <tr>\n",
              "      <th>min</th>\n",
              "      <td>1998.000000</td>\n",
              "      <td>1.710000e+02</td>\n",
              "      <td>0.000000</td>\n",
              "      <td>0.440000</td>\n",
              "    </tr>\n",
              "    <tr>\n",
              "      <th>25%</th>\n",
              "      <td>2011.000000</td>\n",
              "      <td>3.400000e+04</td>\n",
              "      <td>5.000000</td>\n",
              "      <td>3.500000</td>\n",
              "    </tr>\n",
              "    <tr>\n",
              "      <th>50%</th>\n",
              "      <td>2014.000000</td>\n",
              "      <td>5.300000e+04</td>\n",
              "      <td>5.000000</td>\n",
              "      <td>5.640000</td>\n",
              "    </tr>\n",
              "    <tr>\n",
              "      <th>75%</th>\n",
              "      <td>2016.000000</td>\n",
              "      <td>7.300000e+04</td>\n",
              "      <td>5.000000</td>\n",
              "      <td>9.950000</td>\n",
              "    </tr>\n",
              "    <tr>\n",
              "      <th>max</th>\n",
              "      <td>2019.000000</td>\n",
              "      <td>6.500000e+06</td>\n",
              "      <td>10.000000</td>\n",
              "      <td>160.000000</td>\n",
              "    </tr>\n",
              "  </tbody>\n",
              "</table>\n",
              "</div>"
            ],
            "text/plain": [
              "              Year  Kilometers_Driven        Seats        Price\n",
              "count  6019.000000       6.019000e+03  5977.000000  6019.000000\n",
              "mean   2013.358199       5.873838e+04     5.278735     9.479468\n",
              "std       3.269742       9.126884e+04     0.808840    11.187917\n",
              "min    1998.000000       1.710000e+02     0.000000     0.440000\n",
              "25%    2011.000000       3.400000e+04     5.000000     3.500000\n",
              "50%    2014.000000       5.300000e+04     5.000000     5.640000\n",
              "75%    2016.000000       7.300000e+04     5.000000     9.950000\n",
              "max    2019.000000       6.500000e+06    10.000000   160.000000"
            ]
          },
          "metadata": {
            "tags": []
          },
          "execution_count": 8
        }
      ]
    },
    {
      "cell_type": "markdown",
      "metadata": {
        "id": "g810fUTbhvKt",
        "colab_type": "text"
      },
      "source": [
        "Mengecek *Missing Value* pada dataset"
      ]
    },
    {
      "cell_type": "code",
      "metadata": {
        "id": "w_q7XDe_oRcj",
        "colab_type": "code",
        "colab": {
          "base_uri": "https://localhost:8080/",
          "height": 238
        },
        "outputId": "8ae124bd-e99b-49c0-e93d-4163dc6b7ad5"
      },
      "source": [
        "cars.isnull().sum()"
      ],
      "execution_count": null,
      "outputs": [
        {
          "output_type": "execute_result",
          "data": {
            "text/plain": [
              "Name                  0\n",
              "Location              0\n",
              "Year                  0\n",
              "Kilometers_Driven     0\n",
              "Fuel_Type             0\n",
              "Transmission          0\n",
              "Owner_Type            0\n",
              "Mileage               2\n",
              "Engine               36\n",
              "Power                36\n",
              "Seats                42\n",
              "Price                 0\n",
              "dtype: int64"
            ]
          },
          "metadata": {
            "tags": []
          },
          "execution_count": 9
        }
      ]
    },
    {
      "cell_type": "markdown",
      "metadata": {
        "id": "_4rQ_mh56lEO",
        "colab_type": "text"
      },
      "source": [
        "## Data Preparation"
      ]
    },
    {
      "cell_type": "markdown",
      "metadata": {
        "id": "OUhVTWK0h3D6",
        "colab_type": "text"
      },
      "source": [
        "Mengecek dan menghapus baris yang mengandung *Missing Value*"
      ]
    },
    {
      "cell_type": "code",
      "metadata": {
        "id": "OReXJTX46xef",
        "colab_type": "code",
        "colab": {
          "base_uri": "https://localhost:8080/",
          "height": 216
        },
        "outputId": "7e17b393-9c88-4571-c623-c5baea21c96d"
      },
      "source": [
        "#Mengecek dan menghapus baris yang mengandung Missing Value pada kolom Mileage\n",
        "cars[cars['Mileage'].isnull()]\n",
        "#4446\n",
        "#4904"
      ],
      "execution_count": null,
      "outputs": [
        {
          "output_type": "execute_result",
          "data": {
            "text/html": [
              "<div>\n",
              "<style scoped>\n",
              "    .dataframe tbody tr th:only-of-type {\n",
              "        vertical-align: middle;\n",
              "    }\n",
              "\n",
              "    .dataframe tbody tr th {\n",
              "        vertical-align: top;\n",
              "    }\n",
              "\n",
              "    .dataframe thead th {\n",
              "        text-align: right;\n",
              "    }\n",
              "</style>\n",
              "<table border=\"1\" class=\"dataframe\">\n",
              "  <thead>\n",
              "    <tr style=\"text-align: right;\">\n",
              "      <th></th>\n",
              "      <th>Name</th>\n",
              "      <th>Location</th>\n",
              "      <th>Year</th>\n",
              "      <th>Kilometers_Driven</th>\n",
              "      <th>Fuel_Type</th>\n",
              "      <th>Transmission</th>\n",
              "      <th>Owner_Type</th>\n",
              "      <th>Mileage</th>\n",
              "      <th>Engine</th>\n",
              "      <th>Power</th>\n",
              "      <th>Seats</th>\n",
              "      <th>Price</th>\n",
              "    </tr>\n",
              "  </thead>\n",
              "  <tbody>\n",
              "    <tr>\n",
              "      <th>4446</th>\n",
              "      <td>Mahindra E Verito D4</td>\n",
              "      <td>Chennai</td>\n",
              "      <td>2016</td>\n",
              "      <td>50000</td>\n",
              "      <td>Electric</td>\n",
              "      <td>Automatic</td>\n",
              "      <td>First</td>\n",
              "      <td>NaN</td>\n",
              "      <td>72 CC</td>\n",
              "      <td>41 bhp</td>\n",
              "      <td>5.0</td>\n",
              "      <td>13.00</td>\n",
              "    </tr>\n",
              "    <tr>\n",
              "      <th>4904</th>\n",
              "      <td>Toyota Prius 2009-2016 Z4</td>\n",
              "      <td>Mumbai</td>\n",
              "      <td>2011</td>\n",
              "      <td>44000</td>\n",
              "      <td>Electric</td>\n",
              "      <td>Automatic</td>\n",
              "      <td>First</td>\n",
              "      <td>NaN</td>\n",
              "      <td>1798 CC</td>\n",
              "      <td>73 bhp</td>\n",
              "      <td>5.0</td>\n",
              "      <td>12.75</td>\n",
              "    </tr>\n",
              "  </tbody>\n",
              "</table>\n",
              "</div>"
            ],
            "text/plain": [
              "                           Name Location  Year  ...   Power Seats  Price\n",
              "4446       Mahindra E Verito D4  Chennai  2016  ...  41 bhp   5.0  13.00\n",
              "4904  Toyota Prius 2009-2016 Z4   Mumbai  2011  ...  73 bhp   5.0  12.75\n",
              "\n",
              "[2 rows x 12 columns]"
            ]
          },
          "metadata": {
            "tags": []
          },
          "execution_count": 10
        }
      ]
    },
    {
      "cell_type": "code",
      "metadata": {
        "id": "SAfhjWQxzEF-",
        "colab_type": "code",
        "colab": {
          "base_uri": "https://localhost:8080/",
          "height": 238
        },
        "outputId": "2e9c3e86-1928-45a4-cf7a-14190700679a"
      },
      "source": [
        "#Menghapus rows in Mileage with missing value\n",
        "cars2=cars.drop([cars.index[4446], cars.index[4904]])\n",
        "cars2.isnull().sum()"
      ],
      "execution_count": null,
      "outputs": [
        {
          "output_type": "execute_result",
          "data": {
            "text/plain": [
              "Name                  0\n",
              "Location              0\n",
              "Year                  0\n",
              "Kilometers_Driven     0\n",
              "Fuel_Type             0\n",
              "Transmission          0\n",
              "Owner_Type            0\n",
              "Mileage               0\n",
              "Engine               36\n",
              "Power                36\n",
              "Seats                42\n",
              "Price                 0\n",
              "dtype: int64"
            ]
          },
          "metadata": {
            "tags": []
          },
          "execution_count": 11
        }
      ]
    },
    {
      "cell_type": "code",
      "metadata": {
        "id": "AZlKTjBeF_hZ",
        "colab_type": "code",
        "colab": {
          "base_uri": "https://localhost:8080/",
          "height": 275
        },
        "outputId": "1a6f40ca-e694-483d-fb52-3ae4b4a9eadc"
      },
      "source": [
        "list1=cars2[cars2['Engine'].isnull()].index.tolist()\n",
        "print(list1)\n",
        "rows = cars2.index[list1]\n",
        "cars2.drop(rows, inplace=True)\n",
        "cars2.isnull().sum()"
      ],
      "execution_count": null,
      "outputs": [
        {
          "output_type": "stream",
          "text": [
            "[194, 208, 733, 749, 1294, 1327, 1385, 1460, 2074, 2096, 2264, 2325, 2335, 2530, 2542, 2623, 2668, 2737, 2780, 2842, 3272, 3404, 3520, 3522, 3810, 4011, 4152, 4229, 4577, 4604, 4697, 4712, 4952, 5015, 5185, 5270]\n"
          ],
          "name": "stdout"
        },
        {
          "output_type": "execute_result",
          "data": {
            "text/plain": [
              "Name                  0\n",
              "Location              0\n",
              "Year                  0\n",
              "Kilometers_Driven     0\n",
              "Fuel_Type             0\n",
              "Transmission          0\n",
              "Owner_Type            0\n",
              "Mileage               0\n",
              "Engine                8\n",
              "Power                 8\n",
              "Seats                14\n",
              "Price                 0\n",
              "dtype: int64"
            ]
          },
          "metadata": {
            "tags": []
          },
          "execution_count": 12
        }
      ]
    },
    {
      "cell_type": "code",
      "metadata": {
        "id": "uoTl3t1j_80I",
        "colab_type": "code",
        "colab": {
          "base_uri": "https://localhost:8080/",
          "height": 847
        },
        "outputId": "9bfa1639-2791-4cbf-c615-c59bb1574e97"
      },
      "source": [
        "cars3=cars2.sort_values(by=['Seats'])\n",
        "cars3.reset_index(drop=True, inplace=True)\n",
        "cars3"
      ],
      "execution_count": null,
      "outputs": [
        {
          "output_type": "execute_result",
          "data": {
            "text/html": [
              "<div>\n",
              "<style scoped>\n",
              "    .dataframe tbody tr th:only-of-type {\n",
              "        vertical-align: middle;\n",
              "    }\n",
              "\n",
              "    .dataframe tbody tr th {\n",
              "        vertical-align: top;\n",
              "    }\n",
              "\n",
              "    .dataframe thead th {\n",
              "        text-align: right;\n",
              "    }\n",
              "</style>\n",
              "<table border=\"1\" class=\"dataframe\">\n",
              "  <thead>\n",
              "    <tr style=\"text-align: right;\">\n",
              "      <th></th>\n",
              "      <th>Name</th>\n",
              "      <th>Location</th>\n",
              "      <th>Year</th>\n",
              "      <th>Kilometers_Driven</th>\n",
              "      <th>Fuel_Type</th>\n",
              "      <th>Transmission</th>\n",
              "      <th>Owner_Type</th>\n",
              "      <th>Mileage</th>\n",
              "      <th>Engine</th>\n",
              "      <th>Power</th>\n",
              "      <th>Seats</th>\n",
              "      <th>Price</th>\n",
              "    </tr>\n",
              "  </thead>\n",
              "  <tbody>\n",
              "    <tr>\n",
              "      <th>0</th>\n",
              "      <td>Audi A4 3.2 FSI Tiptronic Quattro</td>\n",
              "      <td>Hyderabad</td>\n",
              "      <td>2012</td>\n",
              "      <td>125000</td>\n",
              "      <td>Petrol</td>\n",
              "      <td>Automatic</td>\n",
              "      <td>First</td>\n",
              "      <td>10.5 kmpl</td>\n",
              "      <td>3197 CC</td>\n",
              "      <td>null bhp</td>\n",
              "      <td>0.0</td>\n",
              "      <td>18.00</td>\n",
              "    </tr>\n",
              "    <tr>\n",
              "      <th>1</th>\n",
              "      <td>Mercedes-Benz SLC 43 AMG</td>\n",
              "      <td>Coimbatore</td>\n",
              "      <td>2019</td>\n",
              "      <td>2526</td>\n",
              "      <td>Petrol</td>\n",
              "      <td>Automatic</td>\n",
              "      <td>First</td>\n",
              "      <td>19.0 kmpl</td>\n",
              "      <td>2996 CC</td>\n",
              "      <td>362.07 bhp</td>\n",
              "      <td>2.0</td>\n",
              "      <td>83.96</td>\n",
              "    </tr>\n",
              "    <tr>\n",
              "      <th>2</th>\n",
              "      <td>Mercedes-Benz SL-Class SL 500</td>\n",
              "      <td>Kolkata</td>\n",
              "      <td>2010</td>\n",
              "      <td>35000</td>\n",
              "      <td>Petrol</td>\n",
              "      <td>Automatic</td>\n",
              "      <td>First</td>\n",
              "      <td>8.1 kmpl</td>\n",
              "      <td>5461 CC</td>\n",
              "      <td>387.3 bhp</td>\n",
              "      <td>2.0</td>\n",
              "      <td>29.50</td>\n",
              "    </tr>\n",
              "    <tr>\n",
              "      <th>3</th>\n",
              "      <td>Mercedes-Benz SLK-Class 55 AMG</td>\n",
              "      <td>Bangalore</td>\n",
              "      <td>2014</td>\n",
              "      <td>3000</td>\n",
              "      <td>Petrol</td>\n",
              "      <td>Automatic</td>\n",
              "      <td>Second</td>\n",
              "      <td>12.0 kmpl</td>\n",
              "      <td>5461 CC</td>\n",
              "      <td>421 bhp</td>\n",
              "      <td>2.0</td>\n",
              "      <td>90.00</td>\n",
              "    </tr>\n",
              "    <tr>\n",
              "      <th>4</th>\n",
              "      <td>BMW Z4 2009-2013 Roadster 2.5i</td>\n",
              "      <td>Kochi</td>\n",
              "      <td>2018</td>\n",
              "      <td>9952</td>\n",
              "      <td>Petrol</td>\n",
              "      <td>Automatic</td>\n",
              "      <td>First</td>\n",
              "      <td>10.37 kmpl</td>\n",
              "      <td>2979 CC</td>\n",
              "      <td>306 bhp</td>\n",
              "      <td>2.0</td>\n",
              "      <td>58.54</td>\n",
              "    </tr>\n",
              "    <tr>\n",
              "      <th>...</th>\n",
              "      <td>...</td>\n",
              "      <td>...</td>\n",
              "      <td>...</td>\n",
              "      <td>...</td>\n",
              "      <td>...</td>\n",
              "      <td>...</td>\n",
              "      <td>...</td>\n",
              "      <td>...</td>\n",
              "      <td>...</td>\n",
              "      <td>...</td>\n",
              "      <td>...</td>\n",
              "      <td>...</td>\n",
              "    </tr>\n",
              "    <tr>\n",
              "      <th>5976</th>\n",
              "      <td>Fiat Punto 1.4 Emotion</td>\n",
              "      <td>Kolkata</td>\n",
              "      <td>2010</td>\n",
              "      <td>47000</td>\n",
              "      <td>Petrol</td>\n",
              "      <td>Manual</td>\n",
              "      <td>First</td>\n",
              "      <td>14.6 kmpl</td>\n",
              "      <td>NaN</td>\n",
              "      <td>NaN</td>\n",
              "      <td>NaN</td>\n",
              "      <td>1.49</td>\n",
              "    </tr>\n",
              "    <tr>\n",
              "      <th>5977</th>\n",
              "      <td>Maruti Swift 1.3 VXi</td>\n",
              "      <td>Delhi</td>\n",
              "      <td>2006</td>\n",
              "      <td>63000</td>\n",
              "      <td>Petrol</td>\n",
              "      <td>Manual</td>\n",
              "      <td>First</td>\n",
              "      <td>16.1 kmpl</td>\n",
              "      <td>NaN</td>\n",
              "      <td>NaN</td>\n",
              "      <td>NaN</td>\n",
              "      <td>1.60</td>\n",
              "    </tr>\n",
              "    <tr>\n",
              "      <th>5978</th>\n",
              "      <td>Maruti Swift 1.3 LXI</td>\n",
              "      <td>Delhi</td>\n",
              "      <td>2012</td>\n",
              "      <td>52000</td>\n",
              "      <td>Petrol</td>\n",
              "      <td>Manual</td>\n",
              "      <td>First</td>\n",
              "      <td>16.1 kmpl</td>\n",
              "      <td>NaN</td>\n",
              "      <td>NaN</td>\n",
              "      <td>NaN</td>\n",
              "      <td>3.65</td>\n",
              "    </tr>\n",
              "    <tr>\n",
              "      <th>5979</th>\n",
              "      <td>Honda City 1.5 GXI</td>\n",
              "      <td>Bangalore</td>\n",
              "      <td>2002</td>\n",
              "      <td>53000</td>\n",
              "      <td>Petrol</td>\n",
              "      <td>Manual</td>\n",
              "      <td>Second</td>\n",
              "      <td>0.0 kmpl</td>\n",
              "      <td>NaN</td>\n",
              "      <td>NaN</td>\n",
              "      <td>NaN</td>\n",
              "      <td>1.85</td>\n",
              "    </tr>\n",
              "    <tr>\n",
              "      <th>5980</th>\n",
              "      <td>Maruti Estilo LXI</td>\n",
              "      <td>Chennai</td>\n",
              "      <td>2008</td>\n",
              "      <td>51000</td>\n",
              "      <td>Petrol</td>\n",
              "      <td>Manual</td>\n",
              "      <td>Second</td>\n",
              "      <td>19.5 kmpl</td>\n",
              "      <td>1061 CC</td>\n",
              "      <td>null bhp</td>\n",
              "      <td>NaN</td>\n",
              "      <td>1.75</td>\n",
              "    </tr>\n",
              "  </tbody>\n",
              "</table>\n",
              "<p>5981 rows × 12 columns</p>\n",
              "</div>"
            ],
            "text/plain": [
              "                                   Name    Location  ...  Seats  Price\n",
              "0     Audi A4 3.2 FSI Tiptronic Quattro   Hyderabad  ...    0.0  18.00\n",
              "1              Mercedes-Benz SLC 43 AMG  Coimbatore  ...    2.0  83.96\n",
              "2         Mercedes-Benz SL-Class SL 500     Kolkata  ...    2.0  29.50\n",
              "3        Mercedes-Benz SLK-Class 55 AMG   Bangalore  ...    2.0  90.00\n",
              "4        BMW Z4 2009-2013 Roadster 2.5i       Kochi  ...    2.0  58.54\n",
              "...                                 ...         ...  ...    ...    ...\n",
              "5976             Fiat Punto 1.4 Emotion     Kolkata  ...    NaN   1.49\n",
              "5977               Maruti Swift 1.3 VXi       Delhi  ...    NaN   1.60\n",
              "5978               Maruti Swift 1.3 LXI       Delhi  ...    NaN   3.65\n",
              "5979                 Honda City 1.5 GXI   Bangalore  ...    NaN   1.85\n",
              "5980                  Maruti Estilo LXI     Chennai  ...    NaN   1.75\n",
              "\n",
              "[5981 rows x 12 columns]"
            ]
          },
          "metadata": {
            "tags": []
          },
          "execution_count": 13
        }
      ]
    },
    {
      "cell_type": "code",
      "metadata": {
        "id": "ZtU2DorXBsU4",
        "colab_type": "code",
        "colab": {
          "base_uri": "https://localhost:8080/",
          "height": 238
        },
        "outputId": "1d7809a1-17b7-4051-f3a5-9b9ccdb0a810"
      },
      "source": [
        "cars4=cars3[:5949]\n",
        "cars4.isnull().sum()\n",
        "#cars4"
      ],
      "execution_count": null,
      "outputs": [
        {
          "output_type": "execute_result",
          "data": {
            "text/plain": [
              "Name                 0\n",
              "Location             0\n",
              "Year                 0\n",
              "Kilometers_Driven    0\n",
              "Fuel_Type            0\n",
              "Transmission         0\n",
              "Owner_Type           0\n",
              "Mileage              0\n",
              "Engine               0\n",
              "Power                0\n",
              "Seats                0\n",
              "Price                0\n",
              "dtype: int64"
            ]
          },
          "metadata": {
            "tags": []
          },
          "execution_count": 14
        }
      ]
    },
    {
      "cell_type": "code",
      "metadata": {
        "id": "BKV-JSsRCIU5",
        "colab_type": "code",
        "colab": {}
      },
      "source": [
        "data=cars4"
      ],
      "execution_count": null,
      "outputs": []
    },
    {
      "cell_type": "markdown",
      "metadata": {
        "id": "v1R8fWWUiTbY",
        "colab_type": "text"
      },
      "source": [
        "Menghilangkan satuan pada dataset angka"
      ]
    },
    {
      "cell_type": "code",
      "metadata": {
        "id": "eibU6EX7GYyd",
        "colab_type": "code",
        "colab": {
          "base_uri": "https://localhost:8080/",
          "height": 734
        },
        "outputId": "251bd42f-3c57-4ba2-e28d-6366f6ee62f0"
      },
      "source": [
        "data['Mileage']=data['Mileage'].str.replace('kmpl','') #menghapus karakter kmpl\n",
        "data['Mileage']=data['Mileage'].str.replace('km/kg','') #menghapus karakter km/kg\n",
        "data['Engine']=data['Engine'].str.replace('CC','') #menghapus karakter CC\n",
        "data['Power']=data['Power'].str.replace('bhp','') #menghapus karakter bhp\n",
        "data['Power']=data['Power'].str.replace('null','0') #mengganti karakter null dengan string 0\n",
        "data['Power'].replace(np.nan, '0', inplace=True) #mengganti missing vlaue pada kolom Power dengan string 0\n",
        "data['Power']=data['Power'].astype(float) #mengkonversi kolom Power dalam float"
      ],
      "execution_count": null,
      "outputs": [
        {
          "output_type": "stream",
          "text": [
            "/usr/local/lib/python3.6/dist-packages/ipykernel_launcher.py:1: SettingWithCopyWarning: \n",
            "A value is trying to be set on a copy of a slice from a DataFrame.\n",
            "Try using .loc[row_indexer,col_indexer] = value instead\n",
            "\n",
            "See the caveats in the documentation: https://pandas.pydata.org/pandas-docs/stable/user_guide/indexing.html#returning-a-view-versus-a-copy\n",
            "  \"\"\"Entry point for launching an IPython kernel.\n",
            "/usr/local/lib/python3.6/dist-packages/ipykernel_launcher.py:2: SettingWithCopyWarning: \n",
            "A value is trying to be set on a copy of a slice from a DataFrame.\n",
            "Try using .loc[row_indexer,col_indexer] = value instead\n",
            "\n",
            "See the caveats in the documentation: https://pandas.pydata.org/pandas-docs/stable/user_guide/indexing.html#returning-a-view-versus-a-copy\n",
            "  \n",
            "/usr/local/lib/python3.6/dist-packages/ipykernel_launcher.py:3: SettingWithCopyWarning: \n",
            "A value is trying to be set on a copy of a slice from a DataFrame.\n",
            "Try using .loc[row_indexer,col_indexer] = value instead\n",
            "\n",
            "See the caveats in the documentation: https://pandas.pydata.org/pandas-docs/stable/user_guide/indexing.html#returning-a-view-versus-a-copy\n",
            "  This is separate from the ipykernel package so we can avoid doing imports until\n",
            "/usr/local/lib/python3.6/dist-packages/ipykernel_launcher.py:4: SettingWithCopyWarning: \n",
            "A value is trying to be set on a copy of a slice from a DataFrame.\n",
            "Try using .loc[row_indexer,col_indexer] = value instead\n",
            "\n",
            "See the caveats in the documentation: https://pandas.pydata.org/pandas-docs/stable/user_guide/indexing.html#returning-a-view-versus-a-copy\n",
            "  after removing the cwd from sys.path.\n",
            "/usr/local/lib/python3.6/dist-packages/ipykernel_launcher.py:5: SettingWithCopyWarning: \n",
            "A value is trying to be set on a copy of a slice from a DataFrame.\n",
            "Try using .loc[row_indexer,col_indexer] = value instead\n",
            "\n",
            "See the caveats in the documentation: https://pandas.pydata.org/pandas-docs/stable/user_guide/indexing.html#returning-a-view-versus-a-copy\n",
            "  \"\"\"\n",
            "/usr/local/lib/python3.6/dist-packages/pandas/core/generic.py:6746: SettingWithCopyWarning: \n",
            "A value is trying to be set on a copy of a slice from a DataFrame\n",
            "\n",
            "See the caveats in the documentation: https://pandas.pydata.org/pandas-docs/stable/user_guide/indexing.html#returning-a-view-versus-a-copy\n",
            "  self._update_inplace(new_data)\n",
            "/usr/local/lib/python3.6/dist-packages/ipykernel_launcher.py:7: SettingWithCopyWarning: \n",
            "A value is trying to be set on a copy of a slice from a DataFrame.\n",
            "Try using .loc[row_indexer,col_indexer] = value instead\n",
            "\n",
            "See the caveats in the documentation: https://pandas.pydata.org/pandas-docs/stable/user_guide/indexing.html#returning-a-view-versus-a-copy\n",
            "  import sys\n"
          ],
          "name": "stderr"
        }
      ]
    },
    {
      "cell_type": "markdown",
      "metadata": {
        "id": "7c9N7b7fiZ93",
        "colab_type": "text"
      },
      "source": [
        "Menambah Kolom Merk"
      ]
    },
    {
      "cell_type": "code",
      "metadata": {
        "id": "UPNi51f3Hn9C",
        "colab_type": "code",
        "colab": {
          "base_uri": "https://localhost:8080/",
          "height": 1000
        },
        "outputId": "7b82955f-b91d-4524-eab8-806be640b9d6"
      },
      "source": [
        "data['Name']=data['Name'].astype(str)\n",
        "Merk=data.Name.str.split().str.get(0)\n",
        "data['Merk']=Merk\n",
        "data\n"
      ],
      "execution_count": null,
      "outputs": [
        {
          "output_type": "stream",
          "text": [
            "/usr/local/lib/python3.6/dist-packages/ipykernel_launcher.py:1: SettingWithCopyWarning: \n",
            "A value is trying to be set on a copy of a slice from a DataFrame.\n",
            "Try using .loc[row_indexer,col_indexer] = value instead\n",
            "\n",
            "See the caveats in the documentation: https://pandas.pydata.org/pandas-docs/stable/user_guide/indexing.html#returning-a-view-versus-a-copy\n",
            "  \"\"\"Entry point for launching an IPython kernel.\n",
            "/usr/local/lib/python3.6/dist-packages/ipykernel_launcher.py:3: SettingWithCopyWarning: \n",
            "A value is trying to be set on a copy of a slice from a DataFrame.\n",
            "Try using .loc[row_indexer,col_indexer] = value instead\n",
            "\n",
            "See the caveats in the documentation: https://pandas.pydata.org/pandas-docs/stable/user_guide/indexing.html#returning-a-view-versus-a-copy\n",
            "  This is separate from the ipykernel package so we can avoid doing imports until\n"
          ],
          "name": "stderr"
        },
        {
          "output_type": "execute_result",
          "data": {
            "text/html": [
              "<div>\n",
              "<style scoped>\n",
              "    .dataframe tbody tr th:only-of-type {\n",
              "        vertical-align: middle;\n",
              "    }\n",
              "\n",
              "    .dataframe tbody tr th {\n",
              "        vertical-align: top;\n",
              "    }\n",
              "\n",
              "    .dataframe thead th {\n",
              "        text-align: right;\n",
              "    }\n",
              "</style>\n",
              "<table border=\"1\" class=\"dataframe\">\n",
              "  <thead>\n",
              "    <tr style=\"text-align: right;\">\n",
              "      <th></th>\n",
              "      <th>Name</th>\n",
              "      <th>Location</th>\n",
              "      <th>Year</th>\n",
              "      <th>Kilometers_Driven</th>\n",
              "      <th>Fuel_Type</th>\n",
              "      <th>Transmission</th>\n",
              "      <th>Owner_Type</th>\n",
              "      <th>Mileage</th>\n",
              "      <th>Engine</th>\n",
              "      <th>Power</th>\n",
              "      <th>Seats</th>\n",
              "      <th>Price</th>\n",
              "      <th>Merk</th>\n",
              "    </tr>\n",
              "  </thead>\n",
              "  <tbody>\n",
              "    <tr>\n",
              "      <th>0</th>\n",
              "      <td>Audi A4 3.2 FSI Tiptronic Quattro</td>\n",
              "      <td>Hyderabad</td>\n",
              "      <td>2012</td>\n",
              "      <td>125000</td>\n",
              "      <td>Petrol</td>\n",
              "      <td>Automatic</td>\n",
              "      <td>First</td>\n",
              "      <td>10.5</td>\n",
              "      <td>3197</td>\n",
              "      <td>0.00</td>\n",
              "      <td>0.0</td>\n",
              "      <td>18.00</td>\n",
              "      <td>Audi</td>\n",
              "    </tr>\n",
              "    <tr>\n",
              "      <th>1</th>\n",
              "      <td>Mercedes-Benz SLC 43 AMG</td>\n",
              "      <td>Coimbatore</td>\n",
              "      <td>2019</td>\n",
              "      <td>2526</td>\n",
              "      <td>Petrol</td>\n",
              "      <td>Automatic</td>\n",
              "      <td>First</td>\n",
              "      <td>19.0</td>\n",
              "      <td>2996</td>\n",
              "      <td>362.07</td>\n",
              "      <td>2.0</td>\n",
              "      <td>83.96</td>\n",
              "      <td>Mercedes-Benz</td>\n",
              "    </tr>\n",
              "    <tr>\n",
              "      <th>2</th>\n",
              "      <td>Mercedes-Benz SL-Class SL 500</td>\n",
              "      <td>Kolkata</td>\n",
              "      <td>2010</td>\n",
              "      <td>35000</td>\n",
              "      <td>Petrol</td>\n",
              "      <td>Automatic</td>\n",
              "      <td>First</td>\n",
              "      <td>8.1</td>\n",
              "      <td>5461</td>\n",
              "      <td>387.30</td>\n",
              "      <td>2.0</td>\n",
              "      <td>29.50</td>\n",
              "      <td>Mercedes-Benz</td>\n",
              "    </tr>\n",
              "    <tr>\n",
              "      <th>3</th>\n",
              "      <td>Mercedes-Benz SLK-Class 55 AMG</td>\n",
              "      <td>Bangalore</td>\n",
              "      <td>2014</td>\n",
              "      <td>3000</td>\n",
              "      <td>Petrol</td>\n",
              "      <td>Automatic</td>\n",
              "      <td>Second</td>\n",
              "      <td>12.0</td>\n",
              "      <td>5461</td>\n",
              "      <td>421.00</td>\n",
              "      <td>2.0</td>\n",
              "      <td>90.00</td>\n",
              "      <td>Mercedes-Benz</td>\n",
              "    </tr>\n",
              "    <tr>\n",
              "      <th>4</th>\n",
              "      <td>BMW Z4 2009-2013 Roadster 2.5i</td>\n",
              "      <td>Kochi</td>\n",
              "      <td>2018</td>\n",
              "      <td>9952</td>\n",
              "      <td>Petrol</td>\n",
              "      <td>Automatic</td>\n",
              "      <td>First</td>\n",
              "      <td>10.37</td>\n",
              "      <td>2979</td>\n",
              "      <td>306.00</td>\n",
              "      <td>2.0</td>\n",
              "      <td>58.54</td>\n",
              "      <td>BMW</td>\n",
              "    </tr>\n",
              "    <tr>\n",
              "      <th>...</th>\n",
              "      <td>...</td>\n",
              "      <td>...</td>\n",
              "      <td>...</td>\n",
              "      <td>...</td>\n",
              "      <td>...</td>\n",
              "      <td>...</td>\n",
              "      <td>...</td>\n",
              "      <td>...</td>\n",
              "      <td>...</td>\n",
              "      <td>...</td>\n",
              "      <td>...</td>\n",
              "      <td>...</td>\n",
              "      <td>...</td>\n",
              "    </tr>\n",
              "    <tr>\n",
              "      <th>5944</th>\n",
              "      <td>Mahindra Scorpio 2.6 CRDe</td>\n",
              "      <td>Bangalore</td>\n",
              "      <td>2005</td>\n",
              "      <td>60000</td>\n",
              "      <td>Diesel</td>\n",
              "      <td>Manual</td>\n",
              "      <td>First</td>\n",
              "      <td>10.5</td>\n",
              "      <td>2179</td>\n",
              "      <td>120.00</td>\n",
              "      <td>8.0</td>\n",
              "      <td>4.00</td>\n",
              "      <td>Mahindra</td>\n",
              "    </tr>\n",
              "    <tr>\n",
              "      <th>5945</th>\n",
              "      <td>Mahindra Scorpio SLE BSIV</td>\n",
              "      <td>Delhi</td>\n",
              "      <td>2011</td>\n",
              "      <td>85000</td>\n",
              "      <td>Diesel</td>\n",
              "      <td>Manual</td>\n",
              "      <td>First</td>\n",
              "      <td>12.05</td>\n",
              "      <td>2179</td>\n",
              "      <td>120.00</td>\n",
              "      <td>8.0</td>\n",
              "      <td>5.25</td>\n",
              "      <td>Mahindra</td>\n",
              "    </tr>\n",
              "    <tr>\n",
              "      <th>5946</th>\n",
              "      <td>Toyota Innova 2.5 GX (Diesel) 8 Seater</td>\n",
              "      <td>Delhi</td>\n",
              "      <td>2013</td>\n",
              "      <td>91200</td>\n",
              "      <td>Diesel</td>\n",
              "      <td>Manual</td>\n",
              "      <td>First</td>\n",
              "      <td>12.99</td>\n",
              "      <td>2494</td>\n",
              "      <td>100.00</td>\n",
              "      <td>8.0</td>\n",
              "      <td>8.25</td>\n",
              "      <td>Toyota</td>\n",
              "    </tr>\n",
              "    <tr>\n",
              "      <th>5947</th>\n",
              "      <td>Maruti Omni E MPI STD BS IV</td>\n",
              "      <td>Jaipur</td>\n",
              "      <td>2015</td>\n",
              "      <td>15000</td>\n",
              "      <td>Petrol</td>\n",
              "      <td>Manual</td>\n",
              "      <td>First</td>\n",
              "      <td>16.8</td>\n",
              "      <td>796</td>\n",
              "      <td>34.20</td>\n",
              "      <td>8.0</td>\n",
              "      <td>2.35</td>\n",
              "      <td>Maruti</td>\n",
              "    </tr>\n",
              "    <tr>\n",
              "      <th>5948</th>\n",
              "      <td>Toyota Innova Crysta 2.8 GX AT 8S</td>\n",
              "      <td>Chennai</td>\n",
              "      <td>2016</td>\n",
              "      <td>40000</td>\n",
              "      <td>Diesel</td>\n",
              "      <td>Automatic</td>\n",
              "      <td>First</td>\n",
              "      <td>11.36</td>\n",
              "      <td>2755</td>\n",
              "      <td>171.50</td>\n",
              "      <td>8.0</td>\n",
              "      <td>16.45</td>\n",
              "      <td>Toyota</td>\n",
              "    </tr>\n",
              "  </tbody>\n",
              "</table>\n",
              "<p>5949 rows × 13 columns</p>\n",
              "</div>"
            ],
            "text/plain": [
              "                                        Name    Location  ...  Price           Merk\n",
              "0          Audi A4 3.2 FSI Tiptronic Quattro   Hyderabad  ...  18.00           Audi\n",
              "1                   Mercedes-Benz SLC 43 AMG  Coimbatore  ...  83.96  Mercedes-Benz\n",
              "2              Mercedes-Benz SL-Class SL 500     Kolkata  ...  29.50  Mercedes-Benz\n",
              "3             Mercedes-Benz SLK-Class 55 AMG   Bangalore  ...  90.00  Mercedes-Benz\n",
              "4             BMW Z4 2009-2013 Roadster 2.5i       Kochi  ...  58.54            BMW\n",
              "...                                      ...         ...  ...    ...            ...\n",
              "5944               Mahindra Scorpio 2.6 CRDe   Bangalore  ...   4.00       Mahindra\n",
              "5945               Mahindra Scorpio SLE BSIV       Delhi  ...   5.25       Mahindra\n",
              "5946  Toyota Innova 2.5 GX (Diesel) 8 Seater       Delhi  ...   8.25         Toyota\n",
              "5947             Maruti Omni E MPI STD BS IV      Jaipur  ...   2.35         Maruti\n",
              "5948       Toyota Innova Crysta 2.8 GX AT 8S     Chennai  ...  16.45         Toyota\n",
              "\n",
              "[5949 rows x 13 columns]"
            ]
          },
          "metadata": {
            "tags": []
          },
          "execution_count": 17
        }
      ]
    },
    {
      "cell_type": "markdown",
      "metadata": {
        "id": "EkQG8LEaVjla",
        "colab_type": "text"
      },
      "source": [
        "# Assigment"
      ]
    },
    {
      "cell_type": "code",
      "metadata": {
        "id": "inournWkP9d2",
        "colab_type": "code",
        "colab": {
          "base_uri": "https://localhost:8080/",
          "height": 479
        },
        "outputId": "a7a12730-a237-4ec5-e74c-60310bb0dc24"
      },
      "source": [
        "data.head()"
      ],
      "execution_count": null,
      "outputs": [
        {
          "output_type": "execute_result",
          "data": {
            "text/html": [
              "<div>\n",
              "<style scoped>\n",
              "    .dataframe tbody tr th:only-of-type {\n",
              "        vertical-align: middle;\n",
              "    }\n",
              "\n",
              "    .dataframe tbody tr th {\n",
              "        vertical-align: top;\n",
              "    }\n",
              "\n",
              "    .dataframe thead th {\n",
              "        text-align: right;\n",
              "    }\n",
              "</style>\n",
              "<table border=\"1\" class=\"dataframe\">\n",
              "  <thead>\n",
              "    <tr style=\"text-align: right;\">\n",
              "      <th></th>\n",
              "      <th>Name</th>\n",
              "      <th>Location</th>\n",
              "      <th>Year</th>\n",
              "      <th>Kilometers_Driven</th>\n",
              "      <th>Fuel_Type</th>\n",
              "      <th>Transmission</th>\n",
              "      <th>Owner_Type</th>\n",
              "      <th>Mileage</th>\n",
              "      <th>Engine</th>\n",
              "      <th>Power</th>\n",
              "      <th>Seats</th>\n",
              "      <th>Price</th>\n",
              "      <th>Merk</th>\n",
              "    </tr>\n",
              "  </thead>\n",
              "  <tbody>\n",
              "    <tr>\n",
              "      <th>0</th>\n",
              "      <td>Audi A4 3.2 FSI Tiptronic Quattro</td>\n",
              "      <td>Hyderabad</td>\n",
              "      <td>2012</td>\n",
              "      <td>125000</td>\n",
              "      <td>Petrol</td>\n",
              "      <td>Automatic</td>\n",
              "      <td>First</td>\n",
              "      <td>10.5</td>\n",
              "      <td>3197</td>\n",
              "      <td>0.00</td>\n",
              "      <td>0.0</td>\n",
              "      <td>18.00</td>\n",
              "      <td>Audi</td>\n",
              "    </tr>\n",
              "    <tr>\n",
              "      <th>1</th>\n",
              "      <td>Mercedes-Benz SLC 43 AMG</td>\n",
              "      <td>Coimbatore</td>\n",
              "      <td>2019</td>\n",
              "      <td>2526</td>\n",
              "      <td>Petrol</td>\n",
              "      <td>Automatic</td>\n",
              "      <td>First</td>\n",
              "      <td>19.0</td>\n",
              "      <td>2996</td>\n",
              "      <td>362.07</td>\n",
              "      <td>2.0</td>\n",
              "      <td>83.96</td>\n",
              "      <td>Mercedes-Benz</td>\n",
              "    </tr>\n",
              "    <tr>\n",
              "      <th>2</th>\n",
              "      <td>Mercedes-Benz SL-Class SL 500</td>\n",
              "      <td>Kolkata</td>\n",
              "      <td>2010</td>\n",
              "      <td>35000</td>\n",
              "      <td>Petrol</td>\n",
              "      <td>Automatic</td>\n",
              "      <td>First</td>\n",
              "      <td>8.1</td>\n",
              "      <td>5461</td>\n",
              "      <td>387.30</td>\n",
              "      <td>2.0</td>\n",
              "      <td>29.50</td>\n",
              "      <td>Mercedes-Benz</td>\n",
              "    </tr>\n",
              "    <tr>\n",
              "      <th>3</th>\n",
              "      <td>Mercedes-Benz SLK-Class 55 AMG</td>\n",
              "      <td>Bangalore</td>\n",
              "      <td>2014</td>\n",
              "      <td>3000</td>\n",
              "      <td>Petrol</td>\n",
              "      <td>Automatic</td>\n",
              "      <td>Second</td>\n",
              "      <td>12.0</td>\n",
              "      <td>5461</td>\n",
              "      <td>421.00</td>\n",
              "      <td>2.0</td>\n",
              "      <td>90.00</td>\n",
              "      <td>Mercedes-Benz</td>\n",
              "    </tr>\n",
              "    <tr>\n",
              "      <th>4</th>\n",
              "      <td>BMW Z4 2009-2013 Roadster 2.5i</td>\n",
              "      <td>Kochi</td>\n",
              "      <td>2018</td>\n",
              "      <td>9952</td>\n",
              "      <td>Petrol</td>\n",
              "      <td>Automatic</td>\n",
              "      <td>First</td>\n",
              "      <td>10.37</td>\n",
              "      <td>2979</td>\n",
              "      <td>306.00</td>\n",
              "      <td>2.0</td>\n",
              "      <td>58.54</td>\n",
              "      <td>BMW</td>\n",
              "    </tr>\n",
              "  </tbody>\n",
              "</table>\n",
              "</div>"
            ],
            "text/plain": [
              "                                Name    Location  ...  Price           Merk\n",
              "0  Audi A4 3.2 FSI Tiptronic Quattro   Hyderabad  ...  18.00           Audi\n",
              "1           Mercedes-Benz SLC 43 AMG  Coimbatore  ...  83.96  Mercedes-Benz\n",
              "2      Mercedes-Benz SL-Class SL 500     Kolkata  ...  29.50  Mercedes-Benz\n",
              "3     Mercedes-Benz SLK-Class 55 AMG   Bangalore  ...  90.00  Mercedes-Benz\n",
              "4     BMW Z4 2009-2013 Roadster 2.5i       Kochi  ...  58.54            BMW\n",
              "\n",
              "[5 rows x 13 columns]"
            ]
          },
          "metadata": {
            "tags": []
          },
          "execution_count": 18
        }
      ]
    },
    {
      "cell_type": "markdown",
      "metadata": {
        "id": "J_ZnhjTeuiGp",
        "colab_type": "text"
      },
      "source": [
        "###1. Merek mobil apa saja yang tersedia dan ada berapa banyak mobil untuk tiap merek tersebut?"
      ]
    },
    {
      "cell_type": "code",
      "metadata": {
        "id": "BMXYKIQpV3k0",
        "colab_type": "code",
        "colab": {
          "base_uri": "https://localhost:8080/",
          "height": 348
        },
        "outputId": "1d886062-aa89-49fe-aa72-10737c673614"
      },
      "source": [
        "data['Merk'].value_counts().plot.bar()"
      ],
      "execution_count": null,
      "outputs": [
        {
          "output_type": "execute_result",
          "data": {
            "text/plain": [
              "<matplotlib.axes._subplots.AxesSubplot at 0x7fd3583ede48>"
            ]
          },
          "metadata": {
            "tags": []
          },
          "execution_count": 20
        },
        {
          "output_type": "display_data",
          "data": {
            "image/png": "[encoded data removed]",
            "text/plain": [
              "<Figure size 432x288 with 1 Axes>"
            ]
          },
          "metadata": {
            "tags": [],
            "needs_background": "light"
          }
        }
      ]
    },
    {
      "cell_type": "code",
      "metadata": {
        "id": "k9W4E9cBZUyd",
        "colab_type": "code",
        "colab": {}
      },
      "source": [
        "datakm['Merk'].value_counts()"
      ],
      "execution_count": null,
      "outputs": []
    },
    {
      "cell_type": "markdown",
      "metadata": {
        "id": "4CVbRGy0u01H",
        "colab_type": "text"
      },
      "source": [
        "###2. Kota apa yang memiliki mobil bekas paling banyak?"
      ]
    },
    {
      "cell_type": "code",
      "metadata": {
        "id": "0oe19nVXYCkD",
        "colab_type": "code",
        "colab": {
          "base_uri": "https://localhost:8080/",
          "height": 333
        },
        "outputId": "9ebd5934-17a8-493b-f0a8-8e1b10d0854c"
      },
      "source": [
        "data['Location'].value_counts().plot.bar()"
      ],
      "execution_count": null,
      "outputs": [
        {
          "output_type": "execute_result",
          "data": {
            "text/plain": [
              "<matplotlib.axes._subplots.AxesSubplot at 0x7fd3584335f8>"
            ]
          },
          "metadata": {
            "tags": []
          },
          "execution_count": 21
        },
        {
          "output_type": "display_data",
          "data": {
            "image/png": "[encoded data removed]",
            "text/plain": [
              "<Figure size 432x288 with 1 Axes>"
            ]
          },
          "metadata": {
            "tags": [],
            "needs_background": "light"
          }
        }
      ]
    },
    {
      "cell_type": "code",
      "metadata": {
        "id": "-D1enAC1ZDYl",
        "colab_type": "code",
        "colab": {
          "base_uri": "https://localhost:8080/",
          "height": 221
        },
        "outputId": "f515eac5-227f-4953-9329-33852ef24a9a"
      },
      "source": [
        "Kota=data['Location'].value_counts()\n",
        "print(Kota)"
      ],
      "execution_count": null,
      "outputs": [
        {
          "output_type": "stream",
          "text": [
            "Mumbai        779\n",
            "Hyderabad     736\n",
            "Kochi         647\n",
            "Coimbatore    632\n",
            "Pune          611\n",
            "Delhi         548\n",
            "Kolkata       528\n",
            "Chennai       487\n",
            "Jaipur        409\n",
            "Bangalore     351\n",
            "Ahmedabad     221\n",
            "Name: Location, dtype: int64\n"
          ],
          "name": "stdout"
        }
      ]
    },
    {
      "cell_type": "markdown",
      "metadata": {
        "id": "F8SH7AiYirRQ",
        "colab_type": "text"
      },
      "source": [
        "***Jawab:*** Kota yang memiliki mobil bekas terbanyak adalah **Mumbai** dengan **779** mobil bekas"
      ]
    },
    {
      "cell_type": "markdown",
      "metadata": {
        "id": "rqiqwSK6vA9I",
        "colab_type": "text"
      },
      "source": [
        "###3. Bagaimana distribusi tahun edisi mobil-mobil bekas tersebut?"
      ]
    },
    {
      "cell_type": "code",
      "metadata": {
        "id": "yhOvk3k5Y6az",
        "colab_type": "code",
        "colab": {
          "base_uri": "https://localhost:8080/",
          "height": 282
        },
        "outputId": "929a980a-b389-45dd-f869-4460a159083e"
      },
      "source": [
        "data['Year'].plot.hist()"
      ],
      "execution_count": null,
      "outputs": [
        {
          "output_type": "execute_result",
          "data": {
            "text/plain": [
              "<matplotlib.axes._subplots.AxesSubplot at 0x7fd35848f0b8>"
            ]
          },
          "metadata": {
            "tags": []
          },
          "execution_count": 22
        },
        {
          "output_type": "display_data",
          "data": {
            "image/png": "[encoded data removed]",
            "text/plain": [
              "<Figure size 432x288 with 1 Axes>"
            ]
          },
          "metadata": {
            "tags": [],
            "needs_background": "light"
          }
        }
      ]
    },
    {
      "cell_type": "code",
      "metadata": {
        "id": "z_DV4s7TaPDL",
        "colab_type": "code",
        "colab": {
          "base_uri": "https://localhost:8080/",
          "height": 298
        },
        "outputId": "4dfd70e9-fff7-4f58-8210-7766912a295a"
      },
      "source": [
        "data['Year'].value_counts().plot.bar()"
      ],
      "execution_count": null,
      "outputs": [
        {
          "output_type": "execute_result",
          "data": {
            "text/plain": [
              "<matplotlib.axes._subplots.AxesSubplot at 0x7fd35845e6d8>"
            ]
          },
          "metadata": {
            "tags": []
          },
          "execution_count": 23
        },
        {
          "output_type": "display_data",
          "data": {
            "image/png": "[encoded data removed]",
            "text/plain": [
              "<Figure size 432x288 with 1 Axes>"
            ]
          },
          "metadata": {
            "tags": [],
            "needs_background": "light"
          }
        }
      ]
    },
    {
      "cell_type": "code",
      "metadata": {
        "id": "1hq_MwsDage-",
        "colab_type": "code",
        "colab": {
          "base_uri": "https://localhost:8080/",
          "height": 408
        },
        "outputId": "395cd493-a623-44c6-d3b6-f5a802095216"
      },
      "source": [
        "data['Year'].value_counts()"
      ],
      "execution_count": null,
      "outputs": [
        {
          "output_type": "execute_result",
          "data": {
            "text/plain": [
              "2014    789\n",
              "2015    740\n",
              "2016    739\n",
              "2013    643\n",
              "2017    586\n",
              "2012    569\n",
              "2011    461\n",
              "2010    338\n",
              "2018    297\n",
              "2009    195\n",
              "2008    169\n",
              "2007    122\n",
              "2019    102\n",
              "2006     75\n",
              "2005     53\n",
              "2004     27\n",
              "2003     15\n",
              "2002     13\n",
              "2001      6\n",
              "1998      4\n",
              "2000      4\n",
              "1999      2\n",
              "Name: Year, dtype: int64"
            ]
          },
          "metadata": {
            "tags": []
          },
          "execution_count": 24
        }
      ]
    },
    {
      "cell_type": "markdown",
      "metadata": {
        "id": "ZLJDiuFXvI_G",
        "colab_type": "text"
      },
      "source": [
        "###4. Berapa banyak mobil yang memiliki total jarak pemakaian di bawah 100.000 kilometer?"
      ]
    },
    {
      "cell_type": "code",
      "metadata": {
        "id": "PvCZG_sbb2Zf",
        "colab_type": "code",
        "colab": {
          "base_uri": "https://localhost:8080/",
          "height": 221
        },
        "outputId": "b35ce013-a15f-46c0-9c88-50c352ab0eb1"
      },
      "source": [
        "Mobil=data[data['Kilometers_Driven']<100000]\n",
        "\n",
        "print(Mobil['Name'].value_counts())"
      ],
      "execution_count": null,
      "outputs": [
        {
          "output_type": "stream",
          "text": [
            "Mahindra XUV500 W8 2WD                           44\n",
            "Maruti Swift VDI                                 41\n",
            "Maruti Swift Dzire VDI                           32\n",
            "Honda City 1.5 S MT                              31\n",
            "Hyundai i10 Sportz                               30\n",
            "                                                 ..\n",
            "Ford Fiesta 1.6 SXI ABS Duratec                   1\n",
            "BMW 7 Series 730Ld Design Pure Excellence CBU     1\n",
            "Mahindra KUV 100 mFALCON D75 K4 Plus 5str         1\n",
            "Skoda Rapid 1.5 TDI Style                         1\n",
            "Honda Amaze VX Diesel                             1\n",
            "Name: Name, Length: 1736, dtype: int64\n"
          ],
          "name": "stdout"
        }
      ]
    },
    {
      "cell_type": "markdown",
      "metadata": {
        "id": "wdmTBLN4jAwa",
        "colab_type": "text"
      },
      "source": [
        "**Jawab**: Jumlah Mobil dengan jarak pemaikaian di bawah 100.000 km adalah **1736** mobil dari 5949"
      ]
    },
    {
      "cell_type": "markdown",
      "metadata": {
        "id": "pRnY-XLVvQjP",
        "colab_type": "text"
      },
      "source": [
        "###5. Pada batas berapa kilometer total jarak pemakaian bisa dikategorikan sebagai rendah atau tinggi? Sertakan argumen yang mendukung jawaban."
      ]
    },
    {
      "cell_type": "code",
      "metadata": {
        "id": "LXNx4sA6wcH6",
        "colab_type": "code",
        "colab": {
          "base_uri": "https://localhost:8080/",
          "height": 102
        },
        "outputId": "e72d964b-a58c-44d1-f73d-504cc1591e3e"
      },
      "source": [
        "maks=data['Kilometers_Driven'].max()\n",
        "print(maks)\n",
        "mnm=data['Kilometers_Driven'].min()\n",
        "print(mnm)\n",
        "stds=data['Kilometers_Driven'].std()\n",
        "print(stds)\n",
        "means=data['Kilometers_Driven'].mean()\n",
        "print(means)\n",
        "medians=data['Kilometers_Driven'].median()\n",
        "print(medians)"
      ],
      "execution_count": null,
      "outputs": [
        {
          "output_type": "stream",
          "text": [
            "6500000\n",
            "171\n",
            "91647.85033766739\n",
            "58516.46058161036\n",
            "53000.0\n"
          ],
          "name": "stdout"
        }
      ]
    },
    {
      "cell_type": "markdown",
      "metadata": {
        "id": "nRz2mIC4r_9v",
        "colab_type": "text"
      },
      "source": [
        "**Jawab**: Kendaraan dengan kilometer tinggi adalah kendaraan dengan jumlah kilometer penggunaan **lebih dari 50 km**. Sumber: [Artikel](https://www.business-standard.com/article/news-cd/myth-busted-should-you-buy-a-used-car-based-only-on-kilometres-driven-116051101185_1.html)"
      ]
    },
    {
      "cell_type": "markdown",
      "metadata": {
        "id": "tdKKEhI6syN_",
        "colab_type": "text"
      },
      "source": [
        "Berdasar dataset yang ada, jika kita akan mengklasifikasikan data Kilometers_Driven menjadi dua kelas(rendah dan tinggi), maka ada dua alternatif yaitu dibatasi dengan mean dan median. \n",
        "\n",
        "Jika dibatasai dengan mean, maka kendaraan dengan kilometer tinggi adalah kendaraan yang memiliki jumlah kilometer **lebih dari 57.000 km.** \n",
        "\n",
        "Sedangkan jika dibatasi dengan median, maka kendaraan dengan kilometer tinggi adalah kendaraan yang memiliki jumlah kilometer **lebih dari 53.000 km**. Hasil ini tidak beda jauh dari artikel di atas."
      ]
    },
    {
      "cell_type": "markdown",
      "metadata": {
        "id": "8kD50GPVvYi2",
        "colab_type": "text"
      },
      "source": [
        "###6. Apakah terdapat outlier pada kolom Kilometers_Driven? Sertakan argumen yang mendukung jawaban."
      ]
    },
    {
      "cell_type": "code",
      "metadata": {
        "id": "mkFcgAD3vusA",
        "colab_type": "code",
        "colab": {
          "base_uri": "https://localhost:8080/",
          "height": 102
        },
        "outputId": "890e20c1-6cc5-430d-f6a2-a5c8048945d6"
      },
      "source": [
        "maks=data['Kilometers_Driven'].max()\n",
        "print(maks)\n",
        "mnm=data['Kilometers_Driven'].min()\n",
        "print(mnm)\n",
        "stds=data['Kilometers_Driven'].std()\n",
        "print(stds)\n",
        "means=data['Kilometers_Driven'].mean()\n",
        "print(means)\n",
        "medians=data['Kilometers_Driven'].median()\n",
        "print(medians)"
      ],
      "execution_count": null,
      "outputs": [
        {
          "output_type": "stream",
          "text": [
            "6500000\n",
            "171\n",
            "91647.85033766739\n",
            "58516.46058161036\n",
            "53000.0\n"
          ],
          "name": "stdout"
        }
      ]
    },
    {
      "cell_type": "code",
      "metadata": {
        "id": "VZduu-F8wR7U",
        "colab_type": "code",
        "colab": {
          "base_uri": "https://localhost:8080/",
          "height": 779
        },
        "outputId": "75d39c92-6645-4e20-c9ae-5df7b72a1924"
      },
      "source": [
        "data2=data.sort_values(by=['Kilometers_Driven'],ascending=False)\n",
        "data2"
      ],
      "execution_count": null,
      "outputs": [
        {
          "output_type": "execute_result",
          "data": {
            "text/html": [
              "<div>\n",
              "<style scoped>\n",
              "    .dataframe tbody tr th:only-of-type {\n",
              "        vertical-align: middle;\n",
              "    }\n",
              "\n",
              "    .dataframe tbody tr th {\n",
              "        vertical-align: top;\n",
              "    }\n",
              "\n",
              "    .dataframe thead th {\n",
              "        text-align: right;\n",
              "    }\n",
              "</style>\n",
              "<table border=\"1\" class=\"dataframe\">\n",
              "  <thead>\n",
              "    <tr style=\"text-align: right;\">\n",
              "      <th></th>\n",
              "      <th>Name</th>\n",
              "      <th>Location</th>\n",
              "      <th>Year</th>\n",
              "      <th>Kilometers_Driven</th>\n",
              "      <th>Fuel_Type</th>\n",
              "      <th>Transmission</th>\n",
              "      <th>Owner_Type</th>\n",
              "      <th>Mileage</th>\n",
              "      <th>Engine</th>\n",
              "      <th>Power</th>\n",
              "      <th>Seats</th>\n",
              "      <th>Price</th>\n",
              "      <th>Merk</th>\n",
              "    </tr>\n",
              "  </thead>\n",
              "  <tbody>\n",
              "    <tr>\n",
              "      <th>4163</th>\n",
              "      <td>BMW X5 xDrive 30d M Sport</td>\n",
              "      <td>Chennai</td>\n",
              "      <td>2017</td>\n",
              "      <td>6500000</td>\n",
              "      <td>Diesel</td>\n",
              "      <td>Automatic</td>\n",
              "      <td>First</td>\n",
              "      <td>15.97</td>\n",
              "      <td>2993</td>\n",
              "      <td>258.00</td>\n",
              "      <td>5.0</td>\n",
              "      <td>65.00</td>\n",
              "      <td>BMW</td>\n",
              "    </tr>\n",
              "    <tr>\n",
              "      <th>3617</th>\n",
              "      <td>Skoda Octavia Ambition Plus 2.0 TDI AT</td>\n",
              "      <td>Kolkata</td>\n",
              "      <td>2013</td>\n",
              "      <td>775000</td>\n",
              "      <td>Diesel</td>\n",
              "      <td>Automatic</td>\n",
              "      <td>First</td>\n",
              "      <td>19.3</td>\n",
              "      <td>1968</td>\n",
              "      <td>141.00</td>\n",
              "      <td>5.0</td>\n",
              "      <td>7.50</td>\n",
              "      <td>Skoda</td>\n",
              "    </tr>\n",
              "    <tr>\n",
              "      <th>4988</th>\n",
              "      <td>Volkswagen Vento Diesel Highline</td>\n",
              "      <td>Chennai</td>\n",
              "      <td>2013</td>\n",
              "      <td>720000</td>\n",
              "      <td>Diesel</td>\n",
              "      <td>Manual</td>\n",
              "      <td>First</td>\n",
              "      <td>20.54</td>\n",
              "      <td>1598</td>\n",
              "      <td>103.60</td>\n",
              "      <td>5.0</td>\n",
              "      <td>5.90</td>\n",
              "      <td>Volkswagen</td>\n",
              "    </tr>\n",
              "    <tr>\n",
              "      <th>3557</th>\n",
              "      <td>Hyundai i10 Magna 1.2</td>\n",
              "      <td>Chennai</td>\n",
              "      <td>2009</td>\n",
              "      <td>620000</td>\n",
              "      <td>Petrol</td>\n",
              "      <td>Manual</td>\n",
              "      <td>First</td>\n",
              "      <td>20.36</td>\n",
              "      <td>1197</td>\n",
              "      <td>78.90</td>\n",
              "      <td>5.0</td>\n",
              "      <td>2.70</td>\n",
              "      <td>Hyundai</td>\n",
              "    </tr>\n",
              "    <tr>\n",
              "      <th>751</th>\n",
              "      <td>Honda City i VTEC SV</td>\n",
              "      <td>Kolkata</td>\n",
              "      <td>2015</td>\n",
              "      <td>480000</td>\n",
              "      <td>Petrol</td>\n",
              "      <td>Manual</td>\n",
              "      <td>First</td>\n",
              "      <td>17.4</td>\n",
              "      <td>1497</td>\n",
              "      <td>117.30</td>\n",
              "      <td>5.0</td>\n",
              "      <td>5.00</td>\n",
              "      <td>Honda</td>\n",
              "    </tr>\n",
              "    <tr>\n",
              "      <th>...</th>\n",
              "      <td>...</td>\n",
              "      <td>...</td>\n",
              "      <td>...</td>\n",
              "      <td>...</td>\n",
              "      <td>...</td>\n",
              "      <td>...</td>\n",
              "      <td>...</td>\n",
              "      <td>...</td>\n",
              "      <td>...</td>\n",
              "      <td>...</td>\n",
              "      <td>...</td>\n",
              "      <td>...</td>\n",
              "      <td>...</td>\n",
              "    </tr>\n",
              "    <tr>\n",
              "      <th>1919</th>\n",
              "      <td>Renault KWID RXL</td>\n",
              "      <td>Pune</td>\n",
              "      <td>2018</td>\n",
              "      <td>1000</td>\n",
              "      <td>Petrol</td>\n",
              "      <td>Manual</td>\n",
              "      <td>First</td>\n",
              "      <td>25.17</td>\n",
              "      <td>799</td>\n",
              "      <td>53.30</td>\n",
              "      <td>5.0</td>\n",
              "      <td>3.40</td>\n",
              "      <td>Renault</td>\n",
              "    </tr>\n",
              "    <tr>\n",
              "      <th>4345</th>\n",
              "      <td>Maruti Ignis 1.2 Alpha</td>\n",
              "      <td>Mumbai</td>\n",
              "      <td>2017</td>\n",
              "      <td>1000</td>\n",
              "      <td>Petrol</td>\n",
              "      <td>Manual</td>\n",
              "      <td>First</td>\n",
              "      <td>20.89</td>\n",
              "      <td>1197</td>\n",
              "      <td>81.80</td>\n",
              "      <td>5.0</td>\n",
              "      <td>6.36</td>\n",
              "      <td>Maruti</td>\n",
              "    </tr>\n",
              "    <tr>\n",
              "      <th>3719</th>\n",
              "      <td>Hyundai Grand i10 1.2 Kappa Asta</td>\n",
              "      <td>Kolkata</td>\n",
              "      <td>2019</td>\n",
              "      <td>1000</td>\n",
              "      <td>Petrol</td>\n",
              "      <td>Manual</td>\n",
              "      <td>First</td>\n",
              "      <td>18.9</td>\n",
              "      <td>1197</td>\n",
              "      <td>81.86</td>\n",
              "      <td>5.0</td>\n",
              "      <td>6.50</td>\n",
              "      <td>Hyundai</td>\n",
              "    </tr>\n",
              "    <tr>\n",
              "      <th>1536</th>\n",
              "      <td>Maruti Wagon R ZXI AMT 1.2</td>\n",
              "      <td>Mumbai</td>\n",
              "      <td>2019</td>\n",
              "      <td>600</td>\n",
              "      <td>Petrol</td>\n",
              "      <td>Automatic</td>\n",
              "      <td>First</td>\n",
              "      <td>21.5</td>\n",
              "      <td>1197</td>\n",
              "      <td>81.80</td>\n",
              "      <td>5.0</td>\n",
              "      <td>6.25</td>\n",
              "      <td>Maruti</td>\n",
              "    </tr>\n",
              "    <tr>\n",
              "      <th>3424</th>\n",
              "      <td>Maruti Alto 800 2016-2019 VXI</td>\n",
              "      <td>Mumbai</td>\n",
              "      <td>2019</td>\n",
              "      <td>171</td>\n",
              "      <td>Petrol</td>\n",
              "      <td>Manual</td>\n",
              "      <td>First</td>\n",
              "      <td>24.7</td>\n",
              "      <td>796</td>\n",
              "      <td>47.30</td>\n",
              "      <td>5.0</td>\n",
              "      <td>3.60</td>\n",
              "      <td>Maruti</td>\n",
              "    </tr>\n",
              "  </tbody>\n",
              "</table>\n",
              "<p>5949 rows × 13 columns</p>\n",
              "</div>"
            ],
            "text/plain": [
              "                                        Name Location  ...  Price        Merk\n",
              "4163               BMW X5 xDrive 30d M Sport  Chennai  ...  65.00         BMW\n",
              "3617  Skoda Octavia Ambition Plus 2.0 TDI AT  Kolkata  ...   7.50       Skoda\n",
              "4988        Volkswagen Vento Diesel Highline  Chennai  ...   5.90  Volkswagen\n",
              "3557                   Hyundai i10 Magna 1.2  Chennai  ...   2.70     Hyundai\n",
              "751                     Honda City i VTEC SV  Kolkata  ...   5.00       Honda\n",
              "...                                      ...      ...  ...    ...         ...\n",
              "1919                        Renault KWID RXL     Pune  ...   3.40     Renault\n",
              "4345                  Maruti Ignis 1.2 Alpha   Mumbai  ...   6.36      Maruti\n",
              "3719        Hyundai Grand i10 1.2 Kappa Asta  Kolkata  ...   6.50     Hyundai\n",
              "1536              Maruti Wagon R ZXI AMT 1.2   Mumbai  ...   6.25      Maruti\n",
              "3424           Maruti Alto 800 2016-2019 VXI   Mumbai  ...   3.60      Maruti\n",
              "\n",
              "[5949 rows x 13 columns]"
            ]
          },
          "metadata": {
            "tags": []
          },
          "execution_count": 32
        }
      ]
    },
    {
      "cell_type": "code",
      "metadata": {
        "id": "E-LMczSgv0uv",
        "colab_type": "code",
        "colab": {
          "base_uri": "https://localhost:8080/",
          "height": 168
        },
        "outputId": "376bb458-d7ae-4be8-fcbc-79fd4650b171"
      },
      "source": [
        "data2[data2['Kilometers_Driven']==6500000]"
      ],
      "execution_count": null,
      "outputs": [
        {
          "output_type": "execute_result",
          "data": {
            "text/html": [
              "<div>\n",
              "<style scoped>\n",
              "    .dataframe tbody tr th:only-of-type {\n",
              "        vertical-align: middle;\n",
              "    }\n",
              "\n",
              "    .dataframe tbody tr th {\n",
              "        vertical-align: top;\n",
              "    }\n",
              "\n",
              "    .dataframe thead th {\n",
              "        text-align: right;\n",
              "    }\n",
              "</style>\n",
              "<table border=\"1\" class=\"dataframe\">\n",
              "  <thead>\n",
              "    <tr style=\"text-align: right;\">\n",
              "      <th></th>\n",
              "      <th>Name</th>\n",
              "      <th>Location</th>\n",
              "      <th>Year</th>\n",
              "      <th>Kilometers_Driven</th>\n",
              "      <th>Fuel_Type</th>\n",
              "      <th>Transmission</th>\n",
              "      <th>Owner_Type</th>\n",
              "      <th>Mileage</th>\n",
              "      <th>Engine</th>\n",
              "      <th>Power</th>\n",
              "      <th>Seats</th>\n",
              "      <th>Price</th>\n",
              "      <th>Merk</th>\n",
              "    </tr>\n",
              "  </thead>\n",
              "  <tbody>\n",
              "    <tr>\n",
              "      <th>4163</th>\n",
              "      <td>BMW X5 xDrive 30d M Sport</td>\n",
              "      <td>Chennai</td>\n",
              "      <td>2017</td>\n",
              "      <td>6500000</td>\n",
              "      <td>Diesel</td>\n",
              "      <td>Automatic</td>\n",
              "      <td>First</td>\n",
              "      <td>15.97</td>\n",
              "      <td>2993</td>\n",
              "      <td>258.0</td>\n",
              "      <td>5.0</td>\n",
              "      <td>65.0</td>\n",
              "      <td>BMW</td>\n",
              "    </tr>\n",
              "  </tbody>\n",
              "</table>\n",
              "</div>"
            ],
            "text/plain": [
              "                           Name Location  Year  ...  Seats Price Merk\n",
              "4163  BMW X5 xDrive 30d M Sport  Chennai  2017  ...    5.0  65.0  BMW\n",
              "\n",
              "[1 rows x 13 columns]"
            ]
          },
          "metadata": {
            "tags": []
          },
          "execution_count": 33
        }
      ]
    },
    {
      "cell_type": "code",
      "metadata": {
        "id": "J1cbKj3mv5nU",
        "colab_type": "code",
        "colab": {
          "base_uri": "https://localhost:8080/",
          "height": 295
        },
        "outputId": "e9dce230-a230-4470-f9be-661f4e53dd50"
      },
      "source": [
        "data2['Kilometers_Driven'].plot.hist()"
      ],
      "execution_count": null,
      "outputs": [
        {
          "output_type": "execute_result",
          "data": {
            "text/plain": [
              "<matplotlib.axes._subplots.AxesSubplot at 0x7fd35849e0f0>"
            ]
          },
          "metadata": {
            "tags": []
          },
          "execution_count": 34
        },
        {
          "output_type": "display_data",
          "data": {
            "image/png": "[encoded data removed]",
            "text/plain": [
              "<Figure size 432x288 with 1 Axes>"
            ]
          },
          "metadata": {
            "tags": [],
            "needs_background": "light"
          }
        }
      ]
    },
    {
      "cell_type": "code",
      "metadata": {
        "id": "MtA87S51hSBR",
        "colab_type": "code",
        "colab": {
          "base_uri": "https://localhost:8080/",
          "height": 297
        },
        "outputId": "f5fcb472-49f3-46de-eb32-9b8491b851fd"
      },
      "source": [
        "import seaborn as sns\n",
        "sns.boxplot(x=data2['Kilometers_Driven'])"
      ],
      "execution_count": null,
      "outputs": [
        {
          "output_type": "execute_result",
          "data": {
            "text/plain": [
              "<matplotlib.axes._subplots.AxesSubplot at 0x7fd3584fd1d0>"
            ]
          },
          "metadata": {
            "tags": []
          },
          "execution_count": 35
        },
        {
          "output_type": "display_data",
          "data": {
            "image/png": "[encoded data removed]",
            "text/plain": [
              "<Figure size 432x288 with 1 Axes>"
            ]
          },
          "metadata": {
            "tags": [],
            "needs_background": "light"
          }
        }
      ]
    },
    {
      "cell_type": "markdown",
      "metadata": {
        "id": "bWC7Dg-VwwQY",
        "colab_type": "text"
      },
      "source": [
        "**Jawab**: Ada, Jarak pemakaian dengan jumlah 6.500.000 km jelas-jelas merupakan outlier(pencilan), data ini akan dihapus untuk analisis selanjutnya"
      ]
    },
    {
      "cell_type": "code",
      "metadata": {
        "id": "XOUpwmsUq8Oz",
        "colab_type": "code",
        "colab": {
          "base_uri": "https://localhost:8080/",
          "height": 282
        },
        "outputId": "aa5bbd68-c21e-44a3-a119-732344471048"
      },
      "source": [
        "datakm=data.sort_values(by=['Kilometers_Driven'],ascending=False)\n",
        "datakm.reset_index(drop=True, inplace=True)\n",
        "datakm=datakm[1::]\n",
        "datakm\n",
        "datakm['Kilometers_Driven'].plot.hist()"
      ],
      "execution_count": null,
      "outputs": [
        {
          "output_type": "execute_result",
          "data": {
            "text/plain": [
              "<matplotlib.axes._subplots.AxesSubplot at 0x7fd3584e0fd0>"
            ]
          },
          "metadata": {
            "tags": []
          },
          "execution_count": 36
        },
        {
          "output_type": "display_data",
          "data": {
            "image/png": "[encoded data removed]",
            "text/plain": [
              "<Figure size 432x288 with 1 Axes>"
            ]
          },
          "metadata": {
            "tags": [],
            "needs_background": "light"
          }
        }
      ]
    },
    {
      "cell_type": "code",
      "metadata": {
        "id": "4PU1hdF7rlwg",
        "colab_type": "code",
        "colab": {
          "base_uri": "https://localhost:8080/",
          "height": 102
        },
        "outputId": "c2f17aee-8c4b-49c1-abbe-dcf97ee80f3e"
      },
      "source": [
        "maks=datakm['Kilometers_Driven'].max()\n",
        "print(maks)\n",
        "mnm=datakm['Kilometers_Driven'].min()\n",
        "print(mnm)\n",
        "stds=datakm['Kilometers_Driven'].std()\n",
        "print(stds)\n",
        "means=datakm['Kilometers_Driven'].mean()\n",
        "print(means)\n",
        "medians=datakm['Kilometers_Driven'].median()\n",
        "print(medians)"
      ],
      "execution_count": null,
      "outputs": [
        {
          "output_type": "stream",
          "text": [
            "775000\n",
            "171\n",
            "37715.84849784455\n",
            "57433.49428379287\n",
            "53000.0\n"
          ],
          "name": "stdout"
        }
      ]
    },
    {
      "cell_type": "code",
      "metadata": {
        "id": "-KW3XB1JxRzY",
        "colab_type": "code",
        "colab": {
          "base_uri": "https://localhost:8080/",
          "height": 297
        },
        "outputId": "3c3bae17-bd87-4a83-c255-7058d8ac6e34"
      },
      "source": [
        "import seaborn as sns\n",
        "sns.boxplot(x=datakm['Kilometers_Driven'])"
      ],
      "execution_count": null,
      "outputs": [
        {
          "output_type": "execute_result",
          "data": {
            "text/plain": [
              "<matplotlib.axes._subplots.AxesSubplot at 0x7fd358540dd8>"
            ]
          },
          "metadata": {
            "tags": []
          },
          "execution_count": 38
        },
        {
          "output_type": "display_data",
          "data": {
            "image/png": "[encoded data removed]",
            "text/plain": [
              "<Figure size 432x288 with 1 Axes>"
            ]
          },
          "metadata": {
            "tags": [],
            "needs_background": "light"
          }
        }
      ]
    },
    {
      "cell_type": "code",
      "metadata": {
        "id": "Nat6fsqkzBd8",
        "colab_type": "code",
        "colab": {
          "base_uri": "https://localhost:8080/",
          "height": 306
        },
        "outputId": "773e94a3-b20f-4fd3-b57f-5725cca72653"
      },
      "source": [
        "datakm.Kilometers_Driven.describe()"
      ],
      "execution_count": null,
      "outputs": [
        {
          "output_type": "execute_result",
          "data": {
            "text/plain": [
              "count      5948.000000\n",
              "mean      57433.494284\n",
              "std       37715.848498\n",
              "min         171.000000\n",
              "25%       33798.250000\n",
              "50%       53000.000000\n",
              "75%       72768.000000\n",
              "max      775000.000000\n",
              "Name: Kilometers_Driven, dtype: float64"
            ]
          },
          "metadata": {
            "tags": []
          },
          "execution_count": 39
        },
        {
          "output_type": "execute_result",
          "data": {
            "text/plain": [
              "count      5948.000000\n",
              "mean      57433.494284\n",
              "std       37715.848498\n",
              "min         171.000000\n",
              "25%       33798.250000\n",
              "50%       53000.000000\n",
              "75%       72768.000000\n",
              "max      775000.000000\n",
              "Name: Kilometers_Driven, dtype: float64"
            ]
          },
          "metadata": {
            "tags": []
          },
          "execution_count": 40
        }
      ]
    },
    {
      "cell_type": "markdown",
      "metadata": {
        "id": "T9gg6DLnkHrU",
        "colab_type": "text"
      },
      "source": [
        "Data dalam DataFrame **datakm** juga masih memiliki outlier, terlihat dari grafik bintang pada boxplot. "
      ]
    },
    {
      "cell_type": "markdown",
      "metadata": {
        "id": "fmxi3QWjzVl1",
        "colab_type": "text"
      },
      "source": [
        "###7. Apakah tahun pembuatan mobil berpengaruh terhadap total jarak pemakaian? Sertakan argumen yang mendukung jawaban."
      ]
    },
    {
      "cell_type": "code",
      "metadata": {
        "id": "5QKCK4tszrc_",
        "colab_type": "code",
        "colab": {
          "base_uri": "https://localhost:8080/",
          "height": 542
        },
        "outputId": "e12dbf63-d5ec-449a-9edb-2c87e956fc29"
      },
      "source": [
        "import plotly.express as px\n",
        "\n",
        "fig = px.scatter(datakm, x=\"Year\", y=\"Kilometers_Driven\", color=\"Transmission\",\n",
        "                 title=\"Total Jarak Pemakaian Mobile Bekas berdasarkan Tahun Pembuatan\",\n",
        "                )\n",
        "\n",
        "fig.show()"
      ],
      "execution_count": null,
      "outputs": [
        {
          "output_type": "display_data",
          "data": {
            "text/html": [
              "<html>\n",
              "<head><meta charset=\"utf-8\" /></head>\n",
              "<body>\n",
              "    <div>\n",
              "            <script src=\"https://cdnjs.cloudflare.com/ajax/libs/mathjax/2.7.5/MathJax.js?config=TeX-AMS-MML_SVG\"></script><script type=\"text/javascript\">if (window.MathJax) {MathJax.Hub.Config({SVG: {font: \"STIX-Web\"}});}</script>\n",
              "                <script type=\"text/javascript\">window.PlotlyConfig = {MathJaxConfig: 'local'};</script>\n",
              "        <script src=\"https://cdn.plot.ly/plotly-latest.min.js\"></script>    \n",
              "            <div id=\"53b6e60d-2e51-4ee4-a7ab-fc544eb8698c\" class=\"plotly-graph-div\" style=\"height:525px; width:100%;\"></div>\n",
              "            <script type=\"text/javascript\">\n",
              "                \n",
              "                    window.PLOTLYENV=window.PLOTLYENV || {};\n",
              "                    \n",
              "                if (document.getElementById(\"53b6e60d-2e51-4ee4-a7ab-fc544eb8698c\")) {\n",
              "                    Plotly.newPlot(\n",
              "                        '53b6e60d-2e51-4ee4-a7ab-fc544eb8698c',\n",
              "                        [{\"hoverlabel\": {\"namelength\": 0}, \"hovertemplate\": \"Transmission=Automatic<br>Year=%{x}<br>Kilometers_Driven=%{y}\", \"legendgroup\": \"Transmission=Automatic\", \"marker\": {\"color\": \"#636efa\", \"symbol\": \"circle\"}, \"mode\": \"markers\", \"name\": \"Transmission=Automatic\", \"showlegend\": true, \"type\": \"scattergl\", \"x\": [2013, 2015, 2007, 2012, 2008, 2011, 2008, 2010, 2004, 2012, 2008, 2012, 2009, 2012, 2012, 2012, 2010, 2009, 2012, 2004, 2009, 2005, 2010, 2017, 2009, 2012, 2010, 2012, 2008, 2011, 2013, 2015, 2010, 2008, 2007, 2014, 2013, 2015, 2006, 2004, 2012, 2012, 2014, 2012, 2013, 2007, 2011, 2012, 2013, 2014, 2011, 2008, 2003, 2008, 2009, 2009, 2014, 2011, 2014, 2015, 2010, 2011, 2011, 2013, 2012, 2009, 2016, 2010, 2011, 2011, 2013, 2004, 2010, 2011, 2009, 2006, 2008, 2014, 2009, 2014, 2011, 2014, 2005, 2011, 2015, 2010, 2009, 2016, 2011, 2015, 2011, 2015, 2015, 2005, 2013, 2013, 2011, 2009, 2014, 2012, 2005, 2015, 2011, 2006, 2009, 2008, 2013, 2009, 2011, 2017, 2011, 2015, 2014, 2012, 2012, 2014, 2012, 2011, 2014, 2015, 2011, 2012, 2008, 2012, 2008, 2011, 2012, 2015, 2012, 2010, 2009, 2009, 2014, 2007, 2010, 2013, 2010, 2012, 2011, 2010, 2015, 2013, 2013, 2012, 2012, 2014, 2007, 2012, 2011, 2016, 2008, 2015, 2009, 2013, 2009, 2013, 2011, 2014, 2008, 2013, 2009, 2011, 2011, 2008, 2009, 2013, 2014, 2016, 2012, 2014, 2011, 2009, 2012, 2013, 2009, 2012, 2014, 2011, 2013, 2012, 2019, 2013, 2011, 2013, 2014, 2016, 2008, 2012, 2012, 2012, 2013, 2013, 2014, 2010, 2013, 2009, 2014, 2012, 2011, 2004, 2011, 2012, 2013, 2012, 2013, 2014, 2012, 2013, 2014, 2010, 2010, 2005, 2011, 2010, 2012, 2012, 2012, 2010, 2010, 2018, 2016, 2014, 2014, 2008, 2014, 2013, 2011, 2013, 2011, 2011, 2008, 2014, 2007, 2014, 2016, 2013, 2009, 2013, 2008, 2012, 2014, 2007, 2013, 2013, 2012, 2008, 2013, 2016, 2010, 2006, 2014, 2014, 2014, 2012, 2008, 2015, 2014, 2012, 2014, 2009, 2014, 2008, 2014, 2014, 2009, 2011, 2011, 2008, 2011, 2008, 2004, 2010, 2011, 2013, 2015, 2009, 2010, 2014, 2015, 2009, 2014, 2019, 2008, 2008, 2016, 2015, 2013, 2006, 2016, 2014, 2007, 2010, 2013, 2012, 2016, 2013, 2013, 2013, 2011, 2012, 2016, 2012, 2013, 2016, 2012, 2014, 2018, 2007, 2007, 2011, 2011, 2009, 2011, 2012, 2006, 2010, 2007, 2012, 2010, 2009, 2015, 2009, 2011, 2011, 2017, 2013, 2010, 2009, 2015, 2015, 2008, 2008, 2010, 2012, 2012, 2010, 2017, 2014, 2013, 2016, 2013, 2009, 2014, 2013, 2011, 2011, 2009, 2013, 2013, 2012, 2013, 2015, 2011, 2010, 2014, 2007, 2013, 2013, 2013, 2008, 2013, 2011, 2010, 2009, 2010, 2013, 2011, 2013, 2011, 2014, 2016, 2007, 2014, 2016, 2015, 2013, 2013, 2014, 2010, 2015, 2015, 2015, 2010, 2015, 2013, 2014, 2015, 2012, 2012, 2007, 2016, 2014, 2010, 2016, 2014, 2008, 2017, 2016, 2016, 2009, 2010, 2016, 2011, 2011, 2015, 2013, 2014, 2016, 2011, 2015, 2014, 2010, 2005, 2013, 2010, 2011, 2017, 2014, 2016, 2012, 2017, 2013, 2015, 2012, 2014, 2007, 2008, 2006, 2008, 2012, 2013, 2009, 2012, 2015, 2015, 2012, 2014, 2009, 2016, 2017, 2010, 2015, 2015, 2012, 2016, 2011, 2013, 2019, 2014, 2015, 2013, 2012, 2013, 2012, 2013, 2013, 2014, 2014, 2014, 2011, 2014, 2014, 2015, 2018, 2016, 2011, 2011, 2014, 2015, 2012, 2015, 2012, 2015, 2012, 2013, 2010, 2016, 2015, 2007, 2015, 2015, 2012, 2012, 2012, 2012, 2011, 2011, 2010, 2013, 2012, 2016, 2011, 2012, 2015, 2014, 2010, 2014, 2008, 2010, 2013, 2016, 2011, 2014, 2008, 2007, 2014, 2014, 2015, 2016, 2014, 2014, 2009, 2012, 2017, 2013, 2017, 2011, 2012, 2008, 2014, 2015, 2014, 2016, 2012, 2013, 2009, 2016, 2015, 2014, 2014, 2015, 2014, 2015, 2013, 2015, 2012, 2014, 2013, 2011, 2016, 2013, 2012, 2011, 2012, 2012, 2012, 2011, 2009, 2013, 2011, 2015, 2014, 2010, 2013, 2012, 2014, 2014, 2011, 2012, 2014, 2015, 2015, 2010, 2017, 2015, 2017, 2014, 2013, 2016, 2015, 2011, 2010, 2014, 2011, 2015, 2016, 2016, 2016, 2013, 2015, 2009, 2013, 2008, 2013, 2015, 2015, 2016, 2016, 2017, 2009, 2014, 2014, 2013, 2009, 2011, 2014, 2012, 2013, 2015, 2012, 2013, 2010, 2010, 2011, 2013, 2012, 2010, 2014, 2011, 2012, 2014, 2014, 2014, 2013, 2012, 2015, 2011, 2010, 2011, 2016, 2011, 2010, 2014, 2014, 2013, 2016, 2018, 2014, 2013, 2013, 2017, 2012, 2011, 2015, 2012, 2015, 2015, 2013, 2015, 2015, 2012, 2013, 2012, 2014, 2008, 2014, 2014, 2011, 2015, 2015, 2017, 2014, 2015, 2012, 2016, 2017, 1998, 2016, 2013, 2016, 2014, 2016, 2016, 2007, 2011, 2011, 2009, 2011, 2013, 2015, 2011, 2015, 2015, 2015, 2012, 2015, 2012, 2016, 2014, 2011, 2017, 2016, 2013, 2017, 2017, 2014, 2011, 2016, 2005, 2011, 2015, 2016, 2012, 2011, 2015, 2016, 2011, 2010, 2014, 2017, 2014, 2015, 2012, 2017, 2017, 2012, 2016, 2014, 2014, 2009, 2015, 2014, 2009, 2011, 2009, 2011, 2013, 2009, 2018, 2009, 2016, 2010, 2014, 2012, 2015, 2015, 2013, 2014, 2012, 2016, 2014, 2013, 2016, 2017, 2016, 2011, 2015, 2018, 2014, 2014, 2018, 2014, 2017, 2014, 2016, 2012, 2015, 2013, 2015, 2011, 2013, 2010, 2013, 2013, 2011, 2015, 2014, 2014, 2013, 2012, 2014, 2015, 2015, 2009, 2017, 2010, 2017, 2017, 2017, 2013, 2016, 2017, 2010, 2011, 2012, 2014, 2014, 2015, 2015, 2015, 2015, 2015, 2012, 2014, 2008, 2014, 2015, 2015, 2015, 2011, 2015, 2013, 2011, 2016, 2017, 2011, 2012, 2015, 2014, 2014, 2017, 2014, 2016, 2013, 2014, 2015, 2012, 2016, 2013, 2013, 2012, 2010, 2013, 2015, 2010, 2018, 2015, 2015, 2013, 2017, 2009, 2015, 2013, 2014, 2015, 2013, 2014, 2009, 2014, 2015, 2015, 2006, 2009, 2014, 2014, 2006, 2014, 2014, 2011, 2016, 2015, 2015, 2016, 2016, 2015, 2017, 2012, 2014, 2016, 2011, 2006, 2011, 2011, 2014, 2015, 2016, 2014, 2013, 2014, 2015, 2016, 2012, 2017, 2014, 2014, 2016, 2014, 2014, 2013, 2015, 2013, 2009, 2009, 2010, 2013, 2015, 2011, 2010, 2011, 2013, 2014, 2013, 2012, 2016, 2014, 2016, 2014, 2016, 2013, 2013, 2013, 2013, 2016, 2012, 2016, 2014, 2015, 2015, 2010, 2008, 2014, 2016, 2015, 2012, 2015, 2016, 2011, 2016, 2014, 2011, 2013, 2014, 2016, 2016, 2014, 2014, 2016, 2015, 2016, 2014, 2012, 2012, 2016, 2016, 2015, 2016, 2006, 2013, 2014, 2011, 2017, 2017, 2013, 2016, 2017, 2017, 2011, 2011, 2015, 2011, 2007, 2009, 2012, 2017, 2017, 2016, 2016, 2016, 2016, 2013, 2014, 2012, 2015, 2014, 2016, 2015, 2016, 2017, 2011, 2011, 2010, 2016, 2017, 2015, 2016, 2015, 2014, 2011, 2016, 2015, 2016, 2015, 2016, 2017, 2017, 2014, 2009, 2011, 2011, 2011, 2015, 2017, 2017, 2018, 2017, 2018, 2016, 2015, 2018, 2014, 2012, 2012, 2014, 2016, 2015, 2017, 2014, 2013, 2012, 2013, 2015, 2008, 2015, 2015, 2014, 2016, 2013, 2019, 2013, 2015, 2012, 2015, 2017, 2018, 2013, 2017, 2017, 2016, 2014, 2014, 2014, 2013, 2014, 2009, 2014, 2014, 2011, 2014, 2016, 2016, 2016, 2016, 2014, 2010, 2016, 2017, 2012, 2016, 2007, 2016, 2017, 2015, 2012, 2016, 2016, 2013, 2010, 2014, 2014, 2014, 2013, 2018, 2016, 2016, 2015, 2018, 2019, 2016, 2010, 2015, 2014, 2011, 2017, 2015, 2013, 2014, 2014, 2015, 2015, 2013, 2013, 2012, 2016, 2016, 2017, 2018, 2014, 2018, 2013, 2014, 2017, 2013, 2015, 2014, 2015, 2016, 2014, 2012, 2013, 2013, 2015, 2017, 2010, 2015, 2013, 2012, 2012, 2012, 2009, 2013, 2017, 2017, 2017, 2017, 2018, 2016, 2017, 2014, 2016, 2013, 2012, 2015, 2017, 2016, 2018, 2014, 2015, 2011, 2014, 2016, 2013, 2015, 2013, 2016, 2016, 2017, 2016, 2014, 2015, 2016, 2017, 2013, 2010, 2017, 2014, 2014, 2016, 2010, 2014, 2010, 2012, 2017, 2010, 2009, 2013, 2014, 2017, 2017, 2015, 2014, 2010, 2017, 2015, 2010, 2014, 2016, 2017, 2014, 2015, 2013, 2018, 2017, 2018, 2017, 2014, 2017, 2014, 2012, 2013, 2011, 2015, 2015, 2015, 2015, 2015, 2017, 2009, 2015, 2017, 2016, 2014, 2015, 2017, 2018, 2013, 2017, 2017, 2015, 2014, 2015, 2017, 2015, 2016, 2012, 2017, 2016, 2014, 2010, 2015, 2014, 2012, 2015, 2018, 2017, 2011, 2018, 2014, 2017, 2017, 2018, 2016, 2011, 2015, 2018, 2018, 2016, 2017, 2016, 2014, 2015, 2016, 2017, 2014, 2017, 2016, 2016, 2015, 2015, 2014, 2014, 2013, 2018, 2015, 2015, 2017, 2012, 2018, 2013, 2017, 2016, 2016, 2016, 2013, 2017, 2011, 2013, 2016, 2016, 2011, 2014, 2018, 2015, 2018, 2010, 2018, 2016, 2017, 2010, 2016, 2017, 2016, 2014, 2013, 2016, 2015, 2013, 2015, 2013, 2011, 2017, 2014, 2015, 2016, 2010, 2013, 2016, 2009, 2017, 2014, 2016, 2015, 2017, 2019, 2017, 2011, 2015, 2015, 2019, 2016, 2018, 2018, 2018, 2014, 2016, 2013, 2010, 2013, 2016, 2017, 2017, 2016, 2012, 2016, 2014, 2009, 2009, 2016, 2015, 2016, 2016, 2016, 2014, 2009, 2018, 2017, 2016, 2019, 2018, 2017, 2014, 2013, 2016, 2015, 2016, 2016, 2017, 2014, 2016, 2014, 2017, 2018, 2016, 2016, 2015, 2018, 2017, 2018, 2017, 2012, 2009, 2017, 2015, 2016, 2016, 2016, 2015, 2016, 2015, 2015, 2015, 2014, 2015, 2017, 2018, 2017, 2015, 2016, 2017, 2017, 2019, 2015, 2016, 2016, 2015, 2015, 2017, 2018, 2019, 2018, 2019, 2017, 2017, 2016, 2015, 2018, 2017, 2011, 2015, 2016, 2017, 2017, 2011, 2013, 2016, 2016, 2017, 2013, 2016, 2014, 2017, 2017, 2013, 2015, 2016, 2017, 2017, 2012, 2018, 2018, 2014, 2019, 2013, 2010, 2015, 2017, 2014, 2018, 2017, 2018, 2017, 2013, 2017, 2017, 2013, 2017, 2016, 2018, 2017, 2014, 2016, 2017, 2015, 2013, 2017, 2015, 2016, 2018, 2016, 2016, 2017, 2017, 2018, 2019, 2018, 2017, 2017, 2018, 2016, 2012, 2012, 2013, 2015, 2018, 2019, 2018, 2018, 2016, 2018, 2017, 2018, 2016, 2016, 2017, 2013, 2014, 2009, 2017, 2013, 2013, 2016, 2013, 2016, 2016, 2015, 2013, 2017, 2014, 2017, 2016, 2015, 2017, 2017, 2016, 2015, 2017, 2018, 2018, 2019, 2017, 2018, 2014, 2018, 2018, 2017, 2018, 2018, 2016, 2016, 2016, 2015, 2017, 2015, 2015, 2016, 2017, 2012, 2017, 2016, 2017, 2013, 2016, 2019, 2017, 2016, 2016, 2017, 2016, 2014, 2016, 2015, 2015, 2015, 2017, 2016, 2014, 2015, 2014, 2014, 2017, 2018, 2019, 2017, 2016, 2016, 2014, 2017, 2017, 2012, 2016, 2017, 2016, 2018, 2016, 2016, 2018, 2017, 2017, 2019, 2019, 2017, 2017, 2008, 2016, 2018, 2017, 2012, 2017, 2015, 2017, 2017, 2017, 2015, 2017, 2016, 2012, 2017, 2016, 2019, 2019, 2019, 2019, 2017, 2012, 2013, 2017, 2018, 2015, 2016, 2017, 2017, 2016, 2017, 2015, 2017, 2019, 2016, 2017, 2016, 2019, 2014, 2019, 2019, 2019, 2018, 2015, 2016, 2017, 2018, 2017, 2018, 2019, 2017, 2015, 2019, 2015, 2015, 2013, 2016, 2019, 2017, 2017, 2019, 2005, 2017, 2005, 2017, 2015, 2016, 2018, 2018, 2019, 2017, 2013, 2018, 2019, 2013, 2016, 2018, 2015, 2016, 2018, 2017, 2015, 2014, 2019, 2018, 2018, 2019, 2017, 2018, 2016, 2015, 2016, 2018, 2019, 2015, 2017, 2017, 2018, 2016, 2017, 2015, 2018, 2015, 2018, 2017, 2019, 2016, 2019, 2016, 2019, 2017, 2018, 2018, 2017, 2016, 2019, 2018, 2016, 2016, 2015, 2014, 2017, 2011, 2015, 2017, 2016, 2018, 2011, 2013, 2012, 2016, 2019, 2011, 2018, 2011, 2017, 2018, 2016, 2018, 2018, 2018, 2017, 2019, 2017, 2019, 2017, 2018, 2018, 2014, 2018, 2018, 2018, 2018, 2018, 2019, 2017, 2018, 2018, 2017, 2018, 2018, 2018, 2018, 2018, 2019], \"xaxis\": \"x\", \"y\": [775000, 480000, 220000, 202082, 179000, 173000, 170000, 170000, 160000, 158000, 152633, 152000, 150000, 143017, 139000, 137008, 137000, 137000, 136997, 135000, 135000, 131000, 130923, 129000, 128000, 125000, 125000, 125000, 125000, 124652, 123000, 122086, 121812, 120300, 120000, 120000, 120000, 120000, 120000, 119859, 119203, 119000, 118218, 117236, 116000, 115800, 115692, 115000, 114000, 112827, 112719, 112500, 111000, 110000, 110000, 110000, 110000, 110000, 110000, 110000, 109703, 109000, 108905, 108640, 108000, 108000, 108000, 107000, 106976, 105000, 105000, 105000, 105000, 104000, 103905, 103000, 103000, 102865, 102002, 102001, 102000, 102000, 102000, 101999, 101337, 101119, 100970, 100200, 100000, 100000, 100000, 100000, 100000, 100000, 100000, 100000, 100000, 100000, 100000, 100000, 100000, 100000, 99606, 99583, 99100, 99000, 98000, 98000, 98000, 97430, 97320, 97003, 97000, 97000, 97000, 96848, 96000, 95995, 95649, 95000, 95000, 95000, 95000, 95000, 95000, 94821, 94521, 94000, 94000, 94000, 94000, 94000, 93144, 93000, 93000, 93000, 93000, 92469, 92239, 92098, 92000, 92000, 91903, 91743, 91696, 91586, 91000, 91000, 90000, 90000, 90000, 90000, 90000, 90000, 90000, 90000, 89616, 89540, 89000, 89000, 89000, 89000, 89000, 89000, 89000, 89000, 88046, 88008, 88000, 88000, 88000, 88000, 88000, 88000, 88000, 88000, 87652, 87073, 87000, 87000, 87000, 87000, 87000, 87000, 86925, 86642, 86340, 86000, 86000, 86000, 86000, 85846, 85071, 85001, 85000, 85000, 85000, 85000, 85000, 85000, 85000, 85000, 85000, 85000, 85000, 85000, 84384, 84000, 84000, 84000, 84000, 83929, 83010, 83000, 83000, 83000, 83000, 83000, 83000, 82739, 82725, 82536, 82329, 82167, 82002, 82002, 82000, 82000, 82000, 81650, 81308, 81001, 81000, 81000, 80999, 80578, 80464, 80127, 80000, 80000, 80000, 80000, 80000, 80000, 80000, 80000, 80000, 80000, 80000, 80000, 79926, 79271, 79000, 79000, 79000, 79000, 79000, 79000, 79000, 79000, 79000, 79000, 78616, 78500, 78442, 78256, 78203, 78000, 78000, 78000, 78000, 78000, 78000, 78000, 78000, 78000, 77849, 77815, 77771, 77652, 77395, 77240, 77000, 77000, 77000, 76927, 76718, 76662, 76467, 76000, 76000, 76000, 76000, 76000, 76000, 76000, 76000, 75995, 75871, 75668, 75637, 75059, 75000, 75000, 75000, 75000, 75000, 75000, 75000, 75000, 75000, 75000, 75000, 74500, 74483, 74213, 74199, 74002, 74000, 74000, 74000, 74000, 74000, 73783, 73641, 73525, 73336, 73204, 73204, 73187, 73095, 73000, 73000, 73000, 73000, 73000, 72524, 72469, 72202, 72132, 72000, 72000, 72000, 72000, 72000, 72000, 72000, 72000, 72000, 72000, 71932, 71826, 71703, 71473, 71000, 71000, 71000, 71000, 71000, 71000, 70998, 70816, 70749, 70521, 70200, 70181, 70000, 70000, 70000, 70000, 70000, 70000, 70000, 70000, 70000, 70000, 70000, 69330, 69300, 69123, 69053, 69002, 69000, 69000, 69000, 69000, 69000, 69000, 69000, 69000, 69000, 69000, 68782, 68630, 68400, 68333, 68319, 68193, 68163, 68001, 68000, 68000, 68000, 68000, 68000, 68000, 68000, 67774, 67612, 67415, 67000, 67000, 67000, 67000, 67000, 67000, 66988, 66882, 66618, 66538, 66507, 66372, 66122, 66000, 66000, 66000, 66000, 66000, 66000, 66000, 66000, 66000, 66000, 65938, 65800, 65664, 65630, 65462, 65405, 65367, 65329, 65320, 65266, 65148, 65003, 65000, 65000, 65000, 65000, 65000, 65000, 65000, 65000, 65000, 65000, 65000, 65000, 65000, 65000, 64984, 64889, 64557, 64103, 64035, 64000, 64000, 64000, 64000, 64000, 63998, 63983, 63888, 63856, 63720, 63716, 63298, 63111, 63050, 63000, 63000, 63000, 63000, 63000, 63000, 63000, 63000, 62943, 62714, 62655, 62500, 62404, 62332, 62282, 62242, 62012, 62004, 62000, 62000, 62000, 62000, 62000, 62000, 62000, 61938, 61932, 61730, 61726, 61717, 61648, 61529, 61517, 61500, 61240, 61221, 61202, 61108, 61000, 61000, 61000, 61000, 61000, 60952, 60924, 60908, 60587, 60510, 60475, 60395, 60336, 60280, 60146, 60033, 60007, 60001, 60001, 60000, 60000, 60000, 60000, 60000, 60000, 60000, 60000, 60000, 60000, 60000, 60000, 60000, 60000, 60000, 60000, 60000, 60000, 60000, 60000, 60000, 60000, 59967, 59900, 59885, 59800, 59751, 59660, 59636, 59630, 59500, 59364, 59302, 59000, 59000, 59000, 59000, 59000, 59000, 58970, 58953, 58671, 58661, 58629, 58589, 58557, 58500, 58483, 58410, 58390, 58239, 58205, 58197, 58151, 58000, 58000, 58000, 58000, 58000, 58000, 58000, 58000, 58000, 58000, 58000, 58000, 58000, 58000, 58000, 58000, 58000, 58000, 57937, 57832, 57788, 57773, 57539, 57456, 57352, 57156, 57022, 57000, 57000, 57000, 57000, 57000, 57000, 56838, 56778, 56683, 56674, 56652, 56501, 56500, 56500, 56451, 56400, 56361, 56238, 56200, 56087, 56073, 56000, 56000, 56000, 56000, 56000, 56000, 56000, 56000, 56000, 56000, 55987, 55985, 55980, 55975, 55730, 55662, 55598, 55547, 55389, 55300, 55115, 55101, 55100, 55001, 55001, 55000, 55000, 55000, 55000, 55000, 55000, 55000, 55000, 55000, 55000, 55000, 55000, 55000, 54996, 54957, 54897, 54862, 54774, 54650, 54620, 54534, 54455, 54387, 54385, 54348, 54253, 54000, 54000, 54000, 54000, 54000, 54000, 54000, 54000, 54000, 54000, 53900, 53841, 53753, 53735, 53537, 53285, 53105, 53024, 53000, 53000, 53000, 53000, 53000, 53000, 53000, 53000, 53000, 53000, 52900, 52830, 52827, 52100, 52001, 52000, 52000, 52000, 52000, 52000, 52000, 52000, 52000, 52000, 52000, 52000, 52000, 51982, 51944, 51602, 51535, 51530, 51495, 51355, 51346, 51240, 51210, 51076, 51002, 51001, 51000, 51000, 51000, 51000, 51000, 51000, 51000, 51000, 51000, 51000, 51000, 51000, 51000, 51000, 51000, 50979, 50940, 50902, 50794, 50645, 50534, 50510, 50484, 50319, 50296, 50170, 50161, 50058, 50001, 50000, 50000, 50000, 50000, 50000, 50000, 50000, 50000, 50000, 50000, 50000, 50000, 50000, 50000, 50000, 50000, 50000, 50000, 50000, 50000, 50000, 50000, 50000, 49964, 49800, 49275, 49112, 49000, 49000, 49000, 49000, 49000, 49000, 49000, 49000, 49000, 49000, 48823, 48600, 48394, 48367, 48300, 48214, 48183, 48161, 48040, 48000, 48000, 48000, 48000, 48000, 48000, 48000, 48000, 48000, 48000, 48000, 48000, 48000, 48000, 48000, 48000, 48000, 48000, 47877, 47877, 47759, 47691, 47681, 47566, 47357, 47346, 47303, 47293, 47140, 47088, 47000, 47000, 47000, 47000, 47000, 47000, 47000, 47000, 46983, 46936, 46913, 46849, 46738, 46728, 46630, 46559, 46374, 46125, 46001, 46000, 46000, 46000, 46000, 46000, 46000, 46000, 46000, 46000, 46000, 46000, 45979, 45840, 45794, 45710, 45560, 45535, 45492, 45330, 45306, 45200, 45200, 45180, 45178, 45165, 45051, 45000, 45000, 45000, 45000, 45000, 45000, 45000, 45000, 45000, 45000, 45000, 45000, 45000, 45000, 45000, 45000, 45000, 45000, 44999, 44965, 44875, 44811, 44782, 44600, 44555, 44450, 44414, 44340, 44194, 44001, 44000, 44000, 44000, 44000, 44000, 44000, 44000, 43983, 43827, 43812, 43800, 43706, 43690, 43686, 43627, 43600, 43510, 43477, 43368, 43252, 43022, 43000, 43000, 43000, 43000, 43000, 43000, 42939, 42876, 42747, 42666, 42646, 42500, 42408, 42400, 42388, 42366, 42265, 42259, 42076, 42070, 42036, 42024, 42023, 42000, 42000, 42000, 42000, 42000, 42000, 42000, 42000, 42000, 41988, 41950, 41816, 41747, 41736, 41697, 41661, 41617, 41493, 41467, 41380, 41367, 41100, 41089, 41082, 41057, 41041, 41016, 41000, 41000, 41000, 41000, 41000, 41000, 41000, 41000, 41000, 40714, 40674, 40670, 40600, 40471, 40337, 40318, 40129, 40100, 40000, 40000, 40000, 40000, 40000, 40000, 40000, 40000, 40000, 40000, 40000, 40000, 40000, 40000, 39882, 39753, 39644, 39626, 39525, 39500, 39430, 39273, 39237, 39037, 39000, 39000, 39000, 39000, 39000, 39000, 39000, 39000, 39000, 39000, 38999, 38998, 38852, 38730, 38593, 38467, 38171, 38163, 38009, 38001, 38000, 38000, 38000, 38000, 38000, 38000, 38000, 38000, 38000, 38000, 38000, 38000, 38000, 38000, 37944, 37832, 37713, 37632, 37630, 37613, 37600, 37542, 37500, 37500, 37382, 37340, 37300, 37245, 37229, 37199, 37086, 37081, 37024, 37000, 37000, 37000, 37000, 37000, 37000, 37000, 37000, 36935, 36931, 36884, 36824, 36797, 36789, 36723, 36631, 36610, 36400, 36300, 36255, 36152, 36139, 36091, 36000, 36000, 36000, 36000, 36000, 36000, 36000, 36000, 36000, 36000, 35676, 35659, 35642, 35463, 35437, 35358, 35299, 35277, 35225, 35214, 35165, 35129, 35102, 35059, 35010, 35000, 35000, 35000, 35000, 35000, 35000, 35000, 35000, 35000, 35000, 35000, 35000, 35000, 35000, 35000, 35000, 34990, 34987, 34895, 34700, 34696, 34686, 34630, 34429, 34233, 34232, 34200, 34000, 34000, 34000, 34000, 34000, 34000, 34000, 34000, 34000, 34000, 34000, 34000, 34000, 34000, 33931, 33900, 33858, 33709, 33552, 33550, 33500, 33450, 33000, 33000, 33000, 33000, 33000, 33000, 33000, 33000, 33000, 33000, 32982, 32910, 32896, 32854, 32838, 32824, 32807, 32700, 32684, 32642, 32586, 32545, 32531, 32500, 32496, 32434, 32345, 32324, 32298, 32283, 32205, 32198, 32000, 32000, 32000, 32000, 32000, 32000, 32000, 32000, 32000, 32000, 31919, 31821, 31652, 31645, 31500, 31427, 31400, 31300, 31150, 31075, 31021, 31000, 31000, 31000, 31000, 31000, 31000, 31000, 30900, 30733, 30717, 30706, 30566, 30552, 30534, 30523, 30500, 30500, 30090, 30000, 30000, 30000, 30000, 30000, 30000, 30000, 30000, 30000, 30000, 30000, 30000, 30000, 30000, 30000, 30000, 30000, 30000, 30000, 30000, 29966, 29952, 29836, 29819, 29813, 29631, 29500, 29311, 29277, 29277, 29161, 29091, 29063, 29022, 29000, 29000, 29000, 29000, 29000, 29000, 29000, 29000, 29000, 29000, 29000, 28888, 28881, 28843, 28733, 28541, 28503, 28469, 28352, 28321, 28226, 28143, 28069, 28060, 28052, 28000, 28000, 28000, 28000, 28000, 28000, 28000, 28000, 28000, 28000, 27853, 27852, 27833, 27809, 27641, 27467, 27417, 27413, 27313, 27090, 27078, 27001, 27001, 27000, 27000, 27000, 27000, 27000, 27000, 27000, 27000, 26856, 26725, 26493, 26405, 26327, 26323, 26212, 26192, 26023, 26013, 26000, 26000, 26000, 26000, 26000, 26000, 25948, 25899, 25858, 25717, 25601, 25559, 25500, 25100, 25082, 25058, 25000, 25000, 25000, 25000, 25000, 25000, 25000, 25000, 25000, 25000, 25000, 25000, 25000, 25000, 25000, 25000, 25000, 24941, 24852, 24733, 24720, 24500, 24465, 24300, 24013, 24000, 24000, 24000, 24000, 24000, 24000, 24000, 23875, 23806, 23627, 23576, 23550, 23312, 23249, 23218, 23152, 23106, 23000, 23000, 23000, 23000, 23000, 23000, 23000, 22982, 22974, 22769, 22732, 22526, 22440, 22397, 22321, 22060, 22000, 22000, 22000, 22000, 22000, 22000, 21983, 21979, 21936, 21719, 21684, 21603, 21600, 21488, 21363, 21290, 21110, 21000, 21000, 21000, 21000, 21000, 21000, 21000, 21000, 21000, 21000, 21000, 21000, 21000, 21000, 21000, 21000, 21000, 21000, 21000, 21000, 20969, 20967, 20826, 20789, 20667, 20604, 20483, 20469, 20446, 20364, 20300, 20300, 20149, 20026, 20004, 20003, 20002, 20000, 20000, 20000, 20000, 20000, 20000, 20000, 20000, 20000, 20000, 19863, 19828, 19658, 19654, 19543, 19254, 19235, 19168, 19000, 19000, 19000, 19000, 19000, 19000, 19000, 19000, 19000, 18955, 18600, 18500, 18491, 18385, 18373, 18351, 18090, 18000, 18000, 18000, 18000, 18000, 18000, 17978, 17800, 17773, 17738, 17652, 17585, 17489, 17465, 17320, 17201, 17000, 17000, 17000, 17000, 17000, 17000, 17000, 17000, 16900, 16503, 16500, 16485, 16329, 16100, 16000, 16000, 16000, 16000, 15976, 15456, 15379, 15369, 15234, 15200, 15200, 15000, 15000, 15000, 15000, 15000, 15000, 15000, 15000, 15000, 14900, 14857, 14500, 14470, 14351, 14298, 14262, 14233, 14165, 14076, 14000, 14000, 14000, 14000, 14000, 14000, 14000, 13747, 13689, 13648, 13574, 13506, 13500, 13452, 13418, 13414, 13412, 13372, 13190, 13002, 13000, 13000, 13000, 13000, 13000, 12831, 12794, 12645, 12538, 12467, 12278, 12153, 12100, 12000, 12000, 12000, 12000, 12000, 12000, 11964, 11900, 11827, 11500, 11287, 11209, 11200, 11000, 11000, 11000, 11000, 10714, 10601, 10512, 10501, 10500, 10003, 10000, 10000, 10000, 10000, 10000, 9952, 9500, 9312, 9000, 9000, 9000, 9000, 9000, 8900, 8682, 8525, 8500, 8018, 8000, 8000, 8000, 8000, 8000, 8000, 8000, 7501, 7500, 7100, 7000, 7000, 7000, 7000, 7000, 6773, 6500, 6000, 5900, 5500, 5354, 5240, 5000, 4500, 4131, 4000, 4000, 4000, 3906, 3600, 3300, 3000, 3000, 3000, 3000, 3000, 3000, 2971, 2526, 2000, 2000, 1997, 1800, 1700, 1400, 1331, 1000, 1000, 600], \"yaxis\": \"y\"}, {\"hoverlabel\": {\"namelength\": 0}, \"hovertemplate\": \"Transmission=Manual<br>Year=%{x}<br>Kilometers_Driven=%{y}\", \"legendgroup\": \"Transmission=Manual\", \"marker\": {\"color\": \"#EF553B\", \"symbol\": \"circle\"}, \"mode\": \"markers\", \"name\": \"Transmission=Manual\", \"showlegend\": true, \"type\": \"scattergl\", \"x\": [2013, 2009, 2015, 2013, 2008, 2005, 2012, 2007, 2013, 2014, 2010, 2013, 2011, 2010, 2013, 2009, 2009, 2006, 2012, 2006, 2016, 2012, 2008, 2004, 2004, 2007, 2011, 2006, 2007, 2013, 2014, 2006, 2014, 2010, 2006, 2008, 2011, 2015, 2004, 2009, 2012, 2009, 2014, 2007, 2013, 2008, 2016, 2013, 2008, 2011, 2010, 2014, 2007, 2013, 2008, 2016, 2011, 2011, 2015, 2015, 2012, 2013, 2009, 2004, 2013, 2011, 2006, 2014, 2012, 2007, 2006, 2013, 2008, 2012, 2009, 2006, 2014, 2010, 2009, 2014, 2000, 2011, 2011, 2010, 2009, 2013, 2012, 2006, 2007, 2010, 2015, 2010, 2008, 2011, 2015, 2005, 2008, 2005, 2015, 2015, 2008, 2012, 2012, 2012, 2013, 2011, 2006, 2011, 2009, 2012, 2011, 2011, 2017, 2012, 2014, 2015, 2006, 2009, 2012, 2011, 2016, 2006, 2007, 2006, 2010, 2007, 2011, 2010, 2010, 2013, 2015, 2011, 2008, 2011, 2007, 2014, 2006, 2006, 2001, 2010, 2007, 2007, 2012, 1999, 2010, 2009, 2013, 2009, 2008, 2008, 2009, 2016, 2012, 2009, 2007, 2009, 2011, 2010, 2014, 2014, 2012, 2010, 2010, 2010, 2016, 2010, 2014, 2008, 2006, 2013, 2003, 2016, 2013, 2012, 2015, 2012, 2008, 2013, 2011, 2016, 2010, 2010, 2012, 2007, 2001, 2010, 2013, 2012, 2015, 2011, 2015, 2011, 2010, 2015, 2004, 2004, 2013, 2017, 2008, 2012, 2011, 2011, 2017, 2010, 2011, 2010, 2007, 2006, 2013, 2016, 2005, 2011, 2012, 2001, 2012, 2013, 2013, 2006, 2007, 2003, 2016, 2010, 2011, 2003, 2010, 2011, 2000, 2014, 2011, 2012, 2005, 2013, 2005, 2013, 2008, 2009, 2014, 2011, 2010, 2017, 2012, 2015, 2016, 2011, 2008, 2007, 2001, 2006, 2017, 2007, 2013, 2010, 2012, 2010, 2008, 2012, 2015, 2009, 2010, 2012, 2013, 2005, 2011, 2005, 2016, 2016, 2015, 2011, 2009, 2005, 2013, 2011, 2008, 2007, 2010, 2012, 2007, 2015, 2010, 2010, 2009, 2014, 2007, 2012, 2012, 2008, 2014, 2009, 2014, 2013, 2011, 2012, 2015, 2009, 2007, 2013, 2016, 2012, 2014, 2012, 2010, 2005, 2010, 2012, 2008, 2013, 2010, 2011, 2008, 2015, 2007, 2016, 2013, 2011, 2010, 2008, 2012, 2009, 2010, 2012, 2012, 2010, 2011, 2010, 2012, 2006, 2015, 2011, 2012, 2014, 2011, 2006, 2004, 2012, 2008, 2011, 2010, 2010, 2010, 2012, 2006, 2007, 2010, 2011, 2011, 2014, 2005, 2006, 2016, 2014, 2010, 2012, 2013, 2010, 2008, 2013, 2012, 2012, 2015, 2014, 2016, 2012, 2016, 2013, 2014, 2005, 2013, 2012, 2012, 2010, 2005, 2014, 2013, 2010, 2012, 2001, 2014, 1998, 2011, 2014, 2002, 2007, 2015, 2007, 2014, 2015, 2013, 2014, 2010, 2011, 2015, 2005, 2005, 2017, 2003, 2006, 2017, 2016, 2006, 2015, 2015, 2010, 2011, 2008, 2010, 2007, 2013, 2015, 2014, 2016, 2015, 2005, 2017, 2009, 2012, 2012, 2005, 2016, 2013, 2006, 2011, 2008, 2015, 2013, 2008, 2010, 2011, 2012, 2016, 2005, 2010, 2015, 2011, 2012, 2013, 2013, 2016, 2013, 2016, 2002, 2012, 2008, 2015, 2006, 2002, 2011, 2004, 2013, 2017, 2005, 2006, 2012, 2016, 2015, 2014, 2011, 2012, 2011, 2011, 2014, 2007, 2014, 2009, 2014, 2011, 2009, 2012, 2014, 2012, 2015, 2012, 2010, 2008, 2007, 2012, 2012, 2015, 2014, 2011, 2013, 2009, 2011, 2017, 2010, 2013, 2008, 1998, 1998, 2012, 2010, 2014, 2010, 2010, 2011, 2014, 2004, 2006, 2012, 2014, 2012, 2012, 2008, 2012, 2011, 2010, 2010, 2010, 2012, 2004, 2013, 2011, 2010, 2015, 2012, 2010, 2014, 2014, 2016, 2008, 2008, 2013, 2010, 2002, 2014, 2012, 2010, 2015, 2016, 2015, 2015, 2005, 2013, 2013, 2014, 2018, 2006, 2008, 2007, 2013, 2009, 2005, 2012, 2012, 2012, 2013, 2009, 2007, 2015, 2009, 2012, 2007, 2012, 2010, 2012, 2011, 2013, 2012, 2015, 2007, 2016, 2010, 2015, 2011, 2015, 2005, 2008, 2012, 2009, 2009, 2015, 2012, 2010, 2011, 2013, 2013, 2010, 2012, 2011, 2007, 2011, 2010, 2015, 2016, 2007, 2016, 2014, 2005, 2012, 2013, 2008, 2012, 2007, 2000, 2015, 2008, 2014, 2012, 2014, 2014, 2011, 2016, 2014, 2013, 2005, 2010, 2014, 2013, 2012, 2014, 2009, 2014, 2013, 2006, 2014, 2013, 2011, 2006, 2006, 2014, 2012, 2015, 2014, 2009, 2009, 2016, 2007, 2012, 2012, 2011, 2014, 2014, 2014, 2015, 2012, 2008, 2009, 2013, 2012, 2013, 2012, 2005, 2012, 2012, 2012, 2015, 2013, 2011, 2012, 2005, 2012, 2009, 2010, 2013, 2014, 2013, 2010, 2014, 2008, 2006, 2014, 2012, 2013, 2009, 2011, 2008, 2010, 2011, 2015, 2013, 2015, 2014, 2016, 2011, 2010, 2014, 2008, 2013, 2013, 2008, 2011, 2009, 2006, 2010, 2007, 2005, 2016, 2014, 2014, 2016, 2008, 2016, 2013, 2013, 2014, 2010, 2012, 2012, 2010, 2015, 2015, 2009, 2011, 2016, 2010, 2006, 2002, 2006, 2011, 2009, 2008, 2013, 2016, 2014, 2011, 2009, 2008, 2010, 2015, 2011, 2015, 2014, 2013, 2016, 2015, 2013, 2013, 2007, 2007, 2016, 2010, 2011, 2005, 2014, 2009, 2014, 2015, 2010, 2013, 2013, 2016, 2013, 2010, 2011, 2014, 2008, 2008, 2011, 2015, 2013, 2009, 2012, 2016, 2014, 2014, 2013, 2012, 2013, 2014, 2012, 2013, 2014, 2015, 2006, 2008, 2009, 2011, 2012, 2015, 2003, 2012, 2010, 2011, 2012, 2008, 2015, 2012, 2015, 2007, 2013, 2010, 2016, 2011, 2013, 2016, 2012, 2012, 2014, 2010, 2015, 2013, 2008, 2016, 2006, 2014, 2010, 2011, 2008, 2008, 2012, 2012, 2012, 2009, 2015, 2012, 2010, 2011, 2015, 2017, 2007, 2009, 2010, 2004, 2012, 2008, 2012, 2015, 2015, 2014, 2011, 2013, 2014, 2016, 2013, 2004, 2013, 2010, 2016, 2010, 2015, 2014, 2010, 2016, 2007, 2014, 2005, 2011, 2012, 2014, 2007, 2005, 2014, 2008, 2015, 2012, 2015, 2008, 2012, 2015, 2010, 2013, 2009, 2015, 2013, 2008, 2010, 2013, 2009, 2016, 2016, 2014, 2014, 2015, 2006, 2008, 2016, 2006, 2010, 2011, 2015, 2017, 2008, 2010, 2003, 2012, 2010, 2012, 2011, 2012, 2006, 2007, 2019, 2017, 2014, 2016, 2009, 2008, 2011, 2011, 2009, 2011, 2011, 2012, 2011, 2015, 2012, 2011, 2012, 2014, 2014, 2012, 2012, 2011, 2010, 2014, 2012, 2009, 2013, 2013, 2010, 2011, 2013, 2014, 2011, 2005, 2013, 2014, 2009, 2011, 2012, 2015, 2011, 2010, 2013, 2015, 2013, 2012, 2012, 2014, 2006, 2007, 2011, 2016, 2011, 2012, 2010, 2017, 2012, 2012, 2010, 2015, 2012, 2011, 2015, 2015, 2016, 2008, 2013, 2015, 2012, 2012, 2006, 2011, 2010, 2006, 2016, 2011, 2000, 2012, 2012, 2007, 2010, 2014, 2008, 2014, 2014, 2013, 2012, 2011, 2010, 2008, 2012, 2012, 2013, 2016, 2011, 2011, 2010, 2015, 2015, 2016, 2012, 2011, 2013, 2007, 2014, 2011, 2012, 2010, 2014, 2015, 2010, 2013, 2015, 2014, 2015, 2008, 2007, 2011, 2015, 2014, 2009, 2010, 2011, 2012, 2010, 2007, 2008, 2011, 2011, 2016, 2015, 2015, 2015, 2012, 2016, 2010, 2009, 2015, 2014, 2012, 2012, 2017, 2013, 2012, 2011, 2011, 2013, 2013, 2010, 2011, 2012, 2014, 2012, 2007, 2014, 2014, 2014, 2014, 2007, 2010, 2015, 2013, 2011, 2010, 2011, 2012, 2013, 2010, 2015, 2013, 2013, 2008, 2008, 2016, 2012, 2013, 2011, 2002, 2014, 2013, 2012, 2011, 2014, 2010, 2007, 2015, 2011, 2012, 2014, 2011, 2012, 2012, 2007, 2009, 2011, 2015, 2008, 2012, 2009, 2002, 2014, 2013, 2014, 2013, 2014, 2013, 2014, 2014, 2016, 2017, 2014, 2014, 2014, 2014, 2015, 2013, 2014, 2014, 2013, 2013, 2012, 2010, 2008, 2013, 2012, 2013, 2014, 2012, 2011, 2015, 2014, 2013, 2016, 2015, 2011, 2013, 2013, 2007, 2012, 2013, 2014, 2015, 2010, 2004, 2012, 2015, 2013, 2013, 2013, 2009, 2015, 2016, 2014, 2017, 2014, 2012, 2015, 2011, 2011, 2017, 2012, 2016, 2016, 2016, 2010, 2012, 2015, 2008, 2009, 2015, 2012, 2017, 2008, 2017, 2014, 2015, 2016, 2014, 2012, 2015, 2013, 2014, 2012, 2010, 2014, 2010, 2012, 2012, 2010, 2017, 2016, 2014, 2015, 2014, 2010, 2015, 2012, 2012, 2010, 2010, 2012, 2010, 2013, 2017, 2011, 2008, 2010, 2007, 2011, 2010, 2007, 2014, 2007, 2007, 2012, 2010, 2008, 2011, 2011, 2012, 2012, 2011, 2012, 2014, 2006, 2013, 2010, 2006, 2013, 2014, 2013, 2014, 2012, 2012, 2014, 2007, 2012, 2011, 2009, 2013, 2009, 2014, 2012, 2009, 2013, 2014, 2007, 2017, 2013, 2012, 2016, 2010, 2012, 2013, 2013, 2013, 2012, 2014, 2011, 2014, 2014, 2010, 2016, 2010, 2007, 2010, 2010, 2011, 2010, 2014, 2014, 2013, 2013, 2014, 2012, 2012, 2008, 2014, 2015, 2015, 2010, 2016, 2010, 2016, 2014, 2006, 2013, 2012, 2010, 2011, 2014, 2014, 2010, 2010, 2011, 2003, 2016, 2014, 2010, 2011, 2009, 2014, 2012, 2011, 1999, 2005, 2007, 2013, 2013, 2009, 2012, 2007, 2009, 2016, 2011, 2013, 2017, 2013, 2009, 2011, 2008, 2015, 2012, 2011, 2012, 2011, 2016, 2011, 2013, 2011, 2015, 2012, 2007, 2013, 2010, 2001, 2015, 2013, 2014, 2010, 2014, 2002, 2008, 2003, 2014, 2010, 2014, 2004, 2007, 2011, 2015, 2009, 2016, 2013, 2014, 2005, 2016, 2011, 2012, 2014, 2015, 2013, 2010, 2013, 2015, 2012, 2013, 2017, 2006, 2011, 2016, 2014, 2014, 2002, 2013, 2008, 2009, 2011, 2012, 2008, 2010, 2013, 2016, 2014, 2014, 2013, 2014, 2013, 2012, 2015, 2018, 2014, 2017, 2007, 2015, 2011, 2014, 2011, 2013, 2010, 2014, 2012, 2012, 2015, 2008, 2012, 2014, 2011, 2009, 2012, 2011, 2014, 2013, 2012, 2009, 2011, 2008, 2013, 2009, 2011, 2011, 2012, 2014, 2013, 2007, 2013, 2016, 2010, 2014, 2008, 2006, 2011, 2012, 2009, 2011, 2010, 2016, 2013, 2016, 2013, 2014, 2010, 2010, 2014, 2012, 2013, 2015, 2012, 2015, 2013, 2014, 2017, 2016, 2013, 2011, 2014, 2016, 2013, 2012, 2006, 2012, 2015, 2011, 2014, 2002, 2016, 2016, 2012, 2013, 2012, 2015, 2014, 2013, 2012, 2014, 2011, 2016, 2014, 2011, 2017, 2007, 2015, 2010, 2013, 2015, 2007, 2010, 2013, 2004, 2015, 2014, 2009, 2014, 2015, 2015, 2013, 2016, 2010, 2011, 2012, 2009, 2010, 2011, 2013, 2011, 2005, 2015, 2011, 2016, 2014, 2008, 2010, 2010, 2014, 2010, 2015, 2012, 2010, 2008, 2014, 2014, 2009, 2011, 2011, 2011, 2014, 2011, 2011, 2012, 2015, 2012, 2017, 2013, 2017, 2006, 2015, 2012, 2014, 2015, 2013, 2012, 2015, 2012, 2012, 2011, 2011, 2012, 2013, 2013, 2013, 2016, 2016, 2012, 2015, 2014, 2016, 2015, 2005, 2012, 2002, 2015, 2010, 2012, 2009, 2013, 2013, 2012, 2012, 2009, 2007, 2015, 2014, 2015, 2017, 2010, 2008, 2014, 2014, 2012, 2010, 2010, 2012, 2013, 2011, 2011, 2006, 2014, 2012, 2016, 2012, 2009, 2011, 2017, 2011, 2015, 2011, 2013, 2012, 2009, 2013, 2012, 2013, 2009, 2009, 2011, 2013, 2015, 2016, 2013, 2012, 2015, 2008, 2015, 2003, 2015, 2013, 2011, 2013, 2011, 2012, 2011, 2008, 2007, 2017, 2015, 2011, 2012, 2017, 2015, 2012, 2015, 2015, 2014, 2016, 2009, 2013, 2013, 2015, 2018, 2013, 2015, 2015, 2014, 2011, 2012, 2012, 2014, 2010, 2008, 2013, 2014, 2015, 2015, 2014, 2013, 2013, 2014, 2013, 2007, 2014, 2012, 2013, 2011, 2008, 2009, 2009, 2016, 2014, 2013, 2013, 2016, 2011, 2017, 2013, 2015, 2013, 2015, 2017, 2016, 2015, 2015, 2015, 2010, 2015, 2017, 2012, 2016, 2015, 2013, 2014, 2009, 2013, 2017, 2013, 2013, 2006, 2016, 2013, 2010, 2014, 2012, 2010, 2016, 2009, 2008, 2015, 2007, 2015, 2007, 2012, 2013, 2013, 2009, 2012, 2013, 2014, 2015, 2016, 2017, 2016, 2013, 2012, 2014, 2013, 2017, 2016, 2015, 2015, 2014, 2015, 2014, 2009, 2014, 2007, 2010, 2015, 2008, 2013, 2014, 2016, 2016, 2013, 2015, 2013, 2011, 2015, 2013, 2011, 2015, 2013, 2011, 2012, 2010, 2016, 2016, 2014, 2016, 2014, 2015, 2010, 2013, 2013, 2015, 2008, 2014, 2013, 2010, 2008, 2012, 2014, 2008, 2012, 2003, 2013, 2010, 2012, 2014, 2004, 2014, 2012, 2012, 2012, 2013, 2015, 2011, 2009, 2014, 2016, 2017, 2015, 2015, 2016, 2010, 2015, 2013, 2011, 2013, 2016, 2014, 2013, 2003, 2012, 2018, 2014, 2015, 2012, 2013, 2011, 2013, 2016, 2010, 2013, 2015, 2015, 2014, 2012, 2015, 2008, 2011, 2014, 2004, 2016, 2014, 2017, 2016, 2012, 2016, 2016, 2012, 2014, 2013, 2011, 2015, 2015, 2012, 2017, 2016, 2017, 2015, 2013, 2013, 2012, 2015, 2009, 2014, 2008, 2015, 2017, 2017, 2011, 2009, 2010, 2017, 2013, 2002, 2013, 2012, 2013, 2017, 2011, 2009, 2016, 2014, 2012, 2014, 2013, 2013, 2011, 2010, 2015, 2011, 2009, 2009, 2011, 2009, 2004, 2009, 2014, 2012, 2012, 2014, 2009, 2009, 2015, 2012, 2014, 2010, 2013, 2015, 2013, 2012, 2012, 2012, 2011, 2013, 2014, 2007, 2015, 2010, 2014, 2014, 2014, 2013, 2005, 2009, 2016, 2013, 2011, 2007, 2008, 2013, 2016, 2014, 2014, 2008, 2016, 2015, 2016, 2014, 2015, 2015, 2014, 2014, 2017, 2013, 2014, 2012, 2010, 2015, 2013, 2015, 2010, 2015, 2013, 2010, 2015, 2014, 2015, 2007, 2015, 2015, 2007, 2015, 2013, 2010, 2012, 2009, 2013, 2014, 2012, 2013, 2014, 2014, 2016, 2017, 2015, 2014, 2007, 2012, 2011, 2015, 2013, 2012, 2017, 2013, 2014, 2017, 2014, 2014, 2014, 2015, 2015, 2014, 2007, 2013, 2012, 2012, 2012, 2010, 2015, 2012, 2016, 2011, 2012, 2008, 2014, 2014, 2015, 2015, 2015, 2016, 2014, 2006, 2015, 2012, 2014, 2014, 2015, 2013, 2016, 2013, 2014, 2013, 2010, 2005, 2014, 2014, 2014, 2011, 2011, 2012, 2010, 2014, 2014, 2013, 2015, 2015, 2014, 2015, 2016, 2015, 2017, 2016, 2015, 2013, 2016, 2013, 2014, 2017, 2010, 2013, 2014, 2016, 2011, 2014, 2007, 2011, 2015, 2017, 2013, 2012, 2018, 2015, 2015, 2014, 2009, 2013, 2014, 2010, 2013, 2014, 2015, 2013, 2014, 2015, 2015, 2014, 2013, 2013, 2014, 2013, 2014, 2014, 2011, 2016, 2017, 2009, 2016, 2015, 2015, 2013, 2016, 2012, 2014, 2016, 2014, 2016, 2013, 2014, 2011, 2013, 2015, 2017, 2013, 2013, 2019, 2008, 2013, 2012, 2014, 2013, 2015, 2014, 2014, 2014, 2011, 2016, 2014, 2012, 2014, 2012, 2013, 2012, 2014, 2014, 2005, 2012, 2010, 2006, 2010, 2014, 2008, 2011, 2013, 2014, 2014, 2016, 2015, 2016, 2015, 2016, 2014, 2011, 2018, 2011, 2014, 2008, 2015, 2012, 2012, 2010, 2014, 2014, 2012, 2013, 2016, 2013, 2007, 2016, 2014, 2012, 2012, 2011, 2016, 2013, 2015, 2014, 2015, 2012, 2014, 2012, 2010, 2011, 2014, 2010, 2014, 2008, 2014, 2015, 2014, 2010, 2014, 2011, 2016, 2016, 2007, 2013, 2012, 2014, 2017, 2012, 2013, 2003, 2015, 2009, 2012, 2012, 2013, 2014, 2015, 2013, 2013, 2016, 2013, 2012, 2011, 2014, 2017, 2010, 2016, 2010, 2011, 2014, 2013, 2013, 2010, 2017, 2016, 2015, 2016, 2014, 2014, 2009, 2012, 2013, 2014, 2015, 2019, 2016, 2011, 2012, 2016, 2014, 2017, 2014, 2011, 2016, 2014, 2016, 2015, 2011, 2010, 2013, 2013, 2012, 2016, 2016, 2014, 2016, 2013, 2014, 2015, 2015, 2016, 2012, 2016, 2012, 2015, 2015, 2008, 2014, 2011, 2014, 2017, 2013, 2013, 2008, 2015, 2016, 2014, 2011, 2015, 2016, 2015, 2015, 2015, 2002, 2015, 2015, 2015, 2015, 2014, 2018, 2010, 2013, 2013, 2013, 2016, 2011, 2013, 2009, 2017, 2012, 2013, 2014, 2015, 2012, 2014, 2016, 2013, 2015, 2016, 2014, 2015, 2012, 2014, 2015, 2013, 2014, 2012, 2014, 2016, 2012, 2013, 2013, 2016, 2015, 2015, 2012, 2014, 2014, 2014, 2017, 2018, 2016, 2015, 2011, 2017, 2010, 2015, 2012, 2012, 2015, 2007, 2007, 2015, 2016, 2015, 2014, 2012, 2018, 2018, 2016, 2012, 2014, 2014, 2017, 2014, 2017, 2013, 2014, 2012, 2011, 2010, 2014, 2014, 2015, 2012, 2011, 2012, 2016, 2006, 2017, 2014, 2010, 2012, 2016, 2012, 2008, 2008, 2014, 2014, 2013, 2014, 2011, 2015, 2009, 2010, 2013, 2013, 2017, 2003, 2012, 2012, 2016, 2011, 2018, 2012, 2016, 2013, 2016, 2016, 2012, 2016, 2016, 2016, 2016, 2017, 2011, 2016, 2015, 2014, 2015, 2011, 2011, 2013, 2011, 2008, 2015, 2014, 2016, 2018, 2017, 2010, 2013, 2014, 2011, 2017, 2012, 2016, 2016, 2015, 2014, 2012, 2013, 2014, 2016, 2017, 2012, 2016, 2014, 2012, 2007, 2010, 2013, 2013, 2008, 2014, 2015, 2017, 2007, 2006, 2016, 2017, 2015, 2012, 2014, 2011, 2011, 2012, 2013, 2012, 2018, 2015, 2008, 2017, 2012, 2008, 2018, 2013, 2016, 2015, 2007, 2015, 2008, 2010, 2011, 2016, 2012, 2016, 2010, 2011, 2014, 2012, 2015, 2014, 2013, 2015, 2011, 2005, 2012, 2015, 2014, 2013, 2011, 2016, 2016, 2012, 2017, 2005, 2012, 2015, 2015, 2016, 2015, 2016, 2014, 2015, 2011, 2015, 2010, 2015, 2015, 2011, 2016, 2012, 2014, 2017, 2014, 2017, 2016, 2014, 2017, 2016, 2015, 2013, 2013, 2017, 2012, 2012, 2013, 2016, 2013, 2015, 2013, 2014, 2014, 2013, 2013, 2010, 2005, 2014, 2017, 2012, 2012, 2014, 2013, 2015, 2015, 2014, 2012, 2016, 2010, 2011, 2014, 2011, 2011, 2013, 2014, 2018, 2017, 2013, 2014, 2008, 2015, 2017, 2018, 2016, 2013, 2010, 2014, 2014, 2014, 2010, 2015, 2018, 2014, 2016, 2017, 2012, 2014, 2012, 2012, 2014, 2014, 2015, 2011, 2013, 2009, 2014, 2016, 2011, 2015, 2013, 2015, 2017, 2010, 2007, 2014, 2012, 2010, 2011, 2016, 2014, 2014, 2016, 2012, 2013, 2004, 2016, 2015, 2015, 2013, 2006, 2014, 2017, 2017, 2014, 2015, 2016, 2015, 2016, 2014, 2015, 2011, 2009, 2013, 2011, 2011, 2013, 2010, 2013, 2014, 2012, 2013, 2009, 2016, 2012, 2014, 2013, 2008, 2014, 2011, 2017, 2013, 2016, 2015, 2009, 2017, 2013, 2018, 2008, 2011, 2018, 2011, 2016, 2007, 2011, 2014, 2017, 2015, 2015, 2014, 2015, 2016, 2013, 2013, 2018, 2016, 2015, 2016, 2013, 2015, 2015, 2015, 2015, 2018, 2012, 2013, 2015, 2011, 2017, 2016, 2014, 2013, 2016, 2014, 2011, 2011, 2011, 2013, 2017, 2008, 2011, 2017, 2012, 2015, 2010, 2014, 2016, 2014, 2016, 2012, 2014, 2014, 2011, 2018, 2011, 2008, 2012, 2016, 2014, 2016, 2017, 2017, 2013, 2016, 2015, 2012, 2010, 2005, 2016, 2014, 2014, 2012, 2014, 2013, 2010, 2011, 2014, 2016, 2012, 2014, 2014, 2013, 2017, 2013, 2014, 2014, 2010, 2015, 2015, 2014, 2016, 2014, 2013, 2015, 2012, 2013, 2012, 2014, 2015, 2012, 2014, 2010, 2009, 2014, 2014, 2013, 2014, 2015, 2017, 2013, 2005, 2014, 2015, 2013, 2017, 2016, 2013, 2015, 2012, 2013, 2013, 2010, 2012, 2014, 2014, 2018, 2011, 2015, 2013, 2017, 2017, 2015, 2014, 2011, 2008, 2013, 2015, 2014, 2014, 2017, 2016, 2018, 2013, 2016, 2015, 2014, 2017, 2014, 2016, 2012, 2018, 2009, 2003, 2016, 2012, 2015, 2013, 2006, 2015, 2015, 2017, 2011, 2006, 2013, 2014, 2013, 2015, 2017, 2018, 2014, 2011, 2015, 2017, 2017, 2014, 2012, 2008, 2016, 2018, 2018, 2014, 2015, 2014, 2013, 2012, 2014, 2013, 2007, 2017, 2015, 2016, 2018, 2014, 2014, 2015, 2016, 2009, 2011, 2013, 2017, 2016, 2015, 2010, 2013, 2011, 2017, 2010, 2017, 2015, 2009, 2011, 2015, 2015, 2017, 2015, 2016, 2012, 2012, 2016, 2012, 2012, 2015, 2017, 2008, 2015, 2014, 2016, 2014, 2013, 2014, 2014, 2016, 2018, 2016, 2018, 2015, 2011, 2014, 2013, 2007, 2011, 2014, 2010, 2016, 2014, 2010, 2015, 2016, 2012, 2011, 2012, 2015, 2014, 2009, 2007, 2018, 2016, 2013, 2015, 2013, 2014, 2009, 2015, 2008, 2011, 2014, 2014, 2016, 2017, 2007, 2012, 2017, 2014, 2017, 2011, 2019, 2016, 2016, 2015, 2016, 2014, 2010, 2018, 2012, 2017, 2013, 2016, 2014, 2016, 2013, 2017, 2012, 2018, 2017, 2014, 2010, 2014, 2014, 2019, 2015, 2012, 2011, 2015, 2016, 2011, 2013, 2016, 2016, 2014, 2016, 2015, 2014, 2015, 2012, 2014, 2013, 2014, 2014, 2015, 2015, 2016, 2011, 2015, 2016, 2016, 2014, 2012, 2015, 2015, 2011, 2017, 2016, 2016, 2018, 2012, 2016, 2013, 2017, 2017, 2014, 2015, 2016, 2018, 2017, 2015, 2016, 2008, 2013, 2013, 2012, 2017, 2014, 2015, 2013, 2013, 2017, 2015, 2015, 2017, 2015, 2013, 2014, 2018, 2014, 2008, 2014, 2013, 2014, 2006, 2016, 2015, 2014, 2012, 2013, 2017, 2007, 2009, 2014, 2010, 2013, 2018, 2013, 2015, 2017, 2018, 2016, 2010, 2015, 2017, 2010, 2014, 2012, 2013, 2012, 2017, 2015, 2017, 2015, 2010, 2016, 2015, 2014, 2018, 2011, 2011, 2016, 2015, 2015, 2012, 2011, 2015, 2014, 2011, 2010, 2015, 2017, 2016, 2017, 2010, 2013, 2013, 2014, 2017, 2012, 2014, 2017, 2013, 2016, 2017, 2017, 2017, 2013, 2013, 2017, 2018, 2014, 2016, 2016, 2010, 2017, 2017, 2018, 2018, 2017, 2011, 2017, 2008, 2012, 2016, 2016, 2010, 2012, 2017, 2017, 2011, 2013, 2016, 2010, 2010, 2012, 2008, 2015, 2016, 2010, 2013, 2012, 2017, 2018, 2017, 2015, 2013, 2014, 2008, 2016, 2011, 2016, 2017, 2015, 2016, 2013, 2015, 2010, 2016, 2018, 2018, 2017, 2017, 2017, 2016, 2017, 2016, 2011, 2018, 2016, 2014, 2012, 2018, 2014, 2016, 2013, 2017, 2017, 2016, 2018, 2017, 2018, 2016, 2011, 2014, 2017, 2016, 2011, 2017, 2013, 2012, 2011, 2016, 2011, 2015, 2014, 2014, 2011, 2012, 2017, 2015, 2013, 2014, 2014, 2013, 2009, 2015, 2012, 2011, 2017, 2014, 2016, 2016, 2015, 2015, 2016, 2016, 2013, 2016, 2015, 2016, 2016, 2014, 2016, 2012, 2017, 2011, 2015, 2011, 2017, 2016, 2013, 2011, 2016, 2017, 2015, 2015, 2016, 2013, 2013, 2016, 2015, 2011, 2014, 2014, 2013, 2016, 2015, 2012, 2014, 2015, 2015, 2011, 2010, 2013, 2017, 2016, 2011, 2015, 2018, 2012, 2014, 2018, 2018, 2015, 2013, 2017, 2017, 2015, 2016, 2008, 2019, 2012, 2015, 2011, 2018, 2016, 2017, 2016, 2014, 2010, 2014, 2013, 2017, 2014, 2015, 2012, 2017, 2014, 2011, 2015, 2009, 2018, 2009, 2013, 2015, 2016, 2015, 2011, 2010, 2014, 2007, 2011, 2011, 2015, 2014, 2016, 2013, 2016, 2012, 2016, 2016, 2016, 2015, 2011, 2016, 2015, 2013, 2013, 2013, 2019, 2014, 2014, 2016, 2013, 2017, 2017, 2015, 2015, 2016, 2013, 2016, 2016, 2015, 2015, 2016, 2016, 2012, 2016, 2011, 2012, 2016, 2016, 2009, 2012, 2010, 2016, 2017, 2014, 2013, 2013, 2013, 2016, 2019, 2018, 2016, 2015, 2014, 2014, 2015, 2016, 2014, 2011, 2017, 2013, 2012, 2018, 2015, 2018, 2016, 2014, 2016, 2013, 2016, 2007, 2016, 2017, 2016, 2015, 2017, 2017, 2016, 2014, 2015, 2014, 2014, 2013, 2017, 2018, 2013, 2014, 2012, 2013, 2010, 2014, 2012, 2018, 2016, 2018, 2018, 2017, 2013, 2011, 2012, 2018, 2012, 2014, 2016, 2013, 2014, 2013, 2017, 2019, 2017, 2017, 2016, 2015, 2011, 2018, 2016, 2012, 2017, 2017, 2011, 2011, 2009, 2009, 2017, 2015, 2010, 2015, 2011, 2015, 2014, 2016, 2015, 2017, 2013, 2014, 2015, 2016, 2016, 2015, 2014, 2015, 2015, 2011, 2014, 2017, 2017, 2016, 2019, 2016, 2017, 2017, 2014, 2014, 2018, 2009, 2015, 2018, 2016, 2019, 2015, 2014, 2017, 2014, 2017, 2014, 2018, 2016, 2016, 2016, 2015, 2017, 2013, 2013, 2012, 2018, 2018, 2010, 2017, 2015, 2016, 2016, 2013, 2014, 2016, 2018, 2017, 2013, 2010, 2017, 2015, 2009, 2019, 2017, 2015, 2017, 2007, 2016, 2016, 2017, 2016, 2014, 2015, 2013, 2016, 2017, 2013, 2013, 2014, 2014, 2015, 2010, 2017, 2016, 2014, 2015, 2014, 2014, 2013, 2018, 2014, 2015, 2013, 2006, 2016, 2016, 2011, 2018, 2014, 2017, 2015, 2017, 2017, 2012, 2015, 2016, 2017, 2018, 2012, 2016, 2018, 2016, 2016, 2016, 2015, 2016, 2015, 2012, 2016, 2015, 2016, 2016, 2019, 2017, 2014, 2016, 2016, 2017, 2012, 2015, 2010, 2013, 2014, 2016, 2014, 2011, 2016, 2013, 2016, 2014, 2016, 2012, 2017, 2015, 2004, 2016, 2017, 2018, 2015, 2016, 2018, 2018, 2017, 2016, 2018, 2018, 2015, 2014, 2011, 2017, 2015, 2016, 2016, 2017, 2016, 2017, 2017, 2011, 2014, 2014, 2015, 2015, 2016, 2015, 2015, 2015, 2012, 2017, 2016, 2017, 2015, 2009, 2013, 2017, 2014, 2015, 2016, 2016, 2016, 2016, 2017, 2010, 2017, 2016, 2017, 2015, 2017, 2018, 2014, 2019, 2016, 2017, 2016, 2017, 2010, 2006, 2013, 2015, 2015, 2012, 2017, 2017, 2017, 2015, 2015, 2015, 2012, 2016, 2017, 2018, 2014, 2015, 2017, 2017, 2015, 2016, 2016, 2017, 2010, 2016, 2017, 2017, 2013, 2017, 2018, 2012, 2015, 2017, 2017, 2017, 2013, 2008, 2015, 2017, 2016, 2018, 2013, 2018, 2017, 2018, 2016, 2014, 2016, 2016, 2016, 2015, 2016, 2016, 2015, 2015, 2015, 2010, 2016, 2017, 2015, 2017, 2017, 2013, 2014, 2016, 2009, 2013, 2016, 2015, 2015, 2011, 2014, 2013, 2018, 2015, 2016, 2017, 2014, 2013, 2015, 2018, 2014, 2016, 2016, 2018, 2017, 2016, 2015, 2018, 2017, 2014, 2016, 2017, 2018, 2017, 2014, 2017, 2015, 2014, 2014, 2012, 2017, 2017, 2016, 2015, 2014, 2015, 2013, 2011, 2012, 2017, 2014, 2015, 2016, 2017, 2015, 2017, 2013, 2012, 2017, 2016, 2019, 2019, 2017, 2015, 2017, 2012, 2017, 2015, 2017, 2016, 2015, 2017, 2015, 2016, 2016, 2017, 2016, 2015, 2018, 2017, 2017, 2013, 2016, 2017, 2016, 2018, 2011, 2014, 2013, 2012, 2017, 2016, 2014, 2016, 2017, 2017, 2016, 2017, 2019, 2015, 2014, 2018, 2017, 2012, 2016, 2017, 2014, 2017, 2016, 2017, 2017, 2019, 2012, 2015, 2015, 2014, 2015, 2013, 2015, 2014, 2010, 2017, 2016, 2015, 2015, 2013, 2018, 2017, 2017, 2017, 2016, 2018, 2016, 2017, 2018, 2017, 2017, 2018, 2014, 2017, 2016, 2014, 2009, 2017, 2015, 2017, 2013, 2016, 2015, 2017, 2015, 2016, 2016, 2013, 2017, 2017, 2016, 2014, 2013, 2017, 2015, 2017, 2017, 2017, 2017, 2016, 2017, 2014, 2014, 2015, 2016, 2016, 2016, 2016, 2015, 2017, 2017, 2019, 2019, 2019, 2013, 2010, 2015, 2015, 2011, 2016, 2016, 2014, 2016, 2014, 2015, 2016, 2013, 2013, 2019, 2011, 2015, 2015, 2017, 2015, 2019, 2018, 2019, 2018, 2014, 2016, 2011, 2015, 2018, 2018, 2016, 2018, 2013, 2016, 2015, 2018, 2018, 2017, 2013, 2011, 2017, 2017, 2015, 2015, 2018, 2015, 2016, 2016, 2014, 2016, 2013, 2015, 2016, 2016, 2017, 2019, 2014, 2017, 2015, 2018, 2014, 2017, 2017, 2015, 2017, 2016, 2010, 2012, 2016, 2015, 2017, 2016, 2015, 2014, 2017, 2016, 2016, 2016, 2016, 2014, 2018, 2007, 2018, 2017, 2018, 2019, 2018, 2018, 2017, 2016, 2019, 2017, 2018, 2017, 2016, 2014, 2016, 2010, 2015, 2016, 2014, 2010, 2014, 2015, 2018, 2016, 2014, 2016, 2014, 2018, 2018, 2013, 2019, 2017, 2014, 2016, 2018, 2017, 2017, 2014, 2016, 2018, 2016, 2017, 2017, 2010, 2013, 2018, 2017, 2016, 2018, 2016, 2014, 2018, 2014, 2017, 2011, 2016, 2015, 2017, 2019, 2014, 2016, 2019, 2016, 2015, 2019, 2017, 2014, 2017, 2016, 2019, 2017, 2016, 2018, 2016, 2016, 2016, 2015, 2016, 2018, 2018, 2018, 2017, 2011, 2017, 2012, 2017, 2011, 2016, 2016, 2017, 2017, 2018, 2015, 2018, 2017, 2017, 2017, 2017, 2015, 2016, 2017, 2017, 2017, 2012, 2015, 2014, 2014, 2016, 2018, 2016, 2015, 2016, 2012, 2017, 2012, 2014, 2017, 2016, 2019, 2017, 2017, 2018, 2017, 2019, 2018, 2017, 2016, 2017, 2017, 2017, 2018, 2015, 2017, 2018, 2017, 2014, 2017, 2017, 2015, 2011, 2018, 2015, 2019, 2019, 2018, 2015, 2014, 2016, 2017, 2016, 2016, 2017, 2014, 2016, 2018, 2019, 2015, 2018, 2018, 2017, 2017, 2018, 2018, 2016, 2019, 2012, 2016, 2016, 2016, 2014, 2016, 2014, 2019, 2017, 2016, 2019, 2017, 2017, 2014, 2017, 2015, 2018, 2004, 2015, 2016, 2015, 2010, 2017, 2017, 2018, 2016, 2017, 2017, 2018, 2013, 2018, 2018, 2016, 2019, 2016, 2019, 2015, 2017, 2018, 2011, 2016, 2014, 2016, 2013, 2017, 2018, 2018, 2014, 2012, 2018, 2016, 2018, 2018, 2018, 2014, 2017, 2015, 2018, 2017, 2018, 2016, 2017, 2010, 2016, 2018, 2016, 2014, 2018, 2018, 2018, 2014, 2018, 2014, 2011, 2018, 2016, 2016, 2014, 2016, 2017, 2016, 2014, 2017, 2018, 2013, 2018, 2018, 2014, 2019, 2016, 2017, 2016, 2017, 2017, 2017, 2017, 2017, 2017, 2017, 2017, 2013, 2017, 2019, 2018, 2016, 2017, 2015, 2014, 2016, 2017, 2016, 2016, 2014, 2017, 2016, 2018, 2016, 2016, 2019, 2018, 2019, 2019, 2017, 2016, 2016, 2018, 2016, 2017, 2016, 2017, 2005, 2018, 2016, 2017, 2018, 2016, 2019, 2018, 2018, 2018, 2017, 2018, 2018, 2016, 2019, 2017, 2013, 2018, 2015, 2012, 2016, 2018, 2017, 2016, 2018, 2017, 2017, 2018, 2019, 2018, 2019, 2018, 2015, 2017, 2018, 2018, 2008, 2017, 2018, 2017, 2018, 2018, 2017, 2018, 2018, 2018, 2007, 2018, 2018, 2015, 2018, 2017, 2019, 2019, 2019, 2018, 2017, 2019, 2019], \"xaxis\": \"x\", \"y\": [720000, 620000, 480000, 445000, 300000, 299322, 282000, 262000, 255000, 250000, 250000, 250000, 248000, 242000, 234000, 232000, 231673, 230000, 225000, 216000, 215000, 210000, 205000, 200000, 200000, 200000, 200000, 200000, 199000, 197000, 197000, 196000, 194000, 193254, 193000, 192000, 190000, 190000, 186679, 185200, 180000, 180000, 180000, 179032, 179000, 178280, 178000, 177000, 176000, 173000, 172050, 171000, 170428, 170000, 170000, 170000, 169006, 169000, 169000, 168205, 168000, 167362, 167000, 167000, 166194, 166000, 165000, 163000, 162663, 162000, 160538, 160000, 160000, 160000, 160000, 160000, 160000, 160000, 160000, 158793, 158000, 157000, 156347, 156210, 156056, 156000, 155566, 155000, 155000, 154000, 153000, 152000, 152000, 151000, 150386, 150000, 150000, 150000, 150000, 150000, 150000, 150000, 150000, 150000, 150000, 150000, 150000, 150000, 149706, 149000, 148009, 148000, 148000, 148000, 147898, 147848, 147350, 147000, 146824, 146300, 146000, 146000, 145277, 145000, 145000, 145000, 144471, 144400, 144113, 144000, 144000, 143354, 143275, 143143, 143000, 142000, 142000, 141537, 140000, 140000, 140000, 140000, 140000, 140000, 140000, 140000, 140000, 138205, 138000, 138000, 138000, 138000, 137800, 137148, 137000, 136642, 136490, 136000, 136000, 135670, 135000, 135000, 135000, 135000, 135000, 134000, 133944, 133000, 133000, 132000, 132000, 132000, 132000, 131765, 131000, 131000, 131000, 130790, 130002, 130000, 130000, 130000, 130000, 130000, 130000, 130000, 130000, 130000, 130000, 130000, 130000, 130000, 129986, 129750, 129000, 129000, 129000, 129000, 128813, 128000, 128000, 128000, 128000, 128000, 127887, 127510, 127079, 127001, 127000, 126000, 126000, 126000, 126000, 125943, 125928, 125600, 125000, 125000, 125000, 125000, 125000, 125000, 125000, 125000, 124313, 124000, 124000, 123900, 123880, 123600, 123200, 123000, 123000, 123000, 122397, 122000, 122000, 122000, 122000, 121900, 121377, 121374, 121362, 121311, 121097, 121000, 121000, 121000, 121000, 120203, 120005, 120000, 120000, 120000, 120000, 120000, 120000, 120000, 120000, 120000, 120000, 120000, 120000, 120000, 120000, 120000, 120000, 120000, 120000, 120000, 119000, 119000, 119000, 119000, 119000, 118683, 118500, 118211, 118077, 118000, 118000, 118000, 118000, 117837, 117777, 117080, 117000, 117000, 116905, 116694, 116000, 116000, 116000, 116000, 116000, 115195, 115000, 115000, 115000, 115000, 115000, 115000, 115000, 115000, 114750, 114708, 114703, 113562, 113000, 113000, 112808, 112200, 112000, 112000, 111111, 111111, 111000, 111000, 110471, 110438, 110224, 110009, 110000, 110000, 110000, 110000, 110000, 110000, 110000, 110000, 110000, 110000, 110000, 110000, 109606, 109500, 109200, 109147, 109000, 109000, 109000, 108995, 108882, 108626, 108242, 108000, 108000, 108000, 107890, 107825, 107389, 107023, 107000, 107000, 107000, 107000, 107000, 107000, 107000, 107000, 106092, 106000, 105545, 105072, 105044, 105000, 105000, 105000, 105000, 105000, 105000, 105000, 105000, 105000, 104000, 104000, 104000, 104000, 103814, 103788, 103653, 103515, 103000, 103000, 103000, 102626, 102486, 102418, 102016, 102013, 102000, 102000, 102000, 101065, 101000, 101000, 100400, 100303, 100173, 100073, 100073, 100030, 100010, 100009, 100002, 100000, 100000, 100000, 100000, 100000, 100000, 100000, 100000, 100000, 100000, 100000, 100000, 100000, 100000, 100000, 100000, 100000, 100000, 100000, 100000, 100000, 100000, 100000, 100000, 100000, 100000, 100000, 99807, 99754, 99638, 99595, 99593, 99500, 99362, 99024, 99000, 99000, 99000, 99000, 99000, 99000, 98798, 98598, 98500, 98437, 98293, 98008, 98000, 98000, 98000, 98000, 98000, 98000, 98000, 98000, 98000, 97439, 97359, 97236, 97000, 97000, 97000, 97000, 97000, 97000, 97000, 96813, 96578, 96000, 96000, 96000, 96000, 96000, 96000, 96000, 95980, 95936, 95802, 95637, 95500, 95291, 95150, 95150, 95100, 95000, 95000, 95000, 95000, 95000, 95000, 95000, 95000, 95000, 95000, 94989, 94900, 94873, 94868, 94832, 94753, 94500, 94385, 94000, 94000, 94000, 93982, 93850, 93700, 93450, 93401, 93325, 93321, 93166, 93000, 93000, 93000, 93000, 93000, 93000, 93000, 93000, 93000, 93000, 92885, 92708, 92450, 92408, 92250, 92247, 92056, 92000, 92000, 92000, 92000, 92000, 92000, 92000, 92000, 92000, 92000, 92000, 92000, 92000, 92000, 92000, 92000, 91931, 91596, 91235, 91211, 91200, 91183, 91000, 91000, 91000, 91000, 91000, 91000, 91000, 91000, 91000, 90906, 90764, 90456, 90413, 90400, 90246, 90207, 90200, 90121, 90110, 90049, 90000, 90000, 90000, 90000, 90000, 90000, 90000, 90000, 90000, 90000, 90000, 90000, 90000, 90000, 90000, 90000, 90000, 90000, 90000, 90000, 90000, 90000, 90000, 90000, 90000, 90000, 90000, 90000, 90000, 90000, 90000, 90000, 90000, 90000, 89900, 89869, 89614, 89429, 89401, 89327, 89326, 89230, 89000, 89000, 89000, 89000, 89000, 89000, 89000, 89000, 88578, 88539, 88511, 88500, 88500, 88428, 88381, 88123, 88096, 88000, 88000, 88000, 88000, 88000, 88000, 88000, 87982, 87900, 87736, 87670, 87615, 87591, 87510, 87459, 87430, 87284, 87200, 87192, 87000, 87000, 87000, 87000, 87000, 87000, 86999, 86863, 86732, 86700, 86514, 86500, 86398, 86300, 86157, 86091, 86000, 86000, 86000, 86000, 86000, 86000, 86000, 86000, 86000, 86000, 86000, 86000, 86000, 86000, 85827, 85670, 85512, 85450, 85445, 85423, 85388, 85350, 85301, 85155, 85122, 85112, 85046, 85000, 85000, 85000, 85000, 85000, 85000, 85000, 85000, 85000, 85000, 85000, 85000, 85000, 85000, 85000, 85000, 85000, 85000, 85000, 84931, 84912, 84725, 84677, 84600, 84580, 84415, 84360, 84175, 84169, 84143, 84085, 84072, 84062, 84060, 84056, 84045, 84000, 84000, 84000, 84000, 84000, 84000, 84000, 84000, 84000, 84000, 84000, 84000, 83969, 83950, 83875, 83816, 83678, 83629, 83558, 83500, 83432, 83381, 83327, 83274, 83184, 83165, 83128, 83090, 83072, 83000, 83000, 83000, 83000, 83000, 83000, 83000, 83000, 83000, 83000, 83000, 83000, 83000, 83000, 83000, 83000, 83000, 83000, 83000, 82966, 82756, 82749, 82697, 82621, 82606, 82603, 82543, 82500, 82497, 82453, 82450, 82407, 82321, 82203, 82160, 82103, 82085, 82069, 82002, 82000, 82000, 82000, 82000, 82000, 82000, 82000, 82000, 82000, 82000, 82000, 82000, 82000, 82000, 81828, 81768, 81759, 81755, 81609, 81605, 81504, 81500, 81456, 81448, 81424, 81402, 81310, 81298, 81245, 81177, 81000, 81000, 81000, 81000, 81000, 81000, 81000, 81000, 81000, 80931, 80883, 80799, 80768, 80759, 80753, 80606, 80561, 80544, 80524, 80500, 80430, 80400, 80302, 80264, 80227, 80219, 80103, 80102, 80073, 80064, 80010, 80000, 80000, 80000, 80000, 80000, 80000, 80000, 80000, 80000, 80000, 80000, 80000, 80000, 80000, 80000, 80000, 80000, 80000, 80000, 80000, 80000, 80000, 80000, 80000, 80000, 80000, 80000, 80000, 80000, 80000, 80000, 80000, 80000, 80000, 80000, 80000, 80000, 79985, 79940, 79894, 79870, 79824, 79782, 79663, 79494, 79324, 79232, 79225, 79200, 79152, 79012, 79000, 79000, 79000, 79000, 79000, 79000, 79000, 79000, 79000, 79000, 79000, 79000, 79000, 79000, 79000, 79000, 79000, 79000, 78958, 78600, 78563, 78526, 78500, 78401, 78400, 78233, 78212, 78088, 78046, 78008, 78000, 78000, 78000, 78000, 78000, 78000, 78000, 78000, 78000, 78000, 78000, 78000, 78000, 78000, 78000, 78000, 78000, 77795, 77650, 77500, 77469, 77445, 77407, 77400, 77332, 77325, 77283, 77216, 77084, 77076, 77001, 77000, 77000, 77000, 77000, 77000, 77000, 77000, 77000, 77000, 77000, 76976, 76777, 76752, 76551, 76496, 76477, 76476, 76427, 76414, 76362, 76206, 76161, 76155, 76128, 76126, 76000, 76000, 76000, 76000, 76000, 76000, 76000, 76000, 76000, 76000, 76000, 75915, 75863, 75800, 75700, 75695, 75648, 75600, 75578, 75464, 75451, 75445, 75421, 75391, 75378, 75372, 75371, 75348, 75319, 75308, 75300, 75216, 75200, 75180, 75180, 75160, 75136, 75074, 75055, 75055, 75055, 75049, 75020, 75014, 75000, 75000, 75000, 75000, 75000, 75000, 75000, 75000, 75000, 75000, 75000, 75000, 75000, 75000, 75000, 75000, 75000, 75000, 75000, 75000, 75000, 75000, 75000, 75000, 75000, 75000, 75000, 75000, 75000, 75000, 75000, 75000, 75000, 75000, 75000, 75000, 75000, 75000, 74980, 74911, 74885, 74755, 74663, 74624, 74611, 74515, 74500, 74500, 74345, 74325, 74310, 74290, 74219, 74041, 74000, 74000, 74000, 74000, 74000, 74000, 74000, 74000, 74000, 74000, 74000, 74000, 74000, 74000, 74000, 74000, 74000, 74000, 74000, 73745, 73670, 73648, 73557, 73539, 73513, 73500, 73500, 73500, 73314, 73278, 73212, 73200, 73070, 73053, 73042, 73003, 73000, 73000, 73000, 73000, 73000, 73000, 73000, 73000, 73000, 73000, 73000, 73000, 73000, 73000, 73000, 72996, 72921, 72717, 72672, 72668, 72618, 72599, 72566, 72563, 72500, 72495, 72486, 72465, 72450, 72425, 72411, 72400, 72389, 72351, 72204, 72202, 72118, 72100, 72035, 72022, 72010, 72007, 72003, 72000, 72000, 72000, 72000, 72000, 72000, 72000, 72000, 72000, 72000, 72000, 72000, 72000, 72000, 72000, 72000, 72000, 72000, 72000, 72000, 72000, 72000, 72000, 72000, 72000, 72000, 72000, 72000, 72000, 72000, 71993, 71904, 71899, 71803, 71800, 71791, 71787, 71649, 71600, 71558, 71556, 71499, 71491, 71400, 71390, 71360, 71346, 71336, 71300, 71297, 71256, 71231, 71172, 71156, 71088, 71082, 71007, 71000, 71000, 71000, 71000, 71000, 71000, 71000, 71000, 71000, 71000, 71000, 71000, 71000, 71000, 71000, 71000, 70963, 70961, 70933, 70920, 70707, 70704, 70700, 70669, 70623, 70602, 70600, 70536, 70500, 70478, 70374, 70362, 70359, 70337, 70290, 70259, 70089, 70010, 70002, 70000, 70000, 70000, 70000, 70000, 70000, 70000, 70000, 70000, 70000, 70000, 70000, 70000, 70000, 70000, 70000, 70000, 70000, 70000, 70000, 70000, 70000, 70000, 70000, 70000, 70000, 70000, 70000, 70000, 70000, 70000, 70000, 70000, 70000, 70000, 70000, 70000, 70000, 70000, 70000, 70000, 70000, 70000, 70000, 70000, 70000, 70000, 70000, 70000, 69972, 69966, 69918, 69918, 69876, 69870, 69775, 69768, 69749, 69690, 69681, 69573, 69565, 69496, 69434, 69313, 69242, 69192, 69189, 69140, 69009, 69000, 69000, 69000, 69000, 69000, 69000, 69000, 69000, 69000, 69000, 69000, 69000, 69000, 69000, 69000, 69000, 69000, 69000, 69000, 69000, 69000, 69000, 68880, 68865, 68800, 68776, 68764, 68737, 68598, 68557, 68553, 68525, 68465, 68462, 68439, 68434, 68375, 68365, 68350, 68347, 68310, 68282, 68238, 68218, 68128, 68078, 68038, 68022, 68010, 68008, 68000, 68000, 68000, 68000, 68000, 68000, 68000, 68000, 68000, 68000, 68000, 68000, 68000, 68000, 68000, 68000, 68000, 68000, 68000, 68000, 68000, 68000, 68000, 67995, 67914, 67906, 67901, 67771, 67758, 67714, 67668, 67635, 67620, 67600, 67590, 67585, 67559, 67557, 67489, 67472, 67443, 67422, 67407, 67376, 67263, 67200, 67196, 67147, 67048, 67031, 67000, 67000, 67000, 67000, 67000, 67000, 67000, 67000, 67000, 67000, 67000, 67000, 67000, 67000, 67000, 67000, 67000, 67000, 67000, 67000, 66930, 66823, 66800, 66770, 66700, 66624, 66510, 66500, 66484, 66355, 66339, 66337, 66314, 66296, 66285, 66276, 66245, 66149, 66123, 66035, 66012, 66000, 66000, 66000, 66000, 66000, 66000, 66000, 66000, 66000, 66000, 66000, 66000, 66000, 66000, 66000, 66000, 66000, 66000, 66000, 66000, 66000, 66000, 66000, 66000, 65932, 65925, 65900, 65850, 65807, 65792, 65771, 65743, 65727, 65694, 65668, 65650, 65634, 65542, 65537, 65537, 65423, 65400, 65349, 65287, 65280, 65278, 65263, 65257, 65254, 65218, 65213, 65210, 65178, 65175, 65167, 65134, 65100, 65100, 65097, 65090, 65088, 65060, 65060, 65055, 65055, 65047, 65012, 65000, 65000, 65000, 65000, 65000, 65000, 65000, 65000, 65000, 65000, 65000, 65000, 65000, 65000, 65000, 65000, 65000, 65000, 65000, 65000, 65000, 65000, 65000, 65000, 65000, 65000, 65000, 65000, 65000, 65000, 65000, 65000, 65000, 65000, 65000, 65000, 65000, 65000, 65000, 65000, 65000, 65000, 65000, 65000, 65000, 65000, 65000, 65000, 65000, 65000, 65000, 65000, 64961, 64876, 64831, 64806, 64798, 64771, 64709, 64687, 64677, 64637, 64624, 64514, 64500, 64466, 64465, 64456, 64430, 64424, 64399, 64394, 64357, 64290, 64284, 64241, 64236, 64226, 64186, 64042, 64005, 64000, 64000, 64000, 64000, 64000, 64000, 64000, 64000, 64000, 64000, 64000, 64000, 64000, 64000, 64000, 64000, 64000, 64000, 64000, 63991, 63939, 63854, 63818, 63777, 63776, 63770, 63738, 63714, 63714, 63642, 63600, 63591, 63423, 63400, 63316, 63310, 63295, 63288, 63274, 63265, 63262, 63220, 63210, 63181, 63141, 63107, 63067, 63003, 63001, 63000, 63000, 63000, 63000, 63000, 63000, 63000, 63000, 63000, 63000, 63000, 63000, 63000, 63000, 63000, 63000, 62946, 62788, 62767, 62746, 62729, 62700, 62700, 62691, 62679, 62588, 62550, 62549, 62542, 62505, 62500, 62497, 62493, 62489, 62476, 62364, 62334, 62322, 62287, 62192, 62188, 62178, 62162, 62148, 62144, 62132, 62100, 62088, 62084, 62020, 62005, 62001, 62000, 62000, 62000, 62000, 62000, 62000, 62000, 62000, 62000, 62000, 62000, 62000, 62000, 62000, 62000, 62000, 62000, 62000, 62000, 62000, 62000, 62000, 62000, 62000, 62000, 62000, 62000, 62000, 62000, 62000, 62000, 62000, 61964, 61922, 61823, 61795, 61786, 61738, 61717, 61700, 61691, 61672, 61600, 61591, 61578, 61566, 61510, 61495, 61449, 61386, 61325, 61313, 61250, 61238, 61111, 61110, 61012, 61000, 61000, 61000, 61000, 61000, 61000, 61000, 61000, 61000, 61000, 61000, 61000, 61000, 60993, 60913, 60818, 60813, 60805, 60788, 60750, 60669, 60634, 60586, 60519, 60500, 60500, 60453, 60357, 60334, 60328, 60283, 60271, 60207, 60170, 60138, 60123, 60095, 60083, 60048, 60020, 60002, 60000, 60000, 60000, 60000, 60000, 60000, 60000, 60000, 60000, 60000, 60000, 60000, 60000, 60000, 60000, 60000, 60000, 60000, 60000, 60000, 60000, 60000, 60000, 60000, 60000, 60000, 60000, 60000, 60000, 60000, 60000, 60000, 60000, 60000, 60000, 60000, 60000, 60000, 60000, 60000, 60000, 60000, 60000, 60000, 60000, 60000, 60000, 60000, 60000, 60000, 60000, 60000, 60000, 60000, 60000, 60000, 60000, 60000, 60000, 60000, 59998, 59962, 59923, 59833, 59767, 59751, 59711, 59589, 59572, 59525, 59508, 59451, 59450, 59350, 59327, 59293, 59270, 59261, 59254, 59245, 59196, 59182, 59138, 59136, 59000, 59000, 59000, 59000, 59000, 59000, 59000, 59000, 59000, 59000, 59000, 59000, 59000, 59000, 59000, 59000, 58995, 58972, 58950, 58829, 58817, 58816, 58815, 58775, 58752, 58734, 58653, 58646, 58620, 58581, 58500, 58500, 58472, 58470, 58407, 58400, 58397, 58310, 58307, 58291, 58253, 58235, 58200, 58163, 58134, 58133, 58095, 58075, 58006, 58005, 58003, 58002, 58000, 58000, 58000, 58000, 58000, 58000, 58000, 58000, 58000, 58000, 58000, 58000, 58000, 58000, 58000, 58000, 58000, 58000, 58000, 58000, 58000, 58000, 58000, 58000, 58000, 58000, 58000, 58000, 58000, 58000, 58000, 57934, 57932, 57854, 57847, 57824, 57818, 57759, 57738, 57717, 57676, 57539, 57500, 57478, 57464, 57390, 57328, 57319, 57309, 57275, 57266, 57259, 57197, 57184, 57078, 57034, 57026, 57004, 57000, 57000, 57000, 57000, 57000, 57000, 57000, 57000, 57000, 57000, 57000, 57000, 57000, 57000, 57000, 57000, 57000, 57000, 57000, 57000, 57000, 56927, 56911, 56900, 56847, 56840, 56739, 56661, 56658, 56628, 56549, 56532, 56526, 56510, 56500, 56454, 56409, 56380, 56344, 56263, 56251, 56230, 56127, 56121, 56100, 56075, 56066, 56058, 56002, 56000, 56000, 56000, 56000, 56000, 56000, 56000, 56000, 56000, 56000, 56000, 56000, 56000, 56000, 56000, 55980, 55960, 55902, 55893, 55886, 55818, 55804, 55746, 55729, 55700, 55697, 55687, 55619, 55595, 55594, 55476, 55431, 55410, 55392, 55362, 55339, 55324, 55300, 55277, 55231, 55176, 55137, 55116, 55100, 55036, 55012, 55005, 55002, 55001, 55000, 55000, 55000, 55000, 55000, 55000, 55000, 55000, 55000, 55000, 55000, 55000, 55000, 55000, 55000, 55000, 55000, 55000, 55000, 55000, 55000, 55000, 55000, 55000, 55000, 55000, 55000, 55000, 55000, 55000, 55000, 55000, 55000, 55000, 55000, 55000, 55000, 55000, 55000, 55000, 55000, 55000, 55000, 55000, 55000, 55000, 54944, 54898, 54895, 54890, 54885, 54884, 54801, 54758, 54727, 54680, 54631, 54569, 54546, 54540, 54500, 54500, 54448, 54339, 54321, 54317, 54316, 54308, 54268, 54257, 54250, 54230, 54211, 54199, 54173, 54161, 54000, 54000, 54000, 54000, 54000, 54000, 54000, 54000, 54000, 54000, 54000, 54000, 54000, 54000, 54000, 54000, 54000, 54000, 54000, 54000, 54000, 54000, 54000, 54000, 54000, 53996, 53959, 53934, 53920, 53886, 53817, 53766, 53713, 53702, 53615, 53503, 53500, 53500, 53497, 53497, 53442, 53392, 53340, 53322, 53293, 53280, 53226, 53213, 53211, 53080, 53073, 53001, 53000, 53000, 53000, 53000, 53000, 53000, 53000, 53000, 53000, 53000, 53000, 53000, 53000, 53000, 52951, 52950, 52910, 52895, 52818, 52782, 52625, 52618, 52600, 52576, 52553, 52516, 52513, 52500, 52431, 52400, 52398, 52383, 52380, 52378, 52373, 52359, 52340, 52325, 52324, 52241, 52237, 52207, 52195, 52195, 52191, 52126, 52123, 52108, 52100, 52073, 52010, 52001, 52000, 52000, 52000, 52000, 52000, 52000, 52000, 52000, 52000, 52000, 52000, 52000, 52000, 52000, 52000, 52000, 52000, 52000, 52000, 52000, 52000, 52000, 52000, 52000, 52000, 52000, 52000, 52000, 52000, 52000, 52000, 52000, 52000, 52000, 52000, 52000, 52000, 52000, 52000, 52000, 52000, 51950, 51928, 51921, 51920, 51884, 51873, 51866, 51806, 51800, 51787, 51681, 51672, 51639, 51612, 51593, 51587, 51579, 51553, 51530, 51500, 51482, 51450, 51387, 51366, 51361, 51349, 51264, 51236, 51223, 51192, 51167, 51134, 51100, 51087, 51019, 51000, 51000, 51000, 51000, 51000, 51000, 51000, 51000, 51000, 51000, 51000, 51000, 51000, 51000, 51000, 51000, 51000, 51000, 51000, 51000, 51000, 50958, 50888, 50867, 50808, 50624, 50619, 50446, 50436, 50318, 50297, 50266, 50243, 50234, 50230, 50135, 50129, 50123, 50121, 50075, 50004, 50003, 50000, 50000, 50000, 50000, 50000, 50000, 50000, 50000, 50000, 50000, 50000, 50000, 50000, 50000, 50000, 50000, 50000, 50000, 50000, 50000, 50000, 50000, 50000, 50000, 50000, 50000, 50000, 50000, 50000, 50000, 50000, 50000, 50000, 50000, 50000, 50000, 50000, 49999, 49900, 49900, 49894, 49818, 49768, 49716, 49700, 49663, 49575, 49500, 49404, 49389, 49386, 49224, 49176, 49133, 49106, 49105, 49045, 49024, 49008, 49000, 49000, 49000, 49000, 49000, 49000, 49000, 49000, 49000, 49000, 49000, 49000, 49000, 49000, 49000, 48997, 48986, 48823, 48808, 48800, 48772, 48719, 48689, 48624, 48500, 48500, 48466, 48454, 48425, 48407, 48324, 48272, 48241, 48233, 48200, 48198, 48188, 48163, 48158, 48105, 48104, 48094, 48031, 48002, 48000, 48000, 48000, 48000, 48000, 48000, 48000, 48000, 48000, 48000, 48000, 48000, 48000, 48000, 48000, 48000, 48000, 48000, 48000, 47910, 47883, 47774, 47722, 47700, 47674, 47629, 47500, 47490, 47471, 47439, 47399, 47392, 47324, 47304, 47300, 47300, 47250, 47234, 47234, 47200, 47200, 47198, 47183, 47052, 47037, 47035, 47020, 47016, 47003, 47001, 47000, 47000, 47000, 47000, 47000, 47000, 47000, 47000, 47000, 47000, 47000, 47000, 47000, 47000, 47000, 47000, 47000, 47000, 47000, 47000, 46992, 46983, 46950, 46946, 46897, 46821, 46811, 46810, 46808, 46805, 46759, 46727, 46707, 46687, 46676, 46663, 46650, 46601, 46566, 46561, 46522, 46500, 46496, 46493, 46399, 46354, 46300, 46230, 46190, 46173, 46166, 46162, 46007, 46004, 46000, 46000, 46000, 46000, 46000, 46000, 46000, 46000, 46000, 46000, 46000, 46000, 46000, 46000, 46000, 46000, 46000, 45999, 45960, 45807, 45800, 45725, 45700, 45671, 45631, 45617, 45600, 45560, 45555, 45501, 45500, 45496, 45449, 45407, 45376, 45366, 45362, 45348, 45296, 45295, 45275, 45252, 45200, 45194, 45155, 45128, 45122, 45044, 45010, 45008, 45004, 45001, 45000, 45000, 45000, 45000, 45000, 45000, 45000, 45000, 45000, 45000, 45000, 45000, 45000, 45000, 45000, 45000, 45000, 45000, 45000, 45000, 45000, 45000, 45000, 45000, 45000, 45000, 45000, 45000, 45000, 45000, 45000, 45000, 45000, 45000, 45000, 45000, 45000, 45000, 45000, 45000, 45000, 45000, 45000, 45000, 45000, 45000, 45000, 45000, 45000, 45000, 45000, 45000, 44887, 44865, 44846, 44753, 44748, 44738, 44731, 44620, 44612, 44525, 44504, 44487, 44383, 44378, 44345, 44328, 44300, 44285, 44282, 44238, 44223, 44202, 44200, 44200, 44178, 44000, 44000, 44000, 44000, 44000, 44000, 44000, 44000, 44000, 44000, 44000, 44000, 43993, 43917, 43912, 43900, 43874, 43828, 43775, 43773, 43772, 43766, 43761, 43706, 43698, 43639, 43628, 43571, 43521, 43486, 43337, 43316, 43284, 43206, 43200, 43190, 43152, 43127, 43081, 43068, 43053, 43041, 43002, 43000, 43000, 43000, 43000, 43000, 43000, 43000, 43000, 43000, 43000, 43000, 43000, 43000, 43000, 42999, 42894, 42883, 42831, 42784, 42750, 42706, 42700, 42600, 42591, 42575, 42527, 42496, 42366, 42365, 42362, 42355, 42320, 42315, 42277, 42244, 42243, 42225, 42203, 42150, 42118, 42109, 42103, 42100, 42086, 42083, 42021, 42000, 42000, 42000, 42000, 42000, 42000, 42000, 42000, 42000, 42000, 42000, 42000, 42000, 42000, 42000, 42000, 42000, 42000, 42000, 42000, 42000, 42000, 42000, 42000, 42000, 42000, 42000, 42000, 42000, 41994, 41981, 41980, 41871, 41840, 41810, 41721, 41713, 41681, 41650, 41641, 41629, 41534, 41500, 41460, 41460, 41372, 41300, 41290, 41284, 41283, 41217, 41210, 41195, 41125, 41123, 41075, 41008, 41000, 41000, 41000, 41000, 41000, 41000, 41000, 41000, 41000, 41000, 41000, 41000, 41000, 41000, 41000, 41000, 41000, 41000, 41000, 41000, 41000, 41000, 40901, 40866, 40810, 40748, 40700, 40611, 40500, 40496, 40459, 40448, 40347, 40322, 40315, 40310, 40300, 40279, 40250, 40206, 40194, 40190, 40175, 40158, 40082, 40052, 40000, 40000, 40000, 40000, 40000, 40000, 40000, 40000, 40000, 40000, 40000, 40000, 40000, 40000, 40000, 40000, 40000, 40000, 40000, 40000, 40000, 40000, 40000, 40000, 40000, 40000, 40000, 40000, 40000, 40000, 40000, 40000, 40000, 39929, 39927, 39879, 39871, 39867, 39861, 39854, 39852, 39822, 39800, 39800, 39791, 39772, 39575, 39566, 39528, 39437, 39419, 39335, 39300, 39228, 39208, 39163, 39023, 39010, 39002, 39000, 39000, 39000, 39000, 39000, 39000, 39000, 39000, 39000, 39000, 39000, 39000, 39000, 39000, 39000, 38995, 38958, 38932, 38800, 38800, 38767, 38755, 38735, 38712, 38691, 38681, 38623, 38622, 38607, 38593, 38578, 38500, 38461, 38446, 38426, 38424, 38394, 38310, 38282, 38277, 38271, 38235, 38214, 38151, 38143, 38127, 38092, 38056, 38053, 38002, 38001, 38000, 38000, 38000, 38000, 38000, 38000, 38000, 38000, 38000, 38000, 38000, 38000, 38000, 38000, 38000, 38000, 38000, 38000, 38000, 38000, 38000, 37929, 37882, 37873, 37857, 37822, 37806, 37804, 37746, 37712, 37688, 37578, 37540, 37460, 37451, 37442, 37430, 37429, 37400, 37333, 37323, 37298, 37294, 37287, 37282, 37247, 37208, 37160, 37124, 37109, 37023, 37000, 37000, 37000, 37000, 37000, 37000, 37000, 37000, 37000, 37000, 37000, 37000, 37000, 37000, 37000, 37000, 37000, 37000, 37000, 37000, 37000, 37000, 37000, 37000, 37000, 37000, 36973, 36967, 36891, 36855, 36840, 36836, 36778, 36733, 36716, 36700, 36695, 36681, 36676, 36657, 36600, 36542, 36458, 36431, 36428, 36411, 36381, 36367, 36264, 36226, 36216, 36154, 36100, 36096, 36000, 36000, 36000, 36000, 36000, 36000, 36000, 36000, 36000, 36000, 36000, 36000, 36000, 36000, 36000, 36000, 36000, 36000, 35981, 35939, 35888, 35770, 35569, 35503, 35487, 35480, 35442, 35441, 35433, 35384, 35362, 35314, 35299, 35268, 35188, 35175, 35082, 35082, 35070, 35058, 35043, 35027, 35010, 35008, 35000, 35000, 35000, 35000, 35000, 35000, 35000, 35000, 35000, 35000, 35000, 35000, 35000, 35000, 35000, 35000, 35000, 35000, 35000, 35000, 35000, 35000, 35000, 35000, 35000, 35000, 35000, 35000, 35000, 35000, 35000, 35000, 35000, 34994, 34952, 34951, 34900, 34834, 34697, 34688, 34670, 34669, 34634, 34620, 34613, 34429, 34400, 34327, 34267, 34212, 34204, 34079, 34063, 34010, 34005, 34004, 34000, 34000, 34000, 34000, 34000, 34000, 34000, 34000, 34000, 33915, 33901, 33855, 33800, 33793, 33746, 33690, 33598, 33558, 33554, 33517, 33496, 33485, 33425, 33415, 33372, 33292, 33284, 33280, 33249, 33218, 33195, 33150, 33016, 33000, 33000, 33000, 33000, 33000, 33000, 33000, 33000, 33000, 33000, 33000, 33000, 33000, 33000, 33000, 33000, 32953, 32851, 32851, 32807, 32805, 32792, 32776, 32773, 32720, 32717, 32709, 32700, 32663, 32644, 32587, 32576, 32572, 32542, 32539, 32510, 32500, 32450, 32425, 32400, 32378, 32257, 32251, 32249, 32248, 32227, 32200, 32200, 32189, 32125, 32048, 32006, 32005, 32000, 32000, 32000, 32000, 32000, 32000, 32000, 32000, 32000, 32000, 32000, 32000, 32000, 32000, 32000, 32000, 32000, 32000, 32000, 32000, 32000, 31978, 31965, 31900, 31897, 31841, 31829, 31826, 31817, 31700, 31696, 31576, 31465, 31446, 31426, 31423, 31412, 31396, 31378, 31271, 31250, 31200, 31184, 31130, 31056, 31045, 31025, 31006, 31001, 31001, 31000, 31000, 31000, 31000, 31000, 31000, 31000, 31000, 31000, 31000, 31000, 31000, 31000, 31000, 30965, 30953, 30933, 30852, 30754, 30711, 30676, 30675, 30529, 30519, 30458, 30453, 30441, 30292, 30292, 30279, 30232, 30180, 30158, 30131, 30112, 30000, 30000, 30000, 30000, 30000, 30000, 30000, 30000, 30000, 30000, 30000, 30000, 30000, 30000, 30000, 30000, 30000, 30000, 30000, 30000, 30000, 30000, 30000, 30000, 30000, 30000, 30000, 30000, 30000, 30000, 30000, 30000, 30000, 30000, 29930, 29907, 29875, 29832, 29754, 29651, 29647, 29634, 29605, 29512, 29500, 29477, 29401, 29279, 29219, 29202, 29200, 29091, 29085, 29000, 29000, 29000, 29000, 29000, 29000, 29000, 29000, 29000, 29000, 29000, 29000, 29000, 29000, 29000, 29000, 29000, 29000, 29000, 29000, 29000, 29000, 28973, 28937, 28854, 28851, 28786, 28741, 28700, 28637, 28619, 28599, 28500, 28500, 28470, 28464, 28414, 28371, 28360, 28300, 28246, 28238, 28232, 28193, 28147, 28133, 28005, 28004, 28002, 28000, 28000, 28000, 28000, 28000, 28000, 28000, 28000, 28000, 28000, 27969, 27904, 27886, 27872, 27800, 27768, 27755, 27718, 27628, 27509, 27395, 27365, 27339, 27300, 27279, 27210, 27100, 27089, 27076, 27075, 27057, 27030, 27014, 27000, 27000, 27000, 27000, 27000, 27000, 27000, 27000, 27000, 27000, 27000, 27000, 27000, 27000, 27000, 27000, 26981, 26969, 26966, 26946, 26927, 26877, 26875, 26741, 26731, 26671, 26568, 26400, 26327, 26322, 26300, 26299, 26256, 26246, 26239, 26234, 26200, 26200, 26185, 26101, 26038, 26008, 26000, 26000, 26000, 26000, 26000, 26000, 26000, 26000, 26000, 26000, 26000, 26000, 26000, 26000, 26000, 26000, 26000, 26000, 26000, 25984, 25899, 25845, 25811, 25805, 25789, 25755, 25692, 25648, 25562, 25500, 25500, 25500, 25470, 25433, 25422, 25418, 25350, 25302, 25299, 25238, 25200, 25166, 25142, 25135, 25121, 25095, 25093, 25040, 25000, 25000, 25000, 25000, 25000, 25000, 25000, 25000, 25000, 25000, 25000, 25000, 25000, 25000, 25000, 25000, 25000, 25000, 25000, 25000, 25000, 25000, 25000, 25000, 25000, 24973, 24950, 24864, 24806, 24782, 24773, 24735, 24700, 24617, 24571, 24569, 24398, 24393, 24350, 24347, 24337, 24310, 24300, 24296, 24237, 24214, 24153, 24027, 24025, 24005, 24001, 24000, 24000, 24000, 24000, 24000, 24000, 24000, 24000, 24000, 24000, 24000, 23988, 23977, 23882, 23876, 23840, 23714, 23700, 23598, 23555, 23540, 23500, 23360, 23280, 23228, 23163, 23154, 23152, 23001, 23000, 23000, 23000, 23000, 23000, 23000, 23000, 23000, 23000, 23000, 23000, 23000, 22900, 22874, 22857, 22831, 22767, 22734, 22700, 22695, 22684, 22500, 22389, 22345, 22281, 22251, 22129, 22100, 22100, 22033, 22001, 22000, 22000, 22000, 22000, 22000, 22000, 22000, 22000, 22000, 22000, 22000, 22000, 22000, 22000, 22000, 22000, 21954, 21800, 21799, 21789, 21771, 21740, 21727, 21701, 21652, 21558, 21495, 21460, 21456, 21400, 21260, 21248, 21214, 21134, 21112, 21107, 21002, 21000, 21000, 21000, 21000, 21000, 21000, 21000, 21000, 21000, 21000, 21000, 21000, 20877, 20842, 20800, 20780, 20773, 20765, 20712, 20689, 20667, 20632, 20600, 20600, 20575, 20568, 20492, 20488, 20487, 20422, 20248, 20229, 20045, 20024, 20000, 20000, 20000, 20000, 20000, 20000, 20000, 20000, 20000, 20000, 20000, 20000, 20000, 20000, 20000, 19963, 19947, 19947, 19860, 19855, 19698, 19623, 19600, 19500, 19500, 19416, 19387, 19317, 19234, 19148, 19119, 19030, 19008, 19000, 19000, 19000, 19000, 19000, 19000, 19000, 19000, 19000, 18949, 18776, 18705, 18700, 18678, 18673, 18664, 18592, 18553, 18521, 18500, 18456, 18453, 18414, 18335, 18108, 18094, 18050, 18043, 18000, 18000, 18000, 18000, 18000, 18000, 18000, 18000, 18000, 18000, 18000, 17858, 17810, 17804, 17729, 17705, 17702, 17585, 17560, 17477, 17431, 17400, 17400, 17377, 17370, 17362, 17151, 17125, 17088, 17003, 17000, 17000, 17000, 17000, 17000, 17000, 17000, 17000, 17000, 17000, 16956, 16900, 16900, 16862, 16810, 16725, 16698, 16650, 16607, 16573, 16542, 16514, 16500, 16471, 16392, 16235, 16159, 16039, 16000, 16000, 16000, 16000, 16000, 15985, 15982, 15900, 15731, 15590, 15544, 15500, 15473, 15466, 15399, 15388, 15386, 15356, 15334, 15305, 15135, 15134, 15050, 15029, 15000, 15000, 15000, 15000, 15000, 15000, 15000, 15000, 15000, 15000, 14980, 14960, 14930, 14925, 14821, 14814, 14800, 14800, 14799, 14700, 14656, 14648, 14618, 14600, 14589, 14576, 14322, 14223, 14149, 14077, 14064, 14061, 14001, 14000, 14000, 14000, 14000, 14000, 14000, 14000, 14000, 14000, 14000, 14000, 14000, 13916, 13913, 13900, 13769, 13710, 13500, 13460, 13460, 13436, 13363, 13361, 13198, 13102, 13024, 13008, 13000, 13000, 13000, 13000, 13000, 12923, 12800, 12800, 12600, 12573, 12501, 12500, 12500, 12500, 12400, 12336, 12248, 12208, 12076, 12000, 12000, 12000, 12000, 12000, 12000, 12000, 12000, 12000, 12000, 12000, 12000, 12000, 12000, 12000, 12000, 12000, 11966, 11734, 11732, 11691, 11583, 11571, 11554, 11241, 11110, 11000, 11000, 11000, 11000, 11000, 11000, 11000, 11000, 11000, 11000, 11000, 11000, 11000, 10770, 10671, 10600, 10575, 10500, 10500, 10400, 10393, 10300, 10250, 10200, 10000, 10000, 10000, 10000, 10000, 10000, 10000, 10000, 9900, 9759, 9565, 9500, 9489, 9434, 9370, 9200, 9200, 9107, 9000, 9000, 9000, 9000, 9000, 8950, 8899, 8896, 8700, 8587, 8554, 8500, 8500, 8500, 8471, 8350, 8243, 8200, 8000, 8000, 8000, 8000, 8000, 7858, 7784, 7523, 7500, 7445, 7400, 7200, 7000, 7000, 7000, 7000, 7000, 7000, 6820, 6800, 6714, 6568, 6279, 6261, 6028, 6006, 6000, 6000, 6000, 6000, 6000, 6000, 5900, 5834, 5833, 5700, 5500, 5456, 5400, 5377, 5000, 5000, 5000, 5000, 5000, 4900, 4800, 4721, 4700, 4700, 4500, 4311, 4187, 4152, 4126, 4018, 4000, 3958, 3923, 3900, 3678, 3102, 3000, 3000, 2900, 2800, 2530, 2500, 2500, 2200, 2196, 2100, 2000, 2000, 2000, 2000, 1900, 1800, 1617, 1261, 1048, 1011, 1001, 1001, 1000, 1000, 1000, 1000, 1000, 1000, 1000, 171], \"yaxis\": \"y\"}],\n",
              "                        {\"legend\": {\"tracegroupgap\": 0}, \"template\": {\"data\": {\"bar\": [{\"error_x\": {\"color\": \"#2a3f5f\"}, \"error_y\": {\"color\": \"#2a3f5f\"}, \"marker\": {\"line\": {\"color\": \"#E5ECF6\", \"width\": 0.5}}, \"type\": \"bar\"}], \"barpolar\": [{\"marker\": {\"line\": {\"color\": \"#E5ECF6\", \"width\": 0.5}}, \"type\": \"barpolar\"}], \"carpet\": [{\"aaxis\": {\"endlinecolor\": \"#2a3f5f\", \"gridcolor\": \"white\", \"linecolor\": \"white\", \"minorgridcolor\": \"white\", \"startlinecolor\": \"#2a3f5f\"}, \"baxis\": {\"endlinecolor\": \"#2a3f5f\", \"gridcolor\": \"white\", \"linecolor\": \"white\", \"minorgridcolor\": \"white\", \"startlinecolor\": \"#2a3f5f\"}, \"type\": \"carpet\"}], \"choropleth\": [{\"colorbar\": {\"outlinewidth\": 0, \"ticks\": \"\"}, \"type\": \"choropleth\"}], \"contour\": [{\"colorbar\": {\"outlinewidth\": 0, \"ticks\": \"\"}, \"colorscale\": [[0.0, \"#0d0887\"], [0.1111111111111111, \"#46039f\"], [0.2222222222222222, \"#7201a8\"], [0.3333333333333333, \"#9c179e\"], [0.4444444444444444, \"#bd3786\"], [0.5555555555555556, \"#d8576b\"], [0.6666666666666666, \"#ed7953\"], [0.7777777777777778, \"#fb9f3a\"], [0.8888888888888888, \"#fdca26\"], [1.0, \"#f0f921\"]], \"type\": \"contour\"}], \"contourcarpet\": [{\"colorbar\": {\"outlinewidth\": 0, \"ticks\": \"\"}, \"type\": \"contourcarpet\"}], \"heatmap\": [{\"colorbar\": {\"outlinewidth\": 0, \"ticks\": \"\"}, \"colorscale\": [[0.0, \"#0d0887\"], [0.1111111111111111, \"#46039f\"], [0.2222222222222222, \"#7201a8\"], [0.3333333333333333, \"#9c179e\"], [0.4444444444444444, \"#bd3786\"], [0.5555555555555556, \"#d8576b\"], [0.6666666666666666, \"#ed7953\"], [0.7777777777777778, \"#fb9f3a\"], [0.8888888888888888, \"#fdca26\"], [1.0, \"#f0f921\"]], \"type\": \"heatmap\"}], \"heatmapgl\": [{\"colorbar\": {\"outlinewidth\": 0, \"ticks\": \"\"}, \"colorscale\": [[0.0, \"#0d0887\"], [0.1111111111111111, \"#46039f\"], [0.2222222222222222, \"#7201a8\"], [0.3333333333333333, \"#9c179e\"], [0.4444444444444444, \"#bd3786\"], [0.5555555555555556, \"#d8576b\"], [0.6666666666666666, \"#ed7953\"], [0.7777777777777778, \"#fb9f3a\"], [0.8888888888888888, \"#fdca26\"], [1.0, \"#f0f921\"]], \"type\": \"heatmapgl\"}], \"histogram\": [{\"marker\": {\"colorbar\": {\"outlinewidth\": 0, \"ticks\": \"\"}}, \"type\": \"histogram\"}], \"histogram2d\": [{\"colorbar\": {\"outlinewidth\": 0, \"ticks\": \"\"}, \"colorscale\": [[0.0, \"#0d0887\"], [0.1111111111111111, \"#46039f\"], [0.2222222222222222, \"#7201a8\"], [0.3333333333333333, \"#9c179e\"], [0.4444444444444444, \"#bd3786\"], [0.5555555555555556, \"#d8576b\"], [0.6666666666666666, \"#ed7953\"], [0.7777777777777778, \"#fb9f3a\"], [0.8888888888888888, \"#fdca26\"], [1.0, \"#f0f921\"]], \"type\": \"histogram2d\"}], \"histogram2dcontour\": [{\"colorbar\": {\"outlinewidth\": 0, \"ticks\": \"\"}, \"colorscale\": [[0.0, \"#0d0887\"], [0.1111111111111111, \"#46039f\"], [0.2222222222222222, \"#7201a8\"], [0.3333333333333333, \"#9c179e\"], [0.4444444444444444, \"#bd3786\"], [0.5555555555555556, \"#d8576b\"], [0.6666666666666666, \"#ed7953\"], [0.7777777777777778, \"#fb9f3a\"], [0.8888888888888888, \"#fdca26\"], [1.0, \"#f0f921\"]], \"type\": \"histogram2dcontour\"}], \"mesh3d\": [{\"colorbar\": {\"outlinewidth\": 0, \"ticks\": \"\"}, \"type\": \"mesh3d\"}], \"parcoords\": [{\"line\": {\"colorbar\": {\"outlinewidth\": 0, \"ticks\": \"\"}}, \"type\": \"parcoords\"}], \"pie\": [{\"automargin\": true, \"type\": \"pie\"}], \"scatter\": [{\"marker\": {\"colorbar\": {\"outlinewidth\": 0, \"ticks\": \"\"}}, \"type\": \"scatter\"}], \"scatter3d\": [{\"line\": {\"colorbar\": {\"outlinewidth\": 0, \"ticks\": \"\"}}, \"marker\": {\"colorbar\": {\"outlinewidth\": 0, \"ticks\": \"\"}}, \"type\": \"scatter3d\"}], \"scattercarpet\": [{\"marker\": {\"colorbar\": {\"outlinewidth\": 0, \"ticks\": \"\"}}, \"type\": \"scattercarpet\"}], \"scattergeo\": [{\"marker\": {\"colorbar\": {\"outlinewidth\": 0, \"ticks\": \"\"}}, \"type\": \"scattergeo\"}], \"scattergl\": [{\"marker\": {\"colorbar\": {\"outlinewidth\": 0, \"ticks\": \"\"}}, \"type\": \"scattergl\"}], \"scattermapbox\": [{\"marker\": {\"colorbar\": {\"outlinewidth\": 0, \"ticks\": \"\"}}, \"type\": \"scattermapbox\"}], \"scatterpolar\": [{\"marker\": {\"colorbar\": {\"outlinewidth\": 0, \"ticks\": \"\"}}, \"type\": \"scatterpolar\"}], \"scatterpolargl\": [{\"marker\": {\"colorbar\": {\"outlinewidth\": 0, \"ticks\": \"\"}}, \"type\": \"scatterpolargl\"}], \"scatterternary\": [{\"marker\": {\"colorbar\": {\"outlinewidth\": 0, \"ticks\": \"\"}}, \"type\": \"scatterternary\"}], \"surface\": [{\"colorbar\": {\"outlinewidth\": 0, \"ticks\": \"\"}, \"colorscale\": [[0.0, \"#0d0887\"], [0.1111111111111111, \"#46039f\"], [0.2222222222222222, \"#7201a8\"], [0.3333333333333333, \"#9c179e\"], [0.4444444444444444, \"#bd3786\"], [0.5555555555555556, \"#d8576b\"], [0.6666666666666666, \"#ed7953\"], [0.7777777777777778, \"#fb9f3a\"], [0.8888888888888888, \"#fdca26\"], [1.0, \"#f0f921\"]], \"type\": \"surface\"}], \"table\": [{\"cells\": {\"fill\": {\"color\": \"#EBF0F8\"}, \"line\": {\"color\": \"white\"}}, \"header\": {\"fill\": {\"color\": \"#C8D4E3\"}, \"line\": {\"color\": \"white\"}}, \"type\": \"table\"}]}, \"layout\": {\"annotationdefaults\": {\"arrowcolor\": \"#2a3f5f\", \"arrowhead\": 0, \"arrowwidth\": 1}, \"coloraxis\": {\"colorbar\": {\"outlinewidth\": 0, \"ticks\": \"\"}}, \"colorscale\": {\"diverging\": [[0, \"#8e0152\"], [0.1, \"#c51b7d\"], [0.2, \"#de77ae\"], [0.3, \"#f1b6da\"], [0.4, \"#fde0ef\"], [0.5, \"#f7f7f7\"], [0.6, \"#e6f5d0\"], [0.7, \"#b8e186\"], [0.8, \"#7fbc41\"], [0.9, \"#4d9221\"], [1, \"#276419\"]], \"sequential\": [[0.0, \"#0d0887\"], [0.1111111111111111, \"#46039f\"], [0.2222222222222222, \"#7201a8\"], [0.3333333333333333, \"#9c179e\"], [0.4444444444444444, \"#bd3786\"], [0.5555555555555556, \"#d8576b\"], [0.6666666666666666, \"#ed7953\"], [0.7777777777777778, \"#fb9f3a\"], [0.8888888888888888, \"#fdca26\"], [1.0, \"#f0f921\"]], \"sequentialminus\": [[0.0, \"#0d0887\"], [0.1111111111111111, \"#46039f\"], [0.2222222222222222, \"#7201a8\"], [0.3333333333333333, \"#9c179e\"], [0.4444444444444444, \"#bd3786\"], [0.5555555555555556, \"#d8576b\"], [0.6666666666666666, \"#ed7953\"], [0.7777777777777778, \"#fb9f3a\"], [0.8888888888888888, \"#fdca26\"], [1.0, \"#f0f921\"]]}, \"colorway\": [\"#636efa\", \"#EF553B\", \"#00cc96\", \"#ab63fa\", \"#FFA15A\", \"#19d3f3\", \"#FF6692\", \"#B6E880\", \"#FF97FF\", \"#FECB52\"], \"font\": {\"color\": \"#2a3f5f\"}, \"geo\": {\"bgcolor\": \"white\", \"lakecolor\": \"white\", \"landcolor\": \"#E5ECF6\", \"showlakes\": true, \"showland\": true, \"subunitcolor\": \"white\"}, \"hoverlabel\": {\"align\": \"left\"}, \"hovermode\": \"closest\", \"mapbox\": {\"style\": \"light\"}, \"paper_bgcolor\": \"white\", \"plot_bgcolor\": \"#E5ECF6\", \"polar\": {\"angularaxis\": {\"gridcolor\": \"white\", \"linecolor\": \"white\", \"ticks\": \"\"}, \"bgcolor\": \"#E5ECF6\", \"radialaxis\": {\"gridcolor\": \"white\", \"linecolor\": \"white\", \"ticks\": \"\"}}, \"scene\": {\"xaxis\": {\"backgroundcolor\": \"#E5ECF6\", \"gridcolor\": \"white\", \"gridwidth\": 2, \"linecolor\": \"white\", \"showbackground\": true, \"ticks\": \"\", \"zerolinecolor\": \"white\"}, \"yaxis\": {\"backgroundcolor\": \"#E5ECF6\", \"gridcolor\": \"white\", \"gridwidth\": 2, \"linecolor\": \"white\", \"showbackground\": true, \"ticks\": \"\", \"zerolinecolor\": \"white\"}, \"zaxis\": {\"backgroundcolor\": \"#E5ECF6\", \"gridcolor\": \"white\", \"gridwidth\": 2, \"linecolor\": \"white\", \"showbackground\": true, \"ticks\": \"\", \"zerolinecolor\": \"white\"}}, \"shapedefaults\": {\"line\": {\"color\": \"#2a3f5f\"}}, \"ternary\": {\"aaxis\": {\"gridcolor\": \"white\", \"linecolor\": \"white\", \"ticks\": \"\"}, \"baxis\": {\"gridcolor\": \"white\", \"linecolor\": \"white\", \"ticks\": \"\"}, \"bgcolor\": \"#E5ECF6\", \"caxis\": {\"gridcolor\": \"white\", \"linecolor\": \"white\", \"ticks\": \"\"}}, \"title\": {\"x\": 0.05}, \"xaxis\": {\"automargin\": true, \"gridcolor\": \"white\", \"linecolor\": \"white\", \"ticks\": \"\", \"title\": {\"standoff\": 15}, \"zerolinecolor\": \"white\", \"zerolinewidth\": 2}, \"yaxis\": {\"automargin\": true, \"gridcolor\": \"white\", \"linecolor\": \"white\", \"ticks\": \"\", \"title\": {\"standoff\": 15}, \"zerolinecolor\": \"white\", \"zerolinewidth\": 2}}}, \"title\": {\"text\": \"Total Jarak Pemakaian Mobile Bekas berdasarkan Tahun Pembuatan\"}, \"xaxis\": {\"anchor\": \"y\", \"domain\": [0.0, 1.0], \"title\": {\"text\": \"Year\"}}, \"yaxis\": {\"anchor\": \"x\", \"domain\": [0.0, 1.0], \"title\": {\"text\": \"Kilometers_Driven\"}}},\n",
              "                        {\"responsive\": true}\n",
              "                    ).then(function(){\n",
              "                            \n",
              "var gd = document.getElementById('53b6e60d-2e51-4ee4-a7ab-fc544eb8698c');\n",
              "var x = new MutationObserver(function (mutations, observer) {{\n",
              "        var display = window.getComputedStyle(gd).display;\n",
              "        if (!display || display === 'none') {{\n",
              "            console.log([gd, 'removed!']);\n",
              "            Plotly.purge(gd);\n",
              "            observer.disconnect();\n",
              "        }}\n",
              "}});\n",
              "\n",
              "// Listen for the removal of the full notebook cells\n",
              "var notebookContainer = gd.closest('#notebook-container');\n",
              "if (notebookContainer) {{\n",
              "    x.observe(notebookContainer, {childList: true});\n",
              "}}\n",
              "\n",
              "// Listen for the clearing of the current output cell\n",
              "var outputEl = gd.closest('.output');\n",
              "if (outputEl) {{\n",
              "    x.observe(outputEl, {childList: true});\n",
              "}}\n",
              "\n",
              "                        })\n",
              "                };\n",
              "                \n",
              "            </script>\n",
              "        </div>\n",
              "</body>\n",
              "</html>"
            ]
          },
          "metadata": {
            "tags": []
          }
        }
      ]
    },
    {
      "cell_type": "code",
      "metadata": {
        "id": "E7WxW0DpDr-O",
        "colab_type": "code",
        "colab": {
          "base_uri": "https://localhost:8080/",
          "height": 296
        },
        "outputId": "84df04ce-c919-4b81-c9d2-619539cba605"
      },
      "source": [
        "datakm.groupby('Year').mean()['Kilometers_Driven'].plot.line()"
      ],
      "execution_count": null,
      "outputs": [
        {
          "output_type": "execute_result",
          "data": {
            "text/plain": [
              "<matplotlib.axes._subplots.AxesSubplot at 0x7fd3555366d8>"
            ]
          },
          "metadata": {
            "tags": []
          },
          "execution_count": 42
        },
        {
          "output_type": "display_data",
          "data": {
            "image/png": "[encoded data removed]",
            "text/plain": [
              "<Figure size 432x288 with 1 Axes>"
            ]
          },
          "metadata": {
            "tags": [],
            "needs_background": "light"
          }
        }
      ]
    },
    {
      "cell_type": "markdown",
      "metadata": {
        "id": "DcVaqPo9kenV",
        "colab_type": "text"
      },
      "source": [
        "**Jawab**: Hubungan antara jarak pemakaian dan tahun pembuatan adalah semakin baru tahun pembuatan maka semakin sedikit jarak pemakaian mobil bekas tersebut."
      ]
    },
    {
      "cell_type": "markdown",
      "metadata": {
        "id": "50fbXmuQEdtA",
        "colab_type": "text"
      },
      "source": [
        "###8. Berapa banyak mobil yang merupakan kepemilikan ketiga atau lebih?"
      ]
    },
    {
      "cell_type": "code",
      "metadata": {
        "id": "wfyZ0BO3EnCS",
        "colab_type": "code",
        "colab": {
          "base_uri": "https://localhost:8080/",
          "height": 265
        },
        "outputId": "3e1e3cc0-221d-46a2-eb36-17cbb9bcf9a4"
      },
      "source": [
        "datakm['Owner_Type'].value_counts().plot.pie()"
      ],
      "execution_count": null,
      "outputs": [
        {
          "output_type": "execute_result",
          "data": {
            "text/plain": [
              "<matplotlib.axes._subplots.AxesSubplot at 0x7fd353c8de48>"
            ]
          },
          "metadata": {
            "tags": []
          },
          "execution_count": 43
        },
        {
          "output_type": "display_data",
          "data": {
            "image/png": "[encoded data removed]",
            "text/plain": [
              "<Figure size 432x288 with 1 Axes>"
            ]
          },
          "metadata": {
            "tags": []
          }
        }
      ]
    },
    {
      "cell_type": "code",
      "metadata": {
        "id": "rRyTvAC8M57w",
        "colab_type": "code",
        "colab": {
          "base_uri": "https://localhost:8080/",
          "height": 102
        },
        "outputId": "0be20a55-d806-4b8e-d8c2-29a0eab17f52"
      },
      "source": [
        "datakm['Owner_Type'].value_counts()"
      ],
      "execution_count": null,
      "outputs": [
        {
          "output_type": "execute_result",
          "data": {
            "text/plain": [
              "First             4884\n",
              "Second             948\n",
              "Third              110\n",
              "Fourth & Above       6\n",
              "Name: Owner_Type, dtype: int64"
            ]
          },
          "metadata": {
            "tags": []
          },
          "execution_count": 45
        }
      ]
    },
    {
      "cell_type": "code",
      "metadata": {
        "id": "M77UIEd0EwIs",
        "colab_type": "code",
        "colab": {
          "base_uri": "https://localhost:8080/",
          "height": 34
        },
        "outputId": "a9e3d5bf-6699-4858-9a6f-89aad8e95eba"
      },
      "source": [
        "MobilLawas = datakm.loc[(cars['Owner_Type'] == 'Third') | (datakm['Owner_Type'] == 'Fourth & Above')]\n",
        "MobilLawas['Owner_Type'].count()"
      ],
      "execution_count": null,
      "outputs": [
        {
          "output_type": "execute_result",
          "data": {
            "text/plain": [
              "117"
            ]
          },
          "metadata": {
            "tags": []
          },
          "execution_count": 44
        }
      ]
    },
    {
      "cell_type": "markdown",
      "metadata": {
        "id": "pBIM5blWqtkv",
        "colab_type": "text"
      },
      "source": [
        "**Jawab**: Jumlah mobil bekas engan kepemilikan ketiga atau lebih adalah 117 mobil"
      ]
    },
    {
      "cell_type": "markdown",
      "metadata": {
        "id": "Tq8uN8emFhFk",
        "colab_type": "text"
      },
      "source": [
        "###9. Tipe bahan bakar apa yang memiliki mileage (konsumsi bahan bakar) paling hemat?"
      ]
    },
    {
      "cell_type": "code",
      "metadata": {
        "id": "dw2zG0w_FWMN",
        "colab_type": "code",
        "colab": {
          "base_uri": "https://localhost:8080/",
          "height": 318
        },
        "outputId": "71ee7e27-a4a3-42d6-e318-4dff795c5081"
      },
      "source": [
        "datakm['Mileage']=datakm['Mileage'].astype(float)\n",
        "datakm.groupby('Fuel_Type').mean()['Mileage'].plot.bar()"
      ],
      "execution_count": null,
      "outputs": [
        {
          "output_type": "execute_result",
          "data": {
            "text/plain": [
              "<matplotlib.axes._subplots.AxesSubplot at 0x7fd353c50a90>"
            ]
          },
          "metadata": {
            "tags": []
          },
          "execution_count": 46
        },
        {
          "output_type": "display_data",
          "data": {
            "image/png": "[encoded data removed]",
            "text/plain": [
              "<Figure size 432x288 with 1 Axes>"
            ]
          },
          "metadata": {
            "tags": [],
            "needs_background": "light"
          }
        }
      ]
    },
    {
      "cell_type": "code",
      "metadata": {
        "id": "M1BrXSK9Ib08",
        "colab_type": "code",
        "colab": {
          "base_uri": "https://localhost:8080/",
          "height": 119
        },
        "outputId": "c1a04b64-1beb-4f74-c985-38b36cc76c9c"
      },
      "source": [
        "datakm.groupby('Fuel_Type').mean()['Mileage']"
      ],
      "execution_count": null,
      "outputs": [
        {
          "output_type": "execute_result",
          "data": {
            "text/plain": [
              "Fuel_Type\n",
              "CNG       25.418036\n",
              "Diesel    18.674937\n",
              "LPG       19.385000\n",
              "Petrol    17.486461\n",
              "Name: Mileage, dtype: float64"
            ]
          },
          "metadata": {
            "tags": []
          },
          "execution_count": 47
        }
      ]
    },
    {
      "cell_type": "markdown",
      "metadata": {
        "id": "Favz674Hq9iq",
        "colab_type": "text"
      },
      "source": [
        "**Jawab**: Jenis bahan bakar yang paling hemat(semakin besar nilai Mileage) adalah CNG yaitu rata-rata 25.41 km/l"
      ]
    },
    {
      "cell_type": "markdown",
      "metadata": {
        "id": "z8kYF-yLIqNx",
        "colab_type": "text"
      },
      "source": [
        "### 10. Apa saja faktor-faktor yang mempengaruhi harga mobil bekas di India? Sertakan argumen yang mendukung jawaban."
      ]
    },
    {
      "cell_type": "code",
      "metadata": {
        "id": "UlvC4JyyH_Kb",
        "colab_type": "code",
        "colab": {
          "base_uri": "https://localhost:8080/",
          "height": 296
        },
        "outputId": "3ee1516b-7143-4abd-b169-03a6573ae5b2"
      },
      "source": [
        "datakm.groupby('Year').mean()['Price'].plot.line()"
      ],
      "execution_count": null,
      "outputs": [
        {
          "output_type": "execute_result",
          "data": {
            "text/plain": [
              "<matplotlib.axes._subplots.AxesSubplot at 0x7fd353c3e320>"
            ]
          },
          "metadata": {
            "tags": []
          },
          "execution_count": 48
        },
        {
          "output_type": "display_data",
          "data": {
            "image/png": "[encoded data removed]",
            "text/plain": [
              "<Figure size 432x288 with 1 Axes>"
            ]
          },
          "metadata": {
            "tags": [],
            "needs_background": "light"
          }
        }
      ]
    },
    {
      "cell_type": "code",
      "metadata": {
        "id": "DsoUQUocIx_8",
        "colab_type": "code",
        "colab": {
          "base_uri": "https://localhost:8080/",
          "height": 347
        },
        "outputId": "37262d5c-1833-468c-83f9-7df3e9f99b54"
      },
      "source": [
        "datakm.groupby('Location').mean()['Price'].plot.bar()"
      ],
      "execution_count": null,
      "outputs": [
        {
          "output_type": "execute_result",
          "data": {
            "text/plain": [
              "<matplotlib.axes._subplots.AxesSubplot at 0x7fd353bacc18>"
            ]
          },
          "metadata": {
            "tags": []
          },
          "execution_count": 49
        },
        {
          "output_type": "display_data",
          "data": {
            "image/png": "[encoded data removed]",
            "text/plain": [
              "<Figure size 432x288 with 1 Axes>"
            ]
          },
          "metadata": {
            "tags": [],
            "needs_background": "light"
          }
        }
      ]
    },
    {
      "cell_type": "code",
      "metadata": {
        "id": "B6OS_zVFJmhw",
        "colab_type": "code",
        "colab": {
          "base_uri": "https://localhost:8080/",
          "height": 297
        },
        "outputId": "df4d70c6-30dd-49e3-8073-81226eb8a837"
      },
      "source": [
        "datakm.groupby('Kilometers_Driven').mean()['Price'].plot.line()"
      ],
      "execution_count": null,
      "outputs": [
        {
          "output_type": "execute_result",
          "data": {
            "text/plain": [
              "<matplotlib.axes._subplots.AxesSubplot at 0x7fd353b205c0>"
            ]
          },
          "metadata": {
            "tags": []
          },
          "execution_count": 50
        },
        {
          "output_type": "display_data",
          "data": {
            "image/png": "[encoded data removed]",
            "text/plain": [
              "<Figure size 432x288 with 1 Axes>"
            ]
          },
          "metadata": {
            "tags": [],
            "needs_background": "light"
          }
        }
      ]
    },
    {
      "cell_type": "code",
      "metadata": {
        "id": "h0JXXL2wI-bO",
        "colab_type": "code",
        "colab": {
          "base_uri": "https://localhost:8080/",
          "height": 542
        },
        "outputId": "0edbdeb6-9593-4855-84cd-4c7a578e707e"
      },
      "source": [
        "import plotly.express as px\n",
        "\n",
        "fig = px.scatter(datakm, x=\"Kilometers_Driven\", y=\"Price\", color=\"Transmission\",\n",
        "                 title=\"Used Car Price based on Year\",\n",
        "                )\n",
        "\n",
        "fig.show()"
      ],
      "execution_count": null,
      "outputs": [
        {
          "output_type": "display_data",
          "data": {
            "text/html": [
              "<html>\n",
              "<head><meta charset=\"utf-8\" /></head>\n",
              "<body>\n",
              "    <div>\n",
              "            <script src=\"https://cdnjs.cloudflare.com/ajax/libs/mathjax/2.7.5/MathJax.js?config=TeX-AMS-MML_SVG\"></script><script type=\"text/javascript\">if (window.MathJax) {MathJax.Hub.Config({SVG: {font: \"STIX-Web\"}});}</script>\n",
              "                <script type=\"text/javascript\">window.PlotlyConfig = {MathJaxConfig: 'local'};</script>\n",
              "        <script src=\"https://cdn.plot.ly/plotly-latest.min.js\"></script>    \n",
              "            <div id=\"56e8adb9-f839-4fd0-8383-4a18725d3a04\" class=\"plotly-graph-div\" style=\"height:525px; width:100%;\"></div>\n",
              "            <script type=\"text/javascript\">\n",
              "                \n",
              "                    window.PLOTLYENV=window.PLOTLYENV || {};\n",
              "                    \n",
              "                if (document.getElementById(\"56e8adb9-f839-4fd0-8383-4a18725d3a04\")) {\n",
              "                    Plotly.newPlot(\n",
              "                        '56e8adb9-f839-4fd0-8383-4a18725d3a04',\n",
              "                        [{\"hoverlabel\": {\"namelength\": 0}, \"hovertemplate\": \"Transmission=Automatic<br>Kilometers_Driven=%{x}<br>Price=%{y}\", \"legendgroup\": \"Transmission=Automatic\", \"marker\": {\"color\": \"#636efa\", \"symbol\": \"circle\"}, \"mode\": \"markers\", \"name\": \"Transmission=Automatic\", \"showlegend\": true, \"type\": \"scattergl\", \"x\": [775000, 480000, 220000, 202082, 179000, 173000, 170000, 170000, 160000, 158000, 152633, 152000, 150000, 143017, 139000, 137008, 137000, 137000, 136997, 135000, 135000, 131000, 130923, 129000, 128000, 125000, 125000, 125000, 125000, 124652, 123000, 122086, 121812, 120300, 120000, 120000, 120000, 120000, 120000, 119859, 119203, 119000, 118218, 117236, 116000, 115800, 115692, 115000, 114000, 112827, 112719, 112500, 111000, 110000, 110000, 110000, 110000, 110000, 110000, 110000, 109703, 109000, 108905, 108640, 108000, 108000, 108000, 107000, 106976, 105000, 105000, 105000, 105000, 104000, 103905, 103000, 103000, 102865, 102002, 102001, 102000, 102000, 102000, 101999, 101337, 101119, 100970, 100200, 100000, 100000, 100000, 100000, 100000, 100000, 100000, 100000, 100000, 100000, 100000, 100000, 100000, 100000, 99606, 99583, 99100, 99000, 98000, 98000, 98000, 97430, 97320, 97003, 97000, 97000, 97000, 96848, 96000, 95995, 95649, 95000, 95000, 95000, 95000, 95000, 95000, 94821, 94521, 94000, 94000, 94000, 94000, 94000, 93144, 93000, 93000, 93000, 93000, 92469, 92239, 92098, 92000, 92000, 91903, 91743, 91696, 91586, 91000, 91000, 90000, 90000, 90000, 90000, 90000, 90000, 90000, 90000, 89616, 89540, 89000, 89000, 89000, 89000, 89000, 89000, 89000, 89000, 88046, 88008, 88000, 88000, 88000, 88000, 88000, 88000, 88000, 88000, 87652, 87073, 87000, 87000, 87000, 87000, 87000, 87000, 86925, 86642, 86340, 86000, 86000, 86000, 86000, 85846, 85071, 85001, 85000, 85000, 85000, 85000, 85000, 85000, 85000, 85000, 85000, 85000, 85000, 85000, 84384, 84000, 84000, 84000, 84000, 83929, 83010, 83000, 83000, 83000, 83000, 83000, 83000, 82739, 82725, 82536, 82329, 82167, 82002, 82002, 82000, 82000, 82000, 81650, 81308, 81001, 81000, 81000, 80999, 80578, 80464, 80127, 80000, 80000, 80000, 80000, 80000, 80000, 80000, 80000, 80000, 80000, 80000, 80000, 79926, 79271, 79000, 79000, 79000, 79000, 79000, 79000, 79000, 79000, 79000, 79000, 78616, 78500, 78442, 78256, 78203, 78000, 78000, 78000, 78000, 78000, 78000, 78000, 78000, 78000, 77849, 77815, 77771, 77652, 77395, 77240, 77000, 77000, 77000, 76927, 76718, 76662, 76467, 76000, 76000, 76000, 76000, 76000, 76000, 76000, 76000, 75995, 75871, 75668, 75637, 75059, 75000, 75000, 75000, 75000, 75000, 75000, 75000, 75000, 75000, 75000, 75000, 74500, 74483, 74213, 74199, 74002, 74000, 74000, 74000, 74000, 74000, 73783, 73641, 73525, 73336, 73204, 73204, 73187, 73095, 73000, 73000, 73000, 73000, 73000, 72524, 72469, 72202, 72132, 72000, 72000, 72000, 72000, 72000, 72000, 72000, 72000, 72000, 72000, 71932, 71826, 71703, 71473, 71000, 71000, 71000, 71000, 71000, 71000, 70998, 70816, 70749, 70521, 70200, 70181, 70000, 70000, 70000, 70000, 70000, 70000, 70000, 70000, 70000, 70000, 70000, 69330, 69300, 69123, 69053, 69002, 69000, 69000, 69000, 69000, 69000, 69000, 69000, 69000, 69000, 69000, 68782, 68630, 68400, 68333, 68319, 68193, 68163, 68001, 68000, 68000, 68000, 68000, 68000, 68000, 68000, 67774, 67612, 67415, 67000, 67000, 67000, 67000, 67000, 67000, 66988, 66882, 66618, 66538, 66507, 66372, 66122, 66000, 66000, 66000, 66000, 66000, 66000, 66000, 66000, 66000, 66000, 65938, 65800, 65664, 65630, 65462, 65405, 65367, 65329, 65320, 65266, 65148, 65003, 65000, 65000, 65000, 65000, 65000, 65000, 65000, 65000, 65000, 65000, 65000, 65000, 65000, 65000, 64984, 64889, 64557, 64103, 64035, 64000, 64000, 64000, 64000, 64000, 63998, 63983, 63888, 63856, 63720, 63716, 63298, 63111, 63050, 63000, 63000, 63000, 63000, 63000, 63000, 63000, 63000, 62943, 62714, 62655, 62500, 62404, 62332, 62282, 62242, 62012, 62004, 62000, 62000, 62000, 62000, 62000, 62000, 62000, 61938, 61932, 61730, 61726, 61717, 61648, 61529, 61517, 61500, 61240, 61221, 61202, 61108, 61000, 61000, 61000, 61000, 61000, 60952, 60924, 60908, 60587, 60510, 60475, 60395, 60336, 60280, 60146, 60033, 60007, 60001, 60001, 60000, 60000, 60000, 60000, 60000, 60000, 60000, 60000, 60000, 60000, 60000, 60000, 60000, 60000, 60000, 60000, 60000, 60000, 60000, 60000, 60000, 60000, 59967, 59900, 59885, 59800, 59751, 59660, 59636, 59630, 59500, 59364, 59302, 59000, 59000, 59000, 59000, 59000, 59000, 58970, 58953, 58671, 58661, 58629, 58589, 58557, 58500, 58483, 58410, 58390, 58239, 58205, 58197, 58151, 58000, 58000, 58000, 58000, 58000, 58000, 58000, 58000, 58000, 58000, 58000, 58000, 58000, 58000, 58000, 58000, 58000, 58000, 57937, 57832, 57788, 57773, 57539, 57456, 57352, 57156, 57022, 57000, 57000, 57000, 57000, 57000, 57000, 56838, 56778, 56683, 56674, 56652, 56501, 56500, 56500, 56451, 56400, 56361, 56238, 56200, 56087, 56073, 56000, 56000, 56000, 56000, 56000, 56000, 56000, 56000, 56000, 56000, 55987, 55985, 55980, 55975, 55730, 55662, 55598, 55547, 55389, 55300, 55115, 55101, 55100, 55001, 55001, 55000, 55000, 55000, 55000, 55000, 55000, 55000, 55000, 55000, 55000, 55000, 55000, 55000, 54996, 54957, 54897, 54862, 54774, 54650, 54620, 54534, 54455, 54387, 54385, 54348, 54253, 54000, 54000, 54000, 54000, 54000, 54000, 54000, 54000, 54000, 54000, 53900, 53841, 53753, 53735, 53537, 53285, 53105, 53024, 53000, 53000, 53000, 53000, 53000, 53000, 53000, 53000, 53000, 53000, 52900, 52830, 52827, 52100, 52001, 52000, 52000, 52000, 52000, 52000, 52000, 52000, 52000, 52000, 52000, 52000, 52000, 51982, 51944, 51602, 51535, 51530, 51495, 51355, 51346, 51240, 51210, 51076, 51002, 51001, 51000, 51000, 51000, 51000, 51000, 51000, 51000, 51000, 51000, 51000, 51000, 51000, 51000, 51000, 51000, 50979, 50940, 50902, 50794, 50645, 50534, 50510, 50484, 50319, 50296, 50170, 50161, 50058, 50001, 50000, 50000, 50000, 50000, 50000, 50000, 50000, 50000, 50000, 50000, 50000, 50000, 50000, 50000, 50000, 50000, 50000, 50000, 50000, 50000, 50000, 50000, 50000, 49964, 49800, 49275, 49112, 49000, 49000, 49000, 49000, 49000, 49000, 49000, 49000, 49000, 49000, 48823, 48600, 48394, 48367, 48300, 48214, 48183, 48161, 48040, 48000, 48000, 48000, 48000, 48000, 48000, 48000, 48000, 48000, 48000, 48000, 48000, 48000, 48000, 48000, 48000, 48000, 48000, 47877, 47877, 47759, 47691, 47681, 47566, 47357, 47346, 47303, 47293, 47140, 47088, 47000, 47000, 47000, 47000, 47000, 47000, 47000, 47000, 46983, 46936, 46913, 46849, 46738, 46728, 46630, 46559, 46374, 46125, 46001, 46000, 46000, 46000, 46000, 46000, 46000, 46000, 46000, 46000, 46000, 46000, 45979, 45840, 45794, 45710, 45560, 45535, 45492, 45330, 45306, 45200, 45200, 45180, 45178, 45165, 45051, 45000, 45000, 45000, 45000, 45000, 45000, 45000, 45000, 45000, 45000, 45000, 45000, 45000, 45000, 45000, 45000, 45000, 45000, 44999, 44965, 44875, 44811, 44782, 44600, 44555, 44450, 44414, 44340, 44194, 44001, 44000, 44000, 44000, 44000, 44000, 44000, 44000, 43983, 43827, 43812, 43800, 43706, 43690, 43686, 43627, 43600, 43510, 43477, 43368, 43252, 43022, 43000, 43000, 43000, 43000, 43000, 43000, 42939, 42876, 42747, 42666, 42646, 42500, 42408, 42400, 42388, 42366, 42265, 42259, 42076, 42070, 42036, 42024, 42023, 42000, 42000, 42000, 42000, 42000, 42000, 42000, 42000, 42000, 41988, 41950, 41816, 41747, 41736, 41697, 41661, 41617, 41493, 41467, 41380, 41367, 41100, 41089, 41082, 41057, 41041, 41016, 41000, 41000, 41000, 41000, 41000, 41000, 41000, 41000, 41000, 40714, 40674, 40670, 40600, 40471, 40337, 40318, 40129, 40100, 40000, 40000, 40000, 40000, 40000, 40000, 40000, 40000, 40000, 40000, 40000, 40000, 40000, 40000, 39882, 39753, 39644, 39626, 39525, 39500, 39430, 39273, 39237, 39037, 39000, 39000, 39000, 39000, 39000, 39000, 39000, 39000, 39000, 39000, 38999, 38998, 38852, 38730, 38593, 38467, 38171, 38163, 38009, 38001, 38000, 38000, 38000, 38000, 38000, 38000, 38000, 38000, 38000, 38000, 38000, 38000, 38000, 38000, 37944, 37832, 37713, 37632, 37630, 37613, 37600, 37542, 37500, 37500, 37382, 37340, 37300, 37245, 37229, 37199, 37086, 37081, 37024, 37000, 37000, 37000, 37000, 37000, 37000, 37000, 37000, 36935, 36931, 36884, 36824, 36797, 36789, 36723, 36631, 36610, 36400, 36300, 36255, 36152, 36139, 36091, 36000, 36000, 36000, 36000, 36000, 36000, 36000, 36000, 36000, 36000, 35676, 35659, 35642, 35463, 35437, 35358, 35299, 35277, 35225, 35214, 35165, 35129, 35102, 35059, 35010, 35000, 35000, 35000, 35000, 35000, 35000, 35000, 35000, 35000, 35000, 35000, 35000, 35000, 35000, 35000, 35000, 34990, 34987, 34895, 34700, 34696, 34686, 34630, 34429, 34233, 34232, 34200, 34000, 34000, 34000, 34000, 34000, 34000, 34000, 34000, 34000, 34000, 34000, 34000, 34000, 34000, 33931, 33900, 33858, 33709, 33552, 33550, 33500, 33450, 33000, 33000, 33000, 33000, 33000, 33000, 33000, 33000, 33000, 33000, 32982, 32910, 32896, 32854, 32838, 32824, 32807, 32700, 32684, 32642, 32586, 32545, 32531, 32500, 32496, 32434, 32345, 32324, 32298, 32283, 32205, 32198, 32000, 32000, 32000, 32000, 32000, 32000, 32000, 32000, 32000, 32000, 31919, 31821, 31652, 31645, 31500, 31427, 31400, 31300, 31150, 31075, 31021, 31000, 31000, 31000, 31000, 31000, 31000, 31000, 30900, 30733, 30717, 30706, 30566, 30552, 30534, 30523, 30500, 30500, 30090, 30000, 30000, 30000, 30000, 30000, 30000, 30000, 30000, 30000, 30000, 30000, 30000, 30000, 30000, 30000, 30000, 30000, 30000, 30000, 30000, 29966, 29952, 29836, 29819, 29813, 29631, 29500, 29311, 29277, 29277, 29161, 29091, 29063, 29022, 29000, 29000, 29000, 29000, 29000, 29000, 29000, 29000, 29000, 29000, 29000, 28888, 28881, 28843, 28733, 28541, 28503, 28469, 28352, 28321, 28226, 28143, 28069, 28060, 28052, 28000, 28000, 28000, 28000, 28000, 28000, 28000, 28000, 28000, 28000, 27853, 27852, 27833, 27809, 27641, 27467, 27417, 27413, 27313, 27090, 27078, 27001, 27001, 27000, 27000, 27000, 27000, 27000, 27000, 27000, 27000, 26856, 26725, 26493, 26405, 26327, 26323, 26212, 26192, 26023, 26013, 26000, 26000, 26000, 26000, 26000, 26000, 25948, 25899, 25858, 25717, 25601, 25559, 25500, 25100, 25082, 25058, 25000, 25000, 25000, 25000, 25000, 25000, 25000, 25000, 25000, 25000, 25000, 25000, 25000, 25000, 25000, 25000, 25000, 24941, 24852, 24733, 24720, 24500, 24465, 24300, 24013, 24000, 24000, 24000, 24000, 24000, 24000, 24000, 23875, 23806, 23627, 23576, 23550, 23312, 23249, 23218, 23152, 23106, 23000, 23000, 23000, 23000, 23000, 23000, 23000, 22982, 22974, 22769, 22732, 22526, 22440, 22397, 22321, 22060, 22000, 22000, 22000, 22000, 22000, 22000, 21983, 21979, 21936, 21719, 21684, 21603, 21600, 21488, 21363, 21290, 21110, 21000, 21000, 21000, 21000, 21000, 21000, 21000, 21000, 21000, 21000, 21000, 21000, 21000, 21000, 21000, 21000, 21000, 21000, 21000, 21000, 20969, 20967, 20826, 20789, 20667, 20604, 20483, 20469, 20446, 20364, 20300, 20300, 20149, 20026, 20004, 20003, 20002, 20000, 20000, 20000, 20000, 20000, 20000, 20000, 20000, 20000, 20000, 19863, 19828, 19658, 19654, 19543, 19254, 19235, 19168, 19000, 19000, 19000, 19000, 19000, 19000, 19000, 19000, 19000, 18955, 18600, 18500, 18491, 18385, 18373, 18351, 18090, 18000, 18000, 18000, 18000, 18000, 18000, 17978, 17800, 17773, 17738, 17652, 17585, 17489, 17465, 17320, 17201, 17000, 17000, 17000, 17000, 17000, 17000, 17000, 17000, 16900, 16503, 16500, 16485, 16329, 16100, 16000, 16000, 16000, 16000, 15976, 15456, 15379, 15369, 15234, 15200, 15200, 15000, 15000, 15000, 15000, 15000, 15000, 15000, 15000, 15000, 14900, 14857, 14500, 14470, 14351, 14298, 14262, 14233, 14165, 14076, 14000, 14000, 14000, 14000, 14000, 14000, 14000, 13747, 13689, 13648, 13574, 13506, 13500, 13452, 13418, 13414, 13412, 13372, 13190, 13002, 13000, 13000, 13000, 13000, 13000, 12831, 12794, 12645, 12538, 12467, 12278, 12153, 12100, 12000, 12000, 12000, 12000, 12000, 12000, 11964, 11900, 11827, 11500, 11287, 11209, 11200, 11000, 11000, 11000, 11000, 10714, 10601, 10512, 10501, 10500, 10003, 10000, 10000, 10000, 10000, 10000, 9952, 9500, 9312, 9000, 9000, 9000, 9000, 9000, 8900, 8682, 8525, 8500, 8018, 8000, 8000, 8000, 8000, 8000, 8000, 8000, 7501, 7500, 7100, 7000, 7000, 7000, 7000, 7000, 6773, 6500, 6000, 5900, 5500, 5354, 5240, 5000, 4500, 4131, 4000, 4000, 4000, 3906, 3600, 3300, 3000, 3000, 3000, 3000, 3000, 3000, 2971, 2526, 2000, 2000, 1997, 1800, 1700, 1400, 1331, 1000, 1000, 600], \"xaxis\": \"x\", \"y\": [7.5, 13.0, 6.0, 12.3, 4.24, 12.0, 9.75, 12.0, 1.5, 17.49, 3.0, 16.5, 18.75, 6.58, 16.75, 4.65, 18.5, 9.0, 8.5, 3.0, 4.7, 10.0, 12.5, 56.0, 7.0, 13.5, 11.0, 18.0, 2.6, 21.99, 16.5, 12.99, 7.75, 18.0, 10.5, 30.0, 6.95, 5.75, 2.65, 7.1, 16.5, 13.99, 31.41, 14.0, 19.25, 3.8, 4.5, 10.0, 6.75, 10.5, 11.5, 7.99, 6.5, 2.75, 20.0, 18.0, 12.9, 8.0, 14.4, 19.0, 4.0, 16.5, 6.21, 23.29, 17.5, 4.35, 20.5, 11.99, 13.8, 14.5, 19.0, 2.5, 11.0, 5.75, 9.92, 8.85, 3.0, 30.5, 10.75, 23.58, 13.75, 16.5, 4.65, 19.99, 21.67, 18.46, 4.0, 17.0, 14.41, 19.0, 8.5, 14.5, 24.75, 2.05, 38.0, 32.0, 10.9, 11.5, 25.0, 11.5, 1.96, 32.5, 10.5, 2.21, 10.0, 12.95, 17.5, 25.0, 22.0, 62.67, 3.75, 85.0, 8.0, 16.75, 6.5, 4.62, 18.98, 15.5, 29.67, 19.6, 8.5, 17.5, 3.0, 10.0, 2.85, 6.75, 23.19, 20.5, 12.5, 4.8, 12.0, 5.25, 17.15, 2.6, 17.5, 26.5, 15.0, 16.14, 10.6, 7.25, 19.75, 16.0, 17.56, 28.55, 9.25, 9.47, 2.45, 9.2, 13.9, 26.0, 6.5, 21.5, 17.75, 22.5, 17.75, 19.5, 11.0, 16.8, 6.3, 2.8, 3.71, 13.95, 16.57, 4.0, 4.0, 4.19, 13.99, 22.5, 15.0, 27.0, 6.45, 5.25, 36.5, 16.25, 7.98, 16.25, 25.71, 17.23, 15.5, 15.0, 6.67, 17.0, 5.4, 5.9, 17.18, 20.37, 3.25, 19.0, 18.25, 9.5, 8.0, 13.08, 9.75, 28.0, 21.0, 9.99, 38.75, 6.25, 7.5, 5.5, 13.95, 17.5, 28.0, 10.0, 21.0, 23.0, 52.54, 17.75, 10.75, 6.5, 4.45, 2.6, 7.5, 6.5, 6.75, 36.0, 6.0, 16.5, 12.75, 16.77, 11.99, 28.63, 7.5, 5.4, 18.5, 17.5, 16.85, 7.25, 13.9, 7.5, 7.95, 10.9, 3.25, 22.75, 14.4, 14.5, 9.29, 23.68, 3.43, 17.5, 10.75, 3.0, 25.0, 9.5, 9.5, 2.8, 7.25, 19.5, 14.2, 2.0, 29.77, 16.5, 41.0, 39.0, 4.85, 17.0, 18.5, 5.25, 18.25, 15.0, 17.75, 10.99, 15.5, 28.0, 3.57, 4.15, 5.5, 7.2, 24.0, 3.41, 3.99, 5.34, 4.5, 19.5, 15.0, 8.0, 11.27, 4.25, 18.64, 2.85, 14.35, 8.31, 5.5, 6.5, 35.0, 22.75, 6.51, 10.99, 30.45, 10.0, 2.4, 5.53, 18.25, 8.75, 58.0, 19.0, 8.79, 65.81, 14.12, 16.58, 30.37, 4.25, 27.95, 24.0, 17.5, 7.5, 7.75, 9.5, 11.0, 9.44, 27.5, 4.95, 13.9, 15.0, 2.3, 11.5, 9.25, 18.5, 12.95, 5.25, 8.25, 7.75, 12.5, 5.23, 17.08, 34.54, 10.69, 3.5, 3.3, 30.72, 3.8, 14.5, 17.51, 14.4, 12.5, 10.4, 18.06, 32.52, 9.06, 39.0, 4.75, 3.25, 27.0, 15.5, 11.0, 5.5, 3.2, 12.5, 29.0, 6.0, 16.5, 15.5, 9.14, 5.35, 5.45, 2.4, 15.0, 6.8, 21.5, 11.99, 20.57, 3.1, 9.86, 10.3, 5.0, 23.99, 13.0, 40.0, 10.3, 17.55, 35.0, 11.0, 18.0, 27.0, 19.48, 15.8, 8.5, 23.5, 12.5, 19.0, 5.72, 50.0, 2.85, 54.0, 4.5, 16.25, 38.0, 18.5, 10.25, 2.25, 19.75, 5.25, 12.5, 3.87, 13.5, 8.5, 25.12, 24.74, 8.9, 11.75, 18.0, 29.5, 22.0, 4.8, 9.75, 15.75, 27.5, 8.95, 11.5, 11.03, 18.75, 9.25, 2.45, 14.5, 4.7, 7.0, 10.0, 25.02, 15.49, 70.0, 5.43, 10.5, 5.96, 23.0, 30.0, 3.7, 10.75, 3.9, 7.25, 11.5, 5.7, 10.75, 21.0, 38.0, 12.5, 13.5, 21.75, 3.5, 32.73, 20.14, 20.72, 11.5, 31.75, 12.75, 67.83, 16.0, 21.26, 6.75, 11.95, 29.0, 7.5, 14.0, 6.25, 16.0, 16.5, 34.0, 21.5, 10.5, 8.99, 3.45, 11.5, 29.93, 19.9, 8.55, 4.2, 10.5, 12.5, 15.65, 28.0, 5.42, 16.56, 22.58, 13.96, 13.25, 23.0, 3.95, 30.8, 17.5, 1.85, 36.0, 34.5, 26.0, 13.5, 65.0, 14.22, 4.75, 10.95, 4.5, 14.5, 19.0, 21.33, 5.89, 2.9, 6.62, 20.12, 3.75, 25.0, 7.0, 3.55, 12.5, 44.5, 3.75, 10.55, 2.65, 3.31, 19.94, 20.77, 5.57, 14.23, 5.65, 4.39, 8.5, 17.5, 21.73, 14.5, 28.88, 12.5, 3.75, 11.0, 8.25, 25.0, 5.91, 8.3, 6.42, 3.49, 3.1, 9.1, 45.82, 24.94, 22.45, 29.64, 51.52, 4.5, 14.5, 7.25, 10.35, 24.0, 22.0, 4.45, 17.55, 21.0, 4.49, 4.45, 5.5, 10.2, 16.0, 16.0, 2.99, 27.0, 3.8, 25.0, 45.0, 4.65, 14.5, 23.5, 20.0, 23.5, 18.0, 18.5, 20.11, 5.8, 4.88, 10.49, 29.2, 23.41, 68.0, 26.5, 5.25, 36.75, 21.0, 21.9, 10.0, 11.5, 12.5, 23.75, 24.22, 14.25, 28.03, 16.52, 27.75, 8.0, 27.5, 2.95, 14.5, 19.86, 9.69, 27.0, 9.19, 9.6, 13.5, 32.0, 17.0, 15.75, 17.98, 11.0, 18.5, 15.3, 19.5, 26.7, 4.4, 48.0, 11.5, 11.75, 27.0, 7.5, 3.5, 31.0, 5.4, 25.82, 3.6, 20.04, 7.75, 21.56, 6.5, 18.0, 6.51, 17.25, 2.5, 9.75, 3.4, 4.4, 7.25, 5.15, 15.46, 13.5, 14.05, 50.29, 17.71, 19.8, 3.45, 62.81, 8.0, 4.38, 51.69, 3.85, 20.75, 13.25, 33.5, 22.75, 35.0, 45.0, 8.25, 30.0, 34.5, 2.99, 29.5, 24.0, 8.22, 23.5, 18.12, 35.92, 15.21, 42.83, 11.5, 24.99, 28.45, 3.9, 36.15, 8.4, 12.0, 31.0, 8.5, 12.5, 9.99, 67.0, 16.0, 13.5, 19.5, 21.75, 7.25, 28.0, 52.0, 5.7, 3.5, 3.75, 60.95, 5.37, 7.3, 16.67, 6.35, 30.35, 9.86, 3.65, 6.5, 5.85, 17.0, 4.0, 16.81, 10.0, 21.99, 6.11, 13.25, 7.5, 18.0, 17.55, 4.5, 2.9, 6.0, 29.0, 20.5, 16.75, 38.94, 6.89, 4.28, 4.41, 4.29, 17.85, 29.0, 20.5, 13.75, 4.0, 3.8, 4.75, 23.0, 36.0, 9.5, 4.75, 8.08, 44.76, 7.5, 10.11, 9.0, 19.5, 29.95, 25.49, 39.75, 19.5, 24.5, 24.0, 35.0, 49.0, 25.0, 42.0, 45.77, 32.5, 17.27, 19.03, 30.27, 21.95, 27.0, 21.99, 29.52, 8.89, 34.88, 48.91, 17.0, 25.0, 21.94, 27.5, 11.5, 17.0, 7.75, 4.5, 5.64, 10.5, 7.9, 33.5, 21.5, 8.75, 22.25, 13.0, 6.9, 6.95, 3.0, 43.3, 10.75, 8.27, 24.9, 31.12, 21.95, 19.0, 14.79, 25.93, 3.84, 29.0, 51.0, 35.0, 30.0, 47.5, 8.25, 25.0, 11.69, 45.0, 13.5, 7.5, 45.0, 7.41, 36.0, 48.0, 21.0, 38.0, 15.0, 8.5, 49.0, 25.0, 6.0, 17.5, 3.9, 23.89, 4.0, 45.64, 3.79, 45.0, 14.49, 8.9, 22.99, 15.5, 15.45, 19.0, 29.0, 19.25, 8.95, 8.5, 48.5, 10.49, 39.58, 17.5, 23.32, 20.99, 20.87, 12.07, 18.25, 50.5, 5.1, 13.5, 22.0, 29.0, 5.0, 26.5, 18.75, 20.26, 59.0, 2.95, 26.5, 21.6, 6.99, 16.0, 16.25, 9.75, 35.68, 48.22, 31.8, 3.94, 8.73, 20.25, 8.37, 14.5, 5.21, 38.72, 30.0, 19.0, 4.5, 13.9, 64.75, 29.5, 24.5, 41.5, 5.4, 25.5, 43.35, 29.6, 16.11, 6.93, 6.1, 6.15, 8.59, 3.75, 8.85, 12.5, 16.0, 36.0, 8.5, 9.95, 16.5, 24.0, 5.1, 4.9, 28.0, 10.99, 26.0, 23.25, 19.5, 8.41, 20.67, 23.68, 6.34, 19.41, 10.3, 13.19, 42.5, 13.5, 23.0, 50.22, 3.48, 41.75, 5.96, 4.25, 25.0, 40.0, 11.5, 21.5, 11.5, 56.0, 6.99, 5.25, 34.0, 3.35, 27.0, 37.9, 13.5, 15.25, 7.5, 28.5, 57.0, 25.0, 17.95, 8.01, 25.81, 7.12, 4.55, 13.5, 24.68, 42.5, 13.83, 32.8, 34.51, 1.5, 32.5, 4.3, 2.65, 6.2, 44.0, 5.6, 7.58, 36.83, 20.28, 16.75, 9.0, 17.11, 50.66, 29.0, 10.24, 20.5, 38.15, 31.94, 34.18, 24.85, 26.5, 39.5, 17.5, 26.5, 10.75, 12.5, 12.49, 9.31, 39.47, 8.95, 12.46, 5.25, 10.48, 42.91, 18.0, 31.93, 22.24, 24.36, 21.8, 11.57, 6.25, 9.73, 4.34, 19.6, 24.25, 23.5, 5.5, 22.99, 24.95, 22.0, 3.4, 28.75, 5.45, 9.6, 32.78, 9.0, 19.92, 16.68, 44.83, 14.14, 42.0, 37.98, 11.77, 18.49, 26.5, 28.79, 38.76, 24.63, 37.56, 5.08, 5.25, 6.25, 6.0, 25.5, 10.5, 5.45, 45.0, 18.5, 13.75, 24.75, 24.82, 17.74, 7.2, 25.72, 4.45, 43.74, 70.8, 14.5, 41.5, 30.0, 16.45, 17.5, 24.0, 22.95, 45.0, 5.25, 9.5, 24.0, 22.5, 14.5, 22.0, 24.5, 6.55, 35.28, 25.75, 40.66, 9.25, 29.5, 8.29, 6.99, 25.64, 9.25, 13.85, 27.0, 34.0, 15.0, 13.5, 18.9, 4.55, 9.5, 4.45, 3.49, 32.5, 17.0, 8.47, 29.98, 13.23, 70.66, 4.99, 32.91, 4.25, 8.5, 16.0, 38.95, 12.0, 30.48, 20.0, 6.25, 11.6, 39.0, 29.0, 24.0, 19.5, 45.0, 13.51, 23.99, 35.0, 5.23, 31.62, 4.5, 9.1, 13.95, 22.5, 25.71, 16.75, 32.0, 32.0, 29.98, 6.46, 11.96, 3.41, 5.43, 5.44, 5.77, 10.97, 21.0, 36.0, 14.0, 15.0, 6.75, 17.0, 2.95, 13.0, 32.64, 9.48, 32.25, 39.84, 39.47, 4.25, 32.57, 4.3, 19.9, 72.0, 7.5, 33.0, 7.22, 6.3, 55.76, 16.25, 21.5, 10.15, 16.0, 23.0, 14.0, 22.0, 4.65, 9.45, 17.5, 9.48, 43.78, 6.69, 25.02, 18.58, 22.99, 19.0, 30.0, 5.25, 3.2, 22.0, 7.0, 5.5, 5.75, 11.5, 29.0, 41.6, 29.5, 4.45, 21.0, 52.0, 23.5, 25.75, 20.99, 4.25, 11.5, 7.7, 14.7, 32.0, 23.0, 5.5, 53.83, 5.95, 4.6, 24.5, 12.08, 11.86, 7.29, 20.0, 22.5, 35.84, 6.5, 19.25, 11.0, 19.0, 3.85, 20.0, 13.65, 22.0, 13.0, 36.0, 9.95, 7.99, 4.35, 25.5, 22.0, 5.91, 37.0, 9.03, 4.9, 64.87, 9.6, 19.75, 4.4, 7.25, 3.2, 22.0, 8.7, 16.0, 7.25, 14.5, 43.0, 2.85, 3.99, 18.55, 2.5, 8.9, 12.6, 30.29, 3.83, 14.76, 20.0, 3.23, 34.78, 37.3, 48.76, 8.0, 26.75, 45.62, 14.35, 24.51, 30.5, 23.8, 5.41, 25.31, 5.1, 9.2, 5.55, 8.11, 5.25, 15.5, 8.5, 4.8, 30.5, 7.99, 11.0, 4.56, 17.22, 26.78, 29.4, 4.15, 59.72, 26.75, 10.5, 30.54, 49.79, 16.61, 18.95, 27.0, 13.5, 17.65, 29.95, 29.5, 31.0, 29.5, 29.3, 25.99, 59.29, 3.32, 32.44, 7.42, 17.08, 10.5, 7.65, 11.44, 3.49, 26.0, 45.0, 3.8, 27.0, 45.0, 22.0, 11.0, 49.0, 19.25, 26.0, 8.65, 4.25, 9.8, 22.0, 31.5, 8.95, 8.2, 24.5, 4.25, 43.6, 13.77, 25.75, 61.29, 11.5, 4.9, 43.0, 50.97, 27.0, 59.65, 39.41, 45.52, 25.75, 34.08, 29.0, 32.0, 11.25, 29.8, 57.0, 31.0, 65.0, 20.0, 2.8, 26.0, 10.0, 7.56, 21.37, 5.49, 53.11, 60.75, 6.86, 24.37, 9.35, 17.49, 9.15, 28.5, 30.85, 93.67, 7.22, 31.75, 11.56, 13.9, 23.75, 7.25, 26.0, 8.0, 4.95, 11.85, 7.75, 8.25, 10.44, 49.24, 6.41, 24.77, 39.05, 6.89, 5.18, 48.63, 16.5, 15.95, 29.0, 26.52, 35.0, 8.6, 11.45, 23.0, 48.0, 14.95, 6.75, 5.95, 4.15, 4.25, 33.64, 51.43, 35.67, 7.4, 24.46, 40.47, 19.97, 97.07, 3.65, 10.0, 7.65, 12.65, 75.0, 26.0, 16.46, 55.7, 7.54, 8.86, 56.73, 37.93, 8.95, 75.0, 8.37, 3.95, 22.0, 3.5, 60.0, 45.0, 12.75, 30.0, 21.0, 9.45, 9.45, 32.0, 17.99, 26.0, 44.0, 7.75, 160.0, 14.85, 25.0, 3.19, 8.08, 27.15, 28.0, 16.52, 39.45, 4.55, 56.14, 5.95, 8.75, 33.5, 8.75, 25.0, 28.0, 46.95, 14.36, 33.66, 4.75, 7.08, 33.66, 40.5, 26.11, 45.61, 39.22, 27.43, 19.9, 25.0, 15.5, 6.8, 37.0, 28.75, 15.75, 10.95, 11.97, 49.22, 55.54, 7.6, 8.89, 70.99, 11.66, 32.73, 22.5, 35.0, 41.5, 16.0, 14.0, 11.5, 16.5, 23.45, 37.92, 33.13, 7.89, 70.15, 4.65, 9.72, 13.49, 56.8, 28.95, 56.0, 55.0, 23.5, 5.4, 2.6, 52.0, 44.0, 4.45, 36.0, 3.96, 6.35, 33.0, 52.5, 21.5, 35.0, 24.5, 18.0, 6.2, 48.0, 16.5, 27.87, 44.56, 7.72, 18.36, 7.55, 39.62, 30.3, 35.98, 51.35, 5.2, 18.0, 14.21, 38.5, 9.27, 68.94, 19.25, 67.0, 5.74, 47.35, 4.0, 32.0, 35.5, 23.5, 4.7, 12.0, 5.99, 33.0, 64.95, 75.0, 35.84, 17.63, 40.5, 47.7, 36.5, 6.93, 29.99, 4.75, 10.0, 8.95, 15.5, 38.0, 8.9, 6.25, 44.0, 10.65, 21.0, 3.95, 3.9, 12.41, 45.86, 3.41, 45.73, 5.4, 25.7, 18.25, 9.25, 22.0, 6.2, 6.95, 2.38, 26.76, 54.45, 58.73, 32.0, 5.99, 93.0, 37.99, 58.91, 11.6, 9.5, 9.75, 17.25, 32.0, 3.95, 22.0, 31.0, 44.0, 9.5, 34.0, 42.75, 30.3, 11.6, 48.0, 32.0, 5.95, 56.0, 36.76, 36.64, 6.97, 35.67, 9.95, 13.5, 3.85, 12.69, 33.0, 5.5, 35.0, 69.5, 70.0, 5.35, 30.0, 28.5, 8.6, 31.55, 20.75, 38.5, 35.55, 2.02, 27.35, 17.85, 19.64, 19.4, 4.5, 35.0, 11.5, 9.99, 11.25, 43.0, 31.99, 27.3, 28.25, 21.43, 9.51, 21.66, 25.51, 25.46, 33.63, 30.77, 9.19, 54.0, 38.99, 3.25, 8.5, 3.25, 14.5, 23.0, 17.75, 9.89, 9.15, 11.5, 12.5, 25.64, 5.63, 6.84, 29.5, 79.0, 33.5, 6.0, 4.25, 28.0, 3.25, 32.95, 28.5, 27.11, 7.5, 70.36, 31.15, 37.5, 56.5, 29.5, 16.0, 28.0, 39.51, 19.65, 64.0, 75.0, 8.9, 48.5, 44.0, 36.0, 30.0, 28.9, 55.0, 58.54, 16.35, 78.8, 4.25, 32.9, 5.45, 35.5, 34.5, 26.5, 39.5, 23.0, 4.22, 8.3, 12.85, 4.15, 9.45, 100.0, 19.75, 33.75, 43.0, 48.0, 5.0, 4.35, 46.0, 9.75, 3.65, 35.0, 27.75, 72.94, 120.0, 79.0, 47.5, 4.25, 6.76, 3.6, 16.95, 12.5, 7.75, 38.0, 35.0, 17.75, 7.36, 12.25, 11.5, 11.25, 90.0, 6.2, 52.5, 8.85, 8.25, 39.75, 83.96, 34.0, 5.0, 4.45, 11.37, 7.8, 61.25, 20.0, 6.85, 40.0, 6.25], \"yaxis\": \"y\"}, {\"hoverlabel\": {\"namelength\": 0}, \"hovertemplate\": \"Transmission=Manual<br>Kilometers_Driven=%{x}<br>Price=%{y}\", \"legendgroup\": \"Transmission=Manual\", \"marker\": {\"color\": \"#EF553B\", \"symbol\": \"circle\"}, \"mode\": \"markers\", \"name\": \"Transmission=Manual\", \"showlegend\": true, \"type\": \"scattergl\", \"x\": [720000, 620000, 480000, 445000, 300000, 299322, 282000, 262000, 255000, 250000, 250000, 250000, 248000, 242000, 234000, 232000, 231673, 230000, 225000, 216000, 215000, 210000, 205000, 200000, 200000, 200000, 200000, 200000, 199000, 197000, 197000, 196000, 194000, 193254, 193000, 192000, 190000, 190000, 186679, 185200, 180000, 180000, 180000, 179032, 179000, 178280, 178000, 177000, 176000, 173000, 172050, 171000, 170428, 170000, 170000, 170000, 169006, 169000, 169000, 168205, 168000, 167362, 167000, 167000, 166194, 166000, 165000, 163000, 162663, 162000, 160538, 160000, 160000, 160000, 160000, 160000, 160000, 160000, 160000, 158793, 158000, 157000, 156347, 156210, 156056, 156000, 155566, 155000, 155000, 154000, 153000, 152000, 152000, 151000, 150386, 150000, 150000, 150000, 150000, 150000, 150000, 150000, 150000, 150000, 150000, 150000, 150000, 150000, 149706, 149000, 148009, 148000, 148000, 148000, 147898, 147848, 147350, 147000, 146824, 146300, 146000, 146000, 145277, 145000, 145000, 145000, 144471, 144400, 144113, 144000, 144000, 143354, 143275, 143143, 143000, 142000, 142000, 141537, 140000, 140000, 140000, 140000, 140000, 140000, 140000, 140000, 140000, 138205, 138000, 138000, 138000, 138000, 137800, 137148, 137000, 136642, 136490, 136000, 136000, 135670, 135000, 135000, 135000, 135000, 135000, 134000, 133944, 133000, 133000, 132000, 132000, 132000, 132000, 131765, 131000, 131000, 131000, 130790, 130002, 130000, 130000, 130000, 130000, 130000, 130000, 130000, 130000, 130000, 130000, 130000, 130000, 130000, 129986, 129750, 129000, 129000, 129000, 129000, 128813, 128000, 128000, 128000, 128000, 128000, 127887, 127510, 127079, 127001, 127000, 126000, 126000, 126000, 126000, 125943, 125928, 125600, 125000, 125000, 125000, 125000, 125000, 125000, 125000, 125000, 124313, 124000, 124000, 123900, 123880, 123600, 123200, 123000, 123000, 123000, 122397, 122000, 122000, 122000, 122000, 121900, 121377, 121374, 121362, 121311, 121097, 121000, 121000, 121000, 121000, 120203, 120005, 120000, 120000, 120000, 120000, 120000, 120000, 120000, 120000, 120000, 120000, 120000, 120000, 120000, 120000, 120000, 120000, 120000, 120000, 120000, 119000, 119000, 119000, 119000, 119000, 118683, 118500, 118211, 118077, 118000, 118000, 118000, 118000, 117837, 117777, 117080, 117000, 117000, 116905, 116694, 116000, 116000, 116000, 116000, 116000, 115195, 115000, 115000, 115000, 115000, 115000, 115000, 115000, 115000, 114750, 114708, 114703, 113562, 113000, 113000, 112808, 112200, 112000, 112000, 111111, 111111, 111000, 111000, 110471, 110438, 110224, 110009, 110000, 110000, 110000, 110000, 110000, 110000, 110000, 110000, 110000, 110000, 110000, 110000, 109606, 109500, 109200, 109147, 109000, 109000, 109000, 108995, 108882, 108626, 108242, 108000, 108000, 108000, 107890, 107825, 107389, 107023, 107000, 107000, 107000, 107000, 107000, 107000, 107000, 107000, 106092, 106000, 105545, 105072, 105044, 105000, 105000, 105000, 105000, 105000, 105000, 105000, 105000, 105000, 104000, 104000, 104000, 104000, 103814, 103788, 103653, 103515, 103000, 103000, 103000, 102626, 102486, 102418, 102016, 102013, 102000, 102000, 102000, 101065, 101000, 101000, 100400, 100303, 100173, 100073, 100073, 100030, 100010, 100009, 100002, 100000, 100000, 100000, 100000, 100000, 100000, 100000, 100000, 100000, 100000, 100000, 100000, 100000, 100000, 100000, 100000, 100000, 100000, 100000, 100000, 100000, 100000, 100000, 100000, 100000, 100000, 100000, 99807, 99754, 99638, 99595, 99593, 99500, 99362, 99024, 99000, 99000, 99000, 99000, 99000, 99000, 98798, 98598, 98500, 98437, 98293, 98008, 98000, 98000, 98000, 98000, 98000, 98000, 98000, 98000, 98000, 97439, 97359, 97236, 97000, 97000, 97000, 97000, 97000, 97000, 97000, 96813, 96578, 96000, 96000, 96000, 96000, 96000, 96000, 96000, 95980, 95936, 95802, 95637, 95500, 95291, 95150, 95150, 95100, 95000, 95000, 95000, 95000, 95000, 95000, 95000, 95000, 95000, 95000, 94989, 94900, 94873, 94868, 94832, 94753, 94500, 94385, 94000, 94000, 94000, 93982, 93850, 93700, 93450, 93401, 93325, 93321, 93166, 93000, 93000, 93000, 93000, 93000, 93000, 93000, 93000, 93000, 93000, 92885, 92708, 92450, 92408, 92250, 92247, 92056, 92000, 92000, 92000, 92000, 92000, 92000, 92000, 92000, 92000, 92000, 92000, 92000, 92000, 92000, 92000, 92000, 91931, 91596, 91235, 91211, 91200, 91183, 91000, 91000, 91000, 91000, 91000, 91000, 91000, 91000, 91000, 90906, 90764, 90456, 90413, 90400, 90246, 90207, 90200, 90121, 90110, 90049, 90000, 90000, 90000, 90000, 90000, 90000, 90000, 90000, 90000, 90000, 90000, 90000, 90000, 90000, 90000, 90000, 90000, 90000, 90000, 90000, 90000, 90000, 90000, 90000, 90000, 90000, 90000, 90000, 90000, 90000, 90000, 90000, 90000, 90000, 89900, 89869, 89614, 89429, 89401, 89327, 89326, 89230, 89000, 89000, 89000, 89000, 89000, 89000, 89000, 89000, 88578, 88539, 88511, 88500, 88500, 88428, 88381, 88123, 88096, 88000, 88000, 88000, 88000, 88000, 88000, 88000, 87982, 87900, 87736, 87670, 87615, 87591, 87510, 87459, 87430, 87284, 87200, 87192, 87000, 87000, 87000, 87000, 87000, 87000, 86999, 86863, 86732, 86700, 86514, 86500, 86398, 86300, 86157, 86091, 86000, 86000, 86000, 86000, 86000, 86000, 86000, 86000, 86000, 86000, 86000, 86000, 86000, 86000, 85827, 85670, 85512, 85450, 85445, 85423, 85388, 85350, 85301, 85155, 85122, 85112, 85046, 85000, 85000, 85000, 85000, 85000, 85000, 85000, 85000, 85000, 85000, 85000, 85000, 85000, 85000, 85000, 85000, 85000, 85000, 85000, 84931, 84912, 84725, 84677, 84600, 84580, 84415, 84360, 84175, 84169, 84143, 84085, 84072, 84062, 84060, 84056, 84045, 84000, 84000, 84000, 84000, 84000, 84000, 84000, 84000, 84000, 84000, 84000, 84000, 83969, 83950, 83875, 83816, 83678, 83629, 83558, 83500, 83432, 83381, 83327, 83274, 83184, 83165, 83128, 83090, 83072, 83000, 83000, 83000, 83000, 83000, 83000, 83000, 83000, 83000, 83000, 83000, 83000, 83000, 83000, 83000, 83000, 83000, 83000, 83000, 82966, 82756, 82749, 82697, 82621, 82606, 82603, 82543, 82500, 82497, 82453, 82450, 82407, 82321, 82203, 82160, 82103, 82085, 82069, 82002, 82000, 82000, 82000, 82000, 82000, 82000, 82000, 82000, 82000, 82000, 82000, 82000, 82000, 82000, 81828, 81768, 81759, 81755, 81609, 81605, 81504, 81500, 81456, 81448, 81424, 81402, 81310, 81298, 81245, 81177, 81000, 81000, 81000, 81000, 81000, 81000, 81000, 81000, 81000, 80931, 80883, 80799, 80768, 80759, 80753, 80606, 80561, 80544, 80524, 80500, 80430, 80400, 80302, 80264, 80227, 80219, 80103, 80102, 80073, 80064, 80010, 80000, 80000, 80000, 80000, 80000, 80000, 80000, 80000, 80000, 80000, 80000, 80000, 80000, 80000, 80000, 80000, 80000, 80000, 80000, 80000, 80000, 80000, 80000, 80000, 80000, 80000, 80000, 80000, 80000, 80000, 80000, 80000, 80000, 80000, 80000, 80000, 80000, 79985, 79940, 79894, 79870, 79824, 79782, 79663, 79494, 79324, 79232, 79225, 79200, 79152, 79012, 79000, 79000, 79000, 79000, 79000, 79000, 79000, 79000, 79000, 79000, 79000, 79000, 79000, 79000, 79000, 79000, 79000, 79000, 78958, 78600, 78563, 78526, 78500, 78401, 78400, 78233, 78212, 78088, 78046, 78008, 78000, 78000, 78000, 78000, 78000, 78000, 78000, 78000, 78000, 78000, 78000, 78000, 78000, 78000, 78000, 78000, 78000, 77795, 77650, 77500, 77469, 77445, 77407, 77400, 77332, 77325, 77283, 77216, 77084, 77076, 77001, 77000, 77000, 77000, 77000, 77000, 77000, 77000, 77000, 77000, 77000, 76976, 76777, 76752, 76551, 76496, 76477, 76476, 76427, 76414, 76362, 76206, 76161, 76155, 76128, 76126, 76000, 76000, 76000, 76000, 76000, 76000, 76000, 76000, 76000, 76000, 76000, 75915, 75863, 75800, 75700, 75695, 75648, 75600, 75578, 75464, 75451, 75445, 75421, 75391, 75378, 75372, 75371, 75348, 75319, 75308, 75300, 75216, 75200, 75180, 75180, 75160, 75136, 75074, 75055, 75055, 75055, 75049, 75020, 75014, 75000, 75000, 75000, 75000, 75000, 75000, 75000, 75000, 75000, 75000, 75000, 75000, 75000, 75000, 75000, 75000, 75000, 75000, 75000, 75000, 75000, 75000, 75000, 75000, 75000, 75000, 75000, 75000, 75000, 75000, 75000, 75000, 75000, 75000, 75000, 75000, 75000, 75000, 74980, 74911, 74885, 74755, 74663, 74624, 74611, 74515, 74500, 74500, 74345, 74325, 74310, 74290, 74219, 74041, 74000, 74000, 74000, 74000, 74000, 74000, 74000, 74000, 74000, 74000, 74000, 74000, 74000, 74000, 74000, 74000, 74000, 74000, 74000, 73745, 73670, 73648, 73557, 73539, 73513, 73500, 73500, 73500, 73314, 73278, 73212, 73200, 73070, 73053, 73042, 73003, 73000, 73000, 73000, 73000, 73000, 73000, 73000, 73000, 73000, 73000, 73000, 73000, 73000, 73000, 73000, 72996, 72921, 72717, 72672, 72668, 72618, 72599, 72566, 72563, 72500, 72495, 72486, 72465, 72450, 72425, 72411, 72400, 72389, 72351, 72204, 72202, 72118, 72100, 72035, 72022, 72010, 72007, 72003, 72000, 72000, 72000, 72000, 72000, 72000, 72000, 72000, 72000, 72000, 72000, 72000, 72000, 72000, 72000, 72000, 72000, 72000, 72000, 72000, 72000, 72000, 72000, 72000, 72000, 72000, 72000, 72000, 72000, 72000, 71993, 71904, 71899, 71803, 71800, 71791, 71787, 71649, 71600, 71558, 71556, 71499, 71491, 71400, 71390, 71360, 71346, 71336, 71300, 71297, 71256, 71231, 71172, 71156, 71088, 71082, 71007, 71000, 71000, 71000, 71000, 71000, 71000, 71000, 71000, 71000, 71000, 71000, 71000, 71000, 71000, 71000, 71000, 70963, 70961, 70933, 70920, 70707, 70704, 70700, 70669, 70623, 70602, 70600, 70536, 70500, 70478, 70374, 70362, 70359, 70337, 70290, 70259, 70089, 70010, 70002, 70000, 70000, 70000, 70000, 70000, 70000, 70000, 70000, 70000, 70000, 70000, 70000, 70000, 70000, 70000, 70000, 70000, 70000, 70000, 70000, 70000, 70000, 70000, 70000, 70000, 70000, 70000, 70000, 70000, 70000, 70000, 70000, 70000, 70000, 70000, 70000, 70000, 70000, 70000, 70000, 70000, 70000, 70000, 70000, 70000, 70000, 70000, 70000, 70000, 69972, 69966, 69918, 69918, 69876, 69870, 69775, 69768, 69749, 69690, 69681, 69573, 69565, 69496, 69434, 69313, 69242, 69192, 69189, 69140, 69009, 69000, 69000, 69000, 69000, 69000, 69000, 69000, 69000, 69000, 69000, 69000, 69000, 69000, 69000, 69000, 69000, 69000, 69000, 69000, 69000, 69000, 69000, 68880, 68865, 68800, 68776, 68764, 68737, 68598, 68557, 68553, 68525, 68465, 68462, 68439, 68434, 68375, 68365, 68350, 68347, 68310, 68282, 68238, 68218, 68128, 68078, 68038, 68022, 68010, 68008, 68000, 68000, 68000, 68000, 68000, 68000, 68000, 68000, 68000, 68000, 68000, 68000, 68000, 68000, 68000, 68000, 68000, 68000, 68000, 68000, 68000, 68000, 68000, 67995, 67914, 67906, 67901, 67771, 67758, 67714, 67668, 67635, 67620, 67600, 67590, 67585, 67559, 67557, 67489, 67472, 67443, 67422, 67407, 67376, 67263, 67200, 67196, 67147, 67048, 67031, 67000, 67000, 67000, 67000, 67000, 67000, 67000, 67000, 67000, 67000, 67000, 67000, 67000, 67000, 67000, 67000, 67000, 67000, 67000, 67000, 66930, 66823, 66800, 66770, 66700, 66624, 66510, 66500, 66484, 66355, 66339, 66337, 66314, 66296, 66285, 66276, 66245, 66149, 66123, 66035, 66012, 66000, 66000, 66000, 66000, 66000, 66000, 66000, 66000, 66000, 66000, 66000, 66000, 66000, 66000, 66000, 66000, 66000, 66000, 66000, 66000, 66000, 66000, 66000, 66000, 65932, 65925, 65900, 65850, 65807, 65792, 65771, 65743, 65727, 65694, 65668, 65650, 65634, 65542, 65537, 65537, 65423, 65400, 65349, 65287, 65280, 65278, 65263, 65257, 65254, 65218, 65213, 65210, 65178, 65175, 65167, 65134, 65100, 65100, 65097, 65090, 65088, 65060, 65060, 65055, 65055, 65047, 65012, 65000, 65000, 65000, 65000, 65000, 65000, 65000, 65000, 65000, 65000, 65000, 65000, 65000, 65000, 65000, 65000, 65000, 65000, 65000, 65000, 65000, 65000, 65000, 65000, 65000, 65000, 65000, 65000, 65000, 65000, 65000, 65000, 65000, 65000, 65000, 65000, 65000, 65000, 65000, 65000, 65000, 65000, 65000, 65000, 65000, 65000, 65000, 65000, 65000, 65000, 65000, 65000, 64961, 64876, 64831, 64806, 64798, 64771, 64709, 64687, 64677, 64637, 64624, 64514, 64500, 64466, 64465, 64456, 64430, 64424, 64399, 64394, 64357, 64290, 64284, 64241, 64236, 64226, 64186, 64042, 64005, 64000, 64000, 64000, 64000, 64000, 64000, 64000, 64000, 64000, 64000, 64000, 64000, 64000, 64000, 64000, 64000, 64000, 64000, 64000, 63991, 63939, 63854, 63818, 63777, 63776, 63770, 63738, 63714, 63714, 63642, 63600, 63591, 63423, 63400, 63316, 63310, 63295, 63288, 63274, 63265, 63262, 63220, 63210, 63181, 63141, 63107, 63067, 63003, 63001, 63000, 63000, 63000, 63000, 63000, 63000, 63000, 63000, 63000, 63000, 63000, 63000, 63000, 63000, 63000, 63000, 62946, 62788, 62767, 62746, 62729, 62700, 62700, 62691, 62679, 62588, 62550, 62549, 62542, 62505, 62500, 62497, 62493, 62489, 62476, 62364, 62334, 62322, 62287, 62192, 62188, 62178, 62162, 62148, 62144, 62132, 62100, 62088, 62084, 62020, 62005, 62001, 62000, 62000, 62000, 62000, 62000, 62000, 62000, 62000, 62000, 62000, 62000, 62000, 62000, 62000, 62000, 62000, 62000, 62000, 62000, 62000, 62000, 62000, 62000, 62000, 62000, 62000, 62000, 62000, 62000, 62000, 62000, 62000, 61964, 61922, 61823, 61795, 61786, 61738, 61717, 61700, 61691, 61672, 61600, 61591, 61578, 61566, 61510, 61495, 61449, 61386, 61325, 61313, 61250, 61238, 61111, 61110, 61012, 61000, 61000, 61000, 61000, 61000, 61000, 61000, 61000, 61000, 61000, 61000, 61000, 61000, 60993, 60913, 60818, 60813, 60805, 60788, 60750, 60669, 60634, 60586, 60519, 60500, 60500, 60453, 60357, 60334, 60328, 60283, 60271, 60207, 60170, 60138, 60123, 60095, 60083, 60048, 60020, 60002, 60000, 60000, 60000, 60000, 60000, 60000, 60000, 60000, 60000, 60000, 60000, 60000, 60000, 60000, 60000, 60000, 60000, 60000, 60000, 60000, 60000, 60000, 60000, 60000, 60000, 60000, 60000, 60000, 60000, 60000, 60000, 60000, 60000, 60000, 60000, 60000, 60000, 60000, 60000, 60000, 60000, 60000, 60000, 60000, 60000, 60000, 60000, 60000, 60000, 60000, 60000, 60000, 60000, 60000, 60000, 60000, 60000, 60000, 60000, 60000, 59998, 59962, 59923, 59833, 59767, 59751, 59711, 59589, 59572, 59525, 59508, 59451, 59450, 59350, 59327, 59293, 59270, 59261, 59254, 59245, 59196, 59182, 59138, 59136, 59000, 59000, 59000, 59000, 59000, 59000, 59000, 59000, 59000, 59000, 59000, 59000, 59000, 59000, 59000, 59000, 58995, 58972, 58950, 58829, 58817, 58816, 58815, 58775, 58752, 58734, 58653, 58646, 58620, 58581, 58500, 58500, 58472, 58470, 58407, 58400, 58397, 58310, 58307, 58291, 58253, 58235, 58200, 58163, 58134, 58133, 58095, 58075, 58006, 58005, 58003, 58002, 58000, 58000, 58000, 58000, 58000, 58000, 58000, 58000, 58000, 58000, 58000, 58000, 58000, 58000, 58000, 58000, 58000, 58000, 58000, 58000, 58000, 58000, 58000, 58000, 58000, 58000, 58000, 58000, 58000, 58000, 58000, 57934, 57932, 57854, 57847, 57824, 57818, 57759, 57738, 57717, 57676, 57539, 57500, 57478, 57464, 57390, 57328, 57319, 57309, 57275, 57266, 57259, 57197, 57184, 57078, 57034, 57026, 57004, 57000, 57000, 57000, 57000, 57000, 57000, 57000, 57000, 57000, 57000, 57000, 57000, 57000, 57000, 57000, 57000, 57000, 57000, 57000, 57000, 57000, 56927, 56911, 56900, 56847, 56840, 56739, 56661, 56658, 56628, 56549, 56532, 56526, 56510, 56500, 56454, 56409, 56380, 56344, 56263, 56251, 56230, 56127, 56121, 56100, 56075, 56066, 56058, 56002, 56000, 56000, 56000, 56000, 56000, 56000, 56000, 56000, 56000, 56000, 56000, 56000, 56000, 56000, 56000, 55980, 55960, 55902, 55893, 55886, 55818, 55804, 55746, 55729, 55700, 55697, 55687, 55619, 55595, 55594, 55476, 55431, 55410, 55392, 55362, 55339, 55324, 55300, 55277, 55231, 55176, 55137, 55116, 55100, 55036, 55012, 55005, 55002, 55001, 55000, 55000, 55000, 55000, 55000, 55000, 55000, 55000, 55000, 55000, 55000, 55000, 55000, 55000, 55000, 55000, 55000, 55000, 55000, 55000, 55000, 55000, 55000, 55000, 55000, 55000, 55000, 55000, 55000, 55000, 55000, 55000, 55000, 55000, 55000, 55000, 55000, 55000, 55000, 55000, 55000, 55000, 55000, 55000, 55000, 55000, 54944, 54898, 54895, 54890, 54885, 54884, 54801, 54758, 54727, 54680, 54631, 54569, 54546, 54540, 54500, 54500, 54448, 54339, 54321, 54317, 54316, 54308, 54268, 54257, 54250, 54230, 54211, 54199, 54173, 54161, 54000, 54000, 54000, 54000, 54000, 54000, 54000, 54000, 54000, 54000, 54000, 54000, 54000, 54000, 54000, 54000, 54000, 54000, 54000, 54000, 54000, 54000, 54000, 54000, 54000, 53996, 53959, 53934, 53920, 53886, 53817, 53766, 53713, 53702, 53615, 53503, 53500, 53500, 53497, 53497, 53442, 53392, 53340, 53322, 53293, 53280, 53226, 53213, 53211, 53080, 53073, 53001, 53000, 53000, 53000, 53000, 53000, 53000, 53000, 53000, 53000, 53000, 53000, 53000, 53000, 53000, 52951, 52950, 52910, 52895, 52818, 52782, 52625, 52618, 52600, 52576, 52553, 52516, 52513, 52500, 52431, 52400, 52398, 52383, 52380, 52378, 52373, 52359, 52340, 52325, 52324, 52241, 52237, 52207, 52195, 52195, 52191, 52126, 52123, 52108, 52100, 52073, 52010, 52001, 52000, 52000, 52000, 52000, 52000, 52000, 52000, 52000, 52000, 52000, 52000, 52000, 52000, 52000, 52000, 52000, 52000, 52000, 52000, 52000, 52000, 52000, 52000, 52000, 52000, 52000, 52000, 52000, 52000, 52000, 52000, 52000, 52000, 52000, 52000, 52000, 52000, 52000, 52000, 52000, 52000, 51950, 51928, 51921, 51920, 51884, 51873, 51866, 51806, 51800, 51787, 51681, 51672, 51639, 51612, 51593, 51587, 51579, 51553, 51530, 51500, 51482, 51450, 51387, 51366, 51361, 51349, 51264, 51236, 51223, 51192, 51167, 51134, 51100, 51087, 51019, 51000, 51000, 51000, 51000, 51000, 51000, 51000, 51000, 51000, 51000, 51000, 51000, 51000, 51000, 51000, 51000, 51000, 51000, 51000, 51000, 51000, 50958, 50888, 50867, 50808, 50624, 50619, 50446, 50436, 50318, 50297, 50266, 50243, 50234, 50230, 50135, 50129, 50123, 50121, 50075, 50004, 50003, 50000, 50000, 50000, 50000, 50000, 50000, 50000, 50000, 50000, 50000, 50000, 50000, 50000, 50000, 50000, 50000, 50000, 50000, 50000, 50000, 50000, 50000, 50000, 50000, 50000, 50000, 50000, 50000, 50000, 50000, 50000, 50000, 50000, 50000, 50000, 50000, 50000, 49999, 49900, 49900, 49894, 49818, 49768, 49716, 49700, 49663, 49575, 49500, 49404, 49389, 49386, 49224, 49176, 49133, 49106, 49105, 49045, 49024, 49008, 49000, 49000, 49000, 49000, 49000, 49000, 49000, 49000, 49000, 49000, 49000, 49000, 49000, 49000, 49000, 48997, 48986, 48823, 48808, 48800, 48772, 48719, 48689, 48624, 48500, 48500, 48466, 48454, 48425, 48407, 48324, 48272, 48241, 48233, 48200, 48198, 48188, 48163, 48158, 48105, 48104, 48094, 48031, 48002, 48000, 48000, 48000, 48000, 48000, 48000, 48000, 48000, 48000, 48000, 48000, 48000, 48000, 48000, 48000, 48000, 48000, 48000, 48000, 47910, 47883, 47774, 47722, 47700, 47674, 47629, 47500, 47490, 47471, 47439, 47399, 47392, 47324, 47304, 47300, 47300, 47250, 47234, 47234, 47200, 47200, 47198, 47183, 47052, 47037, 47035, 47020, 47016, 47003, 47001, 47000, 47000, 47000, 47000, 47000, 47000, 47000, 47000, 47000, 47000, 47000, 47000, 47000, 47000, 47000, 47000, 47000, 47000, 47000, 47000, 46992, 46983, 46950, 46946, 46897, 46821, 46811, 46810, 46808, 46805, 46759, 46727, 46707, 46687, 46676, 46663, 46650, 46601, 46566, 46561, 46522, 46500, 46496, 46493, 46399, 46354, 46300, 46230, 46190, 46173, 46166, 46162, 46007, 46004, 46000, 46000, 46000, 46000, 46000, 46000, 46000, 46000, 46000, 46000, 46000, 46000, 46000, 46000, 46000, 46000, 46000, 45999, 45960, 45807, 45800, 45725, 45700, 45671, 45631, 45617, 45600, 45560, 45555, 45501, 45500, 45496, 45449, 45407, 45376, 45366, 45362, 45348, 45296, 45295, 45275, 45252, 45200, 45194, 45155, 45128, 45122, 45044, 45010, 45008, 45004, 45001, 45000, 45000, 45000, 45000, 45000, 45000, 45000, 45000, 45000, 45000, 45000, 45000, 45000, 45000, 45000, 45000, 45000, 45000, 45000, 45000, 45000, 45000, 45000, 45000, 45000, 45000, 45000, 45000, 45000, 45000, 45000, 45000, 45000, 45000, 45000, 45000, 45000, 45000, 45000, 45000, 45000, 45000, 45000, 45000, 45000, 45000, 45000, 45000, 45000, 45000, 45000, 45000, 44887, 44865, 44846, 44753, 44748, 44738, 44731, 44620, 44612, 44525, 44504, 44487, 44383, 44378, 44345, 44328, 44300, 44285, 44282, 44238, 44223, 44202, 44200, 44200, 44178, 44000, 44000, 44000, 44000, 44000, 44000, 44000, 44000, 44000, 44000, 44000, 44000, 43993, 43917, 43912, 43900, 43874, 43828, 43775, 43773, 43772, 43766, 43761, 43706, 43698, 43639, 43628, 43571, 43521, 43486, 43337, 43316, 43284, 43206, 43200, 43190, 43152, 43127, 43081, 43068, 43053, 43041, 43002, 43000, 43000, 43000, 43000, 43000, 43000, 43000, 43000, 43000, 43000, 43000, 43000, 43000, 43000, 42999, 42894, 42883, 42831, 42784, 42750, 42706, 42700, 42600, 42591, 42575, 42527, 42496, 42366, 42365, 42362, 42355, 42320, 42315, 42277, 42244, 42243, 42225, 42203, 42150, 42118, 42109, 42103, 42100, 42086, 42083, 42021, 42000, 42000, 42000, 42000, 42000, 42000, 42000, 42000, 42000, 42000, 42000, 42000, 42000, 42000, 42000, 42000, 42000, 42000, 42000, 42000, 42000, 42000, 42000, 42000, 42000, 42000, 42000, 42000, 42000, 41994, 41981, 41980, 41871, 41840, 41810, 41721, 41713, 41681, 41650, 41641, 41629, 41534, 41500, 41460, 41460, 41372, 41300, 41290, 41284, 41283, 41217, 41210, 41195, 41125, 41123, 41075, 41008, 41000, 41000, 41000, 41000, 41000, 41000, 41000, 41000, 41000, 41000, 41000, 41000, 41000, 41000, 41000, 41000, 41000, 41000, 41000, 41000, 41000, 41000, 40901, 40866, 40810, 40748, 40700, 40611, 40500, 40496, 40459, 40448, 40347, 40322, 40315, 40310, 40300, 40279, 40250, 40206, 40194, 40190, 40175, 40158, 40082, 40052, 40000, 40000, 40000, 40000, 40000, 40000, 40000, 40000, 40000, 40000, 40000, 40000, 40000, 40000, 40000, 40000, 40000, 40000, 40000, 40000, 40000, 40000, 40000, 40000, 40000, 40000, 40000, 40000, 40000, 40000, 40000, 40000, 40000, 39929, 39927, 39879, 39871, 39867, 39861, 39854, 39852, 39822, 39800, 39800, 39791, 39772, 39575, 39566, 39528, 39437, 39419, 39335, 39300, 39228, 39208, 39163, 39023, 39010, 39002, 39000, 39000, 39000, 39000, 39000, 39000, 39000, 39000, 39000, 39000, 39000, 39000, 39000, 39000, 39000, 38995, 38958, 38932, 38800, 38800, 38767, 38755, 38735, 38712, 38691, 38681, 38623, 38622, 38607, 38593, 38578, 38500, 38461, 38446, 38426, 38424, 38394, 38310, 38282, 38277, 38271, 38235, 38214, 38151, 38143, 38127, 38092, 38056, 38053, 38002, 38001, 38000, 38000, 38000, 38000, 38000, 38000, 38000, 38000, 38000, 38000, 38000, 38000, 38000, 38000, 38000, 38000, 38000, 38000, 38000, 38000, 38000, 37929, 37882, 37873, 37857, 37822, 37806, 37804, 37746, 37712, 37688, 37578, 37540, 37460, 37451, 37442, 37430, 37429, 37400, 37333, 37323, 37298, 37294, 37287, 37282, 37247, 37208, 37160, 37124, 37109, 37023, 37000, 37000, 37000, 37000, 37000, 37000, 37000, 37000, 37000, 37000, 37000, 37000, 37000, 37000, 37000, 37000, 37000, 37000, 37000, 37000, 37000, 37000, 37000, 37000, 37000, 37000, 36973, 36967, 36891, 36855, 36840, 36836, 36778, 36733, 36716, 36700, 36695, 36681, 36676, 36657, 36600, 36542, 36458, 36431, 36428, 36411, 36381, 36367, 36264, 36226, 36216, 36154, 36100, 36096, 36000, 36000, 36000, 36000, 36000, 36000, 36000, 36000, 36000, 36000, 36000, 36000, 36000, 36000, 36000, 36000, 36000, 36000, 35981, 35939, 35888, 35770, 35569, 35503, 35487, 35480, 35442, 35441, 35433, 35384, 35362, 35314, 35299, 35268, 35188, 35175, 35082, 35082, 35070, 35058, 35043, 35027, 35010, 35008, 35000, 35000, 35000, 35000, 35000, 35000, 35000, 35000, 35000, 35000, 35000, 35000, 35000, 35000, 35000, 35000, 35000, 35000, 35000, 35000, 35000, 35000, 35000, 35000, 35000, 35000, 35000, 35000, 35000, 35000, 35000, 35000, 35000, 34994, 34952, 34951, 34900, 34834, 34697, 34688, 34670, 34669, 34634, 34620, 34613, 34429, 34400, 34327, 34267, 34212, 34204, 34079, 34063, 34010, 34005, 34004, 34000, 34000, 34000, 34000, 34000, 34000, 34000, 34000, 34000, 33915, 33901, 33855, 33800, 33793, 33746, 33690, 33598, 33558, 33554, 33517, 33496, 33485, 33425, 33415, 33372, 33292, 33284, 33280, 33249, 33218, 33195, 33150, 33016, 33000, 33000, 33000, 33000, 33000, 33000, 33000, 33000, 33000, 33000, 33000, 33000, 33000, 33000, 33000, 33000, 32953, 32851, 32851, 32807, 32805, 32792, 32776, 32773, 32720, 32717, 32709, 32700, 32663, 32644, 32587, 32576, 32572, 32542, 32539, 32510, 32500, 32450, 32425, 32400, 32378, 32257, 32251, 32249, 32248, 32227, 32200, 32200, 32189, 32125, 32048, 32006, 32005, 32000, 32000, 32000, 32000, 32000, 32000, 32000, 32000, 32000, 32000, 32000, 32000, 32000, 32000, 32000, 32000, 32000, 32000, 32000, 32000, 32000, 31978, 31965, 31900, 31897, 31841, 31829, 31826, 31817, 31700, 31696, 31576, 31465, 31446, 31426, 31423, 31412, 31396, 31378, 31271, 31250, 31200, 31184, 31130, 31056, 31045, 31025, 31006, 31001, 31001, 31000, 31000, 31000, 31000, 31000, 31000, 31000, 31000, 31000, 31000, 31000, 31000, 31000, 31000, 30965, 30953, 30933, 30852, 30754, 30711, 30676, 30675, 30529, 30519, 30458, 30453, 30441, 30292, 30292, 30279, 30232, 30180, 30158, 30131, 30112, 30000, 30000, 30000, 30000, 30000, 30000, 30000, 30000, 30000, 30000, 30000, 30000, 30000, 30000, 30000, 30000, 30000, 30000, 30000, 30000, 30000, 30000, 30000, 30000, 30000, 30000, 30000, 30000, 30000, 30000, 30000, 30000, 30000, 30000, 29930, 29907, 29875, 29832, 29754, 29651, 29647, 29634, 29605, 29512, 29500, 29477, 29401, 29279, 29219, 29202, 29200, 29091, 29085, 29000, 29000, 29000, 29000, 29000, 29000, 29000, 29000, 29000, 29000, 29000, 29000, 29000, 29000, 29000, 29000, 29000, 29000, 29000, 29000, 29000, 29000, 28973, 28937, 28854, 28851, 28786, 28741, 28700, 28637, 28619, 28599, 28500, 28500, 28470, 28464, 28414, 28371, 28360, 28300, 28246, 28238, 28232, 28193, 28147, 28133, 28005, 28004, 28002, 28000, 28000, 28000, 28000, 28000, 28000, 28000, 28000, 28000, 28000, 27969, 27904, 27886, 27872, 27800, 27768, 27755, 27718, 27628, 27509, 27395, 27365, 27339, 27300, 27279, 27210, 27100, 27089, 27076, 27075, 27057, 27030, 27014, 27000, 27000, 27000, 27000, 27000, 27000, 27000, 27000, 27000, 27000, 27000, 27000, 27000, 27000, 27000, 27000, 26981, 26969, 26966, 26946, 26927, 26877, 26875, 26741, 26731, 26671, 26568, 26400, 26327, 26322, 26300, 26299, 26256, 26246, 26239, 26234, 26200, 26200, 26185, 26101, 26038, 26008, 26000, 26000, 26000, 26000, 26000, 26000, 26000, 26000, 26000, 26000, 26000, 26000, 26000, 26000, 26000, 26000, 26000, 26000, 26000, 25984, 25899, 25845, 25811, 25805, 25789, 25755, 25692, 25648, 25562, 25500, 25500, 25500, 25470, 25433, 25422, 25418, 25350, 25302, 25299, 25238, 25200, 25166, 25142, 25135, 25121, 25095, 25093, 25040, 25000, 25000, 25000, 25000, 25000, 25000, 25000, 25000, 25000, 25000, 25000, 25000, 25000, 25000, 25000, 25000, 25000, 25000, 25000, 25000, 25000, 25000, 25000, 25000, 25000, 24973, 24950, 24864, 24806, 24782, 24773, 24735, 24700, 24617, 24571, 24569, 24398, 24393, 24350, 24347, 24337, 24310, 24300, 24296, 24237, 24214, 24153, 24027, 24025, 24005, 24001, 24000, 24000, 24000, 24000, 24000, 24000, 24000, 24000, 24000, 24000, 24000, 23988, 23977, 23882, 23876, 23840, 23714, 23700, 23598, 23555, 23540, 23500, 23360, 23280, 23228, 23163, 23154, 23152, 23001, 23000, 23000, 23000, 23000, 23000, 23000, 23000, 23000, 23000, 23000, 23000, 23000, 22900, 22874, 22857, 22831, 22767, 22734, 22700, 22695, 22684, 22500, 22389, 22345, 22281, 22251, 22129, 22100, 22100, 22033, 22001, 22000, 22000, 22000, 22000, 22000, 22000, 22000, 22000, 22000, 22000, 22000, 22000, 22000, 22000, 22000, 22000, 21954, 21800, 21799, 21789, 21771, 21740, 21727, 21701, 21652, 21558, 21495, 21460, 21456, 21400, 21260, 21248, 21214, 21134, 21112, 21107, 21002, 21000, 21000, 21000, 21000, 21000, 21000, 21000, 21000, 21000, 21000, 21000, 21000, 20877, 20842, 20800, 20780, 20773, 20765, 20712, 20689, 20667, 20632, 20600, 20600, 20575, 20568, 20492, 20488, 20487, 20422, 20248, 20229, 20045, 20024, 20000, 20000, 20000, 20000, 20000, 20000, 20000, 20000, 20000, 20000, 20000, 20000, 20000, 20000, 20000, 19963, 19947, 19947, 19860, 19855, 19698, 19623, 19600, 19500, 19500, 19416, 19387, 19317, 19234, 19148, 19119, 19030, 19008, 19000, 19000, 19000, 19000, 19000, 19000, 19000, 19000, 19000, 18949, 18776, 18705, 18700, 18678, 18673, 18664, 18592, 18553, 18521, 18500, 18456, 18453, 18414, 18335, 18108, 18094, 18050, 18043, 18000, 18000, 18000, 18000, 18000, 18000, 18000, 18000, 18000, 18000, 18000, 17858, 17810, 17804, 17729, 17705, 17702, 17585, 17560, 17477, 17431, 17400, 17400, 17377, 17370, 17362, 17151, 17125, 17088, 17003, 17000, 17000, 17000, 17000, 17000, 17000, 17000, 17000, 17000, 17000, 16956, 16900, 16900, 16862, 16810, 16725, 16698, 16650, 16607, 16573, 16542, 16514, 16500, 16471, 16392, 16235, 16159, 16039, 16000, 16000, 16000, 16000, 16000, 15985, 15982, 15900, 15731, 15590, 15544, 15500, 15473, 15466, 15399, 15388, 15386, 15356, 15334, 15305, 15135, 15134, 15050, 15029, 15000, 15000, 15000, 15000, 15000, 15000, 15000, 15000, 15000, 15000, 14980, 14960, 14930, 14925, 14821, 14814, 14800, 14800, 14799, 14700, 14656, 14648, 14618, 14600, 14589, 14576, 14322, 14223, 14149, 14077, 14064, 14061, 14001, 14000, 14000, 14000, 14000, 14000, 14000, 14000, 14000, 14000, 14000, 14000, 14000, 13916, 13913, 13900, 13769, 13710, 13500, 13460, 13460, 13436, 13363, 13361, 13198, 13102, 13024, 13008, 13000, 13000, 13000, 13000, 13000, 12923, 12800, 12800, 12600, 12573, 12501, 12500, 12500, 12500, 12400, 12336, 12248, 12208, 12076, 12000, 12000, 12000, 12000, 12000, 12000, 12000, 12000, 12000, 12000, 12000, 12000, 12000, 12000, 12000, 12000, 12000, 11966, 11734, 11732, 11691, 11583, 11571, 11554, 11241, 11110, 11000, 11000, 11000, 11000, 11000, 11000, 11000, 11000, 11000, 11000, 11000, 11000, 11000, 10770, 10671, 10600, 10575, 10500, 10500, 10400, 10393, 10300, 10250, 10200, 10000, 10000, 10000, 10000, 10000, 10000, 10000, 10000, 9900, 9759, 9565, 9500, 9489, 9434, 9370, 9200, 9200, 9107, 9000, 9000, 9000, 9000, 9000, 8950, 8899, 8896, 8700, 8587, 8554, 8500, 8500, 8500, 8471, 8350, 8243, 8200, 8000, 8000, 8000, 8000, 8000, 7858, 7784, 7523, 7500, 7445, 7400, 7200, 7000, 7000, 7000, 7000, 7000, 7000, 6820, 6800, 6714, 6568, 6279, 6261, 6028, 6006, 6000, 6000, 6000, 6000, 6000, 6000, 5900, 5834, 5833, 5700, 5500, 5456, 5400, 5377, 5000, 5000, 5000, 5000, 5000, 4900, 4800, 4721, 4700, 4700, 4500, 4311, 4187, 4152, 4126, 4018, 4000, 3958, 3923, 3900, 3678, 3102, 3000, 3000, 2900, 2800, 2530, 2500, 2500, 2200, 2196, 2100, 2000, 2000, 2000, 2000, 1900, 1800, 1617, 1261, 1048, 1011, 1001, 1001, 1000, 1000, 1000, 1000, 1000, 1000, 1000, 171], \"xaxis\": \"x\", \"y\": [5.9, 2.7, 5.0, 4.45, 1.0, 4.0, 3.3, 4.0, 6.5, 10.9, 6.5, 7.9, 9.2, 11.0, 3.5, 3.5, 2.6, 4.5, 2.6, 1.45, 7.5, 9.0, 3.9, 0.85, 0.8, 0.85, 9.0, 1.85, 5.2, 4.0, 5.0, 6.25, 10.5, 12.99, 2.5, 6.85, 13.0, 3.85, 1.76, 7.25, 3.65, 7.5, 2.5, 7.5, 3.8, 5.9, 2.5, 3.5, 4.3, 4.0, 2.25, 16.75, 5.7, 7.5, 1.5, 4.0, 10.64, 2.5, 5.0, 4.0, 4.5, 4.0, 2.7, 1.35, 3.9, 8.25, 0.9, 5.0, 10.5, 4.8, 1.8, 2.5, 8.75, 3.9, 3.5, 1.0, 12.0, 2.5, 2.8, 12.99, 1.5, 11.99, 8.0, 5.99, 8.5, 4.2, 9.15, 0.85, 5.5, 7.99, 4.8, 2.9, 3.0, 11.4, 23.0, 1.5, 2.7, 0.85, 2.5, 6.0, 3.0, 3.0, 3.5, 2.25, 5.0, 6.95, 4.5, 2.5, 11.0, 7.25, 12.75, 8.9, 4.75, 2.9, 4.42, 13.2, 4.95, 7.5, 3.55, 12.25, 3.5, 1.05, 1.65, 1.15, 2.6, 5.0, 7.8, 5.25, 11.75, 7.0, 5.25, 6.0, 2.6, 2.1, 1.1, 6.0, 6.25, 1.05, 0.7, 10.75, 0.9, 2.0, 2.51, 0.9, 6.25, 2.49, 9.0, 10.5, 1.25, 1.2, 3.5, 5.15, 2.2, 1.85, 0.95, 1.55, 9.8, 11.0, 9.5, 6.55, 5.4, 3.1, 1.6, 11.0, 4.2, 1.65, 3.5, 0.7, 0.86, 12.49, 2.25, 5.5, 4.7, 13.5, 3.6, 9.6, 3.6, 9.24, 3.85, 7.0, 3.85, 3.65, 4.75, 6.0, 0.75, 4.0, 4.75, 3.75, 4.5, 2.75, 3.25, 2.2, 3.2, 6.8, 3.45, 1.5, 4.11, 3.0, 1.5, 5.0, 6.4, 2.0, 6.3, 6.2, 2.95, 1.4, 6.99, 4.95, 4.5, 2.2, 1.2, 6.7, 1.6, 1.45, 9.0, 3.75, 6.25, 2.3, 1.5, 3.0, 4.6, 0.92, 3.25, 0.8, 7.96, 2.3, 1.95, 5.4, 3.3, 8.25, 1.0, 4.45, 1.1, 15.0, 4.4, 3.5, 16.0, 10.75, 10.45, 3.75, 3.8, 14.3, 16.0, 2.9, 1.9, 2.35, 5.0, 2.5, 8.0, 3.5, 4.0, 2.6, 12.0, 3.5, 2.0, 2.6, 12.0, 3.0, 1.65, 3.75, 7.0, 0.85, 1.75, 1.15, 12.0, 3.65, 2.5, 3.2, 1.69, 2.9, 8.0, 6.5, 2.25, 3.91, 5.95, 3.19, 1.25, 5.9, 3.85, 8.75, 4.5, 10.75, 1.35, 4.75, 4.75, 2.25, 15.5, 1.1, 4.0, 9.57, 5.75, 9.95, 5.8, 8.5, 3.75, 3.85, 4.5, 4.33, 4.5, 12.99, 1.75, 0.99, 1.5, 6.95, 2.75, 12.6, 1.8, 4.6, 4.5, 10.85, 2.05, 8.3, 12.0, 8.5, 2.0, 2.0, 4.75, 1.51, 3.5, 3.5, 6.1, 6.99, 2.4, 13.7, 2.8, 1.11, 4.65, 4.0, 7.2, 15.0, 3.5, 2.65, 0.6, 3.65, 2.9, 1.5, 2.2, 2.65, 8.26, 13.25, 1.5, 1.25, 2.4, 3.65, 4.25, 5.5, 1.0, 1.2, 20.5, 20.5, 1.9, 3.9, 2.9, 2.6, 3.1, 3.7, 3.0, 4.5, 4.0, 16.5, 4.4, 8.4, 5.3, 13.28, 10.75, 1.75, 7.0, 6.0, 5.9, 3.15, 1.99, 3.85, 6.75, 5.21, 11.75, 1.0, 3.0, 0.85, 4.5, 5.67, 1.22, 5.0, 3.0, 3.6, 5.25, 12.25, 4.25, 10.1, 2.25, 3.75, 8.25, 0.85, 0.7, 11.45, 0.95, 1.5, 2.85, 3.7, 2.4, 2.0, 2.0, 1.6, 5.5, 6.5, 1.28, 1.6, 17.75, 13.5, 3.0, 5.1, 10.25, 1.3, 4.25, 3.11, 1.8, 16.0, 0.85, 3.5, 6.25, 1.4, 3.5, 4.0, 12.0, 6.5, 3.0, 4.5, 1.5, 3.25, 4.5, 1.2, 13.0, 4.0, 3.75, 7.99, 3.11, 4.75, 23.5, 3.05, 7.03, 0.95, 6.0, 1.6, 20.5, 1.75, 1.9, 4.5, 1.5, 1.55, 6.0, 1.15, 1.55, 6.25, 11.5, 5.5, 6.1, 5.2, 2.51, 5.5, 8.0, 5.5, 4.7, 4.41, 1.8, 4.4, 6.0, 3.0, 3.0, 17.95, 4.25, 6.4, 7.25, 5.5, 2.5, 2.2, 11.5, 3.6, 2.5, 4.8, 0.91, 3.5, 2.25, 4.1, 4.55, 1.9, 5.0, 2.3, 0.45, 0.53, 3.75, 2.5, 6.9, 3.25, 2.8, 2.35, 9.45, 0.8, 2.11, 7.21, 4.5, 6.58, 5.35, 1.85, 4.5, 3.83, 1.95, 3.1, 1.6, 4.5, 1.0, 8.85, 3.75, 2.41, 7.85, 2.5, 3.48, 14.45, 6.25, 5.85, 5.45, 1.45, 5.0, 1.5, 1.0, 8.25, 5.55, 4.5, 7.1, 10.8, 3.56, 7.48, 1.2, 3.65, 5.75, 12.5, 18.39, 3.45, 3.7, 2.7, 12.5, 8.9, 1.1, 2.1, 3.0, 4.0, 4.35, 2.7, 1.9, 4.25, 2.25, 3.35, 1.25, 3.13, 1.85, 13.49, 2.1, 8.25, 2.85, 4.68, 3.0, 4.5, 2.3, 2.5, 3.0, 5.75, 0.8, 2.85, 4.25, 3.85, 3.0, 2.95, 2.9, 2.95, 3.91, 3.5, 2.2, 2.5, 3.8, 3.4, 3.0, 2.75, 2.6, 3.1, 13.9, 1.24, 10.9, 4.5, 1.8, 3.81, 3.8, 2.25, 4.11, 1.4, 0.7, 6.5, 1.25, 6.5, 4.6, 6.75, 7.25, 6.1, 6.2, 5.35, 3.55, 2.6, 1.4, 2.8, 6.25, 2.5, 7.9, 3.0, 8.0, 3.25, 3.25, 6.01, 3.65, 4.5, 1.55, 1.55, 23.65, 3.5, 7.5, 5.85, 1.6, 4.25, 13.5, 3.0, 6.0, 3.95, 3.77, 8.25, 4.35, 2.6, 10.6, 5.25, 2.2, 3.5, 4.33, 5.99, 4.75, 3.85, 1.25, 5.85, 1.5, 5.0, 12.01, 7.02, 4.0, 6.75, 1.3, 3.49, 2.75, 3.5, 7.8, 7.75, 4.35, 2.8, 7.4, 2.35, 1.37, 6.5, 6.0, 3.5, 3.6, 3.6, 2.4, 4.25, 1.8, 15.2, 4.5, 6.5, 10.09, 8.2, 3.75, 3.6, 7.85, 0.6, 2.41, 2.5, 3.5, 11.5, 2.75, 1.0, 2.9, 1.85, 0.45, 7.5, 6.25, 5.8, 4.0, 2.0, 8.75, 3.9, 5.7, 12.36, 3.55, 8.2, 3.39, 2.3, 6.0, 6.3, 1.8, 3.2, 6.15, 2.85, 0.69, 1.2, 1.3, 3.65, 3.5, 2.5, 8.5, 8.9, 3.5, 5.25, 1.8, 7.99, 1.46, 5.29, 3.5, 11.6, 3.0, 2.5, 6.83, 13.5, 4.12, 6.95, 2.2, 17.09, 6.9, 3.45, 5.8, 1.25, 6.75, 2.85, 5.25, 3.8, 2.41, 5.65, 3.85, 11.0, 2.95, 2.89, 3.25, 6.85, 2.5, 1.8, 1.3, 9.95, 2.95, 1.85, 5.5, 3.15, 6.98, 3.0, 5.9, 2.21, 5.8, 5.79, 6.22, 11.49, 7.45, 7.99, 1.4, 2.4, 2.95, 6.71, 3.25, 9.0, 0.85, 4.3, 1.75, 2.75, 5.5, 2.6, 2.7, 3.7, 2.7, 1.65, 4.75, 2.75, 7.1, 2.9, 7.2, 7.7, 5.99, 1.9, 4.42, 2.69, 4.9, 5.5, 1.75, 8.99, 2.9, 5.85, 4.25, 10.05, 1.8, 2.57, 6.2, 6.5, 2.65, 5.75, 4.85, 2.95, 2.75, 2.7, 8.75, 3.45, 1.35, 0.75, 1.0, 0.85, 2.5, 2.35, 2.3, 8.0, 5.43, 5.69, 4.39, 4.75, 5.55, 4.53, 6.53, 1.3, 14.25, 2.6, 14.49, 2.1, 5.9, 6.5, 2.45, 11.25, 4.35, 6.1, 1.1, 2.2, 2.5, 9.0, 1.3, 0.75, 4.1, 2.3, 13.5, 4.9, 5.7, 1.67, 4.5, 6.96, 2.74, 11.79, 2.5, 2.45, 3.3, 2.3, 3.5, 4.3, 2.3, 3.5, 1.8, 3.5, 7.11, 7.33, 2.85, 2.75, 3.5, 1.2, 4.75, 2.1, 7.0, 8.0, 2.2, 1.79, 1.35, 6.5, 3.99, 6.75, 5.5, 5.25, 1.75, 1.95, 8.99, 8.1, 4.85, 4.5, 1.75, 1.9, 4.75, 4.5, 2.15, 2.5, 3.5, 1.2, 3.85, 5.8, 0.53, 1.2, 4.25, 6.0, 9.4, 4.5, 3.16, 2.78, 3.4, 5.35, 5.25, 2.6, 6.5, 2.96, 3.3, 2.9, 5.5, 5.5, 3.3, 2.64, 6.5, 4.15, 3.1, 4.67, 2.9, 5.75, 3.65, 2.44, 15.5, 4.0, 3.0, 1.6, 2.59, 6.25, 1.67, 1.85, 7.5, 7.25, 3.8, 8.9, 2.35, 8.09, 3.65, 3.9, 2.75, 6.6, 5.35, 6.3, 10.9, 2.9, 2.3, 2.3, 10.75, 4.5, 2.0, 6.5, 1.2, 14.5, 3.25, 1.0, 2.35, 2.3, 0.55, 2.8, 4.4, 6.2, 2.25, 9.5, 1.15, 6.6, 6.34, 3.75, 3.53, 2.5, 3.65, 3.51, 5.81, 4.5, 4.95, 6.75, 4.49, 3.5, 2.1, 6.98, 12.5, 3.3, 4.93, 2.9, 3.65, 2.5, 2.8, 2.15, 4.88, 3.57, 7.25, 6.15, 4.25, 4.4, 8.58, 4.95, 5.5, 4.25, 1.65, 1.95, 5.5, 6.6, 2.75, 2.7, 2.4, 13.5, 9.25, 2.15, 1.49, 3.75, 2.0, 3.8, 12.0, 3.9, 6.7, 5.5, 5.7, 1.85, 0.82, 5.8, 7.0, 3.62, 3.78, 7.54, 3.63, 3.75, 3.59, 3.34, 6.69, 3.75, 2.0, 2.8, 2.25, 5.1, 5.25, 1.65, 5.25, 5.7, 6.15, 5.25, 2.3, 2.25, 6.5, 3.0, 4.1, 3.85, 2.1, 4.0, 4.5, 2.85, 3.25, 6.29, 6.55, 3.9, 1.15, 4.25, 6.25, 3.25, 10.85, 0.51, 3.3, 6.0, 4.35, 2.25, 6.0, 1.7, 2.0, 4.9, 3.75, 4.3, 3.85, 2.5, 3.5, 2.35, 1.49, 1.0, 2.6, 11.75, 3.0, 3.95, 1.99, 1.7, 7.5, 5.4, 4.08, 6.0, 5.4, 5.63, 3.25, 5.65, 7.94, 5.64, 3.3, 7.95, 8.0, 3.51, 4.0, 5.87, 10.75, 3.88, 2.65, 4.65, 2.65, 3.1, 1.6, 12.25, 4.25, 17.9, 6.4, 6.35, 3.75, 8.75, 5.7, 4.5, 6.5, 4.15, 3.6, 5.5, 4.85, 2.1, 12.5, 7.31, 7.75, 6.75, 1.85, 1.3, 2.6, 22.0, 6.6, 5.05, 5.2, 2.78, 5.9, 20.0, 3.99, 7.75, 2.75, 4.35, 12.5, 4.2, 6.4, 4.5, 3.4, 3.2, 16.5, 2.2, 2.75, 5.5, 8.25, 0.8, 2.35, 7.11, 2.5, 14.52, 1.9, 28.85, 8.0, 4.32, 5.29, 5.0, 3.12, 7.0, 3.95, 5.9, 8.1, 2.45, 4.25, 2.3, 3.2, 2.65, 2.25, 17.92, 10.23, 5.45, 2.5, 9.23, 4.45, 9.9, 3.9, 4.6, 1.75, 5.45, 2.85, 2.21, 2.69, 5.0, 5.0, 2.5, 4.4, 1.2, 7.1, 2.4, 1.0, 4.75, 1.11, 0.95, 2.25, 2.75, 2.0, 2.9, 3.25, 5.8, 4.25, 2.3, 5.75, 18.5, 3.2, 6.0, 2.75, 1.8, 4.61, 7.25, 5.75, 2.9, 2.05, 3.21, 6.75, 2.0, 3.3, 5.5, 3.0, 4.95, 3.8, 5.27, 3.95, 3.8, 4.1, 4.25, 2.2, 9.58, 9.75, 3.5, 6.5, 3.35, 3.95, 3.9, 15.25, 3.65, 3.7, 4.8, 6.95, 4.5, 7.45, 3.3, 5.1, 3.0, 1.5, 3.3, 4.25, 2.6, 2.0, 6.2, 7.83, 4.0, 3.9, 4.75, 4.28, 10.95, 4.75, 9.0, 3.99, 4.83, 2.8, 4.58, 1.5, 6.86, 7.34, 1.81, 7.65, 2.8, 2.96, 2.95, 5.35, 5.25, 3.45, 2.27, 2.15, 1.7, 4.6, 3.25, 0.9, 2.1, 2.1, 11.85, 2.59, 5.1, 0.77, 1.3, 1.12, 4.75, 1.8, 3.0, 4.0, 1.55, 4.25, 8.85, 4.75, 5.45, 4.5, 3.88, 2.85, 2.0, 4.0, 12.0, 2.5, 7.45, 4.0, 1.3, 3.0, 6.0, 3.5, 3.29, 12.25, 3.15, 2.0, 1.5, 2.1, 0.55, 3.65, 1.8, 8.25, 2.0, 8.25, 0.65, 3.8, 0.95, 9.43, 2.83, 3.9, 1.1, 1.85, 2.9, 3.82, 3.29, 6.13, 5.85, 5.55, 1.1, 8.0, 2.65, 4.69, 6.25, 5.3, 5.11, 2.4, 7.2, 5.9, 2.1, 3.0, 3.55, 2.15, 1.95, 4.79, 4.5, 20.0, 1.6, 5.75, 2.15, 2.4, 4.7, 4.9, 2.7, 2.9, 14.45, 9.7, 5.45, 5.19, 3.97, 4.8, 5.0, 3.9, 2.9, 9.32, 6.17, 8.14, 1.5, 7.0, 2.95, 4.15, 3.37, 5.5, 2.5, 3.77, 14.0, 2.6, 5.95, 2.25, 4.8, 4.9, 2.3, 1.02, 3.6, 5.86, 5.25, 6.75, 6.95, 1.95, 3.6, 1.2, 4.85, 3.95, 7.0, 2.75, 4.4, 6.75, 6.25, 1.99, 4.8, 9.85, 3.2, 6.75, 2.0, 1.5, 3.7, 4.4, 2.9, 2.5, 2.8, 11.73, 3.45, 5.63, 8.38, 7.06, 9.5, 3.25, 3.1, 5.25, 4.2, 4.0, 5.65, 11.99, 4.05, 5.17, 16.5, 14.5, 5.75, 3.55, 4.65, 6.5, 3.6, 3.9, 1.25, 2.6, 7.9, 4.0, 5.6, 1.2, 6.75, 7.25, 4.5, 4.75, 5.0, 7.0, 7.2, 4.05, 6.25, 5.5, 2.25, 6.3, 2.5, 3.8, 16.5, 2.2, 6.9, 2.0, 6.15, 4.83, 2.2, 2.6, 4.0, 0.85, 2.95, 5.7, 1.65, 4.12, 6.9, 4.96, 5.5, 15.96, 3.0, 5.5, 5.68, 2.45, 2.1, 2.49, 4.15, 2.49, 1.45, 2.35, 4.9, 6.4, 6.8, 3.25, 2.46, 2.19, 3.47, 3.85, 4.91, 4.45, 1.5, 1.7, 3.5, 5.7, 2.7, 4.25, 3.6, 2.95, 4.45, 2.75, 5.5, 1.95, 5.49, 5.75, 9.44, 3.39, 8.11, 0.75, 6.2, 2.97, 3.25, 5.53, 3.85, 3.5, 3.8, 2.1, 2.1, 3.16, 2.1, 2.81, 4.45, 5.8, 8.36, 7.5, 9.75, 6.55, 7.4, 9.45, 5.48, 6.79, 3.25, 3.28, 0.8, 8.36, 3.15, 4.7, 2.15, 3.25, 3.32, 4.8, 4.25, 2.75, 1.95, 18.9, 6.99, 5.0, 4.8, 11.75, 1.59, 3.99, 5.31, 2.5, 3.0, 2.4, 2.65, 16.1, 2.5, 6.4, 1.5, 6.0, 2.5, 7.21, 5.5, 4.9, 4.55, 7.65, 0.44, 5.5, 4.0, 5.5, 5.75, 3.1, 3.9, 2.4, 4.5, 1.4, 2.05, 5.2, 3.5, 7.75, 2.8, 3.75, 3.9, 15.0, 1.39, 5.95, 0.65, 3.27, 5.1, 2.4, 4.99, 10.0, 6.2, 3.0, 2.71, 1.25, 16.13, 3.5, 3.21, 3.65, 18.75, 15.5, 6.0, 3.8, 5.67, 7.52, 3.71, 2.9, 3.65, 3.96, 6.22, 10.46, 5.2, 5.6, 5.02, 5.45, 2.75, 3.65, 5.5, 3.67, 2.44, 1.45, 3.76, 5.7, 4.57, 6.0, 3.5, 4.85, 3.1, 4.25, 2.65, 1.11, 7.25, 4.25, 6.5, 2.39, 2.85, 3.1, 4.1, 5.99, 4.15, 5.2, 2.9, 6.8, 3.61, 7.75, 7.12, 6.57, 3.67, 3.96, 13.55, 11.9, 2.45, 2.45, 5.65, 3.1, 5.35, 7.69, 3.25, 9.58, 5.1, 6.09, 7.77, 1.99, 2.95, 3.25, 6.5, 3.71, 1.85, 4.5, 3.25, 2.7, 6.75, 6.11, 3.35, 8.15, 1.25, 2.05, 5.11, 1.75, 8.2, 1.2, 4.5, 5.5, 4.25, 1.5, 4.2, 3.3, 4.35, 4.9, 11.05, 6.08, 9.75, 5.9, 6.32, 6.8, 2.85, 7.5, 6.95, 5.95, 5.6, 2.95, 6.5, 5.95, 2.1, 7.52, 1.8, 2.6, 7.95, 2.3, 2.75, 4.9, 7.9, 5.22, 2.95, 4.85, 8.31, 8.8, 5.75, 4.57, 10.75, 4.15, 6.6, 3.45, 9.8, 2.65, 4.45, 6.1, 4.25, 3.2, 7.25, 6.3, 2.4, 5.0, 7.75, 6.25, 1.65, 5.35, 3.5, 2.1, 2.11, 2.5, 3.75, 1.1, 3.0, 1.25, 2.8, 2.7, 4.6, 5.7, 1.25, 7.75, 4.5, 4.65, 7.75, 6.75, 10.25, 2.1, 2.25, 5.3, 6.14, 5.53, 10.5, 5.39, 8.94, 2.95, 5.38, 7.53, 4.2, 6.82, 6.4, 5.85, 4.75, 1.52, 2.15, 7.05, 4.4, 7.99, 2.7, 5.25, 2.6, 4.57, 6.0, 3.25, 2.9, 3.89, 2.15, 2.98, 3.3, 9.5, 1.65, 3.4, 4.35, 1.25, 2.9, 5.35, 5.21, 7.19, 3.59, 3.32, 8.07, 4.5, 10.5, 4.95, 3.3, 4.11, 6.24, 2.6, 5.49, 5.1, 4.49, 5.43, 4.54, 2.98, 6.12, 5.5, 1.15, 4.09, 1.95, 4.75, 13.78, 6.0, 2.5, 4.85, 2.7, 3.0, 5.45, 0.55, 2.75, 1.99, 2.3, 2.5, 3.2, 1.35, 2.65, 3.7, 2.1, 5.75, 4.15, 5.45, 3.95, 1.35, 8.65, 4.95, 1.9, 3.5, 2.25, 2.25, 1.4, 3.25, 5.9, 3.25, 3.1, 6.0, 4.0, 2.45, 6.99, 4.0, 5.5, 1.45, 7.9, 4.8, 3.15, 2.65, 2.95, 2.74, 2.59, 4.75, 3.25, 1.65, 6.25, 3.5, 3.9, 6.25, 4.35, 2.95, 4.0, 2.25, 8.0, 3.55, 10.85, 3.4, 1.99, 7.5, 5.49, 6.9, 6.46, 1.97, 4.78, 11.62, 13.28, 5.6, 6.85, 3.1, 1.26, 3.69, 7.53, 4.16, 3.25, 2.7, 2.6, 4.25, 5.29, 8.5, 2.25, 9.46, 2.58, 2.96, 4.9, 4.75, 5.75, 0.75, 7.5, 6.0, 0.99, 23.0, 3.45, 2.32, 2.85, 2.71, 12.75, 6.5, 3.25, 4.1, 9.25, 6.5, 5.4, 9.05, 6.25, 3.45, 1.99, 5.64, 3.32, 6.91, 4.4, 4.74, 7.14, 3.49, 2.75, 6.25, 3.41, 3.9, 6.16, 5.5, 4.9, 5.39, 1.95, 5.0, 4.45, 2.45, 7.5, 2.45, 4.64, 4.8, 5.8, 2.95, 6.7, 4.25, 5.75, 5.75, 4.95, 5.85, 3.95, 7.55, 3.0, 1.5, 5.25, 2.1, 3.99, 4.59, 5.5, 5.2, 7.9, 4.99, 7.5, 7.5, 2.5, 1.51, 5.47, 8.1, 3.25, 3.0, 4.0, 4.0, 2.5, 5.75, 6.5, 5.9, 5.95, 4.45, 4.5, 5.5, 6.39, 12.5, 16.08, 5.5, 4.3, 3.84, 5.04, 4.31, 6.69, 12.83, 2.75, 5.25, 5.75, 6.73, 3.39, 4.25, 2.1, 4.5, 6.5, 8.87, 4.0, 3.09, 10.19, 4.38, 5.54, 5.35, 2.25, 12.45, 3.89, 0.5, 3.75, 3.95, 6.35, 5.5, 5.48, 6.35, 6.6, 7.0, 4.99, 3.45, 5.49, 4.61, 18.0, 5.75, 2.1, 6.0, 4.25, 4.41, 6.54, 4.1, 7.2, 1.55, 10.31, 3.61, 5.39, 5.85, 7.2, 15.54, 5.84, 3.9, 2.9, 4.65, 6.63, 7.57, 4.57, 4.17, 35.82, 2.4, 5.15, 4.25, 9.75, 3.12, 6.92, 4.95, 6.1, 7.0, 3.45, 7.5, 3.2, 2.15, 2.79, 3.5, 2.1, 2.21, 4.25, 5.75, 1.25, 2.45, 2.85, 1.4, 2.25, 17.25, 1.8, 3.35, 7.25, 5.7, 4.76, 6.95, 9.65, 7.52, 5.5, 12.15, 8.3, 4.3, 8.48, 2.49, 6.98, 1.65, 8.25, 4.25, 2.65, 2.87, 4.75, 3.9, 2.78, 3.47, 3.11, 3.31, 1.45, 6.35, 3.7, 2.75, 4.25, 2.2, 5.65, 8.0, 6.5, 4.75, 3.7, 5.9, 4.2, 9.5, 2.25, 3.95, 11.11, 2.35, 9.8, 1.75, 7.1, 2.61, 6.0, 1.59, 8.5, 4.21, 7.8, 7.5, 2.65, 4.25, 4.9, 5.99, 12.0, 9.51, 8.5, 0.7, 3.1, 2.4, 2.99, 3.5, 4.25, 5.84, 7.5, 6.1, 4.3, 3.75, 5.2, 2.9, 5.0, 5.64, 4.7, 1.65, 4.82, 2.5, 7.5, 2.45, 3.75, 3.69, 2.5, 6.67, 6.63, 2.5, 6.25, 5.99, 5.5, 2.65, 4.1, 2.95, 3.7, 6.0, 13.54, 8.4, 4.29, 4.28, 7.67, 6.25, 3.51, 4.5, 3.33, 5.0, 5.55, 7.64, 5.75, 2.2, 1.95, 2.75, 2.55, 4.25, 16.5, 13.0, 4.9, 7.75, 3.05, 5.5, 6.0, 3.7, 5.0, 2.95, 6.5, 3.3, 5.95, 3.6, 1.1, 4.5, 3.2, 3.25, 6.0, 5.45, 3.5, 2.69, 10.77, 3.07, 7.56, 2.7, 4.2, 6.55, 8.44, 5.0, 5.36, 0.63, 5.45, 16.42, 7.0, 11.95, 4.35, 12.13, 6.0, 4.7, 3.3, 2.74, 11.64, 4.4, 5.95, 1.95, 5.0, 2.35, 5.8, 3.3, 6.95, 2.85, 3.9, 6.25, 2.75, 5.5, 9.75, 3.26, 4.0, 3.2, 5.65, 2.35, 9.5, 6.02, 3.82, 4.85, 4.58, 3.2, 7.26, 4.35, 12.26, 4.65, 4.65, 5.25, 3.01, 5.36, 2.47, 14.82, 10.15, 7.97, 8.5, 3.25, 4.04, 2.0, 6.25, 2.9, 4.5, 4.56, 1.75, 1.75, 7.78, 6.0, 7.5, 5.49, 6.5, 9.87, 6.2, 6.45, 3.1, 5.95, 5.25, 20.0, 3.5, 4.85, 2.6, 3.75, 6.5, 2.6, 2.8, 4.25, 2.7, 11.5, 6.5, 3.8, 5.45, 5.95, 2.0, 3.5, 3.45, 2.25, 2.45, 2.4, 3.5, 1.3, 2.41, 4.1, 5.99, 3.95, 6.2, 3.75, 6.9, 3.25, 3.65, 5.25, 6.9, 17.5, 0.5, 2.75, 3.55, 6.75, 3.46, 8.62, 4.25, 12.46, 3.9, 5.5, 5.4, 3.9, 6.45, 8.43, 5.68, 3.04, 7.11, 3.47, 5.27, 5.95, 5.98, 3.2, 2.6, 2.5, 10.4, 5.5, 2.25, 4.94, 2.93, 3.2, 8.49, 5.66, 2.65, 3.76, 4.72, 3.4, 7.75, 3.48, 9.2, 6.5, 2.65, 5.65, 3.9, 2.5, 3.85, 13.25, 4.2, 2.85, 5.25, 3.1, 2.2, 4.9, 3.1, 18.5, 3.2, 1.75, 3.75, 4.74, 6.45, 1.95, 1.15, 7.95, 6.68, 6.32, 2.0, 3.54, 3.65, 4.06, 4.69, 5.53, 3.35, 4.77, 3.87, 10.36, 13.3, 1.9, 3.41, 8.63, 4.02, 5.45, 2.75, 1.1, 4.3, 0.85, 3.0, 2.35, 3.5, 3.0, 15.65, 3.0, 5.0, 4.3, 3.65, 4.7, 6.5, 3.25, 5.7, 0.75, 1.94, 4.0, 4.95, 12.0, 3.25, 1.5, 2.5, 8.5, 3.7, 11.5, 0.7, 5.5, 4.75, 4.0, 5.5, 5.75, 8.7, 2.5, 6.2, 3.8, 4.8, 3.3, 5.27, 4.11, 4.95, 6.2, 4.18, 8.42, 7.17, 6.0, 7.36, 4.26, 4.86, 6.0, 7.46, 4.51, 4.4, 4.4, 4.07, 2.3, 2.88, 4.5, 5.9, 4.45, 8.95, 9.0, 6.9, 2.3, 3.2, 2.75, 1.4, 0.9, 4.75, 1.6, 4.9, 3.0, 5.21, 11.88, 6.35, 4.3, 4.25, 3.91, 6.25, 3.87, 3.22, 2.85, 2.5, 3.26, 3.5, 3.4, 7.65, 9.0, 11.82, 4.5, 1.8, 9.0, 4.65, 21.69, 4.85, 6.7, 3.1, 5.49, 7.25, 4.98, 6.75, 9.45, 5.95, 4.75, 20.25, 6.0, 6.5, 4.5, 3.7, 5.25, 3.25, 2.75, 4.5, 3.0, 3.25, 2.11, 5.2, 3.4, 1.8, 11.75, 4.89, 7.4, 6.04, 1.7, 5.25, 5.72, 6.5, 2.45, 2.29, 5.25, 4.49, 5.6, 13.82, 4.52, 2.9, 1.2, 8.85, 11.0, 5.09, 9.35, 1.2, 2.85, 28.42, 11.31, 5.99, 7.0, 6.95, 4.5, 9.43, 3.67, 3.72, 4.5, 1.46, 2.95, 6.0, 3.25, 4.1, 3.5, 4.25, 3.9, 3.95, 4.35, 2.8, 12.8, 4.0, 11.25, 4.15, 1.4, 2.65, 2.5, 4.5, 3.75, 5.77, 6.45, 2.35, 3.61, 3.42, 16.59, 3.95, 3.19, 3.63, 2.55, 7.25, 0.99, 2.7, 7.75, 6.95, 4.25, 6.84, 4.4, 4.94, 4.5, 3.3, 5.3, 5.53, 4.63, 5.49, 4.85, 3.1, 5.86, 8.92, 5.5, 6.98, 5.71, 2.4, 5.1, 6.95, 2.35, 4.95, 8.45, 5.9, 2.65, 6.75, 4.45, 4.5, 3.05, 5.5, 3.11, 12.9, 2.22, 4.15, 4.75, 11.0, 5.56, 1.87, 7.5, 5.34, 2.42, 7.2, 2.74, 5.85, 8.25, 2.2, 11.73, 3.1, 1.17, 4.75, 7.48, 3.39, 5.75, 10.88, 9.38, 6.85, 6.99, 4.3, 2.8, 2.25, 0.9, 7.75, 6.5, 6.75, 6.0, 3.7, 2.95, 3.0, 9.48, 2.55, 7.15, 3.65, 5.0, 3.49, 2.4, 9.75, 3.0, 7.0, 7.5, 2.0, 4.75, 8.9, 6.85, 2.6, 6.75, 3.25, 5.5, 3.65, 1.75, 2.99, 23.0, 3.55, 3.6, 2.48, 1.99, 3.3, 3.25, 4.75, 3.55, 3.99, 5.5, 20.0, 7.9, 0.95, 3.85, 13.25, 3.3, 3.75, 7.0, 3.25, 7.35, 6.25, 3.65, 4.55, 1.9, 2.5, 4.8, 4.75, 5.25, 2.25, 3.45, 3.25, 12.13, 13.35, 5.41, 4.94, 4.89, 5.1, 4.34, 6.93, 4.07, 4.65, 5.6, 7.3, 13.25, 3.85, 6.1, 3.8, 2.3, 7.47, 5.99, 6.72, 3.99, 4.0, 1.6, 1.5, 5.88, 2.9, 5.35, 4.9, 1.75, 5.75, 7.35, 12.5, 2.65, 1.55, 7.25, 4.3, 4.35, 3.45, 6.8, 4.33, 6.75, 2.45, 3.52, 8.27, 13.54, 6.35, 4.3, 1.75, 4.0, 5.8, 8.15, 3.16, 3.55, 4.25, 6.6, 3.32, 6.22, 4.5, 0.99, 18.6, 7.61, 7.35, 6.85, 5.25, 3.5, 4.65, 6.01, 1.92, 2.1, 7.0, 8.2, 7.75, 9.25, 3.75, 5.95, 2.13, 18.65, 4.21, 4.5, 5.5, 1.99, 2.49, 11.52, 5.59, 4.27, 7.11, 10.17, 6.33, 2.4, 3.6, 4.99, 3.2, 5.05, 5.27, 1.4, 7.75, 5.5, 6.15, 4.0, 2.9, 4.79, 3.85, 12.0, 7.48, 4.3, 19.46, 3.6, 2.19, 4.25, 3.25, 0.99, 3.35, 1.68, 5.45, 4.75, 7.75, 2.4, 5.1, 9.25, 4.75, 3.75, 6.25, 5.8, 3.45, 2.3, 1.3, 5.5, 5.5, 5.85, 3.6, 8.0, 5.94, 1.45, 4.3, 1.09, 3.0, 3.5, 3.6, 9.9, 6.25, 0.75, 4.5, 12.0, 3.41, 6.14, 3.3, 15.57, 13.52, 7.11, 4.7, 12.5, 4.55, 10.99, 10.82, 2.25, 7.99, 5.0, 5.9, 3.95, 9.3, 3.38, 10.94, 2.5, 9.9, 7.4, 4.4, 1.38, 2.7, 3.4, 8.4, 4.87, 4.5, 2.65, 11.9, 4.25, 3.0, 5.5, 3.25, 7.7, 8.0, 9.5, 3.25, 3.14, 12.5, 3.1, 8.0, 3.1, 3.5, 3.25, 5.85, 4.75, 8.5, 4.0, 5.76, 5.47, 7.9, 6.3, 2.65, 8.15, 7.1, 2.65, 13.28, 3.5, 7.8, 5.5, 2.75, 7.09, 2.8, 8.0, 6.9, 7.22, 5.55, 4.25, 6.36, 13.75, 4.76, 6.17, 2.0, 4.0, 4.9, 7.0, 7.85, 4.45, 4.0, 3.55, 2.9, 5.25, 5.9, 8.25, 15.9, 18.75, 6.95, 2.49, 5.0, 3.95, 1.8, 5.25, 3.25, 6.49, 2.0, 11.5, 4.5, 5.75, 2.35, 4.25, 7.9, 1.1, 1.7, 3.15, 1.35, 6.56, 32.1, 3.89, 3.5, 4.5, 7.38, 5.64, 1.59, 4.68, 14.25, 1.99, 7.49, 2.85, 3.25, 2.75, 5.83, 5.15, 4.95, 12.63, 2.25, 6.58, 4.52, 14.7, 9.48, 2.6, 2.85, 5.8, 5.49, 5.5, 2.75, 1.5, 3.99, 6.25, 2.6, 3.05, 6.3, 9.49, 6.95, 8.45, 2.5, 3.75, 6.46, 3.41, 6.21, 4.05, 2.85, 12.6, 3.2, 4.92, 5.87, 7.68, 23.86, 5.0, 6.26, 7.87, 6.17, 3.96, 7.85, 7.39, 2.59, 9.13, 7.51, 9.18, 6.69, 8.5, 2.4, 12.53, 1.95, 4.05, 7.65, 5.22, 1.55, 5.2, 10.7, 3.91, 2.15, 3.9, 6.21, 2.0, 1.75, 4.1, 1.1, 7.8, 5.95, 2.23, 2.8, 2.25, 3.11, 8.7, 7.99, 2.75, 3.55, 3.49, 2.6, 5.95, 3.25, 7.85, 17.65, 3.69, 9.19, 4.8, 4.85, 2.35, 5.2, 12.4, 7.59, 7.57, 7.88, 6.14, 6.22, 6.28, 6.64, 3.4, 9.9, 5.89, 1.89, 3.22, 7.29, 4.9, 5.75, 1.74, 6.75, 13.69, 7.43, 9.46, 5.44, 16.8, 13.39, 1.8, 3.45, 16.9, 5.25, 2.8, 11.0, 5.1, 2.35, 2.95, 6.5, 2.2, 5.25, 2.8, 3.25, 2.1, 7.75, 11.25, 9.3, 5.75, 6.45, 3.5, 4.85, 1.0, 6.3, 2.65, 4.8, 6.8, 3.64, 10.49, 8.77, 5.64, 12.49, 8.8, 4.72, 3.02, 4.38, 4.29, 6.71, 5.0, 3.3, 7.49, 2.65, 12.34, 2.7, 3.1, 3.08, 9.75, 7.73, 4.32, 2.95, 5.44, 6.41, 4.5, 8.85, 8.0, 1.95, 4.9, 10.25, 4.7, 2.5, 5.0, 3.7, 3.9, 10.0, 4.95, 7.5, 3.25, 4.95, 4.9, 3.2, 3.25, 6.35, 9.51, 30.42, 1.89, 5.95, 7.27, 2.3, 4.74, 13.34, 7.32, 6.87, 4.2, 8.61, 3.85, 4.27, 8.0, 1.88, 11.13, 2.59, 6.61, 2.21, 5.99, 6.54, 8.19, 3.0, 3.5, 1.36, 4.5, 4.5, 6.5, 3.8, 4.6, 7.0, 9.9, 2.85, 1.85, 8.5, 1.7, 15.0, 1.5, 4.65, 4.88, 7.4, 4.43, 1.6, 1.5, 12.75, 2.3, 3.15, 2.75, 4.75, 5.25, 6.25, 3.49, 2.65, 8.25, 3.0, 5.5, 3.1, 3.4, 3.9, 4.01, 3.15, 5.49, 2.6, 3.7, 10.49, 2.9, 2.9, 6.9, 5.35, 6.24, 5.5, 5.5, 5.4, 3.74, 2.79, 5.43, 3.7, 4.01, 4.95, 5.75, 8.02, 3.4, 4.95, 2.25, 3.4, 8.45, 8.45, 2.19, 5.75, 10.0, 8.09, 14.29, 5.09, 4.7, 3.74, 3.2, 14.6, 22.2, 8.12, 6.22, 3.1, 5.5, 3.59, 4.5, 6.58, 6.21, 3.19, 5.84, 2.39, 3.25, 19.05, 6.26, 7.39, 6.85, 3.25, 9.25, 3.24, 8.5, 1.75, 6.5, 6.96, 9.65, 7.0, 4.75, 9.25, 7.7, 3.99, 5.6, 3.25, 4.05, 4.65, 3.95, 8.34, 2.75, 3.6, 7.9, 4.64, 2.05, 4.5, 2.55, 6.46, 3.68, 6.28, 9.28, 3.71, 3.15, 3.87, 5.77, 8.39, 3.75, 4.05, 5.75, 3.0, 3.95, 2.8, 6.83, 8.61, 10.79, 8.25, 3.26, 4.25, 3.25, 9.25, 6.17, 2.4, 4.25, 4.25, 3.85, 2.55, 0.9, 4.95, 8.5, 10.25, 2.07, 5.5, 2.15, 5.5, 4.35, 5.3, 4.8, 9.5, 2.65, 2.1, 4.65, 9.75, 3.6, 5.65, 4.3, 3.89, 3.55, 3.75, 4.69, 4.7, 3.65, 8.24, 5.34, 6.45, 5.75, 7.85, 6.5, 4.66, 7.9, 1.99, 3.42, 5.53, 5.9, 21.42, 6.5, 3.9, 5.0, 5.75, 3.6, 5.65, 7.15, 2.61, 7.25, 3.0, 4.9, 10.5, 1.75, 2.7, 2.25, 5.0, 7.75, 5.0, 16.95, 19.85, 9.0, 2.15, 4.95, 9.5, 6.25, 3.48, 5.84, 2.49, 3.38, 4.45, 2.9, 2.25, 14.28, 12.81, 2.99, 8.45, 1.45, 6.1, 6.3, 7.29, 5.81, 4.65, 3.05, 2.65, 7.79, 3.75, 2.1, 3.25, 6.0, 8.0, 6.7, 1.6, 3.1, 6.0, 3.2, 6.95, 5.95, 3.25, 2.5, 7.75, 5.25, 7.75, 2.8, 10.75, 5.0, 5.5, 3.2, 3.75, 4.9, 8.75, 3.5, 12.25, 6.0, 3.3, 6.55, 3.25, 8.99, 6.0, 2.3, 3.35, 16.36, 4.85, 3.29, 5.3, 6.43, 6.3, 6.0, 2.44, 7.9, 4.15, 10.25, 4.31, 7.46, 13.48, 3.9, 7.7, 4.87, 5.84, 3.25, 13.0, 3.45, 3.2, 5.75, 6.5, 8.35, 1.75, 6.5, 6.5, 8.75, 4.25, 4.0, 2.35, 10.0, 7.0, 1.6, 12.6, 6.5, 19.0, 5.99, 5.95, 6.64, 17.02, 6.7, 6.18, 9.74, 11.0, 2.6, 5.53, 2.4, 9.66, 3.5, 5.95, 6.95, 13.05, 8.4, 4.74, 5.12, 2.15, 4.94, 5.55, 7.72, 5.25, 5.07, 5.6, 7.1, 7.1, 5.75, 10.91, 13.75, 10.0, 3.4, 2.65, 3.25, 6.25, 4.65, 2.65, 8.75, 4.73, 3.55, 2.85, 5.95, 5.0, 5.85, 5.45, 3.28, 4.95, 3.31, 14.19, 4.75, 6.27, 7.0, 9.47, 5.85, 6.37, 1.95, 1.6, 4.95, 8.15, 6.75, 2.19, 4.5, 15.0, 8.3, 4.35, 4.5, 5.27, 3.5, 4.5, 12.9, 5.9, 7.95, 4.45, 8.0, 6.95, 5.99, 6.5, 6.16, 6.9, 3.0, 4.45, 11.39, 5.75, 2.35, 10.08, 8.61, 5.67, 3.79, 4.99, 5.86, 8.9, 2.8, 1.2, 4.25, 10.75, 2.75, 4.29, 2.15, 2.9, 7.98, 17.55, 5.43, 1.97, 10.0, 2.55, 12.5, 9.5, 3.0, 5.0, 4.25, 4.25, 26.0, 1.5, 2.6, 7.5, 6.2, 8.99, 9.75, 3.75, 5.5, 6.5, 6.99, 5.35, 6.2, 5.84, 2.13, 2.62, 6.85, 3.15, 9.95, 4.29, 3.5, 7.0, 2.15, 3.55, 5.9, 7.83, 3.25, 7.09, 2.55, 5.9, 10.34, 6.2, 3.35, 8.22, 8.26, 3.75, 17.11, 6.48, 7.76, 7.74, 3.5, 2.99, 5.5, 6.15, 3.95, 2.75, 6.9, 8.0, 5.0, 6.75, 2.75, 2.75, 2.65, 1.25, 5.15, 5.99, 26.0, 4.25, 3.8, 8.65, 5.65, 8.3, 1.75, 5.35, 9.0, 7.66, 13.37, 16.27, 5.6, 6.21, 7.5, 2.87, 7.07, 2.36, 2.9, 13.5, 7.9, 20.4, 3.0, 11.0, 8.18, 3.7, 2.44, 4.65, 6.7, 3.46, 9.18, 2.01, 4.1, 6.2, 5.75, 4.0, 4.25, 11.51, 2.95, 6.2, 8.2, 3.1, 5.21, 2.8, 3.5, 8.4, 7.75, 5.38, 11.87, 3.46, 3.0, 6.57, 8.25, 3.52, 5.1, 6.02, 3.9, 3.75, 6.5, 4.5, 12.03, 11.65, 2.39, 5.49, 5.6, 6.9, 7.0, 4.95, 1.5, 4.25, 1.9, 4.5, 7.05, 4.9, 6.5, 5.6, 7.0, 4.44, 6.9, 6.19, 6.14, 7.53, 5.55, 8.5, 7.8, 5.99, 7.23, 4.95, 6.5, 8.75, 4.25, 3.55, 0.8, 5.58, 3.65, 16.5, 2.6, 8.25, 3.8, 4.8, 4.75, 6.29, 4.25, 4.5, 7.85, 7.95, 3.7, 4.11, 2.25, 16.0, 3.95, 3.7, 8.75, 5.11, 9.88, 4.95, 6.42, 3.35, 3.38, 3.01, 8.9, 6.16, 6.0, 4.55, 4.0, 2.9, 9.44, 9.66, 8.78, 5.38, 5.25, 2.75, 4.9, 2.79, 0.95, 3.75, 6.21, 4.75, 6.3, 3.75, 3.75, 10.9, 8.75, 2.35, 7.27, 2.78, 2.25, 4.3, 5.92, 6.25, 6.94, 6.07, 6.37, 7.58, 2.6, 5.4, 2.0, 5.6, 6.34, 7.64, 2.66, 16.09, 4.35, 3.5, 6.22, 8.46, 5.5, 5.98, 6.0, 3.5, 8.5, 16.5, 2.66, 3.75, 4.5, 3.85, 7.9, 6.75, 4.5, 9.0, 2.3, 1.74, 5.04, 4.5, 6.95, 3.8, 1.53, 13.12, 6.15, 5.85, 2.85, 8.25, 8.42, 24.5, 8.35, 5.89, 2.7, 3.8, 5.25, 3.0, 5.91, 2.99, 5.25, 5.25, 4.95, 7.25, 9.25, 5.55, 5.0, 4.75, 7.71, 1.25, 8.32, 6.22, 7.56, 8.51, 7.93, 9.18, 6.25, 5.75, 6.17, 7.25, 4.5, 11.31, 6.26, 1.0, 4.12, 2.3, 3.0, 4.9, 3.35, 2.25, 2.5, 2.85, 8.25, 4.4, 1.0, 7.5, 5.32, 8.5, 7.97, 3.65, 8.7, 11.94, 6.35, 7.21, 9.62, 6.0, 9.75, 3.1, 5.9, 5.84, 5.65, 8.4, 5.4, 1.46, 3.15, 5.65, 7.65, 6.9, 9.2, 8.25, 4.25, 6.5, 2.1, 4.9, 3.1, 3.6, 3.87, 6.99, 6.06, 1.6, 6.79, 5.85, 5.5, 7.65, 9.31, 3.3, 3.75, 5.0, 11.5, 10.36, 5.5, 7.83, 18.5, 5.75, 6.95, 5.4, 4.35, 2.99, 7.77, 9.96, 6.25, 12.49, 2.25, 5.65, 3.75, 3.58, 3.36, 6.4, 7.5, 5.11, 4.75, 3.69, 3.75, 9.29, 6.37, 17.5, 6.05, 7.1, 2.35, 2.25, 8.0, 4.25, 8.9, 3.65, 4.9, 3.9, 3.75, 7.4, 6.27, 5.85, 5.37, 5.37, 2.47, 5.48, 4.4, 4.14, 5.6, 6.99, 27.36, 8.11, 14.5, 5.65, 6.69, 4.23, 7.32, 3.47, 3.95, 6.59, 7.4, 5.75, 9.25, 5.25, 7.5, 9.9, 4.9, 3.0, 5.95, 4.6, 2.8, 3.2, 11.25, 4.6, 6.44, 8.2, 9.5, 4.41, 4.75, 3.75, 8.91, 6.45, 4.7, 12.0, 6.8, 3.15, 4.06, 9.11, 3.5, 6.6, 10.9, 5.15, 4.65, 10.5, 8.92, 3.25, 7.67, 2.4, 5.8, 3.5, 2.75, 4.15, 3.0, 4.65, 11.88, 4.9, 6.75, 5.5, 5.5, 3.25, 12.75, 5.4, 4.5, 8.5, 0.45, 5.8, 3.65, 11.0, 2.45, 7.75, 3.1, 5.5, 6.1, 3.5, 7.3, 10.28, 2.25, 10.07, 8.9, 2.75, 3.8, 14.25, 22.55, 2.35, 8.5, 3.35, 2.9, 3.95, 6.1, 7.95, 3.9, 6.75, 8.0, 9.4, 5.95, 1.4, 6.35, 4.75, 6.51, 3.5, 9.18, 5.9, 4.7, 6.51, 6.03, 6.75, 10.95, 4.99, 6.5, 40.0, 4.0, 5.85, 3.5, 5.5, 4.5, 6.5, 13.2, 2.75, 5.88, 3.5, 2.95, 5.75, 2.95, 8.0, 5.75, 5.15, 6.85, 5.75, 5.5, 8.5, 13.0, 3.55, 19.92, 7.34, 2.55, 13.56, 3.2, 3.42, 5.49, 4.8, 5.0, 35.0, 3.21, 4.4, 3.0, 7.9, 6.75, 3.75, 7.5, 3.8, 8.76, 6.15, 11.15, 5.0, 4.35, 3.59, 5.7, 6.9, 3.6, 5.35, 17.45, 3.0, 7.65, 7.2, 4.75, 5.09, 3.6, 23.91, 11.54, 8.25, 5.95, 7.25, 6.7, 2.5, 7.5, 2.7, 16.5, 0.8, 11.92, 2.8, 8.2, 8.65, 3.98, 11.45, 6.5, 3.5, 10.11, 6.95, 8.7, 9.22, 3.6, 4.11, 3.0, 1.2, 4.8, 4.8, 1.38, 3.15, 4.8, 8.25, 3.0, 5.55, 5.2, 6.45, 6.8, 14.01, 7.9, 3.5, 8.75, 8.41, 3.3, 12.75, 8.25, 2.3, 2.75, 3.6, 8.2, 8.7, 7.75, 8.65, 4.45, 5.1, 4.29, 6.0, 4.7, 13.5, 7.55, 7.23, 7.5, 8.6, 5.68, 6.8, 3.4, 6.36, 6.5, 3.6], \"yaxis\": \"y\"}],\n",
              "                        {\"legend\": {\"tracegroupgap\": 0}, \"template\": {\"data\": {\"bar\": [{\"error_x\": {\"color\": \"#2a3f5f\"}, \"error_y\": {\"color\": \"#2a3f5f\"}, \"marker\": {\"line\": {\"color\": \"#E5ECF6\", \"width\": 0.5}}, \"type\": \"bar\"}], \"barpolar\": [{\"marker\": {\"line\": {\"color\": \"#E5ECF6\", \"width\": 0.5}}, \"type\": \"barpolar\"}], \"carpet\": [{\"aaxis\": {\"endlinecolor\": \"#2a3f5f\", \"gridcolor\": \"white\", \"linecolor\": \"white\", \"minorgridcolor\": \"white\", \"startlinecolor\": \"#2a3f5f\"}, \"baxis\": {\"endlinecolor\": \"#2a3f5f\", \"gridcolor\": \"white\", \"linecolor\": \"white\", \"minorgridcolor\": \"white\", \"startlinecolor\": \"#2a3f5f\"}, \"type\": \"carpet\"}], \"choropleth\": [{\"colorbar\": {\"outlinewidth\": 0, \"ticks\": \"\"}, \"type\": \"choropleth\"}], \"contour\": [{\"colorbar\": {\"outlinewidth\": 0, \"ticks\": \"\"}, \"colorscale\": [[0.0, \"#0d0887\"], [0.1111111111111111, \"#46039f\"], [0.2222222222222222, \"#7201a8\"], [0.3333333333333333, \"#9c179e\"], [0.4444444444444444, \"#bd3786\"], [0.5555555555555556, \"#d8576b\"], [0.6666666666666666, \"#ed7953\"], [0.7777777777777778, \"#fb9f3a\"], [0.8888888888888888, \"#fdca26\"], [1.0, \"#f0f921\"]], \"type\": \"contour\"}], \"contourcarpet\": [{\"colorbar\": {\"outlinewidth\": 0, \"ticks\": \"\"}, \"type\": \"contourcarpet\"}], \"heatmap\": [{\"colorbar\": {\"outlinewidth\": 0, \"ticks\": \"\"}, \"colorscale\": [[0.0, \"#0d0887\"], [0.1111111111111111, \"#46039f\"], [0.2222222222222222, \"#7201a8\"], [0.3333333333333333, \"#9c179e\"], [0.4444444444444444, \"#bd3786\"], [0.5555555555555556, \"#d8576b\"], [0.6666666666666666, \"#ed7953\"], [0.7777777777777778, \"#fb9f3a\"], [0.8888888888888888, \"#fdca26\"], [1.0, \"#f0f921\"]], \"type\": \"heatmap\"}], \"heatmapgl\": [{\"colorbar\": {\"outlinewidth\": 0, \"ticks\": \"\"}, \"colorscale\": [[0.0, \"#0d0887\"], [0.1111111111111111, \"#46039f\"], [0.2222222222222222, \"#7201a8\"], [0.3333333333333333, \"#9c179e\"], [0.4444444444444444, \"#bd3786\"], [0.5555555555555556, \"#d8576b\"], [0.6666666666666666, \"#ed7953\"], [0.7777777777777778, \"#fb9f3a\"], [0.8888888888888888, \"#fdca26\"], [1.0, \"#f0f921\"]], \"type\": \"heatmapgl\"}], \"histogram\": [{\"marker\": {\"colorbar\": {\"outlinewidth\": 0, \"ticks\": \"\"}}, \"type\": \"histogram\"}], \"histogram2d\": [{\"colorbar\": {\"outlinewidth\": 0, \"ticks\": \"\"}, \"colorscale\": [[0.0, \"#0d0887\"], [0.1111111111111111, \"#46039f\"], [0.2222222222222222, \"#7201a8\"], [0.3333333333333333, \"#9c179e\"], [0.4444444444444444, \"#bd3786\"], [0.5555555555555556, \"#d8576b\"], [0.6666666666666666, \"#ed7953\"], [0.7777777777777778, \"#fb9f3a\"], [0.8888888888888888, \"#fdca26\"], [1.0, \"#f0f921\"]], \"type\": \"histogram2d\"}], \"histogram2dcontour\": [{\"colorbar\": {\"outlinewidth\": 0, \"ticks\": \"\"}, \"colorscale\": [[0.0, \"#0d0887\"], [0.1111111111111111, \"#46039f\"], [0.2222222222222222, \"#7201a8\"], [0.3333333333333333, \"#9c179e\"], [0.4444444444444444, \"#bd3786\"], [0.5555555555555556, \"#d8576b\"], [0.6666666666666666, \"#ed7953\"], [0.7777777777777778, \"#fb9f3a\"], [0.8888888888888888, \"#fdca26\"], [1.0, \"#f0f921\"]], \"type\": \"histogram2dcontour\"}], \"mesh3d\": [{\"colorbar\": {\"outlinewidth\": 0, \"ticks\": \"\"}, \"type\": \"mesh3d\"}], \"parcoords\": [{\"line\": {\"colorbar\": {\"outlinewidth\": 0, \"ticks\": \"\"}}, \"type\": \"parcoords\"}], \"pie\": [{\"automargin\": true, \"type\": \"pie\"}], \"scatter\": [{\"marker\": {\"colorbar\": {\"outlinewidth\": 0, \"ticks\": \"\"}}, \"type\": \"scatter\"}], \"scatter3d\": [{\"line\": {\"colorbar\": {\"outlinewidth\": 0, \"ticks\": \"\"}}, \"marker\": {\"colorbar\": {\"outlinewidth\": 0, \"ticks\": \"\"}}, \"type\": \"scatter3d\"}], \"scattercarpet\": [{\"marker\": {\"colorbar\": {\"outlinewidth\": 0, \"ticks\": \"\"}}, \"type\": \"scattercarpet\"}], \"scattergeo\": [{\"marker\": {\"colorbar\": {\"outlinewidth\": 0, \"ticks\": \"\"}}, \"type\": \"scattergeo\"}], \"scattergl\": [{\"marker\": {\"colorbar\": {\"outlinewidth\": 0, \"ticks\": \"\"}}, \"type\": \"scattergl\"}], \"scattermapbox\": [{\"marker\": {\"colorbar\": {\"outlinewidth\": 0, \"ticks\": \"\"}}, \"type\": \"scattermapbox\"}], \"scatterpolar\": [{\"marker\": {\"colorbar\": {\"outlinewidth\": 0, \"ticks\": \"\"}}, \"type\": \"scatterpolar\"}], \"scatterpolargl\": [{\"marker\": {\"colorbar\": {\"outlinewidth\": 0, \"ticks\": \"\"}}, \"type\": \"scatterpolargl\"}], \"scatterternary\": [{\"marker\": {\"colorbar\": {\"outlinewidth\": 0, \"ticks\": \"\"}}, \"type\": \"scatterternary\"}], \"surface\": [{\"colorbar\": {\"outlinewidth\": 0, \"ticks\": \"\"}, \"colorscale\": [[0.0, \"#0d0887\"], [0.1111111111111111, \"#46039f\"], [0.2222222222222222, \"#7201a8\"], [0.3333333333333333, \"#9c179e\"], [0.4444444444444444, \"#bd3786\"], [0.5555555555555556, \"#d8576b\"], [0.6666666666666666, \"#ed7953\"], [0.7777777777777778, \"#fb9f3a\"], [0.8888888888888888, \"#fdca26\"], [1.0, \"#f0f921\"]], \"type\": \"surface\"}], \"table\": [{\"cells\": {\"fill\": {\"color\": \"#EBF0F8\"}, \"line\": {\"color\": \"white\"}}, \"header\": {\"fill\": {\"color\": \"#C8D4E3\"}, \"line\": {\"color\": \"white\"}}, \"type\": \"table\"}]}, \"layout\": {\"annotationdefaults\": {\"arrowcolor\": \"#2a3f5f\", \"arrowhead\": 0, \"arrowwidth\": 1}, \"coloraxis\": {\"colorbar\": {\"outlinewidth\": 0, \"ticks\": \"\"}}, \"colorscale\": {\"diverging\": [[0, \"#8e0152\"], [0.1, \"#c51b7d\"], [0.2, \"#de77ae\"], [0.3, \"#f1b6da\"], [0.4, \"#fde0ef\"], [0.5, \"#f7f7f7\"], [0.6, \"#e6f5d0\"], [0.7, \"#b8e186\"], [0.8, \"#7fbc41\"], [0.9, \"#4d9221\"], [1, \"#276419\"]], \"sequential\": [[0.0, \"#0d0887\"], [0.1111111111111111, \"#46039f\"], [0.2222222222222222, \"#7201a8\"], [0.3333333333333333, \"#9c179e\"], [0.4444444444444444, \"#bd3786\"], [0.5555555555555556, \"#d8576b\"], [0.6666666666666666, \"#ed7953\"], [0.7777777777777778, \"#fb9f3a\"], [0.8888888888888888, \"#fdca26\"], [1.0, \"#f0f921\"]], \"sequentialminus\": [[0.0, \"#0d0887\"], [0.1111111111111111, \"#46039f\"], [0.2222222222222222, \"#7201a8\"], [0.3333333333333333, \"#9c179e\"], [0.4444444444444444, \"#bd3786\"], [0.5555555555555556, \"#d8576b\"], [0.6666666666666666, \"#ed7953\"], [0.7777777777777778, \"#fb9f3a\"], [0.8888888888888888, \"#fdca26\"], [1.0, \"#f0f921\"]]}, \"colorway\": [\"#636efa\", \"#EF553B\", \"#00cc96\", \"#ab63fa\", \"#FFA15A\", \"#19d3f3\", \"#FF6692\", \"#B6E880\", \"#FF97FF\", \"#FECB52\"], \"font\": {\"color\": \"#2a3f5f\"}, \"geo\": {\"bgcolor\": \"white\", \"lakecolor\": \"white\", \"landcolor\": \"#E5ECF6\", \"showlakes\": true, \"showland\": true, \"subunitcolor\": \"white\"}, \"hoverlabel\": {\"align\": \"left\"}, \"hovermode\": \"closest\", \"mapbox\": {\"style\": \"light\"}, \"paper_bgcolor\": \"white\", \"plot_bgcolor\": \"#E5ECF6\", \"polar\": {\"angularaxis\": {\"gridcolor\": \"white\", \"linecolor\": \"white\", \"ticks\": \"\"}, \"bgcolor\": \"#E5ECF6\", \"radialaxis\": {\"gridcolor\": \"white\", \"linecolor\": \"white\", \"ticks\": \"\"}}, \"scene\": {\"xaxis\": {\"backgroundcolor\": \"#E5ECF6\", \"gridcolor\": \"white\", \"gridwidth\": 2, \"linecolor\": \"white\", \"showbackground\": true, \"ticks\": \"\", \"zerolinecolor\": \"white\"}, \"yaxis\": {\"backgroundcolor\": \"#E5ECF6\", \"gridcolor\": \"white\", \"gridwidth\": 2, \"linecolor\": \"white\", \"showbackground\": true, \"ticks\": \"\", \"zerolinecolor\": \"white\"}, \"zaxis\": {\"backgroundcolor\": \"#E5ECF6\", \"gridcolor\": \"white\", \"gridwidth\": 2, \"linecolor\": \"white\", \"showbackground\": true, \"ticks\": \"\", \"zerolinecolor\": \"white\"}}, \"shapedefaults\": {\"line\": {\"color\": \"#2a3f5f\"}}, \"ternary\": {\"aaxis\": {\"gridcolor\": \"white\", \"linecolor\": \"white\", \"ticks\": \"\"}, \"baxis\": {\"gridcolor\": \"white\", \"linecolor\": \"white\", \"ticks\": \"\"}, \"bgcolor\": \"#E5ECF6\", \"caxis\": {\"gridcolor\": \"white\", \"linecolor\": \"white\", \"ticks\": \"\"}}, \"title\": {\"x\": 0.05}, \"xaxis\": {\"automargin\": true, \"gridcolor\": \"white\", \"linecolor\": \"white\", \"ticks\": \"\", \"title\": {\"standoff\": 15}, \"zerolinecolor\": \"white\", \"zerolinewidth\": 2}, \"yaxis\": {\"automargin\": true, \"gridcolor\": \"white\", \"linecolor\": \"white\", \"ticks\": \"\", \"title\": {\"standoff\": 15}, \"zerolinecolor\": \"white\", \"zerolinewidth\": 2}}}, \"title\": {\"text\": \"Used Car Price based on Year\"}, \"xaxis\": {\"anchor\": \"y\", \"domain\": [0.0, 1.0], \"title\": {\"text\": \"Kilometers_Driven\"}}, \"yaxis\": {\"anchor\": \"x\", \"domain\": [0.0, 1.0], \"title\": {\"text\": \"Price\"}}},\n",
              "                        {\"responsive\": true}\n",
              "                    ).then(function(){\n",
              "                            \n",
              "var gd = document.getElementById('56e8adb9-f839-4fd0-8383-4a18725d3a04');\n",
              "var x = new MutationObserver(function (mutations, observer) {{\n",
              "        var display = window.getComputedStyle(gd).display;\n",
              "        if (!display || display === 'none') {{\n",
              "            console.log([gd, 'removed!']);\n",
              "            Plotly.purge(gd);\n",
              "            observer.disconnect();\n",
              "        }}\n",
              "}});\n",
              "\n",
              "// Listen for the removal of the full notebook cells\n",
              "var notebookContainer = gd.closest('#notebook-container');\n",
              "if (notebookContainer) {{\n",
              "    x.observe(notebookContainer, {childList: true});\n",
              "}}\n",
              "\n",
              "// Listen for the clearing of the current output cell\n",
              "var outputEl = gd.closest('.output');\n",
              "if (outputEl) {{\n",
              "    x.observe(outputEl, {childList: true});\n",
              "}}\n",
              "\n",
              "                        })\n",
              "                };\n",
              "                \n",
              "            </script>\n",
              "        </div>\n",
              "</body>\n",
              "</html>"
            ]
          },
          "metadata": {
            "tags": []
          }
        }
      ]
    },
    {
      "cell_type": "code",
      "metadata": {
        "id": "WyGofXZKKCQO",
        "colab_type": "code",
        "colab": {
          "base_uri": "https://localhost:8080/",
          "height": 318
        },
        "outputId": "23b3ac84-e010-46ba-d408-62336fc6ae53"
      },
      "source": [
        "datakm.groupby('Fuel_Type').mean()['Price'].plot.bar()"
      ],
      "execution_count": null,
      "outputs": [
        {
          "output_type": "execute_result",
          "data": {
            "text/plain": [
              "<matplotlib.axes._subplots.AxesSubplot at 0x7fd353481d68>"
            ]
          },
          "metadata": {
            "tags": []
          },
          "execution_count": 52
        },
        {
          "output_type": "display_data",
          "data": {
            "image/png": "[encoded data removed]",
            "text/plain": [
              "<Figure size 432x288 with 1 Axes>"
            ]
          },
          "metadata": {
            "tags": [],
            "needs_background": "light"
          }
        }
      ]
    },
    {
      "cell_type": "code",
      "metadata": {
        "id": "18nPAuq1ww3v",
        "colab_type": "code",
        "colab": {
          "base_uri": "https://localhost:8080/",
          "height": 362
        },
        "outputId": "e9639f8f-778d-4486-bfd7-4ec90c3bae40"
      },
      "source": [
        "datakm.groupby('Merk').mean()['Price'].plot.bar()"
      ],
      "execution_count": null,
      "outputs": [
        {
          "output_type": "execute_result",
          "data": {
            "text/plain": [
              "<matplotlib.axes._subplots.AxesSubplot at 0x7fd35342fa20>"
            ]
          },
          "metadata": {
            "tags": []
          },
          "execution_count": 53
        },
        {
          "output_type": "display_data",
          "data": {
            "image/png": "[encoded data removed]",
            "text/plain": [
              "<Figure size 432x288 with 1 Axes>"
            ]
          },
          "metadata": {
            "tags": [],
            "needs_background": "light"
          }
        }
      ]
    },
    {
      "cell_type": "code",
      "metadata": {
        "id": "R5DzBWpiKNg7",
        "colab_type": "code",
        "colab": {
          "base_uri": "https://localhost:8080/",
          "height": 337
        },
        "outputId": "1bfd0aee-2fa2-4de3-b570-34a2d82dc315"
      },
      "source": [
        "datakm.groupby('Transmission').mean()['Price'].plot.bar()"
      ],
      "execution_count": null,
      "outputs": [
        {
          "output_type": "execute_result",
          "data": {
            "text/plain": [
              "<matplotlib.axes._subplots.AxesSubplot at 0x7fd3532d5dd8>"
            ]
          },
          "metadata": {
            "tags": []
          },
          "execution_count": 54
        },
        {
          "output_type": "display_data",
          "data": {
            "image/png": "[encoded data removed]",
            "text/plain": [
              "<Figure size 432x288 with 1 Axes>"
            ]
          },
          "metadata": {
            "tags": [],
            "needs_background": "light"
          }
        }
      ]
    },
    {
      "cell_type": "code",
      "metadata": {
        "id": "O2R7duTgKT0T",
        "colab_type": "code",
        "colab": {
          "base_uri": "https://localhost:8080/",
          "height": 365
        },
        "outputId": "18bd37d2-a038-4209-d409-f3737b65fa37"
      },
      "source": [
        "datakm.groupby('Owner_Type').mean()['Price'].plot.bar()"
      ],
      "execution_count": null,
      "outputs": [
        {
          "output_type": "execute_result",
          "data": {
            "text/plain": [
              "<matplotlib.axes._subplots.AxesSubplot at 0x7fd3533e5438>"
            ]
          },
          "metadata": {
            "tags": []
          },
          "execution_count": 55
        },
        {
          "output_type": "display_data",
          "data": {
            "image/png": "[encoded data removed]",
            "text/plain": [
              "<Figure size 432x288 with 1 Axes>"
            ]
          },
          "metadata": {
            "tags": [],
            "needs_background": "light"
          }
        }
      ]
    },
    {
      "cell_type": "code",
      "metadata": {
        "id": "ZxNo9AThKiXR",
        "colab_type": "code",
        "colab": {
          "base_uri": "https://localhost:8080/",
          "height": 542
        },
        "outputId": "246c0779-639a-451e-ecb0-a512df97070b"
      },
      "source": [
        "import plotly.express as px\n",
        "\n",
        "fig = px.scatter(datakm, x=\"Mileage\", y=\"Price\", color=\"Transmission\",\n",
        "                 title=\"Harga Mobil Bekas berdasarkan Mileage\",\n",
        "                )\n",
        "\n",
        "fig.show()"
      ],
      "execution_count": null,
      "outputs": [
        {
          "output_type": "display_data",
          "data": {
            "text/html": [
              "<html>\n",
              "<head><meta charset=\"utf-8\" /></head>\n",
              "<body>\n",
              "    <div>\n",
              "            <script src=\"https://cdnjs.cloudflare.com/ajax/libs/mathjax/2.7.5/MathJax.js?config=TeX-AMS-MML_SVG\"></script><script type=\"text/javascript\">if (window.MathJax) {MathJax.Hub.Config({SVG: {font: \"STIX-Web\"}});}</script>\n",
              "                <script type=\"text/javascript\">window.PlotlyConfig = {MathJaxConfig: 'local'};</script>\n",
              "        <script src=\"https://cdn.plot.ly/plotly-latest.min.js\"></script>    \n",
              "            <div id=\"fef56a4e-e2ef-4d4f-b71a-5af563b49740\" class=\"plotly-graph-div\" style=\"height:525px; width:100%;\"></div>\n",
              "            <script type=\"text/javascript\">\n",
              "                \n",
              "                    window.PLOTLYENV=window.PLOTLYENV || {};\n",
              "                    \n",
              "                if (document.getElementById(\"fef56a4e-e2ef-4d4f-b71a-5af563b49740\")) {\n",
              "                    Plotly.newPlot(\n",
              "                        'fef56a4e-e2ef-4d4f-b71a-5af563b49740',\n",
              "                        [{\"hoverlabel\": {\"namelength\": 0}, \"hovertemplate\": \"Transmission=Automatic<br>Mileage=%{x}<br>Price=%{y}\", \"legendgroup\": \"Transmission=Automatic\", \"marker\": {\"color\": \"#636efa\", \"symbol\": \"circle\"}, \"mode\": \"markers\", \"name\": \"Transmission=Automatic\", \"showlegend\": true, \"type\": \"scattergl\", \"x\": [19.3, 16.96, 11.74, 17.68, 12.8, 13.5, 16.07, 18.48, 11.3, 12.55, 12.9, 11.5, 11.0, 20.0, 0.0, 18.1, 13.5, 13.2, 17.2, 14.4, 12.1, 11.0, 14.21, 11.0, 10.8, 11.5, 0.0, 10.5, 11.7, 11.7, 12.55, 19.3, 13.29, 12.07, 16.73, 0.0, 20.0, 21.21, 9.0, 13.0, 0.0, 14.84, 12.07, 11.8, 12.55, 10.1, 20.0, 15.06, 22.32, 13.1, 12.4, 11.5, 13.0, 14.53, 11.7, 11.0, 13.01, 16.96, 13.01, 15.73, 14.28, 12.39, 11.79, 11.5, 16.09, 13.7, 11.36, 14.84, 13.5, 16.55, 17.32, 11.3, 13.2, 19.08, 22.69, 10.13, 0.0, 12.07, 8.7, 11.1, 15.06, 12.55, 11.0, 16.73, 12.55, 11.0, 15.5, 11.36, 14.0, 12.55, 11.4, 13.01, 18.88, 14.45, 11.3, 12.0, 22.69, 11.0, 14.21, 10.0, 16.4, 13.5, 16.07, 12.0, 9.74, 12.07, 18.56, 13.5, 12.07, 14.75, 14.4, 15.87, 22.32, 11.5, 19.08, 14.3, 12.35, 18.48, 12.7, 12.55, 18.33, 22.48, 12.9, 13.7, 11.7, 20.0, 14.74, 11.5, 17.05, 10.1, 12.07, 11.4, 14.7, 12.9, 14.21, 16.73, 11.8, 19.71, 11.5, 16.0, 12.55, 23.3, 17.68, 12.07, 11.4, 11.18, 15.6, 11.4, 14.84, 10.91, 10.2, 12.55, 11.0, 12.4, 11.0, 22.48, 16.07, 12.55, 16.07, 19.34, 17.0, 22.69, 16.73, 14.53, 12.5, 19.2, 10.1, 12.9, 13.2, 14.69, 14.53, 11.1, 12.07, 17.11, 16.55, 16.55, 14.16, 10.93, 17.11, 12.55, 22.69, 19.27, 11.7, 22.0, 11.2, 15.17, 9.1, 14.84, 14.7, 13.01, 11.79, 22.69, 20.0, 12.0, 16.1, 11.0, 11.3, 11.79, 11.7, 10.5, 16.55, 0.0, 11.74, 17.05, 17.68, 12.39, 10.2, 15.73, 19.3, 11.1, 20.0, 11.3, 17.2, 11.1, 11.9, 11.74, 19.08, 10.93, 16.07, 16.0, 14.28, 14.74, 18.0, 10.1, 17.05, 16.55, 11.8, 13.7, 12.35, 18.33, 13.2, 17.2, 16.4, 13.0, 16.0, 14.84, 11.0, 12.8, 12.1, 15.64, 13.7, 11.1, 13.0, 11.18, 11.25, 11.3, 14.67, 11.36, 22.69, 10.1, 11.33, 20.38, 12.0, 12.07, 11.7, 19.3, 12.55, 22.0, 12.55, 18.48, 12.55, 13.1, 14.84, 14.84, 16.8, 16.8, 18.1, 16.07, 14.74, 14.53, 12.0, 11.4, 13.7, 18.48, 13.5, 12.4, 10.9, 23.1, 19.27, 12.6, 17.11, 22.32, 9.7, 10.0, 12.63, 15.73, 16.96, 11.0, 18.12, 14.7, 17.0, 11.3, 16.55, 16.07, 15.97, 18.48, 11.18, 11.49, 9.43, 14.74, 22.48, 17.0, 14.74, 12.62, 12.39, 21.21, 22.32, 16.46, 11.0, 17.2, 11.7, 13.7, 16.73, 14.16, 0.0, 14.84, 16.07, 16.55, 10.8, 15.5, 11.07, 17.0, 16.07, 13.7, 14.67, 16.46, 13.2, 18.1, 24.07, 13.0, 16.8, 8.5, 11.33, 11.5, 22.69, 10.93, 17.9, 12.07, 20.0, 12.07, 15.0, 15.0, 12.7, 0.0, 17.05, 12.9, 16.8, 11.18, 14.16, 18.33, 12.55, 19.3, 14.74, 13.7, 19.08, 17.0, 18.88, 22.7, 14.16, 8.3, 17.68, 16.95, 12.05, 10.9, 14.53, 17.68, 14.21, 15.15, 22.69, 18.88, 12.97, 11.0, 17.11, 21.76, 11.5, 10.0, 13.73, 16.07, 10.8, 18.88, 18.9, 15.97, 16.8, 15.97, 17.21, 17.05, 0.0, 18.88, 15.2, 12.9, 11.36, 16.9, 14.84, 20.51, 12.98, 11.0, 12.55, 17.11, 19.6, 10.93, 11.5, 10.91, 12.39, 15.6, 14.28, 12.39, 13.0, 14.81, 14.21, 11.18, 19.16, 22.69, 11.3, 16.55, 13.7, 11.72, 15.4, 17.68, 11.36, 10.2, 19.0, 11.18, 21.66, 0.0, 15.26, 11.1, 8.45, 10.1, 16.07, 17.05, 22.32, 8.7, 15.3, 12.07, 17.01, 16.55, 15.73, 11.1, 13.0, 11.36, 7.94, 16.96, 14.69, 15.06, 13.6, 14.74, 22.48, 26.59, 13.7, 18.56, 13.73, 22.69, 21.5, 14.94, 12.55, 11.8, 15.73, 11.18, 19.08, 16.95, 15.5, 12.7, 15.73, 28.4, 23.1, 16.07, 11.74, 19.27, 18.48, 17.0, 19.27, 14.0, 13.7, 11.74, 15.73, 14.53, 18.12, 11.1, 16.4, 14.16, 13.22, 0.0, 17.05, 11.49, 14.94, 13.4, 17.05, 12.1, 18.88, 17.68, 22.69, 11.7, 16.95, 14.39, 17.68, 14.67, 18.53, 9.5, 16.8, 14.84, 12.51, 12.9, 11.18, 12.9, 14.3, 12.39, 17.68, 18.9, 13.7, 18.19, 16.95, 16.07, 22.48, 17.84, 11.18, 10.91, 12.3, 14.4, 10.8, 16.96, 15.73, 16.8, 15.63, 15.6, 16.98, 16.95, 18.0, 16.12, 14.4, 22.48, 14.16, 18.18, 17.21, 17.11, 21.66, 15.2, 16.55, 15.73, 11.7, 17.9, 17.32, 16.8, 16.8, 16.8, 15.2, 15.2, 11.74, 19.2, 10.0, 18.1, 17.11, 12.07, 14.53, 15.73, 12.35, 15.73, 20.7, 9.74, 18.48, 12.39, 16.9, 23.1, 12.05, 10.91, 13.0, 14.75, 14.21, 14.39, 18.0, 13.01, 11.2, 16.55, 14.28, 16.55, 17.11, 13.53, 17.01, 15.17, 18.25, 15.26, 16.07, 17.09, 19.2, 19.3, 18.88, 14.62, 19.27, 18.0, 19.6, 16.07, 12.07, 11.72, 10.0, 18.56, 16.55, 17.68, 22.69, 13.2, 11.74, 15.0, 11.2, 22.69, 18.59, 11.7, 16.96, 16.95, 16.46, 15.5, 16.2, 17.16, 17.11, 22.32, 17.68, 14.39, 18.88, 17.21, 14.94, 16.95, 16.55, 24.07, 16.8, 13.7, 16.8, 11.74, 17.05, 13.7, 13.0, 12.9, 17.68, 16.98, 13.5, 17.2, 12.9, 11.33, 15.0, 22.69, 13.7, 16.73, 18.88, 14.16, 11.8, 14.53, 12.7, 12.7, 16.4, 18.53, 18.53, 13.7, 13.53, 19.27, 17.68, 16.55, 12.07, 22.69, 12.55, 18.88, 10.0, 14.74, 14.53, 17.01, 16.36, 16.93, 17.6, 10.13, 10.2, 14.21, 11.8, 16.46, 22.48, 21.21, 11.7, 12.0, 21.66, 23.1, 15.0, 17.85, 17.1, 26.59, 17.68, 11.7, 10.91, 21.66, 16.95, 22.0, 19.15, 15.06, 19.2, 14.67, 11.0, 14.0, 14.3, 16.0, 14.53, 16.55, 17.9, 23.1, 19.2, 0.0, 14.16, 11.36, 15.0, 12.07, 13.7, 22.5, 22.5, 14.4, 14.67, 14.21, 16.55, 8.7, 16.9, 23.1, 0.0, 12.8, 14.49, 12.3, 14.3, 16.77, 12.7, 13.2, 14.28, 18.33, 17.9, 15.26, 14.16, 12.7, 16.55, 13.0, 16.09, 15.26, 12.0, 13.6, 15.68, 16.55, 19.27, 22.48, 12.55, 10.91, 17.68, 14.84, 16.38, 8.2, 19.12, 12.07, 11.33, 16.09, 27.03, 23.8, 15.17, 11.74, 20.58, 16.07, 16.8, 19.08, 22.69, 18.0, 22.48, 27.03, 19.5, 11.74, 17.2, 19.12, 19.12, 19.2, 17.9, 10.93, 17.21, 17.06, 10.91, 12.0, 11.36, 17.01, 8.77, 19.2, 14.57, 11.33, 14.16, 19.27, 12.07, 18.0, 17.11, 19.3, 12.9, 14.7, 16.77, 15.26, 18.0, 17.68, 11.33, 16.77, 16.36, 19.3, 11.74, 17.9, 17.9, 11.79, 17.68, 23.1, 17.68, 23.1, 12.7, 15.5, 16.55, 17.05, 18.23, 17.05, 16.73, 19.3, 14.59, 8.2, 14.84, 19.27, 19.5, 12.0, 12.05, 17.68, 20.0, 17.11, 13.2, 15.0, 16.77, 15.73, 17.85, 22.32, 16.96, 14.21, 18.53, 17.0, 16.36, 15.73, 17.9, 8.6, 17.0, 21.76, 22.69, 11.62, 9.0, 13.01, 14.74, 16.36, 15.15, 14.74, 23.1, 16.8, 12.55, 18.49, 16.55, 19.34, 14.16, 13.5, 10.13, 13.9, 14.21, 12.65, 22.69, 15.26, 15.97, 16.5, 18.88, 12.07, 13.0, 14.94, 18.5, 19.12, 15.6, 21.66, 23.1, 14.62, 12.0, 20.58, 12.0, 16.55, 16.55, 22.48, 16.36, 18.9, 13.7, 11.8, 16.55, 0.0, 13.0, 17.11, 11.4, 13.01, 11.8, 16.9, 23.8, 21.5, 16.55, 11.2, 16.55, 10.0, 12.07, 16.95, 16.09, 15.0, 21.66, 18.25, 14.7, 16.77, 17.05, 19.6, 11.3, 17.0, 16.8, 14.21, 14.4, 17.32, 12.07, 11.74, 17.32, 15.74, 17.05, 15.97, 12.8, 19.27, 22.32, 17.11, 21.21, 23.1, 15.2, 22.48, 17.9, 16.96, 16.36, 18.12, 16.4, 14.16, 23.1, 19.15, 21.4, 12.7, 17.1, 15.63, 13.22, 15.0, 14.21, 10.9, 12.55, 10.5, 11.74, 10.93, 14.74, 15.0, 15.0, 13.0, 17.9, 10.91, 14.16, 17.05, 16.36, 11.72, 14.53, 16.96, 19.08, 14.16, 18.0, 19.6, 18.33, 14.84, 8.0, 11.36, 15.73, 20.68, 9.0, 13.0, 14.8, 13.7, 19.08, 15.5, 11.36, 17.68, 15.73, 22.0, 18.19, 14.21, 13.0, 14.4, 14.4, 20.0, 18.0, 18.56, 28.4, 11.36, 13.1, 12.7, 14.53, 13.0, 15.0, 14.8, 15.8, 16.77, 16.09, 13.0, 13.0, 17.68, 16.95, 14.4, 19.08, 12.37, 21.76, 10.4, 16.9, 15.3, 14.84, 16.0, 18.12, 11.36, 15.2, 17.0, 16.2, 23.1, 14.16, 11.57, 14.84, 12.81, 12.9, 11.36, 17.11, 13.0, 17.68, 17.85, 22.32, 12.05, 10.5, 17.11, 11.74, 17.11, 15.04, 19.15, 13.0, 17.11, 11.2, 11.3, 15.0, 18.0, 14.3, 17.11, 14.84, 11.18, 17.9, 19.27, 12.05, 17.6, 20.38, 15.6, 14.84, 15.5, 16.5, 12.7, 16.07, 21.4, 14.21, 17.01, 12.65, 22.5, 17.11, 23.1, 12.3, 14.7, 14.16, 10.8, 10.91, 17.9, 16.5, 13.7, 14.16, 15.73, 16.8, 18.88, 16.46, 14.84, 22.69, 14.84, 22.5, 12.55, 18.9, 15.63, 22.69, 16.55, 15.73, 18.88, 17.68, 13.0, 16.36, 16.5, 14.8, 16.95, 17.5, 17.0, 18.9, 17.01, 13.5, 12.7, 20.0, 22.69, 15.6, 13.6, 16.95, 20.0, 18.56, 19.08, 13.0, 18.53, 19.27, 23.1, 18.56, 16.5, 15.0, 7.5, 17.1, 19.59, 21.4, 18.9, 12.7, 15.0, 12.55, 11.74, 19.3, 11.72, 16.55, 12.55, 14.8, 16.8, 11.36, 16.0, 15.97, 17.01, 14.94, 20.0, 11.36, 14.84, 7.81, 23.1, 23.1, 23.8, 21.4, 12.6, 17.21, 12.4, 14.74, 18.0, 8.1, 13.7, 16.73, 16.46, 17.9, 18.19, 17.9, 16.5, 12.4, 18.0, 10.1, 11.9, 18.12, 20.51, 12.7, 18.19, 19.15, 10.0, 18.0, 19.6, 21.4, 13.8, 14.21, 21.76, 15.74, 12.39, 20.0, 10.5, 20.51, 9.0, 13.7, 23.8, 16.0, 13.0, 16.55, 21.66, 20.51, 11.78, 20.7, 18.9, 15.0, 17.01, 16.5, 11.57, 21.5, 19.16, 23.1, 19.0, 24.04, 16.8, 19.08, 14.74, 21.4, 17.01, 0.0, 14.4, 23.1, 22.69, 16.98, 18.0, 13.0, 17.05, 16.95, 13.0, 23.3, 21.9, 14.84, 22.48, 12.07, 13.73, 19.59, 13.22, 13.0, 17.9, 14.84, 20.7, 14.4, 17.11, 16.5, 19.12, 14.3, 14.84, 16.5, 17.01, 15.6, 18.9, 18.12, 17.97, 14.8, 24.07, 20.58, 17.68, 20.68, 16.5, 15.68, 16.36, 21.72, 16.36, 12.07, 19.5, 17.68, 18.51, 10.8, 13.2, 21.76, 17.05, 10.9, 14.74, 20.68, 21.76, 11.57, 19.2, 10.91, 19.0, 14.7, 11.74, 26.59, 19.6, 23.1, 14.21, 9.52, 23.1, 17.11, 17.54, 18.88, 14.8, 9.52, 11.36, 17.9, 18.0, 23.1, 14.94, 18.88, 18.12, 12.4, 18.49, 14.94, 22.5, 16.77, 13.0, 17.9, 11.57, 14.74, 18.9, 15.97, 17.9, 19.16, 11.57, 19.27, 13.22, 17.11, 15.68, 14.21, 9.9, 14.8, 10.91, 17.9, 12.9, 11.57, 14.74, 21.9, 17.11, 11.7, 10.0, 13.01, 17.01, 12.07, 11.57, 19.0, 18.25, 11.7, 14.28, 28.4, 20.68, 12.9, 12.05, 18.9, 13.0, 14.8, 14.62, 15.73, 17.21, 13.7, 18.69, 16.5, 13.0, 16.93, 17.21, 14.8, 0.0, 21.4, 20.7, 19.27, 18.9, 20.51, 14.69, 18.53, 10.98, 20.68, 16.36, 21.76, 19.08, 13.0, 17.9, 18.59, 19.5, 17.97, 19.0, 16.5, 23.1, 19.27, 12.6, 16.82, 17.21, 17.9, 17.9, 11.36, 12.65, 21.5, 19.6, 16.05, 17.01, 14.47, 14.67, 16.0, 12.63, 21.4, 19.0, 17.9, 19.71, 21.5, 17.85, 28.4, 24.07, 12.3, 24.07, 15.87, 17.9, 13.0, 10.37, 14.84, 18.0, 21.5, 12.55, 22.69, 15.04, 12.19, 17.21, 13.33, 14.74, 19.16, 21.9, 26.59, 15.04, 0.0, 16.0, 19.27, 23.1, 12.81, 17.01, 10.6, 15.68, 14.3, 17.11, 18.88, 17.9, 13.0, 22.69, 14.8, 18.9, 19.27, 11.05, 19.16, 15.26, 19.27, 17.9, 18.88, 13.7, 16.0, 15.63, 11.05, 20.68, 19.3, 13.0, 18.0, 0.0, 18.1, 18.9, 22.0, 11.5, 18.0, 18.51, 20.38, 12.83, 15.26, 19.5, 14.84, 17.05, 18.88, 17.11, 21.76, 12.9, 21.4, 13.0, 23.1, 14.3, 13.0, 13.0, 17.44, 17.9, 15.97, 14.84, 18.9, 19.2, 19.33, 17.54, 14.4, 13.0, 16.95, 19.0, 17.05, 12.07, 17.44, 21.76, 17.11, 14.28, 18.9, 12.07, 16.0, 17.9, 14.69, 14.3, 11.36, 18.9, 19.27, 17.9, 16.82, 12.6, 17.21, 11.36, 18.0, 19.27, 19.0, 17.54, 20.38, 14.75, 21.4, 0.0, 24.07, 18.86, 18.53, 20.7, 23.1, 18.5, 16.5, 19.27, 11.57, 17.85, 18.12, 14.0, 18.12, 14.69, 21.76, 18.9, 21.76, 15.5, 21.5, 18.0, 18.19, 16.36, 28.4, 15.5, 15.97, 18.0, 22.69, 23.1, 24.07, 14.8, 22.48, 21.9, 16.2, 18.9, 16.36, 11.36, 16.0, 13.6, 18.5, 19.0, 21.9, 13.7, 15.3, 12.9, 19.16, 18.9, 12.05, 15.8, 12.51, 18.0, 16.0, 15.2, 15.5, 19.16, 22.5, 16.82, 10.91, 14.69, 16.0, 17.9, 22.48, 19.27, 17.1, 14.69, 16.36, 17.01, 11.3, 17.9, 20.68, 23.84, 0.0, 19.12, 15.06, 16.95, 18.0, 10.91, 18.9, 16.82, 13.0, 15.97, 18.9, 12.9, 19.27, 21.4, 20.7, 14.67, 19.71, 18.88, 13.33, 9.9, 17.6, 11.36, 11.36, 22.5, 18.12, 18.0, 14.8, 17.6, 18.25, 12.62, 14.67, 17.9, 17.11, 21.4, 18.25, 17.9, 12.8, 16.36, 17.9, 14.3, 19.0, 0.0, 9.3, 22.0, 9.3, 17.01, 16.55, 12.95, 21.4, 19.0, 17.0, 18.0, 12.8, 23.1, 18.9, 9.9, 10.5, 10.91, 19.0, 23.1, 13.5, 24.04, 13.22, 16.82, 13.5, 28.4, 12.07, 12.62, 19.27, 16.1, 20.7, 15.5, 17.11, 19.27, 11.36, 8.6, 9.43, 14.3, 17.9, 16.36, 19.27, 18.88, 17.9, 18.1, 10.37, 14.62, 18.0, 20.51, 12.62, 18.9, 10.91, 13.5, 13.5, 0.0, 16.6, 20.51, 22.0, 17.0, 22.5, 18.0, 12.5, 20.0, 19.59, 9.0, 10.0, 23.1, 23.1, 18.12, 12.05, 17.97, 14.33, 20.68, 14.75, 6.4, 11.0, 7.94, 24.07, 18.9, 21.9, 14.28, 18.0, 21.4, 13.6, 0.0, 16.0, 20.89, 21.5, 24.3, 24.3, 12.0, 18.9, 16.36, 21.4, 19.0, 13.6, 19.0, 20.7, 23.84, 22.5, 16.05, 19.0, 18.56, 14.28, 20.3, 13.6, 21.5], \"xaxis\": \"x\", \"y\": [7.5, 13.0, 6.0, 12.3, 4.24, 12.0, 9.75, 12.0, 1.5, 17.49, 3.0, 16.5, 18.75, 6.58, 16.75, 4.65, 18.5, 9.0, 8.5, 3.0, 4.7, 10.0, 12.5, 56.0, 7.0, 13.5, 11.0, 18.0, 2.6, 21.99, 16.5, 12.99, 7.75, 18.0, 10.5, 30.0, 6.95, 5.75, 2.65, 7.1, 16.5, 13.99, 31.41, 14.0, 19.25, 3.8, 4.5, 10.0, 6.75, 10.5, 11.5, 7.99, 6.5, 2.75, 20.0, 18.0, 12.9, 8.0, 14.4, 19.0, 4.0, 16.5, 6.21, 23.29, 17.5, 4.35, 20.5, 11.99, 13.8, 14.5, 19.0, 2.5, 11.0, 5.75, 9.92, 8.85, 3.0, 30.5, 10.75, 23.58, 13.75, 16.5, 4.65, 19.99, 21.67, 18.46, 4.0, 17.0, 14.41, 19.0, 8.5, 14.5, 24.75, 2.05, 38.0, 32.0, 10.9, 11.5, 25.0, 11.5, 1.96, 32.5, 10.5, 2.21, 10.0, 12.95, 17.5, 25.0, 22.0, 62.67, 3.75, 85.0, 8.0, 16.75, 6.5, 4.62, 18.98, 15.5, 29.67, 19.6, 8.5, 17.5, 3.0, 10.0, 2.85, 6.75, 23.19, 20.5, 12.5, 4.8, 12.0, 5.25, 17.15, 2.6, 17.5, 26.5, 15.0, 16.14, 10.6, 7.25, 19.75, 16.0, 17.56, 28.55, 9.25, 9.47, 2.45, 9.2, 13.9, 26.0, 6.5, 21.5, 17.75, 22.5, 17.75, 19.5, 11.0, 16.8, 6.3, 2.8, 3.71, 13.95, 16.57, 4.0, 4.0, 4.19, 13.99, 22.5, 15.0, 27.0, 6.45, 5.25, 36.5, 16.25, 7.98, 16.25, 25.71, 17.23, 15.5, 15.0, 6.67, 17.0, 5.4, 5.9, 17.18, 20.37, 3.25, 19.0, 18.25, 9.5, 8.0, 13.08, 9.75, 28.0, 21.0, 9.99, 38.75, 6.25, 7.5, 5.5, 13.95, 17.5, 28.0, 10.0, 21.0, 23.0, 52.54, 17.75, 10.75, 6.5, 4.45, 2.6, 7.5, 6.5, 6.75, 36.0, 6.0, 16.5, 12.75, 16.77, 11.99, 28.63, 7.5, 5.4, 18.5, 17.5, 16.85, 7.25, 13.9, 7.5, 7.95, 10.9, 3.25, 22.75, 14.4, 14.5, 9.29, 23.68, 3.43, 17.5, 10.75, 3.0, 25.0, 9.5, 9.5, 2.8, 7.25, 19.5, 14.2, 2.0, 29.77, 16.5, 41.0, 39.0, 4.85, 17.0, 18.5, 5.25, 18.25, 15.0, 17.75, 10.99, 15.5, 28.0, 3.57, 4.15, 5.5, 7.2, 24.0, 3.41, 3.99, 5.34, 4.5, 19.5, 15.0, 8.0, 11.27, 4.25, 18.64, 2.85, 14.35, 8.31, 5.5, 6.5, 35.0, 22.75, 6.51, 10.99, 30.45, 10.0, 2.4, 5.53, 18.25, 8.75, 58.0, 19.0, 8.79, 65.81, 14.12, 16.58, 30.37, 4.25, 27.95, 24.0, 17.5, 7.5, 7.75, 9.5, 11.0, 9.44, 27.5, 4.95, 13.9, 15.0, 2.3, 11.5, 9.25, 18.5, 12.95, 5.25, 8.25, 7.75, 12.5, 5.23, 17.08, 34.54, 10.69, 3.5, 3.3, 30.72, 3.8, 14.5, 17.51, 14.4, 12.5, 10.4, 18.06, 32.52, 9.06, 39.0, 4.75, 3.25, 27.0, 15.5, 11.0, 5.5, 3.2, 12.5, 29.0, 6.0, 16.5, 15.5, 9.14, 5.35, 5.45, 2.4, 15.0, 6.8, 21.5, 11.99, 20.57, 3.1, 9.86, 10.3, 5.0, 23.99, 13.0, 40.0, 10.3, 17.55, 35.0, 11.0, 18.0, 27.0, 19.48, 15.8, 8.5, 23.5, 12.5, 19.0, 5.72, 50.0, 2.85, 54.0, 4.5, 16.25, 38.0, 18.5, 10.25, 2.25, 19.75, 5.25, 12.5, 3.87, 13.5, 8.5, 25.12, 24.74, 8.9, 11.75, 18.0, 29.5, 22.0, 4.8, 9.75, 15.75, 27.5, 8.95, 11.5, 11.03, 18.75, 9.25, 2.45, 14.5, 4.7, 7.0, 10.0, 25.02, 15.49, 70.0, 5.43, 10.5, 5.96, 23.0, 30.0, 3.7, 10.75, 3.9, 7.25, 11.5, 5.7, 10.75, 21.0, 38.0, 12.5, 13.5, 21.75, 3.5, 32.73, 20.14, 20.72, 11.5, 31.75, 12.75, 67.83, 16.0, 21.26, 6.75, 11.95, 29.0, 7.5, 14.0, 6.25, 16.0, 16.5, 34.0, 21.5, 10.5, 8.99, 3.45, 11.5, 29.93, 19.9, 8.55, 4.2, 10.5, 12.5, 15.65, 28.0, 5.42, 16.56, 22.58, 13.96, 13.25, 23.0, 3.95, 30.8, 17.5, 1.85, 36.0, 34.5, 26.0, 13.5, 65.0, 14.22, 4.75, 10.95, 4.5, 14.5, 19.0, 21.33, 5.89, 2.9, 6.62, 20.12, 3.75, 25.0, 7.0, 3.55, 12.5, 44.5, 3.75, 10.55, 2.65, 3.31, 19.94, 20.77, 5.57, 14.23, 5.65, 4.39, 8.5, 17.5, 21.73, 14.5, 28.88, 12.5, 3.75, 11.0, 8.25, 25.0, 5.91, 8.3, 6.42, 3.49, 3.1, 9.1, 45.82, 24.94, 22.45, 29.64, 51.52, 4.5, 14.5, 7.25, 10.35, 24.0, 22.0, 4.45, 17.55, 21.0, 4.49, 4.45, 5.5, 10.2, 16.0, 16.0, 2.99, 27.0, 3.8, 25.0, 45.0, 4.65, 14.5, 23.5, 20.0, 23.5, 18.0, 18.5, 20.11, 5.8, 4.88, 10.49, 29.2, 23.41, 68.0, 26.5, 5.25, 36.75, 21.0, 21.9, 10.0, 11.5, 12.5, 23.75, 24.22, 14.25, 28.03, 16.52, 27.75, 8.0, 27.5, 2.95, 14.5, 19.86, 9.69, 27.0, 9.19, 9.6, 13.5, 32.0, 17.0, 15.75, 17.98, 11.0, 18.5, 15.3, 19.5, 26.7, 4.4, 48.0, 11.5, 11.75, 27.0, 7.5, 3.5, 31.0, 5.4, 25.82, 3.6, 20.04, 7.75, 21.56, 6.5, 18.0, 6.51, 17.25, 2.5, 9.75, 3.4, 4.4, 7.25, 5.15, 15.46, 13.5, 14.05, 50.29, 17.71, 19.8, 3.45, 62.81, 8.0, 4.38, 51.69, 3.85, 20.75, 13.25, 33.5, 22.75, 35.0, 45.0, 8.25, 30.0, 34.5, 2.99, 29.5, 24.0, 8.22, 23.5, 18.12, 35.92, 15.21, 42.83, 11.5, 24.99, 28.45, 3.9, 36.15, 8.4, 12.0, 31.0, 8.5, 12.5, 9.99, 67.0, 16.0, 13.5, 19.5, 21.75, 7.25, 28.0, 52.0, 5.7, 3.5, 3.75, 60.95, 5.37, 7.3, 16.67, 6.35, 30.35, 9.86, 3.65, 6.5, 5.85, 17.0, 4.0, 16.81, 10.0, 21.99, 6.11, 13.25, 7.5, 18.0, 17.55, 4.5, 2.9, 6.0, 29.0, 20.5, 16.75, 38.94, 6.89, 4.28, 4.41, 4.29, 17.85, 29.0, 20.5, 13.75, 4.0, 3.8, 4.75, 23.0, 36.0, 9.5, 4.75, 8.08, 44.76, 7.5, 10.11, 9.0, 19.5, 29.95, 25.49, 39.75, 19.5, 24.5, 24.0, 35.0, 49.0, 25.0, 42.0, 45.77, 32.5, 17.27, 19.03, 30.27, 21.95, 27.0, 21.99, 29.52, 8.89, 34.88, 48.91, 17.0, 25.0, 21.94, 27.5, 11.5, 17.0, 7.75, 4.5, 5.64, 10.5, 7.9, 33.5, 21.5, 8.75, 22.25, 13.0, 6.9, 6.95, 3.0, 43.3, 10.75, 8.27, 24.9, 31.12, 21.95, 19.0, 14.79, 25.93, 3.84, 29.0, 51.0, 35.0, 30.0, 47.5, 8.25, 25.0, 11.69, 45.0, 13.5, 7.5, 45.0, 7.41, 36.0, 48.0, 21.0, 38.0, 15.0, 8.5, 49.0, 25.0, 6.0, 17.5, 3.9, 23.89, 4.0, 45.64, 3.79, 45.0, 14.49, 8.9, 22.99, 15.5, 15.45, 19.0, 29.0, 19.25, 8.95, 8.5, 48.5, 10.49, 39.58, 17.5, 23.32, 20.99, 20.87, 12.07, 18.25, 50.5, 5.1, 13.5, 22.0, 29.0, 5.0, 26.5, 18.75, 20.26, 59.0, 2.95, 26.5, 21.6, 6.99, 16.0, 16.25, 9.75, 35.68, 48.22, 31.8, 3.94, 8.73, 20.25, 8.37, 14.5, 5.21, 38.72, 30.0, 19.0, 4.5, 13.9, 64.75, 29.5, 24.5, 41.5, 5.4, 25.5, 43.35, 29.6, 16.11, 6.93, 6.1, 6.15, 8.59, 3.75, 8.85, 12.5, 16.0, 36.0, 8.5, 9.95, 16.5, 24.0, 5.1, 4.9, 28.0, 10.99, 26.0, 23.25, 19.5, 8.41, 20.67, 23.68, 6.34, 19.41, 10.3, 13.19, 42.5, 13.5, 23.0, 50.22, 3.48, 41.75, 5.96, 4.25, 25.0, 40.0, 11.5, 21.5, 11.5, 56.0, 6.99, 5.25, 34.0, 3.35, 27.0, 37.9, 13.5, 15.25, 7.5, 28.5, 57.0, 25.0, 17.95, 8.01, 25.81, 7.12, 4.55, 13.5, 24.68, 42.5, 13.83, 32.8, 34.51, 1.5, 32.5, 4.3, 2.65, 6.2, 44.0, 5.6, 7.58, 36.83, 20.28, 16.75, 9.0, 17.11, 50.66, 29.0, 10.24, 20.5, 38.15, 31.94, 34.18, 24.85, 26.5, 39.5, 17.5, 26.5, 10.75, 12.5, 12.49, 9.31, 39.47, 8.95, 12.46, 5.25, 10.48, 42.91, 18.0, 31.93, 22.24, 24.36, 21.8, 11.57, 6.25, 9.73, 4.34, 19.6, 24.25, 23.5, 5.5, 22.99, 24.95, 22.0, 3.4, 28.75, 5.45, 9.6, 32.78, 9.0, 19.92, 16.68, 44.83, 14.14, 42.0, 37.98, 11.77, 18.49, 26.5, 28.79, 38.76, 24.63, 37.56, 5.08, 5.25, 6.25, 6.0, 25.5, 10.5, 5.45, 45.0, 18.5, 13.75, 24.75, 24.82, 17.74, 7.2, 25.72, 4.45, 43.74, 70.8, 14.5, 41.5, 30.0, 16.45, 17.5, 24.0, 22.95, 45.0, 5.25, 9.5, 24.0, 22.5, 14.5, 22.0, 24.5, 6.55, 35.28, 25.75, 40.66, 9.25, 29.5, 8.29, 6.99, 25.64, 9.25, 13.85, 27.0, 34.0, 15.0, 13.5, 18.9, 4.55, 9.5, 4.45, 3.49, 32.5, 17.0, 8.47, 29.98, 13.23, 70.66, 4.99, 32.91, 4.25, 8.5, 16.0, 38.95, 12.0, 30.48, 20.0, 6.25, 11.6, 39.0, 29.0, 24.0, 19.5, 45.0, 13.51, 23.99, 35.0, 5.23, 31.62, 4.5, 9.1, 13.95, 22.5, 25.71, 16.75, 32.0, 32.0, 29.98, 6.46, 11.96, 3.41, 5.43, 5.44, 5.77, 10.97, 21.0, 36.0, 14.0, 15.0, 6.75, 17.0, 2.95, 13.0, 32.64, 9.48, 32.25, 39.84, 39.47, 4.25, 32.57, 4.3, 19.9, 72.0, 7.5, 33.0, 7.22, 6.3, 55.76, 16.25, 21.5, 10.15, 16.0, 23.0, 14.0, 22.0, 4.65, 9.45, 17.5, 9.48, 43.78, 6.69, 25.02, 18.58, 22.99, 19.0, 30.0, 5.25, 3.2, 22.0, 7.0, 5.5, 5.75, 11.5, 29.0, 41.6, 29.5, 4.45, 21.0, 52.0, 23.5, 25.75, 20.99, 4.25, 11.5, 7.7, 14.7, 32.0, 23.0, 5.5, 53.83, 5.95, 4.6, 24.5, 12.08, 11.86, 7.29, 20.0, 22.5, 35.84, 6.5, 19.25, 11.0, 19.0, 3.85, 20.0, 13.65, 22.0, 13.0, 36.0, 9.95, 7.99, 4.35, 25.5, 22.0, 5.91, 37.0, 9.03, 4.9, 64.87, 9.6, 19.75, 4.4, 7.25, 3.2, 22.0, 8.7, 16.0, 7.25, 14.5, 43.0, 2.85, 3.99, 18.55, 2.5, 8.9, 12.6, 30.29, 3.83, 14.76, 20.0, 3.23, 34.78, 37.3, 48.76, 8.0, 26.75, 45.62, 14.35, 24.51, 30.5, 23.8, 5.41, 25.31, 5.1, 9.2, 5.55, 8.11, 5.25, 15.5, 8.5, 4.8, 30.5, 7.99, 11.0, 4.56, 17.22, 26.78, 29.4, 4.15, 59.72, 26.75, 10.5, 30.54, 49.79, 16.61, 18.95, 27.0, 13.5, 17.65, 29.95, 29.5, 31.0, 29.5, 29.3, 25.99, 59.29, 3.32, 32.44, 7.42, 17.08, 10.5, 7.65, 11.44, 3.49, 26.0, 45.0, 3.8, 27.0, 45.0, 22.0, 11.0, 49.0, 19.25, 26.0, 8.65, 4.25, 9.8, 22.0, 31.5, 8.95, 8.2, 24.5, 4.25, 43.6, 13.77, 25.75, 61.29, 11.5, 4.9, 43.0, 50.97, 27.0, 59.65, 39.41, 45.52, 25.75, 34.08, 29.0, 32.0, 11.25, 29.8, 57.0, 31.0, 65.0, 20.0, 2.8, 26.0, 10.0, 7.56, 21.37, 5.49, 53.11, 60.75, 6.86, 24.37, 9.35, 17.49, 9.15, 28.5, 30.85, 93.67, 7.22, 31.75, 11.56, 13.9, 23.75, 7.25, 26.0, 8.0, 4.95, 11.85, 7.75, 8.25, 10.44, 49.24, 6.41, 24.77, 39.05, 6.89, 5.18, 48.63, 16.5, 15.95, 29.0, 26.52, 35.0, 8.6, 11.45, 23.0, 48.0, 14.95, 6.75, 5.95, 4.15, 4.25, 33.64, 51.43, 35.67, 7.4, 24.46, 40.47, 19.97, 97.07, 3.65, 10.0, 7.65, 12.65, 75.0, 26.0, 16.46, 55.7, 7.54, 8.86, 56.73, 37.93, 8.95, 75.0, 8.37, 3.95, 22.0, 3.5, 60.0, 45.0, 12.75, 30.0, 21.0, 9.45, 9.45, 32.0, 17.99, 26.0, 44.0, 7.75, 160.0, 14.85, 25.0, 3.19, 8.08, 27.15, 28.0, 16.52, 39.45, 4.55, 56.14, 5.95, 8.75, 33.5, 8.75, 25.0, 28.0, 46.95, 14.36, 33.66, 4.75, 7.08, 33.66, 40.5, 26.11, 45.61, 39.22, 27.43, 19.9, 25.0, 15.5, 6.8, 37.0, 28.75, 15.75, 10.95, 11.97, 49.22, 55.54, 7.6, 8.89, 70.99, 11.66, 32.73, 22.5, 35.0, 41.5, 16.0, 14.0, 11.5, 16.5, 23.45, 37.92, 33.13, 7.89, 70.15, 4.65, 9.72, 13.49, 56.8, 28.95, 56.0, 55.0, 23.5, 5.4, 2.6, 52.0, 44.0, 4.45, 36.0, 3.96, 6.35, 33.0, 52.5, 21.5, 35.0, 24.5, 18.0, 6.2, 48.0, 16.5, 27.87, 44.56, 7.72, 18.36, 7.55, 39.62, 30.3, 35.98, 51.35, 5.2, 18.0, 14.21, 38.5, 9.27, 68.94, 19.25, 67.0, 5.74, 47.35, 4.0, 32.0, 35.5, 23.5, 4.7, 12.0, 5.99, 33.0, 64.95, 75.0, 35.84, 17.63, 40.5, 47.7, 36.5, 6.93, 29.99, 4.75, 10.0, 8.95, 15.5, 38.0, 8.9, 6.25, 44.0, 10.65, 21.0, 3.95, 3.9, 12.41, 45.86, 3.41, 45.73, 5.4, 25.7, 18.25, 9.25, 22.0, 6.2, 6.95, 2.38, 26.76, 54.45, 58.73, 32.0, 5.99, 93.0, 37.99, 58.91, 11.6, 9.5, 9.75, 17.25, 32.0, 3.95, 22.0, 31.0, 44.0, 9.5, 34.0, 42.75, 30.3, 11.6, 48.0, 32.0, 5.95, 56.0, 36.76, 36.64, 6.97, 35.67, 9.95, 13.5, 3.85, 12.69, 33.0, 5.5, 35.0, 69.5, 70.0, 5.35, 30.0, 28.5, 8.6, 31.55, 20.75, 38.5, 35.55, 2.02, 27.35, 17.85, 19.64, 19.4, 4.5, 35.0, 11.5, 9.99, 11.25, 43.0, 31.99, 27.3, 28.25, 21.43, 9.51, 21.66, 25.51, 25.46, 33.63, 30.77, 9.19, 54.0, 38.99, 3.25, 8.5, 3.25, 14.5, 23.0, 17.75, 9.89, 9.15, 11.5, 12.5, 25.64, 5.63, 6.84, 29.5, 79.0, 33.5, 6.0, 4.25, 28.0, 3.25, 32.95, 28.5, 27.11, 7.5, 70.36, 31.15, 37.5, 56.5, 29.5, 16.0, 28.0, 39.51, 19.65, 64.0, 75.0, 8.9, 48.5, 44.0, 36.0, 30.0, 28.9, 55.0, 58.54, 16.35, 78.8, 4.25, 32.9, 5.45, 35.5, 34.5, 26.5, 39.5, 23.0, 4.22, 8.3, 12.85, 4.15, 9.45, 100.0, 19.75, 33.75, 43.0, 48.0, 5.0, 4.35, 46.0, 9.75, 3.65, 35.0, 27.75, 72.94, 120.0, 79.0, 47.5, 4.25, 6.76, 3.6, 16.95, 12.5, 7.75, 38.0, 35.0, 17.75, 7.36, 12.25, 11.5, 11.25, 90.0, 6.2, 52.5, 8.85, 8.25, 39.75, 83.96, 34.0, 5.0, 4.45, 11.37, 7.8, 61.25, 20.0, 6.85, 40.0, 6.25], \"yaxis\": \"y\"}, {\"hoverlabel\": {\"namelength\": 0}, \"hovertemplate\": \"Transmission=Manual<br>Mileage=%{x}<br>Price=%{y}\", \"legendgroup\": \"Transmission=Manual\", \"marker\": {\"color\": \"#EF553B\", \"symbol\": \"circle\"}, \"mode\": \"markers\", \"name\": \"Transmission=Manual\", \"showlegend\": true, \"type\": \"scattergl\", \"x\": [20.54, 20.36, 17.4, 18.5, 17.0, 12.8, 13.14, 12.8, 12.99, 12.99, 12.8, 12.99, 12.8, 11.5, 14.0, 11.5, 17.0, 12.4, 23.59, 17.8, 14.02, 12.99, 13.1, 17.88, 0.0, 17.2, 12.8, 16.8, 12.8, 11.68, 23.4, 12.8, 12.99, 11.5, 13.6, 12.8, 11.5, 16.78, 13.0, 12.8, 20.5, 10.9, 22.3, 11.56, 23.59, 12.8, 25.0, 23.5, 10.5, 20.54, 19.0, 11.5, 12.8, 22.54, 16.8, 24.4, 14.24, 20.0, 14.95, 23.4, 20.77, 11.68, 19.09, 0.0, 19.3, 12.99, 16.1, 19.01, 12.99, 12.8, 13.1, 23.4, 10.5, 22.9, 18.1, 17.0, 12.99, 19.0, 17.8, 12.8, 14.07, 12.55, 12.99, 21.43, 12.8, 19.87, 9.5, 15.4, 13.1, 13.1, 20.77, 17.8, 13.5, 11.5, 14.24, 14.7, 28.4, 13.1, 25.0, 23.59, 18.1, 23.59, 21.64, 28.4, 20.54, 12.99, 12.4, 18.5, 11.5, 19.01, 11.5, 14.66, 23.4, 21.12, 22.7, 12.8, 12.99, 12.99, 21.1, 11.5, 19.1, 15.4, 15.3, 18.9, 20.4, 12.8, 12.8, 12.05, 11.5, 20.54, 26.59, 16.0, 22.0, 17.8, 14.2, 19.01, 12.8, 18.9, 20.3, 14.24, 15.26, 17.8, 20.0, 13.0, 12.8, 17.8, 15.1, 11.5, 17.1, 18.2, 17.0, 25.8, 22.3, 13.9, 15.3, 17.92, 12.8, 11.5, 13.1, 22.7, 19.01, 17.8, 13.8, 11.5, 24.4, 18.9, 18.0, 16.8, 16.8, 13.5, 18.7, 14.95, 16.78, 13.0, 26.59, 12.99, 10.5, 16.0, 19.3, 25.47, 19.3, 19.3, 20.54, 13.1, 13.2, 19.3, 21.64, 19.64, 25.2, 14.0, 23.4, 20.3, 20.0, 14.95, 10.5, 13.8, 21.27, 25.0, 19.09, 22.32, 16.0, 19.2, 25.8, 14.42, 21.1, 19.0, 12.8, 12.8, 16.8, 15.1, 17.0, 16.0, 16.8, 13.0, 22.7, 21.64, 20.54, 13.5, 16.6, 14.8, 22.95, 19.7, 17.0, 18.9, 12.99, 23.03, 13.6, 19.3, 23.08, 15.1, 13.2, 17.8, 13.0, 12.55, 17.5, 17.0, 12.55, 12.8, 11.5, 22.95, 15.04, 12.99, 13.68, 20.64, 24.0, 17.8, 15.0, 16.4, 24.52, 13.93, 21.64, 20.0, 12.8, 16.2, 18.1, 22.3, 15.4, 13.93, 17.8, 22.9, 20.77, 15.5, 18.0, 0.0, 15.1, 23.2, 18.6, 22.9, 18.9, 12.7, 12.99, 13.1, 17.7, 13.1, 10.2, 21.0, 12.9, 22.54, 16.2, 12.8, 12.8, 12.8, 12.9, 22.32, 21.64, 17.8, 13.0, 18.0, 24.0, 15.1, 21.43, 10.5, 23.59, 15.8, 10.9, 25.2, 25.83, 20.54, 28.4, 13.0, 18.6, 17.3, 17.92, 19.33, 17.0, 12.99, 15.6, 23.0, 17.5, 15.1, 17.8, 24.52, 12.8, 12.8, 18.6, 17.8, 23.59, 18.9, 21.1, 20.0, 19.01, 17.67, 21.0, 14.24, 22.3, 18.9, 25.8, 28.4, 15.1, 13.5, 19.3, 13.5, 13.2, 20.54, 22.0, 25.44, 17.5, 14.0, 12.99, 13.0, 16.9, 15.3, 20.0, 20.54, 16.8, 25.2, 17.0, 17.0, 13.5, 13.0, 20.0, 22.07, 16.95, 16.6, 17.8, 21.03, 17.8, 21.27, 20.85, 13.0, 24.4, 12.99, 14.0, 14.24, 12.99, 0.0, 12.05, 15.96, 20.77, 19.3, 18.7, 25.2, 25.47, 12.05, 12.8, 13.7, 23.59, 15.0, 22.32, 19.01, 18.9, 12.6, 15.64, 13.93, 28.4, 16.0, 19.87, 12.99, 15.6, 17.0, 12.99, 17.0, 17.3, 20.5, 17.3, 18.9, 25.0, 22.95, 16.9, 25.0, 25.0, 18.8, 12.05, 13.1, 20.0, 16.6, 11.5, 12.8, 23.08, 25.83, 12.99, 13.5, 17.57, 17.0, 20.92, 11.5, 15.3, 23.4, 16.8, 14.49, 13.0, 12.7, 12.99, 15.8, 17.8, 19.3, 19.7, 18.5, 24.4, 17.0, 11.5, 24.4, 20.54, 17.72, 23.2, 22.9, 11.5, 22.3, 22.54, 17.3, 12.05, 17.0, 13.0, 0.0, 18.7, 13.6, 14.7, 25.44, 22.95, 13.0, 13.8, 22.7, 15.4, 27.39, 22.9, 22.32, 20.86, 12.8, 14.42, 16.02, 10.8, 25.8, 17.1, 25.8, 17.67, 13.17, 23.2, 12.55, 20.45, 27.3, 20.0, 12.05, 22.0, 0.0, 12.99, 21.1, 22.74, 23.4, 17.88, 23.5, 20.36, 17.0, 25.83, 13.2, 20.54, 17.92, 17.3, 17.3, 22.9, 16.2, 22.32, 17.0, 18.5, 20.0, 12.8, 15.9, 16.9, 15.1, 21.64, 12.8, 16.8, 15.3, 22.9, 17.0, 19.7, 21.9, 19.7, 22.07, 18.9, 12.8, 17.0, 14.0, 24.52, 23.19, 23.0, 17.2, 22.7, 14.02, 10.5, 0.0, 20.5, 15.7, 18.9, 14.0, 23.5, 14.28, 20.45, 20.5, 20.0, 22.7, 15.4, 18.5, 22.7, 12.99, 13.68, 10.5, 10.8, 13.6, 12.99, 11.5, 16.1, 26.83, 26.2, 22.32, 22.9, 15.5, 13.5, 20.0, 17.0, 14.8, 13.8, 18.5, 14.95, 11.5, 20.92, 12.99, 18.0, 25.8, 17.7, 26.59, 18.9, 21.1, 23.2, 19.87, 16.8, 19.3, 20.54, 14.0, 16.1, 15.1, 26.2, 16.1, 21.1, 20.0, 20.92, 22.07, 17.21, 17.0, 10.9, 13.93, 20.0, 21.03, 12.99, 17.3, 12.99, 21.5, 15.3, 21.5, 25.8, 16.8, 23.0, 13.8, 17.3, 26.21, 19.7, 20.34, 13.93, 26.0, 19.01, 15.1, 16.95, 19.87, 18.9, 10.5, 20.0, 20.36, 22.7, 19.4, 12.05, 19.3, 14.0, 26.6, 12.7, 22.0, 25.8, 21.43, 17.8, 17.8, 11.1, 16.8, 17.01, 25.2, 0.0, 13.5, 16.0, 13.4, 22.32, 13.5, 23.2, 16.0, 23.2, 24.07, 16.0, 17.0, 18.7, 19.3, 22.9, 16.0, 23.4, 19.1, 18.7, 20.77, 25.44, 21.64, 16.0, 15.1, 13.4, 14.53, 0.0, 21.8, 14.7, 17.0, 15.1, 15.4, 25.2, 15.6, 12.05, 13.5, 15.3, 20.45, 20.77, 23.08, 17.0, 23.08, 16.1, 17.8, 21.12, 12.99, 22.07, 22.54, 15.1, 25.47, 20.36, 17.8, 15.1, 13.93, 22.74, 19.5, 14.53, 11.5, 19.4, 18.9, 14.8, 11.9, 15.3, 20.77, 22.7, 22.9, 26.59, 19.81, 20.77, 21.1, 22.32, 12.4, 17.0, 12.99, 23.2, 18.06, 20.34, 23.9, 19.0, 17.8, 14.95, 17.5, 13.8, 13.0, 0.0, 20.0, 15.0, 16.51, 19.01, 24.3, 13.49, 12.05, 19.7, 9.5, 15.3, 15.3, 20.36, 15.1, 25.8, 21.1, 26.0, 12.99, 15.5, 23.4, 14.0, 13.0, 26.21, 17.8, 20.0, 17.3, 18.88, 20.36, 22.9, 20.0, 17.8, 28.4, 23.59, 17.72, 19.81, 22.07, 16.8, 12.05, 20.36, 19.81, 16.1, 19.67, 26.6, 14.0, 22.32, 25.44, 22.32, 19.68, 17.0, 18.6, 19.3, 22.9, 14.28, 12.8, 15.4, 19.01, 17.0, 17.8, 23.2, 12.05, 17.5, 16.0, 14.2, 23.4, 19.81, 23.08, 23.0, 16.52, 19.09, 23.08, 15.64, 14.0, 21.14, 19.3, 28.09, 20.54, 16.8, 15.96, 19.01, 25.44, 20.14, 16.0, 13.06, 16.02, 14.0, 23.65, 13.6, 23.0, 17.5, 12.8, 19.81, 16.52, 15.1, 20.77, 21.4, 12.8, 14.02, 20.0, 17.8, 18.5, 16.0, 24.4, 0.0, 13.5, 13.8, 14.0, 22.9, 18.7, 18.9, 25.6, 24.0, 26.59, 19.3, 20.0, 17.8, 18.9, 21.43, 19.7, 15.8, 19.0, 12.99, 20.36, 21.19, 20.14, 18.9, 16.0, 12.05, 25.2, 12.8, 20.92, 25.44, 15.1, 15.26, 15.9, 25.8, 17.92, 12.8, 22.9, 20.14, 17.0, 23.4, 25.1, 18.5, 12.99, 15.3, 25.0, 17.21, 16.0, 17.0, 21.1, 17.92, 27.62, 25.0, 17.71, 17.3, 22.7, 20.4, 13.5, 24.4, 17.3, 12.8, 19.5, 22.77, 24.3, 18.7, 14.49, 12.8, 15.1, 10.2, 19.72, 12.0, 22.32, 12.6, 13.9, 11.5, 24.52, 24.2, 23.4, 20.4, 13.2, 20.54, 13.93, 17.8, 18.9, 21.5, 22.3, 17.0, 20.14, 25.4, 23.57, 22.9, 14.0, 15.1, 21.27, 17.8, 15.5, 21.1, 20.77, 19.87, 17.0, 16.8, 33.54, 21.1, 21.1, 22.0, 22.71, 18.5, 13.4, 23.5, 24.0, 9.8, 23.59, 18.4, 17.8, 23.2, 16.47, 15.8, 18.0, 18.9, 17.92, 21.12, 22.7, 13.4, 17.0, 17.67, 24.8, 23.0, 12.8, 16.52, 23.0, 22.07, 23.2, 15.6, 26.0, 16.1, 12.4, 19.67, 17.0, 25.0, 19.3, 15.1, 16.1, 18.6, 19.33, 14.49, 15.0, 17.5, 13.5, 25.0, 20.92, 16.1, 17.8, 22.9, 10.5, 20.0, 12.99, 17.2, 20.45, 20.45, 22.07, 21.5, 21.1, 23.0, 15.6, 17.0, 17.5, 28.4, 23.0, 12.05, 11.57, 20.36, 26.0, 12.99, 26.6, 12.05, 22.07, 23.2, 13.5, 23.1, 19.7, 12.05, 17.4, 25.1, 25.2, 10.5, 16.47, 19.01, 25.8, 24.0, 17.8, 19.7, 18.6, 26.59, 19.3, 17.8, 18.8, 20.0, 13.0, 11.5, 15.0, 16.6, 14.0, 26.3, 24.4, 16.0, 20.36, 19.01, 16.55, 24.0, 13.7, 13.5, 20.14, 25.1, 15.6, 17.5, 22.7, 25.44, 13.93, 18.7, 16.52, 20.46, 25.8, 21.1, 21.1, 25.44, 22.9, 22.32, 18.2, 22.9, 20.14, 22.7, 23.4, 12.8, 18.06, 19.01, 20.36, 22.07, 21.1, 19.7, 23.0, 20.54, 16.1, 24.6, 12.05, 20.77, 11.1, 15.26, 23.4, 15.1, 16.47, 11.5, 16.1, 19.1, 16.8, 22.9, 20.0, 26.0, 17.92, 16.6, 23.2, 21.9, 15.96, 24.4, 21.5, 20.54, 21.1, 17.7, 14.7, 18.9, 12.99, 17.7, 16.47, 13.8, 0.0, 20.46, 19.64, 20.0, 20.45, 25.8, 19.6, 33.54, 20.0, 25.1, 18.9, 21.2, 19.01, 15.1, 19.4, 24.4, 21.43, 21.43, 18.2, 25.44, 16.47, 22.07, 20.36, 16.6, 14.66, 28.4, 12.55, 25.1, 19.01, 22.32, 20.77, 22.07, 22.0, 21.9, 23.1, 23.59, 20.46, 22.07, 17.0, 12.83, 15.1, 19.6, 19.01, 19.7, 13.0, 20.0, 13.0, 15.1, 21.1, 22.9, 17.0, 17.4, 13.0, 24.0, 26.0, 24.7, 23.4, 16.0, 18.3, 12.05, 24.4, 21.12, 25.17, 13.68, 25.0, 17.0, 17.01, 22.7, 14.4, 21.1, 22.32, 25.44, 12.99, 19.81, 14.24, 12.05, 22.5, 25.83, 22.77, 18.5, 21.9, 23.4, 16.47, 15.1, 17.5, 18.0, 20.36, 26.2, 23.59, 15.7, 13.68, 15.4, 22.7, 25.5, 21.43, 16.8, 15.1, 22.07, 20.5, 26.6, 12.8, 26.2, 16.25, 23.4, 22.95, 22.32, 13.5, 12.05, 19.7, 12.8, 15.5, 16.1, 20.34, 17.0, 17.0, 26.2, 20.0, 13.2, 20.0, 17.0, 22.32, 19.3, 23.08, 17.0, 11.5, 18.7, 10.5, 17.0, 19.7, 24.0, 20.77, 20.5, 23.4, 14.0, 12.9, 25.1, 20.36, 20.0, 17.0, 17.0, 23.08, 17.0, 22.7, 21.9, 17.5, 20.0, 13.06, 17.0, 24.3, 16.0, 17.0, 26.59, 13.5, 19.3, 23.08, 13.0, 17.0, 23.0, 25.2, 13.1, 25.8, 25.1, 16.1, 25.83, 21.1, 18.9, 19.3, 20.54, 20.51, 18.9, 25.1, 15.1, 25.8, 21.9, 20.14, 22.32, 11.25, 12.99, 15.1, 15.04, 25.8, 20.36, 31.79, 15.64, 17.8, 22.7, 15.4, 12.05, 20.0, 17.24, 21.12, 18.6, 20.54, 16.2, 26.2, 19.81, 13.4, 25.83, 16.78, 16.1, 20.92, 17.0, 13.5, 21.64, 16.8, 17.3, 0.0, 0.0, 17.01, 21.1, 14.53, 22.71, 16.9, 13.5, 23.65, 13.4, 20.77, 17.57, 23.59, 14.0, 19.0, 13.1, 12.99, 19.4, 12.05, 21.9, 16.1, 21.1, 12.8, 22.9, 15.26, 19.67, 20.36, 19.81, 15.4, 18.9, 0.0, 26.2, 17.88, 19.6, 19.0, 19.01, 0.0, 13.5, 19.7, 21.43, 15.5, 18.0, 14.2, 17.92, 16.0, 18.6, 17.7, 17.0, 22.32, 22.7, 15.9, 15.8, 17.5, 19.1, 16.02, 23.59, 20.46, 15.6, 22.7, 26.59, 20.92, 23.08, 25.4, 16.6, 19.0, 19.3, 19.5, 13.0, 18.7, 23.4, 20.4, 18.5, 20.54, 16.8, 17.7, 20.36, 12.55, 15.8, 22.7, 20.14, 16.95, 15.11, 17.8, 21.1, 21.1, 26.21, 19.01, 15.96, 15.0, 23.0, 15.6, 26.59, 23.0, 28.4, 19.0, 26.6, 12.55, 18.9, 23.4, 17.92, 22.9, 19.1, 21.1, 19.7, 20.14, 13.1, 18.5, 15.0, 12.8, 20.36, 17.0, 19.7, 25.47, 23.0, 12.8, 19.3, 18.5, 16.02, 16.02, 17.8, 22.07, 15.29, 21.1, 22.7, 16.0, 19.7, 17.01, 21.9, 16.1, 18.9, 22.0, 16.0, 23.0, 25.2, 14.66, 11.68, 10.8, 18.5, 23.08, 17.0, 17.6, 23.1, 17.0, 12.99, 19.4, 23.4, 13.68, 16.0, 20.77, 14.53, 21.27, 24.5, 18.9, 15.04, 17.3, 19.7, 28.09, 17.4, 17.01, 0.0, 20.77, 26.0, 23.0, 19.01, 19.33, 19.87, 15.1, 16.78, 22.32, 23.0, 18.5, 18.49, 22.3, 22.32, 13.68, 13.4, 27.3, 19.0, 17.1, 22.54, 15.3, 20.36, 15.0, 19.7, 21.1, 26.0, 13.8, 18.0, 25.1, 24.0, 19.87, 16.0, 19.5, 17.0, 17.0, 19.0, 20.0, 22.07, 15.5, 22.07, 14.0, 25.44, 17.0, 28.09, 19.01, 13.5, 16.51, 18.6, 20.0, 13.17, 20.14, 17.0, 19.7, 19.7, 25.8, 26.0, 17.0, 15.04, 16.47, 15.04, 15.3, 15.8, 15.1, 22.3, 22.7, 22.32, 25.1, 19.81, 26.0, 17.3, 20.14, 19.81, 18.9, 19.87, 28.4, 22.07, 20.0, 33.44, 26.83, 20.36, 0.0, 20.92, 20.0, 19.87, 14.66, 17.5, 19.01, 22.32, 26.21, 16.0, 22.9, 19.87, 12.8, 19.4, 13.8, 15.1, 17.0, 19.1, 19.7, 16.47, 21.1, 22.9, 17.0, 17.0, 17.3, 14.24, 26.0, 23.59, 17.57, 11.7, 19.7, 24.0, 19.3, 18.6, 18.5, 16.47, 18.9, 13.0, 18.6, 12.8, 18.9, 24.4, 22.3, 15.96, 20.54, 13.6, 17.9, 25.47, 26.0, 24.2, 12.05, 19.01, 16.0, 17.5, 20.0, 25.44, 15.04, 17.5, 19.0, 17.0, 20.14, 22.7, 25.0, 23.2, 22.9, 12.99, 0.0, 26.0, 17.3, 23.2, 22.7, 15.6, 19.3, 15.8, 22.32, 16.47, 16.1, 18.9, 16.0, 21.5, 18.6, 16.47, 13.68, 12.8, 12.8, 31.79, 20.45, 22.77, 21.1, 16.8, 21.9, 19.81, 26.0, 24.3, 20.54, 25.2, 21.9, 22.7, 24.07, 23.2, 17.72, 20.14, 14.7, 17.3, 20.5, 17.3, 17.71, 18.88, 25.8, 18.2, 23.59, 21.9, 21.02, 18.2, 20.77, 21.9, 17.3, 19.7, 17.5, 17.0, 17.0, 17.8, 24.0, 14.53, 22.07, 22.9, 18.5, 25.47, 21.43, 17.4, 18.5, 24.0, 19.67, 19.67, 24.7, 22.74, 27.3, 17.8, 20.45, 23.0, 17.8, 22.7, 28.4, 19.01, 15.1, 15.0, 20.36, 21.7, 13.24, 24.0, 15.3, 24.4, 19.4, 15.5, 22.32, 20.77, 14.53, 24.52, 18.2, 13.4, 20.14, 17.7, 19.72, 14.2, 22.9, 15.96, 25.8, 19.7, 22.07, 16.47, 23.59, 25.2, 15.1, 18.9, 20.34, 20.54, 12.05, 22.7, 20.51, 26.21, 21.19, 17.8, 25.8, 26.6, 23.9, 17.4, 20.36, 15.8, 15.0, 17.0, 26.59, 13.2, 20.36, 23.59, 28.09, 28.4, 17.2, 18.2, 12.99, 11.7, 26.21, 18.5, 11.5, 18.6, 22.77, 17.0, 18.3, 15.26, 18.9, 25.8, 22.07, 18.5, 15.1, 28.4, 20.36, 22.07, 19.01, 20.14, 20.36, 16.47, 22.07, 20.36, 15.0, 20.36, 17.8, 18.0, 20.5, 11.3, 26.6, 23.0, 22.32, 22.32, 18.9, 17.4, 17.8, 22.07, 12.99, 18.3, 16.0, 19.81, 19.0, 20.4, 18.6, 17.8, 19.67, 20.14, 22.7, 14.8, 25.8, 16.0, 17.1, 16.0, 18.9, 17.1, 25.8, 17.3, 0.0, 25.2, 18.9, 23.65, 25.44, 20.45, 19.0, 18.6, 18.6, 17.0, 18.9, 22.1, 22.74, 18.6, 16.1, 15.4, 17.5, 16.2, 25.8, 18.9, 24.7, 23.4, 24.0, 20.73, 16.09, 18.6, 26.0, 23.0, 14.28, 16.8, 19.81, 23.1, 22.32, 21.1, 25.4, 16.47, 25.32, 25.8, 15.6, 14.6, 13.6, 25.8, 0.0, 19.81, 18.9, 25.2, 19.67, 26.1, 17.8, 17.5, 17.0, 26.59, 19.64, 17.3, 20.36, 21.1, 17.92, 21.1, 20.36, 18.9, 24.7, 19.91, 20.0, 22.7, 22.9, 21.9, 16.2, 19.0, 19.64, 17.0, 19.81, 9.8, 20.0, 14.53, 17.3, 17.0, 13.49, 19.4, 17.6, 20.45, 15.0, 17.5, 23.9, 22.07, 22.7, 19.7, 12.99, 17.5, 18.6, 19.81, 23.59, 21.9, 17.92, 22.07, 20.36, 18.2, 26.59, 14.3, 24.4, 17.4, 23.2, 21.9, 10.5, 13.9, 19.87, 23.08, 11.5, 17.8, 19.81, 19.64, 20.14, 20.45, 22.9, 13.8, 18.9, 12.99, 15.1, 23.59, 26.59, 32.26, 25.4, 18.5, 18.6, 19.1, 20.0, 18.2, 15.7, 24.0, 17.5, 20.77, 15.6, 15.1, 17.0, 19.7, 16.47, 25.8, 18.5, 16.1, 20.77, 28.09, 15.26, 13.0, 20.36, 19.81, 20.36, 13.5, 13.5, 22.7, 19.4, 18.5, 12.83, 24.2, 25.8, 24.3, 19.87, 17.21, 17.0, 19.33, 16.47, 20.77, 25.2, 22.32, 18.6, 19.4, 22.74, 18.6, 19.81, 23.1, 17.4, 17.5, 24.0, 19.1, 15.3, 17.8, 23.59, 20.36, 14.66, 0.0, 16.47, 22.9, 21.66, 17.5, 15.0, 14.9, 19.01, 19.64, 24.4, 20.34, 16.47, 22.9, 26.6, 0.0, 23.4, 25.44, 24.4, 17.01, 24.4, 19.01, 23.65, 19.01, 15.1, 15.8, 18.5, 0.0, 17.0, 15.1, 24.0, 15.04, 17.01, 17.0, 13.2, 22.32, 20.34, 19.33, 25.2, 25.8, 21.79, 18.2, 20.4, 12.99, 16.0, 24.0, 23.1, 21.1, 24.0, 18.5, 19.1, 12.8, 18.5, 17.0, 23.59, 19.01, 15.04, 25.2, 17.0, 19.7, 20.5, 18.49, 15.04, 20.36, 24.3, 23.2, 15.04, 17.4, 19.81, 12.83, 26.59, 26.0, 16.47, 16.47, 22.77, 22.7, 17.0, 22.54, 23.9, 20.77, 19.01, 25.8, 22.7, 21.8, 15.8, 24.2, 14.49, 18.6, 26.59, 13.5, 18.6, 20.14, 22.54, 22.74, 15.4, 15.1, 20.64, 20.4, 22.7, 16.0, 15.26, 19.1, 20.0, 28.4, 22.7, 18.49, 17.6, 22.9, 14.24, 17.5, 18.5, 23.4, 13.7, 19.81, 19.64, 15.04, 26.0, 15.0, 16.8, 28.09, 13.45, 12.9, 23.1, 20.4, 24.7, 18.6, 22.9, 16.8, 17.7, 13.2, 19.81, 19.7, 20.36, 11.5, 14.49, 15.04, 16.0, 17.4, 17.0, 22.9, 15.1, 26.0, 22.54, 21.38, 16.3, 20.54, 18.49, 22.07, 16.09, 19.81, 23.65, 21.9, 22.07, 19.0, 19.87, 20.51, 20.36, 17.4, 14.0, 19.4, 18.9, 22.54, 25.44, 20.0, 17.5, 16.47, 22.9, 20.5, 19.87, 20.45, 26.6, 20.5, 18.6, 15.0, 16.47, 16.52, 12.99, 16.0, 15.1, 18.9, 16.8, 22.0, 22.7, 19.81, 16.0, 17.0, 19.87, 24.3, 13.2, 17.5, 20.54, 25.1, 17.6, 12.99, 15.1, 15.9, 21.5, 17.8, 17.6, 20.5, 22.07, 17.8, 22.7, 20.54, 16.95, 15.1, 15.8, 14.0, 14.8, 22.54, 17.0, 13.45, 18.0, 16.1, 13.14, 17.8, 15.1, 21.1, 17.0, 28.4, 20.14, 21.1, 25.2, 20.77, 17.0, 17.5, 21.13, 20.36, 21.02, 22.54, 19.67, 17.4, 12.8, 17.1, 28.09, 17.4, 22.74, 16.47, 15.04, 23.0, 18.88, 25.47, 19.01, 19.81, 17.8, 20.92, 20.0, 23.08, 13.68, 16.0, 20.34, 20.77, 33.54, 20.14, 19.01, 24.4, 18.16, 19.4, 19.87, 18.5, 27.39, 18.9, 19.7, 16.1, 17.0, 20.0, 16.2, 22.9, 19.4, 18.9, 14.28, 25.17, 25.47, 19.0, 17.71, 23.59, 22.7, 26.59, 28.4, 16.1, 18.0, 13.5, 16.8, 16.0, 21.9, 15.8, 13.14, 22.32, 19.4, 19.81, 16.8, 18.6, 20.77, 16.1, 27.28, 17.92, 22.8, 17.8, 17.8, 19.2, 17.71, 19.01, 14.0, 18.6, 26.0, 22.1, 18.9, 20.36, 20.14, 14.0, 15.1, 17.3, 16.47, 20.5, 24.0, 18.9, 19.6, 13.0, 19.67, 18.0, 18.0, 16.02, 22.5, 20.54, 25.44, 19.67, 24.3, 17.0, 15.4, 18.5, 19.81, 16.36, 28.09, 25.2, 17.0, 17.71, 19.7, 19.7, 17.1, 21.64, 20.34, 19.01, 21.43, 18.3, 25.2, 17.01, 16.47, 20.77, 23.4, 16.3, 25.8, 18.15, 15.1, 19.1, 22.32, 15.5, 17.0, 22.9, 20.92, 16.0, 21.43, 17.0, 15.04, 28.4, 18.9, 21.1, 22.5, 19.81, 18.9, 25.0, 21.64, 12.85, 16.1, 25.8, 13.24, 18.6, 21.14, 17.8, 28.09, 17.8, 18.5, 17.1, 20.77, 13.68, 16.1, 22.07, 28.4, 20.73, 15.6, 24.3, 16.8, 16.0, 21.9, 18.9, 25.8, 15.5, 17.8, 19.98, 19.5, 22.74, 18.6, 15.6, 25.8, 20.73, 21.64, 18.9, 16.2, 15.42, 12.8, 12.05, 19.0, 18.0, 24.07, 24.07, 25.47, 18.9, 15.6, 16.47, 24.0, 20.54, 17.9, 0.0, 19.67, 17.01, 20.92, 19.87, 21.9, 20.0, 19.1, 19.67, 25.4, 20.36, 24.4, 20.51, 19.81, 13.5, 16.2, 15.8, 20.0, 17.0, 20.36, 22.9, 21.66, 17.0, 17.0, 20.34, 24.2, 24.2, 18.0, 21.12, 20.36, 18.5, 16.95, 17.0, 0.0, 18.9, 18.9, 15.8, 19.67, 17.0, 20.4, 24.3, 15.0, 21.4, 22.74, 17.3, 18.2, 17.2, 20.36, 16.47, 25.4, 17.5, 12.8, 17.0, 20.54, 22.9, 19.4, 24.2, 19.01, 25.8, 17.8, 23.9, 12.7, 17.0, 18.6, 17.0, 19.4, 18.5, 19.1, 28.09, 18.5, 22.0, 13.2, 20.54, 18.9, 24.0, 24.0, 18.9, 24.52, 19.4, 20.14, 17.0, 20.85, 17.5, 23.59, 21.5, 17.01, 21.19, 21.9, 15.1, 18.7, 20.73, 18.49, 19.49, 17.5, 25.2, 11.68, 19.4, 15.04, 20.34, 20.36, 18.4, 19.7, 17.1, 25.2, 18.6, 14.28, 16.0, 17.4, 24.07, 19.81, 19.81, 18.0, 19.7, 17.4, 25.0, 17.5, 20.36, 18.0, 10.5, 20.73, 23.1, 19.1, 18.6, 27.3, 17.4, 24.07, 26.6, 16.0, 17.0, 17.0, 23.08, 18.6, 24.3, 10.5, 19.1, 13.4, 15.29, 17.57, 16.3, 19.1, 22.32, 19.7, 17.4, 17.0, 18.9, 13.14, 16.0, 24.0, 18.0, 13.68, 28.4, 15.1, 25.8, 19.3, 23.59, 23.1, 18.0, 25.8, 16.0, 18.2, 20.36, 17.01, 25.17, 18.6, 12.99, 20.54, 26.21, 18.9, 21.1, 10.8, 19.1, 15.1, 15.5, 17.5, 25.8, 20.36, 16.02, 20.5, 20.36, 21.02, 14.4, 24.3, 19.67, 18.0, 12.99, 17.0, 33.54, 12.55, 15.8, 20.77, 22.77, 18.49, 23.1, 15.29, 20.36, 20.0, 17.0, 19.0, 21.12, 23.5, 20.64, 17.8, 12.8, 21.64, 22.9, 14.8, 22.32, 21.9, 12.8, 21.64, 12.99, 18.0, 17.5, 22.0, 25.44, 17.57, 25.8, 25.8, 21.27, 18.5, 21.1, 20.36, 16.0, 9.8, 24.07, 24.07, 16.47, 22.77, 17.0, 22.0, 17.0, 21.1, 19.4, 20.73, 22.54, 22.9, 24.0, 27.4, 23.59, 18.9, 16.47, 16.47, 14.07, 19.81, 22.07, 19.01, 26.21, 22.54, 17.0, 20.92, 17.0, 14.28, 15.26, 25.0, 28.09, 20.14, 18.9, 27.39, 15.04, 18.2, 16.47, 13.4, 21.9, 25.6, 17.92, 16.8, 18.9, 10.5, 19.1, 18.5, 22.7, 25.2, 22.74, 27.3, 22.5, 20.77, 15.1, 17.6, 26.0, 17.0, 0.0, 17.0, 27.3, 21.1, 28.4, 25.1, 24.3, 19.01, 25.1, 18.9, 20.36, 18.9, 13.2, 22.7, 23.59, 12.05, 23.5, 25.8, 21.1, 17.0, 12.8, 20.0, 24.3, 19.4, 24.2, 24.0, 16.95, 24.3, 22.1, 22.7, 17.1, 16.0, 18.7, 22.7, 28.09, 25.17, 17.01, 19.4, 25.83, 20.36, 18.44, 22.07, 15.8, 25.2, 22.07, 22.1, 16.7, 14.53, 23.59, 26.0, 20.36, 19.1, 18.6, 16.3, 11.7, 17.0, 23.4, 12.99, 25.8, 22.95, 22.7, 27.4, 21.43, 22.32, 20.5, 17.0, 18.5, 21.1, 15.04, 18.2, 22.95, 15.1, 21.9, 22.07, 19.67, 19.67, 14.6, 18.0, 16.47, 14.53, 20.0, 20.73, 18.5, 18.5, 23.4, 22.54, 15.8, 25.44, 27.3, 19.4, 18.9, 20.73, 25.2, 18.6, 17.6, 32.26, 18.0, 11.7, 18.9, 19.81, 22.54, 22.77, 15.3, 21.14, 22.7, 19.67, 18.06, 17.7, 16.0, 16.47, 18.0, 21.1, 21.4, 15.1, 22.54, 18.9, 20.51, 20.77, 16.0, 17.0, 20.36, 18.0, 17.57, 18.9, 21.1, 22.5, 20.36, 19.4, 20.77, 17.92, 18.88, 23.4, 17.0, 13.68, 19.01, 20.73, 23.59, 17.3, 24.0, 18.9, 18.9, 20.36, 16.47, 16.0, 22.54, 27.3, 19.67, 16.8, 20.5, 18.06, 13.68, 17.0, 18.15, 26.59, 17.0, 20.36, 15.1, 23.2, 19.81, 26.0, 21.38, 17.0, 25.44, 23.84, 23.0, 20.36, 18.6, 20.4, 26.3, 17.8, 17.0, 18.6, 18.9, 19.4, 18.5, 24.0, 19.67, 27.39, 15.1, 17.1, 27.62, 18.3, 23.4, 16.78, 18.0, 17.0, 25.4, 0.0, 16.1, 12.05, 15.6, 17.0, 17.8, 17.0, 17.71, 9.8, 18.6, 19.1, 17.0, 18.2, 18.15, 18.78, 22.7, 27.62, 19.64, 16.02, 17.92, 18.0, 19.7, 16.95, 24.0, 20.4, 25.47, 23.59, 14.49, 18.6, 25.6, 22.5, 18.7, 17.0, 22.7, 15.1, 20.73, 19.1, 19.67, 17.0, 11.5, 21.38, 14.83, 17.01, 17.01, 25.2, 18.5, 24.3, 17.8, 16.0, 20.0, 20.73, 28.09, 18.0, 15.0, 17.92, 23.1, 28.4, 20.36, 16.8, 20.36, 19.67, 19.69, 16.95, 19.87, 25.17, 22.7, 17.0, 28.09, 18.2, 18.9, 19.67, 16.47, 17.0, 19.4, 26.2, 24.6, 20.73, 18.6, 21.14, 20.54, 18.6, 19.5, 28.09, 14.53, 25.44, 14.0, 28.09, 20.36, 19.67, 15.96, 20.73, 18.9, 18.5, 18.6, 18.5, 16.5, 17.19, 19.01, 15.04, 18.06, 22.54, 19.67, 19.3, 21.1, 17.7, 21.64, 17.0, 20.77, 24.3, 26.0, 17.57, 19.1, 18.0, 22.95, 20.4, 20.77, 16.0, 13.0, 22.7, 20.51, 20.14, 17.57, 17.7, 13.24, 18.0, 16.8, 18.9, 15.29, 26.59, 20.45, 18.9, 17.5, 24.3, 13.8, 20.36, 26.6, 15.0, 20.77, 12.55, 17.8, 19.1, 22.5, 20.14, 18.0, 16.0, 15.41, 17.6, 16.0, 22.32, 23.2, 25.8, 18.4, 25.32, 28.4, 18.16, 15.1, 18.2, 15.7, 17.57, 13.5, 28.09, 23.08, 23.08, 26.59, 25.6, 18.6, 18.5, 14.0, 15.04, 17.4, 20.36, 22.07, 18.6, 24.3, 17.8, 23.0, 20.0, 16.47, 19.3, 22.5, 19.1, 21.64, 18.6, 19.67, 25.8, 19.4, 18.9, 17.8, 13.5, 19.1, 17.4, 17.8, 18.7, 23.4, 28.09, 26.59, 17.0, 24.3, 17.8, 21.56, 20.65, 28.09, 21.9, 15.29, 20.36, 18.5, 28.09, 22.9, 19.7, 20.77, 23.9, 15.1, 20.36, 25.8, 27.3, 14.8, 22.5, 24.8, 19.7, 17.4, 25.2, 18.5, 16.47, 19.7, 22.74, 24.52, 24.3, 21.1, 15.6, 16.09, 13.9, 18.6, 16.09, 22.7, 13.68, 24.07, 22.32, 22.32, 26.59, 22.5, 20.4, 15.4, 21.19, 17.45, 17.01, 18.0, 18.6, 18.6, 22.32, 18.5, 17.5, 18.9, 18.2, 20.36, 17.45, 25.1, 25.83, 26.0, 20.85, 19.67, 24.3, 22.77, 20.4, 14.69, 19.67, 20.0, 18.9, 17.1, 17.8, 17.6, 26.0, 16.47, 18.6, 23.0, 20.45, 20.36, 18.6, 21.5, 21.1, 18.9, 16.0, 14.1, 15.1, 23.59, 17.4, 18.9, 17.8, 17.3, 18.2, 18.5, 15.04, 18.2, 20.92, 17.8, 15.29, 18.9, 15.1, 22.77, 16.47, 18.9, 21.1, 19.4, 23.59, 25.0, 16.2, 19.87, 20.0, 15.29, 16.2, 20.51, 18.9, 28.09, 17.8, 20.36, 17.01, 19.1, 25.83, 20.4, 15.1, 17.43, 21.1, 22.7, 25.1, 26.59, 18.5, 26.0, 17.57, 17.21, 14.1, 20.0, 22.7, 25.8, 18.6, 18.6, 17.6, 20.36, 22.7, 24.3, 12.3, 21.1, 20.73, 17.0, 18.9, 18.5, 19.67, 17.3, 18.6, 18.5, 24.3, 22.5, 23.2, 24.3, 0.0, 22.77, 22.07, 23.4, 20.36, 24.0, 15.0, 17.19, 24.07, 22.9, 17.92, 15.0, 17.1, 24.3, 22.07, 18.5, 13.6, 21.38, 19.4, 19.7, 15.4, 19.7, 22.7, 19.7, 22.9, 24.0, 17.01, 18.6, 25.4, 18.6, 12.99, 19.2, 20.54, 20.36, 19.3, 22.9, 22.9, 17.21, 24.7, 16.0, 24.07, 27.3, 20.62, 17.0, 22.32, 19.81, 20.36, 22.0, 14.0, 19.81, 24.3, 15.1, 15.1, 17.8, 17.01, 28.4, 24.0, 28.09, 18.0, 22.74, 22.07, 22.0, 25.32, 21.1, 16.47, 17.0, 15.4, 20.54, 20.4, 18.9, 20.64, 28.09, 20.64, 19.3, 17.4, 11.7, 17.8, 12.8, 15.0, 25.8, 18.4, 18.5, 14.28, 13.68, 20.14, 25.83, 27.62, 18.9, 19.1, 17.43, 16.78, 18.6, 18.5, 18.9, 19.4, 21.27, 17.1, 19.1, 21.4, 22.54, 21.1, 16.0, 19.4, 25.47, 15.26, 17.8, 27.39, 16.0, 26.0, 24.0, 24.3, 16.09, 19.1, 15.0, 20.0, 24.0, 18.6, 19.83, 18.6, 19.4, 23.2, 15.1, 20.36, 13.2, 23.0, 18.6, 18.16, 19.4, 24.0, 20.73, 25.17, 19.5, 17.4, 17.0, 24.3, 20.0, 21.1, 18.6, 20.51, 20.14, 20.51, 24.4, 22.54, 21.9, 17.5, 22.74, 18.16, 17.0, 23.0, 16.2, 23.08, 18.0, 18.0, 23.59, 16.47, 16.1, 14.28, 15.0, 21.38, 20.36, 17.8, 15.6, 17.0, 23.4, 19.1, 18.6, 22.7, 22.5, 22.74, 20.4, 15.4, 19.1, 20.5, 22.32, 16.47, 19.81, 13.4, 18.06, 15.1, 21.1, 22.7, 22.5, 18.7, 20.4, 18.9, 22.7, 20.36, 21.66, 17.0, 21.1, 23.1, 18.2, 13.68, 24.5, 18.9, 18.9, 15.85, 23.01, 18.6, 28.4, 24.7, 24.3, 18.44, 18.7, 21.13, 17.92, 25.0, 20.36, 20.14, 22.54, 12.5, 13.68, 13.0, 23.9, 24.7, 13.24, 15.1, 21.4, 22.7, 18.16, 22.74, 17.0, 20.3, 25.4, 18.5, 23.9, 19.67, 23.1, 22.77, 15.9, 18.6, 18.6, 26.1, 21.1, 18.5, 21.1, 20.92, 27.39, 24.07, 21.1, 18.44, 16.8, 20.45, 20.73, 18.6, 22.74, 26.59, 19.4, 25.1, 20.46, 22.07, 22.74, 22.54, 16.47, 19.87, 16.47, 13.0, 20.4, 24.0, 20.0, 23.1, 18.9, 22.7, 25.8, 15.4, 22.77, 22.5, 20.73, 21.1, 23.0, 28.4, 15.64, 18.9, 16.0, 18.16, 21.1, 16.2, 16.47, 20.14, 17.0, 18.3, 17.4, 20.4, 15.8, 20.4, 24.7, 12.99, 33.54, 23.0, 18.9, 18.15, 18.5, 19.67, 20.36, 18.9, 23.4, 27.39, 22.54, 18.0, 27.39, 19.01, 26.21, 18.0, 20.14, 20.36, 17.4, 22.54, 17.3, 19.67, 17.45, 17.1, 27.4, 24.4, 24.7, 17.1, 18.16, 16.47, 10.4, 24.3, 21.1, 19.4, 19.7, 16.55, 19.49, 18.7, 18.6, 15.4, 17.0, 15.1, 19.1, 24.07, 17.8, 13.24, 15.8, 28.4, 18.9, 18.6, 17.8, 17.8, 16.02, 14.0, 19.67, 20.64, 20.36, 17.0, 18.9, 20.85, 23.4, 25.17, 17.8, 19.4, 21.1, 22.0, 20.4, 17.0, 20.65, 22.0, 22.74, 18.7, 22.7, 15.4, 28.4, 18.6, 17.8, 17.4, 27.3, 16.78, 16.0, 13.8, 17.6, 15.29, 17.8, 16.25, 21.4, 17.1, 15.8, 16.47, 18.9, 17.57, 22.3, 18.78, 19.67, 28.4, 14.28, 17.5, 27.3, 22.54, 21.19, 21.4, 16.47, 22.07, 20.36, 18.9, 24.3, 24.0, 16.8, 15.4, 21.1, 17.0, 21.1, 23.1, 20.4, 28.09, 25.44, 19.7, 20.14, 15.29, 22.7, 24.7, 30.46, 24.7, 18.6, 17.1, 18.9, 21.1, 19.64, 25.17, 15.29, 15.29, 21.7, 25.4, 17.3, 18.9, 15.8, 18.6, 22.74, 26.59, 22.54, 23.0, 23.65, 18.9, 26.0, 25.32, 0.0, 15.8, 15.04, 16.47, 25.4, 18.2, 23.4, 26.6, 21.56, 13.7, 23.1, 22.54, 25.4, 21.9, 20.73, 27.39, 22.5, 20.73, 21.1, 25.4, 24.3, 18.7, 18.9, 17.19, 28.09, 24.0, 13.68, 18.16, 21.4, 21.4, 18.5, 25.17, 18.9, 26.0, 22.9, 18.4, 20.14, 12.4, 18.9, 19.98, 20.51, 22.74, 20.36, 15.7, 17.5, 28.4, 15.8, 17.3, 25.17, 23.9, 18.6, 28.09, 18.6, 16.02, 10.4, 18.6, 20.37, 20.5, 18.15, 20.85, 21.4, 18.6, 18.7, 22.74, 14.0, 16.0, 17.8, 13.68, 19.81, 15.8, 26.0, 33.44, 22.74, 20.85, 18.16, 25.17, 22.54, 24.7, 18.15, 20.4, 18.6, 19.69, 17.0, 13.7, 16.47, 17.01, 28.4, 25.17, 25.2, 24.7, 25.17, 27.39, 28.09, 18.16, 17.4, 24.07, 20.51, 21.4, 17.5, 23.2, 22.0, 18.9, 17.57, 21.1, 18.7, 14.4, 15.29, 23.0, 15.6, 15.04, 18.7, 24.5, 17.4, 21.14, 16.8, 17.3, 18.2, 18.9, 26.59, 19.1, 25.2, 17.8, 21.4, 15.1, 16.2, 18.9, 18.5, 16.47, 18.7, 18.88, 18.6, 18.9, 17.0, 20.3, 20.77, 18.49, 18.9, 19.4, 16.1, 25.32, 26.6, 13.68, 21.1, 24.3, 16.47, 23.84, 16.47, 20.14, 18.9, 23.4, 18.88, 26.59, 18.9, 16.47, 20.0, 16.0, 18.5, 25.17, 17.0, 23.1, 24.3, 18.7, 18.16, 15.6, 23.1, 22.74, 24.3, 19.1, 17.0, 20.36, 15.6, 14.0, 24.3, 15.41, 18.6, 15.1, 17.1, 22.5, 18.6, 22.74, 18.0, 18.9, 21.4, 19.5, 18.6, 23.1, 18.9, 15.8, 16.8, 20.36, 18.16, 0.0, 21.1, 18.9, 24.0, 15.0, 23.84, 18.9, 22.0, 18.6, 21.1, 18.6, 19.0, 18.7, 18.9, 16.09, 22.7, 12.4, 21.1, 25.17, 17.0, 18.2, 17.0, 18.9, 13.24, 16.47, 27.39, 13.68, 21.1, 20.36, 15.1, 18.9, 22.77, 21.66, 25.8, 24.3, 21.1, 25.4, 18.9, 20.36, 18.6, 24.7, 25.4, 15.29, 15.0, 18.6, 18.9, 21.56, 17.1, 13.0, 17.5, 16.1, 18.9, 16.47, 17.0, 21.1, 26.8, 20.63, 20.85, 17.43, 16.2, 18.6, 16.55, 20.4, 17.8, 17.8, 20.5, 19.7, 21.1, 18.6, 18.7, 26.59, 18.6, 22.54, 16.2, 17.0, 18.9, 23.4, 21.7, 24.3, 18.6, 25.4, 22.74, 18.5, 33.44, 18.16, 13.7, 18.5, 21.1, 20.36, 16.02, 19.1, 25.4, 16.95, 17.0, 27.39, 28.09, 21.1, 21.4, 15.29, 16.02, 18.6, 17.0, 18.6, 24.52, 20.51, 18.7, 17.0, 18.0, 27.3, 18.9, 18.6, 19.4, 26.1, 20.73, 21.4, 17.0, 17.8, 15.04, 18.6, 24.07, 23.1, 13.45, 22.5, 20.36, 21.1, 20.89, 25.4, 18.6, 23.84, 17.0, 22.7, 17.8, 25.17, 18.9, 23.84, 14.28, 16.55, 24.7, 22.32, 17.1, 18.9, 21.4, 17.0, 19.4, 25.17, 18.6, 20.73, 18.15, 15.29, 19.81, 21.4, 17.5, 16.8, 22.5, 18.7, 25.8, 23.84, 18.9, 21.1, 18.9, 17.5, 21.4, 16.3, 19.1, 16.09, 16.8, 22.7, 18.88, 21.7, 17.5, 18.6, 18.9, 16.47, 13.7, 27.3, 18.6, 21.4, 18.5, 19.4, 19.7, 17.0, 17.01, 21.1, 18.9, 24.4, 12.62, 18.6, 16.0, 16.1, 17.0, 21.1, 18.6, 23.9, 21.1, 18.6, 21.9, 18.6, 25.47, 28.4, 26.59, 21.5, 24.0, 18.2, 18.6, 24.0, 18.9, 17.5, 17.4, 18.9, 18.9, 17.5, 18.88, 16.1, 16.2, 18.15, 18.6, 18.6, 18.9, 16.0, 16.02, 24.07, 21.1, 18.06, 20.51, 21.4, 23.0, 18.9, 20.4, 22.1, 25.1, 19.44, 18.6, 20.92, 21.4, 20.51, 25.17, 19.1, 25.17, 21.9, 17.0, 18.9, 21.4, 20.89, 16.1, 24.07, 13.44, 17.0, 16.78, 27.4, 16.1, 17.19, 18.5, 14.53, 22.5, 18.6, 22.7, 23.4, 21.4, 21.1, 22.54, 16.8, 16.8, 17.4, 18.6, 21.1, 16.8, 19.67, 13.68, 22.74, 17.4, 24.7, 18.9, 18.5, 17.01, 18.6, 19.4, 18.7, 28.4, 24.3, 17.01, 16.2, 18.6, 18.9, 20.85, 33.44, 21.56, 17.4, 25.32, 17.4, 18.9, 21.4, 22.0, 19.1, 18.6, 9.0, 17.57, 18.9, 24.07, 18.2, 20.51, 18.9, 15.8, 20.3, 23.84, 18.2, 20.36, 18.9, 22.74, 15.4, 17.01, 20.4, 18.6, 18.0, 17.01, 15.4, 14.0, 17.71, 13.68, 19.0, 18.6, 15.29, 25.17, 21.1, 21.4, 18.9, 18.9, 13.8, 21.1, 25.0, 20.51, 18.2, 18.6, 16.95, 18.6, 25.17, 20.73, 16.2, 17.4, 17.57, 19.1, 19.81, 20.89, 18.88, 20.36, 16.47, 17.1, 24.07, 22.54, 18.6, 18.0, 25.17, 22.7, 16.3, 17.01, 20.73, 18.6, 17.19, 19.5, 20.63, 21.4, 20.63, 21.43, 13.2, 21.13, 24.7, 21.56, 28.4, 23.84, 16.8, 18.6, 25.17, 17.8, 18.6, 17.0, 21.5, 20.51, 14.0, 25.17, 25.4, 18.9, 25.83, 26.0, 25.17, 21.7, 18.88, 24.7, 18.9, 23.1, 18.6, 18.16, 20.37, 23.59, 24.7, 24.3, 26.1, 24.7, 15.29, 18.06, 15.7, 22.74, 24.07, 28.4, 27.39, 22.0, 18.88, 25.17, 18.9, 25.17, 19.0, 18.9, 20.37, 25.83, 19.0, 13.49, 17.19, 18.78, 18.12, 25.17, 20.89, 18.9, 24.7], \"xaxis\": \"x\", \"y\": [5.9, 2.7, 5.0, 4.45, 1.0, 4.0, 3.3, 4.0, 6.5, 10.9, 6.5, 7.9, 9.2, 11.0, 3.5, 3.5, 2.6, 4.5, 2.6, 1.45, 7.5, 9.0, 3.9, 0.85, 0.8, 0.85, 9.0, 1.85, 5.2, 4.0, 5.0, 6.25, 10.5, 12.99, 2.5, 6.85, 13.0, 3.85, 1.76, 7.25, 3.65, 7.5, 2.5, 7.5, 3.8, 5.9, 2.5, 3.5, 4.3, 4.0, 2.25, 16.75, 5.7, 7.5, 1.5, 4.0, 10.64, 2.5, 5.0, 4.0, 4.5, 4.0, 2.7, 1.35, 3.9, 8.25, 0.9, 5.0, 10.5, 4.8, 1.8, 2.5, 8.75, 3.9, 3.5, 1.0, 12.0, 2.5, 2.8, 12.99, 1.5, 11.99, 8.0, 5.99, 8.5, 4.2, 9.15, 0.85, 5.5, 7.99, 4.8, 2.9, 3.0, 11.4, 23.0, 1.5, 2.7, 0.85, 2.5, 6.0, 3.0, 3.0, 3.5, 2.25, 5.0, 6.95, 4.5, 2.5, 11.0, 7.25, 12.75, 8.9, 4.75, 2.9, 4.42, 13.2, 4.95, 7.5, 3.55, 12.25, 3.5, 1.05, 1.65, 1.15, 2.6, 5.0, 7.8, 5.25, 11.75, 7.0, 5.25, 6.0, 2.6, 2.1, 1.1, 6.0, 6.25, 1.05, 0.7, 10.75, 0.9, 2.0, 2.51, 0.9, 6.25, 2.49, 9.0, 10.5, 1.25, 1.2, 3.5, 5.15, 2.2, 1.85, 0.95, 1.55, 9.8, 11.0, 9.5, 6.55, 5.4, 3.1, 1.6, 11.0, 4.2, 1.65, 3.5, 0.7, 0.86, 12.49, 2.25, 5.5, 4.7, 13.5, 3.6, 9.6, 3.6, 9.24, 3.85, 7.0, 3.85, 3.65, 4.75, 6.0, 0.75, 4.0, 4.75, 3.75, 4.5, 2.75, 3.25, 2.2, 3.2, 6.8, 3.45, 1.5, 4.11, 3.0, 1.5, 5.0, 6.4, 2.0, 6.3, 6.2, 2.95, 1.4, 6.99, 4.95, 4.5, 2.2, 1.2, 6.7, 1.6, 1.45, 9.0, 3.75, 6.25, 2.3, 1.5, 3.0, 4.6, 0.92, 3.25, 0.8, 7.96, 2.3, 1.95, 5.4, 3.3, 8.25, 1.0, 4.45, 1.1, 15.0, 4.4, 3.5, 16.0, 10.75, 10.45, 3.75, 3.8, 14.3, 16.0, 2.9, 1.9, 2.35, 5.0, 2.5, 8.0, 3.5, 4.0, 2.6, 12.0, 3.5, 2.0, 2.6, 12.0, 3.0, 1.65, 3.75, 7.0, 0.85, 1.75, 1.15, 12.0, 3.65, 2.5, 3.2, 1.69, 2.9, 8.0, 6.5, 2.25, 3.91, 5.95, 3.19, 1.25, 5.9, 3.85, 8.75, 4.5, 10.75, 1.35, 4.75, 4.75, 2.25, 15.5, 1.1, 4.0, 9.57, 5.75, 9.95, 5.8, 8.5, 3.75, 3.85, 4.5, 4.33, 4.5, 12.99, 1.75, 0.99, 1.5, 6.95, 2.75, 12.6, 1.8, 4.6, 4.5, 10.85, 2.05, 8.3, 12.0, 8.5, 2.0, 2.0, 4.75, 1.51, 3.5, 3.5, 6.1, 6.99, 2.4, 13.7, 2.8, 1.11, 4.65, 4.0, 7.2, 15.0, 3.5, 2.65, 0.6, 3.65, 2.9, 1.5, 2.2, 2.65, 8.26, 13.25, 1.5, 1.25, 2.4, 3.65, 4.25, 5.5, 1.0, 1.2, 20.5, 20.5, 1.9, 3.9, 2.9, 2.6, 3.1, 3.7, 3.0, 4.5, 4.0, 16.5, 4.4, 8.4, 5.3, 13.28, 10.75, 1.75, 7.0, 6.0, 5.9, 3.15, 1.99, 3.85, 6.75, 5.21, 11.75, 1.0, 3.0, 0.85, 4.5, 5.67, 1.22, 5.0, 3.0, 3.6, 5.25, 12.25, 4.25, 10.1, 2.25, 3.75, 8.25, 0.85, 0.7, 11.45, 0.95, 1.5, 2.85, 3.7, 2.4, 2.0, 2.0, 1.6, 5.5, 6.5, 1.28, 1.6, 17.75, 13.5, 3.0, 5.1, 10.25, 1.3, 4.25, 3.11, 1.8, 16.0, 0.85, 3.5, 6.25, 1.4, 3.5, 4.0, 12.0, 6.5, 3.0, 4.5, 1.5, 3.25, 4.5, 1.2, 13.0, 4.0, 3.75, 7.99, 3.11, 4.75, 23.5, 3.05, 7.03, 0.95, 6.0, 1.6, 20.5, 1.75, 1.9, 4.5, 1.5, 1.55, 6.0, 1.15, 1.55, 6.25, 11.5, 5.5, 6.1, 5.2, 2.51, 5.5, 8.0, 5.5, 4.7, 4.41, 1.8, 4.4, 6.0, 3.0, 3.0, 17.95, 4.25, 6.4, 7.25, 5.5, 2.5, 2.2, 11.5, 3.6, 2.5, 4.8, 0.91, 3.5, 2.25, 4.1, 4.55, 1.9, 5.0, 2.3, 0.45, 0.53, 3.75, 2.5, 6.9, 3.25, 2.8, 2.35, 9.45, 0.8, 2.11, 7.21, 4.5, 6.58, 5.35, 1.85, 4.5, 3.83, 1.95, 3.1, 1.6, 4.5, 1.0, 8.85, 3.75, 2.41, 7.85, 2.5, 3.48, 14.45, 6.25, 5.85, 5.45, 1.45, 5.0, 1.5, 1.0, 8.25, 5.55, 4.5, 7.1, 10.8, 3.56, 7.48, 1.2, 3.65, 5.75, 12.5, 18.39, 3.45, 3.7, 2.7, 12.5, 8.9, 1.1, 2.1, 3.0, 4.0, 4.35, 2.7, 1.9, 4.25, 2.25, 3.35, 1.25, 3.13, 1.85, 13.49, 2.1, 8.25, 2.85, 4.68, 3.0, 4.5, 2.3, 2.5, 3.0, 5.75, 0.8, 2.85, 4.25, 3.85, 3.0, 2.95, 2.9, 2.95, 3.91, 3.5, 2.2, 2.5, 3.8, 3.4, 3.0, 2.75, 2.6, 3.1, 13.9, 1.24, 10.9, 4.5, 1.8, 3.81, 3.8, 2.25, 4.11, 1.4, 0.7, 6.5, 1.25, 6.5, 4.6, 6.75, 7.25, 6.1, 6.2, 5.35, 3.55, 2.6, 1.4, 2.8, 6.25, 2.5, 7.9, 3.0, 8.0, 3.25, 3.25, 6.01, 3.65, 4.5, 1.55, 1.55, 23.65, 3.5, 7.5, 5.85, 1.6, 4.25, 13.5, 3.0, 6.0, 3.95, 3.77, 8.25, 4.35, 2.6, 10.6, 5.25, 2.2, 3.5, 4.33, 5.99, 4.75, 3.85, 1.25, 5.85, 1.5, 5.0, 12.01, 7.02, 4.0, 6.75, 1.3, 3.49, 2.75, 3.5, 7.8, 7.75, 4.35, 2.8, 7.4, 2.35, 1.37, 6.5, 6.0, 3.5, 3.6, 3.6, 2.4, 4.25, 1.8, 15.2, 4.5, 6.5, 10.09, 8.2, 3.75, 3.6, 7.85, 0.6, 2.41, 2.5, 3.5, 11.5, 2.75, 1.0, 2.9, 1.85, 0.45, 7.5, 6.25, 5.8, 4.0, 2.0, 8.75, 3.9, 5.7, 12.36, 3.55, 8.2, 3.39, 2.3, 6.0, 6.3, 1.8, 3.2, 6.15, 2.85, 0.69, 1.2, 1.3, 3.65, 3.5, 2.5, 8.5, 8.9, 3.5, 5.25, 1.8, 7.99, 1.46, 5.29, 3.5, 11.6, 3.0, 2.5, 6.83, 13.5, 4.12, 6.95, 2.2, 17.09, 6.9, 3.45, 5.8, 1.25, 6.75, 2.85, 5.25, 3.8, 2.41, 5.65, 3.85, 11.0, 2.95, 2.89, 3.25, 6.85, 2.5, 1.8, 1.3, 9.95, 2.95, 1.85, 5.5, 3.15, 6.98, 3.0, 5.9, 2.21, 5.8, 5.79, 6.22, 11.49, 7.45, 7.99, 1.4, 2.4, 2.95, 6.71, 3.25, 9.0, 0.85, 4.3, 1.75, 2.75, 5.5, 2.6, 2.7, 3.7, 2.7, 1.65, 4.75, 2.75, 7.1, 2.9, 7.2, 7.7, 5.99, 1.9, 4.42, 2.69, 4.9, 5.5, 1.75, 8.99, 2.9, 5.85, 4.25, 10.05, 1.8, 2.57, 6.2, 6.5, 2.65, 5.75, 4.85, 2.95, 2.75, 2.7, 8.75, 3.45, 1.35, 0.75, 1.0, 0.85, 2.5, 2.35, 2.3, 8.0, 5.43, 5.69, 4.39, 4.75, 5.55, 4.53, 6.53, 1.3, 14.25, 2.6, 14.49, 2.1, 5.9, 6.5, 2.45, 11.25, 4.35, 6.1, 1.1, 2.2, 2.5, 9.0, 1.3, 0.75, 4.1, 2.3, 13.5, 4.9, 5.7, 1.67, 4.5, 6.96, 2.74, 11.79, 2.5, 2.45, 3.3, 2.3, 3.5, 4.3, 2.3, 3.5, 1.8, 3.5, 7.11, 7.33, 2.85, 2.75, 3.5, 1.2, 4.75, 2.1, 7.0, 8.0, 2.2, 1.79, 1.35, 6.5, 3.99, 6.75, 5.5, 5.25, 1.75, 1.95, 8.99, 8.1, 4.85, 4.5, 1.75, 1.9, 4.75, 4.5, 2.15, 2.5, 3.5, 1.2, 3.85, 5.8, 0.53, 1.2, 4.25, 6.0, 9.4, 4.5, 3.16, 2.78, 3.4, 5.35, 5.25, 2.6, 6.5, 2.96, 3.3, 2.9, 5.5, 5.5, 3.3, 2.64, 6.5, 4.15, 3.1, 4.67, 2.9, 5.75, 3.65, 2.44, 15.5, 4.0, 3.0, 1.6, 2.59, 6.25, 1.67, 1.85, 7.5, 7.25, 3.8, 8.9, 2.35, 8.09, 3.65, 3.9, 2.75, 6.6, 5.35, 6.3, 10.9, 2.9, 2.3, 2.3, 10.75, 4.5, 2.0, 6.5, 1.2, 14.5, 3.25, 1.0, 2.35, 2.3, 0.55, 2.8, 4.4, 6.2, 2.25, 9.5, 1.15, 6.6, 6.34, 3.75, 3.53, 2.5, 3.65, 3.51, 5.81, 4.5, 4.95, 6.75, 4.49, 3.5, 2.1, 6.98, 12.5, 3.3, 4.93, 2.9, 3.65, 2.5, 2.8, 2.15, 4.88, 3.57, 7.25, 6.15, 4.25, 4.4, 8.58, 4.95, 5.5, 4.25, 1.65, 1.95, 5.5, 6.6, 2.75, 2.7, 2.4, 13.5, 9.25, 2.15, 1.49, 3.75, 2.0, 3.8, 12.0, 3.9, 6.7, 5.5, 5.7, 1.85, 0.82, 5.8, 7.0, 3.62, 3.78, 7.54, 3.63, 3.75, 3.59, 3.34, 6.69, 3.75, 2.0, 2.8, 2.25, 5.1, 5.25, 1.65, 5.25, 5.7, 6.15, 5.25, 2.3, 2.25, 6.5, 3.0, 4.1, 3.85, 2.1, 4.0, 4.5, 2.85, 3.25, 6.29, 6.55, 3.9, 1.15, 4.25, 6.25, 3.25, 10.85, 0.51, 3.3, 6.0, 4.35, 2.25, 6.0, 1.7, 2.0, 4.9, 3.75, 4.3, 3.85, 2.5, 3.5, 2.35, 1.49, 1.0, 2.6, 11.75, 3.0, 3.95, 1.99, 1.7, 7.5, 5.4, 4.08, 6.0, 5.4, 5.63, 3.25, 5.65, 7.94, 5.64, 3.3, 7.95, 8.0, 3.51, 4.0, 5.87, 10.75, 3.88, 2.65, 4.65, 2.65, 3.1, 1.6, 12.25, 4.25, 17.9, 6.4, 6.35, 3.75, 8.75, 5.7, 4.5, 6.5, 4.15, 3.6, 5.5, 4.85, 2.1, 12.5, 7.31, 7.75, 6.75, 1.85, 1.3, 2.6, 22.0, 6.6, 5.05, 5.2, 2.78, 5.9, 20.0, 3.99, 7.75, 2.75, 4.35, 12.5, 4.2, 6.4, 4.5, 3.4, 3.2, 16.5, 2.2, 2.75, 5.5, 8.25, 0.8, 2.35, 7.11, 2.5, 14.52, 1.9, 28.85, 8.0, 4.32, 5.29, 5.0, 3.12, 7.0, 3.95, 5.9, 8.1, 2.45, 4.25, 2.3, 3.2, 2.65, 2.25, 17.92, 10.23, 5.45, 2.5, 9.23, 4.45, 9.9, 3.9, 4.6, 1.75, 5.45, 2.85, 2.21, 2.69, 5.0, 5.0, 2.5, 4.4, 1.2, 7.1, 2.4, 1.0, 4.75, 1.11, 0.95, 2.25, 2.75, 2.0, 2.9, 3.25, 5.8, 4.25, 2.3, 5.75, 18.5, 3.2, 6.0, 2.75, 1.8, 4.61, 7.25, 5.75, 2.9, 2.05, 3.21, 6.75, 2.0, 3.3, 5.5, 3.0, 4.95, 3.8, 5.27, 3.95, 3.8, 4.1, 4.25, 2.2, 9.58, 9.75, 3.5, 6.5, 3.35, 3.95, 3.9, 15.25, 3.65, 3.7, 4.8, 6.95, 4.5, 7.45, 3.3, 5.1, 3.0, 1.5, 3.3, 4.25, 2.6, 2.0, 6.2, 7.83, 4.0, 3.9, 4.75, 4.28, 10.95, 4.75, 9.0, 3.99, 4.83, 2.8, 4.58, 1.5, 6.86, 7.34, 1.81, 7.65, 2.8, 2.96, 2.95, 5.35, 5.25, 3.45, 2.27, 2.15, 1.7, 4.6, 3.25, 0.9, 2.1, 2.1, 11.85, 2.59, 5.1, 0.77, 1.3, 1.12, 4.75, 1.8, 3.0, 4.0, 1.55, 4.25, 8.85, 4.75, 5.45, 4.5, 3.88, 2.85, 2.0, 4.0, 12.0, 2.5, 7.45, 4.0, 1.3, 3.0, 6.0, 3.5, 3.29, 12.25, 3.15, 2.0, 1.5, 2.1, 0.55, 3.65, 1.8, 8.25, 2.0, 8.25, 0.65, 3.8, 0.95, 9.43, 2.83, 3.9, 1.1, 1.85, 2.9, 3.82, 3.29, 6.13, 5.85, 5.55, 1.1, 8.0, 2.65, 4.69, 6.25, 5.3, 5.11, 2.4, 7.2, 5.9, 2.1, 3.0, 3.55, 2.15, 1.95, 4.79, 4.5, 20.0, 1.6, 5.75, 2.15, 2.4, 4.7, 4.9, 2.7, 2.9, 14.45, 9.7, 5.45, 5.19, 3.97, 4.8, 5.0, 3.9, 2.9, 9.32, 6.17, 8.14, 1.5, 7.0, 2.95, 4.15, 3.37, 5.5, 2.5, 3.77, 14.0, 2.6, 5.95, 2.25, 4.8, 4.9, 2.3, 1.02, 3.6, 5.86, 5.25, 6.75, 6.95, 1.95, 3.6, 1.2, 4.85, 3.95, 7.0, 2.75, 4.4, 6.75, 6.25, 1.99, 4.8, 9.85, 3.2, 6.75, 2.0, 1.5, 3.7, 4.4, 2.9, 2.5, 2.8, 11.73, 3.45, 5.63, 8.38, 7.06, 9.5, 3.25, 3.1, 5.25, 4.2, 4.0, 5.65, 11.99, 4.05, 5.17, 16.5, 14.5, 5.75, 3.55, 4.65, 6.5, 3.6, 3.9, 1.25, 2.6, 7.9, 4.0, 5.6, 1.2, 6.75, 7.25, 4.5, 4.75, 5.0, 7.0, 7.2, 4.05, 6.25, 5.5, 2.25, 6.3, 2.5, 3.8, 16.5, 2.2, 6.9, 2.0, 6.15, 4.83, 2.2, 2.6, 4.0, 0.85, 2.95, 5.7, 1.65, 4.12, 6.9, 4.96, 5.5, 15.96, 3.0, 5.5, 5.68, 2.45, 2.1, 2.49, 4.15, 2.49, 1.45, 2.35, 4.9, 6.4, 6.8, 3.25, 2.46, 2.19, 3.47, 3.85, 4.91, 4.45, 1.5, 1.7, 3.5, 5.7, 2.7, 4.25, 3.6, 2.95, 4.45, 2.75, 5.5, 1.95, 5.49, 5.75, 9.44, 3.39, 8.11, 0.75, 6.2, 2.97, 3.25, 5.53, 3.85, 3.5, 3.8, 2.1, 2.1, 3.16, 2.1, 2.81, 4.45, 5.8, 8.36, 7.5, 9.75, 6.55, 7.4, 9.45, 5.48, 6.79, 3.25, 3.28, 0.8, 8.36, 3.15, 4.7, 2.15, 3.25, 3.32, 4.8, 4.25, 2.75, 1.95, 18.9, 6.99, 5.0, 4.8, 11.75, 1.59, 3.99, 5.31, 2.5, 3.0, 2.4, 2.65, 16.1, 2.5, 6.4, 1.5, 6.0, 2.5, 7.21, 5.5, 4.9, 4.55, 7.65, 0.44, 5.5, 4.0, 5.5, 5.75, 3.1, 3.9, 2.4, 4.5, 1.4, 2.05, 5.2, 3.5, 7.75, 2.8, 3.75, 3.9, 15.0, 1.39, 5.95, 0.65, 3.27, 5.1, 2.4, 4.99, 10.0, 6.2, 3.0, 2.71, 1.25, 16.13, 3.5, 3.21, 3.65, 18.75, 15.5, 6.0, 3.8, 5.67, 7.52, 3.71, 2.9, 3.65, 3.96, 6.22, 10.46, 5.2, 5.6, 5.02, 5.45, 2.75, 3.65, 5.5, 3.67, 2.44, 1.45, 3.76, 5.7, 4.57, 6.0, 3.5, 4.85, 3.1, 4.25, 2.65, 1.11, 7.25, 4.25, 6.5, 2.39, 2.85, 3.1, 4.1, 5.99, 4.15, 5.2, 2.9, 6.8, 3.61, 7.75, 7.12, 6.57, 3.67, 3.96, 13.55, 11.9, 2.45, 2.45, 5.65, 3.1, 5.35, 7.69, 3.25, 9.58, 5.1, 6.09, 7.77, 1.99, 2.95, 3.25, 6.5, 3.71, 1.85, 4.5, 3.25, 2.7, 6.75, 6.11, 3.35, 8.15, 1.25, 2.05, 5.11, 1.75, 8.2, 1.2, 4.5, 5.5, 4.25, 1.5, 4.2, 3.3, 4.35, 4.9, 11.05, 6.08, 9.75, 5.9, 6.32, 6.8, 2.85, 7.5, 6.95, 5.95, 5.6, 2.95, 6.5, 5.95, 2.1, 7.52, 1.8, 2.6, 7.95, 2.3, 2.75, 4.9, 7.9, 5.22, 2.95, 4.85, 8.31, 8.8, 5.75, 4.57, 10.75, 4.15, 6.6, 3.45, 9.8, 2.65, 4.45, 6.1, 4.25, 3.2, 7.25, 6.3, 2.4, 5.0, 7.75, 6.25, 1.65, 5.35, 3.5, 2.1, 2.11, 2.5, 3.75, 1.1, 3.0, 1.25, 2.8, 2.7, 4.6, 5.7, 1.25, 7.75, 4.5, 4.65, 7.75, 6.75, 10.25, 2.1, 2.25, 5.3, 6.14, 5.53, 10.5, 5.39, 8.94, 2.95, 5.38, 7.53, 4.2, 6.82, 6.4, 5.85, 4.75, 1.52, 2.15, 7.05, 4.4, 7.99, 2.7, 5.25, 2.6, 4.57, 6.0, 3.25, 2.9, 3.89, 2.15, 2.98, 3.3, 9.5, 1.65, 3.4, 4.35, 1.25, 2.9, 5.35, 5.21, 7.19, 3.59, 3.32, 8.07, 4.5, 10.5, 4.95, 3.3, 4.11, 6.24, 2.6, 5.49, 5.1, 4.49, 5.43, 4.54, 2.98, 6.12, 5.5, 1.15, 4.09, 1.95, 4.75, 13.78, 6.0, 2.5, 4.85, 2.7, 3.0, 5.45, 0.55, 2.75, 1.99, 2.3, 2.5, 3.2, 1.35, 2.65, 3.7, 2.1, 5.75, 4.15, 5.45, 3.95, 1.35, 8.65, 4.95, 1.9, 3.5, 2.25, 2.25, 1.4, 3.25, 5.9, 3.25, 3.1, 6.0, 4.0, 2.45, 6.99, 4.0, 5.5, 1.45, 7.9, 4.8, 3.15, 2.65, 2.95, 2.74, 2.59, 4.75, 3.25, 1.65, 6.25, 3.5, 3.9, 6.25, 4.35, 2.95, 4.0, 2.25, 8.0, 3.55, 10.85, 3.4, 1.99, 7.5, 5.49, 6.9, 6.46, 1.97, 4.78, 11.62, 13.28, 5.6, 6.85, 3.1, 1.26, 3.69, 7.53, 4.16, 3.25, 2.7, 2.6, 4.25, 5.29, 8.5, 2.25, 9.46, 2.58, 2.96, 4.9, 4.75, 5.75, 0.75, 7.5, 6.0, 0.99, 23.0, 3.45, 2.32, 2.85, 2.71, 12.75, 6.5, 3.25, 4.1, 9.25, 6.5, 5.4, 9.05, 6.25, 3.45, 1.99, 5.64, 3.32, 6.91, 4.4, 4.74, 7.14, 3.49, 2.75, 6.25, 3.41, 3.9, 6.16, 5.5, 4.9, 5.39, 1.95, 5.0, 4.45, 2.45, 7.5, 2.45, 4.64, 4.8, 5.8, 2.95, 6.7, 4.25, 5.75, 5.75, 4.95, 5.85, 3.95, 7.55, 3.0, 1.5, 5.25, 2.1, 3.99, 4.59, 5.5, 5.2, 7.9, 4.99, 7.5, 7.5, 2.5, 1.51, 5.47, 8.1, 3.25, 3.0, 4.0, 4.0, 2.5, 5.75, 6.5, 5.9, 5.95, 4.45, 4.5, 5.5, 6.39, 12.5, 16.08, 5.5, 4.3, 3.84, 5.04, 4.31, 6.69, 12.83, 2.75, 5.25, 5.75, 6.73, 3.39, 4.25, 2.1, 4.5, 6.5, 8.87, 4.0, 3.09, 10.19, 4.38, 5.54, 5.35, 2.25, 12.45, 3.89, 0.5, 3.75, 3.95, 6.35, 5.5, 5.48, 6.35, 6.6, 7.0, 4.99, 3.45, 5.49, 4.61, 18.0, 5.75, 2.1, 6.0, 4.25, 4.41, 6.54, 4.1, 7.2, 1.55, 10.31, 3.61, 5.39, 5.85, 7.2, 15.54, 5.84, 3.9, 2.9, 4.65, 6.63, 7.57, 4.57, 4.17, 35.82, 2.4, 5.15, 4.25, 9.75, 3.12, 6.92, 4.95, 6.1, 7.0, 3.45, 7.5, 3.2, 2.15, 2.79, 3.5, 2.1, 2.21, 4.25, 5.75, 1.25, 2.45, 2.85, 1.4, 2.25, 17.25, 1.8, 3.35, 7.25, 5.7, 4.76, 6.95, 9.65, 7.52, 5.5, 12.15, 8.3, 4.3, 8.48, 2.49, 6.98, 1.65, 8.25, 4.25, 2.65, 2.87, 4.75, 3.9, 2.78, 3.47, 3.11, 3.31, 1.45, 6.35, 3.7, 2.75, 4.25, 2.2, 5.65, 8.0, 6.5, 4.75, 3.7, 5.9, 4.2, 9.5, 2.25, 3.95, 11.11, 2.35, 9.8, 1.75, 7.1, 2.61, 6.0, 1.59, 8.5, 4.21, 7.8, 7.5, 2.65, 4.25, 4.9, 5.99, 12.0, 9.51, 8.5, 0.7, 3.1, 2.4, 2.99, 3.5, 4.25, 5.84, 7.5, 6.1, 4.3, 3.75, 5.2, 2.9, 5.0, 5.64, 4.7, 1.65, 4.82, 2.5, 7.5, 2.45, 3.75, 3.69, 2.5, 6.67, 6.63, 2.5, 6.25, 5.99, 5.5, 2.65, 4.1, 2.95, 3.7, 6.0, 13.54, 8.4, 4.29, 4.28, 7.67, 6.25, 3.51, 4.5, 3.33, 5.0, 5.55, 7.64, 5.75, 2.2, 1.95, 2.75, 2.55, 4.25, 16.5, 13.0, 4.9, 7.75, 3.05, 5.5, 6.0, 3.7, 5.0, 2.95, 6.5, 3.3, 5.95, 3.6, 1.1, 4.5, 3.2, 3.25, 6.0, 5.45, 3.5, 2.69, 10.77, 3.07, 7.56, 2.7, 4.2, 6.55, 8.44, 5.0, 5.36, 0.63, 5.45, 16.42, 7.0, 11.95, 4.35, 12.13, 6.0, 4.7, 3.3, 2.74, 11.64, 4.4, 5.95, 1.95, 5.0, 2.35, 5.8, 3.3, 6.95, 2.85, 3.9, 6.25, 2.75, 5.5, 9.75, 3.26, 4.0, 3.2, 5.65, 2.35, 9.5, 6.02, 3.82, 4.85, 4.58, 3.2, 7.26, 4.35, 12.26, 4.65, 4.65, 5.25, 3.01, 5.36, 2.47, 14.82, 10.15, 7.97, 8.5, 3.25, 4.04, 2.0, 6.25, 2.9, 4.5, 4.56, 1.75, 1.75, 7.78, 6.0, 7.5, 5.49, 6.5, 9.87, 6.2, 6.45, 3.1, 5.95, 5.25, 20.0, 3.5, 4.85, 2.6, 3.75, 6.5, 2.6, 2.8, 4.25, 2.7, 11.5, 6.5, 3.8, 5.45, 5.95, 2.0, 3.5, 3.45, 2.25, 2.45, 2.4, 3.5, 1.3, 2.41, 4.1, 5.99, 3.95, 6.2, 3.75, 6.9, 3.25, 3.65, 5.25, 6.9, 17.5, 0.5, 2.75, 3.55, 6.75, 3.46, 8.62, 4.25, 12.46, 3.9, 5.5, 5.4, 3.9, 6.45, 8.43, 5.68, 3.04, 7.11, 3.47, 5.27, 5.95, 5.98, 3.2, 2.6, 2.5, 10.4, 5.5, 2.25, 4.94, 2.93, 3.2, 8.49, 5.66, 2.65, 3.76, 4.72, 3.4, 7.75, 3.48, 9.2, 6.5, 2.65, 5.65, 3.9, 2.5, 3.85, 13.25, 4.2, 2.85, 5.25, 3.1, 2.2, 4.9, 3.1, 18.5, 3.2, 1.75, 3.75, 4.74, 6.45, 1.95, 1.15, 7.95, 6.68, 6.32, 2.0, 3.54, 3.65, 4.06, 4.69, 5.53, 3.35, 4.77, 3.87, 10.36, 13.3, 1.9, 3.41, 8.63, 4.02, 5.45, 2.75, 1.1, 4.3, 0.85, 3.0, 2.35, 3.5, 3.0, 15.65, 3.0, 5.0, 4.3, 3.65, 4.7, 6.5, 3.25, 5.7, 0.75, 1.94, 4.0, 4.95, 12.0, 3.25, 1.5, 2.5, 8.5, 3.7, 11.5, 0.7, 5.5, 4.75, 4.0, 5.5, 5.75, 8.7, 2.5, 6.2, 3.8, 4.8, 3.3, 5.27, 4.11, 4.95, 6.2, 4.18, 8.42, 7.17, 6.0, 7.36, 4.26, 4.86, 6.0, 7.46, 4.51, 4.4, 4.4, 4.07, 2.3, 2.88, 4.5, 5.9, 4.45, 8.95, 9.0, 6.9, 2.3, 3.2, 2.75, 1.4, 0.9, 4.75, 1.6, 4.9, 3.0, 5.21, 11.88, 6.35, 4.3, 4.25, 3.91, 6.25, 3.87, 3.22, 2.85, 2.5, 3.26, 3.5, 3.4, 7.65, 9.0, 11.82, 4.5, 1.8, 9.0, 4.65, 21.69, 4.85, 6.7, 3.1, 5.49, 7.25, 4.98, 6.75, 9.45, 5.95, 4.75, 20.25, 6.0, 6.5, 4.5, 3.7, 5.25, 3.25, 2.75, 4.5, 3.0, 3.25, 2.11, 5.2, 3.4, 1.8, 11.75, 4.89, 7.4, 6.04, 1.7, 5.25, 5.72, 6.5, 2.45, 2.29, 5.25, 4.49, 5.6, 13.82, 4.52, 2.9, 1.2, 8.85, 11.0, 5.09, 9.35, 1.2, 2.85, 28.42, 11.31, 5.99, 7.0, 6.95, 4.5, 9.43, 3.67, 3.72, 4.5, 1.46, 2.95, 6.0, 3.25, 4.1, 3.5, 4.25, 3.9, 3.95, 4.35, 2.8, 12.8, 4.0, 11.25, 4.15, 1.4, 2.65, 2.5, 4.5, 3.75, 5.77, 6.45, 2.35, 3.61, 3.42, 16.59, 3.95, 3.19, 3.63, 2.55, 7.25, 0.99, 2.7, 7.75, 6.95, 4.25, 6.84, 4.4, 4.94, 4.5, 3.3, 5.3, 5.53, 4.63, 5.49, 4.85, 3.1, 5.86, 8.92, 5.5, 6.98, 5.71, 2.4, 5.1, 6.95, 2.35, 4.95, 8.45, 5.9, 2.65, 6.75, 4.45, 4.5, 3.05, 5.5, 3.11, 12.9, 2.22, 4.15, 4.75, 11.0, 5.56, 1.87, 7.5, 5.34, 2.42, 7.2, 2.74, 5.85, 8.25, 2.2, 11.73, 3.1, 1.17, 4.75, 7.48, 3.39, 5.75, 10.88, 9.38, 6.85, 6.99, 4.3, 2.8, 2.25, 0.9, 7.75, 6.5, 6.75, 6.0, 3.7, 2.95, 3.0, 9.48, 2.55, 7.15, 3.65, 5.0, 3.49, 2.4, 9.75, 3.0, 7.0, 7.5, 2.0, 4.75, 8.9, 6.85, 2.6, 6.75, 3.25, 5.5, 3.65, 1.75, 2.99, 23.0, 3.55, 3.6, 2.48, 1.99, 3.3, 3.25, 4.75, 3.55, 3.99, 5.5, 20.0, 7.9, 0.95, 3.85, 13.25, 3.3, 3.75, 7.0, 3.25, 7.35, 6.25, 3.65, 4.55, 1.9, 2.5, 4.8, 4.75, 5.25, 2.25, 3.45, 3.25, 12.13, 13.35, 5.41, 4.94, 4.89, 5.1, 4.34, 6.93, 4.07, 4.65, 5.6, 7.3, 13.25, 3.85, 6.1, 3.8, 2.3, 7.47, 5.99, 6.72, 3.99, 4.0, 1.6, 1.5, 5.88, 2.9, 5.35, 4.9, 1.75, 5.75, 7.35, 12.5, 2.65, 1.55, 7.25, 4.3, 4.35, 3.45, 6.8, 4.33, 6.75, 2.45, 3.52, 8.27, 13.54, 6.35, 4.3, 1.75, 4.0, 5.8, 8.15, 3.16, 3.55, 4.25, 6.6, 3.32, 6.22, 4.5, 0.99, 18.6, 7.61, 7.35, 6.85, 5.25, 3.5, 4.65, 6.01, 1.92, 2.1, 7.0, 8.2, 7.75, 9.25, 3.75, 5.95, 2.13, 18.65, 4.21, 4.5, 5.5, 1.99, 2.49, 11.52, 5.59, 4.27, 7.11, 10.17, 6.33, 2.4, 3.6, 4.99, 3.2, 5.05, 5.27, 1.4, 7.75, 5.5, 6.15, 4.0, 2.9, 4.79, 3.85, 12.0, 7.48, 4.3, 19.46, 3.6, 2.19, 4.25, 3.25, 0.99, 3.35, 1.68, 5.45, 4.75, 7.75, 2.4, 5.1, 9.25, 4.75, 3.75, 6.25, 5.8, 3.45, 2.3, 1.3, 5.5, 5.5, 5.85, 3.6, 8.0, 5.94, 1.45, 4.3, 1.09, 3.0, 3.5, 3.6, 9.9, 6.25, 0.75, 4.5, 12.0, 3.41, 6.14, 3.3, 15.57, 13.52, 7.11, 4.7, 12.5, 4.55, 10.99, 10.82, 2.25, 7.99, 5.0, 5.9, 3.95, 9.3, 3.38, 10.94, 2.5, 9.9, 7.4, 4.4, 1.38, 2.7, 3.4, 8.4, 4.87, 4.5, 2.65, 11.9, 4.25, 3.0, 5.5, 3.25, 7.7, 8.0, 9.5, 3.25, 3.14, 12.5, 3.1, 8.0, 3.1, 3.5, 3.25, 5.85, 4.75, 8.5, 4.0, 5.76, 5.47, 7.9, 6.3, 2.65, 8.15, 7.1, 2.65, 13.28, 3.5, 7.8, 5.5, 2.75, 7.09, 2.8, 8.0, 6.9, 7.22, 5.55, 4.25, 6.36, 13.75, 4.76, 6.17, 2.0, 4.0, 4.9, 7.0, 7.85, 4.45, 4.0, 3.55, 2.9, 5.25, 5.9, 8.25, 15.9, 18.75, 6.95, 2.49, 5.0, 3.95, 1.8, 5.25, 3.25, 6.49, 2.0, 11.5, 4.5, 5.75, 2.35, 4.25, 7.9, 1.1, 1.7, 3.15, 1.35, 6.56, 32.1, 3.89, 3.5, 4.5, 7.38, 5.64, 1.59, 4.68, 14.25, 1.99, 7.49, 2.85, 3.25, 2.75, 5.83, 5.15, 4.95, 12.63, 2.25, 6.58, 4.52, 14.7, 9.48, 2.6, 2.85, 5.8, 5.49, 5.5, 2.75, 1.5, 3.99, 6.25, 2.6, 3.05, 6.3, 9.49, 6.95, 8.45, 2.5, 3.75, 6.46, 3.41, 6.21, 4.05, 2.85, 12.6, 3.2, 4.92, 5.87, 7.68, 23.86, 5.0, 6.26, 7.87, 6.17, 3.96, 7.85, 7.39, 2.59, 9.13, 7.51, 9.18, 6.69, 8.5, 2.4, 12.53, 1.95, 4.05, 7.65, 5.22, 1.55, 5.2, 10.7, 3.91, 2.15, 3.9, 6.21, 2.0, 1.75, 4.1, 1.1, 7.8, 5.95, 2.23, 2.8, 2.25, 3.11, 8.7, 7.99, 2.75, 3.55, 3.49, 2.6, 5.95, 3.25, 7.85, 17.65, 3.69, 9.19, 4.8, 4.85, 2.35, 5.2, 12.4, 7.59, 7.57, 7.88, 6.14, 6.22, 6.28, 6.64, 3.4, 9.9, 5.89, 1.89, 3.22, 7.29, 4.9, 5.75, 1.74, 6.75, 13.69, 7.43, 9.46, 5.44, 16.8, 13.39, 1.8, 3.45, 16.9, 5.25, 2.8, 11.0, 5.1, 2.35, 2.95, 6.5, 2.2, 5.25, 2.8, 3.25, 2.1, 7.75, 11.25, 9.3, 5.75, 6.45, 3.5, 4.85, 1.0, 6.3, 2.65, 4.8, 6.8, 3.64, 10.49, 8.77, 5.64, 12.49, 8.8, 4.72, 3.02, 4.38, 4.29, 6.71, 5.0, 3.3, 7.49, 2.65, 12.34, 2.7, 3.1, 3.08, 9.75, 7.73, 4.32, 2.95, 5.44, 6.41, 4.5, 8.85, 8.0, 1.95, 4.9, 10.25, 4.7, 2.5, 5.0, 3.7, 3.9, 10.0, 4.95, 7.5, 3.25, 4.95, 4.9, 3.2, 3.25, 6.35, 9.51, 30.42, 1.89, 5.95, 7.27, 2.3, 4.74, 13.34, 7.32, 6.87, 4.2, 8.61, 3.85, 4.27, 8.0, 1.88, 11.13, 2.59, 6.61, 2.21, 5.99, 6.54, 8.19, 3.0, 3.5, 1.36, 4.5, 4.5, 6.5, 3.8, 4.6, 7.0, 9.9, 2.85, 1.85, 8.5, 1.7, 15.0, 1.5, 4.65, 4.88, 7.4, 4.43, 1.6, 1.5, 12.75, 2.3, 3.15, 2.75, 4.75, 5.25, 6.25, 3.49, 2.65, 8.25, 3.0, 5.5, 3.1, 3.4, 3.9, 4.01, 3.15, 5.49, 2.6, 3.7, 10.49, 2.9, 2.9, 6.9, 5.35, 6.24, 5.5, 5.5, 5.4, 3.74, 2.79, 5.43, 3.7, 4.01, 4.95, 5.75, 8.02, 3.4, 4.95, 2.25, 3.4, 8.45, 8.45, 2.19, 5.75, 10.0, 8.09, 14.29, 5.09, 4.7, 3.74, 3.2, 14.6, 22.2, 8.12, 6.22, 3.1, 5.5, 3.59, 4.5, 6.58, 6.21, 3.19, 5.84, 2.39, 3.25, 19.05, 6.26, 7.39, 6.85, 3.25, 9.25, 3.24, 8.5, 1.75, 6.5, 6.96, 9.65, 7.0, 4.75, 9.25, 7.7, 3.99, 5.6, 3.25, 4.05, 4.65, 3.95, 8.34, 2.75, 3.6, 7.9, 4.64, 2.05, 4.5, 2.55, 6.46, 3.68, 6.28, 9.28, 3.71, 3.15, 3.87, 5.77, 8.39, 3.75, 4.05, 5.75, 3.0, 3.95, 2.8, 6.83, 8.61, 10.79, 8.25, 3.26, 4.25, 3.25, 9.25, 6.17, 2.4, 4.25, 4.25, 3.85, 2.55, 0.9, 4.95, 8.5, 10.25, 2.07, 5.5, 2.15, 5.5, 4.35, 5.3, 4.8, 9.5, 2.65, 2.1, 4.65, 9.75, 3.6, 5.65, 4.3, 3.89, 3.55, 3.75, 4.69, 4.7, 3.65, 8.24, 5.34, 6.45, 5.75, 7.85, 6.5, 4.66, 7.9, 1.99, 3.42, 5.53, 5.9, 21.42, 6.5, 3.9, 5.0, 5.75, 3.6, 5.65, 7.15, 2.61, 7.25, 3.0, 4.9, 10.5, 1.75, 2.7, 2.25, 5.0, 7.75, 5.0, 16.95, 19.85, 9.0, 2.15, 4.95, 9.5, 6.25, 3.48, 5.84, 2.49, 3.38, 4.45, 2.9, 2.25, 14.28, 12.81, 2.99, 8.45, 1.45, 6.1, 6.3, 7.29, 5.81, 4.65, 3.05, 2.65, 7.79, 3.75, 2.1, 3.25, 6.0, 8.0, 6.7, 1.6, 3.1, 6.0, 3.2, 6.95, 5.95, 3.25, 2.5, 7.75, 5.25, 7.75, 2.8, 10.75, 5.0, 5.5, 3.2, 3.75, 4.9, 8.75, 3.5, 12.25, 6.0, 3.3, 6.55, 3.25, 8.99, 6.0, 2.3, 3.35, 16.36, 4.85, 3.29, 5.3, 6.43, 6.3, 6.0, 2.44, 7.9, 4.15, 10.25, 4.31, 7.46, 13.48, 3.9, 7.7, 4.87, 5.84, 3.25, 13.0, 3.45, 3.2, 5.75, 6.5, 8.35, 1.75, 6.5, 6.5, 8.75, 4.25, 4.0, 2.35, 10.0, 7.0, 1.6, 12.6, 6.5, 19.0, 5.99, 5.95, 6.64, 17.02, 6.7, 6.18, 9.74, 11.0, 2.6, 5.53, 2.4, 9.66, 3.5, 5.95, 6.95, 13.05, 8.4, 4.74, 5.12, 2.15, 4.94, 5.55, 7.72, 5.25, 5.07, 5.6, 7.1, 7.1, 5.75, 10.91, 13.75, 10.0, 3.4, 2.65, 3.25, 6.25, 4.65, 2.65, 8.75, 4.73, 3.55, 2.85, 5.95, 5.0, 5.85, 5.45, 3.28, 4.95, 3.31, 14.19, 4.75, 6.27, 7.0, 9.47, 5.85, 6.37, 1.95, 1.6, 4.95, 8.15, 6.75, 2.19, 4.5, 15.0, 8.3, 4.35, 4.5, 5.27, 3.5, 4.5, 12.9, 5.9, 7.95, 4.45, 8.0, 6.95, 5.99, 6.5, 6.16, 6.9, 3.0, 4.45, 11.39, 5.75, 2.35, 10.08, 8.61, 5.67, 3.79, 4.99, 5.86, 8.9, 2.8, 1.2, 4.25, 10.75, 2.75, 4.29, 2.15, 2.9, 7.98, 17.55, 5.43, 1.97, 10.0, 2.55, 12.5, 9.5, 3.0, 5.0, 4.25, 4.25, 26.0, 1.5, 2.6, 7.5, 6.2, 8.99, 9.75, 3.75, 5.5, 6.5, 6.99, 5.35, 6.2, 5.84, 2.13, 2.62, 6.85, 3.15, 9.95, 4.29, 3.5, 7.0, 2.15, 3.55, 5.9, 7.83, 3.25, 7.09, 2.55, 5.9, 10.34, 6.2, 3.35, 8.22, 8.26, 3.75, 17.11, 6.48, 7.76, 7.74, 3.5, 2.99, 5.5, 6.15, 3.95, 2.75, 6.9, 8.0, 5.0, 6.75, 2.75, 2.75, 2.65, 1.25, 5.15, 5.99, 26.0, 4.25, 3.8, 8.65, 5.65, 8.3, 1.75, 5.35, 9.0, 7.66, 13.37, 16.27, 5.6, 6.21, 7.5, 2.87, 7.07, 2.36, 2.9, 13.5, 7.9, 20.4, 3.0, 11.0, 8.18, 3.7, 2.44, 4.65, 6.7, 3.46, 9.18, 2.01, 4.1, 6.2, 5.75, 4.0, 4.25, 11.51, 2.95, 6.2, 8.2, 3.1, 5.21, 2.8, 3.5, 8.4, 7.75, 5.38, 11.87, 3.46, 3.0, 6.57, 8.25, 3.52, 5.1, 6.02, 3.9, 3.75, 6.5, 4.5, 12.03, 11.65, 2.39, 5.49, 5.6, 6.9, 7.0, 4.95, 1.5, 4.25, 1.9, 4.5, 7.05, 4.9, 6.5, 5.6, 7.0, 4.44, 6.9, 6.19, 6.14, 7.53, 5.55, 8.5, 7.8, 5.99, 7.23, 4.95, 6.5, 8.75, 4.25, 3.55, 0.8, 5.58, 3.65, 16.5, 2.6, 8.25, 3.8, 4.8, 4.75, 6.29, 4.25, 4.5, 7.85, 7.95, 3.7, 4.11, 2.25, 16.0, 3.95, 3.7, 8.75, 5.11, 9.88, 4.95, 6.42, 3.35, 3.38, 3.01, 8.9, 6.16, 6.0, 4.55, 4.0, 2.9, 9.44, 9.66, 8.78, 5.38, 5.25, 2.75, 4.9, 2.79, 0.95, 3.75, 6.21, 4.75, 6.3, 3.75, 3.75, 10.9, 8.75, 2.35, 7.27, 2.78, 2.25, 4.3, 5.92, 6.25, 6.94, 6.07, 6.37, 7.58, 2.6, 5.4, 2.0, 5.6, 6.34, 7.64, 2.66, 16.09, 4.35, 3.5, 6.22, 8.46, 5.5, 5.98, 6.0, 3.5, 8.5, 16.5, 2.66, 3.75, 4.5, 3.85, 7.9, 6.75, 4.5, 9.0, 2.3, 1.74, 5.04, 4.5, 6.95, 3.8, 1.53, 13.12, 6.15, 5.85, 2.85, 8.25, 8.42, 24.5, 8.35, 5.89, 2.7, 3.8, 5.25, 3.0, 5.91, 2.99, 5.25, 5.25, 4.95, 7.25, 9.25, 5.55, 5.0, 4.75, 7.71, 1.25, 8.32, 6.22, 7.56, 8.51, 7.93, 9.18, 6.25, 5.75, 6.17, 7.25, 4.5, 11.31, 6.26, 1.0, 4.12, 2.3, 3.0, 4.9, 3.35, 2.25, 2.5, 2.85, 8.25, 4.4, 1.0, 7.5, 5.32, 8.5, 7.97, 3.65, 8.7, 11.94, 6.35, 7.21, 9.62, 6.0, 9.75, 3.1, 5.9, 5.84, 5.65, 8.4, 5.4, 1.46, 3.15, 5.65, 7.65, 6.9, 9.2, 8.25, 4.25, 6.5, 2.1, 4.9, 3.1, 3.6, 3.87, 6.99, 6.06, 1.6, 6.79, 5.85, 5.5, 7.65, 9.31, 3.3, 3.75, 5.0, 11.5, 10.36, 5.5, 7.83, 18.5, 5.75, 6.95, 5.4, 4.35, 2.99, 7.77, 9.96, 6.25, 12.49, 2.25, 5.65, 3.75, 3.58, 3.36, 6.4, 7.5, 5.11, 4.75, 3.69, 3.75, 9.29, 6.37, 17.5, 6.05, 7.1, 2.35, 2.25, 8.0, 4.25, 8.9, 3.65, 4.9, 3.9, 3.75, 7.4, 6.27, 5.85, 5.37, 5.37, 2.47, 5.48, 4.4, 4.14, 5.6, 6.99, 27.36, 8.11, 14.5, 5.65, 6.69, 4.23, 7.32, 3.47, 3.95, 6.59, 7.4, 5.75, 9.25, 5.25, 7.5, 9.9, 4.9, 3.0, 5.95, 4.6, 2.8, 3.2, 11.25, 4.6, 6.44, 8.2, 9.5, 4.41, 4.75, 3.75, 8.91, 6.45, 4.7, 12.0, 6.8, 3.15, 4.06, 9.11, 3.5, 6.6, 10.9, 5.15, 4.65, 10.5, 8.92, 3.25, 7.67, 2.4, 5.8, 3.5, 2.75, 4.15, 3.0, 4.65, 11.88, 4.9, 6.75, 5.5, 5.5, 3.25, 12.75, 5.4, 4.5, 8.5, 0.45, 5.8, 3.65, 11.0, 2.45, 7.75, 3.1, 5.5, 6.1, 3.5, 7.3, 10.28, 2.25, 10.07, 8.9, 2.75, 3.8, 14.25, 22.55, 2.35, 8.5, 3.35, 2.9, 3.95, 6.1, 7.95, 3.9, 6.75, 8.0, 9.4, 5.95, 1.4, 6.35, 4.75, 6.51, 3.5, 9.18, 5.9, 4.7, 6.51, 6.03, 6.75, 10.95, 4.99, 6.5, 40.0, 4.0, 5.85, 3.5, 5.5, 4.5, 6.5, 13.2, 2.75, 5.88, 3.5, 2.95, 5.75, 2.95, 8.0, 5.75, 5.15, 6.85, 5.75, 5.5, 8.5, 13.0, 3.55, 19.92, 7.34, 2.55, 13.56, 3.2, 3.42, 5.49, 4.8, 5.0, 35.0, 3.21, 4.4, 3.0, 7.9, 6.75, 3.75, 7.5, 3.8, 8.76, 6.15, 11.15, 5.0, 4.35, 3.59, 5.7, 6.9, 3.6, 5.35, 17.45, 3.0, 7.65, 7.2, 4.75, 5.09, 3.6, 23.91, 11.54, 8.25, 5.95, 7.25, 6.7, 2.5, 7.5, 2.7, 16.5, 0.8, 11.92, 2.8, 8.2, 8.65, 3.98, 11.45, 6.5, 3.5, 10.11, 6.95, 8.7, 9.22, 3.6, 4.11, 3.0, 1.2, 4.8, 4.8, 1.38, 3.15, 4.8, 8.25, 3.0, 5.55, 5.2, 6.45, 6.8, 14.01, 7.9, 3.5, 8.75, 8.41, 3.3, 12.75, 8.25, 2.3, 2.75, 3.6, 8.2, 8.7, 7.75, 8.65, 4.45, 5.1, 4.29, 6.0, 4.7, 13.5, 7.55, 7.23, 7.5, 8.6, 5.68, 6.8, 3.4, 6.36, 6.5, 3.6], \"yaxis\": \"y\"}],\n",
              "                        {\"legend\": {\"tracegroupgap\": 0}, \"template\": {\"data\": {\"bar\": [{\"error_x\": {\"color\": \"#2a3f5f\"}, \"error_y\": {\"color\": \"#2a3f5f\"}, \"marker\": {\"line\": {\"color\": \"#E5ECF6\", \"width\": 0.5}}, \"type\": \"bar\"}], \"barpolar\": [{\"marker\": {\"line\": {\"color\": \"#E5ECF6\", \"width\": 0.5}}, \"type\": \"barpolar\"}], \"carpet\": [{\"aaxis\": {\"endlinecolor\": \"#2a3f5f\", \"gridcolor\": \"white\", \"linecolor\": \"white\", \"minorgridcolor\": \"white\", \"startlinecolor\": \"#2a3f5f\"}, \"baxis\": {\"endlinecolor\": \"#2a3f5f\", \"gridcolor\": \"white\", \"linecolor\": \"white\", \"minorgridcolor\": \"white\", \"startlinecolor\": \"#2a3f5f\"}, \"type\": \"carpet\"}], \"choropleth\": [{\"colorbar\": {\"outlinewidth\": 0, \"ticks\": \"\"}, \"type\": \"choropleth\"}], \"contour\": [{\"colorbar\": {\"outlinewidth\": 0, \"ticks\": \"\"}, \"colorscale\": [[0.0, \"#0d0887\"], [0.1111111111111111, \"#46039f\"], [0.2222222222222222, \"#7201a8\"], [0.3333333333333333, \"#9c179e\"], [0.4444444444444444, \"#bd3786\"], [0.5555555555555556, \"#d8576b\"], [0.6666666666666666, \"#ed7953\"], [0.7777777777777778, \"#fb9f3a\"], [0.8888888888888888, \"#fdca26\"], [1.0, \"#f0f921\"]], \"type\": \"contour\"}], \"contourcarpet\": [{\"colorbar\": {\"outlinewidth\": 0, \"ticks\": \"\"}, \"type\": \"contourcarpet\"}], \"heatmap\": [{\"colorbar\": {\"outlinewidth\": 0, \"ticks\": \"\"}, \"colorscale\": [[0.0, \"#0d0887\"], [0.1111111111111111, \"#46039f\"], [0.2222222222222222, \"#7201a8\"], [0.3333333333333333, \"#9c179e\"], [0.4444444444444444, \"#bd3786\"], [0.5555555555555556, \"#d8576b\"], [0.6666666666666666, \"#ed7953\"], [0.7777777777777778, \"#fb9f3a\"], [0.8888888888888888, \"#fdca26\"], [1.0, \"#f0f921\"]], \"type\": \"heatmap\"}], \"heatmapgl\": [{\"colorbar\": {\"outlinewidth\": 0, \"ticks\": \"\"}, \"colorscale\": [[0.0, \"#0d0887\"], [0.1111111111111111, \"#46039f\"], [0.2222222222222222, \"#7201a8\"], [0.3333333333333333, \"#9c179e\"], [0.4444444444444444, \"#bd3786\"], [0.5555555555555556, \"#d8576b\"], [0.6666666666666666, \"#ed7953\"], [0.7777777777777778, \"#fb9f3a\"], [0.8888888888888888, \"#fdca26\"], [1.0, \"#f0f921\"]], \"type\": \"heatmapgl\"}], \"histogram\": [{\"marker\": {\"colorbar\": {\"outlinewidth\": 0, \"ticks\": \"\"}}, \"type\": \"histogram\"}], \"histogram2d\": [{\"colorbar\": {\"outlinewidth\": 0, \"ticks\": \"\"}, \"colorscale\": [[0.0, \"#0d0887\"], [0.1111111111111111, \"#46039f\"], [0.2222222222222222, \"#7201a8\"], [0.3333333333333333, \"#9c179e\"], [0.4444444444444444, \"#bd3786\"], [0.5555555555555556, \"#d8576b\"], [0.6666666666666666, \"#ed7953\"], [0.7777777777777778, \"#fb9f3a\"], [0.8888888888888888, \"#fdca26\"], [1.0, \"#f0f921\"]], \"type\": \"histogram2d\"}], \"histogram2dcontour\": [{\"colorbar\": {\"outlinewidth\": 0, \"ticks\": \"\"}, \"colorscale\": [[0.0, \"#0d0887\"], [0.1111111111111111, \"#46039f\"], [0.2222222222222222, \"#7201a8\"], [0.3333333333333333, \"#9c179e\"], [0.4444444444444444, \"#bd3786\"], [0.5555555555555556, \"#d8576b\"], [0.6666666666666666, \"#ed7953\"], [0.7777777777777778, \"#fb9f3a\"], [0.8888888888888888, \"#fdca26\"], [1.0, \"#f0f921\"]], \"type\": \"histogram2dcontour\"}], \"mesh3d\": [{\"colorbar\": {\"outlinewidth\": 0, \"ticks\": \"\"}, \"type\": \"mesh3d\"}], \"parcoords\": [{\"line\": {\"colorbar\": {\"outlinewidth\": 0, \"ticks\": \"\"}}, \"type\": \"parcoords\"}], \"pie\": [{\"automargin\": true, \"type\": \"pie\"}], \"scatter\": [{\"marker\": {\"colorbar\": {\"outlinewidth\": 0, \"ticks\": \"\"}}, \"type\": \"scatter\"}], \"scatter3d\": [{\"line\": {\"colorbar\": {\"outlinewidth\": 0, \"ticks\": \"\"}}, \"marker\": {\"colorbar\": {\"outlinewidth\": 0, \"ticks\": \"\"}}, \"type\": \"scatter3d\"}], \"scattercarpet\": [{\"marker\": {\"colorbar\": {\"outlinewidth\": 0, \"ticks\": \"\"}}, \"type\": \"scattercarpet\"}], \"scattergeo\": [{\"marker\": {\"colorbar\": {\"outlinewidth\": 0, \"ticks\": \"\"}}, \"type\": \"scattergeo\"}], \"scattergl\": [{\"marker\": {\"colorbar\": {\"outlinewidth\": 0, \"ticks\": \"\"}}, \"type\": \"scattergl\"}], \"scattermapbox\": [{\"marker\": {\"colorbar\": {\"outlinewidth\": 0, \"ticks\": \"\"}}, \"type\": \"scattermapbox\"}], \"scatterpolar\": [{\"marker\": {\"colorbar\": {\"outlinewidth\": 0, \"ticks\": \"\"}}, \"type\": \"scatterpolar\"}], \"scatterpolargl\": [{\"marker\": {\"colorbar\": {\"outlinewidth\": 0, \"ticks\": \"\"}}, \"type\": \"scatterpolargl\"}], \"scatterternary\": [{\"marker\": {\"colorbar\": {\"outlinewidth\": 0, \"ticks\": \"\"}}, \"type\": \"scatterternary\"}], \"surface\": [{\"colorbar\": {\"outlinewidth\": 0, \"ticks\": \"\"}, \"colorscale\": [[0.0, \"#0d0887\"], [0.1111111111111111, \"#46039f\"], [0.2222222222222222, \"#7201a8\"], [0.3333333333333333, \"#9c179e\"], [0.4444444444444444, \"#bd3786\"], [0.5555555555555556, \"#d8576b\"], [0.6666666666666666, \"#ed7953\"], [0.7777777777777778, \"#fb9f3a\"], [0.8888888888888888, \"#fdca26\"], [1.0, \"#f0f921\"]], \"type\": \"surface\"}], \"table\": [{\"cells\": {\"fill\": {\"color\": \"#EBF0F8\"}, \"line\": {\"color\": \"white\"}}, \"header\": {\"fill\": {\"color\": \"#C8D4E3\"}, \"line\": {\"color\": \"white\"}}, \"type\": \"table\"}]}, \"layout\": {\"annotationdefaults\": {\"arrowcolor\": \"#2a3f5f\", \"arrowhead\": 0, \"arrowwidth\": 1}, \"coloraxis\": {\"colorbar\": {\"outlinewidth\": 0, \"ticks\": \"\"}}, \"colorscale\": {\"diverging\": [[0, \"#8e0152\"], [0.1, \"#c51b7d\"], [0.2, \"#de77ae\"], [0.3, \"#f1b6da\"], [0.4, \"#fde0ef\"], [0.5, \"#f7f7f7\"], [0.6, \"#e6f5d0\"], [0.7, \"#b8e186\"], [0.8, \"#7fbc41\"], [0.9, \"#4d9221\"], [1, \"#276419\"]], \"sequential\": [[0.0, \"#0d0887\"], [0.1111111111111111, \"#46039f\"], [0.2222222222222222, \"#7201a8\"], [0.3333333333333333, \"#9c179e\"], [0.4444444444444444, \"#bd3786\"], [0.5555555555555556, \"#d8576b\"], [0.6666666666666666, \"#ed7953\"], [0.7777777777777778, \"#fb9f3a\"], [0.8888888888888888, \"#fdca26\"], [1.0, \"#f0f921\"]], \"sequentialminus\": [[0.0, \"#0d0887\"], [0.1111111111111111, \"#46039f\"], [0.2222222222222222, \"#7201a8\"], [0.3333333333333333, \"#9c179e\"], [0.4444444444444444, \"#bd3786\"], [0.5555555555555556, \"#d8576b\"], [0.6666666666666666, \"#ed7953\"], [0.7777777777777778, \"#fb9f3a\"], [0.8888888888888888, \"#fdca26\"], [1.0, \"#f0f921\"]]}, \"colorway\": [\"#636efa\", \"#EF553B\", \"#00cc96\", \"#ab63fa\", \"#FFA15A\", \"#19d3f3\", \"#FF6692\", \"#B6E880\", \"#FF97FF\", \"#FECB52\"], \"font\": {\"color\": \"#2a3f5f\"}, \"geo\": {\"bgcolor\": \"white\", \"lakecolor\": \"white\", \"landcolor\": \"#E5ECF6\", \"showlakes\": true, \"showland\": true, \"subunitcolor\": \"white\"}, \"hoverlabel\": {\"align\": \"left\"}, \"hovermode\": \"closest\", \"mapbox\": {\"style\": \"light\"}, \"paper_bgcolor\": \"white\", \"plot_bgcolor\": \"#E5ECF6\", \"polar\": {\"angularaxis\": {\"gridcolor\": \"white\", \"linecolor\": \"white\", \"ticks\": \"\"}, \"bgcolor\": \"#E5ECF6\", \"radialaxis\": {\"gridcolor\": \"white\", \"linecolor\": \"white\", \"ticks\": \"\"}}, \"scene\": {\"xaxis\": {\"backgroundcolor\": \"#E5ECF6\", \"gridcolor\": \"white\", \"gridwidth\": 2, \"linecolor\": \"white\", \"showbackground\": true, \"ticks\": \"\", \"zerolinecolor\": \"white\"}, \"yaxis\": {\"backgroundcolor\": \"#E5ECF6\", \"gridcolor\": \"white\", \"gridwidth\": 2, \"linecolor\": \"white\", \"showbackground\": true, \"ticks\": \"\", \"zerolinecolor\": \"white\"}, \"zaxis\": {\"backgroundcolor\": \"#E5ECF6\", \"gridcolor\": \"white\", \"gridwidth\": 2, \"linecolor\": \"white\", \"showbackground\": true, \"ticks\": \"\", \"zerolinecolor\": \"white\"}}, \"shapedefaults\": {\"line\": {\"color\": \"#2a3f5f\"}}, \"ternary\": {\"aaxis\": {\"gridcolor\": \"white\", \"linecolor\": \"white\", \"ticks\": \"\"}, \"baxis\": {\"gridcolor\": \"white\", \"linecolor\": \"white\", \"ticks\": \"\"}, \"bgcolor\": \"#E5ECF6\", \"caxis\": {\"gridcolor\": \"white\", \"linecolor\": \"white\", \"ticks\": \"\"}}, \"title\": {\"x\": 0.05}, \"xaxis\": {\"automargin\": true, \"gridcolor\": \"white\", \"linecolor\": \"white\", \"ticks\": \"\", \"title\": {\"standoff\": 15}, \"zerolinecolor\": \"white\", \"zerolinewidth\": 2}, \"yaxis\": {\"automargin\": true, \"gridcolor\": \"white\", \"linecolor\": \"white\", \"ticks\": \"\", \"title\": {\"standoff\": 15}, \"zerolinecolor\": \"white\", \"zerolinewidth\": 2}}}, \"title\": {\"text\": \"Harga Mobil Bekas berdasarkan Mileage\"}, \"xaxis\": {\"anchor\": \"y\", \"domain\": [0.0, 1.0], \"title\": {\"text\": \"Mileage\"}}, \"yaxis\": {\"anchor\": \"x\", \"domain\": [0.0, 1.0], \"title\": {\"text\": \"Price\"}}},\n",
              "                        {\"responsive\": true}\n",
              "                    ).then(function(){\n",
              "                            \n",
              "var gd = document.getElementById('fef56a4e-e2ef-4d4f-b71a-5af563b49740');\n",
              "var x = new MutationObserver(function (mutations, observer) {{\n",
              "        var display = window.getComputedStyle(gd).display;\n",
              "        if (!display || display === 'none') {{\n",
              "            console.log([gd, 'removed!']);\n",
              "            Plotly.purge(gd);\n",
              "            observer.disconnect();\n",
              "        }}\n",
              "}});\n",
              "\n",
              "// Listen for the removal of the full notebook cells\n",
              "var notebookContainer = gd.closest('#notebook-container');\n",
              "if (notebookContainer) {{\n",
              "    x.observe(notebookContainer, {childList: true});\n",
              "}}\n",
              "\n",
              "// Listen for the clearing of the current output cell\n",
              "var outputEl = gd.closest('.output');\n",
              "if (outputEl) {{\n",
              "    x.observe(outputEl, {childList: true});\n",
              "}}\n",
              "\n",
              "                        })\n",
              "                };\n",
              "                \n",
              "            </script>\n",
              "        </div>\n",
              "</body>\n",
              "</html>"
            ]
          },
          "metadata": {
            "tags": []
          }
        }
      ]
    },
    {
      "cell_type": "code",
      "metadata": {
        "id": "InyoxHBZLZJk",
        "colab_type": "code",
        "colab": {
          "base_uri": "https://localhost:8080/",
          "height": 542
        },
        "outputId": "3691192d-8077-4dfb-a247-c85c0c2dc515"
      },
      "source": [
        "import plotly.express as px\n",
        "\n",
        "fig = px.scatter(datakm, x=\"Engine\", y=\"Price\", color=\"Transmission\",\n",
        "                 title=\"Harga Mobil Bekas berdasarkan Engine\",\n",
        "                )\n",
        "\n",
        "fig.show()"
      ],
      "execution_count": null,
      "outputs": [
        {
          "output_type": "display_data",
          "data": {
            "text/html": [
              "<html>\n",
              "<head><meta charset=\"utf-8\" /></head>\n",
              "<body>\n",
              "    <div>\n",
              "            <script src=\"https://cdnjs.cloudflare.com/ajax/libs/mathjax/2.7.5/MathJax.js?config=TeX-AMS-MML_SVG\"></script><script type=\"text/javascript\">if (window.MathJax) {MathJax.Hub.Config({SVG: {font: \"STIX-Web\"}});}</script>\n",
              "                <script type=\"text/javascript\">window.PlotlyConfig = {MathJaxConfig: 'local'};</script>\n",
              "        <script src=\"https://cdn.plot.ly/plotly-latest.min.js\"></script>    \n",
              "            <div id=\"d1e764e1-dfe7-4f52-b07b-60fbac49de08\" class=\"plotly-graph-div\" style=\"height:525px; width:100%;\"></div>\n",
              "            <script type=\"text/javascript\">\n",
              "                \n",
              "                    window.PLOTLYENV=window.PLOTLYENV || {};\n",
              "                    \n",
              "                if (document.getElementById(\"d1e764e1-dfe7-4f52-b07b-60fbac49de08\")) {\n",
              "                    Plotly.newPlot(\n",
              "                        'd1e764e1-dfe7-4f52-b07b-60fbac49de08',\n",
              "                        [{\"hoverlabel\": {\"namelength\": 0}, \"hovertemplate\": \"Transmission=Automatic<br>Engine=%{x}<br>Price=%{y}\", \"legendgroup\": \"Transmission=Automatic\", \"marker\": {\"color\": \"#636efa\", \"symbol\": \"circle\"}, \"mode\": \"markers\", \"name\": \"Transmission=Automatic\", \"showlegend\": true, \"type\": \"scattergl\", \"x\": [\"1968 \", \"1968 \", \"1796 \", \"1968 \", \"2953 \", \"2400 \", \"1995 \", \"1995 \", \"1794 \", \"2982 \", \"1799 \", \"2982 \", \"2993 \", \"1968 \", \"2179 \", \"1991 \", \"2987 \", \"1995 \", \"1968 \", \"1997 \", \"2362 \", \"2987 \", \"2143 \", \"2987 \", \"2497 \", \"2982 \", \"2179 \", \"3197 \", \"2354 \", \"2993 \", \"2982 \", \"1968 \", \"1995 \", \"2967 \", \"1995 \", \"2987 \", \"1968 \", \"1498 \", \"2997 \", \"2987 \", \"2179 \", \"2143 \", \"2967 \", \"2720 \", \"2982 \", \"2354 \", \"1968 \", \"1995 \", \"1582 \", \"1997 \", \"2698 \", \"2993 \", \"2987 \", \"1798 \", \"2993 \", \"2993 \", \"2199 \", \"1968 \", \"2199 \", \"1968 \", \"1798 \", \"2179 \", \"2179 \", \"2993 \", \"1995 \", \"1798 \", \"2755 \", \"2143 \", \"2400 \", \"1968 \", \"1968 \", \"1794 \", \"1995 \", \"1582 \", \"1995 \", \"3498 \", \"799 \", \"2967 \", \"2987 \", \"2400 \", \"1995 \", \"2982 \", \"2987 \", \"1995 \", \"2982 \", \"2993 \", \"1896 \", \"2755 \", \"2987 \", \"2982 \", \"2953 \", \"2199 \", \"1995 \", \"1984 \", \"2987 \", \"2987 \", \"1995 \", \"2987 \", \"2143 \", \"2496 \", \"1497 \", \"2400 \", \"1995 \", \"1493 \", \"1984 \", \"2967 \", \"1995 \", \"2987 \", \"2967 \", \"2967 \", \"1598 \", \"2993 \", \"1582 \", \"2982 \", \"1582 \", \"1598 \", \"2179 \", \"1995 \", \"2179 \", \"2982 \", \"1968 \", \"1995 \", \"1799 \", \"1798 \", \"2354 \", \"1968 \", \"2993 \", \"2982 \", \"1995 \", \"2354 \", \"2967 \", \"1991 \", \"1984 \", \"1799 \", \"2143 \", \"2993 \", \"3498 \", \"2143 \", \"2987 \", \"2400 \", \"2982 \", \"1984 \", \"1968 \", \"2967 \", \"2953 \", \"2696 \", \"1896 \", \"2953 \", \"2143 \", \"3198 \", \"2354 \", \"2982 \", \"2993 \", \"2698 \", \"2993 \", \"1995 \", \"1995 \", \"2982 \", \"1995 \", \"1198 \", \"1497 \", \"1995 \", \"1995 \", \"1798 \", \"1991 \", \"1197 \", \"2354 \", \"2755 \", \"1995 \", \"2993 \", \"1794 \", \"2354 \", \"2967 \", \"1968 \", \"1968 \", \"1968 \", \"1968 \", \"2497 \", \"1968 \", \"2982 \", \"1995 \", \"2143 \", \"2354 \", \"1582 \", \"2400 \", \"1968 \", \"2349 \", \"2143 \", \"1985 \", \"2199 \", \"2179 \", \"1995 \", \"1968 \", \"2987 \", \"1950 \", \"2987 \", \"2987 \", \"2179 \", \"2354 \", \"1796 \", \"1968 \", \"2179 \", \"2987 \", \"1995 \", \"1968 \", \"2179 \", \"4367 \", \"1968 \", \"1968 \", \"2354 \", \"1968 \", \"1794 \", \"1968 \", \"2354 \", \"2496 \", \"2987 \", \"1582 \", \"2497 \", \"1995 \", \"2179 \", \"1798 \", \"2993 \", \"1497 \", \"2354 \", \"1995 \", \"1968 \", \"3498 \", \"1798 \", \"2179 \", \"1968 \", \"1995 \", \"1968 \", \"1497 \", \"2143 \", \"2179 \", \"2143 \", \"2987 \", \"1968 \", \"2362 \", \"1798 \", \"1798 \", \"2354 \", \"2987 \", \"2696 \", \"1995 \", \"1794 \", \"1798 \", \"2755 \", \"1995 \", \"2354 \", \"4134 \", \"1968 \", \"2987 \", \"2967 \", \"2354 \", \"1968 \", \"2982 \", \"1582 \", \"2982 \", \"1995 \", \"2982 \", \"2400 \", \"2143 \", \"2143 \", \"1497 \", \"1497 \", \"1991 \", \"1995 \", \"2993 \", \"1794 \", \"2354 \", \"2953 \", \"1798 \", \"1995 \", \"2477 \", \"2698 \", \"2497 \", \"998 \", \"2143 \", \"1586 \", \"1968 \", \"1582 \", \"1995 \", \"2496 \", \"2179 \", \"1968 \", \"1968 \", \"2987 \", \"1995 \", \"1798 \", \"1086 \", \"2360 \", \"1968 \", \"1995 \", \"2993 \", \"1995 \", \"2696 \", \"4367 \", \"2996 \", \"2993 \", \"1995 \", \"1591 \", \"2993 \", \"2198 \", \"2179 \", \"1498 \", \"1582 \", \"2993 \", \"2987 \", \"1968 \", \"2993 \", \"1798 \", \"1995 \", \"1968 \", \"999 \", \"2143 \", \"1995 \", \"1968 \", \"2497 \", \"1896 \", \"2496 \", \"1896 \", \"1995 \", \"1798 \", \"1798 \", \"2993 \", \"1995 \", \"1991 \", \"998 \", \"2143 \", \"1497 \", \"4806 \", \"4134 \", \"2982 \", \"1995 \", \"3498 \", \"2143 \", \"2967 \", \"1968 \", \"2967 \", \"1396 \", \"1396 \", \"2179 \", \"2179 \", \"1995 \", \"1799 \", \"1497 \", \"2696 \", \"1968 \", \"1968 \", \"2982 \", \"1968 \", \"1991 \", \"1798 \", \"1582 \", \"1086 \", \"1995 \", \"1582 \", \"1968 \", \"4134 \", \"1968 \", \"1197 \", \"1995 \", \"2497 \", \"1798 \", \"1968 \", \"2143 \", \"2967 \", \"1995 \", \"1995 \", \"2179 \", \"2987 \", \"1968 \", \"1995 \", \"2982 \", \"2148 \", \"1995 \", \"1995 \", \"2497 \", \"1995 \", \"1197 \", \"2993 \", \"1497 \", \"2993 \", \"1197 \", \"1995 \", \"2987 \", \"1995 \", \"1968 \", \"1799 \", \"2755 \", \"1197 \", \"2143 \", \"998 \", \"2494 \", \"2987 \", \"2982 \", \"1968 \", \"1461 \", \"3498 \", \"2993 \", \"3198 \", \"2179 \", \"1896 \", \"1798 \", \"2179 \", \"2987 \", \"1998 \", \"2143 \", \"2696 \", \"2494 \", \"1995 \", \"1794 \", \"1968 \", \"1798 \", \"2199 \", \"2179 \", \"1968 \", \"2755 \", \"4367 \", \"1199 \", \"2696 \", \"1498 \", \"2987 \", \"2143 \", \"2354 \", \"2979 \", \"2354 \", \"1995 \", \"1995 \", \"1582 \", \"2987 \", \"2993 \", \"2967 \", \"1582 \", \"1968 \", \"1968 \", \"2354 \", \"2143 \", \"2755 \", \"4395 \", \"1968 \", \"2993 \", \"1995 \", \"4134 \", \"2993 \", \"1995 \", \"1248 \", \"1798 \", \"1995 \", \"1995 \", \"1995 \", \"1498 \", \"2143 \", \"2982 \", \"2993 \", \"1968 \", \"2696 \", \"1582 \", \"1197 \", \"1896 \", \"2179 \", \"1968 \", \"1248 \", \"998 \", \"1995 \", \"1796 \", \"2143 \", \"1995 \", \"1497 \", \"2143 \", \"2987 \", \"1997 \", \"1796 \", \"1968 \", \"1794 \", \"1995 \", \"2354 \", \"1497 \", \"1968 \", \"2967 \", \"2987 \", \"1995 \", \"4367 \", \"2143 \", \"1997 \", \"1995 \", \"2362 \", \"1995 \", \"1968 \", \"1995 \", \"2354 \", \"1197 \", \"1998 \", \"1968 \", \"1798 \", \"1968 \", \"2997 \", \"1497 \", \"2143 \", \"2179 \", \"1799 \", \"2696 \", \"1799 \", \"1968 \", \"2179 \", \"1968 \", \"1197 \", \"1798 \", \"1197 \", \"1197 \", \"1995 \", \"1995 \", \"1395 \", \"2696 \", \"3198 \", \"1796 \", \"1598 \", \"2497 \", \"1968 \", \"1968 \", \"1497 \", \"1499 \", \"1497 \", \"998 \", \"1197 \", \"1497 \", \"2967 \", \"2967 \", \"1995 \", \"1968 \", \"2967 \", \"1798 \", \"1968 \", \"1498 \", \"1968 \", \"1968 \", \"1968 \", \"2354 \", \"2143 \", \"1968 \", \"1497 \", \"1497 \", \"1497 \", \"1968 \", \"1968 \", \"1796 \", \"1197 \", \"2148 \", \"1991 \", \"1968 \", \"2967 \", \"1798 \", \"1968 \", \"2179 \", \"1968 \", \"1496 \", \"1984 \", \"1995 \", \"2179 \", \"1197 \", \"998 \", \"1995 \", \"3198 \", \"2143 \", \"2967 \", \"2143 \", \"1998 \", \"2993 \", \"2199 \", \"2993 \", \"1968 \", \"1798 \", \"1968 \", \"1968 \", \"1984 \", \"1582 \", \"1968 \", \"1968 \", \"2143 \", \"1995 \", \"1995 \", \"1197 \", \"1968 \", \"1995 \", \"1999 \", \"2143 \", \"1497 \", \"1461 \", \"1995 \", \"2967 \", \"2199 \", \"2148 \", \"1995 \", \"1968 \", \"1968 \", \"1995 \", \"1995 \", \"1796 \", \"1396 \", \"2993 \", \"1995 \", \"2993 \", \"2993 \", \"1968 \", \"1197 \", \"2993 \", \"1198 \", \"2993 \", \"1197 \", \"1968 \", \"1582 \", \"1968 \", \"1998 \", \"1995 \", \"1197 \", \"2143 \", \"1197 \", \"1968 \", \"998 \", \"1497 \", \"1798 \", \"1497 \", \"1796 \", \"1995 \", \"1798 \", \"2987 \", \"2755 \", \"1968 \", \"998 \", \"2987 \", \"1968 \", \"1799 \", \"4134 \", \"1396 \", \"1995 \", \"1798 \", \"2993 \", \"1995 \", \"1968 \", \"2967 \", \"1798 \", \"2179 \", \"2179 \", \"1497 \", \"1968 \", \"1968 \", \"1997 \", \"1984 \", \"2143 \", \"1968 \", \"1968 \", \"2967 \", \"1995 \", \"2982 \", \"1995 \", \"1796 \", \"2993 \", \"1794 \", \"1582 \", \"2179 \", \"1197 \", \"1582 \", \"3498 \", \"4367 \", \"2143 \", \"2967 \", \"2993 \", \"1995 \", \"1498 \", \"2993 \", \"2987 \", \"1498 \", \"998 \", \"1396 \", \"2967 \", \"1591 \", \"1248 \", \"1968 \", \"2354 \", \"3198 \", \"1498 \", \"1197 \", \"1498 \", \"1198 \", \"1995 \", \"1197 \", \"1798 \", \"2987 \", \"2987 \", \"1598 \", \"2179 \", \"1794 \", \"1968 \", \"2143 \", \"998 \", \"1197 \", \"3597 \", \"1968 \", \"2755 \", \"2143 \", \"2967 \", \"1798 \", \"999 \", \"999 \", \"1598 \", \"1798 \", \"2143 \", \"1968 \", \"2987 \", \"1197 \", \"998 \", \"3597 \", \"1968 \", \"2993 \", \"1781 \", \"1598 \", \"2967 \", \"2179 \", \"1995 \", \"1798 \", \"1968 \", \"2143 \", \"2143 \", \"1968 \", \"2179 \", \"1968 \", \"2143 \", \"1995 \", \"2143 \", \"2987 \", \"1598 \", \"1999 \", \"2993 \", \"2143 \", \"1995 \", \"2982 \", \"3198 \", \"1968 \", \"2143 \", \"1995 \", \"2993 \", \"1373 \", \"2967 \", \"4134 \", \"1995 \", \"1969 \", \"1998 \", \"1968 \", \"1796 \", \"1995 \", \"1995 \", \"1497 \", \"1582 \", \"1995 \", \"1497 \", \"1995 \", \"1969 \", \"1582 \", \"2987 \", \"1968 \", \"1373 \", \"1373 \", \"1197 \", \"2143 \", \"2497 \", \"1197 \", \"1968 \", \"3198 \", \"1991 \", \"2755 \", \"1582 \", \"4395 \", \"1197 \", \"2967 \", \"4134 \", \"1968 \", \"2143 \", \"2967 \", \"1497 \", \"1968 \", \"1968 \", \"2993 \", \"1798 \", \"2967 \", \"2143 \", \"1497 \", \"1968 \", \"4134 \", \"2967 \", \"2179 \", \"1968 \", \"1796 \", \"2143 \", \"2143 \", \"2179 \", \"1968 \", \"998 \", \"1968 \", \"998 \", \"2179 \", \"1198 \", \"2993 \", \"1995 \", \"1582 \", \"1995 \", \"2495 \", \"1968 \", \"1997 \", \"2993 \", \"2143 \", \"2143 \", \"1582 \", \"2987 \", \"1995 \", \"1968 \", \"2143 \", \"1968 \", \"1995 \", \"2143 \", \"2967 \", \"1968 \", \"2967 \", \"1582 \", \"1968 \", \"2143 \", \"1968 \", \"1896 \", \"2179 \", \"1968 \", \"2143 \", \"5998 \", \"1896 \", \"1995 \", \"1995 \", \"2979 \", \"1984 \", \"2199 \", \"1991 \", \"2179 \", \"2967 \", \"2993 \", \"998 \", \"1497 \", \"2982 \", \"1493 \", \"1968 \", \"1198 \", \"1968 \", \"2925 \", \"3498 \", \"1799 \", \"2143 \", \"2993 \", \"1995 \", \"1798 \", \"2993 \", \"1198 \", \"1995 \", \"2967 \", \"2143 \", \"2967 \", \"1197 \", \"1373 \", \"1497 \", \"1498 \", \"998 \", \"1999 \", \"2354 \", \"1995 \", \"2987 \", \"1968 \", \"1968 \", \"1995 \", \"2179 \", \"1197 \", \"1798 \", \"2987 \", \"1968 \", \"2179 \", \"2143 \", \"1968 \", \"2953 \", \"2199 \", \"3498 \", \"1197 \", \"1998 \", \"1498 \", \"1968 \", \"2993 \", \"1968 \", \"2148 \", \"2967 \", \"1197 \", \"1995 \", \"1396 \", \"1498 \", \"1968 \", \"2993 \", \"2967 \", \"1995 \", \"1461 \", \"2987 \", \"1896 \", \"1497 \", \"2143 \", \"1598 \", \"1968 \", \"2967 \", \"1796 \", \"1968 \", \"1591 \", \"1995 \", \"2993 \", \"1968 \", \"2143 \", \"1582 \", \"1968 \", \"1498 \", \"998 \", \"1968 \", \"1995 \", \"2143 \", \"1968 \", \"2179 \", \"1995 \", \"1497 \", \"1968 \", \"998 \", \"1198 \", \"1197 \", \"2179 \", \"1591 \", \"1499 \", \"2967 \", \"2143 \", \"2143 \", \"2497 \", \"2982 \", \"5000 \", \"1796 \", \"3498 \", \"2993 \", \"2143 \", \"2143 \", \"2143 \", \"2143 \", \"3198 \", \"1968 \", \"1995 \", \"2179 \", \"2199 \", \"1794 \", \"1968 \", \"1582 \", \"1968 \", \"1497 \", \"1461 \", \"1968 \", \"2143 \", \"4806 \", \"2755 \", \"1968 \", \"1995 \", \"1984 \", \"2143 \", \"1595 \", \"1798 \", \"1582 \", \"1198 \", \"2755 \", \"1968 \", \"1968 \", \"1197 \", \"1968 \", \"2143 \", \"2987 \", \"1598 \", \"2967 \", \"1968 \", \"1497 \", \"1995 \", \"1248 \", \"2755 \", \"1997 \", \"2179 \", \"1794 \", \"2987 \", \"2143 \", \"1595 \", \"2148 \", \"2993 \", \"1995 \", \"2143 \", \"2143 \", \"1968 \", \"1197 \", \"1598 \", \"1582 \", \"2359 \", \"1995 \", \"2773 \", \"1197 \", \"2993 \", \"2143 \", \"2179 \", \"1995 \", \"2755 \", \"1968 \", \"1591 \", \"2993 \", \"998 \", \"1968 \", \"2987 \", \"2143 \", \"1999 \", \"2755 \", \"2755 \", \"1968 \", \"2143 \", \"1968 \", \"2967 \", \"1582 \", \"1995 \", \"1796 \", \"1968 \", \"1796 \", \"1968 \", \"1991 \", \"1198 \", \"2143 \", \"1968 \", \"2993 \", \"2360 \", \"2143 \", \"1497 \", \"1968 \", \"1968 \", \"2143 \", \"2696 \", \"2143 \", \"2143 \", \"1995 \", \"2179 \", \"1968 \", \"1497 \", \"2143 \", \"1198 \", \"1198 \", \"2179 \", \"1995 \", \"1197 \", \"2143 \", \"1582 \", \"2993 \", \"999 \", \"1968 \", \"998 \", \"1781 \", \"1798 \", \"1968 \", \"1984 \", \"3198 \", \"2143 \", \"1499 \", \"1798 \", \"1968 \", \"1968 \", \"1969 \", \"1995 \", \"2993 \", \"2143 \", \"1995 \", \"2143 \", \"998 \", \"2982 \", \"1197 \", \"1499 \", \"1995 \", \"1968 \", \"1968 \", \"1995 \", \"1968 \", \"2143 \", \"2179 \", \"1198 \", \"1595 \", \"1197 \", \"1498 \", \"1591 \", \"1197 \", \"1582 \", \"2987 \", \"2179 \", \"2143 \", \"1995 \", \"1497 \", \"1598 \", \"1197 \", \"2143 \", \"1995 \", \"1582 \", \"2143 \", \"1968 \", \"2143 \", \"998 \", \"1995 \", \"1198 \", \"2143 \", \"4806 \", \"1591 \", \"1995 \", \"1197 \", \"1197 \", \"2179 \", \"2147 \", \"2982 \", \"1796 \", \"1968 \", \"2199 \", \"1968 \", \"2982 \", \"1598 \", \"1497 \", \"2755 \", \"1497 \", \"2993 \", \"1591 \", \"2967 \", \"2143 \", \"2755 \", \"2143 \", \"5461 \", \"998 \", \"998 \", \"1998 \", \"1197 \", \"1798 \", \"1798 \", \"2698 \", \"2993 \", \"2993 \", \"5461 \", \"1798 \", \"2993 \", \"2993 \", \"2143 \", \"1968 \", \"2143 \", \"1198 \", \"2698 \", \"1497 \", \"2354 \", \"4806 \", \"1995 \", \"998 \", \"2179 \", \"1197 \", \"1198 \", \"2148 \", \"1497 \", \"1461 \", \"1197 \", \"2999 \", \"2143 \", \"1995 \", \"1591 \", \"2179 \", \"2143 \", \"1796 \", \"998 \", \"1984 \", \"1798 \", \"1998 \", \"2179 \", \"2143 \", \"1968 \", \"1498 \", \"998 \", \"2143 \", \"1496 \", \"1197 \", \"2143 \", \"1591 \", \"1198 \", \"2987 \", \"1498 \", \"2494 \", \"998 \", \"1199 \", \"999 \", \"1984 \", \"1582 \", \"1991 \", \"1197 \", \"1582 \", \"2987 \", \"1598 \", \"998 \", \"1995 \", \"998 \", \"1497 \", \"1591 \", \"1995 \", \"1197 \", \"1591 \", \"1984 \", \"624 \", \"2143 \", \"1995 \", \"2967 \", \"1995 \", \"1995 \", \"2967 \", \"1591 \", \"2143 \", \"2143 \", \"1496 \", \"1598 \", \"1968 \", \"1198 \", \"1373 \", \"1598 \", \"1598 \", \"1198 \", \"1582 \", \"1497 \", \"1197 \", \"1995 \", \"1498 \", \"1595 \", \"998 \", \"1995 \", \"1968 \", \"1995 \", \"1198 \", \"1999 \", \"2179 \", \"1498 \", \"2179 \", \"2967 \", \"1968 \", \"1968 \", \"1968 \", \"2497 \", \"2400 \", \"1995 \", \"1995 \", \"2497 \", \"2993 \", \"1995 \", \"1995 \", \"2987 \", \"1197 \", \"3198 \", \"1199 \", \"1798 \", \"1796 \", \"1248 \", \"1461 \", \"998 \", \"2143 \", \"2993 \", \"998 \", \"1968 \", \"2993 \", \"1995 \", \"1595 \", \"2993 \", \"2755 \", \"2143 \", \"1497 \", \"998 \", \"2967 \", \"1995 \", \"1995 \", \"2698 \", \"1493 \", \"2967 \", \"998 \", \"2993 \", \"1591 \", \"2143 \", \"2987 \", \"1991 \", \"1197 \", \"2993 \", \"2143 \", \"2494 \", \"2987 \", \"2143 \", \"2967 \", \"1968 \", \"1999 \", \"2143 \", \"3498 \", \"1595 \", \"3198 \", \"2143 \", \"2755 \", \"2987 \", \"2993 \", \"624 \", \"1968 \", \"1796 \", \"2496 \", \"2199 \", \"1499 \", \"2967 \", \"2987 \", \"1199 \", \"1968 \", \"1796 \", \"1798 \", \"1248 \", \"1995 \", \"2755 \", \"2979 \", \"1197 \", \"2987 \", \"1595 \", \"1999 \", \"1968 \", \"1197 \", \"1991 \", \"1462 \", \"1198 \", \"1591 \", \"1197 \", \"1197 \", \"1497 \", \"2987 \", \"1197 \", \"1496 \", \"2143 \", \"1197 \", \"998 \", \"2993 \", \"1968 \", \"1984 \", \"1995 \", \"2179 \", \"1995 \", \"1582 \", \"1591 \", \"2143 \", \"2993 \", \"1968 \", \"1498 \", \"1199 \", \"1198 \", \"998 \", \"2143 \", \"1950 \", \"1998 \", \"1197 \", \"2143 \", \"2143 \", \"2755 \", \"2993 \", \"1197 \", \"1461 \", \"1499 \", \"1582 \", \"2993 \", \"1798 \", \"2179 \", \"2179 \", \"1197 \", \"1199 \", \"2143 \", \"2143 \", \"1498 \", \"2967 \", \"1248 \", \"998 \", \"1796 \", \"998 \", \"2993 \", \"2143 \", \"1591 \", \"2979 \", \"2143 \", \"1497 \", \"1498 \", \"2982 \", \"1995 \", \"1991 \", \"2967 \", \"1197 \", \"2993 \", \"1991 \", \"2494 \", \"624 \", \"1248 \", \"1991 \", \"2967 \", \"2179 \", \"2143 \", \"998 \", \"1999 \", \"1591 \", \"2996 \", \"1999 \", \"1598 \", \"1968 \", \"1995 \", \"2143 \", \"1591 \", \"1995 \", \"1598 \", \"1197 \", \"2143 \", \"2894 \", \"2487 \", \"2143 \", \"2143 \", \"2143 \", \"1995 \", \"1991 \", \"2179 \", \"1499 \", \"2894 \", \"1995 \", \"1968 \", \"1591 \", \"1497 \", \"2987 \", \"3498 \", \"1197 \", \"1498 \", \"2996 \", \"1497 \", \"1968 \", \"1968 \", \"2179 \", \"1798 \", \"1582 \", \"2143 \", \"1995 \", \"1995 \", \"1968 \", \"1995 \", \"2755 \", \"1197 \", \"2987 \", \"998 \", \"1598 \", \"1591 \", \"4951 \", \"1998 \", \"2143 \", \"2993 \", \"2143 \", \"1197 \", \"1197 \", \"1999 \", \"2993 \", \"1598 \", \"2143 \", \"1197 \", \"1199 \", \"1995 \", \"2967 \", \"1998 \", \"1995 \", \"1968 \", \"1798 \", \"1197 \", \"2967 \", \"2179 \", \"2143 \", \"2993 \", \"1598 \", \"2755 \", \"1197 \", \"2143 \", \"2143 \", \"1998 \", \"1950 \", \"1197 \", \"2755 \", \"1497 \", \"2143 \", \"1199 \", \"2993 \", \"1968 \", \"2967 \", \"1197 \", \"2987 \", \"998 \", \"1598 \", \"1968 \", \"1496 \", \"998 \", \"1985 \", \"1198 \", \"2143 \", \"2987 \", \"2967 \", \"1995 \", \"2179 \", \"1995 \", \"2993 \", \"1995 \", \"1197 \", \"1995 \", \"1198 \", \"1498 \", \"1497 \", \"1968 \", \"2179 \", \"1248 \", \"1198 \", \"2993 \", \"1497 \", \"1995 \", \"998 \", \"998 \", \"1497 \", \"1995 \", \"624 \", \"2993 \", \"1197 \", \"2179 \", \"2755 \", \"1497 \", \"1598 \", \"1197 \", \"1199 \", \"624 \", \"1991 \", \"2993 \", \"2993 \", \"2494 \", \"1197 \", \"2979 \", \"2148 \", \"2179 \", \"1497 \", \"1497 \", \"1968 \", \"1595 \", \"2494 \", \"998 \", \"1998 \", \"3198 \", \"2993 \", \"1497 \", \"2143 \", \"1995 \", \"2143 \", \"1591 \", \"2993 \", \"2179 \", \"1499 \", \"2987 \", \"2143 \", \"1995 \", \"1199 \", \"1950 \", \"1373 \", \"1995 \", \"1197 \", \"1497 \", \"3198 \", \"1197 \", \"1998 \", \"2987 \", \"2993 \", \"1197 \", \"2755 \", \"2143 \", \"1197 \", \"1496 \", \"1798 \", \"2143 \", \"1995 \", \"2995 \", \"1984 \", \"2179 \", \"2755 \", \"2755 \", \"999 \", \"1995 \", \"1497 \", \"1497 \", \"1582 \", \"1968 \", \"2198 \", \"1798 \", \"2143 \", \"1968 \", \"1197 \", \"1968 \", \"2143 \", \"1968 \", \"2179 \", \"2143 \", \"1598 \", \"2996 \", \"1950 \", \"2771 \", \"1197 \", \"2771 \", \"1582 \", \"1968 \", \"1999 \", \"1197 \", \"1199 \", \"1591 \", \"1497 \", \"1968 \", \"998 \", \"1197 \", \"1984 \", \"2993 \", \"3198 \", \"1199 \", \"998 \", \"2477 \", \"999 \", \"2967 \", \"1998 \", \"2477 \", \"1248 \", \"2967 \", \"2198 \", \"2143 \", \"1950 \", \"1496 \", \"1595 \", \"1968 \", \"2143 \", \"2755 \", \"2706 \", \"1999 \", \"1598 \", \"2143 \", \"2179 \", \"2143 \", \"1995 \", \"2143 \", \"3498 \", \"2979 \", \"1999 \", \"2987 \", \"998 \", \"2198 \", \"1197 \", \"3198 \", \"1999 \", \"2477 \", \"1950 \", \"1998 \", \"998 \", \"1197 \", \"1591 \", \"998 \", \"1497 \", \"5000 \", \"2143 \", \"1995 \", \"3436 \", \"2996 \", \"998 \", \"998 \", \"1995 \", \"1995 \", \"1498 \", \"1984 \", \"1995 \", \"2967 \", \"5204 \", \"2987 \", \"4395 \", \"998 \", \"1197 \", \"624 \", \"1798 \", \"1497 \", \"1197 \", \"1999 \", \"1950 \", \"1368 \", \"1197 \", \"1498 \", \"1248 \", \"1248 \", \"5461 \", \"1197 \", \"2179 \", \"1197 \", \"1199 \", \"1598 \", \"2996 \", \"1496 \", \"1199 \", \"998 \", \"1499 \", \"1199 \", \"1995 \", \"1798 \", \"1199 \", \"1999 \", \"1197 \"], \"xaxis\": \"x\", \"y\": [7.5, 13.0, 6.0, 12.3, 4.24, 12.0, 9.75, 12.0, 1.5, 17.49, 3.0, 16.5, 18.75, 6.58, 16.75, 4.65, 18.5, 9.0, 8.5, 3.0, 4.7, 10.0, 12.5, 56.0, 7.0, 13.5, 11.0, 18.0, 2.6, 21.99, 16.5, 12.99, 7.75, 18.0, 10.5, 30.0, 6.95, 5.75, 2.65, 7.1, 16.5, 13.99, 31.41, 14.0, 19.25, 3.8, 4.5, 10.0, 6.75, 10.5, 11.5, 7.99, 6.5, 2.75, 20.0, 18.0, 12.9, 8.0, 14.4, 19.0, 4.0, 16.5, 6.21, 23.29, 17.5, 4.35, 20.5, 11.99, 13.8, 14.5, 19.0, 2.5, 11.0, 5.75, 9.92, 8.85, 3.0, 30.5, 10.75, 23.58, 13.75, 16.5, 4.65, 19.99, 21.67, 18.46, 4.0, 17.0, 14.41, 19.0, 8.5, 14.5, 24.75, 2.05, 38.0, 32.0, 10.9, 11.5, 25.0, 11.5, 1.96, 32.5, 10.5, 2.21, 10.0, 12.95, 17.5, 25.0, 22.0, 62.67, 3.75, 85.0, 8.0, 16.75, 6.5, 4.62, 18.98, 15.5, 29.67, 19.6, 8.5, 17.5, 3.0, 10.0, 2.85, 6.75, 23.19, 20.5, 12.5, 4.8, 12.0, 5.25, 17.15, 2.6, 17.5, 26.5, 15.0, 16.14, 10.6, 7.25, 19.75, 16.0, 17.56, 28.55, 9.25, 9.47, 2.45, 9.2, 13.9, 26.0, 6.5, 21.5, 17.75, 22.5, 17.75, 19.5, 11.0, 16.8, 6.3, 2.8, 3.71, 13.95, 16.57, 4.0, 4.0, 4.19, 13.99, 22.5, 15.0, 27.0, 6.45, 5.25, 36.5, 16.25, 7.98, 16.25, 25.71, 17.23, 15.5, 15.0, 6.67, 17.0, 5.4, 5.9, 17.18, 20.37, 3.25, 19.0, 18.25, 9.5, 8.0, 13.08, 9.75, 28.0, 21.0, 9.99, 38.75, 6.25, 7.5, 5.5, 13.95, 17.5, 28.0, 10.0, 21.0, 23.0, 52.54, 17.75, 10.75, 6.5, 4.45, 2.6, 7.5, 6.5, 6.75, 36.0, 6.0, 16.5, 12.75, 16.77, 11.99, 28.63, 7.5, 5.4, 18.5, 17.5, 16.85, 7.25, 13.9, 7.5, 7.95, 10.9, 3.25, 22.75, 14.4, 14.5, 9.29, 23.68, 3.43, 17.5, 10.75, 3.0, 25.0, 9.5, 9.5, 2.8, 7.25, 19.5, 14.2, 2.0, 29.77, 16.5, 41.0, 39.0, 4.85, 17.0, 18.5, 5.25, 18.25, 15.0, 17.75, 10.99, 15.5, 28.0, 3.57, 4.15, 5.5, 7.2, 24.0, 3.41, 3.99, 5.34, 4.5, 19.5, 15.0, 8.0, 11.27, 4.25, 18.64, 2.85, 14.35, 8.31, 5.5, 6.5, 35.0, 22.75, 6.51, 10.99, 30.45, 10.0, 2.4, 5.53, 18.25, 8.75, 58.0, 19.0, 8.79, 65.81, 14.12, 16.58, 30.37, 4.25, 27.95, 24.0, 17.5, 7.5, 7.75, 9.5, 11.0, 9.44, 27.5, 4.95, 13.9, 15.0, 2.3, 11.5, 9.25, 18.5, 12.95, 5.25, 8.25, 7.75, 12.5, 5.23, 17.08, 34.54, 10.69, 3.5, 3.3, 30.72, 3.8, 14.5, 17.51, 14.4, 12.5, 10.4, 18.06, 32.52, 9.06, 39.0, 4.75, 3.25, 27.0, 15.5, 11.0, 5.5, 3.2, 12.5, 29.0, 6.0, 16.5, 15.5, 9.14, 5.35, 5.45, 2.4, 15.0, 6.8, 21.5, 11.99, 20.57, 3.1, 9.86, 10.3, 5.0, 23.99, 13.0, 40.0, 10.3, 17.55, 35.0, 11.0, 18.0, 27.0, 19.48, 15.8, 8.5, 23.5, 12.5, 19.0, 5.72, 50.0, 2.85, 54.0, 4.5, 16.25, 38.0, 18.5, 10.25, 2.25, 19.75, 5.25, 12.5, 3.87, 13.5, 8.5, 25.12, 24.74, 8.9, 11.75, 18.0, 29.5, 22.0, 4.8, 9.75, 15.75, 27.5, 8.95, 11.5, 11.03, 18.75, 9.25, 2.45, 14.5, 4.7, 7.0, 10.0, 25.02, 15.49, 70.0, 5.43, 10.5, 5.96, 23.0, 30.0, 3.7, 10.75, 3.9, 7.25, 11.5, 5.7, 10.75, 21.0, 38.0, 12.5, 13.5, 21.75, 3.5, 32.73, 20.14, 20.72, 11.5, 31.75, 12.75, 67.83, 16.0, 21.26, 6.75, 11.95, 29.0, 7.5, 14.0, 6.25, 16.0, 16.5, 34.0, 21.5, 10.5, 8.99, 3.45, 11.5, 29.93, 19.9, 8.55, 4.2, 10.5, 12.5, 15.65, 28.0, 5.42, 16.56, 22.58, 13.96, 13.25, 23.0, 3.95, 30.8, 17.5, 1.85, 36.0, 34.5, 26.0, 13.5, 65.0, 14.22, 4.75, 10.95, 4.5, 14.5, 19.0, 21.33, 5.89, 2.9, 6.62, 20.12, 3.75, 25.0, 7.0, 3.55, 12.5, 44.5, 3.75, 10.55, 2.65, 3.31, 19.94, 20.77, 5.57, 14.23, 5.65, 4.39, 8.5, 17.5, 21.73, 14.5, 28.88, 12.5, 3.75, 11.0, 8.25, 25.0, 5.91, 8.3, 6.42, 3.49, 3.1, 9.1, 45.82, 24.94, 22.45, 29.64, 51.52, 4.5, 14.5, 7.25, 10.35, 24.0, 22.0, 4.45, 17.55, 21.0, 4.49, 4.45, 5.5, 10.2, 16.0, 16.0, 2.99, 27.0, 3.8, 25.0, 45.0, 4.65, 14.5, 23.5, 20.0, 23.5, 18.0, 18.5, 20.11, 5.8, 4.88, 10.49, 29.2, 23.41, 68.0, 26.5, 5.25, 36.75, 21.0, 21.9, 10.0, 11.5, 12.5, 23.75, 24.22, 14.25, 28.03, 16.52, 27.75, 8.0, 27.5, 2.95, 14.5, 19.86, 9.69, 27.0, 9.19, 9.6, 13.5, 32.0, 17.0, 15.75, 17.98, 11.0, 18.5, 15.3, 19.5, 26.7, 4.4, 48.0, 11.5, 11.75, 27.0, 7.5, 3.5, 31.0, 5.4, 25.82, 3.6, 20.04, 7.75, 21.56, 6.5, 18.0, 6.51, 17.25, 2.5, 9.75, 3.4, 4.4, 7.25, 5.15, 15.46, 13.5, 14.05, 50.29, 17.71, 19.8, 3.45, 62.81, 8.0, 4.38, 51.69, 3.85, 20.75, 13.25, 33.5, 22.75, 35.0, 45.0, 8.25, 30.0, 34.5, 2.99, 29.5, 24.0, 8.22, 23.5, 18.12, 35.92, 15.21, 42.83, 11.5, 24.99, 28.45, 3.9, 36.15, 8.4, 12.0, 31.0, 8.5, 12.5, 9.99, 67.0, 16.0, 13.5, 19.5, 21.75, 7.25, 28.0, 52.0, 5.7, 3.5, 3.75, 60.95, 5.37, 7.3, 16.67, 6.35, 30.35, 9.86, 3.65, 6.5, 5.85, 17.0, 4.0, 16.81, 10.0, 21.99, 6.11, 13.25, 7.5, 18.0, 17.55, 4.5, 2.9, 6.0, 29.0, 20.5, 16.75, 38.94, 6.89, 4.28, 4.41, 4.29, 17.85, 29.0, 20.5, 13.75, 4.0, 3.8, 4.75, 23.0, 36.0, 9.5, 4.75, 8.08, 44.76, 7.5, 10.11, 9.0, 19.5, 29.95, 25.49, 39.75, 19.5, 24.5, 24.0, 35.0, 49.0, 25.0, 42.0, 45.77, 32.5, 17.27, 19.03, 30.27, 21.95, 27.0, 21.99, 29.52, 8.89, 34.88, 48.91, 17.0, 25.0, 21.94, 27.5, 11.5, 17.0, 7.75, 4.5, 5.64, 10.5, 7.9, 33.5, 21.5, 8.75, 22.25, 13.0, 6.9, 6.95, 3.0, 43.3, 10.75, 8.27, 24.9, 31.12, 21.95, 19.0, 14.79, 25.93, 3.84, 29.0, 51.0, 35.0, 30.0, 47.5, 8.25, 25.0, 11.69, 45.0, 13.5, 7.5, 45.0, 7.41, 36.0, 48.0, 21.0, 38.0, 15.0, 8.5, 49.0, 25.0, 6.0, 17.5, 3.9, 23.89, 4.0, 45.64, 3.79, 45.0, 14.49, 8.9, 22.99, 15.5, 15.45, 19.0, 29.0, 19.25, 8.95, 8.5, 48.5, 10.49, 39.58, 17.5, 23.32, 20.99, 20.87, 12.07, 18.25, 50.5, 5.1, 13.5, 22.0, 29.0, 5.0, 26.5, 18.75, 20.26, 59.0, 2.95, 26.5, 21.6, 6.99, 16.0, 16.25, 9.75, 35.68, 48.22, 31.8, 3.94, 8.73, 20.25, 8.37, 14.5, 5.21, 38.72, 30.0, 19.0, 4.5, 13.9, 64.75, 29.5, 24.5, 41.5, 5.4, 25.5, 43.35, 29.6, 16.11, 6.93, 6.1, 6.15, 8.59, 3.75, 8.85, 12.5, 16.0, 36.0, 8.5, 9.95, 16.5, 24.0, 5.1, 4.9, 28.0, 10.99, 26.0, 23.25, 19.5, 8.41, 20.67, 23.68, 6.34, 19.41, 10.3, 13.19, 42.5, 13.5, 23.0, 50.22, 3.48, 41.75, 5.96, 4.25, 25.0, 40.0, 11.5, 21.5, 11.5, 56.0, 6.99, 5.25, 34.0, 3.35, 27.0, 37.9, 13.5, 15.25, 7.5, 28.5, 57.0, 25.0, 17.95, 8.01, 25.81, 7.12, 4.55, 13.5, 24.68, 42.5, 13.83, 32.8, 34.51, 1.5, 32.5, 4.3, 2.65, 6.2, 44.0, 5.6, 7.58, 36.83, 20.28, 16.75, 9.0, 17.11, 50.66, 29.0, 10.24, 20.5, 38.15, 31.94, 34.18, 24.85, 26.5, 39.5, 17.5, 26.5, 10.75, 12.5, 12.49, 9.31, 39.47, 8.95, 12.46, 5.25, 10.48, 42.91, 18.0, 31.93, 22.24, 24.36, 21.8, 11.57, 6.25, 9.73, 4.34, 19.6, 24.25, 23.5, 5.5, 22.99, 24.95, 22.0, 3.4, 28.75, 5.45, 9.6, 32.78, 9.0, 19.92, 16.68, 44.83, 14.14, 42.0, 37.98, 11.77, 18.49, 26.5, 28.79, 38.76, 24.63, 37.56, 5.08, 5.25, 6.25, 6.0, 25.5, 10.5, 5.45, 45.0, 18.5, 13.75, 24.75, 24.82, 17.74, 7.2, 25.72, 4.45, 43.74, 70.8, 14.5, 41.5, 30.0, 16.45, 17.5, 24.0, 22.95, 45.0, 5.25, 9.5, 24.0, 22.5, 14.5, 22.0, 24.5, 6.55, 35.28, 25.75, 40.66, 9.25, 29.5, 8.29, 6.99, 25.64, 9.25, 13.85, 27.0, 34.0, 15.0, 13.5, 18.9, 4.55, 9.5, 4.45, 3.49, 32.5, 17.0, 8.47, 29.98, 13.23, 70.66, 4.99, 32.91, 4.25, 8.5, 16.0, 38.95, 12.0, 30.48, 20.0, 6.25, 11.6, 39.0, 29.0, 24.0, 19.5, 45.0, 13.51, 23.99, 35.0, 5.23, 31.62, 4.5, 9.1, 13.95, 22.5, 25.71, 16.75, 32.0, 32.0, 29.98, 6.46, 11.96, 3.41, 5.43, 5.44, 5.77, 10.97, 21.0, 36.0, 14.0, 15.0, 6.75, 17.0, 2.95, 13.0, 32.64, 9.48, 32.25, 39.84, 39.47, 4.25, 32.57, 4.3, 19.9, 72.0, 7.5, 33.0, 7.22, 6.3, 55.76, 16.25, 21.5, 10.15, 16.0, 23.0, 14.0, 22.0, 4.65, 9.45, 17.5, 9.48, 43.78, 6.69, 25.02, 18.58, 22.99, 19.0, 30.0, 5.25, 3.2, 22.0, 7.0, 5.5, 5.75, 11.5, 29.0, 41.6, 29.5, 4.45, 21.0, 52.0, 23.5, 25.75, 20.99, 4.25, 11.5, 7.7, 14.7, 32.0, 23.0, 5.5, 53.83, 5.95, 4.6, 24.5, 12.08, 11.86, 7.29, 20.0, 22.5, 35.84, 6.5, 19.25, 11.0, 19.0, 3.85, 20.0, 13.65, 22.0, 13.0, 36.0, 9.95, 7.99, 4.35, 25.5, 22.0, 5.91, 37.0, 9.03, 4.9, 64.87, 9.6, 19.75, 4.4, 7.25, 3.2, 22.0, 8.7, 16.0, 7.25, 14.5, 43.0, 2.85, 3.99, 18.55, 2.5, 8.9, 12.6, 30.29, 3.83, 14.76, 20.0, 3.23, 34.78, 37.3, 48.76, 8.0, 26.75, 45.62, 14.35, 24.51, 30.5, 23.8, 5.41, 25.31, 5.1, 9.2, 5.55, 8.11, 5.25, 15.5, 8.5, 4.8, 30.5, 7.99, 11.0, 4.56, 17.22, 26.78, 29.4, 4.15, 59.72, 26.75, 10.5, 30.54, 49.79, 16.61, 18.95, 27.0, 13.5, 17.65, 29.95, 29.5, 31.0, 29.5, 29.3, 25.99, 59.29, 3.32, 32.44, 7.42, 17.08, 10.5, 7.65, 11.44, 3.49, 26.0, 45.0, 3.8, 27.0, 45.0, 22.0, 11.0, 49.0, 19.25, 26.0, 8.65, 4.25, 9.8, 22.0, 31.5, 8.95, 8.2, 24.5, 4.25, 43.6, 13.77, 25.75, 61.29, 11.5, 4.9, 43.0, 50.97, 27.0, 59.65, 39.41, 45.52, 25.75, 34.08, 29.0, 32.0, 11.25, 29.8, 57.0, 31.0, 65.0, 20.0, 2.8, 26.0, 10.0, 7.56, 21.37, 5.49, 53.11, 60.75, 6.86, 24.37, 9.35, 17.49, 9.15, 28.5, 30.85, 93.67, 7.22, 31.75, 11.56, 13.9, 23.75, 7.25, 26.0, 8.0, 4.95, 11.85, 7.75, 8.25, 10.44, 49.24, 6.41, 24.77, 39.05, 6.89, 5.18, 48.63, 16.5, 15.95, 29.0, 26.52, 35.0, 8.6, 11.45, 23.0, 48.0, 14.95, 6.75, 5.95, 4.15, 4.25, 33.64, 51.43, 35.67, 7.4, 24.46, 40.47, 19.97, 97.07, 3.65, 10.0, 7.65, 12.65, 75.0, 26.0, 16.46, 55.7, 7.54, 8.86, 56.73, 37.93, 8.95, 75.0, 8.37, 3.95, 22.0, 3.5, 60.0, 45.0, 12.75, 30.0, 21.0, 9.45, 9.45, 32.0, 17.99, 26.0, 44.0, 7.75, 160.0, 14.85, 25.0, 3.19, 8.08, 27.15, 28.0, 16.52, 39.45, 4.55, 56.14, 5.95, 8.75, 33.5, 8.75, 25.0, 28.0, 46.95, 14.36, 33.66, 4.75, 7.08, 33.66, 40.5, 26.11, 45.61, 39.22, 27.43, 19.9, 25.0, 15.5, 6.8, 37.0, 28.75, 15.75, 10.95, 11.97, 49.22, 55.54, 7.6, 8.89, 70.99, 11.66, 32.73, 22.5, 35.0, 41.5, 16.0, 14.0, 11.5, 16.5, 23.45, 37.92, 33.13, 7.89, 70.15, 4.65, 9.72, 13.49, 56.8, 28.95, 56.0, 55.0, 23.5, 5.4, 2.6, 52.0, 44.0, 4.45, 36.0, 3.96, 6.35, 33.0, 52.5, 21.5, 35.0, 24.5, 18.0, 6.2, 48.0, 16.5, 27.87, 44.56, 7.72, 18.36, 7.55, 39.62, 30.3, 35.98, 51.35, 5.2, 18.0, 14.21, 38.5, 9.27, 68.94, 19.25, 67.0, 5.74, 47.35, 4.0, 32.0, 35.5, 23.5, 4.7, 12.0, 5.99, 33.0, 64.95, 75.0, 35.84, 17.63, 40.5, 47.7, 36.5, 6.93, 29.99, 4.75, 10.0, 8.95, 15.5, 38.0, 8.9, 6.25, 44.0, 10.65, 21.0, 3.95, 3.9, 12.41, 45.86, 3.41, 45.73, 5.4, 25.7, 18.25, 9.25, 22.0, 6.2, 6.95, 2.38, 26.76, 54.45, 58.73, 32.0, 5.99, 93.0, 37.99, 58.91, 11.6, 9.5, 9.75, 17.25, 32.0, 3.95, 22.0, 31.0, 44.0, 9.5, 34.0, 42.75, 30.3, 11.6, 48.0, 32.0, 5.95, 56.0, 36.76, 36.64, 6.97, 35.67, 9.95, 13.5, 3.85, 12.69, 33.0, 5.5, 35.0, 69.5, 70.0, 5.35, 30.0, 28.5, 8.6, 31.55, 20.75, 38.5, 35.55, 2.02, 27.35, 17.85, 19.64, 19.4, 4.5, 35.0, 11.5, 9.99, 11.25, 43.0, 31.99, 27.3, 28.25, 21.43, 9.51, 21.66, 25.51, 25.46, 33.63, 30.77, 9.19, 54.0, 38.99, 3.25, 8.5, 3.25, 14.5, 23.0, 17.75, 9.89, 9.15, 11.5, 12.5, 25.64, 5.63, 6.84, 29.5, 79.0, 33.5, 6.0, 4.25, 28.0, 3.25, 32.95, 28.5, 27.11, 7.5, 70.36, 31.15, 37.5, 56.5, 29.5, 16.0, 28.0, 39.51, 19.65, 64.0, 75.0, 8.9, 48.5, 44.0, 36.0, 30.0, 28.9, 55.0, 58.54, 16.35, 78.8, 4.25, 32.9, 5.45, 35.5, 34.5, 26.5, 39.5, 23.0, 4.22, 8.3, 12.85, 4.15, 9.45, 100.0, 19.75, 33.75, 43.0, 48.0, 5.0, 4.35, 46.0, 9.75, 3.65, 35.0, 27.75, 72.94, 120.0, 79.0, 47.5, 4.25, 6.76, 3.6, 16.95, 12.5, 7.75, 38.0, 35.0, 17.75, 7.36, 12.25, 11.5, 11.25, 90.0, 6.2, 52.5, 8.85, 8.25, 39.75, 83.96, 34.0, 5.0, 4.45, 11.37, 7.8, 61.25, 20.0, 6.85, 40.0, 6.25], \"yaxis\": \"y\"}, {\"hoverlabel\": {\"namelength\": 0}, \"hovertemplate\": \"Transmission=Manual<br>Engine=%{x}<br>Price=%{y}\", \"legendgroup\": \"Transmission=Manual\", \"marker\": {\"color\": \"#EF553B\", \"symbol\": \"circle\"}, \"mode\": \"markers\", \"name\": \"Transmission=Manual\", \"showlegend\": true, \"type\": \"scattergl\", \"x\": [\"1598 \", \"1197 \", \"1497 \", \"1197 \", \"1405 \", \"2494 \", \"1798 \", \"2494 \", \"2494 \", \"2494 \", \"2494 \", \"2494 \", \"2494 \", \"2982 \", \"2489 \", \"1991 \", \"1497 \", \"1998 \", \"1364 \", \"1399 \", \"2179 \", \"2494 \", \"2499 \", \"1396 \", \"1086 \", \"1396 \", \"2494 \", \"1493 \", \"2494 \", \"2498 \", \"1248 \", \"2494 \", \"2494 \", \"2982 \", \"2523 \", \"2494 \", \"2982 \", \"1496 \", \"1493 \", \"2494 \", \"1598 \", \"2499 \", \"1248 \", \"3200 \", \"1364 \", \"2494 \", \"1396 \", \"1498 \", \"2179 \", \"1598 \", \"1248 \", \"2982 \", \"2494 \", \"1582 \", \"1493 \", \"1120 \", \"2755 \", \"1399 \", \"2489 \", \"1248 \", \"1248 \", \"2498 \", \"1396 \", \"1086 \", \"1461 \", \"2494 \", \"796 \", \"1461 \", \"2494 \", \"2494 \", \"1493 \", \"1248 \", \"2835 \", \"1248 \", \"1493 \", \"1405 \", \"2494 \", \"1248 \", \"1399 \", \"2494 \", \"2956 \", \"2982 \", \"2494 \", \"1364 \", \"2494 \", \"1461 \", \"2835 \", \"1590 \", \"2499 \", \"2499 \", \"1248 \", \"1248 \", \"1799 \", \"2982 \", \"2755 \", \"1598 \", \"1248 \", \"1493 \", \"1396 \", \"1364 \", \"1493 \", \"1364 \", \"1461 \", \"1248 \", \"1598 \", \"2494 \", \"1998 \", \"1197 \", \"2982 \", \"1461 \", \"2982 \", \"2199 \", \"1248 \", \"1248 \", \"1498 \", \"2494 \", \"2494 \", \"2494 \", \"1248 \", \"2982 \", \"1197 \", \"1590 \", \"1596 \", \"998 \", \"1248 \", \"2494 \", \"2494 \", \"2179 \", \"2982 \", \"1598 \", \"1248 \", \"1997 \", \"1582 \", \"1399 \", \"1341 \", \"1461 \", \"2494 \", \"998 \", \"1086 \", \"2755 \", \"1150 \", \"1248 \", \"1399 \", \"1343 \", \"2494 \", \"1248 \", \"2179 \", \"2982 \", \"1396 \", \"1061 \", \"1497 \", \"1498 \", \"1248 \", \"1599 \", \"1193 \", \"1086 \", \"2494 \", \"2982 \", \"1798 \", \"1498 \", \"1461 \", \"1248 \", \"1399 \", \"2982 \", \"1120 \", \"1061 \", \"1248 \", \"1405 \", \"1405 \", \"2477 \", \"1896 \", \"2489 \", \"1496 \", \"2982 \", \"1248 \", \"2494 \", \"2609 \", \"2179 \", \"1248 \", \"1248 \", \"1248 \", \"1248 \", \"1598 \", \"2499 \", \"1495 \", \"1248 \", \"1461 \", \"1461 \", \"1248 \", \"2498 \", \"1248 \", \"1248 \", \"1399 \", \"2489 \", \"2835 \", \"1299 \", \"1396 \", \"1396 \", \"1396 \", \"1582 \", \"2179 \", \"1461 \", \"1498 \", \"1995 \", \"1248 \", \"1248 \", \"2494 \", \"2494 \", \"1497 \", \"1196 \", \"1086 \", \"2179 \", \"796 \", \"1493 \", \"1582 \", \"1461 \", \"1598 \", \"1799 \", \"1388 \", \"1998 \", \"1248 \", \"796 \", \"1497 \", \"998 \", \"2494 \", \"1396 \", \"2523 \", \"1248 \", \"1461 \", \"2179 \", \"1495 \", \"1399 \", \"1493 \", \"2982 \", \"1896 \", \"1497 \", \"2982 \", \"2494 \", \"2982 \", \"1248 \", \"1598 \", \"2494 \", \"2393 \", \"1498 \", \"1396 \", \"1248 \", \"2148 \", \"1896 \", \"1248 \", \"2179 \", \"1461 \", \"1399 \", \"2494 \", \"1493 \", \"1493 \", \"1248 \", \"2179 \", \"2179 \", \"1248 \", \"1248 \", \"1248 \", \"1242 \", \"1248 \", \"1086 \", \"2179 \", \"1248 \", \"1199 \", \"1248 \", \"998 \", \"2609 \", \"2494 \", \"2499 \", \"1497 \", \"1997 \", \"2354 \", \"1461 \", \"1598 \", \"1396 \", \"1493 \", \"2494 \", \"2494 \", \"2494 \", \"1598 \", \"1582 \", \"1461 \", \"1399 \", \"2982 \", \"1248 \", \"1120 \", \"2179 \", \"1364 \", \"2835 \", \"1364 \", \"2148 \", \"2499 \", \"1248 \", \"1498 \", \"1598 \", \"1248 \", \"2982 \", \"1199 \", \"1061 \", \"1086 \", \"1968 \", \"1497 \", \"2494 \", \"1196 \", \"1396 \", \"1896 \", \"2179 \", \"1399 \", \"1248 \", \"2494 \", \"2494 \", \"1199 \", \"1399 \", \"1364 \", \"1061 \", \"1248 \", \"1399 \", \"1461 \", \"1968 \", \"1461 \", \"2755 \", \"1248 \", \"998 \", \"1498 \", \"1248 \", \"2179 \", \"2477 \", \"1248 \", \"1799 \", \"1495 \", \"1598 \", \"1582 \", \"936 \", \"1298 \", \"2498 \", \"2494 \", \"2982 \", \"1497 \", \"1193 \", \"1399 \", \"1598 \", \"1493 \", \"1248 \", \"1405 \", \"1086 \", \"2198 \", \"2982 \", \"1399 \", \"1199 \", \"1498 \", \"1388 \", \"1248 \", \"1461 \", \"1399 \", \"1396 \", \"1197 \", \"2982 \", \"1120 \", \"2494 \", \"2498 \", \"2755 \", \"2494 \", \"999 \", \"2179 \", \"2523 \", \"1248 \", \"1248 \", \"1896 \", \"1248 \", \"1248 \", \"2179 \", \"2494 \", \"1468 \", \"1364 \", \"970 \", \"1582 \", \"1461 \", \"1061 \", \"1991 \", \"1193 \", \"2179 \", \"1248 \", \"2179 \", \"1461 \", \"2494 \", \"1196 \", \"1497 \", \"2494 \", \"1086 \", \"993 \", \"1582 \", \"1061 \", \"998 \", \"1396 \", \"1248 \", \"1497 \", \"1396 \", \"1396 \", \"1248 \", \"2179 \", \"1997 \", \"1399 \", \"1388 \", \"2982 \", \"2494 \", \"1461 \", \"1498 \", \"2494 \", \"1405 \", \"1193 \", \"1896 \", \"998 \", \"2982 \", \"1341 \", \"1248 \", \"1497 \", \"1399 \", \"1343 \", \"2609 \", \"2494 \", \"1499 \", \"1248 \", \"1248 \", \"796 \", \"1197 \", \"1120 \", \"1086 \", \"2982 \", \"1120 \", \"1598 \", \"1968 \", \"1248 \", \"1248 \", \"2982 \", \"1248 \", \"1396 \", \"993 \", \"2179 \", \"1405 \", \"2982 \", \"1086 \", \"1896 \", \"2523 \", \"1599 \", \"936 \", \"1248 \", \"1493 \", \"1299 \", \"1582 \", \"1997 \", \"1248 \", \"1248 \", \"1582 \", \"1199 \", \"2494 \", \"1995 \", \"1373 \", \"2354 \", \"1498 \", \"1493 \", \"1498 \", \"1968 \", \"1999 \", \"1248 \", \"2982 \", \"1461 \", \"1498 \", \"1497 \", \"2179 \", \"1582 \", \"999 \", \"2494 \", \"1248 \", \"796 \", \"1248 \", \"1396 \", \"1498 \", \"1197 \", \"1497 \", \"1498 \", \"1495 \", \"1598 \", \"1086 \", \"993 \", \"993 \", \"1248 \", \"1599 \", \"1582 \", \"1896 \", \"1197 \", \"1399 \", \"2494 \", \"1298 \", \"1497 \", \"2179 \", \"1461 \", \"2354 \", \"1493 \", \"1596 \", \"1248 \", \"1497 \", \"796 \", \"1396 \", \"796 \", \"1199 \", \"998 \", \"2494 \", \"1497 \", \"796 \", \"1248 \", \"1461 \", \"1396 \", \"1968 \", \"1498 \", \"2179 \", \"2835 \", \"1086 \", \"1598 \", \"1390 \", \"998 \", \"2179 \", \"1396 \", \"1798 \", \"1461 \", \"1582 \", \"1399 \", \"1498 \", \"1590 \", \"1197 \", \"1498 \", \"2494 \", \"2393 \", \"2179 \", \"2354 \", \"2523 \", \"2494 \", \"2982 \", \"1405 \", \"796 \", \"998 \", \"1582 \", \"1248 \", \"1586 \", \"1799 \", \"1399 \", \"1497 \", \"1799 \", \"1299 \", \"1198 \", \"2489 \", \"2982 \", \"998 \", \"2494 \", \"1248 \", \"1498 \", \"1497 \", \"1248 \", \"998 \", \"814 \", \"1248 \", \"1461 \", \"1341 \", \"1248 \", \"1598 \", \"2498 \", \"1298 \", \"1196 \", \"998 \", \"1298 \", \"1248 \", \"1399 \", \"998 \", \"1199 \", \"1493 \", \"1497 \", \"2499 \", \"2179 \", \"1399 \", \"1461 \", \"2494 \", \"1061 \", \"2494 \", \"1248 \", \"1341 \", \"1248 \", \"1498 \", \"1493 \", \"1396 \", \"1299 \", \"993 \", \"1248 \", \"796 \", \"1498 \", \"2179 \", \"1498 \", \"1461 \", \"2179 \", \"1498 \", \"1461 \", \"1197 \", \"2179 \", \"1399 \", \"1197 \", \"1498 \", \"1405 \", \"2179 \", \"1248 \", \"2179 \", \"998 \", \"2609 \", \"1582 \", \"1498 \", \"1364 \", \"1399 \", \"1399 \", \"2400 \", \"1497 \", \"1591 \", \"1248 \", \"999 \", \"1799 \", \"2179 \", \"1794 \", \"1582 \", \"1799 \", \"1248 \", \"2179 \", \"1248 \", \"998 \", \"2179 \", \"1497 \", \"1896 \", \"1248 \", \"1248 \", \"2179 \", \"1248 \", \"1197 \", \"1896 \", \"1248 \", \"936 \", \"1461 \", \"2179 \", \"2179 \", \"1798 \", \"1798 \", \"1086 \", \"1461 \", \"1390 \", \"1497 \", \"2179 \", \"2523 \", \"1248 \", \"1586 \", \"2179 \", \"1799 \", \"1596 \", \"1461 \", \"1248 \", \"1461 \", \"1497 \", \"1461 \", \"1298 \", \"1248 \", \"1248 \", \"2494 \", \"1199 \", \"1396 \", \"2179 \", \"1248 \", \"1197 \", \"1248 \", \"2179 \", \"2179 \", \"796 \", \"1248 \", \"1798 \", \"2982 \", \"1422 \", \"998 \", \"1799 \", \"2354 \", \"1341 \", \"1248 \", \"1498 \", \"1248 \", \"1248 \", \"1086 \", \"1248 \", \"1248 \", \"1582 \", \"1998 \", \"1197 \", \"2494 \", \"1248 \", \"1198 \", \"1498 \", \"1582 \", \"998 \", \"1399 \", \"2489 \", \"1798 \", \"1299 \", \"1343 \", \"1086 \", \"1968 \", \"1896 \", \"1586 \", \"1461 \", \"1248 \", \"2179 \", \"2179 \", \"796 \", \"2835 \", \"1596 \", \"2956 \", \"1197 \", \"2179 \", \"1498 \", \"814 \", \"1498 \", \"2494 \", \"1586 \", \"1248 \", \"1061 \", \"2987 \", \"1248 \", \"1248 \", \"1968 \", \"993 \", \"999 \", \"1197 \", \"1248 \", \"1399 \", \"1399 \", \"1248 \", \"1364 \", \"1968 \", \"1086 \", \"1199 \", \"1497 \", \"2179 \", \"1197 \", \"1086 \", \"796 \", \"1582 \", \"998 \", \"1061 \", \"1582 \", \"936 \", \"1582 \", \"1399 \", \"1497 \", \"1199 \", \"1248 \", \"1248 \", \"1798 \", \"2494 \", \"2179 \", \"1461 \", \"1086 \", \"1399 \", \"1248 \", \"2179 \", \"1197 \", \"2179 \", \"1597 \", \"1248 \", \"1086 \", \"1461 \", \"1396 \", \"1991 \", \"1405 \", \"1461 \", \"1193 \", \"1061 \", \"1498 \", \"1248 \", \"1248 \", \"1598 \", \"1493 \", \"2523 \", \"1461 \", \"936 \", \"1498 \", \"1198 \", \"1598 \", \"1373 \", \"1061 \", \"1248 \", \"2523 \", \"1396 \", \"1896 \", \"2494 \", \"1086 \", \"1991 \", \"2179 \", \"1248 \", \"1586 \", \"2354 \", \"2179 \", \"1399 \", \"1399 \", \"1197 \", \"2179 \", \"1120 \", \"1086 \", \"1405 \", \"1399 \", \"1061 \", \"1248 \", \"1896 \", \"998 \", \"1498 \", \"1186 \", \"1248 \", \"1248 \", \"1968 \", \"1248 \", \"1197 \", \"1364 \", \"796 \", \"2148 \", \"998 \", \"2494 \", \"1197 \", \"1396 \", \"1498 \", \"998 \", \"1997 \", \"2179 \", \"1248 \", \"1493 \", \"998 \", \"936 \", \"2179 \", \"1150 \", \"1298 \", \"1498 \", \"1086 \", \"2494 \", \"1248 \", \"1498 \", \"1086 \", \"1248 \", \"1498 \", \"1197 \", \"2494 \", \"1596 \", \"1396 \", \"1493 \", \"1086 \", \"1497 \", \"1197 \", \"1086 \", \"793 \", \"1396 \", \"1197 \", \"1998 \", \"1498 \", \"1197 \", \"1799 \", \"1120 \", \"993 \", \"2494 \", \"1461 \", \"1498 \", \"1248 \", \"1896 \", \"1399 \", \"1489 \", \"2179 \", \"2354 \", \"1461 \", \"2092 \", \"1582 \", \"1991 \", \"1599 \", \"2982 \", \"1248 \", \"1498 \", \"1248 \", \"1248 \", \"1495 \", \"1598 \", \"2179 \", \"1248 \", \"998 \", \"1248 \", \"1248 \", \"1497 \", \"1498 \", \"624 \", \"1396 \", \"1248 \", \"2179 \", \"2179 \", \"1396 \", \"1399 \", \"1586 \", \"1248 \", \"1248 \", \"1461 \", \"1497 \", \"1493 \", \"998 \", \"1248 \", \"1248 \", \"1582 \", \"1461 \", \"1197 \", \"1794 \", \"1396 \", \"1120 \", \"2354 \", \"1364 \", \"1198 \", \"1248 \", \"1248 \", \"1198 \", \"2148 \", \"1198 \", \"998 \", \"1086 \", \"1248 \", \"1498 \", \"1794 \", \"1086 \", \"1968 \", \"1396 \", \"1396 \", \"2494 \", \"1991 \", \"1498 \", \"1199 \", \"1248 \", \"1196 \", \"1498 \", \"1298 \", \"1998 \", \"1582 \", \"1405 \", \"1396 \", \"1248 \", \"2179 \", \"1298 \", \"1199 \", \"1968 \", \"1399 \", \"2148 \", \"1198 \", \"1405 \", \"1396 \", \"998 \", \"796 \", \"1399 \", \"1248 \", \"2835 \", \"1399 \", \"2494 \", \"1396 \", \"1461 \", \"1461 \", \"1199 \", \"1248 \", \"1248 \", \"1396 \", \"1586 \", \"1497 \", \"1896 \", \"1248 \", \"1396 \", \"2179 \", \"2179 \", \"1197 \", \"1498 \", \"2494 \", \"998 \", \"2179 \", \"1199 \", \"1248 \", \"1799 \", \"998 \", \"796 \", \"2179 \", \"1497 \", \"1498 \", \"1248 \", \"2179 \", \"1198 \", \"1461 \", \"1498 \", \"1120 \", \"1248 \", \"796 \", \"1199 \", \"1248 \", \"1248 \", \"1399 \", \"1248 \", \"1399 \", \"2982 \", \"2982 \", \"1586 \", \"1388 \", \"2498 \", \"998 \", \"1120 \", \"2179 \", \"1197 \", \"1461 \", \"2498 \", \"1120 \", \"1368 \", \"1405 \", \"1498 \", \"1498 \", \"1196 \", \"1197 \", \"1498 \", \"936 \", \"2179 \", \"1896 \", \"1991 \", \"1461 \", \"1498 \", \"1197 \", \"1248 \", \"936 \", \"1248 \", \"1582 \", \"1061 \", \"1248 \", \"1498 \", \"1498 \", \"1248 \", \"1493 \", \"1198 \", \"1461 \", \"1197 \", \"1199 \", \"1248 \", \"796 \", \"1396 \", \"1598 \", \"1298 \", \"1193 \", \"2179 \", \"1248 \", \"2354 \", \"1150 \", \"1248 \", \"2179 \", \"1198 \", \"2982 \", \"796 \", \"1405 \", \"1493 \", \"1248 \", \"1399 \", \"1498 \", \"1086 \", \"1388 \", \"1248 \", \"1396 \", \"2523 \", \"1120 \", \"1248 \", \"1598 \", \"814 \", \"1497 \", \"1150 \", \"998 \", \"2494 \", \"1399 \", \"1198 \", \"1399 \", \"2112 \", \"1461 \", \"1461 \", \"1399 \", \"1461 \", \"1498 \", \"1461 \", \"998 \", \"1399 \", \"1248 \", \"1197 \", \"1248 \", \"1461 \", \"2179 \", \"1198 \", \"1120 \", \"1364 \", \"1364 \", \"1248 \", \"936 \", \"1198 \", \"1199 \", \"1197 \", \"1388 \", \"2199 \", \"1248 \", \"2982 \", \"1498 \", \"1461 \", \"1582 \", \"1248 \", \"1199 \", \"1197 \", \"1396 \", \"998 \", \"1364 \", \"1461 \", \"1199 \", \"1086 \", \"2696 \", \"2179 \", \"1461 \", \"1461 \", \"796 \", \"1343 \", \"1399 \", \"2982 \", \"2179 \", \"1248 \", \"1248 \", \"1497 \", \"1497 \", \"2982 \", \"1120 \", \"1498 \", \"796 \", \"1248 \", \"2179 \", \"1991 \", \"2179 \", \"1120 \", \"1248 \", \"799 \", \"2393 \", \"1396 \", \"1197 \", \"1591 \", \"1598 \", \"1396 \", \"1248 \", \"1582 \", \"936 \", \"2494 \", \"1086 \", \"2755 \", \"2179 \", \"998 \", \"1498 \", \"1498 \", \"1399 \", \"1396 \", \"1248 \", \"1198 \", \"2179 \", \"1197 \", \"1198 \", \"1197 \", \"998 \", \"1364 \", \"1172 \", \"2393 \", \"2179 \", \"1498 \", \"1498 \", \"1364 \", \"1493 \", \"2179 \", \"1199 \", \"1598 \", \"998 \", \"2494 \", \"998 \", \"1198 \", \"1248 \", \"1248 \", \"1582 \", \"1799 \", \"2179 \", \"796 \", \"2494 \", \"1586 \", \"796 \", \"1498 \", \"1086 \", \"1086 \", \"998 \", \"1399 \", \"1495 \", \"1399 \", \"1197 \", \"1582 \", \"1248 \", \"1461 \", \"1497 \", \"2982 \", \"1896 \", \"2179 \", \"1197 \", \"796 \", \"1120 \", \"1248 \", \"1598 \", \"1248 \", \"796 \", \"1598 \", \"1498 \", \"1197 \", \"1399 \", \"1497 \", \"1497 \", \"1461 \", \"1497 \", \"1498 \", \"1396 \", \"1298 \", \"1399 \", \"1598 \", \"1086 \", \"1248 \", \"2179 \", \"1197 \", \"1248 \", \"1799 \", \"1248 \", \"1461 \", \"2982 \", \"1197 \", \"1396 \", \"1248 \", \"2499 \", \"1498 \", \"1498 \", \"1197 \", \"1498 \", \"1248 \", \"998 \", \"1248 \", \"1598 \", \"998 \", \"998 \", \"1498 \", \"2179 \", \"1498 \", \"1396 \", \"1498 \", \"1582 \", \"2694 \", \"2494 \", \"2179 \", \"1598 \", \"1498 \", \"1197 \", \"998 \", \"1193 \", \"1248 \", \"1498 \", \"1590 \", \"2179 \", \"1399 \", \"1198 \", \"1248 \", \"1197 \", \"1598 \", \"1493 \", \"998 \", \"1086 \", \"1794 \", \"1498 \", \"1496 \", \"796 \", \"998 \", \"1497 \", \"2477 \", \"1461 \", \"1493 \", \"993 \", \"1590 \", \"1086 \", \"1591 \", \"814 \", \"1798 \", \"1461 \", \"1497 \", \"1799 \", \"1248 \", \"1798 \", \"1248 \", \"1193 \", \"1364 \", \"2498 \", \"998 \", \"1997 \", \"2494 \", \"1198 \", \"2179 \", \"1396 \", \"1298 \", \"814 \", \"2494 \", \"1248 \", \"1598 \", \"1582 \", \"1197 \", \"1086 \", \"1193 \", \"998 \", \"1242 \", \"998 \", \"1405 \", \"1461 \", \"998 \", \"1461 \", \"1086 \", \"1799 \", \"796 \", \"1364 \", \"1586 \", \"1198 \", \"1597 \", \"1086 \", \"1198 \", \"1388 \", \"1497 \", \"1197 \", \"1582 \", \"1498 \", \"1298 \", \"1591 \", \"1197 \", \"1197 \", \"1373 \", \"1364 \", \"1461 \", \"1196 \", \"1498 \", \"1248 \", \"998 \", \"1461 \", \"1186 \", \"1388 \", \"998 \", \"1248 \", \"1199 \", \"2982 \", \"1896 \", \"1248 \", \"1197 \", \"1197 \", \"1598 \", \"1497 \", \"1497 \", \"1197 \", \"2982 \", \"1591 \", \"1498 \", \"1498 \", \"1498 \", \"1598 \", \"1248 \", \"1197 \", \"814 \", \"1248 \", \"1461 \", \"2523 \", \"1586 \", \"1396 \", \"1196 \", \"1248 \", \"1396 \", \"1248 \", \"998 \", \"998 \", \"2982 \", \"998 \", \"1248 \", \"1086 \", \"1248 \", \"1197 \", \"814 \", \"796 \", \"1498 \", \"2499 \", \"1197 \", \"1896 \", \"2494 \", \"1197 \", \"1497 \", \"796 \", \"1248 \", \"1396 \", \"2494 \", \"1248 \", \"1197 \", \"1373 \", \"1373 \", \"1399 \", \"1199 \", \"1591 \", \"1248 \", \"1498 \", \"1086 \", \"796 \", \"1591 \", \"1396 \", \"1298 \", \"998 \", \"1197 \", \"2179 \", \"1396 \", \"1248 \", \"2199 \", \"2498 \", \"2354 \", \"1197 \", \"1461 \", \"1497 \", \"1496 \", \"998 \", \"1497 \", \"2494 \", \"1198 \", \"1248 \", \"2393 \", \"2179 \", \"1248 \", \"1798 \", \"1396 \", \"1498 \", \"998 \", \"1598 \", \"993 \", \"796 \", \"1248 \", \"1497 \", \"1591 \", \"999 \", \"1248 \", \"1498 \", \"1396 \", \"1461 \", \"1968 \", \"1461 \", \"2179 \", \"1496 \", \"1582 \", \"1396 \", \"1197 \", \"1493 \", \"1248 \", \"1582 \", \"2393 \", \"1794 \", \"1498 \", \"998 \", \"1591 \", \"1396 \", \"1341 \", \"1197 \", \"1598 \", \"796 \", \"814 \", \"1498 \", \"1299 \", \"1198 \", \"1498 \", \"1120 \", \"1461 \", \"2179 \", \"1199 \", \"1497 \", \"1497 \", \"998 \", \"1399 \", \"1199 \", \"1586 \", \"1199 \", \"1061 \", \"936 \", \"1497 \", \"1248 \", \"1461 \", \"1799 \", \"1586 \", \"1199 \", \"1399 \", \"1999 \", \"1498 \", \"1497 \", \"796 \", \"796 \", \"1498 \", \"1498 \", \"1197 \", \"1598 \", \"1198 \", \"1598 \", \"2956 \", \"1598 \", \"2179 \", \"1248 \", \"1498 \", \"1582 \", \"1498 \", \"1086 \", \"1498 \", \"1061 \", \"1197 \", \"1086 \", \"998 \", \"1461 \", \"1248 \", \"1199 \", \"1399 \", \"796 \", \"796 \", \"1197 \", \"1086 \", \"998 \", \"1399 \", \"1461 \", \"2199 \", \"1373 \", \"1461 \", \"1582 \", \"1248 \", \"2179 \", \"1248 \", \"1461 \", \"2494 \", \"1198 \", \"1299 \", \"2179 \", \"1497 \", \"1197 \", \"796 \", \"1198 \", \"814 \", \"1248 \", \"1497 \", \"1497 \", \"1061 \", \"2755 \", \"1498 \", \"1364 \", \"1193 \", \"1796 \", \"796 \", \"1120 \", \"1248 \", \"1199 \", \"1197 \", \"1198 \", \"998 \", \"2982 \", \"1199 \", \"2494 \", \"1061 \", \"1120 \", \"1248 \", \"2523 \", \"1598 \", \"1991 \", \"1998 \", \"1248 \", \"624 \", \"1498 \", \"2179 \", \"1461 \", \"2179 \", \"1298 \", \"1399 \", \"936 \", \"1598 \", \"1198 \", \"998 \", \"1497 \", \"1498 \", \"1582 \", \"1396 \", \"1248 \", \"1248 \", \"2494 \", \"1086 \", \"1498 \", \"993 \", \"1248 \", \"1498 \", \"1196 \", \"1248 \", \"2148 \", \"1582 \", \"1198 \", \"1298 \", \"998 \", \"2179 \", \"1197 \", \"1199 \", \"1198 \", \"2393 \", \"2494 \", \"2354 \", \"998 \", \"1461 \", \"1498 \", \"814 \", \"1493 \", \"1396 \", \"1086 \", \"1498 \", \"1248 \", \"1598 \", \"1248 \", \"1396 \", \"1498 \", \"998 \", \"1248 \", \"1968 \", \"1197 \", \"1150 \", \"1061 \", \"1598 \", \"1998 \", \"1197 \", \"999 \", \"1498 \", \"1248 \", \"1364 \", \"1396 \", \"1248 \", \"998 \", \"1248 \", \"1396 \", \"1998 \", \"796 \", \"1298 \", \"1497 \", \"1197 \", \"1248 \", \"1120 \", \"1798 \", \"1199 \", \"1248 \", \"1197 \", \"1248 \", \"1364 \", \"1497 \", \"1197 \", \"1120 \", \"1582 \", \"1582 \", \"796 \", \"796 \", \"1498 \", \"1248 \", \"1461 \", \"1498 \", \"1399 \", \"1598 \", \"1248 \", \"1461 \", \"2179 \", \"1586 \", \"1197 \", \"999 \", \"1598 \", \"1120 \", \"1341 \", \"1120 \", \"1198 \", \"1586 \", \"1582 \", \"1248 \", \"1798 \", \"1248 \", \"998 \", \"1794 \", \"1498 \", \"1497 \", \"1461 \", \"1598 \", \"1248 \", \"2523 \", \"1498 \", \"796 \", \"1199 \", \"1198 \", \"1364 \", \"1248 \", \"2179 \", \"1197 \", \"1498 \", \"1598 \", \"2179 \", \"1498 \", \"998 \", \"1248 \", \"1396 \", \"1248 \", \"1498 \", \"998 \", \"1582 \", \"1497 \", \"1197 \", \"1499 \", \"1586 \", \"1197 \", \"1248 \", \"1495 \", \"1197 \", \"1364 \", \"1248 \", \"1248 \", \"1396 \", \"1199 \", \"2494 \", \"1796 \", \"1248 \", \"1197 \", \"2982 \", \"1197 \", \"1498 \", \"1197 \", \"1991 \", \"1598 \", \"998 \", \"1498 \", \"1199 \", \"1197 \", \"2179 \", \"1248 \", \"1197 \", \"1199 \", \"1461 \", \"1498 \", \"1197 \", \"1198 \", \"1199 \", \"1197 \", \"1586 \", \"1197 \", \"1248 \", \"995 \", \"1598 \", \"1298 \", \"998 \", \"1396 \", \"1582 \", \"1582 \", \"998 \", \"1497 \", \"1248 \", \"1199 \", \"2494 \", \"1991 \", \"2179 \", \"1086 \", \"998 \", \"1197 \", \"1197 \", \"1198 \", \"1582 \", \"1498 \", \"1598 \", \"1799 \", \"1498 \", \"2179 \", \"1591 \", \"2179 \", \"1197 \", \"1591 \", \"1498 \", \"993 \", \"1086 \", \"1248 \", \"1197 \", \"1248 \", \"936 \", \"1461 \", \"998 \", \"1197 \", \"1197 \", \"1197 \", \"998 \", \"1586 \", \"796 \", \"1388 \", \"1197 \", \"2179 \", \"1198 \", \"1599 \", \"1498 \", \"998 \", \"796 \", \"1248 \", \"1120 \", \"1373 \", \"1598 \", \"1199 \", \"1498 \", \"1396 \", \"1798 \", \"1497 \", \"1086 \", \"998 \", \"1582 \", \"814 \", \"1186 \", \"1198 \", \"1198 \", \"1498 \", \"1196 \", \"1368 \", \"2523 \", \"1498 \", \"1086 \", \"1086 \", \"998 \", \"1248 \", \"1582 \", \"1498 \", \"1248 \", \"1896 \", \"1497 \", \"1248 \", \"1461 \", \"993 \", \"1197 \", \"814 \", \"1086 \", \"814 \", \"1197 \", \"1061 \", \"796 \", \"1498 \", \"1399 \", \"1498 \", \"1248 \", \"1396 \", \"1599 \", \"998 \", \"1461 \", \"1497 \", \"1086 \", \"2354 \", \"1399 \", \"1798 \", \"1061 \", \"1497 \", \"2179 \", \"1198 \", \"1496 \", \"1461 \", \"1896 \", \"1298 \", \"1582 \", \"1199 \", \"1498 \", \"796 \", \"2494 \", \"1197 \", \"1197 \", \"1086 \", \"1364 \", \"1396 \", \"1086 \", \"1199 \", \"1197 \", \"1061 \", \"1248 \", \"1798 \", \"1120 \", \"1497 \", \"1248 \", \"1396 \", \"2179 \", \"1599 \", \"1461 \", \"1461 \", \"2982 \", \"1248 \", \"1086 \", \"1461 \", \"1498 \", \"1461 \", \"1248 \", \"1299 \", \"1197 \", \"2494 \", \"2179 \", \"1364 \", \"1248 \", \"998 \", \"624 \", \"1197 \", \"1197 \", \"1197 \", \"1399 \", \"998 \", \"1172 \", \"1186 \", \"1298 \", \"1248 \", \"1196 \", \"2179 \", \"1405 \", \"796 \", \"1198 \", \"1498 \", \"1197 \", \"796 \", \"1248 \", \"1248 \", \"1150 \", \"2982 \", \"1197 \", \"1086 \", \"1197 \", \"1799 \", \"2477 \", \"1498 \", \"1198 \", \"1197 \", \"2696 \", \"1498 \", \"1498 \", \"1248 \", \"1461 \", \"1493 \", \"1086 \", \"1968 \", \"1198 \", \"1248 \", \"1248 \", \"1582 \", \"1197 \", \"1198 \", \"796 \", \"1197 \", \"1086 \", \"998 \", \"1497 \", \"1298 \", \"1120 \", \"1197 \", \"1341 \", \"1248 \", \"1364 \", \"1197 \", \"2199 \", \"1086 \", \"1198 \", \"1248 \", \"1498 \", \"1298 \", \"1896 \", \"1991 \", \"1461 \", \"1461 \", \"1120 \", \"1498 \", \"1198 \", \"1248 \", \"998 \", \"1086 \", \"1248 \", \"936 \", \"1120 \", \"1591 \", \"1120 \", \"1461 \", \"1248 \", \"1461 \", \"2179 \", \"1499 \", \"1197 \", \"999 \", \"1497 \", \"2179 \", \"1120 \", \"1598 \", \"1591 \", \"1197 \", \"1495 \", \"1582 \", \"1498 \", \"1968 \", \"1248 \", \"1498 \", \"1248 \", \"1248 \", \"1197 \", \"2494 \", \"2179 \", \"1120 \", \"998 \", \"814 \", \"1120 \", \"1197 \", \"1197 \", \"2494 \", \"1197 \", \"1591 \", \"1364 \", \"1461 \", \"1598 \", \"1248 \", \"1086 \", \"1598 \", \"1248 \", \"1493 \", \"1598 \", \"1197 \", \"1248 \", \"1248 \", \"1598 \", \"1497 \", \"1086 \", \"2696 \", \"1248 \", \"624 \", \"1198 \", \"1198 \", \"1498 \", \"1498 \", \"1497 \", \"1396 \", \"1582 \", \"1248 \", \"1461 \", \"1498 \", \"1498 \", \"1461 \", \"2148 \", \"1498 \", \"1399 \", \"1197 \", \"1248 \", \"1799 \", \"1197 \", \"1498 \", \"1396 \", \"796 \", \"1997 \", \"1196 \", \"1498 \", \"1248 \", \"1498 \", \"2179 \", \"1598 \", \"1197 \", \"1399 \", \"1248 \", \"1498 \", \"1493 \", \"1496 \", \"1248 \", \"2755 \", \"1298 \", \"1197 \", \"1248 \", \"1997 \", \"1086 \", \"1461 \", \"1598 \", \"1498 \", \"1598 \", \"1497 \", \"1248 \", \"1086 \", \"1598 \", \"998 \", \"1461 \", \"796 \", \"1199 \", \"1248 \", \"1497 \", \"1497 \", \"1495 \", \"1086 \", \"796 \", \"1197 \", \"2982 \", \"1399 \", \"1598 \", \"2179 \", \"1497 \", \"1197 \", \"1248 \", \"2179 \", \"1498 \", \"1396 \", \"1396 \", \"1797 \", \"1598 \", \"1493 \", \"1199 \", \"1598 \", \"1086 \", \"1248 \", \"1396 \", \"1199 \", \"998 \", \"1461 \", \"998 \", \"1197 \", \"1599 \", \"796 \", \"1198 \", \"998 \", \"1396 \", \"936 \", \"1399 \", \"1298 \", \"1198 \", \"1248 \", \"1598 \", \"1461 \", \"1461 \", \"998 \", \"1598 \", \"1197 \", \"1896 \", \"1198 \", \"1991 \", \"2494 \", \"1198 \", \"2179 \", \"1061 \", \"1497 \", \"814 \", \"1498 \", \"1086 \", \"2179 \", \"1497 \", \"1461 \", \"1248 \", \"1495 \", \"1298 \", \"1598 \", \"1498 \", \"2179 \", \"2494 \", \"2179 \", \"1298 \", \"1197 \", \"1399 \", \"1496 \", \"1598 \", \"1199 \", \"1497 \", \"1498 \", \"1598 \", \"1498 \", \"1196 \", \"1499 \", \"2498 \", \"1799 \", \"1396 \", \"1198 \", \"1086 \", \"1198 \", \"1298 \", \"1798 \", \"1199 \", \"1196 \", \"814 \", \"1497 \", \"1248 \", \"1498 \", \"814 \", \"1248 \", \"1248 \", \"1497 \", \"1298 \", \"1498 \", \"1197 \", \"1248 \", \"1396 \", \"1582 \", \"1497 \", \"2354 \", \"1591 \", \"1248 \", \"1497 \", \"796 \", \"1198 \", \"1598 \", \"1248 \", \"999 \", \"1248 \", \"1461 \", \"1086 \", \"1199 \", \"998 \", \"1399 \", \"1461 \", \"2393 \", \"2179 \", \"1498 \", \"1248 \", \"998 \", \"1197 \", \"1461 \", \"1120 \", \"1196 \", \"1198 \", \"1461 \", \"1197 \", \"1248 \", \"1197 \", \"796 \", \"1197 \", \"1197 \", \"1399 \", \"1199 \", \"1248 \", \"1198 \", \"998 \", \"1798 \", \"799 \", \"1248 \", \"998 \", \"1197 \", \"1364 \", \"1582 \", \"1248 \", \"1248 \", \"796 \", \"1198 \", \"2477 \", \"1497 \", \"2179 \", \"1396 \", \"1591 \", \"1798 \", \"1582 \", \"1198 \", \"1086 \", \"1395 \", \"1197 \", \"1248 \", \"1298 \", \"1047 \", \"1086 \", \"1373 \", \"1248 \", \"1497 \", \"1086 \", \"1197 \", \"1461 \", \"1061 \", \"1197 \", \"1498 \", \"1586 \", \"1197 \", \"1197 \", \"1498 \", \"796 \", \"2179 \", \"1998 \", \"1198 \", \"1248 \", \"1120 \", \"998 \", \"1461 \", \"1493 \", \"1582 \", \"1198 \", \"1198 \", \"1373 \", \"998 \", \"1598 \", \"936 \", \"1582 \", \"1248 \", \"1591 \", \"2179 \", \"1197 \", \"1086 \", \"1495 \", \"1248 \", \"1248 \", \"1197 \", \"1197 \", \"796 \", \"796 \", \"1591 \", \"1461 \", \"1498 \", \"1461 \", \"1364 \", \"1991 \", \"1248 \", \"1591 \", \"1198 \", \"1248 \", \"1248 \", \"1956 \", \"1498 \", \"1198 \", \"1196 \", \"1197 \", \"1582 \", \"1586 \", \"1197 \", \"1248 \", \"998 \", \"2179 \", \"1364 \", \"1497 \", \"1598 \", \"1248 \", \"998 \", \"814 \", \"998 \", \"1086 \", \"998 \", \"1396 \", \"1461 \", \"1396 \", \"1298 \", \"1498 \", \"1598 \", \"1197 \", \"1498 \", \"1399 \", \"1248 \", \"1497 \", \"1197 \", \"1591 \", \"1248 \", \"2393 \", \"796 \", \"1199 \", \"1248 \", \"1373 \", \"1196 \", \"1248 \", \"1497 \", \"2179 \", \"1396 \", \"1197 \", \"1498 \", \"1586 \", \"1248 \", \"1461 \", \"1199 \", \"796 \", \"1197 \", \"1196 \", \"1498 \", \"1373 \", \"1461 \", \"998 \", \"1599 \", \"1405 \", \"2494 \", \"2179 \", \"998 \", \"1198 \", \"998 \", \"998 \", \"1248 \", \"1197 \", \"1196 \", \"1198 \", \"1120 \", \"1598 \", \"1998 \", \"999 \", \"1582 \", \"1591 \", \"998 \", \"1461 \", \"1396 \", \"1399 \", \"1197 \", \"1582 \", \"1186 \", \"1197 \", \"1120 \", \"998 \", \"1086 \", \"1799 \", \"1599 \", \"2148 \", \"1399 \", \"1086 \", \"1197 \", \"1248 \", \"1498 \", \"1086 \", \"1086 \", \"1498 \", \"1498 \", \"1498 \", \"995 \", \"1248 \", \"1197 \", \"1197 \", \"1498 \", \"1497 \", \"1086 \", \"1197 \", \"998 \", \"2148 \", \"1582 \", \"1405 \", \"1197 \", \"1248 \", \"1598 \", \"1197 \", \"796 \", \"1061 \", \"1248 \", \"1396 \", \"1197 \", \"1198 \", \"1186 \", \"1298 \", \"2494 \", \"1197 \", \"1598 \", \"1248 \", \"1198 \", \"1498 \", \"1461 \", \"1498 \", \"1248 \", \"624 \", \"2609 \", \"1197 \", \"1197 \", \"2200 \", \"1198 \", \"1197 \", \"1197 \", \"1248 \", \"1197 \", \"1582 \", \"1495 \", \"1598 \", \"1197 \", \"1120 \", \"1120 \", \"1197 \", \"1248 \", \"1198 \", \"1498 \", \"1497 \", \"1197 \", \"1298 \", \"1364 \", \"1197 \", \"1591 \", \"1396 \", \"1396 \", \"2179 \", \"1199 \", \"1373 \", \"1493 \", \"1198 \", \"1298 \", \"1248 \", \"2498 \", \"1198 \", \"1598 \", \"1498 \", \"1197 \", \"1198 \", \"796 \", \"1591 \", \"1248 \", \"1197 \", \"1798 \", \"2179 \", \"1497 \", \"998 \", \"1086 \", \"1086 \", \"995 \", \"796 \", \"1497 \", \"1396 \", \"1298 \", \"1197 \", \"1198 \", \"2835 \", \"1373 \", \"998 \", \"1197 \", \"1197 \", \"1498 \", \"1497 \", \"998 \", \"998 \", \"1368 \", \"1497 \", \"1197 \", \"1461 \", \"1197 \", \"1248 \", \"2835 \", \"1197 \", \"1794 \", \"1591 \", \"1193 \", \"1956 \", \"1197 \", \"1582 \", \"796 \", \"1497 \", \"1497 \", \"1197 \", \"1798 \", \"2179 \", \"1186 \", \"1198 \", \"2393 \", \"1248 \", \"2179 \", \"1498 \", \"1248 \", \"1364 \", \"998 \", \"1198 \", \"1498 \", \"1368 \", \"1199 \", \"1197 \", \"1591 \", \"799 \", \"1199 \", \"2494 \", \"1598 \", \"1248 \", \"1197 \", \"1248 \", \"2354 \", \"1197 \", \"2179 \", \"1586 \", \"1198 \", \"1498 \", \"1197 \", \"1373 \", \"1582 \", \"1197 \", \"1248 \", \"1599 \", \"1248 \", \"1582 \", \"1198 \", \"2494 \", \"1086 \", \"998 \", \"2982 \", \"1591 \", \"1248 \", \"1498 \", \"1493 \", \"998 \", \"1591 \", \"1197 \", \"1196 \", \"1197 \", \"998 \", \"1248 \", \"1498 \", \"1498 \", \"1248 \", \"2354 \", \"1461 \", \"1248 \", \"1799 \", \"1582 \", \"1396 \", \"2494 \", \"1461 \", \"2494 \", \"1198 \", \"1298 \", \"814 \", \"936 \", \"1193 \", \"1498 \", \"1498 \", \"1396 \", \"1197 \", \"814 \", \"1197 \", \"2179 \", \"1995 \", \"998 \", \"998 \", \"1198 \", \"1498 \", \"1086 \", \"1197 \", \"1591 \", \"998 \", \"1198 \", \"1373 \", \"1396 \", \"1248 \", \"1120 \", \"1498 \", \"1364 \", \"1197 \", \"1198 \", \"1198 \", \"1948 \", \"1086 \", \"1199 \", \"1461 \", \"1248 \", \"1396 \", \"1198 \", \"998 \", \"1497 \", \"1798 \", \"1598 \", \"1197 \", \"1248 \", \"1498 \", \"998 \", \"1248 \", \"1598 \", \"1199 \", \"1198 \", \"1798 \", \"1396 \", \"1498 \", \"1086 \", \"1497 \", \"1197 \", \"2835 \", \"1197 \", \"1197 \", \"1498 \", \"1248 \", \"796 \", \"1498 \", \"998 \", \"1248 \", \"2179 \", \"1496 \", \"1498 \", \"1497 \", \"1086 \", \"1497 \", \"1498 \", \"814 \", \"1248 \", \"1498 \", \"1248 \", \"1461 \", \"1248 \", \"998 \", \"1197 \", \"1197 \", \"1495 \", \"1598 \", \"1364 \", \"2179 \", \"1498 \", \"1498 \", \"814 \", \"1497 \", \"2494 \", \"1399 \", \"1248 \", \"1198 \", \"1498 \", \"1120 \", \"1498 \", \"1248 \", \"1248 \", \"1582 \", \"1591 \", \"1198 \", \"1199 \", \"1498 \", \"1248 \", \"799 \", \"1591 \", \"1198 \", \"1498 \", \"1197 \", \"1198 \", \"1199 \", \"2148 \", \"1248 \", \"1199 \", \"1248 \", \"1198 \", \"1798 \", \"1364 \", \"1498 \", \"1197 \", \"1197 \", \"1197 \", \"1956 \", \"2359 \", \"1086 \", \"1248 \", \"2494 \", \"1498 \", \"1248 \", \"1598 \", \"1498 \", \"1364 \", \"1582 \", \"1598 \", \"1497 \", \"1197 \", \"814 \", \"1598 \", \"1248 \", \"1248 \", \"1196 \", \"1396 \", \"1199 \", \"1582 \", \"1582 \", \"1368 \", \"1198 \", \"1198 \", \"1798 \", \"1399 \", \"1373 \", \"1197 \", \"1197 \", \"1248 \", \"1396 \", \"1591 \", \"936 \", \"1498 \", \"1198 \", \"1197 \", \"1373 \", \"1248 \", \"1197 \", \"1496 \", \"998 \", \"995 \", \"1997 \", \"1197 \", \"1086 \", \"1396 \", \"1498 \", \"1341 \", \"1498 \", \"1498 \", \"1582 \", \"1198 \", \"1497 \", \"2179 \", \"1198 \", \"1198 \", \"814 \", \"1197 \", \"1196 \", \"1396 \", \"998 \", \"998 \", \"1248 \", \"2179 \", \"1497 \", \"1197 \", \"995 \", \"1193 \", \"1197 \", \"998 \", \"998 \", \"1197 \", \"1198 \", \"1248 \", \"1086 \", \"999 \", \"1248 \", \"1086 \", \"2393 \", \"1461 \", \"1373 \", \"1364 \", \"1497 \", \"1120 \", \"998 \", \"1197 \", \"1197 \", \"1198 \", \"2179 \", \"1396 \", \"1498 \", \"1582 \", \"1497 \", \"1598 \", \"1198 \", \"2393 \", \"1497 \", \"1198 \", \"1248 \", \"1197 \", \"1197 \", \"2179 \", \"1248 \", \"1086 \", \"1498 \", \"1396 \", \"1497 \", \"936 \", \"1199 \", \"1396 \", \"1197 \", \"1197 \", \"1197 \", \"998 \", \"1497 \", \"1197 \", \"1197 \", \"1197 \", \"1198 \", \"1197 \", \"1186 \", \"1582 \", \"1248 \", \"1196 \", \"1956 \", \"793 \", \"1197 \", \"1248 \", \"1496 \", \"995 \", \"1497 \", \"624 \", \"1968 \", \"1197 \", \"2179 \", \"1196 \", \"1197 \", \"1497 \", \"1497 \", \"1197 \", \"2354 \", \"1197 \", \"1197 \", \"1497 \", \"998 \", \"1198 \", \"999 \", \"1582 \", \"793 \", \"1461 \", \"1373 \", \"1086 \", \"1198 \", \"796 \", \"1498 \", \"1120 \", \"1197 \", \"1248 \", \"1364 \", \"1399 \", \"1197 \", \"1498 \", \"998 \", \"1199 \", \"1197 \", \"1582 \", \"2179 \", \"1373 \", \"1197 \", \"1582 \", \"1197 \", \"2982 \", \"1396 \", \"1598 \", \"1591 \", \"1591 \", \"1248 \", \"1198 \", \"1248 \", \"1248 \", \"2179 \", \"1399 \", \"1373 \", \"1248 \", \"1198 \", \"1368 \", \"1086 \", \"998 \", \"1248 \", \"1197 \", \"1497 \", \"1197 \", \"1582 \", \"1198 \", \"1498 \", \"1461 \", \"799 \", \"1598 \", \"2149 \", \"1248 \", \"1199 \", \"1197 \", \"1582 \", \"1198 \", \"2200 \", \"1198 \", \"998 \", \"1193 \", \"1373 \", \"1197 \", \"1498 \", \"1598 \", \"1197 \", \"1199 \", \"1248 \", \"1798 \", \"936 \", \"2179 \", \"1248 \", \"1197 \", \"1582 \", \"2523 \", \"1373 \", \"1197 \", \"1198 \", \"1197 \", \"1197 \", \"1493 \", \"1197 \", \"1461 \", \"1598 \", \"1198 \", \"1396 \", \"1582 \", \"1248 \", \"1197 \", \"1497 \", \"1461 \", \"1197 \", \"1248 \", \"1248 \", \"1498 \", \"1193 \", \"1197 \", \"1198 \", \"1248 \", \"1197 \", \"1248 \", \"2179 \", \"2982 \", \"1582 \", \"998 \", \"1197 \", \"1193 \", \"1497 \", \"1598 \", \"1198 \", \"1497 \", \"998 \", \"1591 \", \"1248 \", \"1461 \", \"998 \", \"1298 \", \"1248 \", \"1299 \", \"1197 \", \"998 \", \"1368 \", \"1248 \", \"2982 \", \"1198 \", \"1197 \", \"998 \", \"1498 \", \"1198 \", \"1368 \", \"1598 \", \"2179 \", \"1198 \", \"1582 \", \"1248 \", \"1498 \", \"1198 \", \"1198 \", \"1248 \", \"1196 \", \"2179 \", \"998 \", \"1368 \", \"1193 \", \"2477 \", \"1248 \", \"1461 \", \"1461 \", \"1248 \", \"1498 \", \"1197 \", \"1197 \", \"796 \", \"1598 \", \"1497 \", \"1197 \", \"1199 \", \"1197 \", \"1248 \", \"1497 \", \"1498 \", \"1399 \", \"1198 \", \"1248 \", \"998 \", \"1197 \", \"1461 \", \"1199 \", \"1582 \", \"1498 \", \"1198 \", \"1197 \", \"1497 \", \"2198 \", \"1197 \", \"1497 \", \"1497 \", \"1199 \", \"1248 \", \"1248 \", \"1248 \", \"1497 \", \"1248 \", \"1497 \", \"1462 \", \"1248 \", \"1248 \", \"1396 \", \"1591 \", \"1197 \", \"1197 \", \"1248 \", \"1248 \", \"796 \", \"1248 \", \"1582 \", \"1196 \", \"1197 \", \"1498 \", \"1498 \", \"1799 \", \"998 \", \"1396 \", \"796 \", \"1497 \", \"1248 \", \"1197 \", \"1198 \", \"796 \", \"796 \", \"1248 \", \"1248 \", \"814 \", \"1196 \", \"1598 \", \"1599 \", \"1197 \", \"1598 \", \"1598 \", \"2393 \", \"998 \", \"1582 \", \"1582 \", \"1248 \", \"998 \", \"1197 \", \"2179 \", \"1396 \", \"1493 \", \"1591 \", \"1198 \", \"1197 \", \"1197 \", \"1582 \", \"1197 \", \"1199 \", \"1197 \", \"1199 \", \"1197 \", \"1493 \", \"1498 \", \"1498 \", \"624 \", \"1197 \", \"1582 \", \"1248 \", \"1498 \", \"1197 \", \"1390 \", \"1582 \", \"1399 \", \"1197 \", \"1956 \", \"1198 \", \"1496 \", \"1498 \", \"1198 \", \"1199 \", \"1396 \", \"1461 \", \"1197 \", \"1197 \", \"1197 \", \"814 \", \"998 \", \"2179 \", \"2179 \", \"2179 \", \"1364 \", \"1497 \", \"1197 \", \"1248 \", \"993 \", \"1199 \", \"1197 \", \"1598 \", \"1199 \", \"998 \", \"1497 \", \"1591 \", \"1197 \", \"2179 \", \"1498 \", \"1198 \", \"1061 \", \"814 \", \"1198 \", \"1364 \", \"1197 \", \"995 \", \"1461 \", \"1399 \", \"1591 \", \"1199 \", \"998 \", \"998 \", \"1248 \", \"1497 \", \"1197 \", \"1591 \", \"1197 \", \"1498 \", \"1197 \", \"2179 \", \"1396 \", \"814 \", \"1498 \", \"1498 \", \"1248 \", \"1197 \", \"1498 \", \"1193 \", \"1493 \", \"2179 \", \"1399 \", \"1582 \", \"1498 \", \"1197 \", \"1197 \", \"1496 \", \"1197 \", \"1498 \", \"1248 \", \"1796 \", \"1248 \", \"1373 \", \"1198 \", \"998 \", \"1197 \", \"1582 \", \"1497 \", \"1197 \", \"1197 \", \"1248 \", \"998 \", \"1248 \", \"1248 \", \"1086 \", \"1498 \", \"1199 \", \"1248 \", \"1197 \", \"1120 \", \"1598 \", \"1197 \", \"998 \", \"1248 \", \"1086 \", \"1598 \", \"1591 \", \"1248 \", \"1199 \", \"1197 \", \"2523 \", \"1396 \", \"1198 \", \"796 \", \"2179 \", \"796 \", \"1582 \", \"796 \", \"1248 \", \"1120 \", \"1591 \", \"1197 \", \"624 \", \"1199 \", \"2494 \", \"1461 \", \"1598 \", \"1197 \", \"1248 \", \"1248 \", \"1248 \", \"1493 \", \"796 \", \"2179 \", \"998 \", \"1498 \", \"1198 \", \"1197 \", \"1582 \", \"1086 \", \"1197 \", \"1197 \", \"796 \", \"1086 \", \"1248 \", \"1196 \", \"1196 \", \"1497 \", \"1591 \", \"1248 \", \"1120 \", \"1248 \", \"1198 \", \"796 \", \"1199 \", \"1197 \", \"1198 \", \"814 \", \"1198 \", \"1198 \", \"1497 \", \"1598 \", \"1197 \", \"998 \", \"1498 \", \"1248 \", \"1498 \", \"1248 \", \"1497 \", \"1796 \", \"1497 \", \"2494 \", \"1598 \", \"1498 \", \"1198 \", \"1198 \", \"1798 \", \"2393 \", \"1498 \", \"1498 \", \"793 \", \"1197 \", \"1197 \", \"1396 \", \"1496 \", \"1197 \", \"1197 \", \"1197 \", \"1198 \", \"1396 \", \"1956 \", \"1197 \", \"1197 \", \"1396 \", \"1197 \", \"2179 \", \"1198 \", \"1248 \", \"1150 \", \"1198 \", \"1248 \", \"2179 \", \"1498 \", \"1120 \", \"1248 \", \"1598 \", \"1197 \", \"1598 \", \"1399 \", \"1120 \", \"1197 \", \"1198 \", \"1197 \", \"1198 \", \"1248 \", \"2179 \", \"1197 \", \"1495 \", \"1396 \", \"1199 \", \"1196 \", \"1198 \", \"1186 \", \"1373 \", \"799 \", \"1199 \", \"1497 \", \"1591 \", \"1248 \", \"1399 \", \"1197 \", \"1197 \", \"998 \", \"1498 \", \"998 \", \"1120 \", \"1396 \", \"1498 \", \"1199 \", \"796 \", \"1196 \", \"1197 \", \"1498 \", \"1199 \", \"1461 \", \"1198 \", \"1198 \", \"1364 \", \"1198 \", \"796 \", \"1798 \", \"1248 \", \"1396 \", \"1197 \", \"1497 \", \"1196 \", \"1497 \", \"1248 \", \"1197 \", \"1197 \", \"1498 \", \"998 \", \"796 \", \"1248 \", \"2179 \", \"1197 \", \"1248 \", \"1582 \", \"1198 \", \"1086 \", \"1798 \", \"1198 \", \"1196 \", \"814 \", \"1498 \", \"998 \", \"1199 \", \"1197 \", \"1197 \", \"1498 \", \"1197 \", \"1498 \", \"1497 \", \"814 \", \"998 \", \"1199 \", \"2393 \", \"1498 \", \"1197 \", \"1197 \", \"1499 \", \"999 \", \"1197 \", \"1248 \", \"796 \", \"1248 \", \"1198 \", \"1199 \", \"1498 \", \"1086 \", \"1396 \", \"1197 \", \"1197 \", \"1396 \", \"1794 \", \"2393 \", \"2982 \", \"1582 \", \"796 \", \"1598 \", \"2179 \", \"1197 \", \"799 \", \"1196 \", \"796 \", \"1197 \", \"998 \", \"624 \", \"1197 \", \"1582 \", \"1582 \", \"998 \", \"1498 \", \"1298 \", \"1197 \", \"1197 \", \"1498 \", \"1197 \", \"1197 \", \"814 \", \"998 \", \"1248 \", \"998 \", \"814 \", \"1198 \", \"1497 \", \"1461 \", \"1373 \", \"1199 \", \"796 \", \"1248 \", \"1198 \", \"1498 \", \"1461 \", \"1199 \", \"796 \", \"1396 \", \"1198 \", \"1461 \", \"1198 \", \"2987 \", \"1197 \", \"1120 \", \"1399 \", \"998 \", \"1197 \", \"1498 \", \"1498 \", \"1997 \", \"1498 \", \"998 \", \"1373 \", \"814 \", \"1498 \", \"1248 \", \"1193 \", \"998 \", \"2179 \", \"1196 \", \"814 \", \"1199 \", \"1198 \", \"1498 \", \"1197 \", \"1197 \", \"1497 \", \"1197 \", \"1591 \", \"1197 \", \"1047 \", \"2494 \", \"998 \", \"1498 \", \"1197 \", \"1198 \", \"1197 \", \"1582 \", \"1197 \", \"1197 \", \"1248 \", \"1248 \", \"1396 \", \"995 \", \"1248 \", \"1461 \", \"1248 \", \"1198 \", \"1498 \", \"1197 \", \"1497 \", \"1396 \", \"993 \", \"1582 \", \"1493 \", \"1956 \", \"1498 \", \"1120 \", \"1047 \", \"1956 \", \"1196 \", \"1198 \", \"2393 \", \"1248 \", \"814 \", \"1198 \", \"796 \", \"2498 \", \"1198 \", \"1199 \", \"1197 \", \"2179 \", \"1497 \", \"1196 \", \"1197 \", \"998 \", \"1198 \", \"1598 \", \"1499 \", \"1248 \", \"1197 \", \"1197 \", \"1497 \", \"1497 \", \"1373 \", \"2179 \", \"1582 \", \"1498 \", \"1197 \", \"1197 \", \"1197 \", \"1197 \", \"1248 \", \"799 \", \"1497 \", \"1198 \", \"814 \", \"814 \", \"1197 \", \"1497 \", \"1248 \", \"1197 \", \"796 \", \"1199 \", \"799 \", \"2179 \", \"1248 \", \"1197 \", \"1497 \", \"1497 \", \"1498 \", \"1496 \", \"1086 \", \"1299 \", \"1496 \", \"1591 \", \"1497 \", \"1198 \", \"1197 \", \"1956 \", \"1499 \", \"1198 \", \"1197 \", \"1193 \", \"1248 \", \"999 \", \"1582 \", \"1248 \", \"1798 \", \"1298 \", \"1498 \", \"1396 \", \"1396 \", \"1197 \", \"1198 \", \"1199 \", \"1197 \", \"1197 \", \"1248 \", \"1186 \", \"796 \", \"1997 \", \"998 \", \"1497 \", \"814 \", \"998 \", \"1197 \", \"1248 \", \"936 \", \"796 \", \"1498 \", \"1591 \", \"799 \", \"796 \", \"796 \", \"796 \", \"1197 \", \"1956 \", \"1197 \", \"814 \", \"1461 \", \"799 \", \"1591 \", \"1591 \", \"999 \", \"1186 \", \"1497 \", \"1197 \", \"2148 \", \"1199 \", \"796 \", \"1248 \", \"1396 \", \"1498 \", \"1248 \", \"1197 \", \"1498 \", \"1198 \", \"2498 \", \"1499 \", \"1598 \", \"1198 \", \"624 \", \"1061 \", \"1248 \", \"998 \", \"1462 \", \"1399 \", \"998 \", \"1396 \", \"624 \", \"1396 \", \"1373 \", \"1248 \", \"998 \", \"1373 \", \"814 \", \"1186 \", \"1248 \", \"1199 \", \"998 \", \"1197 \", \"1248 \", \"1120 \", \"2393 \", \"1196 \", \"1197 \", \"1197 \", \"1197 \", \"799 \", \"1197 \", \"1498 \", \"1248 \", \"1198 \", \"1498 \", \"2499 \", \"1197 \", \"1461 \", \"998 \", \"796 \", \"1197 \", \"1172 \", \"1373 \", \"1248 \", \"2148 \", \"1497 \", \"799 \", \"1582 \", \"1197 \", \"1248 \", \"1199 \", \"1373 \", \"2393 \", \"1197 \", \"1461 \", \"1582 \", \"1198 \", \"1197 \", \"1197 \", \"1199 \", \"1199 \", \"796 \", \"796 \", \"1997 \", \"1497 \", \"2393 \", \"1086 \", \"1591 \", \"1498 \", \"796 \", \"796 \", \"1197 \", \"1196 \", \"799 \", \"1396 \", \"796 \", \"1198 \", \"1197 \", \"1197 \", \"1198 \", \"1197 \", \"1997 \", \"1198 \", \"1591 \", \"1248 \", \"799 \", \"1248 \", \"796 \", \"799 \", \"1248 \", \"1248 \", \"1196 \", \"1497 \", \"998 \", \"998 \", \"1197 \", \"1373 \", \"1248 \", \"1197 \", \"1197 \", \"1193 \", \"814 \", \"1199 \", \"1396 \", \"1591 \", \"1498 \", \"1196 \", \"1598 \", \"1199 \", \"1498 \", \"1497 \", \"1498 \", \"796 \", \"1497 \", \"1061 \", \"1197 \", \"1248 \", \"1197 \", \"1248 \", \"1248 \", \"1197 \", \"1196 \", \"1199 \", \"1197 \", \"1197 \", \"1198 \", \"1199 \", \"999 \", \"1197 \", \"1197 \", \"1198 \", \"1199 \", \"1248 \", \"1493 \", \"1197 \", \"1198 \", \"796 \", \"1198 \", \"998 \", \"2393 \", \"814 \", \"1248 \", \"1198 \", \"1199 \", \"1198 \", \"1498 \", \"1197 \", \"1248 \", \"999 \", \"1248 \", \"998 \", \"1198 \", \"1399 \", \"2179 \", \"1198 \", \"799 \", \"1497 \", \"998 \", \"1248 \", \"1199 \", \"1196 \", \"1196 \", \"998 \", \"796 \", \"1248 \", \"1197 \", \"1497 \", \"1197 \", \"1196 \", \"796 \", \"1248 \", \"1598 \", \"1197 \", \"1196 \", \"1591 \", \"998 \", \"1197 \", \"796 \", \"995 \", \"1197 \", \"1197 \", \"1199 \", \"1197 \", \"998 \", \"1197 \", \"1591 \", \"1395 \", \"1197 \", \"1197 \", \"1086 \", \"814 \", \"1197 \", \"1186 \", \"1598 \", \"1199 \", \"1197 \", \"1197 \", \"1197 \", \"814 \", \"1197 \", \"998 \", \"1199 \", \"1197 \", \"1598 \", \"799 \", \"2499 \", \"1248 \", \"799 \", \"1197 \", \"1199 \", \"1198 \", \"1197 \", \"1598 \", \"1198 \", \"1248 \", \"2393 \", \"814 \", \"1197 \", \"1196 \", \"1197 \", \"1498 \", \"1498 \", \"1498 \", \"1248 \", \"814 \", \"624 \", \"1197 \", \"1197 \", \"1197 \", \"796 \", \"624 \", \"1591 \", \"1598 \", \"1197 \", \"1197 \", \"1462 \", \"1591 \", \"2982 \", \"1373 \", \"1197 \", \"998 \", \"1198 \", \"1197 \", \"814 \", \"1248 \", \"1198 \", \"1197 \", \"1396 \", \"1199 \", \"1197 \", \"2498 \", \"1197 \", \"1198 \", \"1198 \", \"1248 \", \"796 \", \"998 \", \"1197 \", \"1199 \", \"1248 \", \"1197 \", \"1396 \", \"1199 \", \"1198 \", \"1197 \", \"1248 \", \"999 \", \"1248 \", \"1197 \", \"624 \", \"796 \", \"1197 \", \"796 \", \"1196 \", \"1399 \", \"1197 \", \"814 \", \"1197 \", \"1373 \", \"1197 \", \"624 \", \"1498 \", \"1197 \", \"1248 \", \"1248 \", \"814 \", \"1197 \", \"1591 \", \"1373 \", \"1197 \", \"1198 \", \"1197 \", \"1248 \", \"998 \", \"1199 \", \"1198 \", \"1198 \", \"1498 \", \"1197 \", \"1199 \", \"1198 \", \"1498 \", \"1373 \", \"1197 \", \"1497 \", \"1497 \", \"1598 \", \"1197 \", \"998 \", \"998 \", \"1086 \", \"998 \", \"1197 \", \"998 \", \"1197 \", \"624 \", \"1197 \", \"1199 \", \"1198 \", \"1598 \", \"1198 \", \"799 \", \"1197 \", \"1199 \", \"1798 \", \"2498 \", \"1047 \", \"1582 \", \"1956 \", \"1197 \", \"1197 \", \"1198 \", \"1198 \", \"799 \", \"1197 \", \"1373 \", \"1198 \", \"1591 \", \"1086 \", \"1197 \", \"1298 \", \"796 \", \"998 \", \"1199 \", \"1498 \", \"1199 \", \"1197 \", \"814 \", \"1197 \", \"1199 \", \"1197 \", \"1956 \", \"1197 \", \"1598 \", \"796 \", \"799 \", \"999 \", \"999 \", \"1199 \", \"1197 \", \"1197 \", \"1198 \", \"1399 \", \"1498 \", \"1197 \", \"1197 \", \"1197 \", \"1198 \", \"796 \", \"1198 \", \"1591 \", \"814 \", \"1197 \", \"1120 \", \"2198 \", \"1197 \", \"2179 \", \"1298 \", \"1198 \", \"814 \", \"1197 \", \"624 \", \"814 \", \"1197 \", \"1396 \", \"1197 \", \"1248 \", \"1248 \", \"1248 \", \"1497 \", \"1186 \", \"1199 \", \"1197 \", \"1120 \", \"998 \", \"1197 \", \"1497 \", \"1197 \", \"1197 \", \"1199 \", \"1499 \", \"1197 \", \"1199 \", \"1198 \", \"1197 \", \"1197 \", \"1197 \", \"1997 \", \"1373 \", \"998 \", \"814 \", \"2523 \", \"998 \", \"1197 \", \"1498 \", \"1197 \", \"1197 \", \"1396 \", \"1248 \", \"1198 \", \"1197 \", \"998 \", \"1197 \", \"998 \", \"799 \", \"1197 \", \"799 \", \"1396 \", \"1591 \", \"1197 \", \"1197 \", \"1197 \", \"1197 \", \"998 \", \"2359 \", \"1198 \", \"1496 \", \"1498 \", \"796 \", \"1197 \", \"1197 \", \"1798 \", \"998 \", \"1197 \", \"799 \", \"1248 \", \"1197 \", \"814 \", \"1396 \", \"1497 \", \"796 \", \"1497 \", \"1197 \", \"814 \", \"796 \", \"1582 \", \"2393 \", \"796 \", \"1497 \", \"796 \", \"796 \", \"1197 \", \"1591 \", \"1197 \", \"1198 \", \"1199 \", \"1248 \", \"1248 \", \"1591 \", \"995 \", \"1197 \", \"1197 \", \"1197 \", \"796 \", \"1462 \", \"1497 \", \"1198 \", \"1497 \", \"1197 \", \"1197 \", \"1582 \", \"1197 \", \"1197 \", \"3436 \", \"1193 \", \"1197 \", \"998 \", \"1199 \", \"998 \", \"1197 \", \"1591 \", \"998 \", \"1199 \", \"1199 \", \"1197 \", \"1197 \", \"796 \", \"1497 \", \"1591 \", \"1197 \", \"1197 \", \"1198 \", \"1591 \", \"1497 \", \"2179 \", \"1197 \", \"2393 \", \"1194 \", \"1199 \", \"1591 \", \"799 \", \"814 \", \"1197 \", \"1197 \", \"1197 \", \"1998 \", \"814 \", \"1396 \", \"998 \", \"1199 \", \"1197 \", \"1498 \", \"1197 \", \"799 \", \"1373 \", \"1199 \", \"1497 \", \"1193 \", \"1197 \", \"1086 \", \"1197 \", \"1499 \", \"1197 \", \"1198 \", \"1956 \", \"998 \", \"1396 \", \"1197 \", \"1198 \", \"799 \", \"799 \", \"1956 \", \"1591 \", \"1373 \", \"1197 \", \"1197 \", \"1199 \", \"1198 \", \"1197 \", \"1198 \", \"1364 \", \"1495 \", \"1498 \", \"796 \", \"1462 \", \"1248 \", \"1199 \", \"1497 \", \"1197 \", \"799 \", \"1497 \", \"1197 \", \"1591 \", \"1497 \", \"998 \", \"796 \", \"799 \", \"624 \", \"1197 \", \"1498 \", \"624 \", \"799 \", \"999 \", \"1499 \", \"796 \", \"1197 \", \"998 \", \"1197 \", \"1196 \", \"1461 \", \"1364 \", \"796 \", \"1248 \", \"1498 \", \"796 \", \"1591 \", \"2523 \", \"1390 \", \"796 \", \"998 \", \"1248 \", \"1248 \", \"1197 \", \"1499 \", \"799 \", \"1197 \", \"799 \", \"1194 \", \"998 \", \"1461 \", \"1498 \", \"1194 \", \"2179 \", \"1197 \", \"999 \", \"1196 \", \"799 \", \"1197 \", \"1197 \", \"796 \"], \"xaxis\": \"x\", \"y\": [5.9, 2.7, 5.0, 4.45, 1.0, 4.0, 3.3, 4.0, 6.5, 10.9, 6.5, 7.9, 9.2, 11.0, 3.5, 3.5, 2.6, 4.5, 2.6, 1.45, 7.5, 9.0, 3.9, 0.85, 0.8, 0.85, 9.0, 1.85, 5.2, 4.0, 5.0, 6.25, 10.5, 12.99, 2.5, 6.85, 13.0, 3.85, 1.76, 7.25, 3.65, 7.5, 2.5, 7.5, 3.8, 5.9, 2.5, 3.5, 4.3, 4.0, 2.25, 16.75, 5.7, 7.5, 1.5, 4.0, 10.64, 2.5, 5.0, 4.0, 4.5, 4.0, 2.7, 1.35, 3.9, 8.25, 0.9, 5.0, 10.5, 4.8, 1.8, 2.5, 8.75, 3.9, 3.5, 1.0, 12.0, 2.5, 2.8, 12.99, 1.5, 11.99, 8.0, 5.99, 8.5, 4.2, 9.15, 0.85, 5.5, 7.99, 4.8, 2.9, 3.0, 11.4, 23.0, 1.5, 2.7, 0.85, 2.5, 6.0, 3.0, 3.0, 3.5, 2.25, 5.0, 6.95, 4.5, 2.5, 11.0, 7.25, 12.75, 8.9, 4.75, 2.9, 4.42, 13.2, 4.95, 7.5, 3.55, 12.25, 3.5, 1.05, 1.65, 1.15, 2.6, 5.0, 7.8, 5.25, 11.75, 7.0, 5.25, 6.0, 2.6, 2.1, 1.1, 6.0, 6.25, 1.05, 0.7, 10.75, 0.9, 2.0, 2.51, 0.9, 6.25, 2.49, 9.0, 10.5, 1.25, 1.2, 3.5, 5.15, 2.2, 1.85, 0.95, 1.55, 9.8, 11.0, 9.5, 6.55, 5.4, 3.1, 1.6, 11.0, 4.2, 1.65, 3.5, 0.7, 0.86, 12.49, 2.25, 5.5, 4.7, 13.5, 3.6, 9.6, 3.6, 9.24, 3.85, 7.0, 3.85, 3.65, 4.75, 6.0, 0.75, 4.0, 4.75, 3.75, 4.5, 2.75, 3.25, 2.2, 3.2, 6.8, 3.45, 1.5, 4.11, 3.0, 1.5, 5.0, 6.4, 2.0, 6.3, 6.2, 2.95, 1.4, 6.99, 4.95, 4.5, 2.2, 1.2, 6.7, 1.6, 1.45, 9.0, 3.75, 6.25, 2.3, 1.5, 3.0, 4.6, 0.92, 3.25, 0.8, 7.96, 2.3, 1.95, 5.4, 3.3, 8.25, 1.0, 4.45, 1.1, 15.0, 4.4, 3.5, 16.0, 10.75, 10.45, 3.75, 3.8, 14.3, 16.0, 2.9, 1.9, 2.35, 5.0, 2.5, 8.0, 3.5, 4.0, 2.6, 12.0, 3.5, 2.0, 2.6, 12.0, 3.0, 1.65, 3.75, 7.0, 0.85, 1.75, 1.15, 12.0, 3.65, 2.5, 3.2, 1.69, 2.9, 8.0, 6.5, 2.25, 3.91, 5.95, 3.19, 1.25, 5.9, 3.85, 8.75, 4.5, 10.75, 1.35, 4.75, 4.75, 2.25, 15.5, 1.1, 4.0, 9.57, 5.75, 9.95, 5.8, 8.5, 3.75, 3.85, 4.5, 4.33, 4.5, 12.99, 1.75, 0.99, 1.5, 6.95, 2.75, 12.6, 1.8, 4.6, 4.5, 10.85, 2.05, 8.3, 12.0, 8.5, 2.0, 2.0, 4.75, 1.51, 3.5, 3.5, 6.1, 6.99, 2.4, 13.7, 2.8, 1.11, 4.65, 4.0, 7.2, 15.0, 3.5, 2.65, 0.6, 3.65, 2.9, 1.5, 2.2, 2.65, 8.26, 13.25, 1.5, 1.25, 2.4, 3.65, 4.25, 5.5, 1.0, 1.2, 20.5, 20.5, 1.9, 3.9, 2.9, 2.6, 3.1, 3.7, 3.0, 4.5, 4.0, 16.5, 4.4, 8.4, 5.3, 13.28, 10.75, 1.75, 7.0, 6.0, 5.9, 3.15, 1.99, 3.85, 6.75, 5.21, 11.75, 1.0, 3.0, 0.85, 4.5, 5.67, 1.22, 5.0, 3.0, 3.6, 5.25, 12.25, 4.25, 10.1, 2.25, 3.75, 8.25, 0.85, 0.7, 11.45, 0.95, 1.5, 2.85, 3.7, 2.4, 2.0, 2.0, 1.6, 5.5, 6.5, 1.28, 1.6, 17.75, 13.5, 3.0, 5.1, 10.25, 1.3, 4.25, 3.11, 1.8, 16.0, 0.85, 3.5, 6.25, 1.4, 3.5, 4.0, 12.0, 6.5, 3.0, 4.5, 1.5, 3.25, 4.5, 1.2, 13.0, 4.0, 3.75, 7.99, 3.11, 4.75, 23.5, 3.05, 7.03, 0.95, 6.0, 1.6, 20.5, 1.75, 1.9, 4.5, 1.5, 1.55, 6.0, 1.15, 1.55, 6.25, 11.5, 5.5, 6.1, 5.2, 2.51, 5.5, 8.0, 5.5, 4.7, 4.41, 1.8, 4.4, 6.0, 3.0, 3.0, 17.95, 4.25, 6.4, 7.25, 5.5, 2.5, 2.2, 11.5, 3.6, 2.5, 4.8, 0.91, 3.5, 2.25, 4.1, 4.55, 1.9, 5.0, 2.3, 0.45, 0.53, 3.75, 2.5, 6.9, 3.25, 2.8, 2.35, 9.45, 0.8, 2.11, 7.21, 4.5, 6.58, 5.35, 1.85, 4.5, 3.83, 1.95, 3.1, 1.6, 4.5, 1.0, 8.85, 3.75, 2.41, 7.85, 2.5, 3.48, 14.45, 6.25, 5.85, 5.45, 1.45, 5.0, 1.5, 1.0, 8.25, 5.55, 4.5, 7.1, 10.8, 3.56, 7.48, 1.2, 3.65, 5.75, 12.5, 18.39, 3.45, 3.7, 2.7, 12.5, 8.9, 1.1, 2.1, 3.0, 4.0, 4.35, 2.7, 1.9, 4.25, 2.25, 3.35, 1.25, 3.13, 1.85, 13.49, 2.1, 8.25, 2.85, 4.68, 3.0, 4.5, 2.3, 2.5, 3.0, 5.75, 0.8, 2.85, 4.25, 3.85, 3.0, 2.95, 2.9, 2.95, 3.91, 3.5, 2.2, 2.5, 3.8, 3.4, 3.0, 2.75, 2.6, 3.1, 13.9, 1.24, 10.9, 4.5, 1.8, 3.81, 3.8, 2.25, 4.11, 1.4, 0.7, 6.5, 1.25, 6.5, 4.6, 6.75, 7.25, 6.1, 6.2, 5.35, 3.55, 2.6, 1.4, 2.8, 6.25, 2.5, 7.9, 3.0, 8.0, 3.25, 3.25, 6.01, 3.65, 4.5, 1.55, 1.55, 23.65, 3.5, 7.5, 5.85, 1.6, 4.25, 13.5, 3.0, 6.0, 3.95, 3.77, 8.25, 4.35, 2.6, 10.6, 5.25, 2.2, 3.5, 4.33, 5.99, 4.75, 3.85, 1.25, 5.85, 1.5, 5.0, 12.01, 7.02, 4.0, 6.75, 1.3, 3.49, 2.75, 3.5, 7.8, 7.75, 4.35, 2.8, 7.4, 2.35, 1.37, 6.5, 6.0, 3.5, 3.6, 3.6, 2.4, 4.25, 1.8, 15.2, 4.5, 6.5, 10.09, 8.2, 3.75, 3.6, 7.85, 0.6, 2.41, 2.5, 3.5, 11.5, 2.75, 1.0, 2.9, 1.85, 0.45, 7.5, 6.25, 5.8, 4.0, 2.0, 8.75, 3.9, 5.7, 12.36, 3.55, 8.2, 3.39, 2.3, 6.0, 6.3, 1.8, 3.2, 6.15, 2.85, 0.69, 1.2, 1.3, 3.65, 3.5, 2.5, 8.5, 8.9, 3.5, 5.25, 1.8, 7.99, 1.46, 5.29, 3.5, 11.6, 3.0, 2.5, 6.83, 13.5, 4.12, 6.95, 2.2, 17.09, 6.9, 3.45, 5.8, 1.25, 6.75, 2.85, 5.25, 3.8, 2.41, 5.65, 3.85, 11.0, 2.95, 2.89, 3.25, 6.85, 2.5, 1.8, 1.3, 9.95, 2.95, 1.85, 5.5, 3.15, 6.98, 3.0, 5.9, 2.21, 5.8, 5.79, 6.22, 11.49, 7.45, 7.99, 1.4, 2.4, 2.95, 6.71, 3.25, 9.0, 0.85, 4.3, 1.75, 2.75, 5.5, 2.6, 2.7, 3.7, 2.7, 1.65, 4.75, 2.75, 7.1, 2.9, 7.2, 7.7, 5.99, 1.9, 4.42, 2.69, 4.9, 5.5, 1.75, 8.99, 2.9, 5.85, 4.25, 10.05, 1.8, 2.57, 6.2, 6.5, 2.65, 5.75, 4.85, 2.95, 2.75, 2.7, 8.75, 3.45, 1.35, 0.75, 1.0, 0.85, 2.5, 2.35, 2.3, 8.0, 5.43, 5.69, 4.39, 4.75, 5.55, 4.53, 6.53, 1.3, 14.25, 2.6, 14.49, 2.1, 5.9, 6.5, 2.45, 11.25, 4.35, 6.1, 1.1, 2.2, 2.5, 9.0, 1.3, 0.75, 4.1, 2.3, 13.5, 4.9, 5.7, 1.67, 4.5, 6.96, 2.74, 11.79, 2.5, 2.45, 3.3, 2.3, 3.5, 4.3, 2.3, 3.5, 1.8, 3.5, 7.11, 7.33, 2.85, 2.75, 3.5, 1.2, 4.75, 2.1, 7.0, 8.0, 2.2, 1.79, 1.35, 6.5, 3.99, 6.75, 5.5, 5.25, 1.75, 1.95, 8.99, 8.1, 4.85, 4.5, 1.75, 1.9, 4.75, 4.5, 2.15, 2.5, 3.5, 1.2, 3.85, 5.8, 0.53, 1.2, 4.25, 6.0, 9.4, 4.5, 3.16, 2.78, 3.4, 5.35, 5.25, 2.6, 6.5, 2.96, 3.3, 2.9, 5.5, 5.5, 3.3, 2.64, 6.5, 4.15, 3.1, 4.67, 2.9, 5.75, 3.65, 2.44, 15.5, 4.0, 3.0, 1.6, 2.59, 6.25, 1.67, 1.85, 7.5, 7.25, 3.8, 8.9, 2.35, 8.09, 3.65, 3.9, 2.75, 6.6, 5.35, 6.3, 10.9, 2.9, 2.3, 2.3, 10.75, 4.5, 2.0, 6.5, 1.2, 14.5, 3.25, 1.0, 2.35, 2.3, 0.55, 2.8, 4.4, 6.2, 2.25, 9.5, 1.15, 6.6, 6.34, 3.75, 3.53, 2.5, 3.65, 3.51, 5.81, 4.5, 4.95, 6.75, 4.49, 3.5, 2.1, 6.98, 12.5, 3.3, 4.93, 2.9, 3.65, 2.5, 2.8, 2.15, 4.88, 3.57, 7.25, 6.15, 4.25, 4.4, 8.58, 4.95, 5.5, 4.25, 1.65, 1.95, 5.5, 6.6, 2.75, 2.7, 2.4, 13.5, 9.25, 2.15, 1.49, 3.75, 2.0, 3.8, 12.0, 3.9, 6.7, 5.5, 5.7, 1.85, 0.82, 5.8, 7.0, 3.62, 3.78, 7.54, 3.63, 3.75, 3.59, 3.34, 6.69, 3.75, 2.0, 2.8, 2.25, 5.1, 5.25, 1.65, 5.25, 5.7, 6.15, 5.25, 2.3, 2.25, 6.5, 3.0, 4.1, 3.85, 2.1, 4.0, 4.5, 2.85, 3.25, 6.29, 6.55, 3.9, 1.15, 4.25, 6.25, 3.25, 10.85, 0.51, 3.3, 6.0, 4.35, 2.25, 6.0, 1.7, 2.0, 4.9, 3.75, 4.3, 3.85, 2.5, 3.5, 2.35, 1.49, 1.0, 2.6, 11.75, 3.0, 3.95, 1.99, 1.7, 7.5, 5.4, 4.08, 6.0, 5.4, 5.63, 3.25, 5.65, 7.94, 5.64, 3.3, 7.95, 8.0, 3.51, 4.0, 5.87, 10.75, 3.88, 2.65, 4.65, 2.65, 3.1, 1.6, 12.25, 4.25, 17.9, 6.4, 6.35, 3.75, 8.75, 5.7, 4.5, 6.5, 4.15, 3.6, 5.5, 4.85, 2.1, 12.5, 7.31, 7.75, 6.75, 1.85, 1.3, 2.6, 22.0, 6.6, 5.05, 5.2, 2.78, 5.9, 20.0, 3.99, 7.75, 2.75, 4.35, 12.5, 4.2, 6.4, 4.5, 3.4, 3.2, 16.5, 2.2, 2.75, 5.5, 8.25, 0.8, 2.35, 7.11, 2.5, 14.52, 1.9, 28.85, 8.0, 4.32, 5.29, 5.0, 3.12, 7.0, 3.95, 5.9, 8.1, 2.45, 4.25, 2.3, 3.2, 2.65, 2.25, 17.92, 10.23, 5.45, 2.5, 9.23, 4.45, 9.9, 3.9, 4.6, 1.75, 5.45, 2.85, 2.21, 2.69, 5.0, 5.0, 2.5, 4.4, 1.2, 7.1, 2.4, 1.0, 4.75, 1.11, 0.95, 2.25, 2.75, 2.0, 2.9, 3.25, 5.8, 4.25, 2.3, 5.75, 18.5, 3.2, 6.0, 2.75, 1.8, 4.61, 7.25, 5.75, 2.9, 2.05, 3.21, 6.75, 2.0, 3.3, 5.5, 3.0, 4.95, 3.8, 5.27, 3.95, 3.8, 4.1, 4.25, 2.2, 9.58, 9.75, 3.5, 6.5, 3.35, 3.95, 3.9, 15.25, 3.65, 3.7, 4.8, 6.95, 4.5, 7.45, 3.3, 5.1, 3.0, 1.5, 3.3, 4.25, 2.6, 2.0, 6.2, 7.83, 4.0, 3.9, 4.75, 4.28, 10.95, 4.75, 9.0, 3.99, 4.83, 2.8, 4.58, 1.5, 6.86, 7.34, 1.81, 7.65, 2.8, 2.96, 2.95, 5.35, 5.25, 3.45, 2.27, 2.15, 1.7, 4.6, 3.25, 0.9, 2.1, 2.1, 11.85, 2.59, 5.1, 0.77, 1.3, 1.12, 4.75, 1.8, 3.0, 4.0, 1.55, 4.25, 8.85, 4.75, 5.45, 4.5, 3.88, 2.85, 2.0, 4.0, 12.0, 2.5, 7.45, 4.0, 1.3, 3.0, 6.0, 3.5, 3.29, 12.25, 3.15, 2.0, 1.5, 2.1, 0.55, 3.65, 1.8, 8.25, 2.0, 8.25, 0.65, 3.8, 0.95, 9.43, 2.83, 3.9, 1.1, 1.85, 2.9, 3.82, 3.29, 6.13, 5.85, 5.55, 1.1, 8.0, 2.65, 4.69, 6.25, 5.3, 5.11, 2.4, 7.2, 5.9, 2.1, 3.0, 3.55, 2.15, 1.95, 4.79, 4.5, 20.0, 1.6, 5.75, 2.15, 2.4, 4.7, 4.9, 2.7, 2.9, 14.45, 9.7, 5.45, 5.19, 3.97, 4.8, 5.0, 3.9, 2.9, 9.32, 6.17, 8.14, 1.5, 7.0, 2.95, 4.15, 3.37, 5.5, 2.5, 3.77, 14.0, 2.6, 5.95, 2.25, 4.8, 4.9, 2.3, 1.02, 3.6, 5.86, 5.25, 6.75, 6.95, 1.95, 3.6, 1.2, 4.85, 3.95, 7.0, 2.75, 4.4, 6.75, 6.25, 1.99, 4.8, 9.85, 3.2, 6.75, 2.0, 1.5, 3.7, 4.4, 2.9, 2.5, 2.8, 11.73, 3.45, 5.63, 8.38, 7.06, 9.5, 3.25, 3.1, 5.25, 4.2, 4.0, 5.65, 11.99, 4.05, 5.17, 16.5, 14.5, 5.75, 3.55, 4.65, 6.5, 3.6, 3.9, 1.25, 2.6, 7.9, 4.0, 5.6, 1.2, 6.75, 7.25, 4.5, 4.75, 5.0, 7.0, 7.2, 4.05, 6.25, 5.5, 2.25, 6.3, 2.5, 3.8, 16.5, 2.2, 6.9, 2.0, 6.15, 4.83, 2.2, 2.6, 4.0, 0.85, 2.95, 5.7, 1.65, 4.12, 6.9, 4.96, 5.5, 15.96, 3.0, 5.5, 5.68, 2.45, 2.1, 2.49, 4.15, 2.49, 1.45, 2.35, 4.9, 6.4, 6.8, 3.25, 2.46, 2.19, 3.47, 3.85, 4.91, 4.45, 1.5, 1.7, 3.5, 5.7, 2.7, 4.25, 3.6, 2.95, 4.45, 2.75, 5.5, 1.95, 5.49, 5.75, 9.44, 3.39, 8.11, 0.75, 6.2, 2.97, 3.25, 5.53, 3.85, 3.5, 3.8, 2.1, 2.1, 3.16, 2.1, 2.81, 4.45, 5.8, 8.36, 7.5, 9.75, 6.55, 7.4, 9.45, 5.48, 6.79, 3.25, 3.28, 0.8, 8.36, 3.15, 4.7, 2.15, 3.25, 3.32, 4.8, 4.25, 2.75, 1.95, 18.9, 6.99, 5.0, 4.8, 11.75, 1.59, 3.99, 5.31, 2.5, 3.0, 2.4, 2.65, 16.1, 2.5, 6.4, 1.5, 6.0, 2.5, 7.21, 5.5, 4.9, 4.55, 7.65, 0.44, 5.5, 4.0, 5.5, 5.75, 3.1, 3.9, 2.4, 4.5, 1.4, 2.05, 5.2, 3.5, 7.75, 2.8, 3.75, 3.9, 15.0, 1.39, 5.95, 0.65, 3.27, 5.1, 2.4, 4.99, 10.0, 6.2, 3.0, 2.71, 1.25, 16.13, 3.5, 3.21, 3.65, 18.75, 15.5, 6.0, 3.8, 5.67, 7.52, 3.71, 2.9, 3.65, 3.96, 6.22, 10.46, 5.2, 5.6, 5.02, 5.45, 2.75, 3.65, 5.5, 3.67, 2.44, 1.45, 3.76, 5.7, 4.57, 6.0, 3.5, 4.85, 3.1, 4.25, 2.65, 1.11, 7.25, 4.25, 6.5, 2.39, 2.85, 3.1, 4.1, 5.99, 4.15, 5.2, 2.9, 6.8, 3.61, 7.75, 7.12, 6.57, 3.67, 3.96, 13.55, 11.9, 2.45, 2.45, 5.65, 3.1, 5.35, 7.69, 3.25, 9.58, 5.1, 6.09, 7.77, 1.99, 2.95, 3.25, 6.5, 3.71, 1.85, 4.5, 3.25, 2.7, 6.75, 6.11, 3.35, 8.15, 1.25, 2.05, 5.11, 1.75, 8.2, 1.2, 4.5, 5.5, 4.25, 1.5, 4.2, 3.3, 4.35, 4.9, 11.05, 6.08, 9.75, 5.9, 6.32, 6.8, 2.85, 7.5, 6.95, 5.95, 5.6, 2.95, 6.5, 5.95, 2.1, 7.52, 1.8, 2.6, 7.95, 2.3, 2.75, 4.9, 7.9, 5.22, 2.95, 4.85, 8.31, 8.8, 5.75, 4.57, 10.75, 4.15, 6.6, 3.45, 9.8, 2.65, 4.45, 6.1, 4.25, 3.2, 7.25, 6.3, 2.4, 5.0, 7.75, 6.25, 1.65, 5.35, 3.5, 2.1, 2.11, 2.5, 3.75, 1.1, 3.0, 1.25, 2.8, 2.7, 4.6, 5.7, 1.25, 7.75, 4.5, 4.65, 7.75, 6.75, 10.25, 2.1, 2.25, 5.3, 6.14, 5.53, 10.5, 5.39, 8.94, 2.95, 5.38, 7.53, 4.2, 6.82, 6.4, 5.85, 4.75, 1.52, 2.15, 7.05, 4.4, 7.99, 2.7, 5.25, 2.6, 4.57, 6.0, 3.25, 2.9, 3.89, 2.15, 2.98, 3.3, 9.5, 1.65, 3.4, 4.35, 1.25, 2.9, 5.35, 5.21, 7.19, 3.59, 3.32, 8.07, 4.5, 10.5, 4.95, 3.3, 4.11, 6.24, 2.6, 5.49, 5.1, 4.49, 5.43, 4.54, 2.98, 6.12, 5.5, 1.15, 4.09, 1.95, 4.75, 13.78, 6.0, 2.5, 4.85, 2.7, 3.0, 5.45, 0.55, 2.75, 1.99, 2.3, 2.5, 3.2, 1.35, 2.65, 3.7, 2.1, 5.75, 4.15, 5.45, 3.95, 1.35, 8.65, 4.95, 1.9, 3.5, 2.25, 2.25, 1.4, 3.25, 5.9, 3.25, 3.1, 6.0, 4.0, 2.45, 6.99, 4.0, 5.5, 1.45, 7.9, 4.8, 3.15, 2.65, 2.95, 2.74, 2.59, 4.75, 3.25, 1.65, 6.25, 3.5, 3.9, 6.25, 4.35, 2.95, 4.0, 2.25, 8.0, 3.55, 10.85, 3.4, 1.99, 7.5, 5.49, 6.9, 6.46, 1.97, 4.78, 11.62, 13.28, 5.6, 6.85, 3.1, 1.26, 3.69, 7.53, 4.16, 3.25, 2.7, 2.6, 4.25, 5.29, 8.5, 2.25, 9.46, 2.58, 2.96, 4.9, 4.75, 5.75, 0.75, 7.5, 6.0, 0.99, 23.0, 3.45, 2.32, 2.85, 2.71, 12.75, 6.5, 3.25, 4.1, 9.25, 6.5, 5.4, 9.05, 6.25, 3.45, 1.99, 5.64, 3.32, 6.91, 4.4, 4.74, 7.14, 3.49, 2.75, 6.25, 3.41, 3.9, 6.16, 5.5, 4.9, 5.39, 1.95, 5.0, 4.45, 2.45, 7.5, 2.45, 4.64, 4.8, 5.8, 2.95, 6.7, 4.25, 5.75, 5.75, 4.95, 5.85, 3.95, 7.55, 3.0, 1.5, 5.25, 2.1, 3.99, 4.59, 5.5, 5.2, 7.9, 4.99, 7.5, 7.5, 2.5, 1.51, 5.47, 8.1, 3.25, 3.0, 4.0, 4.0, 2.5, 5.75, 6.5, 5.9, 5.95, 4.45, 4.5, 5.5, 6.39, 12.5, 16.08, 5.5, 4.3, 3.84, 5.04, 4.31, 6.69, 12.83, 2.75, 5.25, 5.75, 6.73, 3.39, 4.25, 2.1, 4.5, 6.5, 8.87, 4.0, 3.09, 10.19, 4.38, 5.54, 5.35, 2.25, 12.45, 3.89, 0.5, 3.75, 3.95, 6.35, 5.5, 5.48, 6.35, 6.6, 7.0, 4.99, 3.45, 5.49, 4.61, 18.0, 5.75, 2.1, 6.0, 4.25, 4.41, 6.54, 4.1, 7.2, 1.55, 10.31, 3.61, 5.39, 5.85, 7.2, 15.54, 5.84, 3.9, 2.9, 4.65, 6.63, 7.57, 4.57, 4.17, 35.82, 2.4, 5.15, 4.25, 9.75, 3.12, 6.92, 4.95, 6.1, 7.0, 3.45, 7.5, 3.2, 2.15, 2.79, 3.5, 2.1, 2.21, 4.25, 5.75, 1.25, 2.45, 2.85, 1.4, 2.25, 17.25, 1.8, 3.35, 7.25, 5.7, 4.76, 6.95, 9.65, 7.52, 5.5, 12.15, 8.3, 4.3, 8.48, 2.49, 6.98, 1.65, 8.25, 4.25, 2.65, 2.87, 4.75, 3.9, 2.78, 3.47, 3.11, 3.31, 1.45, 6.35, 3.7, 2.75, 4.25, 2.2, 5.65, 8.0, 6.5, 4.75, 3.7, 5.9, 4.2, 9.5, 2.25, 3.95, 11.11, 2.35, 9.8, 1.75, 7.1, 2.61, 6.0, 1.59, 8.5, 4.21, 7.8, 7.5, 2.65, 4.25, 4.9, 5.99, 12.0, 9.51, 8.5, 0.7, 3.1, 2.4, 2.99, 3.5, 4.25, 5.84, 7.5, 6.1, 4.3, 3.75, 5.2, 2.9, 5.0, 5.64, 4.7, 1.65, 4.82, 2.5, 7.5, 2.45, 3.75, 3.69, 2.5, 6.67, 6.63, 2.5, 6.25, 5.99, 5.5, 2.65, 4.1, 2.95, 3.7, 6.0, 13.54, 8.4, 4.29, 4.28, 7.67, 6.25, 3.51, 4.5, 3.33, 5.0, 5.55, 7.64, 5.75, 2.2, 1.95, 2.75, 2.55, 4.25, 16.5, 13.0, 4.9, 7.75, 3.05, 5.5, 6.0, 3.7, 5.0, 2.95, 6.5, 3.3, 5.95, 3.6, 1.1, 4.5, 3.2, 3.25, 6.0, 5.45, 3.5, 2.69, 10.77, 3.07, 7.56, 2.7, 4.2, 6.55, 8.44, 5.0, 5.36, 0.63, 5.45, 16.42, 7.0, 11.95, 4.35, 12.13, 6.0, 4.7, 3.3, 2.74, 11.64, 4.4, 5.95, 1.95, 5.0, 2.35, 5.8, 3.3, 6.95, 2.85, 3.9, 6.25, 2.75, 5.5, 9.75, 3.26, 4.0, 3.2, 5.65, 2.35, 9.5, 6.02, 3.82, 4.85, 4.58, 3.2, 7.26, 4.35, 12.26, 4.65, 4.65, 5.25, 3.01, 5.36, 2.47, 14.82, 10.15, 7.97, 8.5, 3.25, 4.04, 2.0, 6.25, 2.9, 4.5, 4.56, 1.75, 1.75, 7.78, 6.0, 7.5, 5.49, 6.5, 9.87, 6.2, 6.45, 3.1, 5.95, 5.25, 20.0, 3.5, 4.85, 2.6, 3.75, 6.5, 2.6, 2.8, 4.25, 2.7, 11.5, 6.5, 3.8, 5.45, 5.95, 2.0, 3.5, 3.45, 2.25, 2.45, 2.4, 3.5, 1.3, 2.41, 4.1, 5.99, 3.95, 6.2, 3.75, 6.9, 3.25, 3.65, 5.25, 6.9, 17.5, 0.5, 2.75, 3.55, 6.75, 3.46, 8.62, 4.25, 12.46, 3.9, 5.5, 5.4, 3.9, 6.45, 8.43, 5.68, 3.04, 7.11, 3.47, 5.27, 5.95, 5.98, 3.2, 2.6, 2.5, 10.4, 5.5, 2.25, 4.94, 2.93, 3.2, 8.49, 5.66, 2.65, 3.76, 4.72, 3.4, 7.75, 3.48, 9.2, 6.5, 2.65, 5.65, 3.9, 2.5, 3.85, 13.25, 4.2, 2.85, 5.25, 3.1, 2.2, 4.9, 3.1, 18.5, 3.2, 1.75, 3.75, 4.74, 6.45, 1.95, 1.15, 7.95, 6.68, 6.32, 2.0, 3.54, 3.65, 4.06, 4.69, 5.53, 3.35, 4.77, 3.87, 10.36, 13.3, 1.9, 3.41, 8.63, 4.02, 5.45, 2.75, 1.1, 4.3, 0.85, 3.0, 2.35, 3.5, 3.0, 15.65, 3.0, 5.0, 4.3, 3.65, 4.7, 6.5, 3.25, 5.7, 0.75, 1.94, 4.0, 4.95, 12.0, 3.25, 1.5, 2.5, 8.5, 3.7, 11.5, 0.7, 5.5, 4.75, 4.0, 5.5, 5.75, 8.7, 2.5, 6.2, 3.8, 4.8, 3.3, 5.27, 4.11, 4.95, 6.2, 4.18, 8.42, 7.17, 6.0, 7.36, 4.26, 4.86, 6.0, 7.46, 4.51, 4.4, 4.4, 4.07, 2.3, 2.88, 4.5, 5.9, 4.45, 8.95, 9.0, 6.9, 2.3, 3.2, 2.75, 1.4, 0.9, 4.75, 1.6, 4.9, 3.0, 5.21, 11.88, 6.35, 4.3, 4.25, 3.91, 6.25, 3.87, 3.22, 2.85, 2.5, 3.26, 3.5, 3.4, 7.65, 9.0, 11.82, 4.5, 1.8, 9.0, 4.65, 21.69, 4.85, 6.7, 3.1, 5.49, 7.25, 4.98, 6.75, 9.45, 5.95, 4.75, 20.25, 6.0, 6.5, 4.5, 3.7, 5.25, 3.25, 2.75, 4.5, 3.0, 3.25, 2.11, 5.2, 3.4, 1.8, 11.75, 4.89, 7.4, 6.04, 1.7, 5.25, 5.72, 6.5, 2.45, 2.29, 5.25, 4.49, 5.6, 13.82, 4.52, 2.9, 1.2, 8.85, 11.0, 5.09, 9.35, 1.2, 2.85, 28.42, 11.31, 5.99, 7.0, 6.95, 4.5, 9.43, 3.67, 3.72, 4.5, 1.46, 2.95, 6.0, 3.25, 4.1, 3.5, 4.25, 3.9, 3.95, 4.35, 2.8, 12.8, 4.0, 11.25, 4.15, 1.4, 2.65, 2.5, 4.5, 3.75, 5.77, 6.45, 2.35, 3.61, 3.42, 16.59, 3.95, 3.19, 3.63, 2.55, 7.25, 0.99, 2.7, 7.75, 6.95, 4.25, 6.84, 4.4, 4.94, 4.5, 3.3, 5.3, 5.53, 4.63, 5.49, 4.85, 3.1, 5.86, 8.92, 5.5, 6.98, 5.71, 2.4, 5.1, 6.95, 2.35, 4.95, 8.45, 5.9, 2.65, 6.75, 4.45, 4.5, 3.05, 5.5, 3.11, 12.9, 2.22, 4.15, 4.75, 11.0, 5.56, 1.87, 7.5, 5.34, 2.42, 7.2, 2.74, 5.85, 8.25, 2.2, 11.73, 3.1, 1.17, 4.75, 7.48, 3.39, 5.75, 10.88, 9.38, 6.85, 6.99, 4.3, 2.8, 2.25, 0.9, 7.75, 6.5, 6.75, 6.0, 3.7, 2.95, 3.0, 9.48, 2.55, 7.15, 3.65, 5.0, 3.49, 2.4, 9.75, 3.0, 7.0, 7.5, 2.0, 4.75, 8.9, 6.85, 2.6, 6.75, 3.25, 5.5, 3.65, 1.75, 2.99, 23.0, 3.55, 3.6, 2.48, 1.99, 3.3, 3.25, 4.75, 3.55, 3.99, 5.5, 20.0, 7.9, 0.95, 3.85, 13.25, 3.3, 3.75, 7.0, 3.25, 7.35, 6.25, 3.65, 4.55, 1.9, 2.5, 4.8, 4.75, 5.25, 2.25, 3.45, 3.25, 12.13, 13.35, 5.41, 4.94, 4.89, 5.1, 4.34, 6.93, 4.07, 4.65, 5.6, 7.3, 13.25, 3.85, 6.1, 3.8, 2.3, 7.47, 5.99, 6.72, 3.99, 4.0, 1.6, 1.5, 5.88, 2.9, 5.35, 4.9, 1.75, 5.75, 7.35, 12.5, 2.65, 1.55, 7.25, 4.3, 4.35, 3.45, 6.8, 4.33, 6.75, 2.45, 3.52, 8.27, 13.54, 6.35, 4.3, 1.75, 4.0, 5.8, 8.15, 3.16, 3.55, 4.25, 6.6, 3.32, 6.22, 4.5, 0.99, 18.6, 7.61, 7.35, 6.85, 5.25, 3.5, 4.65, 6.01, 1.92, 2.1, 7.0, 8.2, 7.75, 9.25, 3.75, 5.95, 2.13, 18.65, 4.21, 4.5, 5.5, 1.99, 2.49, 11.52, 5.59, 4.27, 7.11, 10.17, 6.33, 2.4, 3.6, 4.99, 3.2, 5.05, 5.27, 1.4, 7.75, 5.5, 6.15, 4.0, 2.9, 4.79, 3.85, 12.0, 7.48, 4.3, 19.46, 3.6, 2.19, 4.25, 3.25, 0.99, 3.35, 1.68, 5.45, 4.75, 7.75, 2.4, 5.1, 9.25, 4.75, 3.75, 6.25, 5.8, 3.45, 2.3, 1.3, 5.5, 5.5, 5.85, 3.6, 8.0, 5.94, 1.45, 4.3, 1.09, 3.0, 3.5, 3.6, 9.9, 6.25, 0.75, 4.5, 12.0, 3.41, 6.14, 3.3, 15.57, 13.52, 7.11, 4.7, 12.5, 4.55, 10.99, 10.82, 2.25, 7.99, 5.0, 5.9, 3.95, 9.3, 3.38, 10.94, 2.5, 9.9, 7.4, 4.4, 1.38, 2.7, 3.4, 8.4, 4.87, 4.5, 2.65, 11.9, 4.25, 3.0, 5.5, 3.25, 7.7, 8.0, 9.5, 3.25, 3.14, 12.5, 3.1, 8.0, 3.1, 3.5, 3.25, 5.85, 4.75, 8.5, 4.0, 5.76, 5.47, 7.9, 6.3, 2.65, 8.15, 7.1, 2.65, 13.28, 3.5, 7.8, 5.5, 2.75, 7.09, 2.8, 8.0, 6.9, 7.22, 5.55, 4.25, 6.36, 13.75, 4.76, 6.17, 2.0, 4.0, 4.9, 7.0, 7.85, 4.45, 4.0, 3.55, 2.9, 5.25, 5.9, 8.25, 15.9, 18.75, 6.95, 2.49, 5.0, 3.95, 1.8, 5.25, 3.25, 6.49, 2.0, 11.5, 4.5, 5.75, 2.35, 4.25, 7.9, 1.1, 1.7, 3.15, 1.35, 6.56, 32.1, 3.89, 3.5, 4.5, 7.38, 5.64, 1.59, 4.68, 14.25, 1.99, 7.49, 2.85, 3.25, 2.75, 5.83, 5.15, 4.95, 12.63, 2.25, 6.58, 4.52, 14.7, 9.48, 2.6, 2.85, 5.8, 5.49, 5.5, 2.75, 1.5, 3.99, 6.25, 2.6, 3.05, 6.3, 9.49, 6.95, 8.45, 2.5, 3.75, 6.46, 3.41, 6.21, 4.05, 2.85, 12.6, 3.2, 4.92, 5.87, 7.68, 23.86, 5.0, 6.26, 7.87, 6.17, 3.96, 7.85, 7.39, 2.59, 9.13, 7.51, 9.18, 6.69, 8.5, 2.4, 12.53, 1.95, 4.05, 7.65, 5.22, 1.55, 5.2, 10.7, 3.91, 2.15, 3.9, 6.21, 2.0, 1.75, 4.1, 1.1, 7.8, 5.95, 2.23, 2.8, 2.25, 3.11, 8.7, 7.99, 2.75, 3.55, 3.49, 2.6, 5.95, 3.25, 7.85, 17.65, 3.69, 9.19, 4.8, 4.85, 2.35, 5.2, 12.4, 7.59, 7.57, 7.88, 6.14, 6.22, 6.28, 6.64, 3.4, 9.9, 5.89, 1.89, 3.22, 7.29, 4.9, 5.75, 1.74, 6.75, 13.69, 7.43, 9.46, 5.44, 16.8, 13.39, 1.8, 3.45, 16.9, 5.25, 2.8, 11.0, 5.1, 2.35, 2.95, 6.5, 2.2, 5.25, 2.8, 3.25, 2.1, 7.75, 11.25, 9.3, 5.75, 6.45, 3.5, 4.85, 1.0, 6.3, 2.65, 4.8, 6.8, 3.64, 10.49, 8.77, 5.64, 12.49, 8.8, 4.72, 3.02, 4.38, 4.29, 6.71, 5.0, 3.3, 7.49, 2.65, 12.34, 2.7, 3.1, 3.08, 9.75, 7.73, 4.32, 2.95, 5.44, 6.41, 4.5, 8.85, 8.0, 1.95, 4.9, 10.25, 4.7, 2.5, 5.0, 3.7, 3.9, 10.0, 4.95, 7.5, 3.25, 4.95, 4.9, 3.2, 3.25, 6.35, 9.51, 30.42, 1.89, 5.95, 7.27, 2.3, 4.74, 13.34, 7.32, 6.87, 4.2, 8.61, 3.85, 4.27, 8.0, 1.88, 11.13, 2.59, 6.61, 2.21, 5.99, 6.54, 8.19, 3.0, 3.5, 1.36, 4.5, 4.5, 6.5, 3.8, 4.6, 7.0, 9.9, 2.85, 1.85, 8.5, 1.7, 15.0, 1.5, 4.65, 4.88, 7.4, 4.43, 1.6, 1.5, 12.75, 2.3, 3.15, 2.75, 4.75, 5.25, 6.25, 3.49, 2.65, 8.25, 3.0, 5.5, 3.1, 3.4, 3.9, 4.01, 3.15, 5.49, 2.6, 3.7, 10.49, 2.9, 2.9, 6.9, 5.35, 6.24, 5.5, 5.5, 5.4, 3.74, 2.79, 5.43, 3.7, 4.01, 4.95, 5.75, 8.02, 3.4, 4.95, 2.25, 3.4, 8.45, 8.45, 2.19, 5.75, 10.0, 8.09, 14.29, 5.09, 4.7, 3.74, 3.2, 14.6, 22.2, 8.12, 6.22, 3.1, 5.5, 3.59, 4.5, 6.58, 6.21, 3.19, 5.84, 2.39, 3.25, 19.05, 6.26, 7.39, 6.85, 3.25, 9.25, 3.24, 8.5, 1.75, 6.5, 6.96, 9.65, 7.0, 4.75, 9.25, 7.7, 3.99, 5.6, 3.25, 4.05, 4.65, 3.95, 8.34, 2.75, 3.6, 7.9, 4.64, 2.05, 4.5, 2.55, 6.46, 3.68, 6.28, 9.28, 3.71, 3.15, 3.87, 5.77, 8.39, 3.75, 4.05, 5.75, 3.0, 3.95, 2.8, 6.83, 8.61, 10.79, 8.25, 3.26, 4.25, 3.25, 9.25, 6.17, 2.4, 4.25, 4.25, 3.85, 2.55, 0.9, 4.95, 8.5, 10.25, 2.07, 5.5, 2.15, 5.5, 4.35, 5.3, 4.8, 9.5, 2.65, 2.1, 4.65, 9.75, 3.6, 5.65, 4.3, 3.89, 3.55, 3.75, 4.69, 4.7, 3.65, 8.24, 5.34, 6.45, 5.75, 7.85, 6.5, 4.66, 7.9, 1.99, 3.42, 5.53, 5.9, 21.42, 6.5, 3.9, 5.0, 5.75, 3.6, 5.65, 7.15, 2.61, 7.25, 3.0, 4.9, 10.5, 1.75, 2.7, 2.25, 5.0, 7.75, 5.0, 16.95, 19.85, 9.0, 2.15, 4.95, 9.5, 6.25, 3.48, 5.84, 2.49, 3.38, 4.45, 2.9, 2.25, 14.28, 12.81, 2.99, 8.45, 1.45, 6.1, 6.3, 7.29, 5.81, 4.65, 3.05, 2.65, 7.79, 3.75, 2.1, 3.25, 6.0, 8.0, 6.7, 1.6, 3.1, 6.0, 3.2, 6.95, 5.95, 3.25, 2.5, 7.75, 5.25, 7.75, 2.8, 10.75, 5.0, 5.5, 3.2, 3.75, 4.9, 8.75, 3.5, 12.25, 6.0, 3.3, 6.55, 3.25, 8.99, 6.0, 2.3, 3.35, 16.36, 4.85, 3.29, 5.3, 6.43, 6.3, 6.0, 2.44, 7.9, 4.15, 10.25, 4.31, 7.46, 13.48, 3.9, 7.7, 4.87, 5.84, 3.25, 13.0, 3.45, 3.2, 5.75, 6.5, 8.35, 1.75, 6.5, 6.5, 8.75, 4.25, 4.0, 2.35, 10.0, 7.0, 1.6, 12.6, 6.5, 19.0, 5.99, 5.95, 6.64, 17.02, 6.7, 6.18, 9.74, 11.0, 2.6, 5.53, 2.4, 9.66, 3.5, 5.95, 6.95, 13.05, 8.4, 4.74, 5.12, 2.15, 4.94, 5.55, 7.72, 5.25, 5.07, 5.6, 7.1, 7.1, 5.75, 10.91, 13.75, 10.0, 3.4, 2.65, 3.25, 6.25, 4.65, 2.65, 8.75, 4.73, 3.55, 2.85, 5.95, 5.0, 5.85, 5.45, 3.28, 4.95, 3.31, 14.19, 4.75, 6.27, 7.0, 9.47, 5.85, 6.37, 1.95, 1.6, 4.95, 8.15, 6.75, 2.19, 4.5, 15.0, 8.3, 4.35, 4.5, 5.27, 3.5, 4.5, 12.9, 5.9, 7.95, 4.45, 8.0, 6.95, 5.99, 6.5, 6.16, 6.9, 3.0, 4.45, 11.39, 5.75, 2.35, 10.08, 8.61, 5.67, 3.79, 4.99, 5.86, 8.9, 2.8, 1.2, 4.25, 10.75, 2.75, 4.29, 2.15, 2.9, 7.98, 17.55, 5.43, 1.97, 10.0, 2.55, 12.5, 9.5, 3.0, 5.0, 4.25, 4.25, 26.0, 1.5, 2.6, 7.5, 6.2, 8.99, 9.75, 3.75, 5.5, 6.5, 6.99, 5.35, 6.2, 5.84, 2.13, 2.62, 6.85, 3.15, 9.95, 4.29, 3.5, 7.0, 2.15, 3.55, 5.9, 7.83, 3.25, 7.09, 2.55, 5.9, 10.34, 6.2, 3.35, 8.22, 8.26, 3.75, 17.11, 6.48, 7.76, 7.74, 3.5, 2.99, 5.5, 6.15, 3.95, 2.75, 6.9, 8.0, 5.0, 6.75, 2.75, 2.75, 2.65, 1.25, 5.15, 5.99, 26.0, 4.25, 3.8, 8.65, 5.65, 8.3, 1.75, 5.35, 9.0, 7.66, 13.37, 16.27, 5.6, 6.21, 7.5, 2.87, 7.07, 2.36, 2.9, 13.5, 7.9, 20.4, 3.0, 11.0, 8.18, 3.7, 2.44, 4.65, 6.7, 3.46, 9.18, 2.01, 4.1, 6.2, 5.75, 4.0, 4.25, 11.51, 2.95, 6.2, 8.2, 3.1, 5.21, 2.8, 3.5, 8.4, 7.75, 5.38, 11.87, 3.46, 3.0, 6.57, 8.25, 3.52, 5.1, 6.02, 3.9, 3.75, 6.5, 4.5, 12.03, 11.65, 2.39, 5.49, 5.6, 6.9, 7.0, 4.95, 1.5, 4.25, 1.9, 4.5, 7.05, 4.9, 6.5, 5.6, 7.0, 4.44, 6.9, 6.19, 6.14, 7.53, 5.55, 8.5, 7.8, 5.99, 7.23, 4.95, 6.5, 8.75, 4.25, 3.55, 0.8, 5.58, 3.65, 16.5, 2.6, 8.25, 3.8, 4.8, 4.75, 6.29, 4.25, 4.5, 7.85, 7.95, 3.7, 4.11, 2.25, 16.0, 3.95, 3.7, 8.75, 5.11, 9.88, 4.95, 6.42, 3.35, 3.38, 3.01, 8.9, 6.16, 6.0, 4.55, 4.0, 2.9, 9.44, 9.66, 8.78, 5.38, 5.25, 2.75, 4.9, 2.79, 0.95, 3.75, 6.21, 4.75, 6.3, 3.75, 3.75, 10.9, 8.75, 2.35, 7.27, 2.78, 2.25, 4.3, 5.92, 6.25, 6.94, 6.07, 6.37, 7.58, 2.6, 5.4, 2.0, 5.6, 6.34, 7.64, 2.66, 16.09, 4.35, 3.5, 6.22, 8.46, 5.5, 5.98, 6.0, 3.5, 8.5, 16.5, 2.66, 3.75, 4.5, 3.85, 7.9, 6.75, 4.5, 9.0, 2.3, 1.74, 5.04, 4.5, 6.95, 3.8, 1.53, 13.12, 6.15, 5.85, 2.85, 8.25, 8.42, 24.5, 8.35, 5.89, 2.7, 3.8, 5.25, 3.0, 5.91, 2.99, 5.25, 5.25, 4.95, 7.25, 9.25, 5.55, 5.0, 4.75, 7.71, 1.25, 8.32, 6.22, 7.56, 8.51, 7.93, 9.18, 6.25, 5.75, 6.17, 7.25, 4.5, 11.31, 6.26, 1.0, 4.12, 2.3, 3.0, 4.9, 3.35, 2.25, 2.5, 2.85, 8.25, 4.4, 1.0, 7.5, 5.32, 8.5, 7.97, 3.65, 8.7, 11.94, 6.35, 7.21, 9.62, 6.0, 9.75, 3.1, 5.9, 5.84, 5.65, 8.4, 5.4, 1.46, 3.15, 5.65, 7.65, 6.9, 9.2, 8.25, 4.25, 6.5, 2.1, 4.9, 3.1, 3.6, 3.87, 6.99, 6.06, 1.6, 6.79, 5.85, 5.5, 7.65, 9.31, 3.3, 3.75, 5.0, 11.5, 10.36, 5.5, 7.83, 18.5, 5.75, 6.95, 5.4, 4.35, 2.99, 7.77, 9.96, 6.25, 12.49, 2.25, 5.65, 3.75, 3.58, 3.36, 6.4, 7.5, 5.11, 4.75, 3.69, 3.75, 9.29, 6.37, 17.5, 6.05, 7.1, 2.35, 2.25, 8.0, 4.25, 8.9, 3.65, 4.9, 3.9, 3.75, 7.4, 6.27, 5.85, 5.37, 5.37, 2.47, 5.48, 4.4, 4.14, 5.6, 6.99, 27.36, 8.11, 14.5, 5.65, 6.69, 4.23, 7.32, 3.47, 3.95, 6.59, 7.4, 5.75, 9.25, 5.25, 7.5, 9.9, 4.9, 3.0, 5.95, 4.6, 2.8, 3.2, 11.25, 4.6, 6.44, 8.2, 9.5, 4.41, 4.75, 3.75, 8.91, 6.45, 4.7, 12.0, 6.8, 3.15, 4.06, 9.11, 3.5, 6.6, 10.9, 5.15, 4.65, 10.5, 8.92, 3.25, 7.67, 2.4, 5.8, 3.5, 2.75, 4.15, 3.0, 4.65, 11.88, 4.9, 6.75, 5.5, 5.5, 3.25, 12.75, 5.4, 4.5, 8.5, 0.45, 5.8, 3.65, 11.0, 2.45, 7.75, 3.1, 5.5, 6.1, 3.5, 7.3, 10.28, 2.25, 10.07, 8.9, 2.75, 3.8, 14.25, 22.55, 2.35, 8.5, 3.35, 2.9, 3.95, 6.1, 7.95, 3.9, 6.75, 8.0, 9.4, 5.95, 1.4, 6.35, 4.75, 6.51, 3.5, 9.18, 5.9, 4.7, 6.51, 6.03, 6.75, 10.95, 4.99, 6.5, 40.0, 4.0, 5.85, 3.5, 5.5, 4.5, 6.5, 13.2, 2.75, 5.88, 3.5, 2.95, 5.75, 2.95, 8.0, 5.75, 5.15, 6.85, 5.75, 5.5, 8.5, 13.0, 3.55, 19.92, 7.34, 2.55, 13.56, 3.2, 3.42, 5.49, 4.8, 5.0, 35.0, 3.21, 4.4, 3.0, 7.9, 6.75, 3.75, 7.5, 3.8, 8.76, 6.15, 11.15, 5.0, 4.35, 3.59, 5.7, 6.9, 3.6, 5.35, 17.45, 3.0, 7.65, 7.2, 4.75, 5.09, 3.6, 23.91, 11.54, 8.25, 5.95, 7.25, 6.7, 2.5, 7.5, 2.7, 16.5, 0.8, 11.92, 2.8, 8.2, 8.65, 3.98, 11.45, 6.5, 3.5, 10.11, 6.95, 8.7, 9.22, 3.6, 4.11, 3.0, 1.2, 4.8, 4.8, 1.38, 3.15, 4.8, 8.25, 3.0, 5.55, 5.2, 6.45, 6.8, 14.01, 7.9, 3.5, 8.75, 8.41, 3.3, 12.75, 8.25, 2.3, 2.75, 3.6, 8.2, 8.7, 7.75, 8.65, 4.45, 5.1, 4.29, 6.0, 4.7, 13.5, 7.55, 7.23, 7.5, 8.6, 5.68, 6.8, 3.4, 6.36, 6.5, 3.6], \"yaxis\": \"y\"}],\n",
              "                        {\"legend\": {\"tracegroupgap\": 0}, \"template\": {\"data\": {\"bar\": [{\"error_x\": {\"color\": \"#2a3f5f\"}, \"error_y\": {\"color\": \"#2a3f5f\"}, \"marker\": {\"line\": {\"color\": \"#E5ECF6\", \"width\": 0.5}}, \"type\": \"bar\"}], \"barpolar\": [{\"marker\": {\"line\": {\"color\": \"#E5ECF6\", \"width\": 0.5}}, \"type\": \"barpolar\"}], \"carpet\": [{\"aaxis\": {\"endlinecolor\": \"#2a3f5f\", \"gridcolor\": \"white\", \"linecolor\": \"white\", \"minorgridcolor\": \"white\", \"startlinecolor\": \"#2a3f5f\"}, \"baxis\": {\"endlinecolor\": \"#2a3f5f\", \"gridcolor\": \"white\", \"linecolor\": \"white\", \"minorgridcolor\": \"white\", \"startlinecolor\": \"#2a3f5f\"}, \"type\": \"carpet\"}], \"choropleth\": [{\"colorbar\": {\"outlinewidth\": 0, \"ticks\": \"\"}, \"type\": \"choropleth\"}], \"contour\": [{\"colorbar\": {\"outlinewidth\": 0, \"ticks\": \"\"}, \"colorscale\": [[0.0, \"#0d0887\"], [0.1111111111111111, \"#46039f\"], [0.2222222222222222, \"#7201a8\"], [0.3333333333333333, \"#9c179e\"], [0.4444444444444444, \"#bd3786\"], [0.5555555555555556, \"#d8576b\"], [0.6666666666666666, \"#ed7953\"], [0.7777777777777778, \"#fb9f3a\"], [0.8888888888888888, \"#fdca26\"], [1.0, \"#f0f921\"]], \"type\": \"contour\"}], \"contourcarpet\": [{\"colorbar\": {\"outlinewidth\": 0, \"ticks\": \"\"}, \"type\": \"contourcarpet\"}], \"heatmap\": [{\"colorbar\": {\"outlinewidth\": 0, \"ticks\": \"\"}, \"colorscale\": [[0.0, \"#0d0887\"], [0.1111111111111111, \"#46039f\"], [0.2222222222222222, \"#7201a8\"], [0.3333333333333333, \"#9c179e\"], [0.4444444444444444, \"#bd3786\"], [0.5555555555555556, \"#d8576b\"], [0.6666666666666666, \"#ed7953\"], [0.7777777777777778, \"#fb9f3a\"], [0.8888888888888888, \"#fdca26\"], [1.0, \"#f0f921\"]], \"type\": \"heatmap\"}], \"heatmapgl\": [{\"colorbar\": {\"outlinewidth\": 0, \"ticks\": \"\"}, \"colorscale\": [[0.0, \"#0d0887\"], [0.1111111111111111, \"#46039f\"], [0.2222222222222222, \"#7201a8\"], [0.3333333333333333, \"#9c179e\"], [0.4444444444444444, \"#bd3786\"], [0.5555555555555556, \"#d8576b\"], [0.6666666666666666, \"#ed7953\"], [0.7777777777777778, \"#fb9f3a\"], [0.8888888888888888, \"#fdca26\"], [1.0, \"#f0f921\"]], \"type\": \"heatmapgl\"}], \"histogram\": [{\"marker\": {\"colorbar\": {\"outlinewidth\": 0, \"ticks\": \"\"}}, \"type\": \"histogram\"}], \"histogram2d\": [{\"colorbar\": {\"outlinewidth\": 0, \"ticks\": \"\"}, \"colorscale\": [[0.0, \"#0d0887\"], [0.1111111111111111, \"#46039f\"], [0.2222222222222222, \"#7201a8\"], [0.3333333333333333, \"#9c179e\"], [0.4444444444444444, \"#bd3786\"], [0.5555555555555556, \"#d8576b\"], [0.6666666666666666, \"#ed7953\"], [0.7777777777777778, \"#fb9f3a\"], [0.8888888888888888, \"#fdca26\"], [1.0, \"#f0f921\"]], \"type\": \"histogram2d\"}], \"histogram2dcontour\": [{\"colorbar\": {\"outlinewidth\": 0, \"ticks\": \"\"}, \"colorscale\": [[0.0, \"#0d0887\"], [0.1111111111111111, \"#46039f\"], [0.2222222222222222, \"#7201a8\"], [0.3333333333333333, \"#9c179e\"], [0.4444444444444444, \"#bd3786\"], [0.5555555555555556, \"#d8576b\"], [0.6666666666666666, \"#ed7953\"], [0.7777777777777778, \"#fb9f3a\"], [0.8888888888888888, \"#fdca26\"], [1.0, \"#f0f921\"]], \"type\": \"histogram2dcontour\"}], \"mesh3d\": [{\"colorbar\": {\"outlinewidth\": 0, \"ticks\": \"\"}, \"type\": \"mesh3d\"}], \"parcoords\": [{\"line\": {\"colorbar\": {\"outlinewidth\": 0, \"ticks\": \"\"}}, \"type\": \"parcoords\"}], \"pie\": [{\"automargin\": true, \"type\": \"pie\"}], \"scatter\": [{\"marker\": {\"colorbar\": {\"outlinewidth\": 0, \"ticks\": \"\"}}, \"type\": \"scatter\"}], \"scatter3d\": [{\"line\": {\"colorbar\": {\"outlinewidth\": 0, \"ticks\": \"\"}}, \"marker\": {\"colorbar\": {\"outlinewidth\": 0, \"ticks\": \"\"}}, \"type\": \"scatter3d\"}], \"scattercarpet\": [{\"marker\": {\"colorbar\": {\"outlinewidth\": 0, \"ticks\": \"\"}}, \"type\": \"scattercarpet\"}], \"scattergeo\": [{\"marker\": {\"colorbar\": {\"outlinewidth\": 0, \"ticks\": \"\"}}, \"type\": \"scattergeo\"}], \"scattergl\": [{\"marker\": {\"colorbar\": {\"outlinewidth\": 0, \"ticks\": \"\"}}, \"type\": \"scattergl\"}], \"scattermapbox\": [{\"marker\": {\"colorbar\": {\"outlinewidth\": 0, \"ticks\": \"\"}}, \"type\": \"scattermapbox\"}], \"scatterpolar\": [{\"marker\": {\"colorbar\": {\"outlinewidth\": 0, \"ticks\": \"\"}}, \"type\": \"scatterpolar\"}], \"scatterpolargl\": [{\"marker\": {\"colorbar\": {\"outlinewidth\": 0, \"ticks\": \"\"}}, \"type\": \"scatterpolargl\"}], \"scatterternary\": [{\"marker\": {\"colorbar\": {\"outlinewidth\": 0, \"ticks\": \"\"}}, \"type\": \"scatterternary\"}], \"surface\": [{\"colorbar\": {\"outlinewidth\": 0, \"ticks\": \"\"}, \"colorscale\": [[0.0, \"#0d0887\"], [0.1111111111111111, \"#46039f\"], [0.2222222222222222, \"#7201a8\"], [0.3333333333333333, \"#9c179e\"], [0.4444444444444444, \"#bd3786\"], [0.5555555555555556, \"#d8576b\"], [0.6666666666666666, \"#ed7953\"], [0.7777777777777778, \"#fb9f3a\"], [0.8888888888888888, \"#fdca26\"], [1.0, \"#f0f921\"]], \"type\": \"surface\"}], \"table\": [{\"cells\": {\"fill\": {\"color\": \"#EBF0F8\"}, \"line\": {\"color\": \"white\"}}, \"header\": {\"fill\": {\"color\": \"#C8D4E3\"}, \"line\": {\"color\": \"white\"}}, \"type\": \"table\"}]}, \"layout\": {\"annotationdefaults\": {\"arrowcolor\": \"#2a3f5f\", \"arrowhead\": 0, \"arrowwidth\": 1}, \"coloraxis\": {\"colorbar\": {\"outlinewidth\": 0, \"ticks\": \"\"}}, \"colorscale\": {\"diverging\": [[0, \"#8e0152\"], [0.1, \"#c51b7d\"], [0.2, \"#de77ae\"], [0.3, \"#f1b6da\"], [0.4, \"#fde0ef\"], [0.5, \"#f7f7f7\"], [0.6, \"#e6f5d0\"], [0.7, \"#b8e186\"], [0.8, \"#7fbc41\"], [0.9, \"#4d9221\"], [1, \"#276419\"]], \"sequential\": [[0.0, \"#0d0887\"], [0.1111111111111111, \"#46039f\"], [0.2222222222222222, \"#7201a8\"], [0.3333333333333333, \"#9c179e\"], [0.4444444444444444, \"#bd3786\"], [0.5555555555555556, \"#d8576b\"], [0.6666666666666666, \"#ed7953\"], [0.7777777777777778, \"#fb9f3a\"], [0.8888888888888888, \"#fdca26\"], [1.0, \"#f0f921\"]], \"sequentialminus\": [[0.0, \"#0d0887\"], [0.1111111111111111, \"#46039f\"], [0.2222222222222222, \"#7201a8\"], [0.3333333333333333, \"#9c179e\"], [0.4444444444444444, \"#bd3786\"], [0.5555555555555556, \"#d8576b\"], [0.6666666666666666, \"#ed7953\"], [0.7777777777777778, \"#fb9f3a\"], [0.8888888888888888, \"#fdca26\"], [1.0, \"#f0f921\"]]}, \"colorway\": [\"#636efa\", \"#EF553B\", \"#00cc96\", \"#ab63fa\", \"#FFA15A\", \"#19d3f3\", \"#FF6692\", \"#B6E880\", \"#FF97FF\", \"#FECB52\"], \"font\": {\"color\": \"#2a3f5f\"}, \"geo\": {\"bgcolor\": \"white\", \"lakecolor\": \"white\", \"landcolor\": \"#E5ECF6\", \"showlakes\": true, \"showland\": true, \"subunitcolor\": \"white\"}, \"hoverlabel\": {\"align\": \"left\"}, \"hovermode\": \"closest\", \"mapbox\": {\"style\": \"light\"}, \"paper_bgcolor\": \"white\", \"plot_bgcolor\": \"#E5ECF6\", \"polar\": {\"angularaxis\": {\"gridcolor\": \"white\", \"linecolor\": \"white\", \"ticks\": \"\"}, \"bgcolor\": \"#E5ECF6\", \"radialaxis\": {\"gridcolor\": \"white\", \"linecolor\": \"white\", \"ticks\": \"\"}}, \"scene\": {\"xaxis\": {\"backgroundcolor\": \"#E5ECF6\", \"gridcolor\": \"white\", \"gridwidth\": 2, \"linecolor\": \"white\", \"showbackground\": true, \"ticks\": \"\", \"zerolinecolor\": \"white\"}, \"yaxis\": {\"backgroundcolor\": \"#E5ECF6\", \"gridcolor\": \"white\", \"gridwidth\": 2, \"linecolor\": \"white\", \"showbackground\": true, \"ticks\": \"\", \"zerolinecolor\": \"white\"}, \"zaxis\": {\"backgroundcolor\": \"#E5ECF6\", \"gridcolor\": \"white\", \"gridwidth\": 2, \"linecolor\": \"white\", \"showbackground\": true, \"ticks\": \"\", \"zerolinecolor\": \"white\"}}, \"shapedefaults\": {\"line\": {\"color\": \"#2a3f5f\"}}, \"ternary\": {\"aaxis\": {\"gridcolor\": \"white\", \"linecolor\": \"white\", \"ticks\": \"\"}, \"baxis\": {\"gridcolor\": \"white\", \"linecolor\": \"white\", \"ticks\": \"\"}, \"bgcolor\": \"#E5ECF6\", \"caxis\": {\"gridcolor\": \"white\", \"linecolor\": \"white\", \"ticks\": \"\"}}, \"title\": {\"x\": 0.05}, \"xaxis\": {\"automargin\": true, \"gridcolor\": \"white\", \"linecolor\": \"white\", \"ticks\": \"\", \"title\": {\"standoff\": 15}, \"zerolinecolor\": \"white\", \"zerolinewidth\": 2}, \"yaxis\": {\"automargin\": true, \"gridcolor\": \"white\", \"linecolor\": \"white\", \"ticks\": \"\", \"title\": {\"standoff\": 15}, \"zerolinecolor\": \"white\", \"zerolinewidth\": 2}}}, \"title\": {\"text\": \"Harga Mobil Bekas berdasarkan Engine\"}, \"xaxis\": {\"anchor\": \"y\", \"domain\": [0.0, 1.0], \"title\": {\"text\": \"Engine\"}}, \"yaxis\": {\"anchor\": \"x\", \"domain\": [0.0, 1.0], \"title\": {\"text\": \"Price\"}}},\n",
              "                        {\"responsive\": true}\n",
              "                    ).then(function(){\n",
              "                            \n",
              "var gd = document.getElementById('d1e764e1-dfe7-4f52-b07b-60fbac49de08');\n",
              "var x = new MutationObserver(function (mutations, observer) {{\n",
              "        var display = window.getComputedStyle(gd).display;\n",
              "        if (!display || display === 'none') {{\n",
              "            console.log([gd, 'removed!']);\n",
              "            Plotly.purge(gd);\n",
              "            observer.disconnect();\n",
              "        }}\n",
              "}});\n",
              "\n",
              "// Listen for the removal of the full notebook cells\n",
              "var notebookContainer = gd.closest('#notebook-container');\n",
              "if (notebookContainer) {{\n",
              "    x.observe(notebookContainer, {childList: true});\n",
              "}}\n",
              "\n",
              "// Listen for the clearing of the current output cell\n",
              "var outputEl = gd.closest('.output');\n",
              "if (outputEl) {{\n",
              "    x.observe(outputEl, {childList: true});\n",
              "}}\n",
              "\n",
              "                        })\n",
              "                };\n",
              "                \n",
              "            </script>\n",
              "        </div>\n",
              "</body>\n",
              "</html>"
            ]
          },
          "metadata": {
            "tags": []
          }
        }
      ]
    },
    {
      "cell_type": "code",
      "metadata": {
        "id": "lS-t1WSaLikt",
        "colab_type": "code",
        "colab": {
          "base_uri": "https://localhost:8080/",
          "height": 542
        },
        "outputId": "5c33c2cc-806b-41d6-abe7-06b19142b15a"
      },
      "source": [
        "import plotly.express as px\n",
        "\n",
        "fig = px.scatter(datakm, x=\"Power\", y=\"Price\", color=\"Transmission\",\n",
        "                 title=\"Harga Mobil Bekas berdasarkan Power\",\n",
        "                )\n",
        "\n",
        "fig.show()"
      ],
      "execution_count": null,
      "outputs": [
        {
          "output_type": "display_data",
          "data": {
            "text/html": [
              "<html>\n",
              "<head><meta charset=\"utf-8\" /></head>\n",
              "<body>\n",
              "    <div>\n",
              "            <script src=\"https://cdnjs.cloudflare.com/ajax/libs/mathjax/2.7.5/MathJax.js?config=TeX-AMS-MML_SVG\"></script><script type=\"text/javascript\">if (window.MathJax) {MathJax.Hub.Config({SVG: {font: \"STIX-Web\"}});}</script>\n",
              "                <script type=\"text/javascript\">window.PlotlyConfig = {MathJaxConfig: 'local'};</script>\n",
              "        <script src=\"https://cdn.plot.ly/plotly-latest.min.js\"></script>    \n",
              "            <div id=\"b15596cf-c127-4acc-9480-e79675ae67a7\" class=\"plotly-graph-div\" style=\"height:525px; width:100%;\"></div>\n",
              "            <script type=\"text/javascript\">\n",
              "                \n",
              "                    window.PLOTLYENV=window.PLOTLYENV || {};\n",
              "                    \n",
              "                if (document.getElementById(\"b15596cf-c127-4acc-9480-e79675ae67a7\")) {\n",
              "                    Plotly.newPlot(\n",
              "                        'b15596cf-c127-4acc-9480-e79675ae67a7',\n",
              "                        [{\"hoverlabel\": {\"namelength\": 0}, \"hovertemplate\": \"Transmission=Automatic<br>Power=%{x}<br>Price=%{y}\", \"legendgroup\": \"Transmission=Automatic\", \"marker\": {\"color\": \"#636efa\", \"symbol\": \"circle\"}, \"mode\": \"markers\", \"name\": \"Transmission=Automatic\", \"showlegend\": true, \"type\": \"scattergl\", \"x\": [141.0, 138.03, 186.0, 174.33, 156.0, 215.0, 181.0, 177.0, 125.0, 168.5, 130.0, 169.0, 235.0, 138.1, 115.0, 147.9, 282.0, 170.0, 138.1, 152.0, 164.7, 198.5, 203.0, 258.0, 215.0, 169.0, 115.0, 0.0, 177.6, 245.0, 168.5, 141.0, 147.6, 241.4, 218.0, 165.0, 138.1, 103.2, 218.0, 210.0, 115.0, 170.0, 241.4, 190.0, 168.5, 152.0, 138.1, 177.0, 126.3, 141.1, 179.5, 235.0, 210.0, 138.1, 245.0, 235.0, 194.3, 138.1, 194.3, 174.33, 138.03, 147.51, 120.0, 235.0, 184.0, 157.75, 171.5, 170.0, 215.0, 140.0, 150.0, 125.0, 170.0, 126.32, 190.0, 364.9, 0.0, 241.4, 224.34, 200.0, 177.0, 168.5, 198.5, 218.0, 168.5, 235.0, 105.0, 171.5, 224.0, 168.5, 153.86, 194.3, 184.0, 227.0, 254.8, 224.0, 190.0, 198.5, 203.0, 157.7, 78.0, 215.0, 181.0, 100.0, 208.0, 241.4, 190.0, 282.0, 241.4, 245.0, 103.6, 308.43, 126.32, 169.0, 126.32, 103.6, 187.74, 177.0, 187.7, 168.5, 167.7, 190.0, 130.0, 157.75, 177.6, 138.1, 270.9, 169.0, 184.0, 152.0, 241.4, 142.0, 181.0, 130.0, 203.0, 218.0, 272.0, 201.15, 210.0, 215.0, 168.5, 150.0, 174.33, 241.4, 153.86, 184.0, 106.0, 153.86, 167.62, 197.2, 180.0, 168.5, 235.0, 179.5, 235.0, 190.0, 181.0, 168.5, 181.0, 76.0, 118.0, 190.0, 218.0, 138.1, 147.9, 80.0, 152.0, 174.5, 170.0, 258.0, 138.1, 142.0, 241.4, 174.33, 140.0, 140.0, 174.3, 204.0, 174.33, 168.5, 190.0, 167.62, 177.6, 126.2, 215.0, 181.0, 0.0, 170.0, 163.0, 194.3, 120.0, 190.0, 138.1, 224.0, 194.0, 198.5, 254.8, 120.0, 177.6, 157.7, 147.51, 115.0, 254.8, 184.0, 174.33, 147.51, 308.0, 174.33, 141.0, 142.0, 138.1, 125.0, 138.1, 142.0, 163.2, 254.8, 126.32, 204.0, 181.0, 140.0, 138.03, 270.9, 117.3, 152.0, 184.0, 147.51, 272.0, 157.75, 187.74, 167.7, 170.0, 138.1, 78.0, 204.0, 140.0, 170.0, 198.5, 167.6, 164.7, 167.62, 157.75, 142.0, 210.0, 184.0, 150.0, 125.0, 177.46, 171.5, 190.0, 152.0, 335.2, 143.0, 224.0, 241.4, 177.6, 141.0, 168.5, 126.2, 168.5, 177.0, 168.5, 215.0, 170.0, 167.62, 118.0, 118.0, 147.9, 181.0, 270.9, 138.1, 187.4, 153.86, 157.75, 177.0, 175.56, 179.5, 215.0, 67.04, 170.0, 103.2, 174.33, 126.32, 163.5, 157.7, 147.5, 174.33, 138.03, 198.5, 190.0, 177.5, 0.0, 170.0, 147.51, 181.0, 258.0, 177.0, 184.0, 335.3, 254.0, 270.9, 190.0, 121.3, 270.9, 158.0, 147.51, 103.2, 126.32, 258.0, 198.5, 138.1, 245.0, 157.75, 218.0, 174.3, 0.0, 170.0, 181.0, 140.0, 150.0, 105.0, 179.5, 105.0, 181.0, 157.75, 177.46, 258.0, 170.0, 147.9, 67.1, 204.0, 118.0, 500.0, 335.2, 169.0, 190.0, 272.0, 136.0, 241.4, 138.1, 241.4, 98.6, 100.0, 187.7, 115.0, 184.0, 130.0, 116.4, 184.0, 174.3, 167.7, 168.5, 141.0, 181.03, 157.75, 126.32, 0.0, 184.0, 126.2, 174.3, 250.0, 174.33, 78.9, 154.0, 215.0, 138.1, 174.33, 203.0, 240.0, 190.0, 184.0, 187.7, 198.5, 174.33, 190.0, 169.0, 170.0, 148.0, 181.0, 150.0, 184.0, 82.0, 258.0, 118.0, 258.0, 103.6, 184.0, 165.0, 184.0, 140.8, 130.0, 171.5, 81.86, 170.0, 67.0, 178.4, 198.5, 168.5, 174.33, 108.45, 272.0, 235.0, 197.0, 147.51, 106.0, 138.03, 147.51, 261.5, 163.7, 203.0, 184.0, 158.2, 190.0, 125.0, 147.51, 157.75, 194.3, 120.0, 174.33, 171.5, 308.0, 88.7, 184.0, 103.52, 165.0, 203.2, 158.8, 321.0, 152.0, 181.0, 184.0, 126.3, 224.34, 258.0, 241.4, 126.2, 140.0, 174.33, 142.0, 204.0, 171.5, 450.0, 138.03, 258.0, 177.0, 382.0, 270.9, 190.0, 74.0, 157.75, 190.0, 148.0, 190.0, 108.5, 204.0, 168.5, 180.0, 174.33, 184.0, 126.32, 78.9, 105.0, 187.7, 174.33, 73.75, 67.04, 181.0, 186.0, 170.0, 177.0, 118.0, 170.0, 224.0, 153.86, 186.0, 174.33, 138.1, 190.0, 158.8, 78.0, 174.3, 241.4, 165.0, 184.0, 335.3, 204.0, 135.1, 184.0, 164.7, 184.0, 174.33, 190.0, 177.6, 78.9, 163.7, 174.33, 177.46, 187.74, 231.1, 118.0, 170.0, 187.7, 130.0, 184.0, 130.0, 140.0, 147.51, 174.33, 82.0, 157.75, 103.5, 78.9, 181.0, 190.0, 147.51, 184.0, 197.0, 185.0, 103.6, 215.0, 138.03, 174.33, 118.0, 110.4, 116.3, 66.1, 78.9, 117.3, 245.0, 241.4, 190.0, 174.3, 250.0, 189.0, 174.33, 103.52, 140.8, 147.51, 174.33, 177.6, 136.0, 184.0, 116.3, 118.0, 118.0, 140.8, 140.8, 186.0, 80.0, 170.0, 147.9, 174.33, 241.4, 138.1, 174.33, 187.74, 174.33, 113.98, 208.0, 177.0, 147.51, 82.0, 67.04, 154.0, 197.0, 201.1, 245.0, 203.0, 163.7, 255.0, 194.3, 241.0, 140.0, 138.03, 140.0, 174.33, 177.01, 126.2, 181.0, 187.74, 203.2, 181.0, 218.0, 80.0, 141.0, 184.0, 149.92, 167.62, 117.3, 108.45, 181.0, 241.4, 194.3, 170.0, 190.0, 140.0, 174.33, 190.0, 170.0, 186.0, 98.6, 306.0, 190.0, 265.0, 245.0, 138.03, 78.9, 258.0, 86.7, 258.0, 85.8, 174.33, 126.32, 174.33, 163.7, 184.0, 103.6, 204.0, 78.9, 147.51, 67.1, 118.0, 157.75, 118.0, 186.0, 184.0, 157.75, 258.0, 174.5, 174.33, 66.1, 282.0, 138.1, 130.0, 335.2, 98.6, 190.0, 157.75, 218.0, 184.0, 174.3, 246.7, 138.1, 187.7, 187.7, 78.0, 187.74, 187.74, 153.86, 177.01, 167.62, 174.33, 147.51, 241.4, 190.0, 168.5, 184.0, 157.7, 270.9, 138.1, 126.2, 187.7, 103.2, 126.2, 364.9, 308.0, 203.0, 246.7, 258.0, 190.0, 103.2, 245.0, 224.0, 103.52, 67.04, 98.6, 300.0, 121.4, 74.0, 174.33, 177.6, 197.0, 103.52, 78.9, 108.495, 75.94, 177.0, 80.0, 177.46, 198.5, 224.0, 103.52, 140.0, 138.1, 147.51, 136.0, 67.04, 80.0, 262.6, 174.3, 171.5, 107.3, 241.4, 157.75, 67.0, 67.0, 103.6, 177.46, 203.0, 140.0, 224.34, 81.86, 67.04, 262.6, 167.6, 258.0, 163.2, 103.52, 241.38, 187.7, 170.0, 138.03, 167.7, 136.0, 203.2, 174.3, 187.7, 147.51, 204.0, 184.0, 203.2, 224.0, 181.0, 177.0, 258.0, 170.0, 190.0, 168.5, 197.2, 174.33, 170.0, 183.0, 245.0, 91.1, 241.4, 335.2, 184.0, 190.0, 112.0, 181.0, 186.0, 143.0, 181.0, 118.0, 126.32, 190.0, 117.3, 190.0, 190.0, 126.24, 254.8, 138.03, 91.1, 91.1, 80.0, 170.0, 204.0, 103.5, 141.0, 197.2, 181.03, 171.5, 126.2, 402.0, 80.0, 241.38, 335.2, 174.3, 167.62, 241.4, 117.3, 174.33, 141.0, 271.23, 177.6, 241.38, 203.2, 117.3, 174.33, 335.2, 241.38, 187.7, 141.0, 186.0, 201.15, 136.0, 120.0, 174.33, 67.04, 174.33, 67.04, 187.7, 86.7, 258.0, 184.0, 126.2, 184.0, 218.0, 141.0, 245.0, 245.0, 167.62, 170.0, 126.24, 224.0, 154.0, 174.33, 107.3, 174.33, 170.0, 107.3, 241.38, 174.33, 300.0, 126.32, 138.03, 203.0, 187.74, 105.0, 187.7, 174.33, 136.0, 552.0, 105.0, 190.0, 190.0, 306.0, 181.0, 194.3, 184.0, 187.7, 240.0, 270.9, 67.04, 116.3, 168.5, 100.0, 147.51, 76.0, 174.3, 281.61, 364.9, 130.3, 203.0, 255.0, 190.0, 187.74, 258.0, 86.8, 184.0, 241.4, 204.0, 241.4, 83.14, 91.1, 116.3, 103.52, 67.04, 149.92, 187.4, 143.0, 224.0, 147.51, 147.51, 190.0, 187.7, 82.0, 157.75, 261.0, 147.51, 115.0, 201.1, 174.33, 153.86, 194.3, 272.0, 82.0, 112.0, 108.5, 147.51, 241.0, 147.51, 170.0, 241.4, 78.9, 184.0, 98.6, 103.52, 187.74, 241.4, 241.38, 184.0, 108.45, 254.8, 105.0, 118.0, 203.0, 103.6, 184.0, 241.4, 186.0, 184.0, 121.3, 184.0, 258.0, 167.6, 170.0, 126.32, 174.33, 103.2, 67.04, 140.8, 190.0, 170.0, 138.03, 187.7, 190.0, 78.0, 174.3, 67.04, 75.94, 83.1, 187.7, 121.4, 110.4, 241.4, 107.3, 203.0, 215.0, 168.5, 503.0, 186.0, 272.0, 270.9, 204.0, 204.0, 204.0, 136.0, 197.2, 174.3, 184.0, 187.7, 194.3, 138.1, 138.03, 126.2, 174.3, 117.3, 108.45, 167.7, 170.0, 394.3, 171.5, 174.33, 190.0, 181.0, 201.1, 120.7, 157.75, 126.2, 86.7, 171.5, 174.33, 174.33, 81.8, 174.5, 203.0, 210.0, 103.6, 241.4, 138.1, 117.3, 190.0, 73.75, 171.5, 141.1, 187.7, 138.1, 265.0, 204.0, 120.7, 170.0, 261.49, 184.0, 204.0, 201.1, 174.33, 78.9, 103.6, 126.32, 198.25, 190.0, 201.0, 82.0, 258.0, 170.0, 140.0, 190.0, 171.5, 140.8, 121.3, 235.0, 67.04, 174.3, 254.79, 170.0, 148.31, 174.5, 171.5, 174.33, 201.1, 174.33, 300.0, 126.32, 154.0, 157.7, 174.33, 186.0, 174.33, 183.0, 75.94, 201.1, 174.33, 241.0, 170.0, 204.0, 117.3, 140.0, 174.33, 170.0, 184.0, 136.0, 167.62, 154.0, 153.86, 143.0, 116.3, 170.0, 86.7, 86.8, 187.7, 181.0, 83.1, 203.0, 126.2, 255.0, 67.0, 174.33, 67.04, 163.2, 177.5, 174.3, 132.0, 197.0, 136.0, 110.0, 157.75, 174.3, 174.33, 150.0, 184.0, 258.0, 170.0, 190.0, 167.62, 67.0, 168.5, 82.0, 110.4, 190.0, 147.51, 174.33, 184.0, 174.33, 201.1, 187.7, 86.8, 120.7, 78.9, 99.6, 121.3, 82.0, 126.2, 282.0, 187.7, 107.3, 190.0, 116.3, 181.0, 78.9, 107.3, 190.0, 126.2, 204.0, 187.74, 167.62, 67.04, 190.0, 86.8, 107.3, 394.3, 121.4, 184.0, 83.1, 82.0, 187.7, 107.3, 168.7, 186.0, 141.0, 194.3, 147.51, 168.5, 105.0, 118.0, 171.5, 117.3, 258.0, 121.4, 241.4, 136.0, 171.5, 170.0, 362.9, 67.04, 67.04, 112.0, 83.1, 161.6, 189.0, 179.5, 270.9, 255.0, 387.3, 157.75, 218.0, 258.0, 136.0, 174.5, 136.0, 86.8, 179.5, 117.3, 152.0, 550.0, 190.0, 67.0, 187.7, 103.5, 75.94, 170.0, 117.3, 108.45, 83.1, 174.57, 203.0, 190.0, 121.3, 147.51, 107.3, 157.7, 67.0, 181.0, 157.75, 112.0, 140.0, 204.0, 147.51, 103.52, 67.0, 167.62, 113.98, 82.0, 204.0, 121.3, 86.8, 254.79, 108.5, 158.2, 67.04, 88.7, 67.0, 150.0, 126.2, 184.0, 83.1, 126.2, 165.0, 103.6, 67.04, 190.0, 66.1, 117.3, 121.3, 190.0, 78.9, 121.3, 150.0, 37.48, 170.0, 190.0, 241.4, 148.0, 187.74, 241.4, 121.3, 136.0, 170.0, 113.98, 103.6, 174.33, 86.8, 91.1, 103.5, 103.52, 86.8, 126.2, 116.3, 82.0, 190.0, 99.6, 120.7, 67.1, 143.0, 174.33, 190.0, 86.8, 177.0, 187.7, 108.4, 187.7, 241.4, 141.0, 174.33, 147.51, 150.0, 215.0, 190.0, 190.0, 215.0, 270.9, 190.0, 190.0, 254.79, 80.0, 197.2, 88.7, 177.5, 186.0, 74.0, 108.45, 67.04, 203.0, 313.0, 67.04, 174.33, 313.0, 184.0, 120.7, 313.0, 171.5, 136.0, 117.3, 67.04, 241.4, 184.0, 190.0, 179.5, 100.0, 241.4, 67.0, 261.49, 121.3, 136.0, 254.79, 181.03, 82.0, 258.0, 170.0, 158.2, 254.79, 167.62, 241.4, 174.33, 177.0, 203.0, 271.72, 120.7, 197.0, 201.15, 174.5, 254.79, 270.9, 37.48, 174.33, 178.0, 157.7, 194.3, 110.5, 241.4, 254.79, 88.7, 187.74, 178.0, 138.03, 73.75, 190.0, 174.5, 320.0, 82.0, 258.0, 120.7, 149.92, 174.33, 103.5, 183.0, 103.0, 86.8, 121.3, 103.6, 103.5, 121.36, 165.0, 83.1, 113.98, 167.62, 82.0, 67.0, 258.0, 187.74, 114.4, 190.0, 187.7, 190.0, 126.2, 121.3, 136.0, 265.0, 141.0, 99.6, 88.7, 86.8, 67.04, 170.0, 191.34, 189.08, 103.5, 136.0, 168.0, 171.5, 255.0, 81.8, 108.45, 110.4, 126.2, 301.73, 177.46, 140.0, 147.5, 83.1, 88.76, 201.15, 201.15, 108.5, 300.0, 73.75, 67.1, 185.0, 67.1, 308.43, 170.0, 121.3, 306.0, 167.62, 117.3, 108.5, 168.5, 190.0, 183.0, 236.0, 103.5, 255.0, 181.04, 158.2, 37.48, 74.0, 183.0, 241.4, 140.0, 167.62, 67.04, 148.31, 121.4, 258.0, 177.0, 103.52, 174.33, 184.0, 170.0, 121.3, 190.0, 105.0, 82.0, 167.62, 444.0, 175.67, 203.2, 167.62, 136.0, 184.0, 183.0, 140.0, 110.4, 444.0, 190.0, 141.0, 121.3, 117.3, 165.0, 306.0, 82.0, 108.495, 367.0, 117.3, 147.51, 143.0, 147.5, 187.74, 126.24, 170.0, 184.0, 184.0, 174.33, 190.0, 174.5, 83.1, 265.0, 67.04, 103.52, 121.3, 395.0, 189.08, 201.15, 258.0, 170.0, 82.0, 80.0, 177.0, 313.0, 103.6, 204.0, 78.9, 88.7, 184.0, 241.4, 189.08, 190.0, 174.33, 138.03, 82.0, 241.4, 140.0, 136.0, 258.0, 103.6, 171.5, 81.86, 167.62, 136.0, 189.08, 191.34, 103.6, 171.5, 117.3, 167.62, 88.7, 313.0, 143.0, 245.0, 83.1, 165.0, 67.1, 122.0, 187.74, 113.98, 67.04, 163.0, 86.8, 170.0, 254.79, 300.0, 190.0, 155.0, 190.0, 258.0, 190.0, 82.0, 190.0, 86.7, 108.5, 117.3, 174.5, 187.7, 73.75, 86.7, 258.0, 117.3, 190.0, 67.04, 67.1, 121.36, 187.74, 37.48, 258.0, 82.0, 187.7, 171.5, 117.3, 181.0, 83.14, 88.7, 37.48, 183.0, 258.0, 270.88, 157.7, 82.0, 320.0, 170.0, 187.7, 117.3, 117.3, 140.8, 122.0, 158.2, 67.0, 189.08, 197.0, 258.0, 117.3, 136.0, 187.74, 170.0, 121.4, 258.0, 187.7, 110.4, 254.8, 136.0, 190.0, 83.83, 194.0, 91.1, 177.0, 78.9, 117.3, 197.0, 82.0, 189.08, 265.0, 258.0, 82.0, 174.5, 170.0, 83.1, 113.98, 177.46, 201.15, 184.0, 340.0, 207.8, 153.86, 171.5, 171.5, 67.0, 190.0, 117.3, 121.36, 126.2, 187.74, 158.0, 177.46, 136.0, 174.33, 83.1, 187.74, 136.0, 167.6, 187.7, 136.0, 103.52, 362.07, 181.43, 193.1, 81.8, 193.1, 126.2, 140.0, 152.88, 83.1, 88.7, 121.3, 117.3, 167.6, 67.04, 81.86, 207.8, 271.23, 197.0, 88.7, 67.04, 175.56, 67.0, 241.4, 189.08, 175.56, 74.0, 241.4, 158.0, 167.62, 194.0, 113.98, 120.7, 174.33, 167.62, 171.5, 265.0, 237.4, 103.52, 170.0, 187.7, 167.62, 184.0, 136.0, 306.0, 306.0, 149.92, 258.0, 67.0, 158.0, 82.0, 197.0, 246.74, 175.56, 194.0, 112.0, 67.0, 81.8, 121.3, 67.0, 117.3, 488.1, 107.3, 187.74, 0.0, 333.0, 67.04, 67.04, 190.0, 154.0, 99.6, 226.6, 190.0, 245.0, 560.0, 258.0, 450.0, 67.1, 81.86, 37.48, 138.03, 117.3, 83.1, 177.0, 194.0, 160.0, 81.8, 108.5, 88.5, 88.5, 421.0, 81.86, 187.7, 83.1, 88.7, 181.0, 362.07, 113.98, 83.83, 67.0, 110.4, 88.76, 190.0, 138.03, 84.0, 177.0, 81.8], \"xaxis\": \"x\", \"y\": [7.5, 13.0, 6.0, 12.3, 4.24, 12.0, 9.75, 12.0, 1.5, 17.49, 3.0, 16.5, 18.75, 6.58, 16.75, 4.65, 18.5, 9.0, 8.5, 3.0, 4.7, 10.0, 12.5, 56.0, 7.0, 13.5, 11.0, 18.0, 2.6, 21.99, 16.5, 12.99, 7.75, 18.0, 10.5, 30.0, 6.95, 5.75, 2.65, 7.1, 16.5, 13.99, 31.41, 14.0, 19.25, 3.8, 4.5, 10.0, 6.75, 10.5, 11.5, 7.99, 6.5, 2.75, 20.0, 18.0, 12.9, 8.0, 14.4, 19.0, 4.0, 16.5, 6.21, 23.29, 17.5, 4.35, 20.5, 11.99, 13.8, 14.5, 19.0, 2.5, 11.0, 5.75, 9.92, 8.85, 3.0, 30.5, 10.75, 23.58, 13.75, 16.5, 4.65, 19.99, 21.67, 18.46, 4.0, 17.0, 14.41, 19.0, 8.5, 14.5, 24.75, 2.05, 38.0, 32.0, 10.9, 11.5, 25.0, 11.5, 1.96, 32.5, 10.5, 2.21, 10.0, 12.95, 17.5, 25.0, 22.0, 62.67, 3.75, 85.0, 8.0, 16.75, 6.5, 4.62, 18.98, 15.5, 29.67, 19.6, 8.5, 17.5, 3.0, 10.0, 2.85, 6.75, 23.19, 20.5, 12.5, 4.8, 12.0, 5.25, 17.15, 2.6, 17.5, 26.5, 15.0, 16.14, 10.6, 7.25, 19.75, 16.0, 17.56, 28.55, 9.25, 9.47, 2.45, 9.2, 13.9, 26.0, 6.5, 21.5, 17.75, 22.5, 17.75, 19.5, 11.0, 16.8, 6.3, 2.8, 3.71, 13.95, 16.57, 4.0, 4.0, 4.19, 13.99, 22.5, 15.0, 27.0, 6.45, 5.25, 36.5, 16.25, 7.98, 16.25, 25.71, 17.23, 15.5, 15.0, 6.67, 17.0, 5.4, 5.9, 17.18, 20.37, 3.25, 19.0, 18.25, 9.5, 8.0, 13.08, 9.75, 28.0, 21.0, 9.99, 38.75, 6.25, 7.5, 5.5, 13.95, 17.5, 28.0, 10.0, 21.0, 23.0, 52.54, 17.75, 10.75, 6.5, 4.45, 2.6, 7.5, 6.5, 6.75, 36.0, 6.0, 16.5, 12.75, 16.77, 11.99, 28.63, 7.5, 5.4, 18.5, 17.5, 16.85, 7.25, 13.9, 7.5, 7.95, 10.9, 3.25, 22.75, 14.4, 14.5, 9.29, 23.68, 3.43, 17.5, 10.75, 3.0, 25.0, 9.5, 9.5, 2.8, 7.25, 19.5, 14.2, 2.0, 29.77, 16.5, 41.0, 39.0, 4.85, 17.0, 18.5, 5.25, 18.25, 15.0, 17.75, 10.99, 15.5, 28.0, 3.57, 4.15, 5.5, 7.2, 24.0, 3.41, 3.99, 5.34, 4.5, 19.5, 15.0, 8.0, 11.27, 4.25, 18.64, 2.85, 14.35, 8.31, 5.5, 6.5, 35.0, 22.75, 6.51, 10.99, 30.45, 10.0, 2.4, 5.53, 18.25, 8.75, 58.0, 19.0, 8.79, 65.81, 14.12, 16.58, 30.37, 4.25, 27.95, 24.0, 17.5, 7.5, 7.75, 9.5, 11.0, 9.44, 27.5, 4.95, 13.9, 15.0, 2.3, 11.5, 9.25, 18.5, 12.95, 5.25, 8.25, 7.75, 12.5, 5.23, 17.08, 34.54, 10.69, 3.5, 3.3, 30.72, 3.8, 14.5, 17.51, 14.4, 12.5, 10.4, 18.06, 32.52, 9.06, 39.0, 4.75, 3.25, 27.0, 15.5, 11.0, 5.5, 3.2, 12.5, 29.0, 6.0, 16.5, 15.5, 9.14, 5.35, 5.45, 2.4, 15.0, 6.8, 21.5, 11.99, 20.57, 3.1, 9.86, 10.3, 5.0, 23.99, 13.0, 40.0, 10.3, 17.55, 35.0, 11.0, 18.0, 27.0, 19.48, 15.8, 8.5, 23.5, 12.5, 19.0, 5.72, 50.0, 2.85, 54.0, 4.5, 16.25, 38.0, 18.5, 10.25, 2.25, 19.75, 5.25, 12.5, 3.87, 13.5, 8.5, 25.12, 24.74, 8.9, 11.75, 18.0, 29.5, 22.0, 4.8, 9.75, 15.75, 27.5, 8.95, 11.5, 11.03, 18.75, 9.25, 2.45, 14.5, 4.7, 7.0, 10.0, 25.02, 15.49, 70.0, 5.43, 10.5, 5.96, 23.0, 30.0, 3.7, 10.75, 3.9, 7.25, 11.5, 5.7, 10.75, 21.0, 38.0, 12.5, 13.5, 21.75, 3.5, 32.73, 20.14, 20.72, 11.5, 31.75, 12.75, 67.83, 16.0, 21.26, 6.75, 11.95, 29.0, 7.5, 14.0, 6.25, 16.0, 16.5, 34.0, 21.5, 10.5, 8.99, 3.45, 11.5, 29.93, 19.9, 8.55, 4.2, 10.5, 12.5, 15.65, 28.0, 5.42, 16.56, 22.58, 13.96, 13.25, 23.0, 3.95, 30.8, 17.5, 1.85, 36.0, 34.5, 26.0, 13.5, 65.0, 14.22, 4.75, 10.95, 4.5, 14.5, 19.0, 21.33, 5.89, 2.9, 6.62, 20.12, 3.75, 25.0, 7.0, 3.55, 12.5, 44.5, 3.75, 10.55, 2.65, 3.31, 19.94, 20.77, 5.57, 14.23, 5.65, 4.39, 8.5, 17.5, 21.73, 14.5, 28.88, 12.5, 3.75, 11.0, 8.25, 25.0, 5.91, 8.3, 6.42, 3.49, 3.1, 9.1, 45.82, 24.94, 22.45, 29.64, 51.52, 4.5, 14.5, 7.25, 10.35, 24.0, 22.0, 4.45, 17.55, 21.0, 4.49, 4.45, 5.5, 10.2, 16.0, 16.0, 2.99, 27.0, 3.8, 25.0, 45.0, 4.65, 14.5, 23.5, 20.0, 23.5, 18.0, 18.5, 20.11, 5.8, 4.88, 10.49, 29.2, 23.41, 68.0, 26.5, 5.25, 36.75, 21.0, 21.9, 10.0, 11.5, 12.5, 23.75, 24.22, 14.25, 28.03, 16.52, 27.75, 8.0, 27.5, 2.95, 14.5, 19.86, 9.69, 27.0, 9.19, 9.6, 13.5, 32.0, 17.0, 15.75, 17.98, 11.0, 18.5, 15.3, 19.5, 26.7, 4.4, 48.0, 11.5, 11.75, 27.0, 7.5, 3.5, 31.0, 5.4, 25.82, 3.6, 20.04, 7.75, 21.56, 6.5, 18.0, 6.51, 17.25, 2.5, 9.75, 3.4, 4.4, 7.25, 5.15, 15.46, 13.5, 14.05, 50.29, 17.71, 19.8, 3.45, 62.81, 8.0, 4.38, 51.69, 3.85, 20.75, 13.25, 33.5, 22.75, 35.0, 45.0, 8.25, 30.0, 34.5, 2.99, 29.5, 24.0, 8.22, 23.5, 18.12, 35.92, 15.21, 42.83, 11.5, 24.99, 28.45, 3.9, 36.15, 8.4, 12.0, 31.0, 8.5, 12.5, 9.99, 67.0, 16.0, 13.5, 19.5, 21.75, 7.25, 28.0, 52.0, 5.7, 3.5, 3.75, 60.95, 5.37, 7.3, 16.67, 6.35, 30.35, 9.86, 3.65, 6.5, 5.85, 17.0, 4.0, 16.81, 10.0, 21.99, 6.11, 13.25, 7.5, 18.0, 17.55, 4.5, 2.9, 6.0, 29.0, 20.5, 16.75, 38.94, 6.89, 4.28, 4.41, 4.29, 17.85, 29.0, 20.5, 13.75, 4.0, 3.8, 4.75, 23.0, 36.0, 9.5, 4.75, 8.08, 44.76, 7.5, 10.11, 9.0, 19.5, 29.95, 25.49, 39.75, 19.5, 24.5, 24.0, 35.0, 49.0, 25.0, 42.0, 45.77, 32.5, 17.27, 19.03, 30.27, 21.95, 27.0, 21.99, 29.52, 8.89, 34.88, 48.91, 17.0, 25.0, 21.94, 27.5, 11.5, 17.0, 7.75, 4.5, 5.64, 10.5, 7.9, 33.5, 21.5, 8.75, 22.25, 13.0, 6.9, 6.95, 3.0, 43.3, 10.75, 8.27, 24.9, 31.12, 21.95, 19.0, 14.79, 25.93, 3.84, 29.0, 51.0, 35.0, 30.0, 47.5, 8.25, 25.0, 11.69, 45.0, 13.5, 7.5, 45.0, 7.41, 36.0, 48.0, 21.0, 38.0, 15.0, 8.5, 49.0, 25.0, 6.0, 17.5, 3.9, 23.89, 4.0, 45.64, 3.79, 45.0, 14.49, 8.9, 22.99, 15.5, 15.45, 19.0, 29.0, 19.25, 8.95, 8.5, 48.5, 10.49, 39.58, 17.5, 23.32, 20.99, 20.87, 12.07, 18.25, 50.5, 5.1, 13.5, 22.0, 29.0, 5.0, 26.5, 18.75, 20.26, 59.0, 2.95, 26.5, 21.6, 6.99, 16.0, 16.25, 9.75, 35.68, 48.22, 31.8, 3.94, 8.73, 20.25, 8.37, 14.5, 5.21, 38.72, 30.0, 19.0, 4.5, 13.9, 64.75, 29.5, 24.5, 41.5, 5.4, 25.5, 43.35, 29.6, 16.11, 6.93, 6.1, 6.15, 8.59, 3.75, 8.85, 12.5, 16.0, 36.0, 8.5, 9.95, 16.5, 24.0, 5.1, 4.9, 28.0, 10.99, 26.0, 23.25, 19.5, 8.41, 20.67, 23.68, 6.34, 19.41, 10.3, 13.19, 42.5, 13.5, 23.0, 50.22, 3.48, 41.75, 5.96, 4.25, 25.0, 40.0, 11.5, 21.5, 11.5, 56.0, 6.99, 5.25, 34.0, 3.35, 27.0, 37.9, 13.5, 15.25, 7.5, 28.5, 57.0, 25.0, 17.95, 8.01, 25.81, 7.12, 4.55, 13.5, 24.68, 42.5, 13.83, 32.8, 34.51, 1.5, 32.5, 4.3, 2.65, 6.2, 44.0, 5.6, 7.58, 36.83, 20.28, 16.75, 9.0, 17.11, 50.66, 29.0, 10.24, 20.5, 38.15, 31.94, 34.18, 24.85, 26.5, 39.5, 17.5, 26.5, 10.75, 12.5, 12.49, 9.31, 39.47, 8.95, 12.46, 5.25, 10.48, 42.91, 18.0, 31.93, 22.24, 24.36, 21.8, 11.57, 6.25, 9.73, 4.34, 19.6, 24.25, 23.5, 5.5, 22.99, 24.95, 22.0, 3.4, 28.75, 5.45, 9.6, 32.78, 9.0, 19.92, 16.68, 44.83, 14.14, 42.0, 37.98, 11.77, 18.49, 26.5, 28.79, 38.76, 24.63, 37.56, 5.08, 5.25, 6.25, 6.0, 25.5, 10.5, 5.45, 45.0, 18.5, 13.75, 24.75, 24.82, 17.74, 7.2, 25.72, 4.45, 43.74, 70.8, 14.5, 41.5, 30.0, 16.45, 17.5, 24.0, 22.95, 45.0, 5.25, 9.5, 24.0, 22.5, 14.5, 22.0, 24.5, 6.55, 35.28, 25.75, 40.66, 9.25, 29.5, 8.29, 6.99, 25.64, 9.25, 13.85, 27.0, 34.0, 15.0, 13.5, 18.9, 4.55, 9.5, 4.45, 3.49, 32.5, 17.0, 8.47, 29.98, 13.23, 70.66, 4.99, 32.91, 4.25, 8.5, 16.0, 38.95, 12.0, 30.48, 20.0, 6.25, 11.6, 39.0, 29.0, 24.0, 19.5, 45.0, 13.51, 23.99, 35.0, 5.23, 31.62, 4.5, 9.1, 13.95, 22.5, 25.71, 16.75, 32.0, 32.0, 29.98, 6.46, 11.96, 3.41, 5.43, 5.44, 5.77, 10.97, 21.0, 36.0, 14.0, 15.0, 6.75, 17.0, 2.95, 13.0, 32.64, 9.48, 32.25, 39.84, 39.47, 4.25, 32.57, 4.3, 19.9, 72.0, 7.5, 33.0, 7.22, 6.3, 55.76, 16.25, 21.5, 10.15, 16.0, 23.0, 14.0, 22.0, 4.65, 9.45, 17.5, 9.48, 43.78, 6.69, 25.02, 18.58, 22.99, 19.0, 30.0, 5.25, 3.2, 22.0, 7.0, 5.5, 5.75, 11.5, 29.0, 41.6, 29.5, 4.45, 21.0, 52.0, 23.5, 25.75, 20.99, 4.25, 11.5, 7.7, 14.7, 32.0, 23.0, 5.5, 53.83, 5.95, 4.6, 24.5, 12.08, 11.86, 7.29, 20.0, 22.5, 35.84, 6.5, 19.25, 11.0, 19.0, 3.85, 20.0, 13.65, 22.0, 13.0, 36.0, 9.95, 7.99, 4.35, 25.5, 22.0, 5.91, 37.0, 9.03, 4.9, 64.87, 9.6, 19.75, 4.4, 7.25, 3.2, 22.0, 8.7, 16.0, 7.25, 14.5, 43.0, 2.85, 3.99, 18.55, 2.5, 8.9, 12.6, 30.29, 3.83, 14.76, 20.0, 3.23, 34.78, 37.3, 48.76, 8.0, 26.75, 45.62, 14.35, 24.51, 30.5, 23.8, 5.41, 25.31, 5.1, 9.2, 5.55, 8.11, 5.25, 15.5, 8.5, 4.8, 30.5, 7.99, 11.0, 4.56, 17.22, 26.78, 29.4, 4.15, 59.72, 26.75, 10.5, 30.54, 49.79, 16.61, 18.95, 27.0, 13.5, 17.65, 29.95, 29.5, 31.0, 29.5, 29.3, 25.99, 59.29, 3.32, 32.44, 7.42, 17.08, 10.5, 7.65, 11.44, 3.49, 26.0, 45.0, 3.8, 27.0, 45.0, 22.0, 11.0, 49.0, 19.25, 26.0, 8.65, 4.25, 9.8, 22.0, 31.5, 8.95, 8.2, 24.5, 4.25, 43.6, 13.77, 25.75, 61.29, 11.5, 4.9, 43.0, 50.97, 27.0, 59.65, 39.41, 45.52, 25.75, 34.08, 29.0, 32.0, 11.25, 29.8, 57.0, 31.0, 65.0, 20.0, 2.8, 26.0, 10.0, 7.56, 21.37, 5.49, 53.11, 60.75, 6.86, 24.37, 9.35, 17.49, 9.15, 28.5, 30.85, 93.67, 7.22, 31.75, 11.56, 13.9, 23.75, 7.25, 26.0, 8.0, 4.95, 11.85, 7.75, 8.25, 10.44, 49.24, 6.41, 24.77, 39.05, 6.89, 5.18, 48.63, 16.5, 15.95, 29.0, 26.52, 35.0, 8.6, 11.45, 23.0, 48.0, 14.95, 6.75, 5.95, 4.15, 4.25, 33.64, 51.43, 35.67, 7.4, 24.46, 40.47, 19.97, 97.07, 3.65, 10.0, 7.65, 12.65, 75.0, 26.0, 16.46, 55.7, 7.54, 8.86, 56.73, 37.93, 8.95, 75.0, 8.37, 3.95, 22.0, 3.5, 60.0, 45.0, 12.75, 30.0, 21.0, 9.45, 9.45, 32.0, 17.99, 26.0, 44.0, 7.75, 160.0, 14.85, 25.0, 3.19, 8.08, 27.15, 28.0, 16.52, 39.45, 4.55, 56.14, 5.95, 8.75, 33.5, 8.75, 25.0, 28.0, 46.95, 14.36, 33.66, 4.75, 7.08, 33.66, 40.5, 26.11, 45.61, 39.22, 27.43, 19.9, 25.0, 15.5, 6.8, 37.0, 28.75, 15.75, 10.95, 11.97, 49.22, 55.54, 7.6, 8.89, 70.99, 11.66, 32.73, 22.5, 35.0, 41.5, 16.0, 14.0, 11.5, 16.5, 23.45, 37.92, 33.13, 7.89, 70.15, 4.65, 9.72, 13.49, 56.8, 28.95, 56.0, 55.0, 23.5, 5.4, 2.6, 52.0, 44.0, 4.45, 36.0, 3.96, 6.35, 33.0, 52.5, 21.5, 35.0, 24.5, 18.0, 6.2, 48.0, 16.5, 27.87, 44.56, 7.72, 18.36, 7.55, 39.62, 30.3, 35.98, 51.35, 5.2, 18.0, 14.21, 38.5, 9.27, 68.94, 19.25, 67.0, 5.74, 47.35, 4.0, 32.0, 35.5, 23.5, 4.7, 12.0, 5.99, 33.0, 64.95, 75.0, 35.84, 17.63, 40.5, 47.7, 36.5, 6.93, 29.99, 4.75, 10.0, 8.95, 15.5, 38.0, 8.9, 6.25, 44.0, 10.65, 21.0, 3.95, 3.9, 12.41, 45.86, 3.41, 45.73, 5.4, 25.7, 18.25, 9.25, 22.0, 6.2, 6.95, 2.38, 26.76, 54.45, 58.73, 32.0, 5.99, 93.0, 37.99, 58.91, 11.6, 9.5, 9.75, 17.25, 32.0, 3.95, 22.0, 31.0, 44.0, 9.5, 34.0, 42.75, 30.3, 11.6, 48.0, 32.0, 5.95, 56.0, 36.76, 36.64, 6.97, 35.67, 9.95, 13.5, 3.85, 12.69, 33.0, 5.5, 35.0, 69.5, 70.0, 5.35, 30.0, 28.5, 8.6, 31.55, 20.75, 38.5, 35.55, 2.02, 27.35, 17.85, 19.64, 19.4, 4.5, 35.0, 11.5, 9.99, 11.25, 43.0, 31.99, 27.3, 28.25, 21.43, 9.51, 21.66, 25.51, 25.46, 33.63, 30.77, 9.19, 54.0, 38.99, 3.25, 8.5, 3.25, 14.5, 23.0, 17.75, 9.89, 9.15, 11.5, 12.5, 25.64, 5.63, 6.84, 29.5, 79.0, 33.5, 6.0, 4.25, 28.0, 3.25, 32.95, 28.5, 27.11, 7.5, 70.36, 31.15, 37.5, 56.5, 29.5, 16.0, 28.0, 39.51, 19.65, 64.0, 75.0, 8.9, 48.5, 44.0, 36.0, 30.0, 28.9, 55.0, 58.54, 16.35, 78.8, 4.25, 32.9, 5.45, 35.5, 34.5, 26.5, 39.5, 23.0, 4.22, 8.3, 12.85, 4.15, 9.45, 100.0, 19.75, 33.75, 43.0, 48.0, 5.0, 4.35, 46.0, 9.75, 3.65, 35.0, 27.75, 72.94, 120.0, 79.0, 47.5, 4.25, 6.76, 3.6, 16.95, 12.5, 7.75, 38.0, 35.0, 17.75, 7.36, 12.25, 11.5, 11.25, 90.0, 6.2, 52.5, 8.85, 8.25, 39.75, 83.96, 34.0, 5.0, 4.45, 11.37, 7.8, 61.25, 20.0, 6.85, 40.0, 6.25], \"yaxis\": \"y\"}, {\"hoverlabel\": {\"namelength\": 0}, \"hovertemplate\": \"Transmission=Manual<br>Power=%{x}<br>Price=%{y}\", \"legendgroup\": \"Transmission=Manual\", \"marker\": {\"color\": \"#EF553B\", \"symbol\": \"circle\"}, \"mode\": \"markers\", \"name\": \"Transmission=Manual\", \"showlegend\": true, \"type\": \"scattergl\", \"x\": [103.6, 78.9, 117.3, 82.9, 70.0, 102.0, 160.0, 102.0, 100.6, 100.6, 102.0, 100.6, 102.0, 171.0, 95.0, 147.9, 118.0, 132.0, 0.0, 68.0, 118.3, 100.0, 141.0, 52.8, 0.0, 53.5, 102.0, 110.0, 102.0, 112.0, 74.0, 102.0, 100.6, 171.0, 63.0, 102.0, 171.0, 88.73, 100.0, 102.0, 103.5, 143.0, 74.0, 199.3, 67.04, 102.0, 69.0, 88.7, 120.0, 103.6, 93.0, 171.0, 102.0, 126.2, 110.0, 71.0, 174.5, 68.0, 93.7, 74.0, 88.76, 112.0, 69.0, 0.0, 84.8, 100.6, 37.0, 108.5, 100.0, 102.0, 82.0, 74.0, 107.2, 74.0, 110.0, 70.0, 100.0, 93.0, 68.0, 102.0, 83.1, 168.5, 100.0, 87.2, 102.0, 83.8, 118.6, 94.0, 141.0, 141.0, 88.76, 75.0, 130.0, 171.0, 174.5, 0.0, 74.0, 82.0, 69.01, 67.05, 110.0, 0.0, 84.8, 73.75, 103.6, 100.6, 132.0, 85.8, 171.0, 108.45, 171.0, 194.3, 74.0, 88.8, 89.84, 102.0, 100.6, 100.6, 73.9, 171.0, 82.0, 94.0, 101.0, 67.1, 91.7, 102.0, 102.0, 120.0, 171.0, 103.6, 74.0, 140.0, 126.2, 67.0, 82.9, 108.45, 102.0, 67.1, 68.0, 174.5, 74.9, 75.0, 68.0, 90.0, 102.0, 75.0, 140.0, 171.0, 70.0, 64.0, 118.0, 98.6, 74.0, 103.2, 65.3, 62.1, 102.0, 171.0, 157.75, 89.84, 108.45, 75.0, 68.0, 171.0, 71.0, 67.0, 75.0, 62.0, 68.0, 175.56, 66.0, 93.7, 88.73, 168.5, 74.0, 100.0, 120.0, 140.0, 73.9, 88.5, 73.9, 73.9, 103.6, 141.0, 94.0, 73.9, 84.8, 108.45, 74.0, 112.0, 74.0, 75.0, 68.0, 93.7, 107.2, 70.0, 88.76, 69.0, 69.0, 126.32, 140.0, 65.0, 98.6, 147.6, 73.9, 90.0, 102.0, 102.0, 116.3, 73.0, 0.0, 140.0, 34.2, 100.0, 126.24, 84.8, 103.6, 130.0, 68.0, 68.0, 74.0, 46.3, 118.0, 67.1, 100.6, 69.0, 63.0, 73.9, 63.1, 140.0, 94.0, 67.0, 100.0, 168.5, 106.0, 118.0, 168.5, 102.0, 171.0, 74.0, 103.6, 100.6, 147.8, 108.5, 88.76, 0.0, 0.0, 90.0, 88.5, 138.0, 84.8, 68.0, 102.0, 110.0, 110.0, 74.0, 120.0, 138.0, 76.0, 74.0, 88.8, 0.0, 75.0, 0.0, 140.0, 73.94, 76.8, 74.0, 67.1, 116.6, 100.0, 141.0, 78.0, 141.1, 180.0, 64.1, 102.5, 88.73, 110.0, 102.0, 102.0, 102.0, 102.5, 126.32, 84.8, 68.0, 168.5, 75.0, 70.0, 140.0, 138.0, 107.2, 67.05, 170.0, 0.0, 74.0, 99.0, 103.6, 74.0, 168.5, 79.4, 64.0, 62.1, 138.1, 118.0, 100.0, 70.0, 90.0, 106.0, 140.0, 68.0, 88.5, 102.0, 102.0, 79.4, 0.0, 67.1, 67.0, 73.9, 68.05, 108.45, 138.08, 64.1, 174.5, 74.0, 67.1, 98.6, 73.75, 140.0, 175.56, 73.9, 130.0, 94.0, 103.6, 126.2, 57.6, 85.8, 112.0, 100.6, 168.5, 100.0, 65.3, 68.0, 103.6, 110.0, 74.0, 70.0, 0.0, 157.7, 168.5, 68.0, 73.9, 97.7, 68.0, 75.0, 65.0, 67.0, 88.76, 83.14, 168.5, 71.0, 100.0, 112.0, 174.5, 100.6, 0.0, 120.0, 62.1, 88.76, 73.9, 66.0, 74.0, 88.5, 120.0, 102.0, 85.8, 67.06, 0.0, 126.32, 108.5, 47.0, 112.0, 64.08, 138.0, 74.0, 140.0, 83.8, 100.6, 70.0, 118.0, 100.6, 0.0, 60.0, 126.2, 64.0, 67.1, 69.0, 74.0, 100.0, 69.01, 69.0, 90.0, 120.0, 141.1, 68.0, 68.0, 171.0, 102.0, 63.1, 99.0, 100.6, 0.0, 88.7, 105.0, 67.1, 171.0, 83.0, 74.0, 116.3, 92.7, 90.0, 120.0, 100.6, 110.0, 75.0, 73.9, 46.3, 82.85, 71.0, 0.0, 171.0, 71.0, 103.6, 108.49, 73.94, 74.0, 171.0, 74.0, 88.73, 60.0, 120.0, 70.0, 168.5, 0.0, 66.0, 63.0, 104.0, 57.6, 74.0, 100.0, 70.0, 126.24, 120.0, 74.0, 74.0, 126.32, 73.9, 102.0, 147.6, 93.7, 152.0, 98.6, 110.0, 98.6, 138.08, 114.0, 73.94, 169.0, 83.8, 98.6, 115.0, 120.0, 126.2, 0.0, 100.0, 73.9, 47.3, 74.0, 52.8, 90.0, 78.9, 118.0, 99.0, 93.7, 103.6, 62.1, 60.0, 60.0, 74.0, 103.2, 126.32, 105.0, 80.0, 68.0, 102.0, 0.0, 100.0, 140.0, 84.8, 177.6, 110.0, 101.0, 74.0, 118.0, 46.3, 90.0, 46.3, 73.9, 67.1, 102.0, 118.0, 35.0, 88.5, 63.12, 90.0, 138.1, 89.84, 118.3, 107.2, 62.0, 103.5, 75.0, 67.1, 138.1, 88.7, 138.03, 83.8, 126.2, 68.0, 89.84, 94.0, 82.85, 89.84, 100.6, 147.8, 120.0, 152.0, 63.0, 100.0, 171.0, 70.0, 38.4, 58.2, 126.32, 74.0, 103.3, 130.0, 68.05, 118.0, 130.2, 70.0, 86.8, 93.7, 171.0, 67.1, 100.0, 75.0, 98.6, 78.0, 74.0, 67.1, 55.2, 73.94, 83.8, 83.0, 73.9, 103.6, 112.0, 88.2, 73.0, 58.2, 88.2, 73.9, 68.05, 67.1, 73.9, 100.0, 118.0, 143.0, 138.1, 68.0, 65.0, 100.6, 64.0, 100.6, 88.8, 61.0, 88.8, 98.6, 110.0, 90.0, 70.0, 60.0, 88.5, 46.3, 103.2, 138.03, 98.6, 108.45, 140.0, 97.6, 83.8, 82.0, 120.0, 68.0, 78.9, 89.84, 70.0, 120.0, 73.9, 138.1, 58.16, 116.6, 126.2, 98.6, 87.2, 68.0, 68.0, 200.0, 116.3, 121.3, 74.0, 0.0, 130.0, 140.0, 125.0, 126.32, 130.0, 73.94, 140.0, 73.94, 67.1, 140.0, 118.0, 66.0, 73.9, 74.0, 140.0, 74.0, 85.8, 66.0, 88.8, 57.6, 84.8, 140.0, 140.0, 157.8, 138.1, 0.0, 78.0, 85.0, 118.0, 140.0, 75.0, 74.0, 104.68, 120.0, 130.0, 101.0, 83.8, 88.76, 63.1, 118.0, 63.1, 88.2, 0.0, 88.8, 100.6, 73.9, 88.73, 140.0, 88.5, 78.9, 75.0, 140.0, 138.0, 47.3, 75.0, 138.1, 171.0, 70.0, 67.1, 130.2, 144.0, 83.0, 88.76, 89.84, 74.0, 74.0, 68.05, 88.8, 73.9, 126.32, 132.0, 80.0, 100.0, 73.94, 75.0, 103.2, 126.2, 66.1, 68.0, 93.7, 0.0, 70.0, 90.0, 0.0, 108.5, 105.0, 103.2, 108.5, 88.5, 138.03, 120.0, 46.3, 118.6, 101.0, 83.8, 78.9, 140.0, 98.6, 55.2, 98.6, 100.6, 103.3, 74.0, 64.0, 210.0, 88.5, 75.0, 108.5, 60.0, 123.24, 78.9, 74.0, 68.05, 68.0, 74.0, 67.04, 108.5, 68.05, 73.9, 116.3, 120.0, 78.9, 68.05, 37.0, 126.2, 58.16, 64.0, 126.32, 56.3, 126.32, 67.0, 118.0, 79.4, 73.9, 74.0, 138.03, 102.0, 120.0, 108.45, 0.0, 0.0, 73.94, 120.0, 85.8, 140.0, 92.0, 74.0, 68.05, 63.1, 90.0, 123.7, 69.01, 63.1, 64.08, 64.0, 103.52, 73.9, 88.5, 103.6, 110.0, 62.1, 108.45, 57.6, 88.8, 90.0, 102.53, 93.7, 64.0, 88.5, 63.0, 90.0, 106.0, 102.0, 68.05, 123.7, 140.0, 88.76, 103.3, 177.6, 118.3, 68.05, 68.0, 80.0, 140.0, 71.0, 0.0, 0.0, 68.0, 64.0, 74.0, 66.0, 67.1, 98.6, 73.97, 74.0, 73.9, 108.5, 0.0, 82.0, 87.2, 46.3, 170.0, 66.1, 100.6, 78.9, 88.76, 88.8, 67.1, 140.0, 120.0, 74.0, 100.0, 67.1, 56.3, 140.0, 74.9, 85.0, 98.6, 62.1, 102.0, 74.0, 88.73, 0.0, 74.0, 98.6, 80.0, 100.6, 0.0, 69.0, 100.0, 66.7, 118.0, 85.8, 62.1, 47.0, 69.0, 78.9, 163.7, 89.84, 81.8, 130.0, 71.0, 60.0, 102.0, 0.0, 98.59, 88.5, 66.0, 92.7, 35.5, 140.0, 180.0, 108.45, 127.0, 126.32, 112.0, 103.2, 171.0, 88.5, 98.6, 74.0, 91.2, 94.0, 103.6, 138.03, 75.0, 67.1, 88.8, 74.0, 118.0, 88.8, 37.5, 70.0, 74.0, 138.1, 140.0, 88.76, 67.0, 103.3, 73.9, 88.76, 83.8, 118.0, 110.0, 67.04, 73.9, 73.9, 126.2, 84.8, 82.85, 125.0, 88.7, 70.0, 180.0, 0.0, 86.8, 75.0, 73.94, 73.9, 170.0, 86.7, 67.1, 62.1, 88.8, 89.84, 125.0, 0.0, 138.08, 88.7, 90.0, 102.0, 123.7, 98.96, 73.9, 73.94, 70.0, 98.6, 88.2, 132.0, 126.2, 70.0, 69.01, 73.9, 140.0, 88.2, 79.4, 138.1, 92.7, 0.0, 75.0, 60.0, 69.01, 67.1, 37.0, 68.0, 74.0, 107.2, 68.0, 100.6, 53.5, 83.8, 83.8, 73.9, 88.8, 73.9, 90.0, 104.68, 118.0, 106.0, 73.75, 90.0, 120.0, 138.1, 78.9, 98.6, 100.0, 58.16, 120.0, 73.9, 73.94, 130.0, 67.04, 46.3, 120.0, 117.3, 98.6, 74.0, 120.0, 73.9, 108.45, 98.6, 70.0, 75.0, 46.3, 79.4, 74.0, 73.9, 68.0, 90.0, 68.0, 168.5, 171.0, 104.68, 68.0, 112.0, 67.1, 71.0, 140.0, 78.9, 108.45, 105.0, 70.0, 88.8, 0.0, 88.8, 98.6, 70.0, 85.8, 89.84, 56.3, 138.0, 66.0, 123.7, 83.8, 98.6, 85.8, 73.9, 57.6, 74.0, 126.32, 64.0, 74.0, 88.5, 89.84, 74.0, 100.0, 75.0, 108.5, 78.9, 73.9, 73.9, 46.3, 90.0, 103.6, 88.2, 55.23, 120.0, 88.8, 158.8, 74.9, 74.0, 140.0, 73.9, 171.0, 37.0, 70.0, 110.0, 74.0, 68.0, 98.6, 62.1, 68.0, 73.94, 90.0, 62.1, 71.0, 88.8, 103.6, 55.2, 78.0, 76.0, 67.1, 100.6, 68.0, 73.9, 68.0, 0.0, 83.8, 108.45, 68.0, 83.8, 98.6, 108.45, 67.04, 68.05, 88.5, 82.0, 75.0, 108.45, 140.0, 86.8, 71.0, 87.2, 87.2, 73.8, 57.6, 73.9, 73.9, 78.9, 68.0, 194.3, 73.75, 168.5, 98.6, 108.45, 126.3, 88.8, 73.9, 81.8, 88.76, 67.04, 0.0, 83.8, 73.9, 0.0, 162.0, 140.0, 108.45, 108.45, 46.3, 90.0, 68.0, 168.5, 140.0, 73.9, 74.0, 118.0, 117.3, 168.5, 70.0, 98.6, 47.3, 74.0, 140.0, 147.9, 120.0, 71.0, 88.8, 53.3, 147.8, 69.0, 80.0, 121.3, 118.0, 65.0, 73.9, 126.32, 57.6, 100.6, 68.05, 174.5, 120.0, 67.04, 99.0, 98.59, 68.0, 88.76, 74.0, 74.0, 140.0, 85.8, 86.7, 78.9, 58.2, 0.0, 67.0, 147.8, 120.0, 89.84, 99.0, 87.2, 110.0, 140.0, 73.9, 103.5, 58.16, 102.0, 58.2, 73.9, 74.0, 74.0, 126.3, 130.0, 120.0, 46.3, 102.0, 103.3, 37.0, 103.2, 0.0, 0.0, 58.2, 68.0, 94.0, 68.0, 80.0, 126.32, 73.9, 63.1, 118.0, 171.0, 66.0, 120.0, 80.0, 46.3, 70.0, 88.76, 103.5, 74.0, 35.0, 102.5, 98.6, 78.9, 68.05, 118.0, 118.0, 63.12, 118.0, 89.84, 90.0, 85.8, 68.0, 102.53, 0.0, 88.5, 140.0, 80.0, 74.0, 130.0, 73.9, 63.1, 168.5, 80.0, 90.0, 74.0, 141.0, 98.6, 98.6, 85.0, 99.0, 73.9, 67.1, 73.9, 103.6, 67.04, 67.1, 98.6, 140.0, 98.6, 88.76, 88.8, 126.32, 163.7, 100.0, 140.0, 103.6, 98.6, 78.9, 58.33, 64.1, 0.0, 89.84, 0.0, 120.0, 68.0, 73.9, 88.8, 81.83, 103.6, 110.0, 58.2, 68.05, 125.0, 99.0, 88.73, 37.0, 67.1, 118.0, 175.56, 84.8, 110.0, 60.0, 0.0, 0.0, 121.3, 55.2, 138.1, 84.8, 100.0, 130.0, 88.5, 157.8, 88.8, 88.7, 0.0, 112.0, 66.1, 141.1, 100.6, 86.8, 120.0, 88.8, 88.2, 55.2, 102.0, 74.0, 103.5, 126.2, 78.9, 68.05, 65.0, 67.1, 0.0, 58.2, 48.21, 108.45, 66.1, 108.45, 0.0, 130.0, 46.3, 87.2, 103.3, 86.7, 92.0, 62.1, 90.0, 67.0, 78.0, 80.0, 126.32, 89.84, 0.0, 121.3, 85.8, 85.8, 93.7, 67.06, 83.8, 70.0, 89.84, 74.0, 67.1, 63.1, 73.97, 68.0, 66.1, 73.9, 88.76, 168.5, 66.0, 74.0, 81.8, 80.0, 103.6, 116.3, 78.0, 78.9, 169.0, 121.3, 89.84, 88.8, 97.7, 103.6, 0.0, 85.8, 55.2, 88.5, 108.45, 62.1, 104.68, 90.0, 70.0, 74.0, 90.0, 73.75, 66.1, 58.16, 168.5, 67.1, 74.0, 62.1, 74.0, 85.8, 55.2, 46.3, 88.0, 141.0, 82.85, 105.0, 102.0, 78.9, 118.0, 46.3, 88.5, 90.0, 102.0, 73.9, 85.8, 93.7, 93.7, 68.0, 73.9, 121.3, 73.9, 89.84, 66.7, 46.3, 121.3, 88.76, 88.2, 67.1, 81.8, 140.0, 90.0, 74.0, 194.3, 112.0, 0.0, 80.0, 63.12, 118.0, 88.8, 67.04, 118.0, 100.6, 86.8, 74.0, 147.8, 140.0, 88.8, 138.0, 88.76, 98.6, 67.1, 103.6, 60.0, 46.3, 88.5, 117.3, 121.3, 0.0, 88.7, 98.6, 90.0, 108.45, 138.1, 83.8, 140.0, 88.73, 126.32, 90.0, 85.8, 100.0, 74.0, 126.32, 147.8, 125.0, 98.6, 66.1, 121.3, 88.73, 83.0, 78.9, 103.5, 35.0, 55.2, 98.6, 70.0, 86.7, 98.6, 70.0, 83.8, 140.0, 75.0, 118.0, 118.0, 66.1, 68.0, 73.9, 103.3, 73.9, 64.0, 56.3, 118.0, 88.5, 108.5, 130.0, 103.2, 79.4, 68.05, 114.0, 88.0, 118.0, 46.3, 46.3, 98.6, 98.6, 80.0, 103.6, 73.9, 103.6, 83.8, 105.0, 140.0, 74.0, 89.84, 126.32, 98.6, 68.05, 98.6, 64.0, 81.86, 68.05, 67.1, 83.8, 74.0, 73.9, 68.0, 40.3, 38.4, 78.9, 0.0, 67.1, 68.05, 83.14, 194.3, 80.46, 108.45, 126.32, 88.5, 140.0, 74.0, 83.8, 102.0, 86.8, 70.0, 140.0, 118.0, 85.8, 46.3, 73.9, 55.2, 74.0, 118.0, 118.0, 57.5, 174.5, 98.6, 67.04, 88.7, 178.0, 46.3, 70.0, 73.9, 79.4, 80.0, 73.9, 67.1, 168.5, 79.4, 102.0, 67.0, 71.0, 74.0, 62.1, 103.6, 142.0, 163.7, 88.5, 35.0, 98.6, 120.0, 108.45, 140.0, 85.8, 68.0, 57.6, 103.6, 70.0, 66.1, 118.0, 88.0, 126.2, 69.01, 73.94, 74.0, 100.6, 62.0, 98.6, 60.0, 73.94, 89.84, 70.0, 73.9, 170.0, 126.32, 73.9, 88.2, 67.1, 140.0, 81.8, 79.4, 73.9, 147.8, 102.0, 177.6, 58.33, 83.8, 98.59, 55.2, 110.0, 88.8, 68.05, 98.6, 88.5, 103.6, 74.0, 90.0, 89.84, 67.1, 73.94, 108.49, 81.86, 76.0, 57.5, 103.5, 163.7, 78.9, 123.24, 98.6, 73.8, 67.06, 90.0, 88.76, 67.1, 88.8, 90.0, 163.7, 46.3, 85.8, 118.0, 80.0, 0.0, 70.0, 138.1, 73.9, 74.0, 80.0, 88.5, 86.79, 117.3, 82.9, 70.0, 126.2, 126.2, 47.3, 47.3, 98.6, 0.0, 83.8, 98.96, 67.0, 118.0, 74.0, 108.45, 140.0, 104.68, 78.9, 67.0, 102.5, 70.0, 83.0, 71.0, 86.8, 103.3, 126.32, 88.76, 138.0, 88.5, 67.1, 125.0, 88.8, 78.0, 108.45, 102.0, 74.0, 62.1, 98.6, 46.3, 73.9, 74.0, 67.04, 74.0, 140.0, 81.86, 103.2, 103.6, 120.0, 89.84, 67.04, 88.5, 88.73, 0.0, 98.6, 58.16, 126.2, 117.3, 78.9, 110.0, 104.68, 80.0, 74.0, 94.0, 78.9, 67.06, 88.5, 74.0, 53.5, 88.7, 100.0, 178.0, 88.5, 82.85, 171.0, 85.8, 98.59, 80.0, 147.9, 103.5, 67.1, 98.6, 73.9, 85.8, 140.0, 74.0, 78.9, 73.9, 108.45, 88.8, 78.9, 74.0, 73.9, 78.9, 104.68, 78.9, 75.0, 62.0, 103.5, 83.1, 58.16, 90.0, 126.32, 126.32, 67.1, 117.3, 75.0, 73.9, 100.0, 147.9, 140.0, 68.05, 66.1, 81.8, 81.83, 86.7, 126.2, 88.8, 118.0, 130.2, 98.6, 140.0, 121.3, 140.0, 82.0, 121.3, 98.6, 60.0, 62.0, 74.0, 81.86, 88.5, 57.6, 83.8, 67.1, 85.8, 81.83, 80.0, 67.1, 85.7, 47.3, 67.0, 85.0, 120.0, 70.0, 103.2, 98.6, 67.1, 47.3, 74.0, 70.0, 91.1, 103.5, 76.8, 98.6, 90.0, 138.03, 116.3, 68.05, 67.04, 126.32, 55.2, 73.97, 74.0, 77.0, 98.6, 70.0, 112.0, 63.0, 98.6, 62.0, 68.05, 67.1, 74.0, 126.2, 99.0, 0.0, 106.0, 118.0, 74.0, 108.5, 60.0, 78.9, 55.2, 62.1, 55.2, 78.9, 67.0, 47.3, 103.6, 68.0, 89.84, 74.0, 88.76, 103.2, 66.1, 108.45, 118.0, 68.05, 180.0, 68.0, 138.0, 64.0, 118.0, 138.03, 86.8, 88.73, 83.8, 105.0, 85.8, 126.2, 73.9, 89.84, 35.0, 100.0, 85.8, 85.8, 68.05, 0.0, 90.0, 62.1, 73.9, 78.9, 64.0, 74.0, 160.0, 71.0, 117.3, 73.94, 90.0, 120.0, 103.2, 83.8, 63.1, 171.0, 0.0, 68.05, 108.45, 88.8, 83.8, 74.0, 70.0, 82.0, 100.6, 140.0, 67.1, 74.0, 58.2, 37.48, 85.8, 81.86, 85.8, 68.0, 67.1, 67.0, 73.97, 85.8, 88.8, 70.0, 140.0, 70.0, 46.3, 73.9, 98.6, 80.0, 37.0, 88.8, 88.5, 74.9, 168.5, 78.9, 68.05, 78.9, 130.0, 175.56, 89.84, 86.8, 80.0, 162.0, 98.6, 98.6, 88.5, 83.14, 100.0, 0.0, 138.1, 73.9, 88.76, 74.0, 126.32, 81.83, 86.8, 47.3, 81.83, 68.05, 67.04, 117.3, 85.8, 70.0, 85.8, 83.0, 0.0, 0.0, 78.9, 194.3, 62.0, 74.0, 74.0, 108.62, 85.8, 105.0, 112.2, 108.45, 108.45, 71.01, 103.2, 73.9, 74.0, 58.16, 0.0, 74.0, 57.6, 71.0, 121.3, 71.0, 108.45, 88.5, 108.45, 140.0, 110.0, 80.0, 0.0, 118.0, 140.0, 70.0, 103.6, 121.3, 80.0, 94.0, 126.32, 103.2, 138.03, 74.0, 98.6, 88.73, 73.74, 81.8, 100.6, 140.0, 70.0, 67.04, 55.2, 70.0, 85.8, 85.8, 102.0, 80.0, 121.3, 67.06, 108.45, 103.6, 74.0, 0.0, 103.6, 91.72, 100.0, 103.6, 78.9, 88.5, 73.94, 103.6, 117.3, 68.05, 162.0, 74.0, 35.0, 73.9, 74.0, 98.59, 89.84, 118.0, 88.73, 126.2, 88.8, 108.45, 98.6, 89.84, 78.0, 170.0, 98.6, 92.7, 81.83, 74.0, 130.0, 81.86, 88.8, 88.73, 47.3, 120.0, 73.0, 108.5, 92.0, 89.84, 140.0, 103.5, 85.8, 68.0, 73.75, 89.84, 100.0, 88.73, 74.0, 174.5, 85.8, 80.0, 74.0, 153.86, 68.05, 108.5, 103.2, 98.6, 103.52, 116.3, 88.5, 62.1, 102.5, 67.04, 108.5, 47.3, 79.4, 74.0, 116.3, 78.0, 94.0, 68.05, 46.3, 78.9, 171.0, 92.7, 103.6, 140.0, 117.3, 80.0, 74.0, 140.0, 98.6, 88.73, 88.7, 147.5, 103.6, 100.0, 73.9, 103.5, 68.05, 88.5, 88.8, 73.9, 66.1, 83.8, 67.04, 78.9, 104.0, 35.0, 86.8, 67.1, 88.73, 57.6, 68.0, 85.8, 73.9, 74.0, 103.5, 83.8, 83.8, 58.16, 103.5, 85.8, 105.0, 73.9, 123.7, 100.6, 90.0, 140.0, 67.0, 116.3, 55.0, 89.84, 68.05, 140.0, 118.0, 83.8, 88.5, 94.0, 85.8, 103.6, 98.6, 153.86, 100.0, 140.0, 0.0, 81.8, 68.0, 88.7, 103.6, 73.9, 117.3, 89.84, 103.6, 97.7, 73.0, 110.0, 112.0, 130.2, 88.73, 73.75, 62.1, 86.7, 88.2, 160.0, 76.8, 73.0, 55.2, 118.0, 73.75, 88.73, 55.2, 74.0, 88.76, 118.0, 85.8, 108.4, 78.9, 88.8, 88.73, 126.2, 117.3, 177.6, 121.3, 88.5, 117.3, 47.3, 74.0, 103.6, 88.8, 123.24, 88.5, 108.5, 68.05, 76.8, 67.1, 68.05, 63.1, 147.8, 140.0, 103.2, 88.76, 67.04, 81.86, 108.5, 71.0, 86.8, 86.8, 83.8, 82.85, 74.0, 82.0, 46.3, 85.0, 80.0, 68.05, 74.0, 74.0, 86.8, 67.1, 138.03, 53.3, 88.5, 66.1, 78.9, 67.04, 126.24, 74.0, 74.0, 37.0, 86.7, 175.56, 116.3, 140.0, 88.76, 121.3, 160.0, 126.3, 86.8, 68.05, 138.02, 85.8, 88.76, 88.2, 69.0, 62.1, 80.9, 75.0, 117.3, 68.05, 78.9, 108.5, 64.0, 81.83, 98.6, 85.7, 82.0, 78.9, 88.0, 35.0, 140.0, 163.7, 73.9, 91.72, 70.0, 67.1, 108.45, 100.0, 126.2, 86.7, 86.7, 93.7, 67.04, 103.6, 57.6, 126.2, 88.5, 121.3, 120.0, 80.0, 68.05, 93.7, 88.5, 74.0, 80.0, 78.9, 46.3, 46.3, 121.3, 84.8, 103.2, 108.45, 86.79, 147.9, 74.0, 121.3, 73.9, 88.8, 74.0, 170.0, 98.6, 82.0, 73.0, 81.86, 126.32, 103.3, 80.0, 74.0, 67.1, 140.0, 86.79, 118.0, 103.6, 74.0, 67.1, 55.2, 67.04, 68.05, 67.1, 69.01, 84.8, 99.6, 88.2, 98.6, 102.57, 85.8, 103.6, 68.0, 88.5, 117.3, 80.0, 121.3, 88.76, 147.8, 37.0, 73.9, 74.0, 91.1, 70.0, 88.5, 116.3, 140.0, 88.76, 82.0, 98.6, 103.3, 0.0, 108.5, 88.76, 47.3, 81.83, 70.0, 98.6, 91.1, 84.8, 67.1, 103.2, 70.0, 102.0, 120.0, 66.1, 86.7, 67.1, 67.1, 88.5, 81.86, 70.0, 73.9, 70.0, 103.6, 163.7, 0.0, 126.2, 121.3, 67.1, 83.14, 90.0, 68.1, 82.0, 126.2, 73.97, 78.9, 71.0, 67.04, 68.05, 130.0, 103.2, 170.0, 68.05, 0.0, 78.9, 74.0, 108.62, 0.0, 0.0, 103.2, 98.6, 98.6, 62.0, 88.8, 78.9, 85.8, 97.6, 118.0, 0.0, 81.86, 67.1, 170.0, 126.2, 70.0, 83.11, 88.5, 103.5, 83.1, 47.3, 64.0, 73.74, 53.5, 78.9, 73.9, 73.97, 85.8, 102.0, 80.0, 103.6, 74.0, 86.8, 98.6, 108.5, 98.6, 75.0, 37.48, 116.6, 80.0, 81.83, 139.01, 86.8, 85.8, 82.0, 88.5, 82.85, 126.2, 94.0, 103.6, 81.86, 70.0, 70.0, 82.0, 88.5, 86.8, 88.8, 118.0, 83.14, 85.8, 67.06, 81.8, 121.3, 88.73, 88.76, 140.0, 88.7, 91.1, 100.0, 67.04, 85.8, 74.0, 112.0, 86.8, 103.2, 103.2, 78.9, 86.8, 46.3, 121.3, 74.0, 85.8, 138.03, 140.0, 117.3, 67.1, 68.05, 68.05, 62.0, 46.3, 117.3, 69.0, 85.8, 78.9, 86.7, 107.2, 91.1, 67.04, 85.8, 85.8, 98.6, 117.3, 67.1, 58.16, 90.0, 118.0, 80.0, 63.12, 81.83, 88.5, 116.9, 85.8, 125.0, 121.3, 88.7, 170.0, 82.0, 126.32, 46.3, 117.3, 118.0, 82.0, 157.8, 140.0, 73.97, 86.7, 147.8, 73.75, 140.0, 98.6, 73.9, 67.05, 67.04, 86.7, 98.6, 90.0, 82.4, 78.9, 121.3, 53.3, 79.4, 100.6, 103.6, 88.5, 82.0, 73.9, 152.0, 85.8, 140.0, 103.3, 75.0, 98.6, 78.9, 93.7, 126.2, 78.9, 88.8, 94.0, 88.5, 126.2, 86.7, 100.6, 0.0, 67.04, 168.5, 121.3, 88.76, 98.59, 100.0, 67.04, 121.3, 78.9, 63.0, 80.0, 67.1, 88.8, 90.0, 108.5, 0.0, 177.6, 84.8, 74.0, 130.2, 126.32, 90.0, 102.0, 84.8, 100.6, 86.7, 85.8, 55.0, 57.6, 88.7, 98.6, 98.6, 88.76, 80.0, 55.2, 78.9, 140.0, 163.5, 67.1, 67.1, 74.0, 98.59, 0.0, 81.8, 121.3, 100.0, 86.8, 91.1, 88.76, 74.0, 70.0, 98.6, 0.0, 81.86, 74.0, 74.0, 83.1, 68.05, 73.9, 108.5, 88.5, 88.73, 73.75, 67.1, 118.0, 138.03, 103.5, 81.86, 88.5, 88.8, 67.1, 74.0, 103.2, 88.7, 73.9, 157.8, 88.8, 98.6, 62.1, 116.3, 81.86, 107.2, 82.0, 80.0, 89.84, 74.0, 47.3, 98.6, 67.04, 88.76, 140.0, 88.73, 98.6, 118.0, 0.0, 118.0, 98.6, 55.2, 73.75, 98.6, 88.5, 108.45, 88.5, 67.1, 78.9, 81.86, 94.0, 118.0, 67.04, 120.0, 88.7, 98.6, 55.2, 118.0, 102.0, 68.05, 88.5, 86.8, 98.6, 70.0, 97.6, 88.5, 76.9, 126.24, 121.3, 90.0, 88.7, 89.84, 88.5, 53.3, 121.3, 86.8, 99.0, 78.9, 75.0, 73.9, 170.0, 74.0, 73.9, 74.0, 88.8, 138.1, 67.05, 98.6, 78.9, 85.8, 81.83, 170.0, 134.0, 0.0, 74.0, 100.6, 98.6, 74.0, 118.0, 98.6, 87.2, 126.32, 103.5, 118.0, 80.0, 55.2, 103.6, 73.74, 74.0, 73.0, 88.76, 73.9, 126.2, 126.2, 88.7, 86.7, 73.9, 138.1, 68.0, 91.1, 80.0, 82.9, 74.0, 88.73, 121.3, 57.6, 98.6, 86.8, 82.0, 91.1, 74.0, 81.83, 88.7, 58.2, 62.0, 134.0, 82.0, 68.05, 88.73, 98.59, 83.0, 103.52, 89.84, 126.2, 75.0, 78.0, 140.0, 74.0, 86.7, 55.2, 83.1, 73.0, 88.73, 67.1, 67.04, 88.76, 140.0, 118.0, 78.9, 62.0, 88.7, 82.0, 100.0, 67.04, 78.9, 86.8, 88.76, 62.1, 123.37, 74.0, 0.0, 147.8, 108.5, 91.1, 67.04, 117.3, 70.0, 67.1, 81.86, 78.9, 73.9, 140.0, 88.73, 98.6, 126.2, 116.3, 105.0, 75.0, 147.8, 118.0, 82.0, 74.0, 80.0, 78.9, 140.0, 73.94, 68.05, 98.6, 88.7, 118.0, 56.3, 84.0, 90.0, 78.9, 81.83, 81.8, 67.1, 117.3, 80.0, 81.83, 82.0, 86.8, 82.9, 73.97, 126.2, 74.0, 73.0, 170.0, 47.0, 0.0, 74.0, 88.73, 62.0, 118.0, 37.48, 0.0, 85.0, 120.0, 70.0, 80.0, 117.3, 118.0, 78.9, 180.0, 81.83, 81.86, 118.0, 67.1, 82.0, 75.0, 126.24, 47.0, 108.45, 93.7, 62.1, 86.7, 46.3, 97.7, 70.0, 81.8, 88.5, 67.04, 92.7, 85.8, 98.6, 67.04, 88.7, 80.0, 126.2, 140.0, 91.1, 82.0, 126.2, 80.0, 171.0, 88.7, 105.0, 121.3, 121.3, 74.0, 86.8, 88.5, 0.0, 140.0, 68.05, 91.1, 88.5, 86.7, 90.0, 62.1, 67.04, 74.0, 78.9, 116.3, 78.9, 126.2, 67.04, 97.7, 83.8, 53.3, 118.0, 139.07, 88.5, 82.4, 82.0, 126.2, 73.9, 139.01, 86.8, 58.2, 55.23, 91.1, 81.83, 103.52, 103.6, 81.83, 86.76, 88.5, 138.0, 57.6, 138.1, 88.5, 78.9, 126.2, 62.1, 91.2, 81.86, 86.8, 81.83, 82.85, 70.0, 81.86, 108.5, 103.2, 74.93, 88.73, 126.2, 73.9, 85.8, 78.0, 84.8, 80.0, 88.8, 88.5, 98.6, 88.7, 85.8, 86.7, 74.0, 81.8, 88.8, 140.0, 168.5, 126.24, 67.04, 81.86, 88.7, 78.0, 102.5, 86.7, 116.3, 67.1, 121.3, 74.0, 83.8, 67.1, 85.8, 88.5, 70.0, 78.9, 58.16, 90.0, 88.8, 168.5, 86.7, 81.86, 67.04, 88.8, 86.7, 90.0, 103.52, 153.86, 90.0, 126.32, 73.94, 98.6, 86.8, 77.0, 74.0, 86.8, 140.0, 67.1, 112.4, 88.7, 178.0, 88.5, 63.1, 63.1, 74.0, 98.6, 81.83, 80.0, 35.0, 103.2, 117.3, 78.9, 73.9, 81.83, 88.5, 117.3, 98.96, 68.0, 74.0, 73.9, 67.04, 82.0, 84.8, 76.8, 126.2, 98.6, 86.8, 81.86, 117.3, 157.7, 85.8, 117.3, 117.3, 88.7, 74.0, 88.5, 74.0, 118.0, 88.5, 117.3, 103.25, 88.7, 88.5, 90.0, 121.3, 78.9, 80.0, 88.5, 74.0, 46.3, 88.8, 126.2, 73.0, 78.9, 98.6, 98.6, 130.2, 67.04, 88.7, 46.3, 117.3, 74.0, 80.0, 73.9, 46.3, 47.3, 88.5, 88.5, 55.2, 70.0, 103.5, 103.2, 81.83, 103.5, 118.0, 147.8, 67.1, 126.3, 126.32, 74.0, 67.04, 81.8, 120.0, 88.73, 100.0, 121.3, 86.7, 81.86, 81.86, 126.3, 80.0, 88.7, 81.86, 82.5, 78.9, 100.0, 98.6, 99.0, 35.0, 83.14, 126.2, 88.5, 98.59, 81.8, 120.33, 126.2, 68.05, 82.0, 170.0, 86.7, 88.73, 98.6, 73.9, 79.4, 90.0, 83.8, 78.9, 81.83, 81.8, 55.2, 67.1, 140.0, 154.0, 140.0, 67.04, 117.3, 82.0, 0.0, 60.0, 88.7, 80.0, 103.6, 88.7, 67.1, 117.3, 121.3, 82.0, 140.0, 98.59, 73.9, 67.0, 55.2, 86.8, 67.06, 81.86, 62.1, 83.8, 68.05, 121.3, 74.0, 67.04, 67.1, 88.5, 117.3, 78.9, 121.3, 81.86, 99.0, 81.8, 140.0, 105.5, 55.2, 89.84, 98.6, 74.0, 80.0, 98.6, 88.7, 100.0, 148.0, 68.05, 126.24, 98.6, 81.83, 81.83, 88.7, 78.9, 89.84, 88.5, 185.0, 73.9, 91.1, 73.75, 67.1, 82.9, 126.2, 117.3, 81.83, 85.8, 88.5, 67.04, 73.94, 88.5, 62.0, 98.59, 73.9, 74.0, 78.9, 70.0, 103.52, 81.86, 67.1, 74.0, 62.1, 103.52, 121.3, 88.5, 73.9, 80.0, 0.0, 88.7, 86.8, 35.0, 120.0, 46.3, 126.2, 46.3, 74.0, 70.0, 121.3, 81.83, 37.48, 79.4, 100.6, 65.0, 103.6, 78.9, 73.9, 74.0, 74.0, 100.0, 47.3, 140.0, 67.1, 98.6, 67.0, 80.0, 126.32, 68.05, 78.9, 81.8, 35.0, 68.05, 88.5, 73.0, 73.0, 117.3, 121.3, 74.0, 70.0, 88.5, 86.7, 47.3, 73.9, 81.8, 77.0, 55.2, 73.9, 73.75, 117.3, 103.6, 81.8, 67.1, 108.5, 88.5, 108.5, 73.9, 117.3, 178.0, 117.3, 102.0, 103.6, 98.6, 86.8, 86.8, 138.03, 147.8, 88.0, 99.0, 47.0, 81.86, 85.8, 105.5, 88.73, 85.8, 85.8, 82.0, 86.8, 88.76, 170.0, 85.8, 83.1, 88.73, 85.8, 140.0, 86.8, 88.5, 74.9, 86.7, 74.0, 140.0, 98.6, 70.0, 88.5, 103.5, 85.8, 103.52, 68.05, 70.0, 85.8, 67.0, 81.86, 86.8, 73.94, 140.0, 78.9, 94.0, 90.0, 79.4, 86.8, 86.8, 73.97, 91.1, 53.3, 88.76, 117.3, 121.3, 88.5, 68.0, 85.8, 81.83, 67.04, 88.8, 67.04, 71.0, 88.73, 98.6, 88.7, 47.3, 86.8, 80.0, 98.96, 74.0, 63.1, 86.7, 86.7, 0.0, 73.9, 37.0, 138.03, 88.5, 88.7, 78.9, 117.3, 70.0, 118.0, 74.0, 85.8, 81.83, 89.84, 67.04, 47.3, 91.7, 120.0, 82.0, 91.72, 126.3, 73.9, 68.05, 157.8, 74.96, 73.0, 55.2, 89.84, 67.04, 88.7, 81.8, 82.0, 89.84, 78.9, 108.62, 118.0, 55.2, 67.04, 88.7, 147.8, 98.6, 82.0, 81.86, 110.4, 67.0, 81.83, 74.0, 47.3, 88.5, 75.0, 88.7, 108.4, 62.1, 69.01, 78.9, 81.86, 88.73, 132.0, 147.8, 168.5, 126.2, 47.3, 102.5, 140.0, 83.1, 53.64, 86.8, 47.3, 80.0, 68.05, 37.5, 80.0, 126.2, 126.2, 67.04, 98.59, 85.0, 81.86, 81.83, 99.0, 85.8, 82.85, 55.2, 67.1, 74.0, 67.1, 55.2, 75.0, 116.3, 83.8, 91.1, 79.4, 47.3, 74.0, 86.8, 98.6, 83.8, 73.9, 47.3, 88.73, 74.0, 83.8, 73.9, 210.0, 81.8, 70.0, 68.0, 67.04, 82.0, 89.84, 98.6, 120.0, 98.59, 67.04, 91.1, 55.2, 98.96, 74.0, 64.08, 67.1, 140.0, 86.8, 55.2, 74.0, 74.0, 88.0, 80.0, 0.0, 117.3, 81.8, 121.3, 81.8, 69.0, 100.6, 67.04, 98.96, 81.86, 82.0, 85.8, 126.2, 78.9, 82.0, 74.0, 74.0, 88.73, 62.0, 74.0, 108.45, 88.5, 86.7, 88.8, 78.9, 117.3, 88.73, 60.0, 126.2, 100.0, 170.0, 98.6, 71.0, 69.0, 170.0, 86.8, 73.9, 163.5, 88.5, 55.2, 86.8, 46.3, 105.0, 67.04, 88.7, 81.83, 120.0, 118.0, 73.0, 81.86, 67.1, 86.7, 102.5, 110.0, 73.75, 81.86, 81.86, 117.3, 117.3, 93.7, 138.1, 126.2, 108.5, 78.9, 80.0, 82.0, 83.14, 74.0, 53.3, 117.3, 86.8, 55.2, 55.0, 81.8, 118.0, 88.7, 81.8, 47.3, 88.7, 53.64, 120.0, 74.0, 81.83, 117.3, 117.3, 98.6, 88.73, 66.7, 70.0, 88.73, 121.3, 117.3, 75.0, 83.1, 170.0, 110.0, 74.0, 82.0, 88.7, 88.8, 74.0, 126.2, 73.75, 138.03, 85.8, 98.6, 88.73, 88.73, 83.1, 73.9, 73.9, 78.9, 82.0, 88.5, 73.97, 34.2, 120.0, 100.0, 118.0, 55.2, 67.04, 81.8, 88.5, 57.6, 46.3, 88.5, 121.3, 53.0, 47.3, 47.3, 47.3, 81.83, 170.0, 82.0, 55.2, 108.45, 53.3, 121.3, 121.3, 67.0, 73.97, 117.3, 82.0, 170.0, 79.4, 47.3, 74.0, 88.73, 98.96, 88.5, 82.0, 98.6, 77.0, 0.0, 110.0, 103.2, 74.0, 37.5, 64.0, 74.0, 58.16, 103.25, 98.82, 67.04, 88.73, 37.5, 88.76, 91.1, 74.0, 67.04, 91.2, 55.2, 73.97, 88.5, 88.7, 67.1, 81.86, 88.5, 70.0, 147.8, 86.8, 83.1, 83.1, 85.8, 53.3, 82.0, 98.6, 74.0, 86.8, 88.0, 134.0, 82.0, 108.5, 67.04, 47.3, 78.9, 67.0, 91.1, 74.0, 170.0, 117.3, 53.3, 126.2, 81.83, 88.5, 79.4, 93.7, 163.5, 81.83, 108.45, 126.2, 82.0, 83.14, 83.1, 79.4, 88.7, 47.3, 35.0, 140.0, 117.3, 147.8, 68.05, 121.3, 98.6, 40.3, 47.3, 83.14, 86.8, 53.3, 88.73, 47.3, 82.0, 81.8, 81.83, 67.04, 80.0, 153.86, 73.9, 121.3, 73.75, 53.3, 74.0, 47.3, 53.3, 74.0, 88.5, 86.8, 117.3, 67.1, 67.04, 83.1, 80.46, 73.94, 81.8, 82.0, 88.7, 55.2, 88.7, 65.0, 121.3, 98.96, 70.02, 103.2, 88.7, 98.6, 117.3, 103.52, 34.2, 117.3, 64.0, 82.0, 74.0, 82.0, 74.0, 0.0, 83.1, 73.0, 74.0, 82.0, 85.8, 74.0, 88.7, 123.24, 81.83, 81.86, 73.75, 84.0, 88.8, 100.0, 82.0, 86.8, 37.0, 77.0, 58.16, 147.8, 55.2, 88.5, 74.0, 84.0, 74.0, 88.0, 82.0, 74.0, 123.24, 74.0, 67.1, 74.0, 68.0, 140.0, 86.8, 53.3, 121.36, 67.04, 88.5, 88.7, 86.8, 70.02, 67.04, 47.3, 88.5, 81.86, 121.36, 78.9, 70.0, 35.0, 88.5, 103.52, 81.86, 73.0, 121.3, 67.04, 81.83, 47.3, 62.0, 82.0, 83.1, 86.76, 81.83, 67.04, 82.0, 121.3, 138.02, 78.9, 78.9, 62.0, 55.2, 81.86, 73.97, 103.52, 84.0, 81.86, 81.8, 81.83, 55.2, 81.83, 67.1, 88.7, 82.0, 103.5, 53.64, 134.0, 73.9, 53.3, 80.0, 88.7, 74.0, 81.86, 102.57, 73.9, 74.0, 147.8, 55.2, 78.9, 73.0, 82.0, 98.59, 108.62, 98.6, 88.5, 55.2, 37.5, 82.0, 78.9, 81.83, 47.3, 37.5, 121.3, 103.52, 81.83, 82.0, 103.25, 121.3, 168.7, 80.46, 85.0, 67.1, 73.9, 80.0, 55.2, 74.0, 67.0, 83.14, 105.5, 74.0, 81.83, 105.0, 81.8, 86.7, 86.7, 91.72, 46.3, 100.0, 81.83, 88.7, 74.0, 81.86, 88.73, 74.0, 73.75, 81.86, 74.0, 67.0, 88.5, 85.8, 37.5, 47.3, 80.0, 40.3, 86.8, 98.82, 80.0, 55.2, 78.9, 93.7, 85.8, 37.5, 97.7, 80.0, 74.0, 88.5, 55.2, 83.1, 121.3, 93.7, 81.83, 108.5, 81.83, 88.5, 67.04, 88.7, 73.75, 86.7, 98.6, 82.0, 79.4, 86.8, 99.0, 91.1, 83.1, 121.36, 117.3, 103.2, 81.83, 67.1, 67.04, 62.1, 67.04, 78.9, 100.0, 81.8, 37.5, 81.83, 84.0, 74.0, 118.0, 86.7, 53.3, 82.0, 84.0, 138.03, 105.0, 69.0, 126.32, 170.0, 82.0, 83.1, 73.75, 86.8, 53.3, 81.83, 91.1, 82.0, 121.3, 68.05, 83.1, 85.8, 34.2, 67.04, 88.7, 98.6, 84.0, 81.86, 55.2, 82.0, 88.7, 83.1, 170.0, 82.0, 103.5, 34.2, 53.64, 123.24, 67.0, 88.7, 85.8, 82.0, 74.0, 98.79, 98.6, 81.83, 83.1, 82.9, 86.8, 46.3, 73.75, 121.3, 55.2, 81.86, 71.0, 158.0, 81.83, 140.0, 88.2, 73.75, 55.2, 81.86, 37.48, 55.2, 81.83, 88.76, 81.83, 88.5, 74.0, 74.0, 108.5, 73.97, 82.5, 81.83, 70.0, 67.1, 85.8, 117.3, 82.0, 81.86, 88.7, 110.4, 85.0, 74.0, 82.0, 81.86, 81.86, 82.0, 140.0, 93.7, 67.1, 55.2, 63.0, 67.04, 83.1, 98.96, 82.0, 81.8, 88.7, 88.5, 67.0, 81.83, 67.1, 83.1, 67.04, 53.3, 82.0, 53.3, 88.8, 121.3, 81.86, 83.1, 81.8, 85.0, 67.1, 198.25, 73.75, 88.73, 98.6, 37.0, 81.86, 85.8, 138.0, 67.04, 81.83, 53.0, 74.0, 83.1, 55.2, 88.73, 116.3, 34.2, 117.3, 81.83, 55.2, 34.2, 126.2, 147.8, 47.3, 117.3, 47.3, 47.0, 85.8, 121.3, 81.86, 86.8, 88.7, 74.0, 88.5, 121.3, 62.1, 81.83, 82.0, 83.14, 40.3, 103.25, 117.3, 77.0, 117.3, 81.86, 83.1, 126.2, 82.0, 81.83, 0.0, 88.7, 81.86, 67.1, 82.4, 67.04, 81.86, 121.3, 68.05, 84.0, 82.5, 78.9, 81.86, 47.3, 117.3, 121.3, 81.8, 81.83, 86.7, 121.3, 117.3, 155.0, 78.9, 147.8, 94.68, 76.8, 121.3, 53.3, 55.2, 83.1, 82.0, 81.86, 192.0, 55.2, 69.0, 67.04, 88.7, 81.83, 97.7, 81.83, 53.3, 91.1, 74.0, 117.3, 88.7, 82.0, 68.05, 81.8, 110.4, 78.9, 74.0, 170.0, 67.1, 88.76, 81.83, 86.7, 53.3, 53.64, 170.0, 121.3, 91.1, 81.83, 81.86, 86.76, 67.06, 83.1, 67.06, 87.2, 94.0, 108.4, 47.3, 103.25, 74.0, 84.0, 116.3, 81.83, 53.3, 117.3, 81.83, 121.3, 108.5, 67.04, 35.0, 53.3, 37.48, 81.86, 99.0, 35.0, 53.3, 67.0, 110.4, 47.3, 81.86, 67.04, 81.83, 86.8, 108.45, 67.04, 47.3, 88.5, 99.0, 47.3, 121.3, 63.0, 75.0, 47.3, 67.1, 74.0, 74.0, 81.8, 110.4, 53.3, 82.0, 53.3, 94.68, 67.1, 108.45, 99.0, 94.68, 138.03, 81.86, 75.0, 86.8, 53.3, 81.8, 81.86, 47.3], \"xaxis\": \"x\", \"y\": [5.9, 2.7, 5.0, 4.45, 1.0, 4.0, 3.3, 4.0, 6.5, 10.9, 6.5, 7.9, 9.2, 11.0, 3.5, 3.5, 2.6, 4.5, 2.6, 1.45, 7.5, 9.0, 3.9, 0.85, 0.8, 0.85, 9.0, 1.85, 5.2, 4.0, 5.0, 6.25, 10.5, 12.99, 2.5, 6.85, 13.0, 3.85, 1.76, 7.25, 3.65, 7.5, 2.5, 7.5, 3.8, 5.9, 2.5, 3.5, 4.3, 4.0, 2.25, 16.75, 5.7, 7.5, 1.5, 4.0, 10.64, 2.5, 5.0, 4.0, 4.5, 4.0, 2.7, 1.35, 3.9, 8.25, 0.9, 5.0, 10.5, 4.8, 1.8, 2.5, 8.75, 3.9, 3.5, 1.0, 12.0, 2.5, 2.8, 12.99, 1.5, 11.99, 8.0, 5.99, 8.5, 4.2, 9.15, 0.85, 5.5, 7.99, 4.8, 2.9, 3.0, 11.4, 23.0, 1.5, 2.7, 0.85, 2.5, 6.0, 3.0, 3.0, 3.5, 2.25, 5.0, 6.95, 4.5, 2.5, 11.0, 7.25, 12.75, 8.9, 4.75, 2.9, 4.42, 13.2, 4.95, 7.5, 3.55, 12.25, 3.5, 1.05, 1.65, 1.15, 2.6, 5.0, 7.8, 5.25, 11.75, 7.0, 5.25, 6.0, 2.6, 2.1, 1.1, 6.0, 6.25, 1.05, 0.7, 10.75, 0.9, 2.0, 2.51, 0.9, 6.25, 2.49, 9.0, 10.5, 1.25, 1.2, 3.5, 5.15, 2.2, 1.85, 0.95, 1.55, 9.8, 11.0, 9.5, 6.55, 5.4, 3.1, 1.6, 11.0, 4.2, 1.65, 3.5, 0.7, 0.86, 12.49, 2.25, 5.5, 4.7, 13.5, 3.6, 9.6, 3.6, 9.24, 3.85, 7.0, 3.85, 3.65, 4.75, 6.0, 0.75, 4.0, 4.75, 3.75, 4.5, 2.75, 3.25, 2.2, 3.2, 6.8, 3.45, 1.5, 4.11, 3.0, 1.5, 5.0, 6.4, 2.0, 6.3, 6.2, 2.95, 1.4, 6.99, 4.95, 4.5, 2.2, 1.2, 6.7, 1.6, 1.45, 9.0, 3.75, 6.25, 2.3, 1.5, 3.0, 4.6, 0.92, 3.25, 0.8, 7.96, 2.3, 1.95, 5.4, 3.3, 8.25, 1.0, 4.45, 1.1, 15.0, 4.4, 3.5, 16.0, 10.75, 10.45, 3.75, 3.8, 14.3, 16.0, 2.9, 1.9, 2.35, 5.0, 2.5, 8.0, 3.5, 4.0, 2.6, 12.0, 3.5, 2.0, 2.6, 12.0, 3.0, 1.65, 3.75, 7.0, 0.85, 1.75, 1.15, 12.0, 3.65, 2.5, 3.2, 1.69, 2.9, 8.0, 6.5, 2.25, 3.91, 5.95, 3.19, 1.25, 5.9, 3.85, 8.75, 4.5, 10.75, 1.35, 4.75, 4.75, 2.25, 15.5, 1.1, 4.0, 9.57, 5.75, 9.95, 5.8, 8.5, 3.75, 3.85, 4.5, 4.33, 4.5, 12.99, 1.75, 0.99, 1.5, 6.95, 2.75, 12.6, 1.8, 4.6, 4.5, 10.85, 2.05, 8.3, 12.0, 8.5, 2.0, 2.0, 4.75, 1.51, 3.5, 3.5, 6.1, 6.99, 2.4, 13.7, 2.8, 1.11, 4.65, 4.0, 7.2, 15.0, 3.5, 2.65, 0.6, 3.65, 2.9, 1.5, 2.2, 2.65, 8.26, 13.25, 1.5, 1.25, 2.4, 3.65, 4.25, 5.5, 1.0, 1.2, 20.5, 20.5, 1.9, 3.9, 2.9, 2.6, 3.1, 3.7, 3.0, 4.5, 4.0, 16.5, 4.4, 8.4, 5.3, 13.28, 10.75, 1.75, 7.0, 6.0, 5.9, 3.15, 1.99, 3.85, 6.75, 5.21, 11.75, 1.0, 3.0, 0.85, 4.5, 5.67, 1.22, 5.0, 3.0, 3.6, 5.25, 12.25, 4.25, 10.1, 2.25, 3.75, 8.25, 0.85, 0.7, 11.45, 0.95, 1.5, 2.85, 3.7, 2.4, 2.0, 2.0, 1.6, 5.5, 6.5, 1.28, 1.6, 17.75, 13.5, 3.0, 5.1, 10.25, 1.3, 4.25, 3.11, 1.8, 16.0, 0.85, 3.5, 6.25, 1.4, 3.5, 4.0, 12.0, 6.5, 3.0, 4.5, 1.5, 3.25, 4.5, 1.2, 13.0, 4.0, 3.75, 7.99, 3.11, 4.75, 23.5, 3.05, 7.03, 0.95, 6.0, 1.6, 20.5, 1.75, 1.9, 4.5, 1.5, 1.55, 6.0, 1.15, 1.55, 6.25, 11.5, 5.5, 6.1, 5.2, 2.51, 5.5, 8.0, 5.5, 4.7, 4.41, 1.8, 4.4, 6.0, 3.0, 3.0, 17.95, 4.25, 6.4, 7.25, 5.5, 2.5, 2.2, 11.5, 3.6, 2.5, 4.8, 0.91, 3.5, 2.25, 4.1, 4.55, 1.9, 5.0, 2.3, 0.45, 0.53, 3.75, 2.5, 6.9, 3.25, 2.8, 2.35, 9.45, 0.8, 2.11, 7.21, 4.5, 6.58, 5.35, 1.85, 4.5, 3.83, 1.95, 3.1, 1.6, 4.5, 1.0, 8.85, 3.75, 2.41, 7.85, 2.5, 3.48, 14.45, 6.25, 5.85, 5.45, 1.45, 5.0, 1.5, 1.0, 8.25, 5.55, 4.5, 7.1, 10.8, 3.56, 7.48, 1.2, 3.65, 5.75, 12.5, 18.39, 3.45, 3.7, 2.7, 12.5, 8.9, 1.1, 2.1, 3.0, 4.0, 4.35, 2.7, 1.9, 4.25, 2.25, 3.35, 1.25, 3.13, 1.85, 13.49, 2.1, 8.25, 2.85, 4.68, 3.0, 4.5, 2.3, 2.5, 3.0, 5.75, 0.8, 2.85, 4.25, 3.85, 3.0, 2.95, 2.9, 2.95, 3.91, 3.5, 2.2, 2.5, 3.8, 3.4, 3.0, 2.75, 2.6, 3.1, 13.9, 1.24, 10.9, 4.5, 1.8, 3.81, 3.8, 2.25, 4.11, 1.4, 0.7, 6.5, 1.25, 6.5, 4.6, 6.75, 7.25, 6.1, 6.2, 5.35, 3.55, 2.6, 1.4, 2.8, 6.25, 2.5, 7.9, 3.0, 8.0, 3.25, 3.25, 6.01, 3.65, 4.5, 1.55, 1.55, 23.65, 3.5, 7.5, 5.85, 1.6, 4.25, 13.5, 3.0, 6.0, 3.95, 3.77, 8.25, 4.35, 2.6, 10.6, 5.25, 2.2, 3.5, 4.33, 5.99, 4.75, 3.85, 1.25, 5.85, 1.5, 5.0, 12.01, 7.02, 4.0, 6.75, 1.3, 3.49, 2.75, 3.5, 7.8, 7.75, 4.35, 2.8, 7.4, 2.35, 1.37, 6.5, 6.0, 3.5, 3.6, 3.6, 2.4, 4.25, 1.8, 15.2, 4.5, 6.5, 10.09, 8.2, 3.75, 3.6, 7.85, 0.6, 2.41, 2.5, 3.5, 11.5, 2.75, 1.0, 2.9, 1.85, 0.45, 7.5, 6.25, 5.8, 4.0, 2.0, 8.75, 3.9, 5.7, 12.36, 3.55, 8.2, 3.39, 2.3, 6.0, 6.3, 1.8, 3.2, 6.15, 2.85, 0.69, 1.2, 1.3, 3.65, 3.5, 2.5, 8.5, 8.9, 3.5, 5.25, 1.8, 7.99, 1.46, 5.29, 3.5, 11.6, 3.0, 2.5, 6.83, 13.5, 4.12, 6.95, 2.2, 17.09, 6.9, 3.45, 5.8, 1.25, 6.75, 2.85, 5.25, 3.8, 2.41, 5.65, 3.85, 11.0, 2.95, 2.89, 3.25, 6.85, 2.5, 1.8, 1.3, 9.95, 2.95, 1.85, 5.5, 3.15, 6.98, 3.0, 5.9, 2.21, 5.8, 5.79, 6.22, 11.49, 7.45, 7.99, 1.4, 2.4, 2.95, 6.71, 3.25, 9.0, 0.85, 4.3, 1.75, 2.75, 5.5, 2.6, 2.7, 3.7, 2.7, 1.65, 4.75, 2.75, 7.1, 2.9, 7.2, 7.7, 5.99, 1.9, 4.42, 2.69, 4.9, 5.5, 1.75, 8.99, 2.9, 5.85, 4.25, 10.05, 1.8, 2.57, 6.2, 6.5, 2.65, 5.75, 4.85, 2.95, 2.75, 2.7, 8.75, 3.45, 1.35, 0.75, 1.0, 0.85, 2.5, 2.35, 2.3, 8.0, 5.43, 5.69, 4.39, 4.75, 5.55, 4.53, 6.53, 1.3, 14.25, 2.6, 14.49, 2.1, 5.9, 6.5, 2.45, 11.25, 4.35, 6.1, 1.1, 2.2, 2.5, 9.0, 1.3, 0.75, 4.1, 2.3, 13.5, 4.9, 5.7, 1.67, 4.5, 6.96, 2.74, 11.79, 2.5, 2.45, 3.3, 2.3, 3.5, 4.3, 2.3, 3.5, 1.8, 3.5, 7.11, 7.33, 2.85, 2.75, 3.5, 1.2, 4.75, 2.1, 7.0, 8.0, 2.2, 1.79, 1.35, 6.5, 3.99, 6.75, 5.5, 5.25, 1.75, 1.95, 8.99, 8.1, 4.85, 4.5, 1.75, 1.9, 4.75, 4.5, 2.15, 2.5, 3.5, 1.2, 3.85, 5.8, 0.53, 1.2, 4.25, 6.0, 9.4, 4.5, 3.16, 2.78, 3.4, 5.35, 5.25, 2.6, 6.5, 2.96, 3.3, 2.9, 5.5, 5.5, 3.3, 2.64, 6.5, 4.15, 3.1, 4.67, 2.9, 5.75, 3.65, 2.44, 15.5, 4.0, 3.0, 1.6, 2.59, 6.25, 1.67, 1.85, 7.5, 7.25, 3.8, 8.9, 2.35, 8.09, 3.65, 3.9, 2.75, 6.6, 5.35, 6.3, 10.9, 2.9, 2.3, 2.3, 10.75, 4.5, 2.0, 6.5, 1.2, 14.5, 3.25, 1.0, 2.35, 2.3, 0.55, 2.8, 4.4, 6.2, 2.25, 9.5, 1.15, 6.6, 6.34, 3.75, 3.53, 2.5, 3.65, 3.51, 5.81, 4.5, 4.95, 6.75, 4.49, 3.5, 2.1, 6.98, 12.5, 3.3, 4.93, 2.9, 3.65, 2.5, 2.8, 2.15, 4.88, 3.57, 7.25, 6.15, 4.25, 4.4, 8.58, 4.95, 5.5, 4.25, 1.65, 1.95, 5.5, 6.6, 2.75, 2.7, 2.4, 13.5, 9.25, 2.15, 1.49, 3.75, 2.0, 3.8, 12.0, 3.9, 6.7, 5.5, 5.7, 1.85, 0.82, 5.8, 7.0, 3.62, 3.78, 7.54, 3.63, 3.75, 3.59, 3.34, 6.69, 3.75, 2.0, 2.8, 2.25, 5.1, 5.25, 1.65, 5.25, 5.7, 6.15, 5.25, 2.3, 2.25, 6.5, 3.0, 4.1, 3.85, 2.1, 4.0, 4.5, 2.85, 3.25, 6.29, 6.55, 3.9, 1.15, 4.25, 6.25, 3.25, 10.85, 0.51, 3.3, 6.0, 4.35, 2.25, 6.0, 1.7, 2.0, 4.9, 3.75, 4.3, 3.85, 2.5, 3.5, 2.35, 1.49, 1.0, 2.6, 11.75, 3.0, 3.95, 1.99, 1.7, 7.5, 5.4, 4.08, 6.0, 5.4, 5.63, 3.25, 5.65, 7.94, 5.64, 3.3, 7.95, 8.0, 3.51, 4.0, 5.87, 10.75, 3.88, 2.65, 4.65, 2.65, 3.1, 1.6, 12.25, 4.25, 17.9, 6.4, 6.35, 3.75, 8.75, 5.7, 4.5, 6.5, 4.15, 3.6, 5.5, 4.85, 2.1, 12.5, 7.31, 7.75, 6.75, 1.85, 1.3, 2.6, 22.0, 6.6, 5.05, 5.2, 2.78, 5.9, 20.0, 3.99, 7.75, 2.75, 4.35, 12.5, 4.2, 6.4, 4.5, 3.4, 3.2, 16.5, 2.2, 2.75, 5.5, 8.25, 0.8, 2.35, 7.11, 2.5, 14.52, 1.9, 28.85, 8.0, 4.32, 5.29, 5.0, 3.12, 7.0, 3.95, 5.9, 8.1, 2.45, 4.25, 2.3, 3.2, 2.65, 2.25, 17.92, 10.23, 5.45, 2.5, 9.23, 4.45, 9.9, 3.9, 4.6, 1.75, 5.45, 2.85, 2.21, 2.69, 5.0, 5.0, 2.5, 4.4, 1.2, 7.1, 2.4, 1.0, 4.75, 1.11, 0.95, 2.25, 2.75, 2.0, 2.9, 3.25, 5.8, 4.25, 2.3, 5.75, 18.5, 3.2, 6.0, 2.75, 1.8, 4.61, 7.25, 5.75, 2.9, 2.05, 3.21, 6.75, 2.0, 3.3, 5.5, 3.0, 4.95, 3.8, 5.27, 3.95, 3.8, 4.1, 4.25, 2.2, 9.58, 9.75, 3.5, 6.5, 3.35, 3.95, 3.9, 15.25, 3.65, 3.7, 4.8, 6.95, 4.5, 7.45, 3.3, 5.1, 3.0, 1.5, 3.3, 4.25, 2.6, 2.0, 6.2, 7.83, 4.0, 3.9, 4.75, 4.28, 10.95, 4.75, 9.0, 3.99, 4.83, 2.8, 4.58, 1.5, 6.86, 7.34, 1.81, 7.65, 2.8, 2.96, 2.95, 5.35, 5.25, 3.45, 2.27, 2.15, 1.7, 4.6, 3.25, 0.9, 2.1, 2.1, 11.85, 2.59, 5.1, 0.77, 1.3, 1.12, 4.75, 1.8, 3.0, 4.0, 1.55, 4.25, 8.85, 4.75, 5.45, 4.5, 3.88, 2.85, 2.0, 4.0, 12.0, 2.5, 7.45, 4.0, 1.3, 3.0, 6.0, 3.5, 3.29, 12.25, 3.15, 2.0, 1.5, 2.1, 0.55, 3.65, 1.8, 8.25, 2.0, 8.25, 0.65, 3.8, 0.95, 9.43, 2.83, 3.9, 1.1, 1.85, 2.9, 3.82, 3.29, 6.13, 5.85, 5.55, 1.1, 8.0, 2.65, 4.69, 6.25, 5.3, 5.11, 2.4, 7.2, 5.9, 2.1, 3.0, 3.55, 2.15, 1.95, 4.79, 4.5, 20.0, 1.6, 5.75, 2.15, 2.4, 4.7, 4.9, 2.7, 2.9, 14.45, 9.7, 5.45, 5.19, 3.97, 4.8, 5.0, 3.9, 2.9, 9.32, 6.17, 8.14, 1.5, 7.0, 2.95, 4.15, 3.37, 5.5, 2.5, 3.77, 14.0, 2.6, 5.95, 2.25, 4.8, 4.9, 2.3, 1.02, 3.6, 5.86, 5.25, 6.75, 6.95, 1.95, 3.6, 1.2, 4.85, 3.95, 7.0, 2.75, 4.4, 6.75, 6.25, 1.99, 4.8, 9.85, 3.2, 6.75, 2.0, 1.5, 3.7, 4.4, 2.9, 2.5, 2.8, 11.73, 3.45, 5.63, 8.38, 7.06, 9.5, 3.25, 3.1, 5.25, 4.2, 4.0, 5.65, 11.99, 4.05, 5.17, 16.5, 14.5, 5.75, 3.55, 4.65, 6.5, 3.6, 3.9, 1.25, 2.6, 7.9, 4.0, 5.6, 1.2, 6.75, 7.25, 4.5, 4.75, 5.0, 7.0, 7.2, 4.05, 6.25, 5.5, 2.25, 6.3, 2.5, 3.8, 16.5, 2.2, 6.9, 2.0, 6.15, 4.83, 2.2, 2.6, 4.0, 0.85, 2.95, 5.7, 1.65, 4.12, 6.9, 4.96, 5.5, 15.96, 3.0, 5.5, 5.68, 2.45, 2.1, 2.49, 4.15, 2.49, 1.45, 2.35, 4.9, 6.4, 6.8, 3.25, 2.46, 2.19, 3.47, 3.85, 4.91, 4.45, 1.5, 1.7, 3.5, 5.7, 2.7, 4.25, 3.6, 2.95, 4.45, 2.75, 5.5, 1.95, 5.49, 5.75, 9.44, 3.39, 8.11, 0.75, 6.2, 2.97, 3.25, 5.53, 3.85, 3.5, 3.8, 2.1, 2.1, 3.16, 2.1, 2.81, 4.45, 5.8, 8.36, 7.5, 9.75, 6.55, 7.4, 9.45, 5.48, 6.79, 3.25, 3.28, 0.8, 8.36, 3.15, 4.7, 2.15, 3.25, 3.32, 4.8, 4.25, 2.75, 1.95, 18.9, 6.99, 5.0, 4.8, 11.75, 1.59, 3.99, 5.31, 2.5, 3.0, 2.4, 2.65, 16.1, 2.5, 6.4, 1.5, 6.0, 2.5, 7.21, 5.5, 4.9, 4.55, 7.65, 0.44, 5.5, 4.0, 5.5, 5.75, 3.1, 3.9, 2.4, 4.5, 1.4, 2.05, 5.2, 3.5, 7.75, 2.8, 3.75, 3.9, 15.0, 1.39, 5.95, 0.65, 3.27, 5.1, 2.4, 4.99, 10.0, 6.2, 3.0, 2.71, 1.25, 16.13, 3.5, 3.21, 3.65, 18.75, 15.5, 6.0, 3.8, 5.67, 7.52, 3.71, 2.9, 3.65, 3.96, 6.22, 10.46, 5.2, 5.6, 5.02, 5.45, 2.75, 3.65, 5.5, 3.67, 2.44, 1.45, 3.76, 5.7, 4.57, 6.0, 3.5, 4.85, 3.1, 4.25, 2.65, 1.11, 7.25, 4.25, 6.5, 2.39, 2.85, 3.1, 4.1, 5.99, 4.15, 5.2, 2.9, 6.8, 3.61, 7.75, 7.12, 6.57, 3.67, 3.96, 13.55, 11.9, 2.45, 2.45, 5.65, 3.1, 5.35, 7.69, 3.25, 9.58, 5.1, 6.09, 7.77, 1.99, 2.95, 3.25, 6.5, 3.71, 1.85, 4.5, 3.25, 2.7, 6.75, 6.11, 3.35, 8.15, 1.25, 2.05, 5.11, 1.75, 8.2, 1.2, 4.5, 5.5, 4.25, 1.5, 4.2, 3.3, 4.35, 4.9, 11.05, 6.08, 9.75, 5.9, 6.32, 6.8, 2.85, 7.5, 6.95, 5.95, 5.6, 2.95, 6.5, 5.95, 2.1, 7.52, 1.8, 2.6, 7.95, 2.3, 2.75, 4.9, 7.9, 5.22, 2.95, 4.85, 8.31, 8.8, 5.75, 4.57, 10.75, 4.15, 6.6, 3.45, 9.8, 2.65, 4.45, 6.1, 4.25, 3.2, 7.25, 6.3, 2.4, 5.0, 7.75, 6.25, 1.65, 5.35, 3.5, 2.1, 2.11, 2.5, 3.75, 1.1, 3.0, 1.25, 2.8, 2.7, 4.6, 5.7, 1.25, 7.75, 4.5, 4.65, 7.75, 6.75, 10.25, 2.1, 2.25, 5.3, 6.14, 5.53, 10.5, 5.39, 8.94, 2.95, 5.38, 7.53, 4.2, 6.82, 6.4, 5.85, 4.75, 1.52, 2.15, 7.05, 4.4, 7.99, 2.7, 5.25, 2.6, 4.57, 6.0, 3.25, 2.9, 3.89, 2.15, 2.98, 3.3, 9.5, 1.65, 3.4, 4.35, 1.25, 2.9, 5.35, 5.21, 7.19, 3.59, 3.32, 8.07, 4.5, 10.5, 4.95, 3.3, 4.11, 6.24, 2.6, 5.49, 5.1, 4.49, 5.43, 4.54, 2.98, 6.12, 5.5, 1.15, 4.09, 1.95, 4.75, 13.78, 6.0, 2.5, 4.85, 2.7, 3.0, 5.45, 0.55, 2.75, 1.99, 2.3, 2.5, 3.2, 1.35, 2.65, 3.7, 2.1, 5.75, 4.15, 5.45, 3.95, 1.35, 8.65, 4.95, 1.9, 3.5, 2.25, 2.25, 1.4, 3.25, 5.9, 3.25, 3.1, 6.0, 4.0, 2.45, 6.99, 4.0, 5.5, 1.45, 7.9, 4.8, 3.15, 2.65, 2.95, 2.74, 2.59, 4.75, 3.25, 1.65, 6.25, 3.5, 3.9, 6.25, 4.35, 2.95, 4.0, 2.25, 8.0, 3.55, 10.85, 3.4, 1.99, 7.5, 5.49, 6.9, 6.46, 1.97, 4.78, 11.62, 13.28, 5.6, 6.85, 3.1, 1.26, 3.69, 7.53, 4.16, 3.25, 2.7, 2.6, 4.25, 5.29, 8.5, 2.25, 9.46, 2.58, 2.96, 4.9, 4.75, 5.75, 0.75, 7.5, 6.0, 0.99, 23.0, 3.45, 2.32, 2.85, 2.71, 12.75, 6.5, 3.25, 4.1, 9.25, 6.5, 5.4, 9.05, 6.25, 3.45, 1.99, 5.64, 3.32, 6.91, 4.4, 4.74, 7.14, 3.49, 2.75, 6.25, 3.41, 3.9, 6.16, 5.5, 4.9, 5.39, 1.95, 5.0, 4.45, 2.45, 7.5, 2.45, 4.64, 4.8, 5.8, 2.95, 6.7, 4.25, 5.75, 5.75, 4.95, 5.85, 3.95, 7.55, 3.0, 1.5, 5.25, 2.1, 3.99, 4.59, 5.5, 5.2, 7.9, 4.99, 7.5, 7.5, 2.5, 1.51, 5.47, 8.1, 3.25, 3.0, 4.0, 4.0, 2.5, 5.75, 6.5, 5.9, 5.95, 4.45, 4.5, 5.5, 6.39, 12.5, 16.08, 5.5, 4.3, 3.84, 5.04, 4.31, 6.69, 12.83, 2.75, 5.25, 5.75, 6.73, 3.39, 4.25, 2.1, 4.5, 6.5, 8.87, 4.0, 3.09, 10.19, 4.38, 5.54, 5.35, 2.25, 12.45, 3.89, 0.5, 3.75, 3.95, 6.35, 5.5, 5.48, 6.35, 6.6, 7.0, 4.99, 3.45, 5.49, 4.61, 18.0, 5.75, 2.1, 6.0, 4.25, 4.41, 6.54, 4.1, 7.2, 1.55, 10.31, 3.61, 5.39, 5.85, 7.2, 15.54, 5.84, 3.9, 2.9, 4.65, 6.63, 7.57, 4.57, 4.17, 35.82, 2.4, 5.15, 4.25, 9.75, 3.12, 6.92, 4.95, 6.1, 7.0, 3.45, 7.5, 3.2, 2.15, 2.79, 3.5, 2.1, 2.21, 4.25, 5.75, 1.25, 2.45, 2.85, 1.4, 2.25, 17.25, 1.8, 3.35, 7.25, 5.7, 4.76, 6.95, 9.65, 7.52, 5.5, 12.15, 8.3, 4.3, 8.48, 2.49, 6.98, 1.65, 8.25, 4.25, 2.65, 2.87, 4.75, 3.9, 2.78, 3.47, 3.11, 3.31, 1.45, 6.35, 3.7, 2.75, 4.25, 2.2, 5.65, 8.0, 6.5, 4.75, 3.7, 5.9, 4.2, 9.5, 2.25, 3.95, 11.11, 2.35, 9.8, 1.75, 7.1, 2.61, 6.0, 1.59, 8.5, 4.21, 7.8, 7.5, 2.65, 4.25, 4.9, 5.99, 12.0, 9.51, 8.5, 0.7, 3.1, 2.4, 2.99, 3.5, 4.25, 5.84, 7.5, 6.1, 4.3, 3.75, 5.2, 2.9, 5.0, 5.64, 4.7, 1.65, 4.82, 2.5, 7.5, 2.45, 3.75, 3.69, 2.5, 6.67, 6.63, 2.5, 6.25, 5.99, 5.5, 2.65, 4.1, 2.95, 3.7, 6.0, 13.54, 8.4, 4.29, 4.28, 7.67, 6.25, 3.51, 4.5, 3.33, 5.0, 5.55, 7.64, 5.75, 2.2, 1.95, 2.75, 2.55, 4.25, 16.5, 13.0, 4.9, 7.75, 3.05, 5.5, 6.0, 3.7, 5.0, 2.95, 6.5, 3.3, 5.95, 3.6, 1.1, 4.5, 3.2, 3.25, 6.0, 5.45, 3.5, 2.69, 10.77, 3.07, 7.56, 2.7, 4.2, 6.55, 8.44, 5.0, 5.36, 0.63, 5.45, 16.42, 7.0, 11.95, 4.35, 12.13, 6.0, 4.7, 3.3, 2.74, 11.64, 4.4, 5.95, 1.95, 5.0, 2.35, 5.8, 3.3, 6.95, 2.85, 3.9, 6.25, 2.75, 5.5, 9.75, 3.26, 4.0, 3.2, 5.65, 2.35, 9.5, 6.02, 3.82, 4.85, 4.58, 3.2, 7.26, 4.35, 12.26, 4.65, 4.65, 5.25, 3.01, 5.36, 2.47, 14.82, 10.15, 7.97, 8.5, 3.25, 4.04, 2.0, 6.25, 2.9, 4.5, 4.56, 1.75, 1.75, 7.78, 6.0, 7.5, 5.49, 6.5, 9.87, 6.2, 6.45, 3.1, 5.95, 5.25, 20.0, 3.5, 4.85, 2.6, 3.75, 6.5, 2.6, 2.8, 4.25, 2.7, 11.5, 6.5, 3.8, 5.45, 5.95, 2.0, 3.5, 3.45, 2.25, 2.45, 2.4, 3.5, 1.3, 2.41, 4.1, 5.99, 3.95, 6.2, 3.75, 6.9, 3.25, 3.65, 5.25, 6.9, 17.5, 0.5, 2.75, 3.55, 6.75, 3.46, 8.62, 4.25, 12.46, 3.9, 5.5, 5.4, 3.9, 6.45, 8.43, 5.68, 3.04, 7.11, 3.47, 5.27, 5.95, 5.98, 3.2, 2.6, 2.5, 10.4, 5.5, 2.25, 4.94, 2.93, 3.2, 8.49, 5.66, 2.65, 3.76, 4.72, 3.4, 7.75, 3.48, 9.2, 6.5, 2.65, 5.65, 3.9, 2.5, 3.85, 13.25, 4.2, 2.85, 5.25, 3.1, 2.2, 4.9, 3.1, 18.5, 3.2, 1.75, 3.75, 4.74, 6.45, 1.95, 1.15, 7.95, 6.68, 6.32, 2.0, 3.54, 3.65, 4.06, 4.69, 5.53, 3.35, 4.77, 3.87, 10.36, 13.3, 1.9, 3.41, 8.63, 4.02, 5.45, 2.75, 1.1, 4.3, 0.85, 3.0, 2.35, 3.5, 3.0, 15.65, 3.0, 5.0, 4.3, 3.65, 4.7, 6.5, 3.25, 5.7, 0.75, 1.94, 4.0, 4.95, 12.0, 3.25, 1.5, 2.5, 8.5, 3.7, 11.5, 0.7, 5.5, 4.75, 4.0, 5.5, 5.75, 8.7, 2.5, 6.2, 3.8, 4.8, 3.3, 5.27, 4.11, 4.95, 6.2, 4.18, 8.42, 7.17, 6.0, 7.36, 4.26, 4.86, 6.0, 7.46, 4.51, 4.4, 4.4, 4.07, 2.3, 2.88, 4.5, 5.9, 4.45, 8.95, 9.0, 6.9, 2.3, 3.2, 2.75, 1.4, 0.9, 4.75, 1.6, 4.9, 3.0, 5.21, 11.88, 6.35, 4.3, 4.25, 3.91, 6.25, 3.87, 3.22, 2.85, 2.5, 3.26, 3.5, 3.4, 7.65, 9.0, 11.82, 4.5, 1.8, 9.0, 4.65, 21.69, 4.85, 6.7, 3.1, 5.49, 7.25, 4.98, 6.75, 9.45, 5.95, 4.75, 20.25, 6.0, 6.5, 4.5, 3.7, 5.25, 3.25, 2.75, 4.5, 3.0, 3.25, 2.11, 5.2, 3.4, 1.8, 11.75, 4.89, 7.4, 6.04, 1.7, 5.25, 5.72, 6.5, 2.45, 2.29, 5.25, 4.49, 5.6, 13.82, 4.52, 2.9, 1.2, 8.85, 11.0, 5.09, 9.35, 1.2, 2.85, 28.42, 11.31, 5.99, 7.0, 6.95, 4.5, 9.43, 3.67, 3.72, 4.5, 1.46, 2.95, 6.0, 3.25, 4.1, 3.5, 4.25, 3.9, 3.95, 4.35, 2.8, 12.8, 4.0, 11.25, 4.15, 1.4, 2.65, 2.5, 4.5, 3.75, 5.77, 6.45, 2.35, 3.61, 3.42, 16.59, 3.95, 3.19, 3.63, 2.55, 7.25, 0.99, 2.7, 7.75, 6.95, 4.25, 6.84, 4.4, 4.94, 4.5, 3.3, 5.3, 5.53, 4.63, 5.49, 4.85, 3.1, 5.86, 8.92, 5.5, 6.98, 5.71, 2.4, 5.1, 6.95, 2.35, 4.95, 8.45, 5.9, 2.65, 6.75, 4.45, 4.5, 3.05, 5.5, 3.11, 12.9, 2.22, 4.15, 4.75, 11.0, 5.56, 1.87, 7.5, 5.34, 2.42, 7.2, 2.74, 5.85, 8.25, 2.2, 11.73, 3.1, 1.17, 4.75, 7.48, 3.39, 5.75, 10.88, 9.38, 6.85, 6.99, 4.3, 2.8, 2.25, 0.9, 7.75, 6.5, 6.75, 6.0, 3.7, 2.95, 3.0, 9.48, 2.55, 7.15, 3.65, 5.0, 3.49, 2.4, 9.75, 3.0, 7.0, 7.5, 2.0, 4.75, 8.9, 6.85, 2.6, 6.75, 3.25, 5.5, 3.65, 1.75, 2.99, 23.0, 3.55, 3.6, 2.48, 1.99, 3.3, 3.25, 4.75, 3.55, 3.99, 5.5, 20.0, 7.9, 0.95, 3.85, 13.25, 3.3, 3.75, 7.0, 3.25, 7.35, 6.25, 3.65, 4.55, 1.9, 2.5, 4.8, 4.75, 5.25, 2.25, 3.45, 3.25, 12.13, 13.35, 5.41, 4.94, 4.89, 5.1, 4.34, 6.93, 4.07, 4.65, 5.6, 7.3, 13.25, 3.85, 6.1, 3.8, 2.3, 7.47, 5.99, 6.72, 3.99, 4.0, 1.6, 1.5, 5.88, 2.9, 5.35, 4.9, 1.75, 5.75, 7.35, 12.5, 2.65, 1.55, 7.25, 4.3, 4.35, 3.45, 6.8, 4.33, 6.75, 2.45, 3.52, 8.27, 13.54, 6.35, 4.3, 1.75, 4.0, 5.8, 8.15, 3.16, 3.55, 4.25, 6.6, 3.32, 6.22, 4.5, 0.99, 18.6, 7.61, 7.35, 6.85, 5.25, 3.5, 4.65, 6.01, 1.92, 2.1, 7.0, 8.2, 7.75, 9.25, 3.75, 5.95, 2.13, 18.65, 4.21, 4.5, 5.5, 1.99, 2.49, 11.52, 5.59, 4.27, 7.11, 10.17, 6.33, 2.4, 3.6, 4.99, 3.2, 5.05, 5.27, 1.4, 7.75, 5.5, 6.15, 4.0, 2.9, 4.79, 3.85, 12.0, 7.48, 4.3, 19.46, 3.6, 2.19, 4.25, 3.25, 0.99, 3.35, 1.68, 5.45, 4.75, 7.75, 2.4, 5.1, 9.25, 4.75, 3.75, 6.25, 5.8, 3.45, 2.3, 1.3, 5.5, 5.5, 5.85, 3.6, 8.0, 5.94, 1.45, 4.3, 1.09, 3.0, 3.5, 3.6, 9.9, 6.25, 0.75, 4.5, 12.0, 3.41, 6.14, 3.3, 15.57, 13.52, 7.11, 4.7, 12.5, 4.55, 10.99, 10.82, 2.25, 7.99, 5.0, 5.9, 3.95, 9.3, 3.38, 10.94, 2.5, 9.9, 7.4, 4.4, 1.38, 2.7, 3.4, 8.4, 4.87, 4.5, 2.65, 11.9, 4.25, 3.0, 5.5, 3.25, 7.7, 8.0, 9.5, 3.25, 3.14, 12.5, 3.1, 8.0, 3.1, 3.5, 3.25, 5.85, 4.75, 8.5, 4.0, 5.76, 5.47, 7.9, 6.3, 2.65, 8.15, 7.1, 2.65, 13.28, 3.5, 7.8, 5.5, 2.75, 7.09, 2.8, 8.0, 6.9, 7.22, 5.55, 4.25, 6.36, 13.75, 4.76, 6.17, 2.0, 4.0, 4.9, 7.0, 7.85, 4.45, 4.0, 3.55, 2.9, 5.25, 5.9, 8.25, 15.9, 18.75, 6.95, 2.49, 5.0, 3.95, 1.8, 5.25, 3.25, 6.49, 2.0, 11.5, 4.5, 5.75, 2.35, 4.25, 7.9, 1.1, 1.7, 3.15, 1.35, 6.56, 32.1, 3.89, 3.5, 4.5, 7.38, 5.64, 1.59, 4.68, 14.25, 1.99, 7.49, 2.85, 3.25, 2.75, 5.83, 5.15, 4.95, 12.63, 2.25, 6.58, 4.52, 14.7, 9.48, 2.6, 2.85, 5.8, 5.49, 5.5, 2.75, 1.5, 3.99, 6.25, 2.6, 3.05, 6.3, 9.49, 6.95, 8.45, 2.5, 3.75, 6.46, 3.41, 6.21, 4.05, 2.85, 12.6, 3.2, 4.92, 5.87, 7.68, 23.86, 5.0, 6.26, 7.87, 6.17, 3.96, 7.85, 7.39, 2.59, 9.13, 7.51, 9.18, 6.69, 8.5, 2.4, 12.53, 1.95, 4.05, 7.65, 5.22, 1.55, 5.2, 10.7, 3.91, 2.15, 3.9, 6.21, 2.0, 1.75, 4.1, 1.1, 7.8, 5.95, 2.23, 2.8, 2.25, 3.11, 8.7, 7.99, 2.75, 3.55, 3.49, 2.6, 5.95, 3.25, 7.85, 17.65, 3.69, 9.19, 4.8, 4.85, 2.35, 5.2, 12.4, 7.59, 7.57, 7.88, 6.14, 6.22, 6.28, 6.64, 3.4, 9.9, 5.89, 1.89, 3.22, 7.29, 4.9, 5.75, 1.74, 6.75, 13.69, 7.43, 9.46, 5.44, 16.8, 13.39, 1.8, 3.45, 16.9, 5.25, 2.8, 11.0, 5.1, 2.35, 2.95, 6.5, 2.2, 5.25, 2.8, 3.25, 2.1, 7.75, 11.25, 9.3, 5.75, 6.45, 3.5, 4.85, 1.0, 6.3, 2.65, 4.8, 6.8, 3.64, 10.49, 8.77, 5.64, 12.49, 8.8, 4.72, 3.02, 4.38, 4.29, 6.71, 5.0, 3.3, 7.49, 2.65, 12.34, 2.7, 3.1, 3.08, 9.75, 7.73, 4.32, 2.95, 5.44, 6.41, 4.5, 8.85, 8.0, 1.95, 4.9, 10.25, 4.7, 2.5, 5.0, 3.7, 3.9, 10.0, 4.95, 7.5, 3.25, 4.95, 4.9, 3.2, 3.25, 6.35, 9.51, 30.42, 1.89, 5.95, 7.27, 2.3, 4.74, 13.34, 7.32, 6.87, 4.2, 8.61, 3.85, 4.27, 8.0, 1.88, 11.13, 2.59, 6.61, 2.21, 5.99, 6.54, 8.19, 3.0, 3.5, 1.36, 4.5, 4.5, 6.5, 3.8, 4.6, 7.0, 9.9, 2.85, 1.85, 8.5, 1.7, 15.0, 1.5, 4.65, 4.88, 7.4, 4.43, 1.6, 1.5, 12.75, 2.3, 3.15, 2.75, 4.75, 5.25, 6.25, 3.49, 2.65, 8.25, 3.0, 5.5, 3.1, 3.4, 3.9, 4.01, 3.15, 5.49, 2.6, 3.7, 10.49, 2.9, 2.9, 6.9, 5.35, 6.24, 5.5, 5.5, 5.4, 3.74, 2.79, 5.43, 3.7, 4.01, 4.95, 5.75, 8.02, 3.4, 4.95, 2.25, 3.4, 8.45, 8.45, 2.19, 5.75, 10.0, 8.09, 14.29, 5.09, 4.7, 3.74, 3.2, 14.6, 22.2, 8.12, 6.22, 3.1, 5.5, 3.59, 4.5, 6.58, 6.21, 3.19, 5.84, 2.39, 3.25, 19.05, 6.26, 7.39, 6.85, 3.25, 9.25, 3.24, 8.5, 1.75, 6.5, 6.96, 9.65, 7.0, 4.75, 9.25, 7.7, 3.99, 5.6, 3.25, 4.05, 4.65, 3.95, 8.34, 2.75, 3.6, 7.9, 4.64, 2.05, 4.5, 2.55, 6.46, 3.68, 6.28, 9.28, 3.71, 3.15, 3.87, 5.77, 8.39, 3.75, 4.05, 5.75, 3.0, 3.95, 2.8, 6.83, 8.61, 10.79, 8.25, 3.26, 4.25, 3.25, 9.25, 6.17, 2.4, 4.25, 4.25, 3.85, 2.55, 0.9, 4.95, 8.5, 10.25, 2.07, 5.5, 2.15, 5.5, 4.35, 5.3, 4.8, 9.5, 2.65, 2.1, 4.65, 9.75, 3.6, 5.65, 4.3, 3.89, 3.55, 3.75, 4.69, 4.7, 3.65, 8.24, 5.34, 6.45, 5.75, 7.85, 6.5, 4.66, 7.9, 1.99, 3.42, 5.53, 5.9, 21.42, 6.5, 3.9, 5.0, 5.75, 3.6, 5.65, 7.15, 2.61, 7.25, 3.0, 4.9, 10.5, 1.75, 2.7, 2.25, 5.0, 7.75, 5.0, 16.95, 19.85, 9.0, 2.15, 4.95, 9.5, 6.25, 3.48, 5.84, 2.49, 3.38, 4.45, 2.9, 2.25, 14.28, 12.81, 2.99, 8.45, 1.45, 6.1, 6.3, 7.29, 5.81, 4.65, 3.05, 2.65, 7.79, 3.75, 2.1, 3.25, 6.0, 8.0, 6.7, 1.6, 3.1, 6.0, 3.2, 6.95, 5.95, 3.25, 2.5, 7.75, 5.25, 7.75, 2.8, 10.75, 5.0, 5.5, 3.2, 3.75, 4.9, 8.75, 3.5, 12.25, 6.0, 3.3, 6.55, 3.25, 8.99, 6.0, 2.3, 3.35, 16.36, 4.85, 3.29, 5.3, 6.43, 6.3, 6.0, 2.44, 7.9, 4.15, 10.25, 4.31, 7.46, 13.48, 3.9, 7.7, 4.87, 5.84, 3.25, 13.0, 3.45, 3.2, 5.75, 6.5, 8.35, 1.75, 6.5, 6.5, 8.75, 4.25, 4.0, 2.35, 10.0, 7.0, 1.6, 12.6, 6.5, 19.0, 5.99, 5.95, 6.64, 17.02, 6.7, 6.18, 9.74, 11.0, 2.6, 5.53, 2.4, 9.66, 3.5, 5.95, 6.95, 13.05, 8.4, 4.74, 5.12, 2.15, 4.94, 5.55, 7.72, 5.25, 5.07, 5.6, 7.1, 7.1, 5.75, 10.91, 13.75, 10.0, 3.4, 2.65, 3.25, 6.25, 4.65, 2.65, 8.75, 4.73, 3.55, 2.85, 5.95, 5.0, 5.85, 5.45, 3.28, 4.95, 3.31, 14.19, 4.75, 6.27, 7.0, 9.47, 5.85, 6.37, 1.95, 1.6, 4.95, 8.15, 6.75, 2.19, 4.5, 15.0, 8.3, 4.35, 4.5, 5.27, 3.5, 4.5, 12.9, 5.9, 7.95, 4.45, 8.0, 6.95, 5.99, 6.5, 6.16, 6.9, 3.0, 4.45, 11.39, 5.75, 2.35, 10.08, 8.61, 5.67, 3.79, 4.99, 5.86, 8.9, 2.8, 1.2, 4.25, 10.75, 2.75, 4.29, 2.15, 2.9, 7.98, 17.55, 5.43, 1.97, 10.0, 2.55, 12.5, 9.5, 3.0, 5.0, 4.25, 4.25, 26.0, 1.5, 2.6, 7.5, 6.2, 8.99, 9.75, 3.75, 5.5, 6.5, 6.99, 5.35, 6.2, 5.84, 2.13, 2.62, 6.85, 3.15, 9.95, 4.29, 3.5, 7.0, 2.15, 3.55, 5.9, 7.83, 3.25, 7.09, 2.55, 5.9, 10.34, 6.2, 3.35, 8.22, 8.26, 3.75, 17.11, 6.48, 7.76, 7.74, 3.5, 2.99, 5.5, 6.15, 3.95, 2.75, 6.9, 8.0, 5.0, 6.75, 2.75, 2.75, 2.65, 1.25, 5.15, 5.99, 26.0, 4.25, 3.8, 8.65, 5.65, 8.3, 1.75, 5.35, 9.0, 7.66, 13.37, 16.27, 5.6, 6.21, 7.5, 2.87, 7.07, 2.36, 2.9, 13.5, 7.9, 20.4, 3.0, 11.0, 8.18, 3.7, 2.44, 4.65, 6.7, 3.46, 9.18, 2.01, 4.1, 6.2, 5.75, 4.0, 4.25, 11.51, 2.95, 6.2, 8.2, 3.1, 5.21, 2.8, 3.5, 8.4, 7.75, 5.38, 11.87, 3.46, 3.0, 6.57, 8.25, 3.52, 5.1, 6.02, 3.9, 3.75, 6.5, 4.5, 12.03, 11.65, 2.39, 5.49, 5.6, 6.9, 7.0, 4.95, 1.5, 4.25, 1.9, 4.5, 7.05, 4.9, 6.5, 5.6, 7.0, 4.44, 6.9, 6.19, 6.14, 7.53, 5.55, 8.5, 7.8, 5.99, 7.23, 4.95, 6.5, 8.75, 4.25, 3.55, 0.8, 5.58, 3.65, 16.5, 2.6, 8.25, 3.8, 4.8, 4.75, 6.29, 4.25, 4.5, 7.85, 7.95, 3.7, 4.11, 2.25, 16.0, 3.95, 3.7, 8.75, 5.11, 9.88, 4.95, 6.42, 3.35, 3.38, 3.01, 8.9, 6.16, 6.0, 4.55, 4.0, 2.9, 9.44, 9.66, 8.78, 5.38, 5.25, 2.75, 4.9, 2.79, 0.95, 3.75, 6.21, 4.75, 6.3, 3.75, 3.75, 10.9, 8.75, 2.35, 7.27, 2.78, 2.25, 4.3, 5.92, 6.25, 6.94, 6.07, 6.37, 7.58, 2.6, 5.4, 2.0, 5.6, 6.34, 7.64, 2.66, 16.09, 4.35, 3.5, 6.22, 8.46, 5.5, 5.98, 6.0, 3.5, 8.5, 16.5, 2.66, 3.75, 4.5, 3.85, 7.9, 6.75, 4.5, 9.0, 2.3, 1.74, 5.04, 4.5, 6.95, 3.8, 1.53, 13.12, 6.15, 5.85, 2.85, 8.25, 8.42, 24.5, 8.35, 5.89, 2.7, 3.8, 5.25, 3.0, 5.91, 2.99, 5.25, 5.25, 4.95, 7.25, 9.25, 5.55, 5.0, 4.75, 7.71, 1.25, 8.32, 6.22, 7.56, 8.51, 7.93, 9.18, 6.25, 5.75, 6.17, 7.25, 4.5, 11.31, 6.26, 1.0, 4.12, 2.3, 3.0, 4.9, 3.35, 2.25, 2.5, 2.85, 8.25, 4.4, 1.0, 7.5, 5.32, 8.5, 7.97, 3.65, 8.7, 11.94, 6.35, 7.21, 9.62, 6.0, 9.75, 3.1, 5.9, 5.84, 5.65, 8.4, 5.4, 1.46, 3.15, 5.65, 7.65, 6.9, 9.2, 8.25, 4.25, 6.5, 2.1, 4.9, 3.1, 3.6, 3.87, 6.99, 6.06, 1.6, 6.79, 5.85, 5.5, 7.65, 9.31, 3.3, 3.75, 5.0, 11.5, 10.36, 5.5, 7.83, 18.5, 5.75, 6.95, 5.4, 4.35, 2.99, 7.77, 9.96, 6.25, 12.49, 2.25, 5.65, 3.75, 3.58, 3.36, 6.4, 7.5, 5.11, 4.75, 3.69, 3.75, 9.29, 6.37, 17.5, 6.05, 7.1, 2.35, 2.25, 8.0, 4.25, 8.9, 3.65, 4.9, 3.9, 3.75, 7.4, 6.27, 5.85, 5.37, 5.37, 2.47, 5.48, 4.4, 4.14, 5.6, 6.99, 27.36, 8.11, 14.5, 5.65, 6.69, 4.23, 7.32, 3.47, 3.95, 6.59, 7.4, 5.75, 9.25, 5.25, 7.5, 9.9, 4.9, 3.0, 5.95, 4.6, 2.8, 3.2, 11.25, 4.6, 6.44, 8.2, 9.5, 4.41, 4.75, 3.75, 8.91, 6.45, 4.7, 12.0, 6.8, 3.15, 4.06, 9.11, 3.5, 6.6, 10.9, 5.15, 4.65, 10.5, 8.92, 3.25, 7.67, 2.4, 5.8, 3.5, 2.75, 4.15, 3.0, 4.65, 11.88, 4.9, 6.75, 5.5, 5.5, 3.25, 12.75, 5.4, 4.5, 8.5, 0.45, 5.8, 3.65, 11.0, 2.45, 7.75, 3.1, 5.5, 6.1, 3.5, 7.3, 10.28, 2.25, 10.07, 8.9, 2.75, 3.8, 14.25, 22.55, 2.35, 8.5, 3.35, 2.9, 3.95, 6.1, 7.95, 3.9, 6.75, 8.0, 9.4, 5.95, 1.4, 6.35, 4.75, 6.51, 3.5, 9.18, 5.9, 4.7, 6.51, 6.03, 6.75, 10.95, 4.99, 6.5, 40.0, 4.0, 5.85, 3.5, 5.5, 4.5, 6.5, 13.2, 2.75, 5.88, 3.5, 2.95, 5.75, 2.95, 8.0, 5.75, 5.15, 6.85, 5.75, 5.5, 8.5, 13.0, 3.55, 19.92, 7.34, 2.55, 13.56, 3.2, 3.42, 5.49, 4.8, 5.0, 35.0, 3.21, 4.4, 3.0, 7.9, 6.75, 3.75, 7.5, 3.8, 8.76, 6.15, 11.15, 5.0, 4.35, 3.59, 5.7, 6.9, 3.6, 5.35, 17.45, 3.0, 7.65, 7.2, 4.75, 5.09, 3.6, 23.91, 11.54, 8.25, 5.95, 7.25, 6.7, 2.5, 7.5, 2.7, 16.5, 0.8, 11.92, 2.8, 8.2, 8.65, 3.98, 11.45, 6.5, 3.5, 10.11, 6.95, 8.7, 9.22, 3.6, 4.11, 3.0, 1.2, 4.8, 4.8, 1.38, 3.15, 4.8, 8.25, 3.0, 5.55, 5.2, 6.45, 6.8, 14.01, 7.9, 3.5, 8.75, 8.41, 3.3, 12.75, 8.25, 2.3, 2.75, 3.6, 8.2, 8.7, 7.75, 8.65, 4.45, 5.1, 4.29, 6.0, 4.7, 13.5, 7.55, 7.23, 7.5, 8.6, 5.68, 6.8, 3.4, 6.36, 6.5, 3.6], \"yaxis\": \"y\"}],\n",
              "                        {\"legend\": {\"tracegroupgap\": 0}, \"template\": {\"data\": {\"bar\": [{\"error_x\": {\"color\": \"#2a3f5f\"}, \"error_y\": {\"color\": \"#2a3f5f\"}, \"marker\": {\"line\": {\"color\": \"#E5ECF6\", \"width\": 0.5}}, \"type\": \"bar\"}], \"barpolar\": [{\"marker\": {\"line\": {\"color\": \"#E5ECF6\", \"width\": 0.5}}, \"type\": \"barpolar\"}], \"carpet\": [{\"aaxis\": {\"endlinecolor\": \"#2a3f5f\", \"gridcolor\": \"white\", \"linecolor\": \"white\", \"minorgridcolor\": \"white\", \"startlinecolor\": \"#2a3f5f\"}, \"baxis\": {\"endlinecolor\": \"#2a3f5f\", \"gridcolor\": \"white\", \"linecolor\": \"white\", \"minorgridcolor\": \"white\", \"startlinecolor\": \"#2a3f5f\"}, \"type\": \"carpet\"}], \"choropleth\": [{\"colorbar\": {\"outlinewidth\": 0, \"ticks\": \"\"}, \"type\": \"choropleth\"}], \"contour\": [{\"colorbar\": {\"outlinewidth\": 0, \"ticks\": \"\"}, \"colorscale\": [[0.0, \"#0d0887\"], [0.1111111111111111, \"#46039f\"], [0.2222222222222222, \"#7201a8\"], [0.3333333333333333, \"#9c179e\"], [0.4444444444444444, \"#bd3786\"], [0.5555555555555556, \"#d8576b\"], [0.6666666666666666, \"#ed7953\"], [0.7777777777777778, \"#fb9f3a\"], [0.8888888888888888, \"#fdca26\"], [1.0, \"#f0f921\"]], \"type\": \"contour\"}], \"contourcarpet\": [{\"colorbar\": {\"outlinewidth\": 0, \"ticks\": \"\"}, \"type\": \"contourcarpet\"}], \"heatmap\": [{\"colorbar\": {\"outlinewidth\": 0, \"ticks\": \"\"}, \"colorscale\": [[0.0, \"#0d0887\"], [0.1111111111111111, \"#46039f\"], [0.2222222222222222, \"#7201a8\"], [0.3333333333333333, \"#9c179e\"], [0.4444444444444444, \"#bd3786\"], [0.5555555555555556, \"#d8576b\"], [0.6666666666666666, \"#ed7953\"], [0.7777777777777778, \"#fb9f3a\"], [0.8888888888888888, \"#fdca26\"], [1.0, \"#f0f921\"]], \"type\": \"heatmap\"}], \"heatmapgl\": [{\"colorbar\": {\"outlinewidth\": 0, \"ticks\": \"\"}, \"colorscale\": [[0.0, \"#0d0887\"], [0.1111111111111111, \"#46039f\"], [0.2222222222222222, \"#7201a8\"], [0.3333333333333333, \"#9c179e\"], [0.4444444444444444, \"#bd3786\"], [0.5555555555555556, \"#d8576b\"], [0.6666666666666666, \"#ed7953\"], [0.7777777777777778, \"#fb9f3a\"], [0.8888888888888888, \"#fdca26\"], [1.0, \"#f0f921\"]], \"type\": \"heatmapgl\"}], \"histogram\": [{\"marker\": {\"colorbar\": {\"outlinewidth\": 0, \"ticks\": \"\"}}, \"type\": \"histogram\"}], \"histogram2d\": [{\"colorbar\": {\"outlinewidth\": 0, \"ticks\": \"\"}, \"colorscale\": [[0.0, \"#0d0887\"], [0.1111111111111111, \"#46039f\"], [0.2222222222222222, \"#7201a8\"], [0.3333333333333333, \"#9c179e\"], [0.4444444444444444, \"#bd3786\"], [0.5555555555555556, \"#d8576b\"], [0.6666666666666666, \"#ed7953\"], [0.7777777777777778, \"#fb9f3a\"], [0.8888888888888888, \"#fdca26\"], [1.0, \"#f0f921\"]], \"type\": \"histogram2d\"}], \"histogram2dcontour\": [{\"colorbar\": {\"outlinewidth\": 0, \"ticks\": \"\"}, \"colorscale\": [[0.0, \"#0d0887\"], [0.1111111111111111, \"#46039f\"], [0.2222222222222222, \"#7201a8\"], [0.3333333333333333, \"#9c179e\"], [0.4444444444444444, \"#bd3786\"], [0.5555555555555556, \"#d8576b\"], [0.6666666666666666, \"#ed7953\"], [0.7777777777777778, \"#fb9f3a\"], [0.8888888888888888, \"#fdca26\"], [1.0, \"#f0f921\"]], \"type\": \"histogram2dcontour\"}], \"mesh3d\": [{\"colorbar\": {\"outlinewidth\": 0, \"ticks\": \"\"}, \"type\": \"mesh3d\"}], \"parcoords\": [{\"line\": {\"colorbar\": {\"outlinewidth\": 0, \"ticks\": \"\"}}, \"type\": \"parcoords\"}], \"pie\": [{\"automargin\": true, \"type\": \"pie\"}], \"scatter\": [{\"marker\": {\"colorbar\": {\"outlinewidth\": 0, \"ticks\": \"\"}}, \"type\": \"scatter\"}], \"scatter3d\": [{\"line\": {\"colorbar\": {\"outlinewidth\": 0, \"ticks\": \"\"}}, \"marker\": {\"colorbar\": {\"outlinewidth\": 0, \"ticks\": \"\"}}, \"type\": \"scatter3d\"}], \"scattercarpet\": [{\"marker\": {\"colorbar\": {\"outlinewidth\": 0, \"ticks\": \"\"}}, \"type\": \"scattercarpet\"}], \"scattergeo\": [{\"marker\": {\"colorbar\": {\"outlinewidth\": 0, \"ticks\": \"\"}}, \"type\": \"scattergeo\"}], \"scattergl\": [{\"marker\": {\"colorbar\": {\"outlinewidth\": 0, \"ticks\": \"\"}}, \"type\": \"scattergl\"}], \"scattermapbox\": [{\"marker\": {\"colorbar\": {\"outlinewidth\": 0, \"ticks\": \"\"}}, \"type\": \"scattermapbox\"}], \"scatterpolar\": [{\"marker\": {\"colorbar\": {\"outlinewidth\": 0, \"ticks\": \"\"}}, \"type\": \"scatterpolar\"}], \"scatterpolargl\": [{\"marker\": {\"colorbar\": {\"outlinewidth\": 0, \"ticks\": \"\"}}, \"type\": \"scatterpolargl\"}], \"scatterternary\": [{\"marker\": {\"colorbar\": {\"outlinewidth\": 0, \"ticks\": \"\"}}, \"type\": \"scatterternary\"}], \"surface\": [{\"colorbar\": {\"outlinewidth\": 0, \"ticks\": \"\"}, \"colorscale\": [[0.0, \"#0d0887\"], [0.1111111111111111, \"#46039f\"], [0.2222222222222222, \"#7201a8\"], [0.3333333333333333, \"#9c179e\"], [0.4444444444444444, \"#bd3786\"], [0.5555555555555556, \"#d8576b\"], [0.6666666666666666, \"#ed7953\"], [0.7777777777777778, \"#fb9f3a\"], [0.8888888888888888, \"#fdca26\"], [1.0, \"#f0f921\"]], \"type\": \"surface\"}], \"table\": [{\"cells\": {\"fill\": {\"color\": \"#EBF0F8\"}, \"line\": {\"color\": \"white\"}}, \"header\": {\"fill\": {\"color\": \"#C8D4E3\"}, \"line\": {\"color\": \"white\"}}, \"type\": \"table\"}]}, \"layout\": {\"annotationdefaults\": {\"arrowcolor\": \"#2a3f5f\", \"arrowhead\": 0, \"arrowwidth\": 1}, \"coloraxis\": {\"colorbar\": {\"outlinewidth\": 0, \"ticks\": \"\"}}, \"colorscale\": {\"diverging\": [[0, \"#8e0152\"], [0.1, \"#c51b7d\"], [0.2, \"#de77ae\"], [0.3, \"#f1b6da\"], [0.4, \"#fde0ef\"], [0.5, \"#f7f7f7\"], [0.6, \"#e6f5d0\"], [0.7, \"#b8e186\"], [0.8, \"#7fbc41\"], [0.9, \"#4d9221\"], [1, \"#276419\"]], \"sequential\": [[0.0, \"#0d0887\"], [0.1111111111111111, \"#46039f\"], [0.2222222222222222, \"#7201a8\"], [0.3333333333333333, \"#9c179e\"], [0.4444444444444444, \"#bd3786\"], [0.5555555555555556, \"#d8576b\"], [0.6666666666666666, \"#ed7953\"], [0.7777777777777778, \"#fb9f3a\"], [0.8888888888888888, \"#fdca26\"], [1.0, \"#f0f921\"]], \"sequentialminus\": [[0.0, \"#0d0887\"], [0.1111111111111111, \"#46039f\"], [0.2222222222222222, \"#7201a8\"], [0.3333333333333333, \"#9c179e\"], [0.4444444444444444, \"#bd3786\"], [0.5555555555555556, \"#d8576b\"], [0.6666666666666666, \"#ed7953\"], [0.7777777777777778, \"#fb9f3a\"], [0.8888888888888888, \"#fdca26\"], [1.0, \"#f0f921\"]]}, \"colorway\": [\"#636efa\", \"#EF553B\", \"#00cc96\", \"#ab63fa\", \"#FFA15A\", \"#19d3f3\", \"#FF6692\", \"#B6E880\", \"#FF97FF\", \"#FECB52\"], \"font\": {\"color\": \"#2a3f5f\"}, \"geo\": {\"bgcolor\": \"white\", \"lakecolor\": \"white\", \"landcolor\": \"#E5ECF6\", \"showlakes\": true, \"showland\": true, \"subunitcolor\": \"white\"}, \"hoverlabel\": {\"align\": \"left\"}, \"hovermode\": \"closest\", \"mapbox\": {\"style\": \"light\"}, \"paper_bgcolor\": \"white\", \"plot_bgcolor\": \"#E5ECF6\", \"polar\": {\"angularaxis\": {\"gridcolor\": \"white\", \"linecolor\": \"white\", \"ticks\": \"\"}, \"bgcolor\": \"#E5ECF6\", \"radialaxis\": {\"gridcolor\": \"white\", \"linecolor\": \"white\", \"ticks\": \"\"}}, \"scene\": {\"xaxis\": {\"backgroundcolor\": \"#E5ECF6\", \"gridcolor\": \"white\", \"gridwidth\": 2, \"linecolor\": \"white\", \"showbackground\": true, \"ticks\": \"\", \"zerolinecolor\": \"white\"}, \"yaxis\": {\"backgroundcolor\": \"#E5ECF6\", \"gridcolor\": \"white\", \"gridwidth\": 2, \"linecolor\": \"white\", \"showbackground\": true, \"ticks\": \"\", \"zerolinecolor\": \"white\"}, \"zaxis\": {\"backgroundcolor\": \"#E5ECF6\", \"gridcolor\": \"white\", \"gridwidth\": 2, \"linecolor\": \"white\", \"showbackground\": true, \"ticks\": \"\", \"zerolinecolor\": \"white\"}}, \"shapedefaults\": {\"line\": {\"color\": \"#2a3f5f\"}}, \"ternary\": {\"aaxis\": {\"gridcolor\": \"white\", \"linecolor\": \"white\", \"ticks\": \"\"}, \"baxis\": {\"gridcolor\": \"white\", \"linecolor\": \"white\", \"ticks\": \"\"}, \"bgcolor\": \"#E5ECF6\", \"caxis\": {\"gridcolor\": \"white\", \"linecolor\": \"white\", \"ticks\": \"\"}}, \"title\": {\"x\": 0.05}, \"xaxis\": {\"automargin\": true, \"gridcolor\": \"white\", \"linecolor\": \"white\", \"ticks\": \"\", \"title\": {\"standoff\": 15}, \"zerolinecolor\": \"white\", \"zerolinewidth\": 2}, \"yaxis\": {\"automargin\": true, \"gridcolor\": \"white\", \"linecolor\": \"white\", \"ticks\": \"\", \"title\": {\"standoff\": 15}, \"zerolinecolor\": \"white\", \"zerolinewidth\": 2}}}, \"title\": {\"text\": \"Harga Mobil Bekas berdasarkan Power\"}, \"xaxis\": {\"anchor\": \"y\", \"domain\": [0.0, 1.0], \"title\": {\"text\": \"Power\"}}, \"yaxis\": {\"anchor\": \"x\", \"domain\": [0.0, 1.0], \"title\": {\"text\": \"Price\"}}},\n",
              "                        {\"responsive\": true}\n",
              "                    ).then(function(){\n",
              "                            \n",
              "var gd = document.getElementById('b15596cf-c127-4acc-9480-e79675ae67a7');\n",
              "var x = new MutationObserver(function (mutations, observer) {{\n",
              "        var display = window.getComputedStyle(gd).display;\n",
              "        if (!display || display === 'none') {{\n",
              "            console.log([gd, 'removed!']);\n",
              "            Plotly.purge(gd);\n",
              "            observer.disconnect();\n",
              "        }}\n",
              "}});\n",
              "\n",
              "// Listen for the removal of the full notebook cells\n",
              "var notebookContainer = gd.closest('#notebook-container');\n",
              "if (notebookContainer) {{\n",
              "    x.observe(notebookContainer, {childList: true});\n",
              "}}\n",
              "\n",
              "// Listen for the clearing of the current output cell\n",
              "var outputEl = gd.closest('.output');\n",
              "if (outputEl) {{\n",
              "    x.observe(outputEl, {childList: true});\n",
              "}}\n",
              "\n",
              "                        })\n",
              "                };\n",
              "                \n",
              "            </script>\n",
              "        </div>\n",
              "</body>\n",
              "</html>"
            ]
          },
          "metadata": {
            "tags": []
          }
        }
      ]
    },
    {
      "cell_type": "code",
      "metadata": {
        "id": "0OELswwnL0Kg",
        "colab_type": "code",
        "colab": {
          "base_uri": "https://localhost:8080/",
          "height": 542
        },
        "outputId": "f459536d-4097-418d-96f8-20e8e6b23055"
      },
      "source": [
        "import plotly.express as px\n",
        "\n",
        "fig = px.scatter(datakm, x=\"Seats\", y=\"Price\", color=\"Transmission\",\n",
        "                 title=\"Harga Mobil Bekas berdasarkan Seats\",\n",
        "                )\n",
        "\n",
        "fig.show()"
      ],
      "execution_count": null,
      "outputs": [
        {
          "output_type": "display_data",
          "data": {
            "text/html": [
              "<html>\n",
              "<head><meta charset=\"utf-8\" /></head>\n",
              "<body>\n",
              "    <div>\n",
              "            <script src=\"https://cdnjs.cloudflare.com/ajax/libs/mathjax/2.7.5/MathJax.js?config=TeX-AMS-MML_SVG\"></script><script type=\"text/javascript\">if (window.MathJax) {MathJax.Hub.Config({SVG: {font: \"STIX-Web\"}});}</script>\n",
              "                <script type=\"text/javascript\">window.PlotlyConfig = {MathJaxConfig: 'local'};</script>\n",
              "        <script src=\"https://cdn.plot.ly/plotly-latest.min.js\"></script>    \n",
              "            <div id=\"d6fd3620-e628-4307-a108-fdd4aa7261cb\" class=\"plotly-graph-div\" style=\"height:525px; width:100%;\"></div>\n",
              "            <script type=\"text/javascript\">\n",
              "                \n",
              "                    window.PLOTLYENV=window.PLOTLYENV || {};\n",
              "                    \n",
              "                if (document.getElementById(\"d6fd3620-e628-4307-a108-fdd4aa7261cb\")) {\n",
              "                    Plotly.newPlot(\n",
              "                        'd6fd3620-e628-4307-a108-fdd4aa7261cb',\n",
              "                        [{\"hoverlabel\": {\"namelength\": 0}, \"hovertemplate\": \"Transmission=Automatic<br>Seats=%{x}<br>Price=%{y}\", \"legendgroup\": \"Transmission=Automatic\", \"marker\": {\"color\": \"#636efa\", \"symbol\": \"circle\"}, \"mode\": \"markers\", \"name\": \"Transmission=Automatic\", \"showlegend\": true, \"type\": \"scattergl\", \"x\": [5.0, 5.0, 5.0, 5.0, 7.0, 5.0, 5.0, 5.0, 5.0, 7.0, 5.0, 7.0, 5.0, 5.0, 5.0, 4.0, 5.0, 5.0, 5.0, 5.0, 5.0, 5.0, 5.0, 7.0, 5.0, 7.0, 5.0, 0.0, 5.0, 5.0, 7.0, 5.0, 5.0, 7.0, 5.0, 5.0, 5.0, 5.0, 5.0, 5.0, 5.0, 5.0, 7.0, 7.0, 7.0, 5.0, 5.0, 5.0, 5.0, 5.0, 5.0, 5.0, 5.0, 5.0, 5.0, 5.0, 7.0, 5.0, 7.0, 5.0, 5.0, 5.0, 8.0, 5.0, 5.0, 5.0, 7.0, 5.0, 5.0, 5.0, 5.0, 5.0, 5.0, 5.0, 5.0, 5.0, 2.0, 7.0, 5.0, 7.0, 5.0, 7.0, 5.0, 5.0, 7.0, 5.0, 5.0, 7.0, 5.0, 7.0, 7.0, 7.0, 5.0, 5.0, 7.0, 7.0, 5.0, 5.0, 5.0, 5.0, 5.0, 5.0, 5.0, 5.0, 5.0, 7.0, 5.0, 5.0, 7.0, 7.0, 5.0, 5.0, 5.0, 7.0, 5.0, 5.0, 5.0, 5.0, 5.0, 7.0, 5.0, 5.0, 5.0, 5.0, 5.0, 5.0, 5.0, 7.0, 5.0, 5.0, 7.0, 5.0, 5.0, 5.0, 5.0, 5.0, 7.0, 5.0, 5.0, 5.0, 7.0, 5.0, 5.0, 7.0, 7.0, 7.0, 5.0, 7.0, 5.0, 7.0, 5.0, 7.0, 5.0, 5.0, 5.0, 5.0, 5.0, 7.0, 4.0, 5.0, 5.0, 5.0, 5.0, 5.0, 7.0, 5.0, 5.0, 7.0, 5.0, 5.0, 5.0, 5.0, 7.0, 5.0, 5.0, 5.0, 5.0, 5.0, 5.0, 7.0, 5.0, 5.0, 5.0, 5.0, 5.0, 5.0, 5.0, 5.0, 5.0, 7.0, 8.0, 5.0, 5.0, 7.0, 5.0, 5.0, 7.0, 7.0, 5.0, 5.0, 5.0, 5.0, 5.0, 5.0, 5.0, 5.0, 7.0, 5.0, 5.0, 5.0, 5.0, 5.0, 5.0, 5.0, 5.0, 5.0, 5.0, 5.0, 5.0, 7.0, 5.0, 5.0, 5.0, 5.0, 5.0, 5.0, 7.0, 5.0, 5.0, 5.0, 5.0, 5.0, 5.0, 5.0, 7.0, 5.0, 5.0, 5.0, 5.0, 5.0, 5.0, 5.0, 5.0, 7.0, 5.0, 5.0, 5.0, 7.0, 5.0, 5.0, 7.0, 5.0, 7.0, 7.0, 5.0, 5.0, 7.0, 5.0, 7.0, 5.0, 7.0, 5.0, 5.0, 5.0, 5.0, 5.0, 4.0, 5.0, 5.0, 5.0, 5.0, 7.0, 5.0, 5.0, 6.0, 5.0, 5.0, 5.0, 5.0, 5.0, 5.0, 5.0, 5.0, 5.0, 5.0, 5.0, 5.0, 5.0, 5.0, 5.0, 5.0, 5.0, 5.0, 4.0, 7.0, 5.0, 7.0, 5.0, 5.0, 5.0, 5.0, 5.0, 5.0, 7.0, 5.0, 5.0, 5.0, 5.0, 5.0, 5.0, 5.0, 5.0, 5.0, 5.0, 5.0, 5.0, 5.0, 5.0, 5.0, 5.0, 5.0, 5.0, 5.0, 5.0, 5.0, 5.0, 5.0, 4.0, 5.0, 5.0, 5.0, 5.0, 7.0, 7.0, 5.0, 5.0, 5.0, 7.0, 5.0, 7.0, 5.0, 5.0, 5.0, 5.0, 5.0, 5.0, 5.0, 7.0, 5.0, 5.0, 7.0, 5.0, 5.0, 5.0, 5.0, 5.0, 5.0, 5.0, 5.0, 7.0, 5.0, 5.0, 5.0, 5.0, 5.0, 5.0, 5.0, 5.0, 5.0, 5.0, 5.0, 5.0, 5.0, 5.0, 7.0, 5.0, 5.0, 5.0, 5.0, 5.0, 5.0, 5.0, 5.0, 5.0, 5.0, 5.0, 5.0, 5.0, 5.0, 5.0, 7.0, 5.0, 5.0, 5.0, 5.0, 5.0, 7.0, 5.0, 5.0, 5.0, 5.0, 7.0, 5.0, 5.0, 5.0, 5.0, 5.0, 5.0, 5.0, 7.0, 5.0, 5.0, 5.0, 5.0, 5.0, 7.0, 7.0, 5.0, 7.0, 7.0, 5.0, 7.0, 5.0, 5.0, 5.0, 5.0, 5.0, 5.0, 5.0, 5.0, 5.0, 5.0, 5.0, 7.0, 5.0, 5.0, 5.0, 5.0, 5.0, 7.0, 4.0, 5.0, 5.0, 5.0, 5.0, 5.0, 5.0, 5.0, 5.0, 5.0, 5.0, 5.0, 5.0, 5.0, 7.0, 7.0, 5.0, 7.0, 5.0, 5.0, 5.0, 5.0, 5.0, 5.0, 5.0, 5.0, 5.0, 5.0, 5.0, 5.0, 5.0, 5.0, 5.0, 5.0, 5.0, 5.0, 5.0, 5.0, 5.0, 5.0, 5.0, 5.0, 5.0, 5.0, 5.0, 5.0, 5.0, 5.0, 5.0, 5.0, 5.0, 5.0, 5.0, 5.0, 5.0, 5.0, 5.0, 5.0, 5.0, 5.0, 7.0, 5.0, 7.0, 5.0, 5.0, 5.0, 5.0, 5.0, 5.0, 5.0, 5.0, 5.0, 5.0, 5.0, 7.0, 7.0, 5.0, 5.0, 5.0, 5.0, 5.0, 5.0, 5.0, 5.0, 5.0, 5.0, 5.0, 5.0, 5.0, 5.0, 5.0, 4.0, 4.0, 5.0, 5.0, 5.0, 5.0, 5.0, 5.0, 5.0, 5.0, 5.0, 5.0, 5.0, 5.0, 5.0, 5.0, 5.0, 5.0, 4.0, 5.0, 7.0, 5.0, 5.0, 5.0, 5.0, 5.0, 5.0, 5.0, 5.0, 5.0, 5.0, 5.0, 7.0, 5.0, 7.0, 5.0, 5.0, 7.0, 7.0, 4.0, 5.0, 5.0, 5.0, 5.0, 5.0, 5.0, 5.0, 5.0, 5.0, 5.0, 5.0, 5.0, 5.0, 5.0, 5.0, 5.0, 5.0, 5.0, 5.0, 7.0, 7.0, 5.0, 5.0, 5.0, 5.0, 5.0, 5.0, 5.0, 5.0, 4.0, 5.0, 5.0, 5.0, 5.0, 5.0, 5.0, 5.0, 5.0, 5.0, 5.0, 5.0, 5.0, 5.0, 5.0, 5.0, 5.0, 5.0, 5.0, 5.0, 5.0, 5.0, 5.0, 5.0, 5.0, 5.0, 5.0, 7.0, 5.0, 5.0, 5.0, 5.0, 5.0, 7.0, 5.0, 5.0, 5.0, 5.0, 5.0, 5.0, 5.0, 5.0, 5.0, 5.0, 5.0, 5.0, 5.0, 5.0, 5.0, 5.0, 5.0, 5.0, 7.0, 5.0, 7.0, 5.0, 5.0, 5.0, 5.0, 5.0, 5.0, 5.0, 5.0, 5.0, 7.0, 5.0, 5.0, 5.0, 5.0, 5.0, 5.0, 7.0, 5.0, 5.0, 5.0, 4.0, 5.0, 5.0, 5.0, 5.0, 7.0, 5.0, 5.0, 5.0, 5.0, 5.0, 5.0, 5.0, 5.0, 5.0, 5.0, 7.0, 5.0, 5.0, 5.0, 5.0, 5.0, 5.0, 5.0, 7.0, 5.0, 7.0, 5.0, 5.0, 5.0, 5.0, 5.0, 5.0, 5.0, 5.0, 5.0, 5.0, 5.0, 5.0, 5.0, 5.0, 5.0, 5.0, 5.0, 5.0, 5.0, 5.0, 5.0, 5.0, 5.0, 5.0, 5.0, 5.0, 5.0, 5.0, 7.0, 4.0, 5.0, 5.0, 5.0, 5.0, 7.0, 7.0, 5.0, 5.0, 5.0, 4.0, 5.0, 7.0, 7.0, 5.0, 5.0, 5.0, 5.0, 5.0, 5.0, 5.0, 5.0, 5.0, 5.0, 5.0, 5.0, 5.0, 5.0, 5.0, 5.0, 5.0, 5.0, 5.0, 5.0, 5.0, 5.0, 5.0, 7.0, 5.0, 7.0, 5.0, 5.0, 5.0, 5.0, 7.0, 5.0, 5.0, 7.0, 5.0, 5.0, 5.0, 4.0, 5.0, 5.0, 5.0, 5.0, 5.0, 7.0, 5.0, 5.0, 5.0, 5.0, 5.0, 5.0, 8.0, 5.0, 5.0, 5.0, 5.0, 5.0, 5.0, 5.0, 5.0, 5.0, 5.0, 5.0, 5.0, 5.0, 4.0, 5.0, 5.0, 5.0, 7.0, 5.0, 5.0, 5.0, 5.0, 5.0, 5.0, 5.0, 5.0, 4.0, 5.0, 5.0, 5.0, 5.0, 5.0, 5.0, 5.0, 5.0, 4.0, 5.0, 5.0, 5.0, 5.0, 5.0, 7.0, 5.0, 5.0, 5.0, 5.0, 5.0, 5.0, 7.0, 7.0, 5.0, 5.0, 5.0, 5.0, 5.0, 5.0, 5.0, 5.0, 5.0, 5.0, 7.0, 5.0, 5.0, 7.0, 5.0, 5.0, 5.0, 5.0, 5.0, 5.0, 5.0, 5.0, 5.0, 5.0, 7.0, 5.0, 5.0, 5.0, 5.0, 5.0, 5.0, 7.0, 5.0, 5.0, 5.0, 5.0, 7.0, 7.0, 7.0, 5.0, 5.0, 5.0, 5.0, 4.0, 5.0, 5.0, 7.0, 5.0, 5.0, 5.0, 5.0, 5.0, 6.0, 5.0, 5.0, 5.0, 7.0, 5.0, 5.0, 5.0, 5.0, 5.0, 7.0, 5.0, 5.0, 5.0, 5.0, 5.0, 5.0, 5.0, 5.0, 5.0, 5.0, 5.0, 5.0, 5.0, 5.0, 5.0, 5.0, 5.0, 5.0, 5.0, 5.0, 5.0, 5.0, 5.0, 5.0, 5.0, 5.0, 5.0, 5.0, 5.0, 7.0, 4.0, 5.0, 5.0, 5.0, 5.0, 5.0, 5.0, 5.0, 7.0, 5.0, 5.0, 5.0, 7.0, 5.0, 5.0, 5.0, 5.0, 5.0, 5.0, 5.0, 5.0, 4.0, 7.0, 5.0, 5.0, 5.0, 5.0, 5.0, 5.0, 5.0, 5.0, 7.0, 5.0, 5.0, 5.0, 5.0, 5.0, 5.0, 5.0, 5.0, 5.0, 5.0, 5.0, 5.0, 7.0, 5.0, 5.0, 5.0, 5.0, 5.0, 5.0, 5.0, 5.0, 5.0, 5.0, 5.0, 5.0, 5.0, 5.0, 5.0, 5.0, 5.0, 5.0, 5.0, 5.0, 5.0, 7.0, 5.0, 7.0, 5.0, 5.0, 5.0, 5.0, 5.0, 5.0, 5.0, 7.0, 7.0, 8.0, 5.0, 5.0, 5.0, 4.0, 5.0, 5.0, 5.0, 5.0, 5.0, 5.0, 5.0, 5.0, 5.0, 5.0, 4.0, 5.0, 5.0, 5.0, 5.0, 5.0, 5.0, 7.0, 5.0, 5.0, 5.0, 7.0, 5.0, 5.0, 5.0, 5.0, 5.0, 5.0, 4.0, 5.0, 5.0, 5.0, 5.0, 5.0, 5.0, 5.0, 5.0, 5.0, 5.0, 5.0, 7.0, 5.0, 5.0, 5.0, 5.0, 5.0, 5.0, 5.0, 5.0, 5.0, 5.0, 5.0, 5.0, 7.0, 5.0, 5.0, 5.0, 5.0, 5.0, 5.0, 5.0, 5.0, 5.0, 5.0, 5.0, 5.0, 5.0, 5.0, 5.0, 5.0, 5.0, 5.0, 5.0, 5.0, 5.0, 4.0, 5.0, 5.0, 5.0, 5.0, 5.0, 5.0, 5.0, 5.0, 5.0, 5.0, 5.0, 4.0, 5.0, 5.0, 5.0, 5.0, 5.0, 5.0, 7.0, 5.0, 5.0, 7.0, 5.0, 7.0, 5.0, 5.0, 8.0, 7.0, 7.0, 5.0, 5.0, 5.0, 7.0, 5.0, 5.0, 5.0, 5.0, 5.0, 5.0, 5.0, 4.0, 5.0, 5.0, 7.0, 2.0, 5.0, 5.0, 5.0, 5.0, 5.0, 5.0, 5.0, 5.0, 5.0, 5.0, 5.0, 5.0, 5.0, 5.0, 5.0, 5.0, 5.0, 5.0, 5.0, 5.0, 7.0, 5.0, 5.0, 5.0, 5.0, 5.0, 5.0, 5.0, 5.0, 5.0, 5.0, 7.0, 5.0, 5.0, 5.0, 5.0, 5.0, 5.0, 5.0, 5.0, 5.0, 5.0, 5.0, 5.0, 5.0, 5.0, 5.0, 5.0, 5.0, 5.0, 5.0, 5.0, 5.0, 5.0, 5.0, 5.0, 5.0, 5.0, 5.0, 5.0, 5.0, 5.0, 5.0, 5.0, 4.0, 5.0, 5.0, 7.0, 5.0, 5.0, 5.0, 5.0, 5.0, 5.0, 4.0, 5.0, 5.0, 5.0, 5.0, 5.0, 5.0, 5.0, 5.0, 5.0, 5.0, 5.0, 5.0, 5.0, 5.0, 5.0, 5.0, 5.0, 5.0, 5.0, 5.0, 5.0, 5.0, 7.0, 5.0, 5.0, 5.0, 5.0, 5.0, 5.0, 5.0, 5.0, 5.0, 5.0, 5.0, 5.0, 5.0, 7.0, 5.0, 5.0, 5.0, 5.0, 5.0, 5.0, 5.0, 4.0, 5.0, 5.0, 4.0, 5.0, 5.0, 4.0, 7.0, 5.0, 5.0, 5.0, 5.0, 5.0, 5.0, 5.0, 7.0, 5.0, 5.0, 5.0, 5.0, 5.0, 5.0, 5.0, 5.0, 7.0, 5.0, 5.0, 5.0, 5.0, 5.0, 5.0, 5.0, 5.0, 4.0, 5.0, 7.0, 5.0, 7.0, 5.0, 5.0, 4.0, 5.0, 5.0, 5.0, 7.0, 5.0, 7.0, 5.0, 5.0, 5.0, 5.0, 5.0, 5.0, 5.0, 7.0, 5.0, 5.0, 5.0, 5.0, 5.0, 5.0, 5.0, 5.0, 7.0, 5.0, 5.0, 5.0, 5.0, 5.0, 5.0, 5.0, 4.0, 5.0, 5.0, 5.0, 5.0, 5.0, 4.0, 5.0, 5.0, 5.0, 5.0, 5.0, 5.0, 5.0, 5.0, 5.0, 5.0, 5.0, 5.0, 5.0, 5.0, 4.0, 5.0, 5.0, 5.0, 7.0, 5.0, 5.0, 5.0, 5.0, 5.0, 5.0, 5.0, 7.0, 5.0, 5.0, 5.0, 5.0, 5.0, 5.0, 4.0, 5.0, 5.0, 5.0, 5.0, 5.0, 5.0, 5.0, 2.0, 5.0, 5.0, 5.0, 7.0, 5.0, 5.0, 5.0, 5.0, 5.0, 5.0, 5.0, 4.0, 5.0, 5.0, 5.0, 7.0, 5.0, 5.0, 7.0, 5.0, 5.0, 5.0, 5.0, 5.0, 5.0, 5.0, 5.0, 5.0, 5.0, 5.0, 5.0, 4.0, 5.0, 5.0, 5.0, 5.0, 5.0, 5.0, 7.0, 5.0, 4.0, 5.0, 5.0, 5.0, 5.0, 5.0, 2.0, 5.0, 5.0, 5.0, 5.0, 5.0, 5.0, 5.0, 5.0, 5.0, 5.0, 5.0, 5.0, 5.0, 5.0, 7.0, 5.0, 5.0, 5.0, 5.0, 5.0, 4.0, 4.0, 5.0, 5.0, 5.0, 5.0, 5.0, 5.0, 4.0, 5.0, 5.0, 5.0, 5.0, 5.0, 7.0, 4.0, 5.0, 5.0, 5.0, 5.0, 7.0, 7.0, 5.0, 5.0, 5.0, 7.0, 5.0, 5.0, 5.0, 4.0, 5.0, 5.0, 7.0, 5.0, 5.0, 5.0, 4.0, 5.0, 7.0, 5.0, 5.0, 5.0, 4.0, 5.0, 4.0, 5.0, 5.0, 5.0, 5.0, 5.0, 4.0, 5.0, 7.0, 5.0, 5.0, 5.0, 5.0, 5.0, 5.0, 5.0, 5.0, 5.0, 5.0, 5.0, 5.0, 7.0, 5.0, 5.0, 5.0, 5.0, 5.0, 5.0, 4.0, 5.0, 5.0, 5.0, 8.0, 7.0, 4.0, 5.0, 5.0, 4.0, 5.0, 5.0, 5.0, 5.0, 5.0, 5.0, 5.0, 7.0, 5.0, 7.0, 5.0, 5.0, 5.0, 5.0, 4.0, 7.0, 5.0, 7.0, 5.0, 5.0, 5.0, 5.0, 5.0, 5.0, 5.0, 7.0, 5.0, 5.0, 5.0, 5.0, 5.0, 5.0, 5.0, 5.0, 7.0, 5.0, 4.0, 5.0, 5.0, 5.0, 7.0, 5.0, 5.0, 5.0, 5.0, 5.0, 5.0, 5.0, 2.0, 7.0, 7.0, 7.0, 5.0, 5.0, 5.0, 5.0, 5.0, 5.0, 7.0, 5.0, 5.0, 5.0, 5.0, 5.0, 5.0, 5.0, 5.0, 5.0, 5.0, 2.0, 5.0, 5.0, 5.0, 5.0, 5.0, 5.0, 5.0, 5.0, 5.0, 5.0, 5.0, 5.0, 5.0, 5.0, 2.0, 4.0, 7.0, 5.0, 5.0, 7.0, 5.0, 5.0, 4.0, 6.0, 5.0, 7.0, 7.0, 5.0, 5.0, 5.0, 5.0, 5.0, 5.0, 7.0, 2.0, 5.0, 5.0, 5.0, 5.0, 5.0, 5.0, 5.0, 2.0, 2.0, 5.0, 5.0, 5.0, 7.0, 5.0, 7.0, 5.0, 6.0, 5.0, 5.0, 5.0, 5.0, 5.0, 5.0, 5.0, 2.0, 5.0, 5.0, 2.0, 4.0, 5.0, 5.0, 5.0, 5.0, 5.0, 4.0, 5.0, 7.0, 2.0, 7.0, 4.0, 5.0, 5.0, 4.0, 5.0, 5.0, 5.0, 5.0, 5.0, 5.0, 5.0, 5.0, 5.0, 5.0, 2.0, 5.0, 5.0, 5.0, 5.0, 4.0, 2.0, 5.0, 5.0, 5.0, 5.0, 5.0, 5.0, 5.0, 5.0, 5.0, 5.0], \"xaxis\": \"x\", \"y\": [7.5, 13.0, 6.0, 12.3, 4.24, 12.0, 9.75, 12.0, 1.5, 17.49, 3.0, 16.5, 18.75, 6.58, 16.75, 4.65, 18.5, 9.0, 8.5, 3.0, 4.7, 10.0, 12.5, 56.0, 7.0, 13.5, 11.0, 18.0, 2.6, 21.99, 16.5, 12.99, 7.75, 18.0, 10.5, 30.0, 6.95, 5.75, 2.65, 7.1, 16.5, 13.99, 31.41, 14.0, 19.25, 3.8, 4.5, 10.0, 6.75, 10.5, 11.5, 7.99, 6.5, 2.75, 20.0, 18.0, 12.9, 8.0, 14.4, 19.0, 4.0, 16.5, 6.21, 23.29, 17.5, 4.35, 20.5, 11.99, 13.8, 14.5, 19.0, 2.5, 11.0, 5.75, 9.92, 8.85, 3.0, 30.5, 10.75, 23.58, 13.75, 16.5, 4.65, 19.99, 21.67, 18.46, 4.0, 17.0, 14.41, 19.0, 8.5, 14.5, 24.75, 2.05, 38.0, 32.0, 10.9, 11.5, 25.0, 11.5, 1.96, 32.5, 10.5, 2.21, 10.0, 12.95, 17.5, 25.0, 22.0, 62.67, 3.75, 85.0, 8.0, 16.75, 6.5, 4.62, 18.98, 15.5, 29.67, 19.6, 8.5, 17.5, 3.0, 10.0, 2.85, 6.75, 23.19, 20.5, 12.5, 4.8, 12.0, 5.25, 17.15, 2.6, 17.5, 26.5, 15.0, 16.14, 10.6, 7.25, 19.75, 16.0, 17.56, 28.55, 9.25, 9.47, 2.45, 9.2, 13.9, 26.0, 6.5, 21.5, 17.75, 22.5, 17.75, 19.5, 11.0, 16.8, 6.3, 2.8, 3.71, 13.95, 16.57, 4.0, 4.0, 4.19, 13.99, 22.5, 15.0, 27.0, 6.45, 5.25, 36.5, 16.25, 7.98, 16.25, 25.71, 17.23, 15.5, 15.0, 6.67, 17.0, 5.4, 5.9, 17.18, 20.37, 3.25, 19.0, 18.25, 9.5, 8.0, 13.08, 9.75, 28.0, 21.0, 9.99, 38.75, 6.25, 7.5, 5.5, 13.95, 17.5, 28.0, 10.0, 21.0, 23.0, 52.54, 17.75, 10.75, 6.5, 4.45, 2.6, 7.5, 6.5, 6.75, 36.0, 6.0, 16.5, 12.75, 16.77, 11.99, 28.63, 7.5, 5.4, 18.5, 17.5, 16.85, 7.25, 13.9, 7.5, 7.95, 10.9, 3.25, 22.75, 14.4, 14.5, 9.29, 23.68, 3.43, 17.5, 10.75, 3.0, 25.0, 9.5, 9.5, 2.8, 7.25, 19.5, 14.2, 2.0, 29.77, 16.5, 41.0, 39.0, 4.85, 17.0, 18.5, 5.25, 18.25, 15.0, 17.75, 10.99, 15.5, 28.0, 3.57, 4.15, 5.5, 7.2, 24.0, 3.41, 3.99, 5.34, 4.5, 19.5, 15.0, 8.0, 11.27, 4.25, 18.64, 2.85, 14.35, 8.31, 5.5, 6.5, 35.0, 22.75, 6.51, 10.99, 30.45, 10.0, 2.4, 5.53, 18.25, 8.75, 58.0, 19.0, 8.79, 65.81, 14.12, 16.58, 30.37, 4.25, 27.95, 24.0, 17.5, 7.5, 7.75, 9.5, 11.0, 9.44, 27.5, 4.95, 13.9, 15.0, 2.3, 11.5, 9.25, 18.5, 12.95, 5.25, 8.25, 7.75, 12.5, 5.23, 17.08, 34.54, 10.69, 3.5, 3.3, 30.72, 3.8, 14.5, 17.51, 14.4, 12.5, 10.4, 18.06, 32.52, 9.06, 39.0, 4.75, 3.25, 27.0, 15.5, 11.0, 5.5, 3.2, 12.5, 29.0, 6.0, 16.5, 15.5, 9.14, 5.35, 5.45, 2.4, 15.0, 6.8, 21.5, 11.99, 20.57, 3.1, 9.86, 10.3, 5.0, 23.99, 13.0, 40.0, 10.3, 17.55, 35.0, 11.0, 18.0, 27.0, 19.48, 15.8, 8.5, 23.5, 12.5, 19.0, 5.72, 50.0, 2.85, 54.0, 4.5, 16.25, 38.0, 18.5, 10.25, 2.25, 19.75, 5.25, 12.5, 3.87, 13.5, 8.5, 25.12, 24.74, 8.9, 11.75, 18.0, 29.5, 22.0, 4.8, 9.75, 15.75, 27.5, 8.95, 11.5, 11.03, 18.75, 9.25, 2.45, 14.5, 4.7, 7.0, 10.0, 25.02, 15.49, 70.0, 5.43, 10.5, 5.96, 23.0, 30.0, 3.7, 10.75, 3.9, 7.25, 11.5, 5.7, 10.75, 21.0, 38.0, 12.5, 13.5, 21.75, 3.5, 32.73, 20.14, 20.72, 11.5, 31.75, 12.75, 67.83, 16.0, 21.26, 6.75, 11.95, 29.0, 7.5, 14.0, 6.25, 16.0, 16.5, 34.0, 21.5, 10.5, 8.99, 3.45, 11.5, 29.93, 19.9, 8.55, 4.2, 10.5, 12.5, 15.65, 28.0, 5.42, 16.56, 22.58, 13.96, 13.25, 23.0, 3.95, 30.8, 17.5, 1.85, 36.0, 34.5, 26.0, 13.5, 65.0, 14.22, 4.75, 10.95, 4.5, 14.5, 19.0, 21.33, 5.89, 2.9, 6.62, 20.12, 3.75, 25.0, 7.0, 3.55, 12.5, 44.5, 3.75, 10.55, 2.65, 3.31, 19.94, 20.77, 5.57, 14.23, 5.65, 4.39, 8.5, 17.5, 21.73, 14.5, 28.88, 12.5, 3.75, 11.0, 8.25, 25.0, 5.91, 8.3, 6.42, 3.49, 3.1, 9.1, 45.82, 24.94, 22.45, 29.64, 51.52, 4.5, 14.5, 7.25, 10.35, 24.0, 22.0, 4.45, 17.55, 21.0, 4.49, 4.45, 5.5, 10.2, 16.0, 16.0, 2.99, 27.0, 3.8, 25.0, 45.0, 4.65, 14.5, 23.5, 20.0, 23.5, 18.0, 18.5, 20.11, 5.8, 4.88, 10.49, 29.2, 23.41, 68.0, 26.5, 5.25, 36.75, 21.0, 21.9, 10.0, 11.5, 12.5, 23.75, 24.22, 14.25, 28.03, 16.52, 27.75, 8.0, 27.5, 2.95, 14.5, 19.86, 9.69, 27.0, 9.19, 9.6, 13.5, 32.0, 17.0, 15.75, 17.98, 11.0, 18.5, 15.3, 19.5, 26.7, 4.4, 48.0, 11.5, 11.75, 27.0, 7.5, 3.5, 31.0, 5.4, 25.82, 3.6, 20.04, 7.75, 21.56, 6.5, 18.0, 6.51, 17.25, 2.5, 9.75, 3.4, 4.4, 7.25, 5.15, 15.46, 13.5, 14.05, 50.29, 17.71, 19.8, 3.45, 62.81, 8.0, 4.38, 51.69, 3.85, 20.75, 13.25, 33.5, 22.75, 35.0, 45.0, 8.25, 30.0, 34.5, 2.99, 29.5, 24.0, 8.22, 23.5, 18.12, 35.92, 15.21, 42.83, 11.5, 24.99, 28.45, 3.9, 36.15, 8.4, 12.0, 31.0, 8.5, 12.5, 9.99, 67.0, 16.0, 13.5, 19.5, 21.75, 7.25, 28.0, 52.0, 5.7, 3.5, 3.75, 60.95, 5.37, 7.3, 16.67, 6.35, 30.35, 9.86, 3.65, 6.5, 5.85, 17.0, 4.0, 16.81, 10.0, 21.99, 6.11, 13.25, 7.5, 18.0, 17.55, 4.5, 2.9, 6.0, 29.0, 20.5, 16.75, 38.94, 6.89, 4.28, 4.41, 4.29, 17.85, 29.0, 20.5, 13.75, 4.0, 3.8, 4.75, 23.0, 36.0, 9.5, 4.75, 8.08, 44.76, 7.5, 10.11, 9.0, 19.5, 29.95, 25.49, 39.75, 19.5, 24.5, 24.0, 35.0, 49.0, 25.0, 42.0, 45.77, 32.5, 17.27, 19.03, 30.27, 21.95, 27.0, 21.99, 29.52, 8.89, 34.88, 48.91, 17.0, 25.0, 21.94, 27.5, 11.5, 17.0, 7.75, 4.5, 5.64, 10.5, 7.9, 33.5, 21.5, 8.75, 22.25, 13.0, 6.9, 6.95, 3.0, 43.3, 10.75, 8.27, 24.9, 31.12, 21.95, 19.0, 14.79, 25.93, 3.84, 29.0, 51.0, 35.0, 30.0, 47.5, 8.25, 25.0, 11.69, 45.0, 13.5, 7.5, 45.0, 7.41, 36.0, 48.0, 21.0, 38.0, 15.0, 8.5, 49.0, 25.0, 6.0, 17.5, 3.9, 23.89, 4.0, 45.64, 3.79, 45.0, 14.49, 8.9, 22.99, 15.5, 15.45, 19.0, 29.0, 19.25, 8.95, 8.5, 48.5, 10.49, 39.58, 17.5, 23.32, 20.99, 20.87, 12.07, 18.25, 50.5, 5.1, 13.5, 22.0, 29.0, 5.0, 26.5, 18.75, 20.26, 59.0, 2.95, 26.5, 21.6, 6.99, 16.0, 16.25, 9.75, 35.68, 48.22, 31.8, 3.94, 8.73, 20.25, 8.37, 14.5, 5.21, 38.72, 30.0, 19.0, 4.5, 13.9, 64.75, 29.5, 24.5, 41.5, 5.4, 25.5, 43.35, 29.6, 16.11, 6.93, 6.1, 6.15, 8.59, 3.75, 8.85, 12.5, 16.0, 36.0, 8.5, 9.95, 16.5, 24.0, 5.1, 4.9, 28.0, 10.99, 26.0, 23.25, 19.5, 8.41, 20.67, 23.68, 6.34, 19.41, 10.3, 13.19, 42.5, 13.5, 23.0, 50.22, 3.48, 41.75, 5.96, 4.25, 25.0, 40.0, 11.5, 21.5, 11.5, 56.0, 6.99, 5.25, 34.0, 3.35, 27.0, 37.9, 13.5, 15.25, 7.5, 28.5, 57.0, 25.0, 17.95, 8.01, 25.81, 7.12, 4.55, 13.5, 24.68, 42.5, 13.83, 32.8, 34.51, 1.5, 32.5, 4.3, 2.65, 6.2, 44.0, 5.6, 7.58, 36.83, 20.28, 16.75, 9.0, 17.11, 50.66, 29.0, 10.24, 20.5, 38.15, 31.94, 34.18, 24.85, 26.5, 39.5, 17.5, 26.5, 10.75, 12.5, 12.49, 9.31, 39.47, 8.95, 12.46, 5.25, 10.48, 42.91, 18.0, 31.93, 22.24, 24.36, 21.8, 11.57, 6.25, 9.73, 4.34, 19.6, 24.25, 23.5, 5.5, 22.99, 24.95, 22.0, 3.4, 28.75, 5.45, 9.6, 32.78, 9.0, 19.92, 16.68, 44.83, 14.14, 42.0, 37.98, 11.77, 18.49, 26.5, 28.79, 38.76, 24.63, 37.56, 5.08, 5.25, 6.25, 6.0, 25.5, 10.5, 5.45, 45.0, 18.5, 13.75, 24.75, 24.82, 17.74, 7.2, 25.72, 4.45, 43.74, 70.8, 14.5, 41.5, 30.0, 16.45, 17.5, 24.0, 22.95, 45.0, 5.25, 9.5, 24.0, 22.5, 14.5, 22.0, 24.5, 6.55, 35.28, 25.75, 40.66, 9.25, 29.5, 8.29, 6.99, 25.64, 9.25, 13.85, 27.0, 34.0, 15.0, 13.5, 18.9, 4.55, 9.5, 4.45, 3.49, 32.5, 17.0, 8.47, 29.98, 13.23, 70.66, 4.99, 32.91, 4.25, 8.5, 16.0, 38.95, 12.0, 30.48, 20.0, 6.25, 11.6, 39.0, 29.0, 24.0, 19.5, 45.0, 13.51, 23.99, 35.0, 5.23, 31.62, 4.5, 9.1, 13.95, 22.5, 25.71, 16.75, 32.0, 32.0, 29.98, 6.46, 11.96, 3.41, 5.43, 5.44, 5.77, 10.97, 21.0, 36.0, 14.0, 15.0, 6.75, 17.0, 2.95, 13.0, 32.64, 9.48, 32.25, 39.84, 39.47, 4.25, 32.57, 4.3, 19.9, 72.0, 7.5, 33.0, 7.22, 6.3, 55.76, 16.25, 21.5, 10.15, 16.0, 23.0, 14.0, 22.0, 4.65, 9.45, 17.5, 9.48, 43.78, 6.69, 25.02, 18.58, 22.99, 19.0, 30.0, 5.25, 3.2, 22.0, 7.0, 5.5, 5.75, 11.5, 29.0, 41.6, 29.5, 4.45, 21.0, 52.0, 23.5, 25.75, 20.99, 4.25, 11.5, 7.7, 14.7, 32.0, 23.0, 5.5, 53.83, 5.95, 4.6, 24.5, 12.08, 11.86, 7.29, 20.0, 22.5, 35.84, 6.5, 19.25, 11.0, 19.0, 3.85, 20.0, 13.65, 22.0, 13.0, 36.0, 9.95, 7.99, 4.35, 25.5, 22.0, 5.91, 37.0, 9.03, 4.9, 64.87, 9.6, 19.75, 4.4, 7.25, 3.2, 22.0, 8.7, 16.0, 7.25, 14.5, 43.0, 2.85, 3.99, 18.55, 2.5, 8.9, 12.6, 30.29, 3.83, 14.76, 20.0, 3.23, 34.78, 37.3, 48.76, 8.0, 26.75, 45.62, 14.35, 24.51, 30.5, 23.8, 5.41, 25.31, 5.1, 9.2, 5.55, 8.11, 5.25, 15.5, 8.5, 4.8, 30.5, 7.99, 11.0, 4.56, 17.22, 26.78, 29.4, 4.15, 59.72, 26.75, 10.5, 30.54, 49.79, 16.61, 18.95, 27.0, 13.5, 17.65, 29.95, 29.5, 31.0, 29.5, 29.3, 25.99, 59.29, 3.32, 32.44, 7.42, 17.08, 10.5, 7.65, 11.44, 3.49, 26.0, 45.0, 3.8, 27.0, 45.0, 22.0, 11.0, 49.0, 19.25, 26.0, 8.65, 4.25, 9.8, 22.0, 31.5, 8.95, 8.2, 24.5, 4.25, 43.6, 13.77, 25.75, 61.29, 11.5, 4.9, 43.0, 50.97, 27.0, 59.65, 39.41, 45.52, 25.75, 34.08, 29.0, 32.0, 11.25, 29.8, 57.0, 31.0, 65.0, 20.0, 2.8, 26.0, 10.0, 7.56, 21.37, 5.49, 53.11, 60.75, 6.86, 24.37, 9.35, 17.49, 9.15, 28.5, 30.85, 93.67, 7.22, 31.75, 11.56, 13.9, 23.75, 7.25, 26.0, 8.0, 4.95, 11.85, 7.75, 8.25, 10.44, 49.24, 6.41, 24.77, 39.05, 6.89, 5.18, 48.63, 16.5, 15.95, 29.0, 26.52, 35.0, 8.6, 11.45, 23.0, 48.0, 14.95, 6.75, 5.95, 4.15, 4.25, 33.64, 51.43, 35.67, 7.4, 24.46, 40.47, 19.97, 97.07, 3.65, 10.0, 7.65, 12.65, 75.0, 26.0, 16.46, 55.7, 7.54, 8.86, 56.73, 37.93, 8.95, 75.0, 8.37, 3.95, 22.0, 3.5, 60.0, 45.0, 12.75, 30.0, 21.0, 9.45, 9.45, 32.0, 17.99, 26.0, 44.0, 7.75, 160.0, 14.85, 25.0, 3.19, 8.08, 27.15, 28.0, 16.52, 39.45, 4.55, 56.14, 5.95, 8.75, 33.5, 8.75, 25.0, 28.0, 46.95, 14.36, 33.66, 4.75, 7.08, 33.66, 40.5, 26.11, 45.61, 39.22, 27.43, 19.9, 25.0, 15.5, 6.8, 37.0, 28.75, 15.75, 10.95, 11.97, 49.22, 55.54, 7.6, 8.89, 70.99, 11.66, 32.73, 22.5, 35.0, 41.5, 16.0, 14.0, 11.5, 16.5, 23.45, 37.92, 33.13, 7.89, 70.15, 4.65, 9.72, 13.49, 56.8, 28.95, 56.0, 55.0, 23.5, 5.4, 2.6, 52.0, 44.0, 4.45, 36.0, 3.96, 6.35, 33.0, 52.5, 21.5, 35.0, 24.5, 18.0, 6.2, 48.0, 16.5, 27.87, 44.56, 7.72, 18.36, 7.55, 39.62, 30.3, 35.98, 51.35, 5.2, 18.0, 14.21, 38.5, 9.27, 68.94, 19.25, 67.0, 5.74, 47.35, 4.0, 32.0, 35.5, 23.5, 4.7, 12.0, 5.99, 33.0, 64.95, 75.0, 35.84, 17.63, 40.5, 47.7, 36.5, 6.93, 29.99, 4.75, 10.0, 8.95, 15.5, 38.0, 8.9, 6.25, 44.0, 10.65, 21.0, 3.95, 3.9, 12.41, 45.86, 3.41, 45.73, 5.4, 25.7, 18.25, 9.25, 22.0, 6.2, 6.95, 2.38, 26.76, 54.45, 58.73, 32.0, 5.99, 93.0, 37.99, 58.91, 11.6, 9.5, 9.75, 17.25, 32.0, 3.95, 22.0, 31.0, 44.0, 9.5, 34.0, 42.75, 30.3, 11.6, 48.0, 32.0, 5.95, 56.0, 36.76, 36.64, 6.97, 35.67, 9.95, 13.5, 3.85, 12.69, 33.0, 5.5, 35.0, 69.5, 70.0, 5.35, 30.0, 28.5, 8.6, 31.55, 20.75, 38.5, 35.55, 2.02, 27.35, 17.85, 19.64, 19.4, 4.5, 35.0, 11.5, 9.99, 11.25, 43.0, 31.99, 27.3, 28.25, 21.43, 9.51, 21.66, 25.51, 25.46, 33.63, 30.77, 9.19, 54.0, 38.99, 3.25, 8.5, 3.25, 14.5, 23.0, 17.75, 9.89, 9.15, 11.5, 12.5, 25.64, 5.63, 6.84, 29.5, 79.0, 33.5, 6.0, 4.25, 28.0, 3.25, 32.95, 28.5, 27.11, 7.5, 70.36, 31.15, 37.5, 56.5, 29.5, 16.0, 28.0, 39.51, 19.65, 64.0, 75.0, 8.9, 48.5, 44.0, 36.0, 30.0, 28.9, 55.0, 58.54, 16.35, 78.8, 4.25, 32.9, 5.45, 35.5, 34.5, 26.5, 39.5, 23.0, 4.22, 8.3, 12.85, 4.15, 9.45, 100.0, 19.75, 33.75, 43.0, 48.0, 5.0, 4.35, 46.0, 9.75, 3.65, 35.0, 27.75, 72.94, 120.0, 79.0, 47.5, 4.25, 6.76, 3.6, 16.95, 12.5, 7.75, 38.0, 35.0, 17.75, 7.36, 12.25, 11.5, 11.25, 90.0, 6.2, 52.5, 8.85, 8.25, 39.75, 83.96, 34.0, 5.0, 4.45, 11.37, 7.8, 61.25, 20.0, 6.85, 40.0, 6.25], \"yaxis\": \"y\"}, {\"hoverlabel\": {\"namelength\": 0}, \"hovertemplate\": \"Transmission=Manual<br>Seats=%{x}<br>Price=%{y}\", \"legendgroup\": \"Transmission=Manual\", \"marker\": {\"color\": \"#EF553B\", \"symbol\": \"circle\"}, \"mode\": \"markers\", \"name\": \"Transmission=Manual\", \"showlegend\": true, \"type\": \"scattergl\", \"x\": [5.0, 5.0, 5.0, 5.0, 5.0, 8.0, 5.0, 7.0, 7.0, 8.0, 7.0, 8.0, 7.0, 7.0, 8.0, 7.0, 5.0, 8.0, 5.0, 5.0, 7.0, 7.0, 7.0, 5.0, 5.0, 5.0, 7.0, 5.0, 7.0, 7.0, 5.0, 7.0, 8.0, 7.0, 7.0, 8.0, 7.0, 5.0, 5.0, 8.0, 5.0, 7.0, 5.0, 7.0, 5.0, 8.0, 5.0, 5.0, 8.0, 5.0, 5.0, 7.0, 8.0, 5.0, 5.0, 5.0, 7.0, 5.0, 7.0, 5.0, 7.0, 7.0, 5.0, 5.0, 7.0, 8.0, 4.0, 5.0, 7.0, 8.0, 5.0, 5.0, 6.0, 5.0, 5.0, 5.0, 8.0, 5.0, 5.0, 7.0, 7.0, 7.0, 8.0, 5.0, 8.0, 5.0, 6.0, 5.0, 7.0, 7.0, 7.0, 5.0, 5.0, 7.0, 7.0, 5.0, 5.0, 5.0, 5.0, 5.0, 5.0, 5.0, 5.0, 5.0, 5.0, 8.0, 8.0, 5.0, 7.0, 5.0, 7.0, 7.0, 5.0, 5.0, 5.0, 8.0, 8.0, 7.0, 5.0, 7.0, 5.0, 5.0, 5.0, 5.0, 5.0, 8.0, 8.0, 8.0, 7.0, 5.0, 5.0, 7.0, 5.0, 5.0, 5.0, 5.0, 7.0, 5.0, 5.0, 7.0, 5.0, 5.0, 5.0, 5.0, 7.0, 5.0, 7.0, 7.0, 5.0, 5.0, 5.0, 5.0, 5.0, 5.0, 5.0, 5.0, 7.0, 7.0, 5.0, 5.0, 5.0, 5.0, 5.0, 7.0, 5.0, 5.0, 5.0, 5.0, 5.0, 7.0, 5.0, 7.0, 5.0, 7.0, 5.0, 7.0, 7.0, 7.0, 5.0, 7.0, 5.0, 5.0, 5.0, 7.0, 5.0, 5.0, 5.0, 5.0, 5.0, 8.0, 5.0, 5.0, 5.0, 7.0, 6.0, 5.0, 5.0, 5.0, 5.0, 5.0, 7.0, 5.0, 5.0, 5.0, 5.0, 5.0, 7.0, 8.0, 5.0, 7.0, 5.0, 7.0, 5.0, 5.0, 5.0, 5.0, 5.0, 5.0, 5.0, 5.0, 5.0, 5.0, 5.0, 5.0, 8.0, 5.0, 7.0, 5.0, 5.0, 7.0, 5.0, 5.0, 5.0, 7.0, 5.0, 5.0, 7.0, 8.0, 7.0, 5.0, 5.0, 7.0, 7.0, 5.0, 5.0, 5.0, 5.0, 5.0, 7.0, 7.0, 5.0, 5.0, 7.0, 5.0, 5.0, 5.0, 7.0, 7.0, 5.0, 5.0, 7.0, 5.0, 5.0, 5.0, 7.0, 5.0, 5.0, 5.0, 5.0, 8.0, 8.0, 7.0, 5.0, 5.0, 5.0, 5.0, 5.0, 5.0, 5.0, 8.0, 8.0, 7.0, 5.0, 5.0, 5.0, 5.0, 7.0, 5.0, 5.0, 7.0, 5.0, 6.0, 5.0, 5.0, 7.0, 5.0, 5.0, 5.0, 5.0, 7.0, 5.0, 5.0, 5.0, 5.0, 5.0, 8.0, 5.0, 5.0, 5.0, 7.0, 5.0, 7.0, 8.0, 7.0, 5.0, 5.0, 5.0, 5.0, 5.0, 5.0, 5.0, 5.0, 5.0, 7.0, 5.0, 5.0, 5.0, 5.0, 7.0, 7.0, 5.0, 5.0, 5.0, 5.0, 5.0, 5.0, 5.0, 8.0, 7.0, 7.0, 5.0, 5.0, 5.0, 5.0, 5.0, 5.0, 5.0, 5.0, 7.0, 7.0, 5.0, 5.0, 5.0, 5.0, 5.0, 5.0, 5.0, 5.0, 5.0, 7.0, 5.0, 8.0, 7.0, 7.0, 7.0, 5.0, 8.0, 7.0, 7.0, 5.0, 5.0, 5.0, 7.0, 8.0, 7.0, 5.0, 5.0, 5.0, 5.0, 5.0, 5.0, 7.0, 5.0, 7.0, 5.0, 7.0, 5.0, 7.0, 5.0, 5.0, 7.0, 5.0, 5.0, 5.0, 5.0, 5.0, 5.0, 5.0, 5.0, 5.0, 5.0, 5.0, 8.0, 5.0, 5.0, 5.0, 7.0, 8.0, 5.0, 5.0, 7.0, 5.0, 5.0, 5.0, 5.0, 7.0, 5.0, 5.0, 5.0, 5.0, 5.0, 8.0, 7.0, 5.0, 5.0, 5.0, 5.0, 5.0, 5.0, 5.0, 7.0, 5.0, 5.0, 5.0, 5.0, 5.0, 7.0, 5.0, 5.0, 5.0, 8.0, 5.0, 7.0, 5.0, 5.0, 7.0, 5.0, 5.0, 5.0, 5.0, 5.0, 5.0, 7.0, 5.0, 5.0, 5.0, 5.0, 8.0, 5.0, 7.0, 5.0, 5.0, 5.0, 5.0, 5.0, 5.0, 5.0, 7.0, 5.0, 5.0, 5.0, 8.0, 5.0, 5.0, 7.0, 5.0, 5.0, 5.0, 5.0, 5.0, 5.0, 5.0, 5.0, 5.0, 5.0, 5.0, 5.0, 5.0, 5.0, 5.0, 5.0, 5.0, 5.0, 5.0, 8.0, 5.0, 5.0, 7.0, 5.0, 5.0, 5.0, 5.0, 5.0, 5.0, 5.0, 5.0, 5.0, 5.0, 5.0, 8.0, 5.0, 5.0, 7.0, 5.0, 5.0, 5.0, 5.0, 7.0, 6.0, 5.0, 5.0, 5.0, 5.0, 7.0, 5.0, 5.0, 5.0, 5.0, 5.0, 5.0, 5.0, 5.0, 5.0, 7.0, 7.0, 8.0, 5.0, 7.0, 8.0, 7.0, 5.0, 5.0, 5.0, 5.0, 5.0, 5.0, 5.0, 5.0, 5.0, 5.0, 5.0, 5.0, 7.0, 7.0, 5.0, 8.0, 5.0, 5.0, 5.0, 5.0, 5.0, 5.0, 5.0, 5.0, 5.0, 5.0, 5.0, 8.0, 5.0, 7.0, 5.0, 5.0, 5.0, 5.0, 5.0, 5.0, 7.0, 5.0, 7.0, 7.0, 5.0, 5.0, 7.0, 5.0, 7.0, 5.0, 5.0, 5.0, 5.0, 5.0, 5.0, 5.0, 5.0, 5.0, 5.0, 5.0, 7.0, 5.0, 5.0, 7.0, 5.0, 5.0, 5.0, 8.0, 5.0, 5.0, 5.0, 5.0, 8.0, 5.0, 7.0, 5.0, 8.0, 5.0, 5.0, 5.0, 5.0, 5.0, 7.0, 5.0, 5.0, 5.0, 5.0, 5.0, 7.0, 5.0, 5.0, 5.0, 5.0, 7.0, 5.0, 5.0, 7.0, 5.0, 5.0, 5.0, 5.0, 7.0, 5.0, 5.0, 5.0, 7.0, 5.0, 5.0, 7.0, 7.0, 5.0, 5.0, 5.0, 5.0, 5.0, 5.0, 7.0, 7.0, 5.0, 5.0, 7.0, 5.0, 5.0, 5.0, 7.0, 5.0, 5.0, 5.0, 5.0, 5.0, 5.0, 7.0, 5.0, 5.0, 7.0, 7.0, 5.0, 5.0, 7.0, 7.0, 5.0, 5.0, 5.0, 7.0, 5.0, 5.0, 5.0, 5.0, 5.0, 7.0, 5.0, 5.0, 5.0, 5.0, 7.0, 5.0, 5.0, 8.0, 5.0, 7.0, 5.0, 5.0, 5.0, 5.0, 5.0, 5.0, 7.0, 5.0, 5.0, 5.0, 5.0, 5.0, 5.0, 5.0, 5.0, 5.0, 5.0, 8.0, 5.0, 6.0, 5.0, 7.0, 5.0, 7.0, 5.0, 5.0, 5.0, 8.0, 5.0, 5.0, 5.0, 5.0, 5.0, 5.0, 5.0, 5.0, 5.0, 5.0, 5.0, 5.0, 5.0, 5.0, 5.0, 5.0, 5.0, 5.0, 5.0, 7.0, 5.0, 5.0, 4.0, 5.0, 5.0, 5.0, 5.0, 5.0, 5.0, 5.0, 5.0, 5.0, 5.0, 5.0, 5.0, 8.0, 7.0, 5.0, 5.0, 5.0, 5.0, 8.0, 5.0, 7.0, 5.0, 5.0, 5.0, 5.0, 5.0, 5.0, 5.0, 5.0, 5.0, 5.0, 5.0, 5.0, 5.0, 5.0, 5.0, 7.0, 5.0, 5.0, 5.0, 5.0, 5.0, 7.0, 5.0, 5.0, 8.0, 5.0, 5.0, 7.0, 5.0, 5.0, 7.0, 7.0, 5.0, 5.0, 7.0, 5.0, 5.0, 5.0, 7.0, 5.0, 5.0, 5.0, 5.0, 5.0, 5.0, 5.0, 5.0, 5.0, 5.0, 5.0, 5.0, 5.0, 5.0, 5.0, 5.0, 5.0, 5.0, 5.0, 8.0, 5.0, 5.0, 5.0, 5.0, 7.0, 8.0, 5.0, 5.0, 5.0, 5.0, 7.0, 5.0, 5.0, 5.0, 5.0, 7.0, 5.0, 5.0, 5.0, 5.0, 5.0, 5.0, 7.0, 5.0, 5.0, 7.0, 5.0, 5.0, 5.0, 5.0, 5.0, 5.0, 5.0, 5.0, 5.0, 5.0, 5.0, 5.0, 5.0, 8.0, 5.0, 5.0, 5.0, 5.0, 5.0, 5.0, 7.0, 5.0, 5.0, 7.0, 5.0, 7.0, 5.0, 7.0, 7.0, 7.0, 5.0, 5.0, 5.0, 5.0, 7.0, 5.0, 5.0, 5.0, 5.0, 5.0, 5.0, 4.0, 5.0, 5.0, 7.0, 7.0, 5.0, 5.0, 5.0, 5.0, 7.0, 5.0, 5.0, 5.0, 5.0, 5.0, 5.0, 5.0, 5.0, 5.0, 5.0, 5.0, 5.0, 5.0, 5.0, 5.0, 5.0, 5.0, 5.0, 5.0, 5.0, 5.0, 5.0, 5.0, 5.0, 5.0, 5.0, 5.0, 5.0, 5.0, 7.0, 5.0, 5.0, 5.0, 5.0, 5.0, 5.0, 5.0, 8.0, 5.0, 5.0, 5.0, 5.0, 7.0, 5.0, 5.0, 5.0, 5.0, 5.0, 5.0, 5.0, 5.0, 5.0, 4.0, 5.0, 5.0, 6.0, 5.0, 8.0, 5.0, 5.0, 5.0, 5.0, 5.0, 5.0, 5.0, 5.0, 5.0, 5.0, 5.0, 5.0, 8.0, 7.0, 5.0, 5.0, 8.0, 5.0, 8.0, 5.0, 5.0, 5.0, 5.0, 5.0, 8.0, 5.0, 5.0, 5.0, 8.0, 5.0, 5.0, 5.0, 5.0, 5.0, 5.0, 5.0, 5.0, 5.0, 5.0, 5.0, 5.0, 7.0, 7.0, 5.0, 5.0, 7.0, 5.0, 5.0, 7.0, 5.0, 5.0, 6.0, 5.0, 5.0, 5.0, 5.0, 5.0, 5.0, 5.0, 5.0, 5.0, 7.0, 5.0, 5.0, 5.0, 5.0, 5.0, 5.0, 5.0, 5.0, 5.0, 5.0, 5.0, 5.0, 5.0, 5.0, 5.0, 5.0, 5.0, 5.0, 5.0, 5.0, 5.0, 5.0, 5.0, 5.0, 5.0, 8.0, 7.0, 5.0, 5.0, 5.0, 7.0, 5.0, 7.0, 4.0, 5.0, 5.0, 5.0, 5.0, 5.0, 5.0, 5.0, 5.0, 5.0, 7.0, 5.0, 5.0, 5.0, 5.0, 5.0, 5.0, 5.0, 8.0, 5.0, 5.0, 5.0, 6.0, 5.0, 5.0, 5.0, 5.0, 5.0, 5.0, 5.0, 5.0, 5.0, 5.0, 5.0, 5.0, 7.0, 5.0, 5.0, 5.0, 5.0, 8.0, 5.0, 5.0, 5.0, 5.0, 5.0, 7.0, 5.0, 7.0, 5.0, 5.0, 5.0, 7.0, 5.0, 5.0, 5.0, 5.0, 5.0, 5.0, 5.0, 5.0, 7.0, 7.0, 5.0, 5.0, 5.0, 5.0, 5.0, 7.0, 7.0, 5.0, 5.0, 5.0, 5.0, 7.0, 5.0, 5.0, 5.0, 5.0, 7.0, 5.0, 8.0, 5.0, 5.0, 5.0, 7.0, 5.0, 5.0, 5.0, 5.0, 5.0, 5.0, 5.0, 5.0, 7.0, 5.0, 7.0, 7.0, 5.0, 5.0, 5.0, 5.0, 5.0, 5.0, 5.0, 7.0, 5.0, 5.0, 5.0, 5.0, 5.0, 5.0, 8.0, 8.0, 5.0, 5.0, 5.0, 5.0, 7.0, 5.0, 5.0, 5.0, 8.0, 5.0, 5.0, 5.0, 5.0, 5.0, 5.0, 8.0, 5.0, 7.0, 5.0, 4.0, 5.0, 5.0, 5.0, 5.0, 5.0, 5.0, 5.0, 5.0, 5.0, 5.0, 5.0, 5.0, 7.0, 5.0, 8.0, 5.0, 5.0, 5.0, 7.0, 5.0, 5.0, 5.0, 5.0, 5.0, 5.0, 5.0, 5.0, 5.0, 5.0, 5.0, 5.0, 5.0, 5.0, 5.0, 5.0, 5.0, 5.0, 7.0, 5.0, 5.0, 5.0, 5.0, 5.0, 7.0, 5.0, 5.0, 5.0, 7.0, 5.0, 5.0, 5.0, 5.0, 5.0, 5.0, 5.0, 5.0, 5.0, 5.0, 5.0, 7.0, 5.0, 5.0, 5.0, 5.0, 7.0, 8.0, 7.0, 5.0, 5.0, 5.0, 5.0, 5.0, 5.0, 5.0, 5.0, 8.0, 5.0, 5.0, 5.0, 5.0, 5.0, 5.0, 5.0, 5.0, 5.0, 5.0, 5.0, 4.0, 5.0, 5.0, 7.0, 5.0, 5.0, 5.0, 5.0, 5.0, 5.0, 5.0, 5.0, 5.0, 5.0, 5.0, 5.0, 5.0, 7.0, 5.0, 5.0, 7.0, 5.0, 5.0, 7.0, 5.0, 8.0, 5.0, 5.0, 5.0, 8.0, 5.0, 5.0, 5.0, 5.0, 5.0, 5.0, 5.0, 5.0, 5.0, 5.0, 5.0, 5.0, 5.0, 5.0, 5.0, 5.0, 5.0, 5.0, 5.0, 5.0, 5.0, 5.0, 5.0, 5.0, 5.0, 5.0, 5.0, 5.0, 5.0, 5.0, 5.0, 7.0, 5.0, 5.0, 5.0, 5.0, 5.0, 5.0, 5.0, 5.0, 5.0, 5.0, 5.0, 5.0, 7.0, 5.0, 5.0, 5.0, 5.0, 5.0, 5.0, 5.0, 5.0, 7.0, 5.0, 5.0, 5.0, 5.0, 5.0, 5.0, 5.0, 5.0, 5.0, 5.0, 7.0, 5.0, 5.0, 5.0, 5.0, 5.0, 5.0, 5.0, 5.0, 7.0, 5.0, 5.0, 5.0, 5.0, 5.0, 5.0, 5.0, 5.0, 7.0, 5.0, 5.0, 7.0, 5.0, 5.0, 5.0, 7.0, 5.0, 7.0, 5.0, 5.0, 7.0, 7.0, 5.0, 5.0, 5.0, 5.0, 5.0, 5.0, 5.0, 5.0, 5.0, 5.0, 5.0, 5.0, 7.0, 5.0, 5.0, 7.0, 8.0, 5.0, 5.0, 5.0, 5.0, 5.0, 5.0, 5.0, 7.0, 5.0, 5.0, 7.0, 7.0, 7.0, 5.0, 5.0, 7.0, 5.0, 5.0, 5.0, 5.0, 5.0, 5.0, 5.0, 5.0, 7.0, 5.0, 5.0, 5.0, 5.0, 5.0, 7.0, 5.0, 5.0, 5.0, 5.0, 7.0, 5.0, 5.0, 7.0, 5.0, 5.0, 5.0, 5.0, 5.0, 5.0, 5.0, 5.0, 8.0, 5.0, 5.0, 5.0, 5.0, 5.0, 5.0, 5.0, 7.0, 5.0, 5.0, 5.0, 5.0, 5.0, 5.0, 5.0, 5.0, 5.0, 5.0, 5.0, 5.0, 5.0, 5.0, 5.0, 5.0, 5.0, 5.0, 5.0, 5.0, 5.0, 5.0, 5.0, 5.0, 5.0, 5.0, 5.0, 5.0, 7.0, 5.0, 7.0, 5.0, 5.0, 5.0, 5.0, 5.0, 5.0, 5.0, 5.0, 5.0, 5.0, 5.0, 5.0, 5.0, 5.0, 4.0, 5.0, 5.0, 5.0, 5.0, 5.0, 5.0, 7.0, 7.0, 5.0, 5.0, 5.0, 7.0, 5.0, 5.0, 8.0, 5.0, 5.0, 7.0, 5.0, 5.0, 5.0, 5.0, 5.0, 5.0, 5.0, 5.0, 5.0, 7.0, 5.0, 5.0, 5.0, 5.0, 5.0, 5.0, 5.0, 5.0, 5.0, 5.0, 5.0, 7.0, 5.0, 8.0, 5.0, 5.0, 5.0, 7.0, 5.0, 5.0, 5.0, 7.0, 4.0, 7.0, 8.0, 5.0, 7.0, 5.0, 5.0, 5.0, 5.0, 5.0, 5.0, 5.0, 5.0, 5.0, 5.0, 5.0, 5.0, 7.0, 5.0, 5.0, 5.0, 5.0, 5.0, 5.0, 5.0, 5.0, 5.0, 5.0, 5.0, 5.0, 7.0, 5.0, 5.0, 5.0, 7.0, 8.0, 5.0, 5.0, 5.0, 5.0, 5.0, 5.0, 5.0, 5.0, 5.0, 5.0, 5.0, 5.0, 5.0, 5.0, 5.0, 5.0, 5.0, 5.0, 5.0, 5.0, 5.0, 5.0, 5.0, 5.0, 5.0, 7.0, 5.0, 5.0, 5.0, 5.0, 7.0, 5.0, 5.0, 5.0, 5.0, 5.0, 5.0, 5.0, 5.0, 5.0, 5.0, 5.0, 5.0, 7.0, 5.0, 5.0, 5.0, 5.0, 5.0, 5.0, 5.0, 5.0, 5.0, 5.0, 5.0, 5.0, 5.0, 5.0, 5.0, 5.0, 7.0, 5.0, 5.0, 5.0, 5.0, 5.0, 5.0, 5.0, 5.0, 5.0, 5.0, 7.0, 5.0, 7.0, 5.0, 5.0, 5.0, 5.0, 5.0, 5.0, 5.0, 7.0, 5.0, 5.0, 5.0, 5.0, 5.0, 5.0, 7.0, 5.0, 5.0, 5.0, 8.0, 5.0, 5.0, 5.0, 5.0, 5.0, 5.0, 5.0, 5.0, 5.0, 5.0, 5.0, 5.0, 5.0, 5.0, 5.0, 5.0, 5.0, 5.0, 5.0, 5.0, 5.0, 7.0, 5.0, 5.0, 5.0, 7.0, 5.0, 5.0, 5.0, 5.0, 5.0, 5.0, 5.0, 5.0, 5.0, 7.0, 5.0, 5.0, 5.0, 5.0, 5.0, 5.0, 5.0, 5.0, 5.0, 5.0, 5.0, 5.0, 5.0, 5.0, 8.0, 5.0, 5.0, 5.0, 5.0, 5.0, 5.0, 5.0, 5.0, 7.0, 5.0, 7.0, 5.0, 5.0, 5.0, 5.0, 5.0, 5.0, 5.0, 5.0, 5.0, 5.0, 7.0, 5.0, 7.0, 5.0, 5.0, 5.0, 5.0, 5.0, 5.0, 5.0, 5.0, 5.0, 5.0, 5.0, 5.0, 5.0, 5.0, 5.0, 5.0, 5.0, 5.0, 5.0, 8.0, 5.0, 5.0, 5.0, 5.0, 5.0, 5.0, 5.0, 5.0, 5.0, 5.0, 5.0, 5.0, 5.0, 5.0, 5.0, 5.0, 5.0, 5.0, 5.0, 5.0, 6.0, 5.0, 5.0, 5.0, 7.0, 5.0, 5.0, 5.0, 5.0, 5.0, 5.0, 5.0, 5.0, 5.0, 5.0, 5.0, 5.0, 5.0, 5.0, 5.0, 5.0, 5.0, 5.0, 5.0, 5.0, 5.0, 5.0, 5.0, 5.0, 5.0, 5.0, 5.0, 5.0, 5.0, 5.0, 5.0, 5.0, 5.0, 5.0, 5.0, 5.0, 5.0, 5.0, 5.0, 5.0, 5.0, 5.0, 5.0, 5.0, 8.0, 7.0, 5.0, 5.0, 5.0, 5.0, 5.0, 5.0, 5.0, 5.0, 5.0, 5.0, 5.0, 5.0, 5.0, 5.0, 5.0, 8.0, 5.0, 5.0, 5.0, 7.0, 5.0, 5.0, 5.0, 5.0, 5.0, 5.0, 5.0, 5.0, 7.0, 7.0, 5.0, 5.0, 4.0, 4.0, 5.0, 5.0, 5.0, 5.0, 5.0, 5.0, 5.0, 5.0, 7.0, 5.0, 7.0, 5.0, 5.0, 5.0, 5.0, 5.0, 4.0, 7.0, 5.0, 5.0, 7.0, 5.0, 5.0, 5.0, 5.0, 7.0, 5.0, 5.0, 5.0, 7.0, 7.0, 5.0, 5.0, 5.0, 7.0, 5.0, 5.0, 5.0, 7.0, 5.0, 5.0, 5.0, 5.0, 5.0, 5.0, 5.0, 5.0, 5.0, 5.0, 5.0, 5.0, 5.0, 5.0, 5.0, 5.0, 7.0, 5.0, 5.0, 5.0, 5.0, 5.0, 5.0, 5.0, 5.0, 5.0, 5.0, 5.0, 5.0, 5.0, 5.0, 5.0, 5.0, 5.0, 5.0, 5.0, 5.0, 5.0, 5.0, 5.0, 7.0, 5.0, 5.0, 5.0, 5.0, 7.0, 5.0, 5.0, 5.0, 5.0, 5.0, 5.0, 5.0, 5.0, 5.0, 5.0, 5.0, 8.0, 5.0, 7.0, 7.0, 5.0, 5.0, 5.0, 5.0, 5.0, 5.0, 7.0, 5.0, 5.0, 5.0, 5.0, 5.0, 5.0, 5.0, 5.0, 5.0, 7.0, 5.0, 5.0, 5.0, 5.0, 5.0, 5.0, 5.0, 7.0, 5.0, 4.0, 5.0, 5.0, 5.0, 5.0, 5.0, 5.0, 5.0, 7.0, 5.0, 5.0, 5.0, 5.0, 5.0, 7.0, 5.0, 5.0, 5.0, 5.0, 5.0, 5.0, 5.0, 5.0, 7.0, 7.0, 5.0, 5.0, 5.0, 7.0, 5.0, 5.0, 5.0, 5.0, 5.0, 7.0, 5.0, 5.0, 7.0, 5.0, 5.0, 5.0, 5.0, 5.0, 5.0, 5.0, 5.0, 5.0, 5.0, 5.0, 5.0, 5.0, 5.0, 5.0, 5.0, 5.0, 5.0, 5.0, 5.0, 5.0, 5.0, 5.0, 5.0, 7.0, 5.0, 5.0, 7.0, 5.0, 5.0, 5.0, 7.0, 5.0, 5.0, 5.0, 5.0, 5.0, 7.0, 5.0, 5.0, 5.0, 5.0, 5.0, 5.0, 5.0, 5.0, 5.0, 5.0, 5.0, 5.0, 5.0, 5.0, 5.0, 5.0, 5.0, 5.0, 5.0, 5.0, 5.0, 5.0, 5.0, 5.0, 5.0, 5.0, 5.0, 5.0, 5.0, 7.0, 5.0, 7.0, 5.0, 5.0, 5.0, 5.0, 5.0, 7.0, 5.0, 5.0, 5.0, 5.0, 5.0, 5.0, 5.0, 7.0, 7.0, 7.0, 5.0, 5.0, 5.0, 5.0, 5.0, 5.0, 5.0, 5.0, 5.0, 5.0, 7.0, 5.0, 8.0, 5.0, 5.0, 5.0, 5.0, 5.0, 5.0, 5.0, 5.0, 7.0, 5.0, 5.0, 5.0, 5.0, 5.0, 5.0, 7.0, 5.0, 5.0, 5.0, 5.0, 5.0, 5.0, 5.0, 5.0, 5.0, 5.0, 5.0, 5.0, 5.0, 5.0, 5.0, 5.0, 5.0, 7.0, 5.0, 5.0, 5.0, 5.0, 5.0, 5.0, 7.0, 7.0, 5.0, 7.0, 5.0, 5.0, 5.0, 5.0, 5.0, 5.0, 5.0, 5.0, 5.0, 5.0, 5.0, 5.0, 5.0, 5.0, 5.0, 5.0, 5.0, 5.0, 5.0, 5.0, 7.0, 5.0, 5.0, 5.0, 5.0, 5.0, 5.0, 4.0, 5.0, 7.0, 5.0, 7.0, 5.0, 5.0, 5.0, 5.0, 5.0, 5.0, 5.0, 5.0, 7.0, 5.0, 5.0, 5.0, 7.0, 5.0, 5.0, 5.0, 5.0, 5.0, 5.0, 5.0, 5.0, 5.0, 5.0, 5.0, 5.0, 5.0, 7.0, 5.0, 5.0, 5.0, 5.0, 5.0, 5.0, 5.0, 5.0, 5.0, 5.0, 7.0, 5.0, 5.0, 5.0, 5.0, 5.0, 5.0, 7.0, 5.0, 5.0, 5.0, 5.0, 5.0, 5.0, 5.0, 5.0, 5.0, 5.0, 5.0, 5.0, 5.0, 5.0, 5.0, 5.0, 5.0, 5.0, 7.0, 5.0, 5.0, 5.0, 5.0, 5.0, 5.0, 5.0, 5.0, 5.0, 5.0, 5.0, 7.0, 5.0, 5.0, 5.0, 5.0, 5.0, 5.0, 5.0, 5.0, 5.0, 5.0, 5.0, 5.0, 5.0, 5.0, 5.0, 5.0, 5.0, 5.0, 5.0, 5.0, 5.0, 5.0, 7.0, 8.0, 4.0, 5.0, 5.0, 5.0, 5.0, 5.0, 5.0, 7.0, 5.0, 5.0, 5.0, 5.0, 5.0, 8.0, 5.0, 5.0, 5.0, 5.0, 5.0, 5.0, 5.0, 5.0, 5.0, 8.0, 7.0, 7.0, 5.0, 5.0, 5.0, 5.0, 7.0, 5.0, 5.0, 5.0, 5.0, 5.0, 5.0, 5.0, 5.0, 5.0, 5.0, 5.0, 5.0, 5.0, 5.0, 5.0, 5.0, 5.0, 5.0, 5.0, 5.0, 5.0, 5.0, 5.0, 5.0, 5.0, 5.0, 5.0, 5.0, 5.0, 5.0, 5.0, 7.0, 7.0, 5.0, 5.0, 5.0, 5.0, 5.0, 5.0, 5.0, 5.0, 5.0, 5.0, 5.0, 5.0, 5.0, 5.0, 5.0, 5.0, 5.0, 5.0, 8.0, 5.0, 5.0, 5.0, 5.0, 5.0, 8.0, 5.0, 5.0, 5.0, 5.0, 7.0, 5.0, 5.0, 5.0, 4.0, 8.0, 5.0, 5.0, 7.0, 5.0, 5.0, 5.0, 5.0, 5.0, 5.0, 5.0, 5.0, 5.0, 5.0, 5.0, 5.0, 7.0, 5.0, 5.0, 5.0, 5.0, 5.0, 5.0, 5.0, 5.0, 5.0, 5.0, 7.0, 5.0, 5.0, 7.0, 5.0, 5.0, 5.0, 8.0, 5.0, 5.0, 5.0, 5.0, 5.0, 5.0, 5.0, 5.0, 5.0, 5.0, 7.0, 5.0, 5.0, 5.0, 5.0, 5.0, 5.0, 5.0, 5.0, 5.0, 5.0, 5.0, 6.0, 5.0, 5.0, 5.0, 5.0, 5.0, 5.0, 5.0, 5.0, 5.0, 5.0, 5.0, 5.0, 5.0, 5.0, 6.0, 5.0, 5.0, 5.0, 5.0, 5.0, 5.0, 5.0, 5.0, 5.0, 5.0, 5.0, 5.0, 7.0, 5.0, 5.0, 7.0, 5.0, 7.0, 5.0, 5.0, 5.0, 5.0, 5.0, 5.0, 5.0, 5.0, 5.0, 5.0, 5.0, 5.0, 8.0, 5.0, 5.0, 5.0, 5.0, 5.0, 5.0, 7.0, 5.0, 5.0, 5.0, 5.0, 7.0, 5.0, 5.0, 5.0, 5.0, 5.0, 5.0, 5.0, 8.0, 5.0, 5.0, 7.0, 5.0, 7.0, 5.0, 7.0, 5.0, 5.0, 5.0, 5.0, 5.0, 5.0, 5.0, 5.0, 5.0, 5.0, 5.0, 5.0, 5.0, 5.0, 5.0, 5.0, 7.0, 5.0, 7.0, 5.0, 5.0, 5.0, 5.0, 5.0, 5.0, 5.0, 5.0, 5.0, 5.0, 5.0, 7.0, 5.0, 5.0, 5.0, 5.0, 5.0, 5.0, 5.0, 5.0, 5.0, 5.0, 5.0, 5.0, 5.0, 5.0, 5.0, 5.0, 5.0, 5.0, 5.0, 7.0, 5.0, 5.0, 5.0, 5.0, 5.0, 5.0, 5.0, 5.0, 5.0, 5.0, 5.0, 5.0, 5.0, 5.0, 5.0, 5.0, 5.0, 5.0, 5.0, 5.0, 5.0, 5.0, 5.0, 5.0, 6.0, 5.0, 5.0, 5.0, 5.0, 5.0, 5.0, 5.0, 7.0, 7.0, 5.0, 5.0, 5.0, 5.0, 5.0, 5.0, 5.0, 5.0, 5.0, 5.0, 5.0, 5.0, 5.0, 5.0, 5.0, 5.0, 5.0, 5.0, 8.0, 5.0, 5.0, 5.0, 5.0, 7.0, 5.0, 5.0, 5.0, 7.0, 5.0, 5.0, 5.0, 5.0, 5.0, 5.0, 5.0, 5.0, 5.0, 5.0, 5.0, 5.0, 5.0, 5.0, 5.0, 5.0, 5.0, 5.0, 5.0, 5.0, 5.0, 5.0, 5.0, 5.0, 5.0, 5.0, 5.0, 5.0, 5.0, 5.0, 5.0, 5.0, 7.0, 5.0, 5.0, 5.0, 5.0, 5.0, 5.0, 5.0, 5.0, 5.0, 5.0, 5.0, 8.0, 5.0, 7.0, 5.0, 5.0, 5.0, 5.0, 5.0, 5.0, 5.0, 5.0, 5.0, 5.0, 5.0, 5.0, 5.0, 5.0, 5.0, 5.0, 5.0, 5.0, 5.0, 5.0, 5.0, 5.0, 5.0, 4.0, 5.0, 5.0, 5.0, 5.0, 5.0, 5.0, 5.0, 5.0, 5.0, 5.0, 5.0, 5.0, 7.0, 5.0, 5.0, 5.0, 5.0, 5.0, 5.0, 5.0, 5.0, 7.0, 7.0, 5.0, 5.0, 5.0, 5.0, 5.0, 5.0, 5.0, 5.0, 5.0, 7.0, 5.0, 5.0, 5.0, 5.0, 7.0, 5.0, 5.0, 5.0, 7.0, 5.0, 5.0, 5.0, 5.0, 5.0, 7.0, 5.0, 5.0, 5.0, 5.0, 5.0, 5.0, 7.0, 5.0, 5.0, 5.0, 5.0, 5.0, 7.0, 5.0, 5.0, 5.0, 5.0, 5.0, 5.0, 5.0, 5.0, 5.0, 5.0, 5.0, 5.0, 5.0, 5.0, 5.0, 5.0, 5.0, 5.0, 5.0, 5.0, 5.0, 7.0, 5.0, 5.0, 5.0, 5.0, 5.0, 5.0, 5.0, 4.0, 5.0, 5.0, 8.0, 5.0, 5.0, 5.0, 5.0, 5.0, 5.0, 5.0, 5.0, 5.0, 5.0, 6.0, 5.0, 5.0, 5.0, 5.0, 7.0, 5.0, 5.0, 5.0, 5.0, 5.0, 5.0, 7.0, 5.0, 5.0, 5.0, 5.0, 5.0, 5.0, 5.0, 5.0, 7.0, 5.0, 5.0, 5.0, 5.0, 7.0, 5.0, 5.0, 5.0, 5.0, 5.0, 5.0, 5.0, 5.0, 7.0, 5.0, 5.0, 5.0, 5.0, 5.0, 5.0, 5.0, 5.0, 5.0, 5.0, 5.0, 5.0, 5.0, 5.0, 5.0, 5.0, 5.0, 7.0, 5.0, 5.0, 5.0, 5.0, 5.0, 7.0, 5.0, 5.0, 5.0, 5.0, 5.0, 5.0, 5.0, 5.0, 5.0, 5.0, 5.0, 5.0, 7.0, 5.0, 5.0, 5.0, 7.0, 5.0, 5.0, 5.0, 5.0, 5.0, 7.0, 5.0, 5.0, 5.0, 5.0, 5.0, 5.0, 5.0, 5.0, 5.0, 5.0, 5.0, 7.0, 5.0, 5.0, 5.0, 5.0, 5.0, 5.0, 5.0, 7.0, 7.0, 7.0, 5.0, 5.0, 5.0, 5.0, 5.0, 5.0, 5.0, 5.0, 5.0, 5.0, 5.0, 5.0, 5.0, 5.0, 5.0, 5.0, 5.0, 5.0, 5.0, 7.0, 7.0, 5.0, 5.0, 5.0, 5.0, 5.0, 5.0, 5.0, 7.0, 5.0, 5.0, 5.0, 5.0, 5.0, 6.0, 5.0, 5.0, 7.0, 5.0, 5.0, 5.0, 7.0, 5.0, 5.0, 5.0, 5.0, 5.0, 5.0, 5.0, 5.0, 5.0, 5.0, 5.0, 5.0, 5.0, 5.0, 5.0, 5.0, 5.0, 5.0, 5.0, 5.0, 5.0, 5.0, 5.0, 5.0, 5.0, 5.0, 5.0, 5.0, 7.0, 5.0, 5.0, 5.0, 5.0, 5.0, 5.0, 5.0, 5.0, 5.0, 5.0, 5.0, 5.0, 5.0, 5.0, 5.0, 5.0, 5.0, 5.0, 5.0, 5.0, 7.0, 5.0, 5.0, 5.0, 5.0, 5.0, 5.0, 5.0, 5.0, 5.0, 5.0, 5.0, 5.0, 5.0, 5.0, 5.0, 7.0, 5.0, 5.0, 5.0, 5.0, 5.0, 5.0, 5.0, 5.0, 7.0, 5.0, 5.0, 5.0, 5.0, 5.0, 5.0, 7.0, 5.0, 7.0, 5.0, 5.0, 5.0, 5.0, 5.0, 5.0, 5.0, 5.0, 5.0, 5.0, 7.0, 5.0, 5.0, 4.0, 5.0, 5.0, 5.0, 5.0, 5.0, 5.0, 5.0, 5.0, 5.0, 5.0, 5.0, 5.0, 5.0, 5.0, 5.0, 5.0, 5.0, 5.0, 5.0, 5.0, 5.0, 5.0, 7.0, 7.0, 7.0, 5.0, 5.0, 5.0, 5.0, 5.0, 5.0, 5.0, 5.0, 5.0, 5.0, 5.0, 5.0, 5.0, 7.0, 5.0, 5.0, 5.0, 5.0, 5.0, 5.0, 5.0, 5.0, 5.0, 5.0, 5.0, 5.0, 5.0, 5.0, 5.0, 5.0, 5.0, 5.0, 5.0, 5.0, 5.0, 7.0, 5.0, 5.0, 5.0, 5.0, 5.0, 5.0, 5.0, 5.0, 7.0, 7.0, 5.0, 5.0, 5.0, 5.0, 5.0, 5.0, 5.0, 5.0, 5.0, 5.0, 5.0, 5.0, 5.0, 5.0, 5.0, 5.0, 7.0, 5.0, 5.0, 5.0, 5.0, 5.0, 5.0, 5.0, 5.0, 5.0, 5.0, 5.0, 5.0, 5.0, 5.0, 5.0, 5.0, 5.0, 5.0, 5.0, 5.0, 5.0, 5.0, 7.0, 5.0, 5.0, 5.0, 7.0, 5.0, 5.0, 5.0, 5.0, 5.0, 5.0, 5.0, 4.0, 5.0, 7.0, 5.0, 5.0, 5.0, 5.0, 5.0, 5.0, 7.0, 5.0, 7.0, 5.0, 5.0, 7.0, 5.0, 5.0, 5.0, 5.0, 5.0, 5.0, 5.0, 5.0, 7.0, 7.0, 5.0, 5.0, 5.0, 5.0, 5.0, 5.0, 5.0, 5.0, 5.0, 6.0, 5.0, 5.0, 5.0, 7.0, 5.0, 5.0, 5.0, 5.0, 5.0, 5.0, 5.0, 5.0, 5.0, 5.0, 8.0, 5.0, 5.0, 5.0, 5.0, 5.0, 7.0, 5.0, 5.0, 5.0, 5.0, 5.0, 5.0, 5.0, 5.0, 5.0, 5.0, 5.0, 5.0, 5.0, 5.0, 5.0, 5.0, 5.0, 7.0, 5.0, 7.0, 5.0, 5.0, 5.0, 7.0, 5.0, 5.0, 5.0, 5.0, 5.0, 5.0, 5.0, 5.0, 5.0, 7.0, 5.0, 5.0, 5.0, 7.0, 5.0, 5.0, 5.0, 5.0, 5.0, 5.0, 5.0, 5.0, 5.0, 5.0, 5.0, 5.0, 5.0, 5.0, 5.0, 5.0, 5.0, 5.0, 5.0, 5.0, 5.0, 7.0, 5.0, 5.0, 5.0, 5.0, 5.0, 5.0, 5.0, 5.0, 5.0, 5.0, 5.0, 4.0, 5.0, 5.0, 5.0, 5.0, 5.0, 5.0, 5.0, 5.0, 5.0, 5.0, 5.0, 5.0, 5.0, 5.0, 7.0, 5.0, 5.0, 5.0, 5.0, 5.0, 5.0, 5.0, 5.0, 5.0, 5.0, 5.0, 5.0, 5.0, 5.0, 5.0, 5.0, 5.0, 5.0, 5.0, 5.0, 5.0, 8.0, 7.0, 5.0, 5.0, 5.0, 5.0, 5.0, 5.0, 5.0, 5.0, 5.0, 5.0, 5.0, 5.0, 5.0, 5.0, 5.0, 5.0, 5.0, 7.0, 7.0, 5.0, 5.0, 5.0, 7.0, 5.0, 5.0, 5.0, 5.0, 5.0, 5.0, 4.0, 5.0, 5.0, 5.0, 5.0, 5.0, 5.0, 5.0, 5.0, 5.0, 5.0, 5.0, 5.0, 5.0, 5.0, 5.0, 5.0, 5.0, 5.0, 5.0, 5.0, 5.0, 5.0, 5.0, 5.0, 5.0, 5.0, 5.0, 5.0, 5.0, 5.0, 5.0, 5.0, 5.0, 5.0, 5.0, 5.0, 5.0, 5.0, 5.0, 5.0, 7.0, 5.0, 5.0, 5.0, 5.0, 5.0, 5.0, 5.0, 5.0, 7.0, 5.0, 5.0, 5.0, 5.0, 5.0, 5.0, 5.0, 5.0, 5.0, 5.0, 5.0, 5.0, 8.0, 5.0, 5.0, 5.0, 6.0, 5.0, 5.0, 5.0, 5.0, 5.0, 5.0, 5.0, 5.0, 5.0, 5.0, 5.0, 5.0, 5.0, 5.0, 5.0, 5.0, 5.0, 5.0, 7.0, 5.0, 5.0, 5.0, 5.0, 5.0, 5.0, 5.0, 5.0, 5.0, 5.0, 5.0, 5.0, 6.0, 5.0, 5.0, 5.0, 7.0, 5.0, 7.0, 5.0, 5.0, 5.0, 5.0, 5.0, 5.0, 5.0, 5.0, 5.0, 5.0, 7.0, 7.0, 5.0, 5.0, 5.0, 5.0, 5.0, 5.0, 5.0, 5.0, 5.0, 5.0, 5.0, 5.0, 5.0, 5.0, 5.0, 5.0, 5.0, 5.0, 5.0, 7.0, 5.0, 5.0, 5.0, 5.0, 5.0, 5.0, 5.0, 5.0, 5.0, 5.0, 5.0, 5.0, 5.0, 5.0, 5.0, 5.0, 5.0, 5.0, 5.0, 5.0, 5.0, 5.0, 5.0, 5.0, 5.0, 5.0, 5.0, 5.0, 5.0, 5.0, 5.0, 5.0, 5.0, 5.0, 8.0, 7.0, 5.0, 5.0, 5.0, 5.0, 5.0, 5.0, 5.0, 5.0, 5.0, 5.0, 5.0, 5.0, 5.0, 5.0, 5.0, 5.0, 5.0, 5.0, 5.0, 5.0, 5.0, 5.0, 5.0, 5.0, 7.0, 5.0, 5.0, 5.0, 5.0, 5.0, 5.0, 5.0, 5.0, 5.0, 5.0, 6.0, 6.0, 5.0, 5.0, 5.0, 4.0, 5.0, 5.0, 5.0, 5.0, 7.0, 5.0, 5.0, 4.0, 5.0, 5.0, 5.0, 5.0, 5.0, 5.0, 5.0, 5.0, 5.0, 5.0, 5.0, 5.0, 5.0, 7.0, 5.0, 5.0, 5.0, 5.0, 5.0, 5.0, 5.0, 5.0, 5.0, 5.0, 5.0, 5.0, 8.0, 5.0, 5.0, 5.0, 5.0, 7.0, 5.0, 5.0, 7.0, 5.0, 5.0, 5.0, 5.0, 5.0, 7.0, 5.0, 5.0, 5.0, 5.0, 6.0, 5.0, 5.0, 5.0, 5.0, 5.0, 5.0, 7.0, 5.0, 7.0, 5.0, 5.0, 5.0, 4.0, 5.0, 5.0, 5.0, 5.0, 5.0, 5.0, 6.0, 5.0, 5.0, 5.0, 5.0, 5.0, 5.0, 5.0, 5.0, 5.0, 5.0, 5.0, 5.0, 5.0, 5.0, 5.0, 5.0, 5.0, 5.0, 5.0, 7.0, 5.0, 5.0, 5.0, 5.0, 5.0, 5.0, 5.0, 5.0, 5.0, 5.0, 5.0, 5.0, 7.0, 5.0, 5.0, 5.0, 7.0, 5.0, 5.0, 5.0, 5.0, 5.0, 5.0, 5.0, 5.0, 5.0, 5.0, 5.0, 5.0, 5.0, 5.0, 5.0, 5.0, 5.0, 5.0, 7.0, 7.0, 5.0, 5.0, 4.0, 6.0, 5.0, 8.0, 5.0, 5.0, 5.0, 5.0, 5.0, 5.0, 5.0, 5.0, 5.0, 5.0, 5.0, 5.0, 5.0, 7.0, 5.0, 5.0, 5.0, 5.0, 5.0, 5.0, 5.0, 5.0, 5.0, 5.0, 5.0, 5.0, 5.0, 5.0, 5.0, 5.0, 5.0, 5.0, 5.0, 5.0, 5.0, 5.0, 5.0, 5.0, 5.0, 5.0, 5.0, 5.0, 5.0, 5.0, 5.0, 5.0, 5.0, 5.0, 5.0, 5.0, 5.0, 5.0, 5.0, 5.0, 5.0, 5.0, 5.0, 5.0, 5.0, 5.0, 5.0, 5.0, 5.0, 5.0, 5.0, 5.0, 5.0, 5.0, 5.0, 5.0, 5.0, 5.0, 5.0, 5.0, 5.0, 8.0, 5.0, 5.0, 5.0, 5.0, 5.0, 5.0, 5.0, 5.0, 5.0, 4.0, 5.0, 5.0, 5.0, 5.0, 4.0, 5.0, 5.0, 5.0, 5.0, 5.0, 5.0, 7.0, 7.0, 5.0, 5.0, 5.0, 5.0, 5.0, 5.0, 5.0, 5.0, 5.0, 5.0, 5.0, 6.0, 5.0, 5.0, 5.0, 5.0, 5.0, 5.0, 5.0, 5.0, 5.0, 5.0, 5.0, 5.0, 5.0, 5.0, 5.0, 5.0, 5.0, 5.0, 4.0, 5.0, 5.0, 4.0, 5.0, 7.0, 5.0, 5.0, 5.0, 7.0, 5.0, 4.0, 5.0, 5.0, 5.0, 5.0, 5.0, 5.0, 5.0, 7.0, 5.0, 5.0, 5.0, 7.0, 5.0, 5.0, 5.0, 5.0, 5.0, 5.0, 5.0, 5.0, 5.0, 5.0, 5.0, 5.0, 5.0, 5.0, 5.0, 5.0, 5.0, 5.0, 5.0, 5.0, 5.0, 5.0, 4.0, 5.0, 5.0, 5.0, 5.0, 5.0, 5.0, 5.0, 5.0, 5.0, 6.0, 5.0, 5.0, 5.0, 5.0, 5.0, 5.0, 5.0, 5.0, 5.0, 5.0, 6.0, 5.0, 5.0, 5.0, 5.0, 5.0, 5.0, 5.0, 5.0, 5.0, 5.0, 5.0, 5.0, 5.0, 5.0, 5.0, 5.0, 5.0, 8.0, 5.0, 5.0, 5.0, 5.0, 5.0, 5.0, 5.0, 8.0, 5.0, 5.0, 5.0, 5.0, 5.0, 5.0, 5.0, 5.0, 5.0, 5.0, 5.0, 7.0, 5.0, 7.0, 5.0, 5.0, 5.0, 5.0, 4.0, 5.0, 5.0, 5.0, 5.0, 7.0, 5.0, 5.0, 5.0, 5.0, 5.0, 5.0, 5.0, 5.0, 5.0, 5.0, 5.0, 5.0, 5.0, 5.0, 5.0, 5.0, 6.0, 5.0, 5.0, 5.0, 7.0, 7.0, 5.0, 5.0, 7.0, 5.0, 5.0, 5.0, 5.0, 5.0, 5.0, 5.0, 7.0, 5.0, 5.0, 5.0, 5.0, 5.0, 5.0, 5.0, 5.0, 5.0, 5.0, 5.0, 5.0, 5.0, 5.0, 5.0, 5.0, 5.0, 5.0, 4.0, 5.0, 5.0, 5.0, 5.0, 5.0, 5.0, 5.0, 5.0, 5.0, 5.0, 5.0, 8.0, 5.0, 5.0, 5.0, 8.0, 5.0, 8.0, 5.0, 5.0, 5.0, 5.0, 5.0, 5.0, 5.0, 5.0, 5.0, 5.0, 5.0, 5.0, 5.0, 5.0, 5.0, 5.0, 4.0, 5.0, 5.0, 5.0, 5.0, 5.0, 5.0, 5.0, 5.0, 5.0, 2.0, 5.0, 5.0, 5.0, 5.0, 5.0, 5.0, 5.0, 5.0, 5.0, 5.0, 5.0, 5.0, 5.0, 7.0, 5.0, 5.0, 5.0, 5.0, 5.0, 7.0, 7.0, 5.0, 7.0, 5.0, 5.0, 5.0, 5.0, 5.0, 5.0, 5.0, 5.0, 5.0, 5.0, 5.0, 5.0, 5.0, 5.0, 5.0, 5.0, 5.0, 5.0, 5.0, 5.0, 5.0, 5.0, 5.0, 5.0, 5.0, 5.0, 5.0, 5.0, 5.0, 5.0, 5.0, 5.0, 5.0, 5.0, 5.0, 5.0, 5.0, 5.0, 5.0, 5.0, 5.0, 5.0, 5.0, 5.0, 5.0, 5.0, 5.0, 5.0, 5.0, 5.0, 5.0, 5.0, 5.0, 5.0, 5.0, 5.0, 5.0, 5.0, 5.0, 5.0, 4.0, 5.0, 5.0, 4.0, 5.0, 5.0, 5.0, 5.0, 5.0, 5.0, 5.0, 5.0, 5.0, 5.0, 5.0, 5.0, 5.0, 5.0, 5.0, 7.0, 5.0, 5.0, 5.0, 5.0, 5.0, 5.0, 5.0, 5.0, 5.0, 5.0, 5.0, 5.0, 5.0, 5.0, 5.0, 5.0, 5.0, 5.0, 5.0, 5.0, 5.0, 5.0, 5.0], \"xaxis\": \"x\", \"y\": [5.9, 2.7, 5.0, 4.45, 1.0, 4.0, 3.3, 4.0, 6.5, 10.9, 6.5, 7.9, 9.2, 11.0, 3.5, 3.5, 2.6, 4.5, 2.6, 1.45, 7.5, 9.0, 3.9, 0.85, 0.8, 0.85, 9.0, 1.85, 5.2, 4.0, 5.0, 6.25, 10.5, 12.99, 2.5, 6.85, 13.0, 3.85, 1.76, 7.25, 3.65, 7.5, 2.5, 7.5, 3.8, 5.9, 2.5, 3.5, 4.3, 4.0, 2.25, 16.75, 5.7, 7.5, 1.5, 4.0, 10.64, 2.5, 5.0, 4.0, 4.5, 4.0, 2.7, 1.35, 3.9, 8.25, 0.9, 5.0, 10.5, 4.8, 1.8, 2.5, 8.75, 3.9, 3.5, 1.0, 12.0, 2.5, 2.8, 12.99, 1.5, 11.99, 8.0, 5.99, 8.5, 4.2, 9.15, 0.85, 5.5, 7.99, 4.8, 2.9, 3.0, 11.4, 23.0, 1.5, 2.7, 0.85, 2.5, 6.0, 3.0, 3.0, 3.5, 2.25, 5.0, 6.95, 4.5, 2.5, 11.0, 7.25, 12.75, 8.9, 4.75, 2.9, 4.42, 13.2, 4.95, 7.5, 3.55, 12.25, 3.5, 1.05, 1.65, 1.15, 2.6, 5.0, 7.8, 5.25, 11.75, 7.0, 5.25, 6.0, 2.6, 2.1, 1.1, 6.0, 6.25, 1.05, 0.7, 10.75, 0.9, 2.0, 2.51, 0.9, 6.25, 2.49, 9.0, 10.5, 1.25, 1.2, 3.5, 5.15, 2.2, 1.85, 0.95, 1.55, 9.8, 11.0, 9.5, 6.55, 5.4, 3.1, 1.6, 11.0, 4.2, 1.65, 3.5, 0.7, 0.86, 12.49, 2.25, 5.5, 4.7, 13.5, 3.6, 9.6, 3.6, 9.24, 3.85, 7.0, 3.85, 3.65, 4.75, 6.0, 0.75, 4.0, 4.75, 3.75, 4.5, 2.75, 3.25, 2.2, 3.2, 6.8, 3.45, 1.5, 4.11, 3.0, 1.5, 5.0, 6.4, 2.0, 6.3, 6.2, 2.95, 1.4, 6.99, 4.95, 4.5, 2.2, 1.2, 6.7, 1.6, 1.45, 9.0, 3.75, 6.25, 2.3, 1.5, 3.0, 4.6, 0.92, 3.25, 0.8, 7.96, 2.3, 1.95, 5.4, 3.3, 8.25, 1.0, 4.45, 1.1, 15.0, 4.4, 3.5, 16.0, 10.75, 10.45, 3.75, 3.8, 14.3, 16.0, 2.9, 1.9, 2.35, 5.0, 2.5, 8.0, 3.5, 4.0, 2.6, 12.0, 3.5, 2.0, 2.6, 12.0, 3.0, 1.65, 3.75, 7.0, 0.85, 1.75, 1.15, 12.0, 3.65, 2.5, 3.2, 1.69, 2.9, 8.0, 6.5, 2.25, 3.91, 5.95, 3.19, 1.25, 5.9, 3.85, 8.75, 4.5, 10.75, 1.35, 4.75, 4.75, 2.25, 15.5, 1.1, 4.0, 9.57, 5.75, 9.95, 5.8, 8.5, 3.75, 3.85, 4.5, 4.33, 4.5, 12.99, 1.75, 0.99, 1.5, 6.95, 2.75, 12.6, 1.8, 4.6, 4.5, 10.85, 2.05, 8.3, 12.0, 8.5, 2.0, 2.0, 4.75, 1.51, 3.5, 3.5, 6.1, 6.99, 2.4, 13.7, 2.8, 1.11, 4.65, 4.0, 7.2, 15.0, 3.5, 2.65, 0.6, 3.65, 2.9, 1.5, 2.2, 2.65, 8.26, 13.25, 1.5, 1.25, 2.4, 3.65, 4.25, 5.5, 1.0, 1.2, 20.5, 20.5, 1.9, 3.9, 2.9, 2.6, 3.1, 3.7, 3.0, 4.5, 4.0, 16.5, 4.4, 8.4, 5.3, 13.28, 10.75, 1.75, 7.0, 6.0, 5.9, 3.15, 1.99, 3.85, 6.75, 5.21, 11.75, 1.0, 3.0, 0.85, 4.5, 5.67, 1.22, 5.0, 3.0, 3.6, 5.25, 12.25, 4.25, 10.1, 2.25, 3.75, 8.25, 0.85, 0.7, 11.45, 0.95, 1.5, 2.85, 3.7, 2.4, 2.0, 2.0, 1.6, 5.5, 6.5, 1.28, 1.6, 17.75, 13.5, 3.0, 5.1, 10.25, 1.3, 4.25, 3.11, 1.8, 16.0, 0.85, 3.5, 6.25, 1.4, 3.5, 4.0, 12.0, 6.5, 3.0, 4.5, 1.5, 3.25, 4.5, 1.2, 13.0, 4.0, 3.75, 7.99, 3.11, 4.75, 23.5, 3.05, 7.03, 0.95, 6.0, 1.6, 20.5, 1.75, 1.9, 4.5, 1.5, 1.55, 6.0, 1.15, 1.55, 6.25, 11.5, 5.5, 6.1, 5.2, 2.51, 5.5, 8.0, 5.5, 4.7, 4.41, 1.8, 4.4, 6.0, 3.0, 3.0, 17.95, 4.25, 6.4, 7.25, 5.5, 2.5, 2.2, 11.5, 3.6, 2.5, 4.8, 0.91, 3.5, 2.25, 4.1, 4.55, 1.9, 5.0, 2.3, 0.45, 0.53, 3.75, 2.5, 6.9, 3.25, 2.8, 2.35, 9.45, 0.8, 2.11, 7.21, 4.5, 6.58, 5.35, 1.85, 4.5, 3.83, 1.95, 3.1, 1.6, 4.5, 1.0, 8.85, 3.75, 2.41, 7.85, 2.5, 3.48, 14.45, 6.25, 5.85, 5.45, 1.45, 5.0, 1.5, 1.0, 8.25, 5.55, 4.5, 7.1, 10.8, 3.56, 7.48, 1.2, 3.65, 5.75, 12.5, 18.39, 3.45, 3.7, 2.7, 12.5, 8.9, 1.1, 2.1, 3.0, 4.0, 4.35, 2.7, 1.9, 4.25, 2.25, 3.35, 1.25, 3.13, 1.85, 13.49, 2.1, 8.25, 2.85, 4.68, 3.0, 4.5, 2.3, 2.5, 3.0, 5.75, 0.8, 2.85, 4.25, 3.85, 3.0, 2.95, 2.9, 2.95, 3.91, 3.5, 2.2, 2.5, 3.8, 3.4, 3.0, 2.75, 2.6, 3.1, 13.9, 1.24, 10.9, 4.5, 1.8, 3.81, 3.8, 2.25, 4.11, 1.4, 0.7, 6.5, 1.25, 6.5, 4.6, 6.75, 7.25, 6.1, 6.2, 5.35, 3.55, 2.6, 1.4, 2.8, 6.25, 2.5, 7.9, 3.0, 8.0, 3.25, 3.25, 6.01, 3.65, 4.5, 1.55, 1.55, 23.65, 3.5, 7.5, 5.85, 1.6, 4.25, 13.5, 3.0, 6.0, 3.95, 3.77, 8.25, 4.35, 2.6, 10.6, 5.25, 2.2, 3.5, 4.33, 5.99, 4.75, 3.85, 1.25, 5.85, 1.5, 5.0, 12.01, 7.02, 4.0, 6.75, 1.3, 3.49, 2.75, 3.5, 7.8, 7.75, 4.35, 2.8, 7.4, 2.35, 1.37, 6.5, 6.0, 3.5, 3.6, 3.6, 2.4, 4.25, 1.8, 15.2, 4.5, 6.5, 10.09, 8.2, 3.75, 3.6, 7.85, 0.6, 2.41, 2.5, 3.5, 11.5, 2.75, 1.0, 2.9, 1.85, 0.45, 7.5, 6.25, 5.8, 4.0, 2.0, 8.75, 3.9, 5.7, 12.36, 3.55, 8.2, 3.39, 2.3, 6.0, 6.3, 1.8, 3.2, 6.15, 2.85, 0.69, 1.2, 1.3, 3.65, 3.5, 2.5, 8.5, 8.9, 3.5, 5.25, 1.8, 7.99, 1.46, 5.29, 3.5, 11.6, 3.0, 2.5, 6.83, 13.5, 4.12, 6.95, 2.2, 17.09, 6.9, 3.45, 5.8, 1.25, 6.75, 2.85, 5.25, 3.8, 2.41, 5.65, 3.85, 11.0, 2.95, 2.89, 3.25, 6.85, 2.5, 1.8, 1.3, 9.95, 2.95, 1.85, 5.5, 3.15, 6.98, 3.0, 5.9, 2.21, 5.8, 5.79, 6.22, 11.49, 7.45, 7.99, 1.4, 2.4, 2.95, 6.71, 3.25, 9.0, 0.85, 4.3, 1.75, 2.75, 5.5, 2.6, 2.7, 3.7, 2.7, 1.65, 4.75, 2.75, 7.1, 2.9, 7.2, 7.7, 5.99, 1.9, 4.42, 2.69, 4.9, 5.5, 1.75, 8.99, 2.9, 5.85, 4.25, 10.05, 1.8, 2.57, 6.2, 6.5, 2.65, 5.75, 4.85, 2.95, 2.75, 2.7, 8.75, 3.45, 1.35, 0.75, 1.0, 0.85, 2.5, 2.35, 2.3, 8.0, 5.43, 5.69, 4.39, 4.75, 5.55, 4.53, 6.53, 1.3, 14.25, 2.6, 14.49, 2.1, 5.9, 6.5, 2.45, 11.25, 4.35, 6.1, 1.1, 2.2, 2.5, 9.0, 1.3, 0.75, 4.1, 2.3, 13.5, 4.9, 5.7, 1.67, 4.5, 6.96, 2.74, 11.79, 2.5, 2.45, 3.3, 2.3, 3.5, 4.3, 2.3, 3.5, 1.8, 3.5, 7.11, 7.33, 2.85, 2.75, 3.5, 1.2, 4.75, 2.1, 7.0, 8.0, 2.2, 1.79, 1.35, 6.5, 3.99, 6.75, 5.5, 5.25, 1.75, 1.95, 8.99, 8.1, 4.85, 4.5, 1.75, 1.9, 4.75, 4.5, 2.15, 2.5, 3.5, 1.2, 3.85, 5.8, 0.53, 1.2, 4.25, 6.0, 9.4, 4.5, 3.16, 2.78, 3.4, 5.35, 5.25, 2.6, 6.5, 2.96, 3.3, 2.9, 5.5, 5.5, 3.3, 2.64, 6.5, 4.15, 3.1, 4.67, 2.9, 5.75, 3.65, 2.44, 15.5, 4.0, 3.0, 1.6, 2.59, 6.25, 1.67, 1.85, 7.5, 7.25, 3.8, 8.9, 2.35, 8.09, 3.65, 3.9, 2.75, 6.6, 5.35, 6.3, 10.9, 2.9, 2.3, 2.3, 10.75, 4.5, 2.0, 6.5, 1.2, 14.5, 3.25, 1.0, 2.35, 2.3, 0.55, 2.8, 4.4, 6.2, 2.25, 9.5, 1.15, 6.6, 6.34, 3.75, 3.53, 2.5, 3.65, 3.51, 5.81, 4.5, 4.95, 6.75, 4.49, 3.5, 2.1, 6.98, 12.5, 3.3, 4.93, 2.9, 3.65, 2.5, 2.8, 2.15, 4.88, 3.57, 7.25, 6.15, 4.25, 4.4, 8.58, 4.95, 5.5, 4.25, 1.65, 1.95, 5.5, 6.6, 2.75, 2.7, 2.4, 13.5, 9.25, 2.15, 1.49, 3.75, 2.0, 3.8, 12.0, 3.9, 6.7, 5.5, 5.7, 1.85, 0.82, 5.8, 7.0, 3.62, 3.78, 7.54, 3.63, 3.75, 3.59, 3.34, 6.69, 3.75, 2.0, 2.8, 2.25, 5.1, 5.25, 1.65, 5.25, 5.7, 6.15, 5.25, 2.3, 2.25, 6.5, 3.0, 4.1, 3.85, 2.1, 4.0, 4.5, 2.85, 3.25, 6.29, 6.55, 3.9, 1.15, 4.25, 6.25, 3.25, 10.85, 0.51, 3.3, 6.0, 4.35, 2.25, 6.0, 1.7, 2.0, 4.9, 3.75, 4.3, 3.85, 2.5, 3.5, 2.35, 1.49, 1.0, 2.6, 11.75, 3.0, 3.95, 1.99, 1.7, 7.5, 5.4, 4.08, 6.0, 5.4, 5.63, 3.25, 5.65, 7.94, 5.64, 3.3, 7.95, 8.0, 3.51, 4.0, 5.87, 10.75, 3.88, 2.65, 4.65, 2.65, 3.1, 1.6, 12.25, 4.25, 17.9, 6.4, 6.35, 3.75, 8.75, 5.7, 4.5, 6.5, 4.15, 3.6, 5.5, 4.85, 2.1, 12.5, 7.31, 7.75, 6.75, 1.85, 1.3, 2.6, 22.0, 6.6, 5.05, 5.2, 2.78, 5.9, 20.0, 3.99, 7.75, 2.75, 4.35, 12.5, 4.2, 6.4, 4.5, 3.4, 3.2, 16.5, 2.2, 2.75, 5.5, 8.25, 0.8, 2.35, 7.11, 2.5, 14.52, 1.9, 28.85, 8.0, 4.32, 5.29, 5.0, 3.12, 7.0, 3.95, 5.9, 8.1, 2.45, 4.25, 2.3, 3.2, 2.65, 2.25, 17.92, 10.23, 5.45, 2.5, 9.23, 4.45, 9.9, 3.9, 4.6, 1.75, 5.45, 2.85, 2.21, 2.69, 5.0, 5.0, 2.5, 4.4, 1.2, 7.1, 2.4, 1.0, 4.75, 1.11, 0.95, 2.25, 2.75, 2.0, 2.9, 3.25, 5.8, 4.25, 2.3, 5.75, 18.5, 3.2, 6.0, 2.75, 1.8, 4.61, 7.25, 5.75, 2.9, 2.05, 3.21, 6.75, 2.0, 3.3, 5.5, 3.0, 4.95, 3.8, 5.27, 3.95, 3.8, 4.1, 4.25, 2.2, 9.58, 9.75, 3.5, 6.5, 3.35, 3.95, 3.9, 15.25, 3.65, 3.7, 4.8, 6.95, 4.5, 7.45, 3.3, 5.1, 3.0, 1.5, 3.3, 4.25, 2.6, 2.0, 6.2, 7.83, 4.0, 3.9, 4.75, 4.28, 10.95, 4.75, 9.0, 3.99, 4.83, 2.8, 4.58, 1.5, 6.86, 7.34, 1.81, 7.65, 2.8, 2.96, 2.95, 5.35, 5.25, 3.45, 2.27, 2.15, 1.7, 4.6, 3.25, 0.9, 2.1, 2.1, 11.85, 2.59, 5.1, 0.77, 1.3, 1.12, 4.75, 1.8, 3.0, 4.0, 1.55, 4.25, 8.85, 4.75, 5.45, 4.5, 3.88, 2.85, 2.0, 4.0, 12.0, 2.5, 7.45, 4.0, 1.3, 3.0, 6.0, 3.5, 3.29, 12.25, 3.15, 2.0, 1.5, 2.1, 0.55, 3.65, 1.8, 8.25, 2.0, 8.25, 0.65, 3.8, 0.95, 9.43, 2.83, 3.9, 1.1, 1.85, 2.9, 3.82, 3.29, 6.13, 5.85, 5.55, 1.1, 8.0, 2.65, 4.69, 6.25, 5.3, 5.11, 2.4, 7.2, 5.9, 2.1, 3.0, 3.55, 2.15, 1.95, 4.79, 4.5, 20.0, 1.6, 5.75, 2.15, 2.4, 4.7, 4.9, 2.7, 2.9, 14.45, 9.7, 5.45, 5.19, 3.97, 4.8, 5.0, 3.9, 2.9, 9.32, 6.17, 8.14, 1.5, 7.0, 2.95, 4.15, 3.37, 5.5, 2.5, 3.77, 14.0, 2.6, 5.95, 2.25, 4.8, 4.9, 2.3, 1.02, 3.6, 5.86, 5.25, 6.75, 6.95, 1.95, 3.6, 1.2, 4.85, 3.95, 7.0, 2.75, 4.4, 6.75, 6.25, 1.99, 4.8, 9.85, 3.2, 6.75, 2.0, 1.5, 3.7, 4.4, 2.9, 2.5, 2.8, 11.73, 3.45, 5.63, 8.38, 7.06, 9.5, 3.25, 3.1, 5.25, 4.2, 4.0, 5.65, 11.99, 4.05, 5.17, 16.5, 14.5, 5.75, 3.55, 4.65, 6.5, 3.6, 3.9, 1.25, 2.6, 7.9, 4.0, 5.6, 1.2, 6.75, 7.25, 4.5, 4.75, 5.0, 7.0, 7.2, 4.05, 6.25, 5.5, 2.25, 6.3, 2.5, 3.8, 16.5, 2.2, 6.9, 2.0, 6.15, 4.83, 2.2, 2.6, 4.0, 0.85, 2.95, 5.7, 1.65, 4.12, 6.9, 4.96, 5.5, 15.96, 3.0, 5.5, 5.68, 2.45, 2.1, 2.49, 4.15, 2.49, 1.45, 2.35, 4.9, 6.4, 6.8, 3.25, 2.46, 2.19, 3.47, 3.85, 4.91, 4.45, 1.5, 1.7, 3.5, 5.7, 2.7, 4.25, 3.6, 2.95, 4.45, 2.75, 5.5, 1.95, 5.49, 5.75, 9.44, 3.39, 8.11, 0.75, 6.2, 2.97, 3.25, 5.53, 3.85, 3.5, 3.8, 2.1, 2.1, 3.16, 2.1, 2.81, 4.45, 5.8, 8.36, 7.5, 9.75, 6.55, 7.4, 9.45, 5.48, 6.79, 3.25, 3.28, 0.8, 8.36, 3.15, 4.7, 2.15, 3.25, 3.32, 4.8, 4.25, 2.75, 1.95, 18.9, 6.99, 5.0, 4.8, 11.75, 1.59, 3.99, 5.31, 2.5, 3.0, 2.4, 2.65, 16.1, 2.5, 6.4, 1.5, 6.0, 2.5, 7.21, 5.5, 4.9, 4.55, 7.65, 0.44, 5.5, 4.0, 5.5, 5.75, 3.1, 3.9, 2.4, 4.5, 1.4, 2.05, 5.2, 3.5, 7.75, 2.8, 3.75, 3.9, 15.0, 1.39, 5.95, 0.65, 3.27, 5.1, 2.4, 4.99, 10.0, 6.2, 3.0, 2.71, 1.25, 16.13, 3.5, 3.21, 3.65, 18.75, 15.5, 6.0, 3.8, 5.67, 7.52, 3.71, 2.9, 3.65, 3.96, 6.22, 10.46, 5.2, 5.6, 5.02, 5.45, 2.75, 3.65, 5.5, 3.67, 2.44, 1.45, 3.76, 5.7, 4.57, 6.0, 3.5, 4.85, 3.1, 4.25, 2.65, 1.11, 7.25, 4.25, 6.5, 2.39, 2.85, 3.1, 4.1, 5.99, 4.15, 5.2, 2.9, 6.8, 3.61, 7.75, 7.12, 6.57, 3.67, 3.96, 13.55, 11.9, 2.45, 2.45, 5.65, 3.1, 5.35, 7.69, 3.25, 9.58, 5.1, 6.09, 7.77, 1.99, 2.95, 3.25, 6.5, 3.71, 1.85, 4.5, 3.25, 2.7, 6.75, 6.11, 3.35, 8.15, 1.25, 2.05, 5.11, 1.75, 8.2, 1.2, 4.5, 5.5, 4.25, 1.5, 4.2, 3.3, 4.35, 4.9, 11.05, 6.08, 9.75, 5.9, 6.32, 6.8, 2.85, 7.5, 6.95, 5.95, 5.6, 2.95, 6.5, 5.95, 2.1, 7.52, 1.8, 2.6, 7.95, 2.3, 2.75, 4.9, 7.9, 5.22, 2.95, 4.85, 8.31, 8.8, 5.75, 4.57, 10.75, 4.15, 6.6, 3.45, 9.8, 2.65, 4.45, 6.1, 4.25, 3.2, 7.25, 6.3, 2.4, 5.0, 7.75, 6.25, 1.65, 5.35, 3.5, 2.1, 2.11, 2.5, 3.75, 1.1, 3.0, 1.25, 2.8, 2.7, 4.6, 5.7, 1.25, 7.75, 4.5, 4.65, 7.75, 6.75, 10.25, 2.1, 2.25, 5.3, 6.14, 5.53, 10.5, 5.39, 8.94, 2.95, 5.38, 7.53, 4.2, 6.82, 6.4, 5.85, 4.75, 1.52, 2.15, 7.05, 4.4, 7.99, 2.7, 5.25, 2.6, 4.57, 6.0, 3.25, 2.9, 3.89, 2.15, 2.98, 3.3, 9.5, 1.65, 3.4, 4.35, 1.25, 2.9, 5.35, 5.21, 7.19, 3.59, 3.32, 8.07, 4.5, 10.5, 4.95, 3.3, 4.11, 6.24, 2.6, 5.49, 5.1, 4.49, 5.43, 4.54, 2.98, 6.12, 5.5, 1.15, 4.09, 1.95, 4.75, 13.78, 6.0, 2.5, 4.85, 2.7, 3.0, 5.45, 0.55, 2.75, 1.99, 2.3, 2.5, 3.2, 1.35, 2.65, 3.7, 2.1, 5.75, 4.15, 5.45, 3.95, 1.35, 8.65, 4.95, 1.9, 3.5, 2.25, 2.25, 1.4, 3.25, 5.9, 3.25, 3.1, 6.0, 4.0, 2.45, 6.99, 4.0, 5.5, 1.45, 7.9, 4.8, 3.15, 2.65, 2.95, 2.74, 2.59, 4.75, 3.25, 1.65, 6.25, 3.5, 3.9, 6.25, 4.35, 2.95, 4.0, 2.25, 8.0, 3.55, 10.85, 3.4, 1.99, 7.5, 5.49, 6.9, 6.46, 1.97, 4.78, 11.62, 13.28, 5.6, 6.85, 3.1, 1.26, 3.69, 7.53, 4.16, 3.25, 2.7, 2.6, 4.25, 5.29, 8.5, 2.25, 9.46, 2.58, 2.96, 4.9, 4.75, 5.75, 0.75, 7.5, 6.0, 0.99, 23.0, 3.45, 2.32, 2.85, 2.71, 12.75, 6.5, 3.25, 4.1, 9.25, 6.5, 5.4, 9.05, 6.25, 3.45, 1.99, 5.64, 3.32, 6.91, 4.4, 4.74, 7.14, 3.49, 2.75, 6.25, 3.41, 3.9, 6.16, 5.5, 4.9, 5.39, 1.95, 5.0, 4.45, 2.45, 7.5, 2.45, 4.64, 4.8, 5.8, 2.95, 6.7, 4.25, 5.75, 5.75, 4.95, 5.85, 3.95, 7.55, 3.0, 1.5, 5.25, 2.1, 3.99, 4.59, 5.5, 5.2, 7.9, 4.99, 7.5, 7.5, 2.5, 1.51, 5.47, 8.1, 3.25, 3.0, 4.0, 4.0, 2.5, 5.75, 6.5, 5.9, 5.95, 4.45, 4.5, 5.5, 6.39, 12.5, 16.08, 5.5, 4.3, 3.84, 5.04, 4.31, 6.69, 12.83, 2.75, 5.25, 5.75, 6.73, 3.39, 4.25, 2.1, 4.5, 6.5, 8.87, 4.0, 3.09, 10.19, 4.38, 5.54, 5.35, 2.25, 12.45, 3.89, 0.5, 3.75, 3.95, 6.35, 5.5, 5.48, 6.35, 6.6, 7.0, 4.99, 3.45, 5.49, 4.61, 18.0, 5.75, 2.1, 6.0, 4.25, 4.41, 6.54, 4.1, 7.2, 1.55, 10.31, 3.61, 5.39, 5.85, 7.2, 15.54, 5.84, 3.9, 2.9, 4.65, 6.63, 7.57, 4.57, 4.17, 35.82, 2.4, 5.15, 4.25, 9.75, 3.12, 6.92, 4.95, 6.1, 7.0, 3.45, 7.5, 3.2, 2.15, 2.79, 3.5, 2.1, 2.21, 4.25, 5.75, 1.25, 2.45, 2.85, 1.4, 2.25, 17.25, 1.8, 3.35, 7.25, 5.7, 4.76, 6.95, 9.65, 7.52, 5.5, 12.15, 8.3, 4.3, 8.48, 2.49, 6.98, 1.65, 8.25, 4.25, 2.65, 2.87, 4.75, 3.9, 2.78, 3.47, 3.11, 3.31, 1.45, 6.35, 3.7, 2.75, 4.25, 2.2, 5.65, 8.0, 6.5, 4.75, 3.7, 5.9, 4.2, 9.5, 2.25, 3.95, 11.11, 2.35, 9.8, 1.75, 7.1, 2.61, 6.0, 1.59, 8.5, 4.21, 7.8, 7.5, 2.65, 4.25, 4.9, 5.99, 12.0, 9.51, 8.5, 0.7, 3.1, 2.4, 2.99, 3.5, 4.25, 5.84, 7.5, 6.1, 4.3, 3.75, 5.2, 2.9, 5.0, 5.64, 4.7, 1.65, 4.82, 2.5, 7.5, 2.45, 3.75, 3.69, 2.5, 6.67, 6.63, 2.5, 6.25, 5.99, 5.5, 2.65, 4.1, 2.95, 3.7, 6.0, 13.54, 8.4, 4.29, 4.28, 7.67, 6.25, 3.51, 4.5, 3.33, 5.0, 5.55, 7.64, 5.75, 2.2, 1.95, 2.75, 2.55, 4.25, 16.5, 13.0, 4.9, 7.75, 3.05, 5.5, 6.0, 3.7, 5.0, 2.95, 6.5, 3.3, 5.95, 3.6, 1.1, 4.5, 3.2, 3.25, 6.0, 5.45, 3.5, 2.69, 10.77, 3.07, 7.56, 2.7, 4.2, 6.55, 8.44, 5.0, 5.36, 0.63, 5.45, 16.42, 7.0, 11.95, 4.35, 12.13, 6.0, 4.7, 3.3, 2.74, 11.64, 4.4, 5.95, 1.95, 5.0, 2.35, 5.8, 3.3, 6.95, 2.85, 3.9, 6.25, 2.75, 5.5, 9.75, 3.26, 4.0, 3.2, 5.65, 2.35, 9.5, 6.02, 3.82, 4.85, 4.58, 3.2, 7.26, 4.35, 12.26, 4.65, 4.65, 5.25, 3.01, 5.36, 2.47, 14.82, 10.15, 7.97, 8.5, 3.25, 4.04, 2.0, 6.25, 2.9, 4.5, 4.56, 1.75, 1.75, 7.78, 6.0, 7.5, 5.49, 6.5, 9.87, 6.2, 6.45, 3.1, 5.95, 5.25, 20.0, 3.5, 4.85, 2.6, 3.75, 6.5, 2.6, 2.8, 4.25, 2.7, 11.5, 6.5, 3.8, 5.45, 5.95, 2.0, 3.5, 3.45, 2.25, 2.45, 2.4, 3.5, 1.3, 2.41, 4.1, 5.99, 3.95, 6.2, 3.75, 6.9, 3.25, 3.65, 5.25, 6.9, 17.5, 0.5, 2.75, 3.55, 6.75, 3.46, 8.62, 4.25, 12.46, 3.9, 5.5, 5.4, 3.9, 6.45, 8.43, 5.68, 3.04, 7.11, 3.47, 5.27, 5.95, 5.98, 3.2, 2.6, 2.5, 10.4, 5.5, 2.25, 4.94, 2.93, 3.2, 8.49, 5.66, 2.65, 3.76, 4.72, 3.4, 7.75, 3.48, 9.2, 6.5, 2.65, 5.65, 3.9, 2.5, 3.85, 13.25, 4.2, 2.85, 5.25, 3.1, 2.2, 4.9, 3.1, 18.5, 3.2, 1.75, 3.75, 4.74, 6.45, 1.95, 1.15, 7.95, 6.68, 6.32, 2.0, 3.54, 3.65, 4.06, 4.69, 5.53, 3.35, 4.77, 3.87, 10.36, 13.3, 1.9, 3.41, 8.63, 4.02, 5.45, 2.75, 1.1, 4.3, 0.85, 3.0, 2.35, 3.5, 3.0, 15.65, 3.0, 5.0, 4.3, 3.65, 4.7, 6.5, 3.25, 5.7, 0.75, 1.94, 4.0, 4.95, 12.0, 3.25, 1.5, 2.5, 8.5, 3.7, 11.5, 0.7, 5.5, 4.75, 4.0, 5.5, 5.75, 8.7, 2.5, 6.2, 3.8, 4.8, 3.3, 5.27, 4.11, 4.95, 6.2, 4.18, 8.42, 7.17, 6.0, 7.36, 4.26, 4.86, 6.0, 7.46, 4.51, 4.4, 4.4, 4.07, 2.3, 2.88, 4.5, 5.9, 4.45, 8.95, 9.0, 6.9, 2.3, 3.2, 2.75, 1.4, 0.9, 4.75, 1.6, 4.9, 3.0, 5.21, 11.88, 6.35, 4.3, 4.25, 3.91, 6.25, 3.87, 3.22, 2.85, 2.5, 3.26, 3.5, 3.4, 7.65, 9.0, 11.82, 4.5, 1.8, 9.0, 4.65, 21.69, 4.85, 6.7, 3.1, 5.49, 7.25, 4.98, 6.75, 9.45, 5.95, 4.75, 20.25, 6.0, 6.5, 4.5, 3.7, 5.25, 3.25, 2.75, 4.5, 3.0, 3.25, 2.11, 5.2, 3.4, 1.8, 11.75, 4.89, 7.4, 6.04, 1.7, 5.25, 5.72, 6.5, 2.45, 2.29, 5.25, 4.49, 5.6, 13.82, 4.52, 2.9, 1.2, 8.85, 11.0, 5.09, 9.35, 1.2, 2.85, 28.42, 11.31, 5.99, 7.0, 6.95, 4.5, 9.43, 3.67, 3.72, 4.5, 1.46, 2.95, 6.0, 3.25, 4.1, 3.5, 4.25, 3.9, 3.95, 4.35, 2.8, 12.8, 4.0, 11.25, 4.15, 1.4, 2.65, 2.5, 4.5, 3.75, 5.77, 6.45, 2.35, 3.61, 3.42, 16.59, 3.95, 3.19, 3.63, 2.55, 7.25, 0.99, 2.7, 7.75, 6.95, 4.25, 6.84, 4.4, 4.94, 4.5, 3.3, 5.3, 5.53, 4.63, 5.49, 4.85, 3.1, 5.86, 8.92, 5.5, 6.98, 5.71, 2.4, 5.1, 6.95, 2.35, 4.95, 8.45, 5.9, 2.65, 6.75, 4.45, 4.5, 3.05, 5.5, 3.11, 12.9, 2.22, 4.15, 4.75, 11.0, 5.56, 1.87, 7.5, 5.34, 2.42, 7.2, 2.74, 5.85, 8.25, 2.2, 11.73, 3.1, 1.17, 4.75, 7.48, 3.39, 5.75, 10.88, 9.38, 6.85, 6.99, 4.3, 2.8, 2.25, 0.9, 7.75, 6.5, 6.75, 6.0, 3.7, 2.95, 3.0, 9.48, 2.55, 7.15, 3.65, 5.0, 3.49, 2.4, 9.75, 3.0, 7.0, 7.5, 2.0, 4.75, 8.9, 6.85, 2.6, 6.75, 3.25, 5.5, 3.65, 1.75, 2.99, 23.0, 3.55, 3.6, 2.48, 1.99, 3.3, 3.25, 4.75, 3.55, 3.99, 5.5, 20.0, 7.9, 0.95, 3.85, 13.25, 3.3, 3.75, 7.0, 3.25, 7.35, 6.25, 3.65, 4.55, 1.9, 2.5, 4.8, 4.75, 5.25, 2.25, 3.45, 3.25, 12.13, 13.35, 5.41, 4.94, 4.89, 5.1, 4.34, 6.93, 4.07, 4.65, 5.6, 7.3, 13.25, 3.85, 6.1, 3.8, 2.3, 7.47, 5.99, 6.72, 3.99, 4.0, 1.6, 1.5, 5.88, 2.9, 5.35, 4.9, 1.75, 5.75, 7.35, 12.5, 2.65, 1.55, 7.25, 4.3, 4.35, 3.45, 6.8, 4.33, 6.75, 2.45, 3.52, 8.27, 13.54, 6.35, 4.3, 1.75, 4.0, 5.8, 8.15, 3.16, 3.55, 4.25, 6.6, 3.32, 6.22, 4.5, 0.99, 18.6, 7.61, 7.35, 6.85, 5.25, 3.5, 4.65, 6.01, 1.92, 2.1, 7.0, 8.2, 7.75, 9.25, 3.75, 5.95, 2.13, 18.65, 4.21, 4.5, 5.5, 1.99, 2.49, 11.52, 5.59, 4.27, 7.11, 10.17, 6.33, 2.4, 3.6, 4.99, 3.2, 5.05, 5.27, 1.4, 7.75, 5.5, 6.15, 4.0, 2.9, 4.79, 3.85, 12.0, 7.48, 4.3, 19.46, 3.6, 2.19, 4.25, 3.25, 0.99, 3.35, 1.68, 5.45, 4.75, 7.75, 2.4, 5.1, 9.25, 4.75, 3.75, 6.25, 5.8, 3.45, 2.3, 1.3, 5.5, 5.5, 5.85, 3.6, 8.0, 5.94, 1.45, 4.3, 1.09, 3.0, 3.5, 3.6, 9.9, 6.25, 0.75, 4.5, 12.0, 3.41, 6.14, 3.3, 15.57, 13.52, 7.11, 4.7, 12.5, 4.55, 10.99, 10.82, 2.25, 7.99, 5.0, 5.9, 3.95, 9.3, 3.38, 10.94, 2.5, 9.9, 7.4, 4.4, 1.38, 2.7, 3.4, 8.4, 4.87, 4.5, 2.65, 11.9, 4.25, 3.0, 5.5, 3.25, 7.7, 8.0, 9.5, 3.25, 3.14, 12.5, 3.1, 8.0, 3.1, 3.5, 3.25, 5.85, 4.75, 8.5, 4.0, 5.76, 5.47, 7.9, 6.3, 2.65, 8.15, 7.1, 2.65, 13.28, 3.5, 7.8, 5.5, 2.75, 7.09, 2.8, 8.0, 6.9, 7.22, 5.55, 4.25, 6.36, 13.75, 4.76, 6.17, 2.0, 4.0, 4.9, 7.0, 7.85, 4.45, 4.0, 3.55, 2.9, 5.25, 5.9, 8.25, 15.9, 18.75, 6.95, 2.49, 5.0, 3.95, 1.8, 5.25, 3.25, 6.49, 2.0, 11.5, 4.5, 5.75, 2.35, 4.25, 7.9, 1.1, 1.7, 3.15, 1.35, 6.56, 32.1, 3.89, 3.5, 4.5, 7.38, 5.64, 1.59, 4.68, 14.25, 1.99, 7.49, 2.85, 3.25, 2.75, 5.83, 5.15, 4.95, 12.63, 2.25, 6.58, 4.52, 14.7, 9.48, 2.6, 2.85, 5.8, 5.49, 5.5, 2.75, 1.5, 3.99, 6.25, 2.6, 3.05, 6.3, 9.49, 6.95, 8.45, 2.5, 3.75, 6.46, 3.41, 6.21, 4.05, 2.85, 12.6, 3.2, 4.92, 5.87, 7.68, 23.86, 5.0, 6.26, 7.87, 6.17, 3.96, 7.85, 7.39, 2.59, 9.13, 7.51, 9.18, 6.69, 8.5, 2.4, 12.53, 1.95, 4.05, 7.65, 5.22, 1.55, 5.2, 10.7, 3.91, 2.15, 3.9, 6.21, 2.0, 1.75, 4.1, 1.1, 7.8, 5.95, 2.23, 2.8, 2.25, 3.11, 8.7, 7.99, 2.75, 3.55, 3.49, 2.6, 5.95, 3.25, 7.85, 17.65, 3.69, 9.19, 4.8, 4.85, 2.35, 5.2, 12.4, 7.59, 7.57, 7.88, 6.14, 6.22, 6.28, 6.64, 3.4, 9.9, 5.89, 1.89, 3.22, 7.29, 4.9, 5.75, 1.74, 6.75, 13.69, 7.43, 9.46, 5.44, 16.8, 13.39, 1.8, 3.45, 16.9, 5.25, 2.8, 11.0, 5.1, 2.35, 2.95, 6.5, 2.2, 5.25, 2.8, 3.25, 2.1, 7.75, 11.25, 9.3, 5.75, 6.45, 3.5, 4.85, 1.0, 6.3, 2.65, 4.8, 6.8, 3.64, 10.49, 8.77, 5.64, 12.49, 8.8, 4.72, 3.02, 4.38, 4.29, 6.71, 5.0, 3.3, 7.49, 2.65, 12.34, 2.7, 3.1, 3.08, 9.75, 7.73, 4.32, 2.95, 5.44, 6.41, 4.5, 8.85, 8.0, 1.95, 4.9, 10.25, 4.7, 2.5, 5.0, 3.7, 3.9, 10.0, 4.95, 7.5, 3.25, 4.95, 4.9, 3.2, 3.25, 6.35, 9.51, 30.42, 1.89, 5.95, 7.27, 2.3, 4.74, 13.34, 7.32, 6.87, 4.2, 8.61, 3.85, 4.27, 8.0, 1.88, 11.13, 2.59, 6.61, 2.21, 5.99, 6.54, 8.19, 3.0, 3.5, 1.36, 4.5, 4.5, 6.5, 3.8, 4.6, 7.0, 9.9, 2.85, 1.85, 8.5, 1.7, 15.0, 1.5, 4.65, 4.88, 7.4, 4.43, 1.6, 1.5, 12.75, 2.3, 3.15, 2.75, 4.75, 5.25, 6.25, 3.49, 2.65, 8.25, 3.0, 5.5, 3.1, 3.4, 3.9, 4.01, 3.15, 5.49, 2.6, 3.7, 10.49, 2.9, 2.9, 6.9, 5.35, 6.24, 5.5, 5.5, 5.4, 3.74, 2.79, 5.43, 3.7, 4.01, 4.95, 5.75, 8.02, 3.4, 4.95, 2.25, 3.4, 8.45, 8.45, 2.19, 5.75, 10.0, 8.09, 14.29, 5.09, 4.7, 3.74, 3.2, 14.6, 22.2, 8.12, 6.22, 3.1, 5.5, 3.59, 4.5, 6.58, 6.21, 3.19, 5.84, 2.39, 3.25, 19.05, 6.26, 7.39, 6.85, 3.25, 9.25, 3.24, 8.5, 1.75, 6.5, 6.96, 9.65, 7.0, 4.75, 9.25, 7.7, 3.99, 5.6, 3.25, 4.05, 4.65, 3.95, 8.34, 2.75, 3.6, 7.9, 4.64, 2.05, 4.5, 2.55, 6.46, 3.68, 6.28, 9.28, 3.71, 3.15, 3.87, 5.77, 8.39, 3.75, 4.05, 5.75, 3.0, 3.95, 2.8, 6.83, 8.61, 10.79, 8.25, 3.26, 4.25, 3.25, 9.25, 6.17, 2.4, 4.25, 4.25, 3.85, 2.55, 0.9, 4.95, 8.5, 10.25, 2.07, 5.5, 2.15, 5.5, 4.35, 5.3, 4.8, 9.5, 2.65, 2.1, 4.65, 9.75, 3.6, 5.65, 4.3, 3.89, 3.55, 3.75, 4.69, 4.7, 3.65, 8.24, 5.34, 6.45, 5.75, 7.85, 6.5, 4.66, 7.9, 1.99, 3.42, 5.53, 5.9, 21.42, 6.5, 3.9, 5.0, 5.75, 3.6, 5.65, 7.15, 2.61, 7.25, 3.0, 4.9, 10.5, 1.75, 2.7, 2.25, 5.0, 7.75, 5.0, 16.95, 19.85, 9.0, 2.15, 4.95, 9.5, 6.25, 3.48, 5.84, 2.49, 3.38, 4.45, 2.9, 2.25, 14.28, 12.81, 2.99, 8.45, 1.45, 6.1, 6.3, 7.29, 5.81, 4.65, 3.05, 2.65, 7.79, 3.75, 2.1, 3.25, 6.0, 8.0, 6.7, 1.6, 3.1, 6.0, 3.2, 6.95, 5.95, 3.25, 2.5, 7.75, 5.25, 7.75, 2.8, 10.75, 5.0, 5.5, 3.2, 3.75, 4.9, 8.75, 3.5, 12.25, 6.0, 3.3, 6.55, 3.25, 8.99, 6.0, 2.3, 3.35, 16.36, 4.85, 3.29, 5.3, 6.43, 6.3, 6.0, 2.44, 7.9, 4.15, 10.25, 4.31, 7.46, 13.48, 3.9, 7.7, 4.87, 5.84, 3.25, 13.0, 3.45, 3.2, 5.75, 6.5, 8.35, 1.75, 6.5, 6.5, 8.75, 4.25, 4.0, 2.35, 10.0, 7.0, 1.6, 12.6, 6.5, 19.0, 5.99, 5.95, 6.64, 17.02, 6.7, 6.18, 9.74, 11.0, 2.6, 5.53, 2.4, 9.66, 3.5, 5.95, 6.95, 13.05, 8.4, 4.74, 5.12, 2.15, 4.94, 5.55, 7.72, 5.25, 5.07, 5.6, 7.1, 7.1, 5.75, 10.91, 13.75, 10.0, 3.4, 2.65, 3.25, 6.25, 4.65, 2.65, 8.75, 4.73, 3.55, 2.85, 5.95, 5.0, 5.85, 5.45, 3.28, 4.95, 3.31, 14.19, 4.75, 6.27, 7.0, 9.47, 5.85, 6.37, 1.95, 1.6, 4.95, 8.15, 6.75, 2.19, 4.5, 15.0, 8.3, 4.35, 4.5, 5.27, 3.5, 4.5, 12.9, 5.9, 7.95, 4.45, 8.0, 6.95, 5.99, 6.5, 6.16, 6.9, 3.0, 4.45, 11.39, 5.75, 2.35, 10.08, 8.61, 5.67, 3.79, 4.99, 5.86, 8.9, 2.8, 1.2, 4.25, 10.75, 2.75, 4.29, 2.15, 2.9, 7.98, 17.55, 5.43, 1.97, 10.0, 2.55, 12.5, 9.5, 3.0, 5.0, 4.25, 4.25, 26.0, 1.5, 2.6, 7.5, 6.2, 8.99, 9.75, 3.75, 5.5, 6.5, 6.99, 5.35, 6.2, 5.84, 2.13, 2.62, 6.85, 3.15, 9.95, 4.29, 3.5, 7.0, 2.15, 3.55, 5.9, 7.83, 3.25, 7.09, 2.55, 5.9, 10.34, 6.2, 3.35, 8.22, 8.26, 3.75, 17.11, 6.48, 7.76, 7.74, 3.5, 2.99, 5.5, 6.15, 3.95, 2.75, 6.9, 8.0, 5.0, 6.75, 2.75, 2.75, 2.65, 1.25, 5.15, 5.99, 26.0, 4.25, 3.8, 8.65, 5.65, 8.3, 1.75, 5.35, 9.0, 7.66, 13.37, 16.27, 5.6, 6.21, 7.5, 2.87, 7.07, 2.36, 2.9, 13.5, 7.9, 20.4, 3.0, 11.0, 8.18, 3.7, 2.44, 4.65, 6.7, 3.46, 9.18, 2.01, 4.1, 6.2, 5.75, 4.0, 4.25, 11.51, 2.95, 6.2, 8.2, 3.1, 5.21, 2.8, 3.5, 8.4, 7.75, 5.38, 11.87, 3.46, 3.0, 6.57, 8.25, 3.52, 5.1, 6.02, 3.9, 3.75, 6.5, 4.5, 12.03, 11.65, 2.39, 5.49, 5.6, 6.9, 7.0, 4.95, 1.5, 4.25, 1.9, 4.5, 7.05, 4.9, 6.5, 5.6, 7.0, 4.44, 6.9, 6.19, 6.14, 7.53, 5.55, 8.5, 7.8, 5.99, 7.23, 4.95, 6.5, 8.75, 4.25, 3.55, 0.8, 5.58, 3.65, 16.5, 2.6, 8.25, 3.8, 4.8, 4.75, 6.29, 4.25, 4.5, 7.85, 7.95, 3.7, 4.11, 2.25, 16.0, 3.95, 3.7, 8.75, 5.11, 9.88, 4.95, 6.42, 3.35, 3.38, 3.01, 8.9, 6.16, 6.0, 4.55, 4.0, 2.9, 9.44, 9.66, 8.78, 5.38, 5.25, 2.75, 4.9, 2.79, 0.95, 3.75, 6.21, 4.75, 6.3, 3.75, 3.75, 10.9, 8.75, 2.35, 7.27, 2.78, 2.25, 4.3, 5.92, 6.25, 6.94, 6.07, 6.37, 7.58, 2.6, 5.4, 2.0, 5.6, 6.34, 7.64, 2.66, 16.09, 4.35, 3.5, 6.22, 8.46, 5.5, 5.98, 6.0, 3.5, 8.5, 16.5, 2.66, 3.75, 4.5, 3.85, 7.9, 6.75, 4.5, 9.0, 2.3, 1.74, 5.04, 4.5, 6.95, 3.8, 1.53, 13.12, 6.15, 5.85, 2.85, 8.25, 8.42, 24.5, 8.35, 5.89, 2.7, 3.8, 5.25, 3.0, 5.91, 2.99, 5.25, 5.25, 4.95, 7.25, 9.25, 5.55, 5.0, 4.75, 7.71, 1.25, 8.32, 6.22, 7.56, 8.51, 7.93, 9.18, 6.25, 5.75, 6.17, 7.25, 4.5, 11.31, 6.26, 1.0, 4.12, 2.3, 3.0, 4.9, 3.35, 2.25, 2.5, 2.85, 8.25, 4.4, 1.0, 7.5, 5.32, 8.5, 7.97, 3.65, 8.7, 11.94, 6.35, 7.21, 9.62, 6.0, 9.75, 3.1, 5.9, 5.84, 5.65, 8.4, 5.4, 1.46, 3.15, 5.65, 7.65, 6.9, 9.2, 8.25, 4.25, 6.5, 2.1, 4.9, 3.1, 3.6, 3.87, 6.99, 6.06, 1.6, 6.79, 5.85, 5.5, 7.65, 9.31, 3.3, 3.75, 5.0, 11.5, 10.36, 5.5, 7.83, 18.5, 5.75, 6.95, 5.4, 4.35, 2.99, 7.77, 9.96, 6.25, 12.49, 2.25, 5.65, 3.75, 3.58, 3.36, 6.4, 7.5, 5.11, 4.75, 3.69, 3.75, 9.29, 6.37, 17.5, 6.05, 7.1, 2.35, 2.25, 8.0, 4.25, 8.9, 3.65, 4.9, 3.9, 3.75, 7.4, 6.27, 5.85, 5.37, 5.37, 2.47, 5.48, 4.4, 4.14, 5.6, 6.99, 27.36, 8.11, 14.5, 5.65, 6.69, 4.23, 7.32, 3.47, 3.95, 6.59, 7.4, 5.75, 9.25, 5.25, 7.5, 9.9, 4.9, 3.0, 5.95, 4.6, 2.8, 3.2, 11.25, 4.6, 6.44, 8.2, 9.5, 4.41, 4.75, 3.75, 8.91, 6.45, 4.7, 12.0, 6.8, 3.15, 4.06, 9.11, 3.5, 6.6, 10.9, 5.15, 4.65, 10.5, 8.92, 3.25, 7.67, 2.4, 5.8, 3.5, 2.75, 4.15, 3.0, 4.65, 11.88, 4.9, 6.75, 5.5, 5.5, 3.25, 12.75, 5.4, 4.5, 8.5, 0.45, 5.8, 3.65, 11.0, 2.45, 7.75, 3.1, 5.5, 6.1, 3.5, 7.3, 10.28, 2.25, 10.07, 8.9, 2.75, 3.8, 14.25, 22.55, 2.35, 8.5, 3.35, 2.9, 3.95, 6.1, 7.95, 3.9, 6.75, 8.0, 9.4, 5.95, 1.4, 6.35, 4.75, 6.51, 3.5, 9.18, 5.9, 4.7, 6.51, 6.03, 6.75, 10.95, 4.99, 6.5, 40.0, 4.0, 5.85, 3.5, 5.5, 4.5, 6.5, 13.2, 2.75, 5.88, 3.5, 2.95, 5.75, 2.95, 8.0, 5.75, 5.15, 6.85, 5.75, 5.5, 8.5, 13.0, 3.55, 19.92, 7.34, 2.55, 13.56, 3.2, 3.42, 5.49, 4.8, 5.0, 35.0, 3.21, 4.4, 3.0, 7.9, 6.75, 3.75, 7.5, 3.8, 8.76, 6.15, 11.15, 5.0, 4.35, 3.59, 5.7, 6.9, 3.6, 5.35, 17.45, 3.0, 7.65, 7.2, 4.75, 5.09, 3.6, 23.91, 11.54, 8.25, 5.95, 7.25, 6.7, 2.5, 7.5, 2.7, 16.5, 0.8, 11.92, 2.8, 8.2, 8.65, 3.98, 11.45, 6.5, 3.5, 10.11, 6.95, 8.7, 9.22, 3.6, 4.11, 3.0, 1.2, 4.8, 4.8, 1.38, 3.15, 4.8, 8.25, 3.0, 5.55, 5.2, 6.45, 6.8, 14.01, 7.9, 3.5, 8.75, 8.41, 3.3, 12.75, 8.25, 2.3, 2.75, 3.6, 8.2, 8.7, 7.75, 8.65, 4.45, 5.1, 4.29, 6.0, 4.7, 13.5, 7.55, 7.23, 7.5, 8.6, 5.68, 6.8, 3.4, 6.36, 6.5, 3.6], \"yaxis\": \"y\"}],\n",
              "                        {\"legend\": {\"tracegroupgap\": 0}, \"template\": {\"data\": {\"bar\": [{\"error_x\": {\"color\": \"#2a3f5f\"}, \"error_y\": {\"color\": \"#2a3f5f\"}, \"marker\": {\"line\": {\"color\": \"#E5ECF6\", \"width\": 0.5}}, \"type\": \"bar\"}], \"barpolar\": [{\"marker\": {\"line\": {\"color\": \"#E5ECF6\", \"width\": 0.5}}, \"type\": \"barpolar\"}], \"carpet\": [{\"aaxis\": {\"endlinecolor\": \"#2a3f5f\", \"gridcolor\": \"white\", \"linecolor\": \"white\", \"minorgridcolor\": \"white\", \"startlinecolor\": \"#2a3f5f\"}, \"baxis\": {\"endlinecolor\": \"#2a3f5f\", \"gridcolor\": \"white\", \"linecolor\": \"white\", \"minorgridcolor\": \"white\", \"startlinecolor\": \"#2a3f5f\"}, \"type\": \"carpet\"}], \"choropleth\": [{\"colorbar\": {\"outlinewidth\": 0, \"ticks\": \"\"}, \"type\": \"choropleth\"}], \"contour\": [{\"colorbar\": {\"outlinewidth\": 0, \"ticks\": \"\"}, \"colorscale\": [[0.0, \"#0d0887\"], [0.1111111111111111, \"#46039f\"], [0.2222222222222222, \"#7201a8\"], [0.3333333333333333, \"#9c179e\"], [0.4444444444444444, \"#bd3786\"], [0.5555555555555556, \"#d8576b\"], [0.6666666666666666, \"#ed7953\"], [0.7777777777777778, \"#fb9f3a\"], [0.8888888888888888, \"#fdca26\"], [1.0, \"#f0f921\"]], \"type\": \"contour\"}], \"contourcarpet\": [{\"colorbar\": {\"outlinewidth\": 0, \"ticks\": \"\"}, \"type\": \"contourcarpet\"}], \"heatmap\": [{\"colorbar\": {\"outlinewidth\": 0, \"ticks\": \"\"}, \"colorscale\": [[0.0, \"#0d0887\"], [0.1111111111111111, \"#46039f\"], [0.2222222222222222, \"#7201a8\"], [0.3333333333333333, \"#9c179e\"], [0.4444444444444444, \"#bd3786\"], [0.5555555555555556, \"#d8576b\"], [0.6666666666666666, \"#ed7953\"], [0.7777777777777778, \"#fb9f3a\"], [0.8888888888888888, \"#fdca26\"], [1.0, \"#f0f921\"]], \"type\": \"heatmap\"}], \"heatmapgl\": [{\"colorbar\": {\"outlinewidth\": 0, \"ticks\": \"\"}, \"colorscale\": [[0.0, \"#0d0887\"], [0.1111111111111111, \"#46039f\"], [0.2222222222222222, \"#7201a8\"], [0.3333333333333333, \"#9c179e\"], [0.4444444444444444, \"#bd3786\"], [0.5555555555555556, \"#d8576b\"], [0.6666666666666666, \"#ed7953\"], [0.7777777777777778, \"#fb9f3a\"], [0.8888888888888888, \"#fdca26\"], [1.0, \"#f0f921\"]], \"type\": \"heatmapgl\"}], \"histogram\": [{\"marker\": {\"colorbar\": {\"outlinewidth\": 0, \"ticks\": \"\"}}, \"type\": \"histogram\"}], \"histogram2d\": [{\"colorbar\": {\"outlinewidth\": 0, \"ticks\": \"\"}, \"colorscale\": [[0.0, \"#0d0887\"], [0.1111111111111111, \"#46039f\"], [0.2222222222222222, \"#7201a8\"], [0.3333333333333333, \"#9c179e\"], [0.4444444444444444, \"#bd3786\"], [0.5555555555555556, \"#d8576b\"], [0.6666666666666666, \"#ed7953\"], [0.7777777777777778, \"#fb9f3a\"], [0.8888888888888888, \"#fdca26\"], [1.0, \"#f0f921\"]], \"type\": \"histogram2d\"}], \"histogram2dcontour\": [{\"colorbar\": {\"outlinewidth\": 0, \"ticks\": \"\"}, \"colorscale\": [[0.0, \"#0d0887\"], [0.1111111111111111, \"#46039f\"], [0.2222222222222222, \"#7201a8\"], [0.3333333333333333, \"#9c179e\"], [0.4444444444444444, \"#bd3786\"], [0.5555555555555556, \"#d8576b\"], [0.6666666666666666, \"#ed7953\"], [0.7777777777777778, \"#fb9f3a\"], [0.8888888888888888, \"#fdca26\"], [1.0, \"#f0f921\"]], \"type\": \"histogram2dcontour\"}], \"mesh3d\": [{\"colorbar\": {\"outlinewidth\": 0, \"ticks\": \"\"}, \"type\": \"mesh3d\"}], \"parcoords\": [{\"line\": {\"colorbar\": {\"outlinewidth\": 0, \"ticks\": \"\"}}, \"type\": \"parcoords\"}], \"pie\": [{\"automargin\": true, \"type\": \"pie\"}], \"scatter\": [{\"marker\": {\"colorbar\": {\"outlinewidth\": 0, \"ticks\": \"\"}}, \"type\": \"scatter\"}], \"scatter3d\": [{\"line\": {\"colorbar\": {\"outlinewidth\": 0, \"ticks\": \"\"}}, \"marker\": {\"colorbar\": {\"outlinewidth\": 0, \"ticks\": \"\"}}, \"type\": \"scatter3d\"}], \"scattercarpet\": [{\"marker\": {\"colorbar\": {\"outlinewidth\": 0, \"ticks\": \"\"}}, \"type\": \"scattercarpet\"}], \"scattergeo\": [{\"marker\": {\"colorbar\": {\"outlinewidth\": 0, \"ticks\": \"\"}}, \"type\": \"scattergeo\"}], \"scattergl\": [{\"marker\": {\"colorbar\": {\"outlinewidth\": 0, \"ticks\": \"\"}}, \"type\": \"scattergl\"}], \"scattermapbox\": [{\"marker\": {\"colorbar\": {\"outlinewidth\": 0, \"ticks\": \"\"}}, \"type\": \"scattermapbox\"}], \"scatterpolar\": [{\"marker\": {\"colorbar\": {\"outlinewidth\": 0, \"ticks\": \"\"}}, \"type\": \"scatterpolar\"}], \"scatterpolargl\": [{\"marker\": {\"colorbar\": {\"outlinewidth\": 0, \"ticks\": \"\"}}, \"type\": \"scatterpolargl\"}], \"scatterternary\": [{\"marker\": {\"colorbar\": {\"outlinewidth\": 0, \"ticks\": \"\"}}, \"type\": \"scatterternary\"}], \"surface\": [{\"colorbar\": {\"outlinewidth\": 0, \"ticks\": \"\"}, \"colorscale\": [[0.0, \"#0d0887\"], [0.1111111111111111, \"#46039f\"], [0.2222222222222222, \"#7201a8\"], [0.3333333333333333, \"#9c179e\"], [0.4444444444444444, \"#bd3786\"], [0.5555555555555556, \"#d8576b\"], [0.6666666666666666, \"#ed7953\"], [0.7777777777777778, \"#fb9f3a\"], [0.8888888888888888, \"#fdca26\"], [1.0, \"#f0f921\"]], \"type\": \"surface\"}], \"table\": [{\"cells\": {\"fill\": {\"color\": \"#EBF0F8\"}, \"line\": {\"color\": \"white\"}}, \"header\": {\"fill\": {\"color\": \"#C8D4E3\"}, \"line\": {\"color\": \"white\"}}, \"type\": \"table\"}]}, \"layout\": {\"annotationdefaults\": {\"arrowcolor\": \"#2a3f5f\", \"arrowhead\": 0, \"arrowwidth\": 1}, \"coloraxis\": {\"colorbar\": {\"outlinewidth\": 0, \"ticks\": \"\"}}, \"colorscale\": {\"diverging\": [[0, \"#8e0152\"], [0.1, \"#c51b7d\"], [0.2, \"#de77ae\"], [0.3, \"#f1b6da\"], [0.4, \"#fde0ef\"], [0.5, \"#f7f7f7\"], [0.6, \"#e6f5d0\"], [0.7, \"#b8e186\"], [0.8, \"#7fbc41\"], [0.9, \"#4d9221\"], [1, \"#276419\"]], \"sequential\": [[0.0, \"#0d0887\"], [0.1111111111111111, \"#46039f\"], [0.2222222222222222, \"#7201a8\"], [0.3333333333333333, \"#9c179e\"], [0.4444444444444444, \"#bd3786\"], [0.5555555555555556, \"#d8576b\"], [0.6666666666666666, \"#ed7953\"], [0.7777777777777778, \"#fb9f3a\"], [0.8888888888888888, \"#fdca26\"], [1.0, \"#f0f921\"]], \"sequentialminus\": [[0.0, \"#0d0887\"], [0.1111111111111111, \"#46039f\"], [0.2222222222222222, \"#7201a8\"], [0.3333333333333333, \"#9c179e\"], [0.4444444444444444, \"#bd3786\"], [0.5555555555555556, \"#d8576b\"], [0.6666666666666666, \"#ed7953\"], [0.7777777777777778, \"#fb9f3a\"], [0.8888888888888888, \"#fdca26\"], [1.0, \"#f0f921\"]]}, \"colorway\": [\"#636efa\", \"#EF553B\", \"#00cc96\", \"#ab63fa\", \"#FFA15A\", \"#19d3f3\", \"#FF6692\", \"#B6E880\", \"#FF97FF\", \"#FECB52\"], \"font\": {\"color\": \"#2a3f5f\"}, \"geo\": {\"bgcolor\": \"white\", \"lakecolor\": \"white\", \"landcolor\": \"#E5ECF6\", \"showlakes\": true, \"showland\": true, \"subunitcolor\": \"white\"}, \"hoverlabel\": {\"align\": \"left\"}, \"hovermode\": \"closest\", \"mapbox\": {\"style\": \"light\"}, \"paper_bgcolor\": \"white\", \"plot_bgcolor\": \"#E5ECF6\", \"polar\": {\"angularaxis\": {\"gridcolor\": \"white\", \"linecolor\": \"white\", \"ticks\": \"\"}, \"bgcolor\": \"#E5ECF6\", \"radialaxis\": {\"gridcolor\": \"white\", \"linecolor\": \"white\", \"ticks\": \"\"}}, \"scene\": {\"xaxis\": {\"backgroundcolor\": \"#E5ECF6\", \"gridcolor\": \"white\", \"gridwidth\": 2, \"linecolor\": \"white\", \"showbackground\": true, \"ticks\": \"\", \"zerolinecolor\": \"white\"}, \"yaxis\": {\"backgroundcolor\": \"#E5ECF6\", \"gridcolor\": \"white\", \"gridwidth\": 2, \"linecolor\": \"white\", \"showbackground\": true, \"ticks\": \"\", \"zerolinecolor\": \"white\"}, \"zaxis\": {\"backgroundcolor\": \"#E5ECF6\", \"gridcolor\": \"white\", \"gridwidth\": 2, \"linecolor\": \"white\", \"showbackground\": true, \"ticks\": \"\", \"zerolinecolor\": \"white\"}}, \"shapedefaults\": {\"line\": {\"color\": \"#2a3f5f\"}}, \"ternary\": {\"aaxis\": {\"gridcolor\": \"white\", \"linecolor\": \"white\", \"ticks\": \"\"}, \"baxis\": {\"gridcolor\": \"white\", \"linecolor\": \"white\", \"ticks\": \"\"}, \"bgcolor\": \"#E5ECF6\", \"caxis\": {\"gridcolor\": \"white\", \"linecolor\": \"white\", \"ticks\": \"\"}}, \"title\": {\"x\": 0.05}, \"xaxis\": {\"automargin\": true, \"gridcolor\": \"white\", \"linecolor\": \"white\", \"ticks\": \"\", \"title\": {\"standoff\": 15}, \"zerolinecolor\": \"white\", \"zerolinewidth\": 2}, \"yaxis\": {\"automargin\": true, \"gridcolor\": \"white\", \"linecolor\": \"white\", \"ticks\": \"\", \"title\": {\"standoff\": 15}, \"zerolinecolor\": \"white\", \"zerolinewidth\": 2}}}, \"title\": {\"text\": \"Harga Mobil Bekas berdasarkan Seats\"}, \"xaxis\": {\"anchor\": \"y\", \"domain\": [0.0, 1.0], \"title\": {\"text\": \"Seats\"}}, \"yaxis\": {\"anchor\": \"x\", \"domain\": [0.0, 1.0], \"title\": {\"text\": \"Price\"}}},\n",
              "                        {\"responsive\": true}\n",
              "                    ).then(function(){\n",
              "                            \n",
              "var gd = document.getElementById('d6fd3620-e628-4307-a108-fdd4aa7261cb');\n",
              "var x = new MutationObserver(function (mutations, observer) {{\n",
              "        var display = window.getComputedStyle(gd).display;\n",
              "        if (!display || display === 'none') {{\n",
              "            console.log([gd, 'removed!']);\n",
              "            Plotly.purge(gd);\n",
              "            observer.disconnect();\n",
              "        }}\n",
              "}});\n",
              "\n",
              "// Listen for the removal of the full notebook cells\n",
              "var notebookContainer = gd.closest('#notebook-container');\n",
              "if (notebookContainer) {{\n",
              "    x.observe(notebookContainer, {childList: true});\n",
              "}}\n",
              "\n",
              "// Listen for the clearing of the current output cell\n",
              "var outputEl = gd.closest('.output');\n",
              "if (outputEl) {{\n",
              "    x.observe(outputEl, {childList: true});\n",
              "}}\n",
              "\n",
              "                        })\n",
              "                };\n",
              "                \n",
              "            </script>\n",
              "        </div>\n",
              "</body>\n",
              "</html>"
            ]
          },
          "metadata": {
            "tags": []
          }
        }
      ]
    },
    {
      "cell_type": "code",
      "metadata": {
        "id": "aF-ft28OL_gk",
        "colab_type": "code",
        "colab": {
          "base_uri": "https://localhost:8080/",
          "height": 302
        },
        "outputId": "1f54c247-04f5-4774-d602-3cc58e339547"
      },
      "source": [
        "datakm.groupby('Seats').mean()['Price'].plot.bar()"
      ],
      "execution_count": null,
      "outputs": [
        {
          "output_type": "execute_result",
          "data": {
            "text/plain": [
              "<matplotlib.axes._subplots.AxesSubplot at 0x7fd355923be0>"
            ]
          },
          "metadata": {
            "tags": []
          },
          "execution_count": 60
        },
        {
          "output_type": "display_data",
          "data": {
            "image/png": "[encoded data removed]",
            "text/plain": [
              "<Figure size 432x288 with 1 Axes>"
            ]
          },
          "metadata": {
            "tags": [],
            "needs_background": "light"
          }
        }
      ]
    },
    {
      "cell_type": "code",
      "metadata": {
        "id": "8RV8s7VXTI3R",
        "colab_type": "code",
        "colab": {
          "base_uri": "https://localhost:8080/",
          "height": 813
        },
        "outputId": "53989d58-1655-4b22-9f81-527feba331fd"
      },
      "source": [
        "datakm"
      ],
      "execution_count": null,
      "outputs": [
        {
          "output_type": "execute_result",
          "data": {
            "text/html": [
              "<div>\n",
              "<style scoped>\n",
              "    .dataframe tbody tr th:only-of-type {\n",
              "        vertical-align: middle;\n",
              "    }\n",
              "\n",
              "    .dataframe tbody tr th {\n",
              "        vertical-align: top;\n",
              "    }\n",
              "\n",
              "    .dataframe thead th {\n",
              "        text-align: right;\n",
              "    }\n",
              "</style>\n",
              "<table border=\"1\" class=\"dataframe\">\n",
              "  <thead>\n",
              "    <tr style=\"text-align: right;\">\n",
              "      <th></th>\n",
              "      <th>Name</th>\n",
              "      <th>Location</th>\n",
              "      <th>Year</th>\n",
              "      <th>Kilometers_Driven</th>\n",
              "      <th>Fuel_Type</th>\n",
              "      <th>Transmission</th>\n",
              "      <th>Owner_Type</th>\n",
              "      <th>Mileage</th>\n",
              "      <th>Engine</th>\n",
              "      <th>Power</th>\n",
              "      <th>Seats</th>\n",
              "      <th>Price</th>\n",
              "      <th>Merk</th>\n",
              "    </tr>\n",
              "  </thead>\n",
              "  <tbody>\n",
              "    <tr>\n",
              "      <th>1</th>\n",
              "      <td>Skoda Octavia Ambition Plus 2.0 TDI AT</td>\n",
              "      <td>Kolkata</td>\n",
              "      <td>2013</td>\n",
              "      <td>775000</td>\n",
              "      <td>Diesel</td>\n",
              "      <td>1</td>\n",
              "      <td>First</td>\n",
              "      <td>19.30</td>\n",
              "      <td>1968</td>\n",
              "      <td>141.00</td>\n",
              "      <td>5.0</td>\n",
              "      <td>7.50</td>\n",
              "      <td>Skoda</td>\n",
              "    </tr>\n",
              "    <tr>\n",
              "      <th>2</th>\n",
              "      <td>Volkswagen Vento Diesel Highline</td>\n",
              "      <td>Chennai</td>\n",
              "      <td>2013</td>\n",
              "      <td>720000</td>\n",
              "      <td>Diesel</td>\n",
              "      <td>2</td>\n",
              "      <td>First</td>\n",
              "      <td>20.54</td>\n",
              "      <td>1598</td>\n",
              "      <td>103.60</td>\n",
              "      <td>5.0</td>\n",
              "      <td>5.90</td>\n",
              "      <td>Volkswagen</td>\n",
              "    </tr>\n",
              "    <tr>\n",
              "      <th>3</th>\n",
              "      <td>Hyundai i10 Magna 1.2</td>\n",
              "      <td>Chennai</td>\n",
              "      <td>2009</td>\n",
              "      <td>620000</td>\n",
              "      <td>Petrol</td>\n",
              "      <td>2</td>\n",
              "      <td>First</td>\n",
              "      <td>20.36</td>\n",
              "      <td>1197</td>\n",
              "      <td>78.90</td>\n",
              "      <td>5.0</td>\n",
              "      <td>2.70</td>\n",
              "      <td>Hyundai</td>\n",
              "    </tr>\n",
              "    <tr>\n",
              "      <th>4</th>\n",
              "      <td>Honda City i VTEC SV</td>\n",
              "      <td>Kolkata</td>\n",
              "      <td>2015</td>\n",
              "      <td>480000</td>\n",
              "      <td>Petrol</td>\n",
              "      <td>2</td>\n",
              "      <td>First</td>\n",
              "      <td>17.40</td>\n",
              "      <td>1497</td>\n",
              "      <td>117.30</td>\n",
              "      <td>5.0</td>\n",
              "      <td>5.00</td>\n",
              "      <td>Honda</td>\n",
              "    </tr>\n",
              "    <tr>\n",
              "      <th>5</th>\n",
              "      <td>Volkswagen Jetta 2013-2015 2.0L TDI Highline AT</td>\n",
              "      <td>Chennai</td>\n",
              "      <td>2015</td>\n",
              "      <td>480000</td>\n",
              "      <td>Diesel</td>\n",
              "      <td>1</td>\n",
              "      <td>First</td>\n",
              "      <td>16.96</td>\n",
              "      <td>1968</td>\n",
              "      <td>138.03</td>\n",
              "      <td>5.0</td>\n",
              "      <td>13.00</td>\n",
              "      <td>Volkswagen</td>\n",
              "    </tr>\n",
              "    <tr>\n",
              "      <th>...</th>\n",
              "      <td>...</td>\n",
              "      <td>...</td>\n",
              "      <td>...</td>\n",
              "      <td>...</td>\n",
              "      <td>...</td>\n",
              "      <td>...</td>\n",
              "      <td>...</td>\n",
              "      <td>...</td>\n",
              "      <td>...</td>\n",
              "      <td>...</td>\n",
              "      <td>...</td>\n",
              "      <td>...</td>\n",
              "      <td>...</td>\n",
              "    </tr>\n",
              "    <tr>\n",
              "      <th>5944</th>\n",
              "      <td>Renault KWID RXL</td>\n",
              "      <td>Pune</td>\n",
              "      <td>2018</td>\n",
              "      <td>1000</td>\n",
              "      <td>Petrol</td>\n",
              "      <td>2</td>\n",
              "      <td>First</td>\n",
              "      <td>25.17</td>\n",
              "      <td>799</td>\n",
              "      <td>53.30</td>\n",
              "      <td>5.0</td>\n",
              "      <td>3.40</td>\n",
              "      <td>Renault</td>\n",
              "    </tr>\n",
              "    <tr>\n",
              "      <th>5945</th>\n",
              "      <td>Maruti Ignis 1.2 Alpha</td>\n",
              "      <td>Mumbai</td>\n",
              "      <td>2017</td>\n",
              "      <td>1000</td>\n",
              "      <td>Petrol</td>\n",
              "      <td>2</td>\n",
              "      <td>First</td>\n",
              "      <td>20.89</td>\n",
              "      <td>1197</td>\n",
              "      <td>81.80</td>\n",
              "      <td>5.0</td>\n",
              "      <td>6.36</td>\n",
              "      <td>Maruti</td>\n",
              "    </tr>\n",
              "    <tr>\n",
              "      <th>5946</th>\n",
              "      <td>Hyundai Grand i10 1.2 Kappa Asta</td>\n",
              "      <td>Kolkata</td>\n",
              "      <td>2019</td>\n",
              "      <td>1000</td>\n",
              "      <td>Petrol</td>\n",
              "      <td>2</td>\n",
              "      <td>First</td>\n",
              "      <td>18.90</td>\n",
              "      <td>1197</td>\n",
              "      <td>81.86</td>\n",
              "      <td>5.0</td>\n",
              "      <td>6.50</td>\n",
              "      <td>Hyundai</td>\n",
              "    </tr>\n",
              "    <tr>\n",
              "      <th>5947</th>\n",
              "      <td>Maruti Wagon R ZXI AMT 1.2</td>\n",
              "      <td>Mumbai</td>\n",
              "      <td>2019</td>\n",
              "      <td>600</td>\n",
              "      <td>Petrol</td>\n",
              "      <td>1</td>\n",
              "      <td>First</td>\n",
              "      <td>21.50</td>\n",
              "      <td>1197</td>\n",
              "      <td>81.80</td>\n",
              "      <td>5.0</td>\n",
              "      <td>6.25</td>\n",
              "      <td>Maruti</td>\n",
              "    </tr>\n",
              "    <tr>\n",
              "      <th>5948</th>\n",
              "      <td>Maruti Alto 800 2016-2019 VXI</td>\n",
              "      <td>Mumbai</td>\n",
              "      <td>2019</td>\n",
              "      <td>171</td>\n",
              "      <td>Petrol</td>\n",
              "      <td>2</td>\n",
              "      <td>First</td>\n",
              "      <td>24.70</td>\n",
              "      <td>796</td>\n",
              "      <td>47.30</td>\n",
              "      <td>5.0</td>\n",
              "      <td>3.60</td>\n",
              "      <td>Maruti</td>\n",
              "    </tr>\n",
              "  </tbody>\n",
              "</table>\n",
              "<p>5948 rows × 13 columns</p>\n",
              "</div>"
            ],
            "text/plain": [
              "                                                 Name  ...        Merk\n",
              "1              Skoda Octavia Ambition Plus 2.0 TDI AT  ...       Skoda\n",
              "2                    Volkswagen Vento Diesel Highline  ...  Volkswagen\n",
              "3                               Hyundai i10 Magna 1.2  ...     Hyundai\n",
              "4                                Honda City i VTEC SV  ...       Honda\n",
              "5     Volkswagen Jetta 2013-2015 2.0L TDI Highline AT  ...  Volkswagen\n",
              "...                                               ...  ...         ...\n",
              "5944                                 Renault KWID RXL  ...     Renault\n",
              "5945                           Maruti Ignis 1.2 Alpha  ...      Maruti\n",
              "5946                 Hyundai Grand i10 1.2 Kappa Asta  ...     Hyundai\n",
              "5947                       Maruti Wagon R ZXI AMT 1.2  ...      Maruti\n",
              "5948                    Maruti Alto 800 2016-2019 VXI  ...      Maruti\n",
              "\n",
              "[5948 rows x 13 columns]"
            ]
          },
          "metadata": {
            "tags": []
          },
          "execution_count": 68
        }
      ]
    },
    {
      "cell_type": "code",
      "metadata": {
        "id": "qUCZAYrbxyj-",
        "colab_type": "code",
        "colab": {
          "base_uri": "https://localhost:8080/",
          "height": 813
        },
        "outputId": "2272d597-6537-4937-d3cc-a2fdb52a8682"
      },
      "source": [
        "datacor=datakm\n",
        "#transmission = {'Automatic': 1,'Manual': 2} \n",
        "#datacor.Transmission = [transmission[item] for item in datacor.Transmission] \n",
        "ownertype = {'First': 4,'Second': 3, 'Third':2, 'Fourth & Above':1} \n",
        "datacor.Owner_Type = [ownertype[item] for item in datacor.Owner_Type] \n",
        "fueltype = {'CNG': 4,'LPG': 3, 'Petrol':2, 'Diesel':1} \n",
        "datacor.Fuel_Type  = [fueltype[item] for item in datacor.Fuel_Type] \n",
        "city = {'Ahmedabad': 1,'Bangalore': 2, 'Chennai':3, 'Coimbatore':4, 'Delhi':5, 'Hyderabad':6, 'Jaipur':7, 'Kochi':8,'Kolkata':9, 'Mumbai':10, 'Pune':11} \n",
        "datacor.Location  = [city[item] for item in datacor.Location] \n",
        "datacor"
      ],
      "execution_count": null,
      "outputs": [
        {
          "output_type": "execute_result",
          "data": {
            "text/html": [
              "<div>\n",
              "<style scoped>\n",
              "    .dataframe tbody tr th:only-of-type {\n",
              "        vertical-align: middle;\n",
              "    }\n",
              "\n",
              "    .dataframe tbody tr th {\n",
              "        vertical-align: top;\n",
              "    }\n",
              "\n",
              "    .dataframe thead th {\n",
              "        text-align: right;\n",
              "    }\n",
              "</style>\n",
              "<table border=\"1\" class=\"dataframe\">\n",
              "  <thead>\n",
              "    <tr style=\"text-align: right;\">\n",
              "      <th></th>\n",
              "      <th>Name</th>\n",
              "      <th>Location</th>\n",
              "      <th>Year</th>\n",
              "      <th>Kilometers_Driven</th>\n",
              "      <th>Fuel_Type</th>\n",
              "      <th>Transmission</th>\n",
              "      <th>Owner_Type</th>\n",
              "      <th>Mileage</th>\n",
              "      <th>Engine</th>\n",
              "      <th>Power</th>\n",
              "      <th>Seats</th>\n",
              "      <th>Price</th>\n",
              "      <th>Merk</th>\n",
              "    </tr>\n",
              "  </thead>\n",
              "  <tbody>\n",
              "    <tr>\n",
              "      <th>1</th>\n",
              "      <td>Skoda Octavia Ambition Plus 2.0 TDI AT</td>\n",
              "      <td>9</td>\n",
              "      <td>2013</td>\n",
              "      <td>775000</td>\n",
              "      <td>1</td>\n",
              "      <td>1</td>\n",
              "      <td>4</td>\n",
              "      <td>19.30</td>\n",
              "      <td>1968</td>\n",
              "      <td>141.00</td>\n",
              "      <td>5.0</td>\n",
              "      <td>7.50</td>\n",
              "      <td>Skoda</td>\n",
              "    </tr>\n",
              "    <tr>\n",
              "      <th>2</th>\n",
              "      <td>Volkswagen Vento Diesel Highline</td>\n",
              "      <td>3</td>\n",
              "      <td>2013</td>\n",
              "      <td>720000</td>\n",
              "      <td>1</td>\n",
              "      <td>2</td>\n",
              "      <td>4</td>\n",
              "      <td>20.54</td>\n",
              "      <td>1598</td>\n",
              "      <td>103.60</td>\n",
              "      <td>5.0</td>\n",
              "      <td>5.90</td>\n",
              "      <td>Volkswagen</td>\n",
              "    </tr>\n",
              "    <tr>\n",
              "      <th>3</th>\n",
              "      <td>Hyundai i10 Magna 1.2</td>\n",
              "      <td>3</td>\n",
              "      <td>2009</td>\n",
              "      <td>620000</td>\n",
              "      <td>2</td>\n",
              "      <td>2</td>\n",
              "      <td>4</td>\n",
              "      <td>20.36</td>\n",
              "      <td>1197</td>\n",
              "      <td>78.90</td>\n",
              "      <td>5.0</td>\n",
              "      <td>2.70</td>\n",
              "      <td>Hyundai</td>\n",
              "    </tr>\n",
              "    <tr>\n",
              "      <th>4</th>\n",
              "      <td>Honda City i VTEC SV</td>\n",
              "      <td>9</td>\n",
              "      <td>2015</td>\n",
              "      <td>480000</td>\n",
              "      <td>2</td>\n",
              "      <td>2</td>\n",
              "      <td>4</td>\n",
              "      <td>17.40</td>\n",
              "      <td>1497</td>\n",
              "      <td>117.30</td>\n",
              "      <td>5.0</td>\n",
              "      <td>5.00</td>\n",
              "      <td>Honda</td>\n",
              "    </tr>\n",
              "    <tr>\n",
              "      <th>5</th>\n",
              "      <td>Volkswagen Jetta 2013-2015 2.0L TDI Highline AT</td>\n",
              "      <td>3</td>\n",
              "      <td>2015</td>\n",
              "      <td>480000</td>\n",
              "      <td>1</td>\n",
              "      <td>1</td>\n",
              "      <td>4</td>\n",
              "      <td>16.96</td>\n",
              "      <td>1968</td>\n",
              "      <td>138.03</td>\n",
              "      <td>5.0</td>\n",
              "      <td>13.00</td>\n",
              "      <td>Volkswagen</td>\n",
              "    </tr>\n",
              "    <tr>\n",
              "      <th>...</th>\n",
              "      <td>...</td>\n",
              "      <td>...</td>\n",
              "      <td>...</td>\n",
              "      <td>...</td>\n",
              "      <td>...</td>\n",
              "      <td>...</td>\n",
              "      <td>...</td>\n",
              "      <td>...</td>\n",
              "      <td>...</td>\n",
              "      <td>...</td>\n",
              "      <td>...</td>\n",
              "      <td>...</td>\n",
              "      <td>...</td>\n",
              "    </tr>\n",
              "    <tr>\n",
              "      <th>5944</th>\n",
              "      <td>Renault KWID RXL</td>\n",
              "      <td>11</td>\n",
              "      <td>2018</td>\n",
              "      <td>1000</td>\n",
              "      <td>2</td>\n",
              "      <td>2</td>\n",
              "      <td>4</td>\n",
              "      <td>25.17</td>\n",
              "      <td>799</td>\n",
              "      <td>53.30</td>\n",
              "      <td>5.0</td>\n",
              "      <td>3.40</td>\n",
              "      <td>Renault</td>\n",
              "    </tr>\n",
              "    <tr>\n",
              "      <th>5945</th>\n",
              "      <td>Maruti Ignis 1.2 Alpha</td>\n",
              "      <td>10</td>\n",
              "      <td>2017</td>\n",
              "      <td>1000</td>\n",
              "      <td>2</td>\n",
              "      <td>2</td>\n",
              "      <td>4</td>\n",
              "      <td>20.89</td>\n",
              "      <td>1197</td>\n",
              "      <td>81.80</td>\n",
              "      <td>5.0</td>\n",
              "      <td>6.36</td>\n",
              "      <td>Maruti</td>\n",
              "    </tr>\n",
              "    <tr>\n",
              "      <th>5946</th>\n",
              "      <td>Hyundai Grand i10 1.2 Kappa Asta</td>\n",
              "      <td>9</td>\n",
              "      <td>2019</td>\n",
              "      <td>1000</td>\n",
              "      <td>2</td>\n",
              "      <td>2</td>\n",
              "      <td>4</td>\n",
              "      <td>18.90</td>\n",
              "      <td>1197</td>\n",
              "      <td>81.86</td>\n",
              "      <td>5.0</td>\n",
              "      <td>6.50</td>\n",
              "      <td>Hyundai</td>\n",
              "    </tr>\n",
              "    <tr>\n",
              "      <th>5947</th>\n",
              "      <td>Maruti Wagon R ZXI AMT 1.2</td>\n",
              "      <td>10</td>\n",
              "      <td>2019</td>\n",
              "      <td>600</td>\n",
              "      <td>2</td>\n",
              "      <td>1</td>\n",
              "      <td>4</td>\n",
              "      <td>21.50</td>\n",
              "      <td>1197</td>\n",
              "      <td>81.80</td>\n",
              "      <td>5.0</td>\n",
              "      <td>6.25</td>\n",
              "      <td>Maruti</td>\n",
              "    </tr>\n",
              "    <tr>\n",
              "      <th>5948</th>\n",
              "      <td>Maruti Alto 800 2016-2019 VXI</td>\n",
              "      <td>10</td>\n",
              "      <td>2019</td>\n",
              "      <td>171</td>\n",
              "      <td>2</td>\n",
              "      <td>2</td>\n",
              "      <td>4</td>\n",
              "      <td>24.70</td>\n",
              "      <td>796</td>\n",
              "      <td>47.30</td>\n",
              "      <td>5.0</td>\n",
              "      <td>3.60</td>\n",
              "      <td>Maruti</td>\n",
              "    </tr>\n",
              "  </tbody>\n",
              "</table>\n",
              "<p>5948 rows × 13 columns</p>\n",
              "</div>"
            ],
            "text/plain": [
              "                                                 Name  ...        Merk\n",
              "1              Skoda Octavia Ambition Plus 2.0 TDI AT  ...       Skoda\n",
              "2                    Volkswagen Vento Diesel Highline  ...  Volkswagen\n",
              "3                               Hyundai i10 Magna 1.2  ...     Hyundai\n",
              "4                                Honda City i VTEC SV  ...       Honda\n",
              "5     Volkswagen Jetta 2013-2015 2.0L TDI Highline AT  ...  Volkswagen\n",
              "...                                               ...  ...         ...\n",
              "5944                                 Renault KWID RXL  ...     Renault\n",
              "5945                           Maruti Ignis 1.2 Alpha  ...      Maruti\n",
              "5946                 Hyundai Grand i10 1.2 Kappa Asta  ...     Hyundai\n",
              "5947                       Maruti Wagon R ZXI AMT 1.2  ...      Maruti\n",
              "5948                    Maruti Alto 800 2016-2019 VXI  ...      Maruti\n",
              "\n",
              "[5948 rows x 13 columns]"
            ]
          },
          "metadata": {
            "tags": []
          },
          "execution_count": 69
        }
      ]
    },
    {
      "cell_type": "code",
      "metadata": {
        "id": "XT3-8ysP1ET1",
        "colab_type": "code",
        "colab": {
          "base_uri": "https://localhost:8080/",
          "height": 379
        },
        "outputId": "0afad0bb-463c-44f1-c7be-56ad1a730741"
      },
      "source": [
        "datacor.corr()"
      ],
      "execution_count": null,
      "outputs": [
        {
          "output_type": "execute_result",
          "data": {
            "text/html": [
              "<div>\n",
              "<style scoped>\n",
              "    .dataframe tbody tr th:only-of-type {\n",
              "        vertical-align: middle;\n",
              "    }\n",
              "\n",
              "    .dataframe tbody tr th {\n",
              "        vertical-align: top;\n",
              "    }\n",
              "\n",
              "    .dataframe thead th {\n",
              "        text-align: right;\n",
              "    }\n",
              "</style>\n",
              "<table border=\"1\" class=\"dataframe\">\n",
              "  <thead>\n",
              "    <tr style=\"text-align: right;\">\n",
              "      <th></th>\n",
              "      <th>Location</th>\n",
              "      <th>Year</th>\n",
              "      <th>Kilometers_Driven</th>\n",
              "      <th>Fuel_Type</th>\n",
              "      <th>Transmission</th>\n",
              "      <th>Owner_Type</th>\n",
              "      <th>Mileage</th>\n",
              "      <th>Power</th>\n",
              "      <th>Seats</th>\n",
              "      <th>Price</th>\n",
              "    </tr>\n",
              "  </thead>\n",
              "  <tbody>\n",
              "    <tr>\n",
              "      <th>Location</th>\n",
              "      <td>1.000000</td>\n",
              "      <td>-0.020040</td>\n",
              "      <td>-0.070024</td>\n",
              "      <td>0.133645</td>\n",
              "      <td>0.043104</td>\n",
              "      <td>0.030822</td>\n",
              "      <td>0.019469</td>\n",
              "      <td>-0.064277</td>\n",
              "      <td>-0.038668</td>\n",
              "      <td>-0.117470</td>\n",
              "    </tr>\n",
              "    <tr>\n",
              "      <th>Year</th>\n",
              "      <td>-0.020040</td>\n",
              "      <td>1.000000</td>\n",
              "      <td>-0.446004</td>\n",
              "      <td>-0.108946</td>\n",
              "      <td>-0.093859</td>\n",
              "      <td>0.388083</td>\n",
              "      <td>0.310366</td>\n",
              "      <td>0.066606</td>\n",
              "      <td>0.030412</td>\n",
              "      <td>0.305487</td>\n",
              "    </tr>\n",
              "    <tr>\n",
              "      <th>Kilometers_Driven</th>\n",
              "      <td>-0.070024</td>\n",
              "      <td>-0.446004</td>\n",
              "      <td>1.000000</td>\n",
              "      <td>-0.203161</td>\n",
              "      <td>0.105693</td>\n",
              "      <td>-0.208703</td>\n",
              "      <td>-0.136730</td>\n",
              "      <td>-0.012861</td>\n",
              "      <td>0.201685</td>\n",
              "      <td>-0.168040</td>\n",
              "    </tr>\n",
              "    <tr>\n",
              "      <th>Fuel_Type</th>\n",
              "      <td>0.133645</td>\n",
              "      <td>-0.108946</td>\n",
              "      <td>-0.203161</td>\n",
              "      <td>1.000000</td>\n",
              "      <td>0.149762</td>\n",
              "      <td>-0.043723</td>\n",
              "      <td>-0.046377</td>\n",
              "      <td>-0.291983</td>\n",
              "      <td>-0.286373</td>\n",
              "      <td>-0.307838</td>\n",
              "    </tr>\n",
              "    <tr>\n",
              "      <th>Transmission</th>\n",
              "      <td>0.043104</td>\n",
              "      <td>-0.093859</td>\n",
              "      <td>0.105693</td>\n",
              "      <td>0.149762</td>\n",
              "      <td>1.000000</td>\n",
              "      <td>-0.006744</td>\n",
              "      <td>0.346578</td>\n",
              "      <td>-0.635585</td>\n",
              "      <td>0.068795</td>\n",
              "      <td>-0.586254</td>\n",
              "    </tr>\n",
              "    <tr>\n",
              "      <th>Owner_Type</th>\n",
              "      <td>0.030822</td>\n",
              "      <td>0.388083</td>\n",
              "      <td>-0.208703</td>\n",
              "      <td>-0.043723</td>\n",
              "      <td>-0.006744</td>\n",
              "      <td>1.000000</td>\n",
              "      <td>0.155659</td>\n",
              "      <td>-0.005175</td>\n",
              "      <td>-0.000459</td>\n",
              "      <td>0.096306</td>\n",
              "    </tr>\n",
              "    <tr>\n",
              "      <th>Mileage</th>\n",
              "      <td>0.019469</td>\n",
              "      <td>0.310366</td>\n",
              "      <td>-0.136730</td>\n",
              "      <td>-0.046377</td>\n",
              "      <td>0.346578</td>\n",
              "      <td>0.155659</td>\n",
              "      <td>1.000000</td>\n",
              "      <td>-0.458693</td>\n",
              "      <td>-0.300720</td>\n",
              "      <td>-0.316889</td>\n",
              "    </tr>\n",
              "    <tr>\n",
              "      <th>Power</th>\n",
              "      <td>-0.064277</td>\n",
              "      <td>0.066606</td>\n",
              "      <td>-0.012861</td>\n",
              "      <td>-0.291983</td>\n",
              "      <td>-0.635585</td>\n",
              "      <td>-0.005175</td>\n",
              "      <td>-0.458693</td>\n",
              "      <td>1.000000</td>\n",
              "      <td>0.119639</td>\n",
              "      <td>0.759854</td>\n",
              "    </tr>\n",
              "    <tr>\n",
              "      <th>Seats</th>\n",
              "      <td>-0.038668</td>\n",
              "      <td>0.030412</td>\n",
              "      <td>0.201685</td>\n",
              "      <td>-0.286373</td>\n",
              "      <td>0.068795</td>\n",
              "      <td>-0.000459</td>\n",
              "      <td>-0.300720</td>\n",
              "      <td>0.119639</td>\n",
              "      <td>1.000000</td>\n",
              "      <td>0.059355</td>\n",
              "    </tr>\n",
              "    <tr>\n",
              "      <th>Price</th>\n",
              "      <td>-0.117470</td>\n",
              "      <td>0.305487</td>\n",
              "      <td>-0.168040</td>\n",
              "      <td>-0.307838</td>\n",
              "      <td>-0.586254</td>\n",
              "      <td>0.096306</td>\n",
              "      <td>-0.316889</td>\n",
              "      <td>0.759854</td>\n",
              "      <td>0.059355</td>\n",
              "      <td>1.000000</td>\n",
              "    </tr>\n",
              "  </tbody>\n",
              "</table>\n",
              "</div>"
            ],
            "text/plain": [
              "                   Location      Year  ...     Seats     Price\n",
              "Location           1.000000 -0.020040  ... -0.038668 -0.117470\n",
              "Year              -0.020040  1.000000  ...  0.030412  0.305487\n",
              "Kilometers_Driven -0.070024 -0.446004  ...  0.201685 -0.168040\n",
              "Fuel_Type          0.133645 -0.108946  ... -0.286373 -0.307838\n",
              "Transmission       0.043104 -0.093859  ...  0.068795 -0.586254\n",
              "Owner_Type         0.030822  0.388083  ... -0.000459  0.096306\n",
              "Mileage            0.019469  0.310366  ... -0.300720 -0.316889\n",
              "Power             -0.064277  0.066606  ...  0.119639  0.759854\n",
              "Seats             -0.038668  0.030412  ...  1.000000  0.059355\n",
              "Price             -0.117470  0.305487  ...  0.059355  1.000000\n",
              "\n",
              "[10 rows x 10 columns]"
            ]
          },
          "metadata": {
            "tags": []
          },
          "execution_count": 70
        }
      ]
    },
    {
      "cell_type": "code",
      "metadata": {
        "id": "t9_YFRBo0udq",
        "colab_type": "code",
        "colab": {
          "base_uri": "https://localhost:8080/",
          "height": 694
        },
        "outputId": "b94e4ea5-1ba1-4e90-9167-14989f20a916"
      },
      "source": [
        "plt.figure(figsize=(10,10))\n",
        "sns.heatmap(datacor.corr(),\n",
        "            vmin=-1,\n",
        "            cmap='coolwarm',\n",
        "            annot=True)"
      ],
      "execution_count": null,
      "outputs": [
        {
          "output_type": "execute_result",
          "data": {
            "text/plain": [
              "<matplotlib.axes._subplots.AxesSubplot at 0x7fd353948c50>"
            ]
          },
          "metadata": {
            "tags": []
          },
          "execution_count": 71
        },
        {
          "output_type": "display_data",
          "data": {
            "image/png": "[encoded data removed]",
            "text/plain": [
              "<Figure size 720x720 with 2 Axes>"
            ]
          },
          "metadata": {
            "tags": [],
            "needs_background": "light"
          }
        }
      ]
    },
    {
      "cell_type": "markdown",
      "metadata": {
        "id": "Cjr1GmqsNZ2Q",
        "colab_type": "text"
      },
      "source": [
        "INSIGHT TAMBAHAN"
      ]
    },
    {
      "cell_type": "code",
      "metadata": {
        "id": "R8iLOxjqMaVg",
        "colab_type": "code",
        "colab": {
          "base_uri": "https://localhost:8080/",
          "height": 357
        },
        "outputId": "bd5338a3-344b-4f0b-d1ef-8106ba508ba6"
      },
      "source": [
        "Manual = datakm.loc[(datakm['Transmission'] == 1)]\n",
        "Manual.groupby('Year').count()['Transmission']\n",
        "#Manual"
      ],
      "execution_count": null,
      "outputs": [
        {
          "output_type": "execute_result",
          "data": {
            "text/plain": [
              "Year\n",
              "1998      1\n",
              "2003      1\n",
              "2004      6\n",
              "2005      9\n",
              "2006     11\n",
              "2007     20\n",
              "2008     40\n",
              "2009     67\n",
              "2010     77\n",
              "2011    131\n",
              "2012    143\n",
              "2013    179\n",
              "2014    222\n",
              "2015    221\n",
              "2016    228\n",
              "2017    197\n",
              "2018    107\n",
              "2019     46\n",
              "Name: Transmission, dtype: int64"
            ]
          },
          "metadata": {
            "tags": []
          },
          "execution_count": 78
        }
      ]
    },
    {
      "cell_type": "code",
      "metadata": {
        "id": "_tXMDb8_OFvm",
        "colab_type": "code",
        "colab": {
          "base_uri": "https://localhost:8080/",
          "height": 425
        },
        "outputId": "b8ec1725-1d80-4bf6-bf68-f06a1c960bda"
      },
      "source": [
        "Manual2 = datakm.loc[(datakm['Transmission'] == 2)]\n",
        "Manual2.groupby('Year').count()['Transmission']"
      ],
      "execution_count": null,
      "outputs": [
        {
          "output_type": "execute_result",
          "data": {
            "text/plain": [
              "Year\n",
              "1998      3\n",
              "1999      2\n",
              "2000      4\n",
              "2001      6\n",
              "2002     13\n",
              "2003     14\n",
              "2004     21\n",
              "2005     44\n",
              "2006     64\n",
              "2007    102\n",
              "2008    129\n",
              "2009    128\n",
              "2010    261\n",
              "2011    330\n",
              "2012    426\n",
              "2013    464\n",
              "2014    567\n",
              "2015    519\n",
              "2016    511\n",
              "2017    388\n",
              "2018    190\n",
              "2019     56\n",
              "Name: Transmission, dtype: int64"
            ]
          },
          "metadata": {
            "tags": []
          },
          "execution_count": 79
        }
      ]
    },
    {
      "cell_type": "code",
      "metadata": {
        "id": "lbDFy_07OVeN",
        "colab_type": "code",
        "colab": {
          "base_uri": "https://localhost:8080/",
          "height": 425
        },
        "outputId": "6da2df16-6faa-409f-8786-f300446fde54"
      },
      "source": [
        "Petrol = data2.loc[(data2['Fuel_Type'] == 'Petrol')]\n",
        "Petrol.groupby('Year').count()['Fuel_Type']"
      ],
      "execution_count": null,
      "outputs": [
        {
          "output_type": "execute_result",
          "data": {
            "text/plain": [
              "Year\n",
              "1998      3\n",
              "1999      2\n",
              "2000      2\n",
              "2001      5\n",
              "2002     10\n",
              "2003     12\n",
              "2004     25\n",
              "2005     37\n",
              "2006     56\n",
              "2007     89\n",
              "2008    107\n",
              "2009    114\n",
              "2010    208\n",
              "2011    236\n",
              "2012    197\n",
              "2013    226\n",
              "2014    292\n",
              "2015    291\n",
              "2016    331\n",
              "2017    267\n",
              "2018    154\n",
              "2019     46\n",
              "Name: Fuel_Type, dtype: int64"
            ]
          },
          "metadata": {
            "tags": []
          },
          "execution_count": 80
        }
      ]
    },
    {
      "cell_type": "code",
      "metadata": {
        "id": "xqPot4NIOqEQ",
        "colab_type": "code",
        "colab": {
          "base_uri": "https://localhost:8080/",
          "height": 408
        },
        "outputId": "12cb9aa1-24da-4aa8-fad5-986bdc0ae8f9"
      },
      "source": [
        "Diesel = data2.loc[(data2['Fuel_Type'] == 'Diesel')]\n",
        "Diesel.groupby('Year').count()['Fuel_Type']"
      ],
      "execution_count": null,
      "outputs": [
        {
          "output_type": "execute_result",
          "data": {
            "text/plain": [
              "Year\n",
              "1998      1\n",
              "2000      2\n",
              "2001      1\n",
              "2002      3\n",
              "2003      3\n",
              "2004      2\n",
              "2005     15\n",
              "2006     19\n",
              "2007     32\n",
              "2008     60\n",
              "2009     81\n",
              "2010    125\n",
              "2011    223\n",
              "2012    361\n",
              "2013    408\n",
              "2014    485\n",
              "2015    440\n",
              "2016    404\n",
              "2017    314\n",
              "2018    139\n",
              "2019     55\n",
              "Name: Fuel_Type, dtype: int64"
            ]
          },
          "metadata": {
            "tags": []
          },
          "execution_count": 81
        }
      ]
    },
    {
      "cell_type": "code",
      "metadata": {
        "id": "19BdbxJ7OzLI",
        "colab_type": "code",
        "colab": {
          "base_uri": "https://localhost:8080/",
          "height": 255
        },
        "outputId": "7e4a518b-06ae-4734-f298-f05feb21aa8f"
      },
      "source": [
        "CNG = data2.loc[(data2['Fuel_Type'] == 'CNG')]\n",
        "CNG.groupby('Year').count()['Fuel_Type']"
      ],
      "execution_count": null,
      "outputs": [
        {
          "output_type": "execute_result",
          "data": {
            "text/plain": [
              "Year\n",
              "2005     1\n",
              "2008     1\n",
              "2010     3\n",
              "2011     1\n",
              "2012     7\n",
              "2013     9\n",
              "2014    11\n",
              "2015     9\n",
              "2016     4\n",
              "2017     5\n",
              "2018     4\n",
              "2019     1\n",
              "Name: Fuel_Type, dtype: int64"
            ]
          },
          "metadata": {
            "tags": []
          },
          "execution_count": 82
        }
      ]
    },
    {
      "cell_type": "code",
      "metadata": {
        "id": "5F0ZjA3VPk_M",
        "colab_type": "code",
        "colab": {
          "base_uri": "https://localhost:8080/",
          "height": 153
        },
        "outputId": "355423a5-f8b2-4467-93f3-a33bcb647608"
      },
      "source": [
        "LPG = data2.loc[(data2['Fuel_Type'] == 'LPG')]\n",
        "LPG.groupby('Year').count()['Fuel_Type']"
      ],
      "execution_count": null,
      "outputs": [
        {
          "output_type": "execute_result",
          "data": {
            "text/plain": [
              "Year\n",
              "2007    1\n",
              "2008    1\n",
              "2010    2\n",
              "2011    1\n",
              "2012    4\n",
              "2014    1\n",
              "Name: Fuel_Type, dtype: int64"
            ]
          },
          "metadata": {
            "tags": []
          },
          "execution_count": 83
        }
      ]
    },
    {
      "cell_type": "code",
      "metadata": {
        "id": "wacTIF79eMIb",
        "colab_type": "code",
        "colab": {
          "base_uri": "https://localhost:8080/",
          "height": 1000
        },
        "outputId": "97f3400a-e4a9-4749-e92c-7c032585005b"
      },
      "source": [
        "MobilMahal = data2.loc[(data2['Merk'] == 'Lamborghini') | (data2['Merk'] == 'Bentley') | (data2['Merk'] == 'Porsche')]\n",
        "MobilMahal"
      ],
      "execution_count": null,
      "outputs": [
        {
          "output_type": "execute_result",
          "data": {
            "text/html": [
              "<div>\n",
              "<style scoped>\n",
              "    .dataframe tbody tr th:only-of-type {\n",
              "        vertical-align: middle;\n",
              "    }\n",
              "\n",
              "    .dataframe tbody tr th {\n",
              "        vertical-align: top;\n",
              "    }\n",
              "\n",
              "    .dataframe thead th {\n",
              "        text-align: right;\n",
              "    }\n",
              "</style>\n",
              "<table border=\"1\" class=\"dataframe\">\n",
              "  <thead>\n",
              "    <tr style=\"text-align: right;\">\n",
              "      <th></th>\n",
              "      <th>Name</th>\n",
              "      <th>Location</th>\n",
              "      <th>Year</th>\n",
              "      <th>Kilometers_Driven</th>\n",
              "      <th>Fuel_Type</th>\n",
              "      <th>Transmission</th>\n",
              "      <th>Owner_Type</th>\n",
              "      <th>Mileage</th>\n",
              "      <th>Engine</th>\n",
              "      <th>Power</th>\n",
              "      <th>Seats</th>\n",
              "      <th>Price</th>\n",
              "      <th>Merk</th>\n",
              "    </tr>\n",
              "  </thead>\n",
              "  <tbody>\n",
              "    <tr>\n",
              "      <th>3635</th>\n",
              "      <td>Porsche Cayenne 2009-2014 Turbo</td>\n",
              "      <td>Mumbai</td>\n",
              "      <td>2008</td>\n",
              "      <td>73000</td>\n",
              "      <td>Petrol</td>\n",
              "      <td>Automatic</td>\n",
              "      <td>First</td>\n",
              "      <td>8.5</td>\n",
              "      <td>4806</td>\n",
              "      <td>500.0</td>\n",
              "      <td>5.0</td>\n",
              "      <td>14.50</td>\n",
              "      <td>Porsche</td>\n",
              "    </tr>\n",
              "    <tr>\n",
              "      <th>4965</th>\n",
              "      <td>Porsche Cayenne Diesel</td>\n",
              "      <td>Mumbai</td>\n",
              "      <td>2013</td>\n",
              "      <td>70000</td>\n",
              "      <td>Diesel</td>\n",
              "      <td>Automatic</td>\n",
              "      <td>First</td>\n",
              "      <td>15.15</td>\n",
              "      <td>2967</td>\n",
              "      <td>240.0</td>\n",
              "      <td>5.0</td>\n",
              "      <td>40.00</td>\n",
              "      <td>Porsche</td>\n",
              "    </tr>\n",
              "    <tr>\n",
              "      <th>1759</th>\n",
              "      <td>Porsche Cayenne S Diesel</td>\n",
              "      <td>Coimbatore</td>\n",
              "      <td>2016</td>\n",
              "      <td>65003</td>\n",
              "      <td>Diesel</td>\n",
              "      <td>Automatic</td>\n",
              "      <td>First</td>\n",
              "      <td>13.6</td>\n",
              "      <td>4134</td>\n",
              "      <td>382.0</td>\n",
              "      <td>5.0</td>\n",
              "      <td>67.83</td>\n",
              "      <td>Porsche</td>\n",
              "    </tr>\n",
              "    <tr>\n",
              "      <th>1180</th>\n",
              "      <td>Porsche Cayenne Diesel</td>\n",
              "      <td>Coimbatore</td>\n",
              "      <td>2015</td>\n",
              "      <td>60395</td>\n",
              "      <td>Diesel</td>\n",
              "      <td>Automatic</td>\n",
              "      <td>First</td>\n",
              "      <td>16.12</td>\n",
              "      <td>2967</td>\n",
              "      <td>245.0</td>\n",
              "      <td>5.0</td>\n",
              "      <td>45.82</td>\n",
              "      <td>Porsche</td>\n",
              "    </tr>\n",
              "    <tr>\n",
              "      <th>26</th>\n",
              "      <td>Porsche Panamera Diesel 250hp</td>\n",
              "      <td>Kochi</td>\n",
              "      <td>2014</td>\n",
              "      <td>60033</td>\n",
              "      <td>Diesel</td>\n",
              "      <td>Automatic</td>\n",
              "      <td>First</td>\n",
              "      <td>18.18</td>\n",
              "      <td>2967</td>\n",
              "      <td>250.0</td>\n",
              "      <td>4.0</td>\n",
              "      <td>51.52</td>\n",
              "      <td>Porsche</td>\n",
              "    </tr>\n",
              "    <tr>\n",
              "      <th>45</th>\n",
              "      <td>Porsche Panamera Diesel</td>\n",
              "      <td>Kochi</td>\n",
              "      <td>2015</td>\n",
              "      <td>54996</td>\n",
              "      <td>Diesel</td>\n",
              "      <td>Automatic</td>\n",
              "      <td>First</td>\n",
              "      <td>17.85</td>\n",
              "      <td>2967</td>\n",
              "      <td>300.0</td>\n",
              "      <td>4.0</td>\n",
              "      <td>60.95</td>\n",
              "      <td>Porsche</td>\n",
              "    </tr>\n",
              "    <tr>\n",
              "      <th>106</th>\n",
              "      <td>Porsche Panamera Diesel</td>\n",
              "      <td>Delhi</td>\n",
              "      <td>2013</td>\n",
              "      <td>48000</td>\n",
              "      <td>Diesel</td>\n",
              "      <td>Automatic</td>\n",
              "      <td>Second</td>\n",
              "      <td>17.85</td>\n",
              "      <td>2967</td>\n",
              "      <td>300.0</td>\n",
              "      <td>4.0</td>\n",
              "      <td>50.50</td>\n",
              "      <td>Porsche</td>\n",
              "    </tr>\n",
              "    <tr>\n",
              "      <th>87</th>\n",
              "      <td>Bentley Continental Flying Spur</td>\n",
              "      <td>Hyderabad</td>\n",
              "      <td>2006</td>\n",
              "      <td>48000</td>\n",
              "      <td>Petrol</td>\n",
              "      <td>Automatic</td>\n",
              "      <td>First</td>\n",
              "      <td>8.6</td>\n",
              "      <td>5998</td>\n",
              "      <td>552.0</td>\n",
              "      <td>4.0</td>\n",
              "      <td>59.00</td>\n",
              "      <td>Bentley</td>\n",
              "    </tr>\n",
              "    <tr>\n",
              "      <th>1572</th>\n",
              "      <td>Porsche Cayenne 2009-2014 Diesel</td>\n",
              "      <td>Kochi</td>\n",
              "      <td>2015</td>\n",
              "      <td>47877</td>\n",
              "      <td>Diesel</td>\n",
              "      <td>Automatic</td>\n",
              "      <td>First</td>\n",
              "      <td>15.15</td>\n",
              "      <td>2967</td>\n",
              "      <td>240.0</td>\n",
              "      <td>5.0</td>\n",
              "      <td>48.22</td>\n",
              "      <td>Porsche</td>\n",
              "    </tr>\n",
              "    <tr>\n",
              "      <th>37</th>\n",
              "      <td>Porsche Panamera 2010 2013 4S</td>\n",
              "      <td>Coimbatore</td>\n",
              "      <td>2010</td>\n",
              "      <td>42400</td>\n",
              "      <td>Petrol</td>\n",
              "      <td>Automatic</td>\n",
              "      <td>Third</td>\n",
              "      <td>8.0</td>\n",
              "      <td>4806</td>\n",
              "      <td>394.3</td>\n",
              "      <td>4.0</td>\n",
              "      <td>42.91</td>\n",
              "      <td>Porsche</td>\n",
              "    </tr>\n",
              "    <tr>\n",
              "      <th>109</th>\n",
              "      <td>Porsche Panamera Diesel</td>\n",
              "      <td>Hyderabad</td>\n",
              "      <td>2013</td>\n",
              "      <td>40000</td>\n",
              "      <td>Diesel</td>\n",
              "      <td>Automatic</td>\n",
              "      <td>Second</td>\n",
              "      <td>17.85</td>\n",
              "      <td>2967</td>\n",
              "      <td>300.0</td>\n",
              "      <td>4.0</td>\n",
              "      <td>45.00</td>\n",
              "      <td>Porsche</td>\n",
              "    </tr>\n",
              "    <tr>\n",
              "      <th>30</th>\n",
              "      <td>Porsche Panamera 2010 2013 Diesel</td>\n",
              "      <td>Delhi</td>\n",
              "      <td>2013</td>\n",
              "      <td>36400</td>\n",
              "      <td>Diesel</td>\n",
              "      <td>Automatic</td>\n",
              "      <td>First</td>\n",
              "      <td>7.5</td>\n",
              "      <td>4806</td>\n",
              "      <td>394.3</td>\n",
              "      <td>4.0</td>\n",
              "      <td>72.00</td>\n",
              "      <td>Porsche</td>\n",
              "    </tr>\n",
              "    <tr>\n",
              "      <th>4307</th>\n",
              "      <td>Porsche Cayenne Turbo S</td>\n",
              "      <td>Mumbai</td>\n",
              "      <td>2010</td>\n",
              "      <td>35000</td>\n",
              "      <td>Petrol</td>\n",
              "      <td>Automatic</td>\n",
              "      <td>Second</td>\n",
              "      <td>11.9</td>\n",
              "      <td>4806</td>\n",
              "      <td>550.0</td>\n",
              "      <td>5.0</td>\n",
              "      <td>32.00</td>\n",
              "      <td>Porsche</td>\n",
              "    </tr>\n",
              "    <tr>\n",
              "      <th>38</th>\n",
              "      <td>Porsche Panamera Diesel</td>\n",
              "      <td>Kolkata</td>\n",
              "      <td>2015</td>\n",
              "      <td>25100</td>\n",
              "      <td>Diesel</td>\n",
              "      <td>Automatic</td>\n",
              "      <td>First</td>\n",
              "      <td>17.85</td>\n",
              "      <td>2967</td>\n",
              "      <td>300.0</td>\n",
              "      <td>4.0</td>\n",
              "      <td>75.00</td>\n",
              "      <td>Porsche</td>\n",
              "    </tr>\n",
              "    <tr>\n",
              "      <th>59</th>\n",
              "      <td>Porsche Panamera Diesel</td>\n",
              "      <td>Bangalore</td>\n",
              "      <td>2013</td>\n",
              "      <td>19828</td>\n",
              "      <td>Diesel</td>\n",
              "      <td>Automatic</td>\n",
              "      <td>Second</td>\n",
              "      <td>17.85</td>\n",
              "      <td>2967</td>\n",
              "      <td>300.0</td>\n",
              "      <td>4.0</td>\n",
              "      <td>75.00</td>\n",
              "      <td>Porsche</td>\n",
              "    </tr>\n",
              "    <tr>\n",
              "      <th>886</th>\n",
              "      <td>Porsche Cayenne Base</td>\n",
              "      <td>Kochi</td>\n",
              "      <td>2019</td>\n",
              "      <td>14298</td>\n",
              "      <td>Petrol</td>\n",
              "      <td>Automatic</td>\n",
              "      <td>First</td>\n",
              "      <td>13.33</td>\n",
              "      <td>2995</td>\n",
              "      <td>340.0</td>\n",
              "      <td>5.0</td>\n",
              "      <td>2.02</td>\n",
              "      <td>Porsche</td>\n",
              "    </tr>\n",
              "    <tr>\n",
              "      <th>13</th>\n",
              "      <td>Porsche Boxster S tiptronic</td>\n",
              "      <td>Kolkata</td>\n",
              "      <td>2015</td>\n",
              "      <td>10512</td>\n",
              "      <td>Petrol</td>\n",
              "      <td>Automatic</td>\n",
              "      <td>First</td>\n",
              "      <td>8.6</td>\n",
              "      <td>2706</td>\n",
              "      <td>265.0</td>\n",
              "      <td>2.0</td>\n",
              "      <td>64.00</td>\n",
              "      <td>Porsche</td>\n",
              "    </tr>\n",
              "    <tr>\n",
              "      <th>12</th>\n",
              "      <td>Porsche Cayman 2009-2012 S</td>\n",
              "      <td>Hyderabad</td>\n",
              "      <td>2010</td>\n",
              "      <td>10000</td>\n",
              "      <td>Petrol</td>\n",
              "      <td>Manual</td>\n",
              "      <td>First</td>\n",
              "      <td>9.0</td>\n",
              "      <td>3436</td>\n",
              "      <td>0.0</td>\n",
              "      <td>2.0</td>\n",
              "      <td>40.00</td>\n",
              "      <td>Porsche</td>\n",
              "    </tr>\n",
              "    <tr>\n",
              "      <th>5</th>\n",
              "      <td>Porsche Cayman 2009-2012 S tiptronic</td>\n",
              "      <td>Mumbai</td>\n",
              "      <td>2011</td>\n",
              "      <td>8000</td>\n",
              "      <td>Petrol</td>\n",
              "      <td>Automatic</td>\n",
              "      <td>First</td>\n",
              "      <td>9.0</td>\n",
              "      <td>3436</td>\n",
              "      <td>0.0</td>\n",
              "      <td>2.0</td>\n",
              "      <td>43.00</td>\n",
              "      <td>Porsche</td>\n",
              "    </tr>\n",
              "    <tr>\n",
              "      <th>7</th>\n",
              "      <td>Lamborghini Gallardo Coupe</td>\n",
              "      <td>Delhi</td>\n",
              "      <td>2011</td>\n",
              "      <td>6500</td>\n",
              "      <td>Petrol</td>\n",
              "      <td>Automatic</td>\n",
              "      <td>Third</td>\n",
              "      <td>6.4</td>\n",
              "      <td>5204</td>\n",
              "      <td>560.0</td>\n",
              "      <td>2.0</td>\n",
              "      <td>120.00</td>\n",
              "      <td>Lamborghini</td>\n",
              "    </tr>\n",
              "  </tbody>\n",
              "</table>\n",
              "</div>"
            ],
            "text/plain": [
              "                                      Name    Location  ...   Price         Merk\n",
              "3635       Porsche Cayenne 2009-2014 Turbo      Mumbai  ...   14.50      Porsche\n",
              "4965                Porsche Cayenne Diesel      Mumbai  ...   40.00      Porsche\n",
              "1759              Porsche Cayenne S Diesel  Coimbatore  ...   67.83      Porsche\n",
              "1180                Porsche Cayenne Diesel  Coimbatore  ...   45.82      Porsche\n",
              "26           Porsche Panamera Diesel 250hp       Kochi  ...   51.52      Porsche\n",
              "45                 Porsche Panamera Diesel       Kochi  ...   60.95      Porsche\n",
              "106                Porsche Panamera Diesel       Delhi  ...   50.50      Porsche\n",
              "87         Bentley Continental Flying Spur   Hyderabad  ...   59.00      Bentley\n",
              "1572      Porsche Cayenne 2009-2014 Diesel       Kochi  ...   48.22      Porsche\n",
              "37           Porsche Panamera 2010 2013 4S  Coimbatore  ...   42.91      Porsche\n",
              "109                Porsche Panamera Diesel   Hyderabad  ...   45.00      Porsche\n",
              "30       Porsche Panamera 2010 2013 Diesel       Delhi  ...   72.00      Porsche\n",
              "4307               Porsche Cayenne Turbo S      Mumbai  ...   32.00      Porsche\n",
              "38                 Porsche Panamera Diesel     Kolkata  ...   75.00      Porsche\n",
              "59                 Porsche Panamera Diesel   Bangalore  ...   75.00      Porsche\n",
              "886                   Porsche Cayenne Base       Kochi  ...    2.02      Porsche\n",
              "13             Porsche Boxster S tiptronic     Kolkata  ...   64.00      Porsche\n",
              "12              Porsche Cayman 2009-2012 S   Hyderabad  ...   40.00      Porsche\n",
              "5     Porsche Cayman 2009-2012 S tiptronic      Mumbai  ...   43.00      Porsche\n",
              "7               Lamborghini Gallardo Coupe       Delhi  ...  120.00  Lamborghini\n",
              "\n",
              "[20 rows x 13 columns]"
            ]
          },
          "metadata": {
            "tags": []
          },
          "execution_count": 91
        }
      ]
    }
  ]
}